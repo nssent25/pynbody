{
 "cells": [
  {
   "cell_type": "markdown",
   "id": "3ecdca4f",
   "metadata": {},
   "source": [
    "# Plot Halo Mergers\n",
    "Nithun Selva, July 2025\n",
    "\n",
    "This notebook assumes that you have the output from `run_Anna_startrace.ipynb` available."
   ]
  },
  {
   "cell_type": "markdown",
   "id": "c554bc6b",
   "metadata": {},
   "source": [
    "### Import"
   ]
  },
  {
   "cell_type": "code",
   "execution_count": null,
   "id": "4a58c613",
   "metadata": {},
   "outputs": [
    {
     "data": {
      "text/plain": [
       "[<Simulation(\"r571.romulus25.3072g1HsbBH\")>,\n",
       " <Simulation(\"r442.romulus25.3072g1HsbBH\")>,\n",
       " <Simulation(\"r492.romulus25.3072g1HsbBH\")>,\n",
       " <Simulation(\"r515.romulus25.3072g1HsbBH\")>,\n",
       " <Simulation(\"r523.romulus25.3072g1HsbBH\")>,\n",
       " <Simulation(\"r544.romulus25.3072g1HsbBH\")>,\n",
       " <Simulation(\"r556.romulus25.3072g1HsbBH\")>,\n",
       " <Simulation(\"r568.romulus25.3072g1HsbBH\")>,\n",
       " <Simulation(\"r569.romulus25.3072g1HsbBH\")>,\n",
       " <Simulation(\"r597.romulus25.3072g1HsbBH\")>,\n",
       " <Simulation(\"r613.romulus25.3072g1HsbBH\")>,\n",
       " <Simulation(\"r615.romulus25.3072g1HsbBH\")>,\n",
       " <Simulation(\"r618.romulus25.3072g1HsbBH\")>,\n",
       " <Simulation(\"r634.romulus25.3072g1HsbBH\")>,\n",
       " <Simulation(\"r468.romulus25.3072g1HsbBH\")>,\n",
       " <Simulation(\"r488.romulus25.3072g1HsbBH\")>,\n",
       " <Simulation(\"r431.romulus25.3072g1HsbBH\")>,\n",
       " <Simulation(\"r614.romulus25.3072g1HsbBH\")>,\n",
       " <Simulation(\"r718.romulus25.3072g1HsbBH\")>,\n",
       " <Simulation(\"r719.romulus25.3072g1HsbBH\")>,\n",
       " <Simulation(\"r741.romulus25.3072g1HsbBH\")>,\n",
       " <Simulation(\"r916.romulus25.3072g1HsbBH\")>,\n",
       " <Simulation(\"r918.romulus25.3072g1HsbBH\")>,\n",
       " <Simulation(\"r968.romulus25.3072g1HsbBH\")>,\n",
       " <Simulation(\"r552.romulus25.3072g1HsbBH\")>,\n",
       " <Simulation(\"r642.romulus25.3072g1HsbBH\")>,\n",
       " <Simulation(\"r656.romulus25.3072g1HsbBH\")>,\n",
       " <Simulation(\"r749.romulus25.3072g1HsbBH\")>,\n",
       " <Simulation(\"r753.romulus25.3072g1HsbBH\")>,\n",
       " <Simulation(\"r761.romulus25.3072g1HsbBH\")>,\n",
       " <Simulation(\"r886.romulus25.3072g1HsbBH\")>,\n",
       " <Simulation(\"r977.romulus25.3072g1HsbBH\")>,\n",
       " <Simulation(\"r489.romulus25.3072g1HsbBH\")>,\n",
       " <Simulation(\"r563.romulus25.3072g1HsbBH\")>,\n",
       " <Simulation(\"r707.romulus25.3072g1HsbBH\")>,\n",
       " <Simulation(\"r716.romulus25.3072g1HsbBH\")>,\n",
       " <Simulation(\"r850.romulus25.3072g1HsbBH\")>,\n",
       " <Simulation(\"r852.romulus25.3072g1HsbBH\")>,\n",
       " <Simulation(\"r1023.romulus25.3072g1HsbBH\")>,\n",
       " <Simulation(\"r555.romulus25.3072g1HsbBH\")>,\n",
       " <Simulation(\"r502.romulus25.3072g1HsbBH\")>]"
      ]
     },
     "execution_count": 2,
     "metadata": {},
     "output_type": "execute_result"
    }
   ],
   "source": [
    "%matplotlib inline\n",
    "import os\n",
    "import socket\n",
    "hostname = socket.gethostname()\n",
    "if 'emu' in hostname:\n",
    "    os.environ['TANGOS_SIMULATION_FOLDER'] = '/home/ns1917/tangos_sims/storm.4096g5HbwK1BH_bn/'\n",
    "    os.environ['TANGOS_SIMULATION_FOLDER'] = '/home/ns1917/Sims/romulus_zooms/r442.romulus25.3072g1HsbBH/'\n",
    "    # os.environ['TANGOS_DB_CONNECTION'] = '/home/ns1917/Databases/Marvel_BN_N10.db'\n",
    "    os.environ['TANGOS_DB_CONNECTION'] = '/home/ns1917/pynbody/Tangos/Marvel_BN_N10.db'\n",
    "    os.environ['TANGOS_DB_CONNECTION'] = '/home/ns1917/Sims/romulus_zooms/rom25_dwarf_zooms.db'\n",
    "    os.chdir('/home/ns1917/pynbody/AnnaWright_startrace/')\n",
    "else: # grinnell\n",
    "    os.environ['TANGOS_SIMULATION_FOLDER'] = '/home/selvani/MAP/Sims/cptmarvel.cosmo25cmb/cptmarvel.cosmo25cmb.4096g5HbwK1BH/'\n",
    "    # os.environ['TANGOS_DB_CONNECTION'] = '/home/selvani/MAP/Data/Marvel_BN_N10.db'\n",
    "    os.environ['TANGOS_DB_CONNECTION'] = '/home/selvani/MAP/pynbody/Tangos/Marvel_BN_N10.db'\n",
    "    os.chdir('/home/selvani/MAP/pynbody/AnnaWright_startrace/')\n",
    "\n",
    "import pynbody\n",
    "import numpy as np\n",
    "import h5py\n",
    "import math\n",
    "import tangos as db\n",
    "import matplotlib.pyplot as plt\n",
    "import matplotlib.patches as mpatches\n",
    "import glob\n",
    "from pynbody.array import SimArray\n",
    "import pandas as pd\n",
    "import tqdm.auto as tqdm\n",
    "db.all_simulations()"
   ]
  },
  {
   "cell_type": "code",
   "execution_count": null,
   "id": "939daf0f",
   "metadata": {},
   "outputs": [],
   "source": [
    "# Simulation name and path\n",
    "if 'emu' in hostname:\n",
    "    simpath = '/home/ns1917/tangos_sims/'\n",
    "    outfile_dir = \"/home/ns1917/pynbody/stellarhalo_trace_aw/\"\n",
    "else:\n",
    "    simpath = '/home/selvani/MAP/Sims/cptmarvel.cosmo25cmb/cptmarvel.cosmo25cmb.4096g5HbwK1BH/'\n",
    "    outfile_dir = \"/home/selvani/MAP/pynbody/stellarhalo_trace_aw/\"\n",
    "\n",
    "# basename = 'cptmarvel.cosmo25cmb.4096g5HbwK1BH'\n",
    "# basename = 'rogue.cosmo25cmb.4096g5HbwK1BH'\n",
    "basename = 'storm.cosmo25cmb.4096g5HbwK1BH'\n",
    "basename = 'r442.romulus25.3072g1HsbBH'\n",
    "# ss_dir = 'cptmarvel.4096g5HbwK1BH_bn'#'snapshots_200crit_h329' # same as db_sim?\n",
    "# ss_dir = 'rogue.4096g5HbwK1BH_bn'\n",
    "ss_dir = 'storm.4096g5HbwK1BH_bn'\n",
    "sim_base = simpath + ss_dir + '/'\n",
    "ss_z0 = sim_base + basename + '.004096'"
   ]
  },
  {
   "cell_type": "code",
   "execution_count": 3,
   "id": "45a9194e",
   "metadata": {},
   "outputs": [
    {
     "name": "stdout",
     "output_type": "stream",
     "text": [
      "There are 31851 halos in the snapshot.\n",
      "Halo ID: 1, Mass: 6.41e+10M☉, Stars: 2854124\n",
      "Halo ID: 2, Mass: 3.25e+10M☉, Stars: 581636\n",
      "Halo ID: 3, Mass: 2.12e+10M☉, Stars: 143680\n",
      "Halo ID: 4, Mass: 1.42e+10M☉, Stars: 225480\n",
      "Halo ID: 5, Mass: 8.38e+09M☉, Stars: 49882\n",
      "Halo ID: 6, Mass: 7.68e+09M☉, Stars: 20212\n",
      "Halo ID: 7, Mass: 7.32e+09M☉, Stars: 65167\n",
      "Halo ID: 8, Mass: 6.97e+09M☉, Stars: 62251\n",
      "Halo ID: 10, Mass: 6.34e+09M☉, Stars: 2032\n",
      "Halo ID: 11, Mass: 4.92e+09M☉, Stars: 3257\n",
      "Halo ID: 13, Mass: 4.78e+09M☉, Stars: 10030\n",
      "Halo ID: 14, Mass: 3.00e+09M☉, Stars: 5615\n",
      "Halo ID: 15, Mass: 2.69e+09M☉, Stars: 3\n",
      "Halo ID: 16, Mass: 2.59e+09M☉, Stars: 1949\n",
      "Halo ID: 17, Mass: 2.63e+09M☉, Stars: 430\n",
      "Halo ID: 20, Mass: 8.96e+09M☉, Stars: 14754\n",
      "Halo ID: 22, Mass: 8.85e+09M☉, Stars: 1081\n",
      "Halo ID: 23, Mass: 1.63e+09M☉, Stars: 79\n",
      "Halo ID: 24, Mass: 1.53e+09M☉, Stars: 1470\n",
      "Halo ID: 28, Mass: 1.21e+09M☉, Stars: 4\n",
      "Halo ID: 39, Mass: 4.21e+09M☉, Stars: 494\n",
      "Halo ID: 72, Mass: 2.41e+09M☉, Stars: 511\n"
     ]
    }
   ],
   "source": [
    "timestep = db.get_timestep(ss_dir+'/%'+str(4096))\n",
    "all_halos = timestep.halos.all()\n",
    "print(\"There are %d halos in the snapshot.\" % len(all_halos))\n",
    "\n",
    "# Filter for halos with stars\n",
    "halos_with_stars = [h for h in all_halos if h.NStar > 0 and h['Mvir'] > 1e9]\n",
    "for halo in halos_with_stars:\n",
    "    print(\"Halo ID: %s, Mass: %1.2eM☉, Stars: %d\" % (halo.halo_number, halo['Mvir'], halo.NStar))"
   ]
  },
  {
   "cell_type": "code",
   "execution_count": 4,
   "id": "d7e73711",
   "metadata": {},
   "outputs": [],
   "source": [
    "# Read in data from Anna's pipeline\n",
    "with h5py.File(outfile_dir+'/'+basename+'_allhalostardata.h5','r') as f:\n",
    "    hostids = f['host_IDs'].asstr()[:] # unique host IDs\n",
    "    partids = f['particle_IDs'][:] # iords\n",
    "    pct = f['particle_creation_times'][:] # formation times\n",
    "    ph = f['particle_hosts'][:] # local host IDs (i.e., host at formation time)\n",
    "    pp = f['particle_positions'][:] # position at formation time\n",
    "    tsloc = f['timestep_location'][:] # snapshot where star particle first appears\n",
    "uIDs = np.unique(hostids)"
   ]
  },
  {
   "cell_type": "code",
   "execution_count": 5,
   "id": "069791dc",
   "metadata": {},
   "outputs": [],
   "source": [
    "halo_particle_dict = {} # map iords to their unique host IDs\n",
    "for i, part in enumerate(partids):\n",
    "    halo_particle_dict[part] = hostids[i]"
   ]
  },
  {
   "cell_type": "code",
   "execution_count": 6,
   "id": "a00767ce",
   "metadata": {},
   "outputs": [
    {
     "data": {
      "text/plain": [
       "array(['4096_7', '4096_7', '4096_1', ..., '2304_14', '2304_14', '4096_1'],\n",
       "      dtype=object)"
      ]
     },
     "execution_count": 6,
     "metadata": {},
     "output_type": "execute_result"
    }
   ],
   "source": [
    "hostids"
   ]
  },
  {
   "cell_type": "code",
   "execution_count": 7,
   "id": "e96ef4fd",
   "metadata": {},
   "outputs": [
    {
     "data": {
      "text/plain": [
       "array(['0000_0', '0192_25', '0192_38', '0288_46', '0288_82', '0288_95',\n",
       "       '0384_39', '0384_47', '0384_68', '0480_15', '0480_19', '0480_43',\n",
       "       '0480_45', '0480_61', '0576_14', '0576_23', '0672_112', '0672_27',\n",
       "       '0672_30', '0672_35', '0672_9', '0768_63', '0864_26', '0864_90',\n",
       "       '0960_758', '0960_8', '1056_27', '1056_364', '1152_26', '1344_29',\n",
       "       '1440_25', '1440_49', '1536_25', '1632_6', '1728_3', '1728_93',\n",
       "       '1824_143', '2112_11', '2304_133', '2304_14', '2400_28', '2400_29',\n",
       "       '2496_127', '2496_224', '2496_61', '2592_193', '2592_240',\n",
       "       '2592_966', '2688_47', '2976_36', '3168_138', '3168_27', '3264_53',\n",
       "       '3456_270', '3456_56', '3552_300', '3648_85', '3648_90', '3744_13',\n",
       "       '4032_287', '4096_1', '4096_10', '4096_11', '4096_124', '4096_13',\n",
       "       '4096_14', '4096_16', '4096_192', '4096_2', '4096_20', '4096_208',\n",
       "       '4096_218', '4096_22', '4096_23', '4096_24', '4096_253', '4096_28',\n",
       "       '4096_292', '4096_3', '4096_34', '4096_35', '4096_39', '4096_4',\n",
       "       '4096_43', '4096_47', '4096_49', '4096_5', '4096_50', '4096_6',\n",
       "       '4096_60', '4096_7', '4096_72', '4096_8'], dtype=object)"
      ]
     },
     "execution_count": 7,
     "metadata": {},
     "output_type": "execute_result"
    }
   ],
   "source": [
    "uIDs"
   ]
  },
  {
   "cell_type": "code",
   "execution_count": 8,
   "id": "078ef368",
   "metadata": {},
   "outputs": [
    {
     "name": "stdout",
     "output_type": "stream",
     "text": [
      "Processing timestep: 000192\n",
      "Processing timestep: 000288\n",
      "Processing timestep: 000384\n",
      "Processing timestep: 000480\n",
      "Processing timestep: 000576\n",
      "Processing timestep: 000672\n",
      "Processing timestep: 000768\n",
      "Processing timestep: 000864\n",
      "Processing timestep: 000960\n",
      "Processing timestep: 001056\n",
      "Processing timestep: 001152\n",
      "Processing timestep: 001248\n",
      "Processing timestep: 001344\n",
      "Processing timestep: 001440\n",
      "Processing timestep: 001536\n",
      "Processing timestep: 001632\n",
      "Processing timestep: 001728\n",
      "Processing timestep: 001824\n",
      "Processing timestep: 001920\n",
      "Processing timestep: 002016\n",
      "Processing timestep: 002112\n",
      "Processing timestep: 002208\n",
      "Processing timestep: 002304\n",
      "Processing timestep: 002400\n",
      "Processing timestep: 002496\n",
      "Processing timestep: 002592\n",
      "Processing timestep: 002688\n",
      "Processing timestep: 002784\n",
      "Processing timestep: 002880\n",
      "Processing timestep: 002976\n",
      "Processing timestep: 003072\n",
      "Processing timestep: 003168\n",
      "Processing timestep: 003264\n",
      "Processing timestep: 003360\n",
      "Processing timestep: 003456\n",
      "Processing timestep: 003552\n",
      "Processing timestep: 003648\n",
      "Processing timestep: 003744\n",
      "Processing timestep: 003840\n",
      "Processing timestep: 003936\n",
      "Processing timestep: 004032\n",
      "Processing timestep: 004096\n"
     ]
    }
   ],
   "source": [
    "all_timesteps = db.get_simulation(ss_dir).timesteps\n",
    "halos_stars_dict = {}\n",
    "for timestep in all_timesteps:\n",
    "    # Get all halos in the current timestep with stars\n",
    "    # Kinda overkill, since we only need ones at 4096 for now\n",
    "    print('Processing timestep:', timestep.extension[-6:])\n",
    "    halos_stars_dict[timestep.extension[-6:]] = [h for h in timestep.halos.all() if h.NStar > 0]"
   ]
  },
  {
   "cell_type": "markdown",
   "id": "817e2b4c",
   "metadata": {},
   "source": [
    "### Loop"
   ]
  },
  {
   "cell_type": "code",
   "execution_count": 9,
   "id": "b6519d56",
   "metadata": {},
   "outputs": [
    {
     "data": {
      "text/plain": [
       "[<Halo 'storm.4096g5HbwK1BH_bn/storm.cosmo25cmb.4096g5HbwK1BH.004096/halo_1' | NDM=11956794 Nstar=2854124 Ngas=5544225>,\n",
       " <Halo 'storm.4096g5HbwK1BH_bn/storm.cosmo25cmb.4096g5HbwK1BH.004096/halo_2' | NDM=6020296 Nstar=581636 Ngas=3055754>,\n",
       " <Halo 'storm.4096g5HbwK1BH_bn/storm.cosmo25cmb.4096g5HbwK1BH.004096/halo_3' | NDM=4023224 Nstar=143680 Ngas=1610867>,\n",
       " <Halo 'storm.4096g5HbwK1BH_bn/storm.cosmo25cmb.4096g5HbwK1BH.004096/halo_4' | NDM=2840249 Nstar=225480 Ngas=364281>,\n",
       " <Halo 'storm.4096g5HbwK1BH_bn/storm.cosmo25cmb.4096g5HbwK1BH.004096/halo_5' | NDM=1674684 Nstar=49882 Ngas=222673>,\n",
       " <Halo 'storm.4096g5HbwK1BH_bn/storm.cosmo25cmb.4096g5HbwK1BH.004096/halo_6' | NDM=1521044 Nstar=20212 Ngas=279119>,\n",
       " <Halo 'storm.4096g5HbwK1BH_bn/storm.cosmo25cmb.4096g5HbwK1BH.004096/halo_7' | NDM=1473366 Nstar=65167 Ngas=139001>,\n",
       " <Halo 'storm.4096g5HbwK1BH_bn/storm.cosmo25cmb.4096g5HbwK1BH.004096/halo_8' | NDM=1407596 Nstar=62251 Ngas=115365>,\n",
       " <Halo 'storm.4096g5HbwK1BH_bn/storm.cosmo25cmb.4096g5HbwK1BH.004096/halo_10' | NDM=1253181 Nstar=2032 Ngas=235978>,\n",
       " <Halo 'storm.4096g5HbwK1BH_bn/storm.cosmo25cmb.4096g5HbwK1BH.004096/halo_11' | NDM=991560 Nstar=3257 Ngas=100103>,\n",
       " <Halo 'storm.4096g5HbwK1BH_bn/storm.cosmo25cmb.4096g5HbwK1BH.004096/halo_13' | NDM=970381 Nstar=10030 Ngas=57705>,\n",
       " <Halo 'storm.4096g5HbwK1BH_bn/storm.cosmo25cmb.4096g5HbwK1BH.004096/halo_14' | NDM=608250 Nstar=5615 Ngas=36809>,\n",
       " <Halo 'storm.4096g5HbwK1BH_bn/storm.cosmo25cmb.4096g5HbwK1BH.004096/halo_15' | NDM=552912 Nstar=3 Ngas=578>,\n",
       " <Halo 'storm.4096g5HbwK1BH_bn/storm.cosmo25cmb.4096g5HbwK1BH.004096/halo_16' | NDM=529401 Nstar=1949 Ngas=19193>,\n",
       " <Halo 'storm.4096g5HbwK1BH_bn/storm.cosmo25cmb.4096g5HbwK1BH.004096/halo_17' | NDM=539920 Nstar=430 Ngas=8662>,\n",
       " <Halo 'storm.4096g5HbwK1BH_bn/storm.cosmo25cmb.4096g5HbwK1BH.004096/halo_20' | NDM=230606 Nstar=14754 Ngas=220429>,\n",
       " <Halo 'storm.4096g5HbwK1BH_bn/storm.cosmo25cmb.4096g5HbwK1BH.004096/halo_22' | NDM=245286 Nstar=1081 Ngas=112817>,\n",
       " <Halo 'storm.4096g5HbwK1BH_bn/storm.cosmo25cmb.4096g5HbwK1BH.004096/halo_23' | NDM=335256 Nstar=79 Ngas=2020>,\n",
       " <Halo 'storm.4096g5HbwK1BH_bn/storm.cosmo25cmb.4096g5HbwK1BH.004096/halo_24' | NDM=314801 Nstar=1470 Ngas=501>,\n",
       " <Halo 'storm.4096g5HbwK1BH_bn/storm.cosmo25cmb.4096g5HbwK1BH.004096/halo_28' | NDM=247997 Nstar=4 Ngas=1343>,\n",
       " <Halo 'storm.4096g5HbwK1BH_bn/storm.cosmo25cmb.4096g5HbwK1BH.004096/halo_34' | NDM=198487 Nstar=329 Ngas=9>,\n",
       " <Halo 'storm.4096g5HbwK1BH_bn/storm.cosmo25cmb.4096g5HbwK1BH.004096/halo_35' | NDM=142073 Nstar=19076 Ngas=31447>,\n",
       " <Halo 'storm.4096g5HbwK1BH_bn/storm.cosmo25cmb.4096g5HbwK1BH.004096/halo_39' | NDM=138056 Nstar=494 Ngas=42771>,\n",
       " <Halo 'storm.4096g5HbwK1BH_bn/storm.cosmo25cmb.4096g5HbwK1BH.004096/halo_43' | NDM=170388 Nstar=60 Ngas=0>,\n",
       " <Halo 'storm.4096g5HbwK1BH_bn/storm.cosmo25cmb.4096g5HbwK1BH.004096/halo_47' | NDM=156691 Nstar=3 Ngas=71>,\n",
       " <Halo 'storm.4096g5HbwK1BH_bn/storm.cosmo25cmb.4096g5HbwK1BH.004096/halo_49' | NDM=147992 Nstar=543 Ngas=1>,\n",
       " <Halo 'storm.4096g5HbwK1BH_bn/storm.cosmo25cmb.4096g5HbwK1BH.004096/halo_50' | NDM=142055 Nstar=67 Ngas=0>,\n",
       " <Halo 'storm.4096g5HbwK1BH_bn/storm.cosmo25cmb.4096g5HbwK1BH.004096/halo_60' | NDM=105493 Nstar=90 Ngas=0>,\n",
       " <Halo 'storm.4096g5HbwK1BH_bn/storm.cosmo25cmb.4096g5HbwK1BH.004096/halo_72' | NDM=81675 Nstar=511 Ngas=4451>,\n",
       " <Halo 'storm.4096g5HbwK1BH_bn/storm.cosmo25cmb.4096g5HbwK1BH.004096/halo_109' | NDM=45851 Nstar=2120 Ngas=0>,\n",
       " <Halo 'storm.4096g5HbwK1BH_bn/storm.cosmo25cmb.4096g5HbwK1BH.004096/halo_124' | NDM=40439 Nstar=62 Ngas=0>,\n",
       " <Halo 'storm.4096g5HbwK1BH_bn/storm.cosmo25cmb.4096g5HbwK1BH.004096/halo_125' | NDM=37257 Nstar=2877 Ngas=0>,\n",
       " <Halo 'storm.4096g5HbwK1BH_bn/storm.cosmo25cmb.4096g5HbwK1BH.004096/halo_169' | NDM=27262 Nstar=31 Ngas=0>,\n",
       " <Halo 'storm.4096g5HbwK1BH_bn/storm.cosmo25cmb.4096g5HbwK1BH.004096/halo_192' | NDM=22608 Nstar=187 Ngas=0>,\n",
       " <Halo 'storm.4096g5HbwK1BH_bn/storm.cosmo25cmb.4096g5HbwK1BH.004096/halo_208' | NDM=21079 Nstar=101 Ngas=0>,\n",
       " <Halo 'storm.4096g5HbwK1BH_bn/storm.cosmo25cmb.4096g5HbwK1BH.004096/halo_218' | NDM=19852 Nstar=444 Ngas=0>,\n",
       " <Halo 'storm.4096g5HbwK1BH_bn/storm.cosmo25cmb.4096g5HbwK1BH.004096/halo_253' | NDM=16830 Nstar=69 Ngas=0>,\n",
       " <Halo 'storm.4096g5HbwK1BH_bn/storm.cosmo25cmb.4096g5HbwK1BH.004096/halo_292' | NDM=13764 Nstar=78 Ngas=0>,\n",
       " <Halo 'storm.4096g5HbwK1BH_bn/storm.cosmo25cmb.4096g5HbwK1BH.004096/halo_1004' | NDM=0 Nstar=3070 Ngas=0>,\n",
       " <Halo 'storm.4096g5HbwK1BH_bn/storm.cosmo25cmb.4096g5HbwK1BH.004096/halo_2423' | NDM=1 Nstar=1197 Ngas=0>,\n",
       " <Halo 'storm.4096g5HbwK1BH_bn/storm.cosmo25cmb.4096g5HbwK1BH.004096/halo_3127' | NDM=1 Nstar=919 Ngas=0>,\n",
       " <Halo 'storm.4096g5HbwK1BH_bn/storm.cosmo25cmb.4096g5HbwK1BH.004096/halo_3738' | NDM=1 Nstar=760 Ngas=0>,\n",
       " <Halo 'storm.4096g5HbwK1BH_bn/storm.cosmo25cmb.4096g5HbwK1BH.004096/halo_3809' | NDM=0 Nstar=746 Ngas=0>,\n",
       " <Halo 'storm.4096g5HbwK1BH_bn/storm.cosmo25cmb.4096g5HbwK1BH.004096/halo_5428' | NDM=0 Nstar=516 Ngas=0>,\n",
       " <Halo 'storm.4096g5HbwK1BH_bn/storm.cosmo25cmb.4096g5HbwK1BH.004096/halo_5490' | NDM=0 Nstar=508 Ngas=0>,\n",
       " <Halo 'storm.4096g5HbwK1BH_bn/storm.cosmo25cmb.4096g5HbwK1BH.004096/halo_5779' | NDM=474 Nstar=7 Ngas=0>,\n",
       " <Halo 'storm.4096g5HbwK1BH_bn/storm.cosmo25cmb.4096g5HbwK1BH.004096/halo_9399' | NDM=0 Nstar=283 Ngas=0>,\n",
       " <Halo 'storm.4096g5HbwK1BH_bn/storm.cosmo25cmb.4096g5HbwK1BH.004096/halo_13323' | NDM=0 Nstar=189 Ngas=0>,\n",
       " <Halo 'storm.4096g5HbwK1BH_bn/storm.cosmo25cmb.4096g5HbwK1BH.004096/halo_14526' | NDM=0 Nstar=169 Ngas=0>,\n",
       " <Halo 'storm.4096g5HbwK1BH_bn/storm.cosmo25cmb.4096g5HbwK1BH.004096/halo_15823' | NDM=0 Nstar=153 Ngas=0>,\n",
       " <Halo 'storm.4096g5HbwK1BH_bn/storm.cosmo25cmb.4096g5HbwK1BH.004096/halo_16720' | NDM=0 Nstar=143 Ngas=0>]"
      ]
     },
     "execution_count": 9,
     "metadata": {},
     "output_type": "execute_result"
    }
   ],
   "source": [
    "halos_stars_dict['004096']"
   ]
  },
  {
   "cell_type": "code",
   "execution_count": 26,
   "id": "54cac594",
   "metadata": {},
   "outputs": [],
   "source": [
    "num = 0"
   ]
  },
  {
   "cell_type": "code",
   "execution_count": 27,
   "id": "8374301c",
   "metadata": {},
   "outputs": [],
   "source": [
    "halo = halos_stars_dict['004096'][num]\n",
    "halo_numbers, dbids = halo.calculate_for_progenitors(\"halo_number()\", \"dbid()\")\n",
    "snapshots = [db.get_halo(dbid).timestep.extension[-6:] for dbid in dbids]\n",
    "halo_snapshots_dict = {snapshot: halo_number for snapshot, halo_number in zip(snapshots, dbids)}"
   ]
  },
  {
   "cell_type": "code",
   "execution_count": 28,
   "id": "f4327e52",
   "metadata": {},
   "outputs": [
    {
     "data": {
      "text/plain": [
       "<Halo 'storm.4096g5HbwK1BH_bn/storm.cosmo25cmb.4096g5HbwK1BH.004096/halo_1' | NDM=11956794 Nstar=2854124 Ngas=5544225>"
      ]
     },
     "execution_count": 28,
     "metadata": {},
     "output_type": "execute_result"
    }
   ],
   "source": [
    "db.get_halo(halo_snapshots_dict['004096'])"
   ]
  },
  {
   "cell_type": "code",
   "execution_count": 29,
   "id": "431f1579",
   "metadata": {},
   "outputs": [
    {
     "name": "stdout",
     "output_type": "stream",
     "text": [
      "004096 1\n"
     ]
    }
   ],
   "source": [
    "print(halo.timestep.extension[-6:], halo.halo_number)"
   ]
  },
  {
   "cell_type": "code",
   "execution_count": 30,
   "id": "2fa7a5e6",
   "metadata": {},
   "outputs": [],
   "source": [
    "def plot_halo_mergers(sp,mask,haloids,color_map,timestep,rad=None,savepath=None):\n",
    "    \"\"\"Plots stellar positions from a simulation in three 2D projections.\n",
    "\n",
    "    This function generates a 1x3 matplotlib figure showing XY, YZ, and XZ\n",
    "    scatter plots of star particle positions. Particles are colored based on\n",
    "    their unique host halo ID. The function includes an optional legend and\n",
    "    can save the figure to a file.\n",
    "\n",
    "    Args:\n",
    "        sp (pynbody.snapshot.SimSnap): \n",
    "            The pynbody snapshot or sub-snapshot containing the particle data.\n",
    "        mask (array): \n",
    "            A boolean mask or array of indices used to select the desired \n",
    "            star particles from `sp`.\n",
    "        haloids (array): \n",
    "            A list of original host halo IDs, corresponding to the particles \n",
    "            selected by `mask`.\n",
    "        color_map (dict): \n",
    "            A dictionary mapping each unique halo ID from `haloids` to a \n",
    "            matplotlib color.\n",
    "        timestep (str or int): \n",
    "            The identifier for the current timestep, used in the main figure title.\n",
    "        rad (float, optional): \n",
    "            The radius for the plot limits. If provided, the x and y axes for \n",
    "            each projection are set to `[-rad, rad]`. Defaults to None.\n",
    "        savepath (str, optional): \n",
    "            The file path to save the generated plot. If None, the plot is \n",
    "            only displayed. Defaults to None.\n",
    "            \n",
    "    Returns:\n",
    "        None\n",
    "    \"\"\"\n",
    "    # Create an array of colors for each star particle\n",
    "    particle_colors = [color_map[hid] for hid in haloids]\n",
    "    # Create the scatter plot\n",
    "    fig, axes = plt.subplots(1, 3, figsize=(54, 18))\n",
    "    # Define projections\n",
    "    projections = [\n",
    "        {'ax': axes[0], 'dims': [0, 1], 'labels': ['x (kpc)', 'y (kpc)'], 'title': 'X-Y Projection'},\n",
    "        {'ax': axes[1], 'dims': [1, 2], 'labels': ['y (kpc)', 'z (kpc)'], 'title': 'Y-Z Projection'},\n",
    "        {'ax': axes[2], 'dims': [0, 2], 'labels': ['x (kpc)', 'z (kpc)'], 'title': 'X-Z Projection'}\n",
    "    ]\n",
    "\n",
    "    pos_data = sp.s['pos'][mask]\n",
    "\n",
    "    for proj in projections:\n",
    "        ax = proj['ax']\n",
    "        dim1 = proj['dims'][0]\n",
    "        dim2 = proj['dims'][1]\n",
    "\n",
    "        ax.scatter(\n",
    "            pos_data[:, dim1], \n",
    "            pos_data[:, dim2],\n",
    "            c=particle_colors,\n",
    "            s=25.0,  # Marker size\n",
    "            alpha=0.25, # Use transparency to see overlapping structures\n",
    "            edgecolors='none' # Remove marker edges for a cleaner look\n",
    "        )\n",
    "\n",
    "        ax.set_title(proj['title'], fontsize=14)\n",
    "        ax.set_xlabel(proj['labels'][0], fontsize=12)\n",
    "        ax.set_ylabel(proj['labels'][1], fontsize=12)\n",
    "\n",
    "        if rad:\n",
    "            ax.set_xlim(-rad, rad)\n",
    "            ax.set_ylim(-rad, rad)\n",
    "\n",
    "    # Display the legend\n",
    "    legend_patches = [mpatches.Patch(color=color_map[hid], label=hid) for hid in np.unique(haloids)]\n",
    "    if len(legend_patches) <= 20:\n",
    "        axes[0].legend(handles=legend_patches, title=\"Original Halo ID\", loc='upper right', fontsize=8)\n",
    "    else:\n",
    "        print(f\"Warning: {len(legend_patches)} unique halos found. Legend will not be displayed to avoid clutter.\")\n",
    "\n",
    "    fig.suptitle(f\"Snapshot {timestep}\", fontsize=18, y=1.02)\n",
    "    plt.tight_layout(rect=[0, 0, 1, 0.98])\n",
    "    if savepath:\n",
    "        print(f\"Saving plot to {savepath}\")\n",
    "        plt.savefig(savepath, bbox_inches='tight')\n",
    "    plt.show()"
   ]
  },
  {
   "cell_type": "code",
   "execution_count": 31,
   "id": "e92adca2",
   "metadata": {},
   "outputs": [],
   "source": [
    "def make_colormap(unique_haloids):\n",
    "    \"\"\"Creates a color map for the unique halo IDs.\n",
    "\n",
    "    Args:\n",
    "        unique_haloids (array): A list of unique halo IDs.\n",
    "\n",
    "    Returns:\n",
    "        dict: A dictionary mapping halo IDs to their corresponding colors.\n",
    "    \"\"\"\n",
    "    if len(unique_haloids) <= 10:\n",
    "        colors = plt.cm.get_cmap('Accent', len(unique_haloids))\n",
    "    else:\n",
    "        # For more than 10 halos, 'viridis' or 'plasma' can work, though colors may be less distinct\n",
    "        colors = plt.cm.get_cmap('viridis', len(unique_haloids))\n",
    "\n",
    "    color_map = {hid: colors(i) for i, hid in enumerate(unique_haloids)}\n",
    "    return color_map"
   ]
  },
  {
   "cell_type": "code",
   "execution_count": 32,
   "id": "6edf7ad6",
   "metadata": {},
   "outputs": [
    {
     "name": "stdout",
     "output_type": "stream",
     "text": [
      "000960\n",
      "001056\n",
      "001152\n",
      "001248\n",
      "001344\n",
      "001440\n",
      "001536\n",
      "001632\n",
      "001728\n",
      "001824\n",
      "001920\n",
      "002016\n",
      "002112\n",
      "002208\n",
      "002304\n",
      "002400\n",
      "002496\n",
      "002592\n",
      "002688\n",
      "002784\n",
      "002880\n",
      "002976\n",
      "003072\n",
      "003168\n",
      "003264\n",
      "003360\n",
      "003456\n",
      "003552\n",
      "003648\n",
      "003744\n",
      "003840\n",
      "003936\n",
      "004032\n",
      "004096\n"
     ]
    }
   ],
   "source": [
    "# Since we center the plot on shrink_center, test for its existence\n",
    "#! Halo 1025 cpt marvel is missing this\n",
    "all_timesteps = db.get_simulation(ss_dir).timesteps\n",
    "for timestep in all_timesteps:\n",
    "    halo2 = timestep.halos.all()[1]\n",
    "    try:\n",
    "        halo2['shrink_center']\n",
    "    except:\n",
    "        print(timestep.extension[-6:])#, 'does not have shrink_center')\n",
    "        # print(halo2.all_properties)\n",
    "        # print()"
   ]
  },
  {
   "cell_type": "code",
   "execution_count": null,
   "id": "6edf7ad6",
   "metadata": {},
   "outputs": [],
   "source": [
    "halo = halos_stars_dict[all_timesteps[-1].extension[-6:]][num]\n",
    "\n",
    "# Make a dict of the halo's id at each timestep\n",
    "halo_numbers, dbids = halo.calculate_for_progenitors(\"halo_number()\", \"dbid()\")\n",
    "snapshots = [db.get_halo(dbid).timestep.extension[-6:] for dbid in dbids]\n",
    "halo_snapshots_dict = {snapshot: dbid for snapshot, dbid in zip(snapshots, dbids)}\n",
    "\n",
    "# Save paths for the plot\n",
    "overwrite = False\n",
    "save_bases = [os.path.join(outfile_dir, 'merge_plots', ss_dir+str(halo.halo_number)),\n",
    "              os.path.join(outfile_dir, 'merge_plots', ss_dir+str(halo.halo_number)+'zoom' ),\n",
    "              os.path.join(outfile_dir, 'merge_plots', ss_dir+str(halo.halo_number)+'morezoom')]\n",
    "print(f\"Saving plots to {save_bases[0]}\")\n",
    "for save_base in save_bases:\n",
    "    if not os.path.exists(save_base):\n",
    "        os.makedirs(save_base)\n",
    "filename_base = ss_dir + '_' + str(halo.halo_number) + '_'\n",
    "\n",
    "# Loop through all timesteps for this halo\n",
    "pbar = tqdm.tqdm(total=len(all_timesteps))\n",
    "for i, timestep in enumerate(all_timesteps[::-1]):\n",
    "    timestep = timestep.extension[-6:]\n",
    "\n",
    "    # Get simulation and halo\n",
    "    s = pynbody.load(sim_base + basename + '.' + timestep)\n",
    "    s.physical_units()\n",
    "    halo = db.get_halo(halo_snapshots_dict[timestep])\n",
    "    print(\"Now on\", timestep)\n",
    "\n",
    "    save_path = os.path.join(save_bases[0], filename_base + timestep + '.png')\n",
    "    save_path2 = os.path.join(save_bases[1], filename_base + timestep + '.png')\n",
    "    save_path3 = os.path.join(save_bases[2], filename_base + timestep + '.png')\n",
    "\n",
    "    # First timestep\n",
    "    if i == 0:\n",
    "        #! NOT USING Reproduce unique color map seed\n",
    "        rng = np.random.default_rng(num) \n",
    "        uIDs_shuffled = rng.permutation(uIDs)\n",
    "        print(uIDs_shuffled)\n",
    "        colormap = make_colormap(uIDs_shuffled)\n",
    "\n",
    "        # Universal scaling plot to z=0 value\n",
    "        try:\n",
    "            rad = halo['Rvir']\n",
    "        except:\n",
    "            rad = halo['max_radius']\n",
    "            \n",
    "    if not overwrite and (os.path.isfile(save_path) and os.path.isfile(save_path2) and os.path.isfile(save_path3)):\n",
    "        print(f\"File {save_path} already exists, skipping...\")\n",
    "        pbar.update(1)\n",
    "        continue\n",
    "\n",
    "    # Center on halo\n",
    "    try:\n",
    "        # Use existing value from tangos\n",
    "        roughcen = halo['shrink_center']\n",
    "    except:\n",
    "        try:\n",
    "            # Try calculating from pynbody\n",
    "            print('No shrink center on', timestep)\n",
    "            h = s.halos(halo_numbers='v1')\n",
    "            roughcen = pynbody.analysis.halo.shrink_sphere_center(h[halo.halo_number])\n",
    "            print('Calculated shrink center:', roughcen)\n",
    "        except:\n",
    "            print('Failed again, skipping...')\n",
    "            pbar.update(1)\n",
    "            continue\n",
    "\n",
    "    # Radius for adaptive zoom plots\n",
    "    try:\n",
    "        currad = halo['Rvir']\n",
    "    except:\n",
    "        currad = halo['max_radius']\n",
    "\n",
    "    # Filter snapshot by only particles in the virial radius, center on halo\n",
    "    sp = s[pynbody.filt.Sphere(SimArray([rad], \"kpc\"), roughcen)].load_copy()\n",
    "    sp.physical_units()\n",
    "    sp['pos'] -= roughcen\n",
    "    print(\"Num stars: \"+str(len(sp.s)), end=', ') # num of stars\n",
    "\n",
    "    # mask = np.where(sp.s['amiga.grp'] == halo.halo_number)[0]\n",
    "    # mask = np.where(sp.s['amiga.grp'] == sp.s['amiga.grp'])[0] # dummy to ignore mask\n",
    "    mask = sp.s['tform'] > 0 # Exclude wind particles: FROM ANNA'S CODE\n",
    "    haloids = np.array([halo_particle_dict[part] for part in sp.s['iord'][mask]])\n",
    "    print(\"Masked num stars:\",len(sp.s[mask]))\n",
    "\n",
    "    # Plot\n",
    "    plot_halo_mergers(sp, mask, haloids, colormap, timestep, rad/np.sqrt(2), save_path) # scale standard\n",
    "    plot_halo_mergers(sp, mask, haloids, colormap, timestep, currad/(np.sqrt(2)*2), save_path2) # zoomin\n",
    "    plot_halo_mergers(sp, mask, haloids, colormap, timestep, currad/(np.sqrt(2)*4), save_path3) # more zoomed\n",
    "    pbar.update(1)"
   ]
  },
  {
   "cell_type": "markdown",
   "id": "2ad6d04d",
   "metadata": {},
   "source": [
    "### Extra"
   ]
  },
  {
   "cell_type": "code",
   "execution_count": 31,
   "id": "3c704497",
   "metadata": {},
   "outputs": [
    {
     "name": "stdout",
     "output_type": "stream",
     "text": [
      "<Halo 'cptmarvel.4096g5HbwK1BH_bn/cptmarvel.cosmo25cmb.4096g5HbwK1BH.004096/halo_1' | NDM=2673328 Nstar=205466 Ngas=341360>\n",
      "<Halo 'cptmarvel.4096g5HbwK1BH_bn/cptmarvel.cosmo25cmb.4096g5HbwK1BH.004096/halo_2' | NDM=1809471 Nstar=55462 Ngas=531508>\n",
      "<Halo 'cptmarvel.4096g5HbwK1BH_bn/cptmarvel.cosmo25cmb.4096g5HbwK1BH.004096/halo_4' | NDM=1624243 Nstar=31452 Ngas=367221>\n",
      "<Halo 'cptmarvel.4096g5HbwK1BH_bn/cptmarvel.cosmo25cmb.4096g5HbwK1BH.004096/halo_5' | NDM=1257579 Nstar=45841 Ngas=116308>\n",
      "<Halo 'cptmarvel.4096g5HbwK1BH_bn/cptmarvel.cosmo25cmb.4096g5HbwK1BH.004096/halo_6' | NDM=1179048 Nstar=43645 Ngas=134861>\n",
      "<Halo 'cptmarvel.4096g5HbwK1BH_bn/cptmarvel.cosmo25cmb.4096g5HbwK1BH.004096/halo_7' | NDM=897819 Nstar=4199 Ngas=88876>\n",
      "<Halo 'cptmarvel.4096g5HbwK1BH_bn/cptmarvel.cosmo25cmb.4096g5HbwK1BH.004096/halo_8' | NDM=279916 Nstar=10015 Ngas=536699>\n",
      "<Halo 'cptmarvel.4096g5HbwK1BH_bn/cptmarvel.cosmo25cmb.4096g5HbwK1BH.004096/halo_10' | NDM=582175 Nstar=11867 Ngas=19174>\n",
      "<Halo 'cptmarvel.4096g5HbwK1BH_bn/cptmarvel.cosmo25cmb.4096g5HbwK1BH.004096/halo_11' | NDM=535923 Nstar=1954 Ngas=1140>\n",
      "<Halo 'cptmarvel.4096g5HbwK1BH_bn/cptmarvel.cosmo25cmb.4096g5HbwK1BH.004096/halo_13' | NDM=317129 Nstar=1166 Ngas=2329>\n",
      "<Halo 'cptmarvel.4096g5HbwK1BH_bn/cptmarvel.cosmo25cmb.4096g5HbwK1BH.004096/halo_14' | NDM=302214 Nstar=23 Ngas=317>\n",
      "<Halo 'cptmarvel.4096g5HbwK1BH_bn/cptmarvel.cosmo25cmb.4096g5HbwK1BH.004096/halo_16' | NDM=183556 Nstar=3493 Ngas=20717>\n",
      "<Halo 'cptmarvel.4096g5HbwK1BH_bn/cptmarvel.cosmo25cmb.4096g5HbwK1BH.004096/halo_27' | NDM=63559 Nstar=14 Ngas=0>\n",
      "<Halo 'cptmarvel.4096g5HbwK1BH_bn/cptmarvel.cosmo25cmb.4096g5HbwK1BH.004096/halo_167' | NDM=7870 Nstar=24 Ngas=0>\n",
      "<Halo 'cptmarvel.4096g5HbwK1BH_bn/cptmarvel.cosmo25cmb.4096g5HbwK1BH.004096/halo_455' | NDM=2135 Nstar=149 Ngas=0>\n",
      "<Halo 'cptmarvel.4096g5HbwK1BH_bn/cptmarvel.cosmo25cmb.4096g5HbwK1BH.004096/halo_1328' | NDM=781 Nstar=15 Ngas=0>\n"
     ]
    }
   ],
   "source": [
    "# Read in data from Anna's pipeline\n",
    "with h5py.File(outfile_dir+'/'+basename+'_allhalostardata_upd.h5','r') as f:\n",
    "    hostids = f['host_IDs'].asstr()[:] # unique host IDs\n",
    "    partids = f['particle_IDs'][:] # iords\n",
    "    pct = f['particle_creation_times'][:] # formation times\n",
    "    ph = f['particle_hosts'][:] # local host IDs (i.e., host at formation time)\n",
    "    pp = f['particle_positions'][:] # position at formation time\n",
    "    tsloc = f['timestep_location'][:] # snapshot where star particle first appears\n",
    "uIDs = np.unique(hostids)\n",
    "\n",
    "halo_particle_dict = {} # map iords to their unique host IDs\n",
    "for i, part in enumerate(partids):\n",
    "    halo_particle_dict[part] = hostids[i]\n",
    "\n",
    "timestep = db.get_timestep(ss_dir+'/%'+str(4096))\n",
    "all_halos = timestep.halos.all()\n",
    "# Filter for halos with stars\n",
    "halos_with_stars = [h for h in all_halos if h.NStar > 0]\n",
    "for halo in halos_with_stars:\n",
    "    print(halo)"
   ]
  },
  {
   "cell_type": "code",
   "execution_count": 33,
   "id": "e3944207",
   "metadata": {},
   "outputs": [],
   "source": [
    "s = pynbody.load(ss_z0)\n",
    "s.physical_units()"
   ]
  },
  {
   "cell_type": "code",
   "execution_count": 411,
   "id": "863171cd",
   "metadata": {},
   "outputs": [
    {
     "data": {
      "text/plain": [
       "{'0384': ['14', '8', '9']}"
      ]
     },
     "execution_count": 411,
     "metadata": {},
     "output_type": "execute_result"
    }
   ],
   "source": [
    "haloid_dict"
   ]
  },
  {
   "cell_type": "code",
   "execution_count": 62,
   "id": "c15f4181",
   "metadata": {},
   "outputs": [
    {
     "name": "stdout",
     "output_type": "stream",
     "text": [
      "Processing halo 1 with 205466 stars.\n",
      "  Found 5 merging halos for star particles in halo 1: ['0384_14' '0384_8' '0384_9' '4096_1' '4096_455']\n",
      "  Snapshot 0384 has 3 future mergers: ['14', '8', '9']\n",
      "    Processing halo 14 in snapshot 0384\n",
      "    Found 23103 dark matter particles in halo 14 of snapshot 0384.\n",
      "    Processing halo 8 in snapshot 0384\n",
      "    Found 76183 dark matter particles in halo 8 of snapshot 0384.\n",
      "    Processing halo 9 in snapshot 0384\n",
      "    Found 71703 dark matter particles in halo 9 of snapshot 0384.\n",
      "Processing halo 2 with 55462 stars.\n",
      "  Found 2 merging halos for star particles in halo 2: ['1280_17' '4096_2']\n",
      "  Snapshot 1280 has 1 future mergers: ['17']\n",
      "    Processing halo 17 in snapshot 1280\n",
      "    Found 70197 dark matter particles in halo 17 of snapshot 1280.\n",
      "Processing halo 4 with 31452 stars.\n",
      "  Found 2 merging halos for star particles in halo 4: ['1543_12' '4096_4']\n",
      "  Snapshot 1543 has 1 future mergers: ['12']\n",
      "    Processing halo 12 in snapshot 1543\n",
      "    Found 171231 dark matter particles in halo 12 of snapshot 1543.\n",
      "Processing halo 5 with 45841 stars.\n",
      "  Found 5 merging halos for star particles in halo 5: ['0000_0' '0291_1000' '0512_23' '3840_107' '4096_5']\n",
      "  Snapshot 0291 has 1 future mergers: ['1000']\n",
      "    Processing halo 1000 in snapshot 0291\n",
      "    Found 471 dark matter particles in halo 1000 of snapshot 0291.\n",
      "  Snapshot 0512 has 1 future mergers: ['23']\n",
      "    Processing halo 23 in snapshot 0512\n",
      "    Found 31375 dark matter particles in halo 23 of snapshot 0512.\n",
      "  Snapshot 3840 has 1 future mergers: ['107']\n",
      "    Processing halo 107 in snapshot 3840\n",
      "    Found 14305 dark matter particles in halo 107 of snapshot 3840.\n"
     ]
    }
   ],
   "source": [
    "data_rows = []\n",
    "dm_count = 0\n",
    "\n",
    "for halo in halos_with_stars[:4]:\n",
    "    print(f\"Processing halo {halo.halo_number} with {halo.NStar} stars.\")\n",
    "    # halo = halos_stars_dict['004096'][num]\n",
    "    halo_numbers, dbids = halo.calculate_for_progenitors(\"halo_number()\", \"dbid()\")\n",
    "    snapshots = [db.get_halo(dbid).timestep.extension[-6:] for dbid in dbids]\n",
    "    halo_snapshots_dict = {snapshot: halo_number for snapshot, halo_number in zip(snapshots, dbids)}\n",
    "\n",
    "    sub = s.s[s.s['amiga.grp'] == halo.halo_number]\n",
    "    part_mask = sub['tform'] > 0 \n",
    "    star_iords = sub['iord'][part_mask]\n",
    "    # print(f\"  Found {len(star_iords)} star particles in halo {halo.halo_number}.\")\n",
    "    halo_ids = [halo_particle_dict[iord] for iord in star_iords]\n",
    "    unique_halo_ids = np.unique(halo_ids)\n",
    "    print(f\"  Found {len(unique_halo_ids)} merging halos for star particles in halo {halo.halo_number}: {unique_halo_ids}\")\n",
    "\n",
    "    # First group mergers by snapshot for efficiency\n",
    "    haloid_dict = {}\n",
    "    for halo_id in unique_halo_ids:\n",
    "        snapshot, haloid = halo_id.split('_')\n",
    "        if snapshot == '4096' or snapshot == '0000':  # Skip the current snapshot or any invalid snapshot\n",
    "            continue\n",
    "        if not snapshot in haloid_dict:\n",
    "            haloid_dict[snapshot] = []\n",
    "        haloid_dict[snapshot].append(haloid)\n",
    "\n",
    "    # Now process each snapshot\n",
    "    for snapshot in haloid_dict:\n",
    "        print(f\"  Snapshot {snapshot} has {len(haloid_dict[snapshot])} future mergers: {haloid_dict[snapshot]}\")\n",
    "        s_t = pynbody.load(sim_base + basename + '.' + str(snapshot).zfill(6))\n",
    "        s_t.physical_units()\n",
    "\n",
    "        for haloid in haloid_dict[snapshot]:\n",
    "            print(f\"    Processing halo {haloid} in snapshot {snapshot}\")\n",
    "            mask = s_t.dm['amiga.grp'] == int(haloid)\n",
    "            dm_iords = np.array(s_t.dm['iord'][mask])\n",
    "            print(f\"    Found {len(dm_iords)} dark matter particles in halo {haloid} of snapshot {snapshot}.\")\n",
    "            dm_count += len(dm_iords)\n",
    "\n",
    "            data_rows.append({'main_halo': '4096_'+str(halo.halo_number), \n",
    "                              'merging_halo': str(snapshot)+'_'+str(haloid), \n",
    "                              'dm_iord': dm_iords})\n"
   ]
  },
  {
   "cell_type": "code",
   "execution_count": 63,
   "id": "d335452f",
   "metadata": {},
   "outputs": [
    {
     "name": "stdout",
     "output_type": "stream",
     "text": [
      "Total dark matter particles processed: 458568\n"
     ]
    },
    {
     "name": "stderr",
     "output_type": "stream",
     "text": [
      "/tmp/ipykernel_40126/4113238666.py:13: PerformanceWarning: \n",
      "your performance may suffer as PyTables will pickle object types that it cannot\n",
      "map directly to c-types [inferred_type->mixed-integer,key->block0_values] [items->Index(['main_halo', 'merging_halo', 'dm_iord'], dtype='object')]\n",
      "\n",
      "  df_long.to_hdf(save_path, key='df', mode='w')\n"
     ]
    }
   ],
   "source": [
    "print(f\"Total dark matter particles processed: {dm_count}\")\n",
    "\n",
    "# Create the DataFrame from the list of rows\n",
    "df_wide = pd.DataFrame(data_rows)\n",
    "\n",
    "# Explode the 'dm_iord' column to create the long format\n",
    "# This will create a new row for each iord in the arrays\n",
    "df_long = df_wide.explode('dm_iord').reset_index(drop=True)\n",
    "\n",
    "save_path = outfile_dir+'/'+basename+'_dm.h5'\n",
    "\n",
    "# Save the long format DataFrame. This will not produce a warning.\n",
    "df_long.to_hdf(save_path, key='df', mode='w')"
   ]
  },
  {
   "cell_type": "code",
   "execution_count": 64,
   "id": "18838ac4",
   "metadata": {},
   "outputs": [
    {
     "data": {
      "text/html": [
       "<div>\n",
       "<style scoped>\n",
       "    .dataframe tbody tr th:only-of-type {\n",
       "        vertical-align: middle;\n",
       "    }\n",
       "\n",
       "    .dataframe tbody tr th {\n",
       "        vertical-align: top;\n",
       "    }\n",
       "\n",
       "    .dataframe thead th {\n",
       "        text-align: right;\n",
       "    }\n",
       "</style>\n",
       "<table border=\"1\" class=\"dataframe\">\n",
       "  <thead>\n",
       "    <tr style=\"text-align: right;\">\n",
       "      <th></th>\n",
       "      <th>main_halo</th>\n",
       "      <th>merging_halo</th>\n",
       "      <th>dm_iord</th>\n",
       "    </tr>\n",
       "  </thead>\n",
       "  <tbody>\n",
       "    <tr>\n",
       "      <th>0</th>\n",
       "      <td>4096_1</td>\n",
       "      <td>0384_14</td>\n",
       "      <td>57877456</td>\n",
       "    </tr>\n",
       "    <tr>\n",
       "      <th>1</th>\n",
       "      <td>4096_1</td>\n",
       "      <td>0384_14</td>\n",
       "      <td>57877464</td>\n",
       "    </tr>\n",
       "    <tr>\n",
       "      <th>2</th>\n",
       "      <td>4096_1</td>\n",
       "      <td>0384_14</td>\n",
       "      <td>57877466</td>\n",
       "    </tr>\n",
       "    <tr>\n",
       "      <th>3</th>\n",
       "      <td>4096_1</td>\n",
       "      <td>0384_14</td>\n",
       "      <td>57877580</td>\n",
       "    </tr>\n",
       "    <tr>\n",
       "      <th>4</th>\n",
       "      <td>4096_1</td>\n",
       "      <td>0384_14</td>\n",
       "      <td>57877582</td>\n",
       "    </tr>\n",
       "    <tr>\n",
       "      <th>...</th>\n",
       "      <td>...</td>\n",
       "      <td>...</td>\n",
       "      <td>...</td>\n",
       "    </tr>\n",
       "    <tr>\n",
       "      <th>458563</th>\n",
       "      <td>4096_5</td>\n",
       "      <td>3840_107</td>\n",
       "      <td>72344878</td>\n",
       "    </tr>\n",
       "    <tr>\n",
       "      <th>458564</th>\n",
       "      <td>4096_5</td>\n",
       "      <td>3840_107</td>\n",
       "      <td>72532640</td>\n",
       "    </tr>\n",
       "    <tr>\n",
       "      <th>458565</th>\n",
       "      <td>4096_5</td>\n",
       "      <td>3840_107</td>\n",
       "      <td>72532842</td>\n",
       "    </tr>\n",
       "    <tr>\n",
       "      <th>458566</th>\n",
       "      <td>4096_5</td>\n",
       "      <td>3840_107</td>\n",
       "      <td>75772799</td>\n",
       "    </tr>\n",
       "    <tr>\n",
       "      <th>458567</th>\n",
       "      <td>4096_5</td>\n",
       "      <td>3840_107</td>\n",
       "      <td>75772871</td>\n",
       "    </tr>\n",
       "  </tbody>\n",
       "</table>\n",
       "<p>458568 rows × 3 columns</p>\n",
       "</div>"
      ],
      "text/plain": [
       "       main_halo merging_halo   dm_iord\n",
       "0         4096_1      0384_14  57877456\n",
       "1         4096_1      0384_14  57877464\n",
       "2         4096_1      0384_14  57877466\n",
       "3         4096_1      0384_14  57877580\n",
       "4         4096_1      0384_14  57877582\n",
       "...          ...          ...       ...\n",
       "458563    4096_5     3840_107  72344878\n",
       "458564    4096_5     3840_107  72532640\n",
       "458565    4096_5     3840_107  72532842\n",
       "458566    4096_5     3840_107  75772799\n",
       "458567    4096_5     3840_107  75772871\n",
       "\n",
       "[458568 rows x 3 columns]"
      ]
     },
     "execution_count": 64,
     "metadata": {},
     "output_type": "execute_result"
    }
   ],
   "source": [
    "f = pd.read_hdf(save_path, key='df')\n",
    "f#['main_halo']"
   ]
  },
  {
   "cell_type": "code",
   "execution_count": 40,
   "id": "cb5684c7",
   "metadata": {},
   "outputs": [
    {
     "data": {
      "text/plain": [
       "SimArray([False, False, False, ..., False, False, False],\n",
       "         shape=(50336980,))"
      ]
     },
     "execution_count": 40,
     "metadata": {},
     "output_type": "execute_result"
    }
   ],
   "source": [
    "mask"
   ]
  },
  {
   "cell_type": "code",
   "execution_count": 404,
   "id": "0b30f22e",
   "metadata": {},
   "outputs": [
    {
     "data": {
      "text/plain": [
       "4"
      ]
     },
     "execution_count": 404,
     "metadata": {},
     "output_type": "execute_result"
    }
   ],
   "source": [
    "db.get_halo(halo_snapshots_dict['000384']).halo_number"
   ]
  },
  {
   "cell_type": "code",
   "execution_count": null,
   "id": "cdfde0d2",
   "metadata": {},
   "outputs": [
    {
     "data": {
      "text/plain": [
       "'/home/selvani/MAP/Sims/cptmarvel.cosmo25cmb/cptmarvel.cosmo25cmb.4096g5HbwK1BH/cptmarvel.4096g5HbwK1BH_bn/cptmarvel.cosmo25cmb.4096g5HbwK1BH004096.hdf5'"
      ]
     },
     "execution_count": 37,
     "metadata": {},
     "output_type": "execute_result"
    }
   ],
   "source": [
    "sim_base + basename + str(4096).zfill(6)"
   ]
  },
  {
   "cell_type": "code",
   "execution_count": 391,
   "id": "4a61ca14",
   "metadata": {},
   "outputs": [
    {
     "data": {
      "text/plain": [
       "array(['3840_107'], dtype='<U8')"
      ]
     },
     "execution_count": 391,
     "metadata": {},
     "output_type": "execute_result"
    }
   ],
   "source": [
    "unique_halo_ids"
   ]
  },
  {
   "cell_type": "code",
   "execution_count": null,
   "id": "806a93b1",
   "metadata": {},
   "outputs": [
    {
     "data": {
      "text/plain": [
       "SimArray([89422124, 89422171, 89422200, ..., 89836623, 89836624, 89836627],\n",
       "         shape=(205317,))"
      ]
     },
     "execution_count": 383,
     "metadata": {},
     "output_type": "execute_result"
    }
   ],
   "source": [
    "halo_particle_dict"
   ]
  },
  {
   "cell_type": "code",
   "execution_count": null,
   "id": "fab8d8b8",
   "metadata": {},
   "outputs": [],
   "source": [
    "# return mask for partids if star_iords is in partids"
   ]
  },
  {
   "cell_type": "code",
   "execution_count": 380,
   "id": "1c8dbbd0",
   "metadata": {},
   "outputs": [],
   "source": [
    "mask = s.dm['amiga.grp'] == halo.halo_number\n",
    "halo_iords = s.dm['iord'][mask]"
   ]
  },
  {
   "cell_type": "code",
   "execution_count": null,
   "id": "d0067b6d",
   "metadata": {},
   "outputs": [],
   "source": []
  },
  {
   "cell_type": "code",
   "execution_count": null,
   "id": "cbcddc07",
   "metadata": {},
   "outputs": [],
   "source": [
    "filename = ''\n",
    "with h5py.File(outfile_dir+'/'+basename+'_dm.h5','w') as f:\n",
    "    f.create_dataset('particle_IDs', data=s.dm['iord'])\n",
    "    f.create_dataset('particle_hosts', data=s.dm['amiga.grp'])"
   ]
  },
  {
   "cell_type": "markdown",
   "id": "9c5f7e2f",
   "metadata": {},
   "source": [
    "### other"
   ]
  },
  {
   "cell_type": "code",
   "execution_count": 217,
   "id": "2e2c6a29",
   "metadata": {},
   "outputs": [],
   "source": [
    "halo2 = halos_stars_dict['001152'][2]"
   ]
  },
  {
   "cell_type": "code",
   "execution_count": 218,
   "id": "62fece03",
   "metadata": {},
   "outputs": [
    {
     "data": {
      "text/plain": [
       "array([ 331.50934576, -195.28670203,  276.54512872])"
      ]
     },
     "execution_count": 218,
     "metadata": {},
     "output_type": "execute_result"
    }
   ],
   "source": [
    "halo2['shrink_center']"
   ]
  },
  {
   "cell_type": "code",
   "execution_count": 219,
   "id": "29321faf",
   "metadata": {},
   "outputs": [
    {
     "data": {
      "text/plain": [
       "(9794.3853551, 8730.6578682, 9683.37700213)"
      ]
     },
     "execution_count": 219,
     "metadata": {},
     "output_type": "execute_result"
    }
   ],
   "source": [
    "halo2['Xc'], halo2['Yc'], halo2['Zc']"
   ]
  },
  {
   "cell_type": "code",
   "execution_count": 214,
   "id": "0bd226b5",
   "metadata": {},
   "outputs": [],
   "source": [
    "halo2.load().physical_units()"
   ]
  },
  {
   "cell_type": "code",
   "execution_count": 228,
   "id": "fcfb8272",
   "metadata": {},
   "outputs": [
    {
     "name": "stdout",
     "output_type": "stream",
     "text": [
      "Scale factor: 0.33343009796553474, Box size: 8.34e+03 kpc, h_param: 0.7\n",
      "Box center: 4167.876224569184 kpc/h comoving\n",
      "Converted coordinates: x=2790.2039717535877, y=3031.658881408056, z=3185.810329836507\n"
     ]
    }
   ],
   "source": [
    "# Get the snapshot to access cosmological parameters\n",
    "snap = halo.timestep.load()\n",
    "\n",
    "# Get cosmological parameters\n",
    "h_param = getattr(snap.properties, 'h', 0.7)\n",
    "scale_factor = getattr(snap.properties, 'a', 1.0/(1.0 + halo.timestep.redshift))\n",
    "boxsize = snap.properties.get('boxsize', 50000)  # Default 50 Mpc/h\n",
    "print(f\"Scale factor: {scale_factor}, Box size: {boxsize}, h_param: {h_param}\")\n",
    "# Calculate box center (assuming boxsize is in kpc/h comoving)\n",
    "# if hasattr(boxsize, 'in_units'):\n",
    "#     boxcen = boxsize.in_units('kpc a') / 2.0\n",
    "# else:\n",
    "boxsize = float(boxsize)\n",
    "boxcen = boxsize / 2.0\n",
    "print(f\"Box center: {boxcen} kpc/h comoving\")\n",
    "\n",
    "# Get raw coordinates\n",
    "x_org = halo['Xc']\n",
    "y_org = halo['Yc'] \n",
    "z_org = halo['Zc']\n",
    "\n",
    "# Convert following the pynbody method you showed earlier\n",
    "x = (x_org / h_param - boxcen) * scale_factor\n",
    "y = (y_org / h_param - boxcen) * scale_factor\n",
    "z = (z_org / h_param - boxcen) * scale_factor\n",
    "\n",
    "print(f\"Converted coordinates: x={x}, y={y}, z={z}\")"
   ]
  },
  {
   "cell_type": "code",
   "execution_count": 238,
   "id": "32690f77",
   "metadata": {},
   "outputs": [
    {
     "data": {
      "text/plain": [
       "<Halo 'cptmarvel.4096g5HbwK1BH_bn/cptmarvel.cosmo25cmb.4096g5HbwK1BH.001025/halo_6' | NDM=273680 Nstar=5082 Ngas=88980>"
      ]
     },
     "execution_count": 238,
     "metadata": {},
     "output_type": "execute_result"
    }
   ],
   "source": [
    "halo"
   ]
  },
  {
   "cell_type": "code",
   "execution_count": 364,
   "id": "11f205c9",
   "metadata": {},
   "outputs": [],
   "source": [
    "s = pynbody.load(sim_base + basename + '.' + halo.timestep.extension[-6:])\n",
    "s.physical_units()"
   ]
  },
  {
   "cell_type": "code",
   "execution_count": 365,
   "id": "e54dcf82",
   "metadata": {},
   "outputs": [
    {
     "name": "stderr",
     "output_type": "stream",
     "text": [
      "pynbody.halo : Unable to load AHF substructure file; continuing without. To expose the underlying problem as an exception, pass ignore_missing_substructure=False to the AHFCatalogue constructor\n"
     ]
    }
   ],
   "source": [
    "h = s.halos(halo_numbers='v1')"
   ]
  },
  {
   "cell_type": "code",
   "execution_count": 366,
   "id": "6051be9b",
   "metadata": {},
   "outputs": [
    {
     "data": {
      "text/plain": [
       "SimArray([39085024, 39085025, 39085026, ..., 89422001, 89422002, 89422003],\n",
       "         shape=(50336980,))"
      ]
     },
     "execution_count": 366,
     "metadata": {},
     "output_type": "execute_result"
    }
   ],
   "source": [
    "s.dm['iord']"
   ]
  },
  {
   "cell_type": "code",
   "execution_count": 370,
   "id": "cfaa52dc",
   "metadata": {},
   "outputs": [
    {
     "data": {
      "text/plain": [
       "array([   -1,     1,     2, ..., 12843, 12844, 12845], shape=(12846,))"
      ]
     },
     "execution_count": 370,
     "metadata": {},
     "output_type": "execute_result"
    }
   ],
   "source": [
    "np.unique(s.dm['amiga.grp'])"
   ]
  },
  {
   "cell_type": "code",
   "execution_count": 242,
   "id": "de6233ba",
   "metadata": {},
   "outputs": [
    {
     "ename": "ZeroDivisionError",
     "evalue": "float division",
     "output_type": "error",
     "traceback": [
      "\u001b[31m---------------------------------------------------------------------------\u001b[39m",
      "\u001b[31mZeroDivisionError\u001b[39m                         Traceback (most recent call last)",
      "\u001b[36mCell\u001b[39m\u001b[36m \u001b[39m\u001b[32mIn[242]\u001b[39m\u001b[32m, line 2\u001b[39m\n\u001b[32m      1\u001b[39m \u001b[38;5;28;01mimport\u001b[39;00m\u001b[38;5;250m \u001b[39m\u001b[34;01mpynbody\u001b[39;00m\u001b[34;01m.\u001b[39;00m\u001b[34;01manalysis\u001b[39;00m\u001b[34;01m.\u001b[39;00m\u001b[34;01mhalo\u001b[39;00m\n\u001b[32m----> \u001b[39m\u001b[32m2\u001b[39m center = pynbody.analysis.halo.shrink_sphere_center(halo2new)\n\u001b[32m      3\u001b[39m \u001b[38;5;28mprint\u001b[39m(\u001b[33mf\u001b[39m\u001b[33m\"\u001b[39m\u001b[33mPynbody center: \u001b[39m\u001b[38;5;132;01m{\u001b[39;00mcenter\u001b[38;5;132;01m}\u001b[39;00m\u001b[33m\"\u001b[39m)\n",
      "\u001b[36mFile \u001b[39m\u001b[32m~/anaconda3/envs/conda-env-py311/lib/python3.11/site-packages/pynbody/analysis/halo.py:85\u001b[39m, in \u001b[36mshrink_sphere_center\u001b[39m\u001b[34m(sim, r, shrink_factor, min_particles, num_threads, particles_for_velocity, families_for_velocity)\u001b[39m\n\u001b[32m     82\u001b[39m mass = np.asarray(sim[\u001b[33m'\u001b[39m\u001b[33mmass\u001b[39m\u001b[33m'\u001b[39m], dtype=\u001b[33m'\u001b[39m\u001b[33mdouble\u001b[39m\u001b[33m'\u001b[39m)\n\u001b[32m     83\u001b[39m pos = np.asarray(sim[\u001b[33m'\u001b[39m\u001b[33mpos\u001b[39m\u001b[33m'\u001b[39m], dtype=\u001b[33m'\u001b[39m\u001b[33mdouble\u001b[39m\u001b[33m'\u001b[39m)\n\u001b[32m---> \u001b[39m\u001b[32m85\u001b[39m R = _com.shrink_sphere_center(pos, mass, min_particles, particles_for_velocity,\n\u001b[32m     86\u001b[39m                               shrink_factor, r, num_threads)\n\u001b[32m     88\u001b[39m com, final_radius, velocity_radius = R\n\u001b[32m     90\u001b[39m logger.info(\u001b[33m\"\u001b[39m\u001b[33mRadius for velocity measurement = \u001b[39m\u001b[38;5;132;01m%s\u001b[39;00m\u001b[33m\"\u001b[39m, velocity_radius)\n",
      "\u001b[36mFile \u001b[39m\u001b[32mpynbody/analysis/_com.pyx:69\u001b[39m, in \u001b[36mpynbody.analysis._com.shrink_sphere_center\u001b[39m\u001b[34m()\u001b[39m\n",
      "\u001b[31mZeroDivisionError\u001b[39m: float division"
     ]
    }
   ],
   "source": [
    "import pynbody.analysis.halo\n",
    "center = pynbody.analysis.halo.shrink_sphere_center(halo2new)\n",
    "print(f\"Pynbody center: {center}\")  # Should match shrink_center"
   ]
  },
  {
   "cell_type": "code",
   "execution_count": 233,
   "id": "7b801d92",
   "metadata": {},
   "outputs": [
    {
     "data": {
      "text/plain": [
       "array([ 331.50934576, -195.28670203,  276.54512872])"
      ]
     },
     "execution_count": 233,
     "metadata": {},
     "output_type": "execute_result"
    }
   ],
   "source": [
    "halo2['shrink_center']"
   ]
  },
  {
   "cell_type": "code",
   "execution_count": 210,
   "id": "2499590c",
   "metadata": {},
   "outputs": [
    {
     "data": {
      "text/plain": [
       "(8116.03229889, 8107.22304862, 9633.63900271)"
      ]
     },
     "execution_count": 210,
     "metadata": {},
     "output_type": "execute_result"
    }
   ],
   "source": [
    "halo2['Xc'], halo2['Yc'], halo2['Zc']"
   ]
  },
  {
   "cell_type": "code",
   "execution_count": 195,
   "id": "e5564d98",
   "metadata": {},
   "outputs": [
    {
     "name": "stdout",
     "output_type": "stream",
     "text": [
      "Physical coordinates: [8713.387453714282, 8585.757585172463, 9974.244894782267]\n"
     ]
    }
   ],
   "source": [
    "# Get comoving coordinates and convert to physical\n",
    "xc_physical = halo2['Xc'] / (1 + halo2.timestep.redshift)  # Convert from comoving to physical\n",
    "yc_physical = halo2['Yc'] / (1 + halo2.timestep.redshift)\n",
    "zc_physical = halo2['Zc'] / (1 + halo2.timestep.redshift)\n",
    "\n",
    "print(f\"Physical coordinates: [{xc_physical}, {yc_physical}, {zc_physical}]\")"
   ]
  },
  {
   "cell_type": "code",
   "execution_count": 191,
   "id": "c9a42462",
   "metadata": {},
   "outputs": [
    {
     "data": {
      "text/plain": [
       "[<HaloProperty shrink_center (array) of <Halo 4 of ...>>,\n",
       " <HaloProperty max_radius=5.82e+01 of <Halo 4 of ...>>,\n",
       " <HaloProperty Mvir=8.28e+09 of <Halo 4 of ...>>,\n",
       " <HaloProperty Rvir=4.24e+01 of <Halo 4 of ...>>,\n",
       " <HaloProperty Xc=8.71e+03 of <Halo 4 of ...>>,\n",
       " <HaloProperty Yc=8.59e+03 of <Halo 4 of ...>>,\n",
       " <HaloProperty Zc=9.97e+03 of <Halo 4 of ...>>,\n",
       " <HaloProperty VXc=3.06e+00 of <Halo 4 of ...>>,\n",
       " <HaloProperty VYc=-5.74e+01 of <Halo 4 of ...>>,\n",
       " <HaloProperty VZc=2.55e+01 of <Halo 4 of ...>>,\n",
       " <HaloProperty Vmax=3.46e+01 of <Halo 4 of ...>>,\n",
       " <HaloProperty fMhires=1.00e+00 of <Halo 4 of ...>>,\n",
       " <HaloProperty M_gas=3.74e+08 of <Halo 4 of ...>>,\n",
       " <HaloProperty M_star=6.21e+06 of <Halo 4 of ...>>,\n",
       " <HaloProperty n_gas=367221 of <Halo 4 of ...>>,\n",
       " <HaloProperty n_star=31452 of <Halo 4 of ...>>,\n",
       " <HaloProperty n_dm=1624243 of <Halo 4 of ...>>,\n",
       " <HaloProperty npart=2022916 of <Halo 4 of ...>>]"
      ]
     },
     "execution_count": 191,
     "metadata": {},
     "output_type": "execute_result"
    }
   ],
   "source": [
    "halo2.all_properties"
   ]
  },
  {
   "cell_type": "code",
   "execution_count": 176,
   "id": "9697d4da",
   "metadata": {},
   "outputs": [
    {
     "data": {
      "text/plain": [
       "[<HaloProperty Mvir=1.42e+09 of <Halo 6 of ...>>,\n",
       " <HaloProperty Rvir=3.01e+01 of <Halo 6 of ...>>,\n",
       " <HaloProperty Xc=8.78e+03 of <Halo 6 of ...>>,\n",
       " <HaloProperty Yc=9.28e+03 of <Halo 6 of ...>>,\n",
       " <HaloProperty Zc=9.61e+03 of <Halo 6 of ...>>,\n",
       " <HaloProperty VXc=-8.66e+00 of <Halo 6 of ...>>,\n",
       " <HaloProperty VYc=-4.54e+01 of <Halo 6 of ...>>,\n",
       " <HaloProperty VZc=3.22e+01 of <Halo 6 of ...>>,\n",
       " <HaloProperty Vmax=2.61e+01 of <Halo 6 of ...>>,\n",
       " <HaloProperty fMhires=1.00e+00 of <Halo 6 of ...>>,\n",
       " <HaloProperty M_gas=9.10e+07 of <Halo 6 of ...>>,\n",
       " <HaloProperty M_star=1.04e+06 of <Halo 6 of ...>>,\n",
       " <HaloProperty n_gas=88980 of <Halo 6 of ...>>,\n",
       " <HaloProperty n_star=5082 of <Halo 6 of ...>>,\n",
       " <HaloProperty n_dm=273680 of <Halo 6 of ...>>,\n",
       " <HaloProperty npart=367742 of <Halo 6 of ...>>]"
      ]
     },
     "execution_count": 176,
     "metadata": {},
     "output_type": "execute_result"
    }
   ],
   "source": [
    "halo.all_properties"
   ]
  },
  {
   "cell_type": "markdown",
   "id": "cf15f121",
   "metadata": {},
   "source": [
    "### Separate"
   ]
  },
  {
   "cell_type": "code",
   "execution_count": null,
   "id": "239e5a78",
   "metadata": {},
   "outputs": [
    {
     "name": "stdout",
     "output_type": "stream",
     "text": [
      "<Halo 'cptmarvel.4096g5HbwK1BH_bn/cptmarvel.cosmo25cmb.4096g5HbwK1BH.004096/halo_2' | NDM=1809471 Nstar=55462 Ngas=531508>\n",
      "55462\n"
     ]
    }
   ],
   "source": [
    "timestep = '004096'\n",
    "s = pynbody.load(sim_base + basename + '.' + timestep)\n",
    "s.physical_units()\n",
    "db.get_timestep(\"cptmarvel.4096g5HbwK1BH_bn/%\" + str(int(timestep)))\n"
   ]
  },
  {
   "cell_type": "code",
   "execution_count": 83,
   "id": "b75f7e63",
   "metadata": {},
   "outputs": [
    {
     "name": "stdout",
     "output_type": "stream",
     "text": [
      "<Halo 'cptmarvel.4096g5HbwK1BH_bn/cptmarvel.cosmo25cmb.4096g5HbwK1BH.004096/halo_4' | NDM=1624243 Nstar=31452 Ngas=367221>\n",
      "31452\n"
     ]
    }
   ],
   "source": [
    "halo = halos_stars_dict[timestep][2]  # Use the first halo for demonstration\n",
    "print(halo)\n",
    "\n",
    "roughcen = halo['shrink_center']\n",
    "try:\n",
    "    rad = halo['Rvir']\n",
    "except:\n",
    "    rad = halo['max_radius']\n",
    "\n",
    "sp = s[pynbody.filt.Sphere(SimArray([rad/2], \"kpc\"), roughcen)].load_copy()\n",
    "sp.physical_units()\n",
    "sp['pos'] -= roughcen\n",
    "ns = len(sp.s)\n",
    "print(ns)"
   ]
  },
  {
   "cell_type": "code",
   "execution_count": null,
   "id": "ccf1dfc8",
   "metadata": {},
   "outputs": [],
   "source": [
    "mask = np.where(sp.s['amiga.grp'] == halo.halo_number)[0]\n",
    "# mask = np.where(sp.s['amiga.grp'] == sp.s['amiga.grp'])[0] # dummy to ignore mask"
   ]
  },
  {
   "cell_type": "code",
   "execution_count": 100,
   "id": "a877ed09",
   "metadata": {},
   "outputs": [],
   "source": [
    "haloids = [halo_particle_dict[part] for part in sp.s['iord'][mask]]"
   ]
  },
  {
   "cell_type": "code",
   "execution_count": 102,
   "id": "1ce3ca2f",
   "metadata": {},
   "outputs": [
    {
     "data": {
      "text/plain": [
       "31452"
      ]
     },
     "execution_count": 102,
     "metadata": {},
     "output_type": "execute_result"
    }
   ],
   "source": [
    "len(sp.s[mask])"
   ]
  },
  {
   "cell_type": "code",
   "execution_count": 103,
   "id": "13b0ed00",
   "metadata": {},
   "outputs": [
    {
     "data": {
      "text/plain": [
       "array(['1543_12', '1920_17', '2048_29', '4096_167', '4096_4'], dtype='<U8')"
      ]
     },
     "execution_count": 103,
     "metadata": {},
     "output_type": "execute_result"
    }
   ],
   "source": [
    "np.unique(haloids)"
   ]
  },
  {
   "cell_type": "code",
   "execution_count": 157,
   "id": "334ca43c",
   "metadata": {},
   "outputs": [
    {
     "name": "stderr",
     "output_type": "stream",
     "text": [
      "/tmp/ipykernel_34615/3009069707.py:14: MatplotlibDeprecationWarning: The get_cmap function was deprecated in Matplotlib 3.7 and will be removed in 3.11. Use ``matplotlib.colormaps[name]`` or ``matplotlib.colormaps.get_cmap()`` or ``pyplot.get_cmap()`` instead.\n",
      "  colors = plt.cm.get_cmap('viridis', num_unique_halos)\n"
     ]
    },
    {
     "data": {
      "image/png": "[encoded data removed]",
      "text/plain": [
       "<Figure size 5400x1800 with 3 Axes>"
      ]
     },
     "metadata": {},
     "output_type": "display_data"
    }
   ],
   "source": [
    "import numpy as np\n",
    "\n",
    "# Ensure haloids is a numpy array for efficient processing\n",
    "haloids = np.array(haloids)\n",
    "\n",
    "# 1. Find the unique halo IDs to create a color mapping\n",
    "unique_haloids = np.unique(haloids)\n",
    "\n",
    "# 2. Create a color map that assigns a unique color to each halo ID.\n",
    "#    Using a qualitative colormap like 'tab20' is good for distinct categories.\n",
    "num_unique_halos = len(unique_haloids)\n",
    "# Use a robust colormap that can handle many categories\n",
    "if num_unique_halos <= 10:\n",
    "    colors = plt.cm.get_cmap('viridis', num_unique_halos)\n",
    "else:\n",
    "    # For more than 20 halos, 'viridis' or 'plasma' can work, though colors may be less distinct\n",
    "    colors = plt.cm.get_cmap('viridis', num_unique_halos)\n",
    "    \n",
    "color_map = {hid: colors(i) for i, hid in enumerate(unique_haloids)}\n",
    "\n",
    "# 3. Create an array of colors for each star particle\n",
    "particle_colors = [color_map[hid] for hid in haloids]\n",
    "\n",
    "# 4. Create the scatter plot\n",
    "fig, axes = plt.subplots(1, 3, figsize=(54, 18))\n",
    "\n",
    "# Define projections\n",
    "projections = [\n",
    "    {'ax': axes[0], 'dims': [0, 1], 'labels': ['x (kpc)', 'y (kpc)'], 'title': 'X-Y Projection'},\n",
    "    {'ax': axes[1], 'dims': [1, 2], 'labels': ['y (kpc)', 'z (kpc)'], 'title': 'Y-Z Projection'},\n",
    "    {'ax': axes[2], 'dims': [0, 2], 'labels': ['x (kpc)', 'z (kpc)'], 'title': 'X-Z Projection'}\n",
    "]\n",
    "\n",
    "pos_data = sp.s['pos'][mask]\n",
    "\n",
    "for proj in projections:\n",
    "    ax = proj['ax']\n",
    "    dim1 = proj['dims'][0]\n",
    "    dim2 = proj['dims'][1]\n",
    "\n",
    "    ax.scatter(\n",
    "        pos_data[:, dim1], \n",
    "        pos_data[:, dim2],\n",
    "        c=particle_colors,\n",
    "        s=25.0,  # Very small marker size for many points\n",
    "        alpha=0.25, # Use transparency to see overlapping structures\n",
    "        edgecolors='none' # Remove marker edges for a cleaner look\n",
    "    )\n",
    "\n",
    "    ax.set_title(proj['title'], fontsize=14)\n",
    "    ax.set_xlabel(proj['labels'][0], fontsize=12)\n",
    "    ax.set_ylabel(proj['labels'][1], fontsize=12)\n",
    "\n",
    "    if rad:\n",
    "        ax.set_xlim(-rad, rad)\n",
    "        ax.set_ylim(-rad, rad)\n",
    "\n",
    "legend_patches = [mpatches.Patch(color=color_map[hid], label=hid) for hid in unique_haloids]\n",
    "# Display the legend\n",
    "if num_unique_halos <= 20:\n",
    "    axes[0].legend(handles=legend_patches, title=\"Original Halo ID\", loc='upper right', fontsize=8)\n",
    "else:\n",
    "    print(f\"Warning: {num_unique_halos} unique halos found. Legend will not be displayed to avoid clutter.\")\n",
    "\n",
    "fig.suptitle(f\"Snapshot {timestep}\", fontsize=18, y=1.02)\n",
    "plt.tight_layout(rect=[0, 0, 1, 0.98])\n",
    "# 6. Set plot titles and labels\n",
    "# plt.title(\"Stellar Positions Colored by Original Halo\", fontsize=16)\n",
    "# plt.xlabel(\"x (kpc)\", fontsize=12)\n",
    "# plt.ylabel(\"y (kpc)\", fontsize=12)\n",
    "# plt.xlim(-rad, rad)\n",
    "# plt.ylim(-rad, rad)\n",
    "# plt.gca().set_aspect('equal', adjustable='box') # Ensure x and y axes have the same scale\n",
    "# plt.grid(True, linestyle='--', alpha=0.5)\n",
    "plt.show()"
   ]
  },
  {
   "cell_type": "code",
   "execution_count": null,
   "id": "dc8bca90",
   "metadata": {},
   "outputs": [
    {
     "ename": "TypeError",
     "evalue": "ColormapRegistry.get_cmap() takes 2 positional arguments but 3 were given",
     "output_type": "error",
     "traceback": [
      "\u001b[31m---------------------------------------------------------------------------\u001b[39m",
      "\u001b[31mTypeError\u001b[39m                                 Traceback (most recent call last)",
      "\u001b[36mCell\u001b[39m\u001b[36m \u001b[39m\u001b[32mIn[154]\u001b[39m\u001b[32m, line 14\u001b[39m\n\u001b[32m     12\u001b[39m \u001b[38;5;66;03m# Use a robust colormap that can handle many categories\u001b[39;00m\n\u001b[32m     13\u001b[39m \u001b[38;5;28;01mif\u001b[39;00m num_unique_halos <= \u001b[32m10\u001b[39m:\n\u001b[32m---> \u001b[39m\u001b[32m14\u001b[39m     colors = plt.colormaps.get_cmap(\u001b[33m'\u001b[39m\u001b[33mviridis\u001b[39m\u001b[33m'\u001b[39m, num_unique_halos)\n\u001b[32m     15\u001b[39m \u001b[38;5;28;01melse\u001b[39;00m:\n\u001b[32m     16\u001b[39m     \u001b[38;5;66;03m# For more than 20 halos, 'viridis' or 'plasma' can work, though colors may be less distinct\u001b[39;00m\n\u001b[32m     17\u001b[39m     colors = plt.colormaps.get_cmap(\u001b[33m'\u001b[39m\u001b[33mviridis\u001b[39m\u001b[33m'\u001b[39m, num_unique_halos)\n",
      "\u001b[31mTypeError\u001b[39m: ColormapRegistry.get_cmap() takes 2 positional arguments but 3 were given"
     ]
    }
   ],
   "source": [
    "import numpy as np\n",
    "\n",
    "# Ensure haloids is a numpy array for efficient processing\n",
    "haloids = np.array(haloids)\n",
    "\n",
    "# 1. Find the unique halo IDs to create a color mapping\n",
    "unique_haloids = np.unique(haloids)\n",
    "\n",
    "# 2. Create a color map that assigns a unique color to each halo ID.\n",
    "#    Using a qualitative colormap like 'tab20' is good for distinct categories.\n",
    "num_unique_halos = len(unique_haloids)\n",
    "# Use a robust colormap that can handle many categories\n",
    "if num_unique_halos <= 10:\n",
    "    colors = plt.cm.get_cmap('viridis', num_unique_halos)\n",
    "else:\n",
    "    # For more than 20 halos, 'viridis' or 'plasma' can work, though colors may be less distinct\n",
    "    colors = plt.cm.get_cmap('viridis', num_unique_halos)\n",
    "    \n",
    "color_map = {hid: colors(i) for i, hid in enumerate(unique_haloids)}\n",
    "\n",
    "# 3. Create an array of colors for each star particle\n",
    "particle_colors = [color_map[hid] for hid in haloids]\n",
    "\n",
    "# 4. Create the scatter plot\n",
    "plt.figure(figsize=(18, 18))\n",
    "plt.scatter(\n",
    "    sp.s['pos'][mask][:, 0], \n",
    "    sp.s['pos'][mask][:, 1],\n",
    "    c=particle_colors,\n",
    "    s=25.0,  # Very small marker size for many points\n",
    "    alpha=0.25, # Use transparency to see overlapping structures\n",
    "    edgecolors='none' # Remove marker edges for a cleaner look\n",
    ")\n",
    "\n",
    "legend_patches = [mpatches.Patch(color=color_map[hid], label=hid) for hid in unique_haloids]\n",
    "# Display the legend\n",
    "if num_unique_halos <= 20:\n",
    "    plt.legend(handles=legend_patches, title=\"Original Halo ID\", loc='upper right', fontsize=8)\n",
    "else:\n",
    "    print(f\"Warning: {num_unique_halos} unique halos found. Legend will not be displayed to avoid clutter.\")\n",
    "\n",
    "# 6. Set plot titles and labels\n",
    "plt.title(\"Stellar Positions Colored by Original Halo\", fontsize=16)\n",
    "plt.xlabel(\"x (kpc)\", fontsize=12)\n",
    "plt.ylabel(\"y (kpc)\", fontsize=12)\n",
    "plt.xlim(-rad, rad)\n",
    "plt.ylim(-rad, rad)\n",
    "plt.gca().set_aspect('equal', adjustable='box') # Ensure x and y axes have the same scale\n",
    "# plt.grid(True, linestyle='--', alpha=0.5)\n",
    "plt.show()"
   ]
  },
  {
   "cell_type": "code",
   "execution_count": 59,
   "id": "65a7e494",
   "metadata": {},
   "outputs": [
    {
     "data": {
      "text/plain": [
       "['HII',\n",
       " 'HeIII',\n",
       " 'ne',\n",
       " 'hetot',\n",
       " 'hydrogen',\n",
       " 'feh',\n",
       " 'oxh',\n",
       " 'ofe',\n",
       " 'mgfe',\n",
       " 'nefe',\n",
       " 'sife',\n",
       " 'c_s',\n",
       " 'c_s_turb',\n",
       " 'mjeans',\n",
       " 'mjeans_turb',\n",
       " 'ljeans',\n",
       " 'ljeans_turb',\n",
       " 'U_mag',\n",
       " 'U_lum_den',\n",
       " 'B_mag',\n",
       " 'B_lum_den',\n",
       " 'V_mag',\n",
       " 'V_lum_den',\n",
       " 'R_mag',\n",
       " 'R_lum_den',\n",
       " 'I_mag',\n",
       " 'I_lum_den',\n",
       " 'J_mag',\n",
       " 'J_lum_den',\n",
       " 'H_mag',\n",
       " 'H_lum_den',\n",
       " 'K_mag',\n",
       " 'K_lum_den',\n",
       " 'u_mag',\n",
       " 'u_lum_den',\n",
       " 'g_mag',\n",
       " 'g_lum_den',\n",
       " 'r_mag',\n",
       " 'r_lum_den',\n",
       " 'i_mag',\n",
       " 'i_lum_den',\n",
       " 'z_mag',\n",
       " 'z_lum_den',\n",
       " 'y_mag',\n",
       " 'y_lum_den',\n",
       " 'r',\n",
       " 'rxy',\n",
       " 'vr',\n",
       " 'v2',\n",
       " 'vt',\n",
       " 'ke',\n",
       " 'te',\n",
       " 'j',\n",
       " 'j2',\n",
       " 'jz',\n",
       " 'vrxy',\n",
       " 'vcxy',\n",
       " 'vphi',\n",
       " 'vtheta',\n",
       " 'v_mean',\n",
       " 'v_disp',\n",
       " 'v_curl',\n",
       " 'vorticity',\n",
       " 'v_div',\n",
       " 'age',\n",
       " 'theta',\n",
       " 'alt',\n",
       " 'az',\n",
       " 'cs',\n",
       " 'mu',\n",
       " 'p',\n",
       " 'u',\n",
       " 'temp',\n",
       " 'zeldovich_offset',\n",
       " 'aform',\n",
       " 'tform',\n",
       " 'iord_argsort',\n",
       " 'smooth',\n",
       " 'rho',\n",
       " 'phi',\n",
       " 'metals',\n",
       " 'pos',\n",
       " 'vel',\n",
       " 'eps',\n",
       " 'mass',\n",
       " 'tform']"
      ]
     },
     "execution_count": 59,
     "metadata": {},
     "output_type": "execute_result"
    }
   ],
   "source": [
    "sp.s.all_keys()"
   ]
  },
  {
   "cell_type": "code",
   "execution_count": 56,
   "id": "336e0573",
   "metadata": {},
   "outputs": [
    {
     "name": "stderr",
     "output_type": "stream",
     "text": [
      "/tmp/ipykernel_34615/547441235.py:5: MatplotlibDeprecationWarning: Passing label as a length 205466 sequence when plotting a single dataset is deprecated in Matplotlib 3.9 and will error in 3.11.  To keep the current behavior, cast the sequence to string before passing.\n",
      "  plt.plot(\n"
     ]
    },
    {
     "data": {
      "image/png": "[encoded data removed]",
      "text/plain": [
       "<Figure size 640x480 with 1 Axes>"
      ]
     },
     "metadata": {},
     "output_type": "display_data"
    }
   ],
   "source": [
    "#show the movement of each halo's COM\n",
    "import matplotlib.pyplot as plt\n",
    "from mpl_toolkits.mplot3d import Axes3D\n",
    "\n",
    "plt.plot(\n",
    "    sp.s['pos'][:, 0], sp.s['pos'][:, 1],label=haloids)\n",
    "\n",
    "# fig= plt.figure(figsize=(12,9))\n",
    "# ax=fig.add_subplot(111, projection='3d')\n",
    "\n",
    "# ax.plot(sp.s['pos'][:, 0], sp.s['pos'][:, 1], sp.s['pos'][:, 2], label=haloids)\n",
    "\n",
    "# ax.set_xlabel(\"x(kpc)\")\n",
    "# ax.set_ylabel(\"y(kpc)\")\n",
    "# ax.set_zlabel(\"z(kpc)\")\n",
    "\n",
    "# ax.set_title(\"Movement of COM\")\n",
    "# ax.legend()\n",
    "#plt.grid(True)\n",
    "# plt.savefig('Movement_COM.png')\n",
    "plt.show()"
   ]
  },
  {
   "cell_type": "code",
   "execution_count": null,
   "id": "c42e177b",
   "metadata": {},
   "outputs": [],
   "source": []
  }
 ],
 "metadata": {
  "kernelspec": {
   "display_name": "dwarf",
   "language": "python",
   "name": "python3"
  },
  "language_info": {
   "codemirror_mode": {
    "name": "ipython",
    "version": 3
   },
   "file_extension": ".py",
   "mimetype": "text/x-python",
   "name": "python",
   "nbconvert_exporter": "python",
   "pygments_lexer": "ipython3",
   "version": "3.11.13"
  }
 },
 "nbformat": 4,
 "nbformat_minor": 5
}
