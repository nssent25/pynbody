{
 "cells": [
  {
   "cell_type": "markdown",
   "id": "3ecdca4f",
   "metadata": {},
   "source": [
    "# Save Halo Mergers\n",
    "Nithun Selva, August 2025\n",
    "\n",
    "This notebook assumes that you have the output from `run_Anna_startrace.ipynb` available."
   ]
  },
  {
   "cell_type": "markdown",
   "id": "c554bc6b",
   "metadata": {},
   "source": [
    "### Import"
   ]
  },
  {
   "cell_type": "code",
   "execution_count": 2,
   "id": "4a58c613",
   "metadata": {},
   "outputs": [],
   "source": [
    "%matplotlib inline\n",
    "import os\n",
    "import socket\n",
    "hostname = socket.gethostname()\n",
    "if 'emu' in hostname:\n",
    "    os.environ['TANGOS_SIMULATION_FOLDER'] = '/home/ns1917/tangos_sims/'\n",
    "    # os.environ['TANGOS_DB_CONNECTION'] = '/home/ns1917/Databases/Marvel_BN_N10.db'\n",
    "    os.environ['TANGOS_DB_CONNECTION'] = '/home/ns1917/pynbody/Tangos/Marvel_BN_N10.db'\n",
    "    os.chdir('/home/ns1917/pynbody/AnnaWright_startrace/')\n",
    "else: # grinnell\n",
    "    os.environ['TANGOS_SIMULATION_FOLDER'] = '/home/selvani/MAP/Sims/cptmarvel.cosmo25cmb/cptmarvel.cosmo25cmb.4096g5HbwK1BH/'\n",
    "    # os.environ['TANGOS_DB_CONNECTION'] = '/home/selvani/MAP/Data/Marvel_BN_N10.db'\n",
    "    os.environ['TANGOS_DB_CONNECTION'] = '/home/selvani/MAP/pynbody/Tangos/Marvel_BN_N10.db'\n",
    "    os.chdir('/home/selvani/MAP/pynbody/AnnaWright_startrace/')\n",
    "\n",
    "import pynbody\n",
    "import numpy as np\n",
    "import h5py\n",
    "import math\n",
    "import tangos as db\n",
    "import matplotlib.pyplot as plt\n",
    "import matplotlib.patches as mpatches\n",
    "import glob\n",
    "from pynbody.array import SimArray\n",
    "import pandas as pd\n",
    "import tqdm.auto as tqdm"
   ]
  },
  {
   "cell_type": "code",
   "execution_count": 3,
   "id": "939daf0f",
   "metadata": {},
   "outputs": [],
   "source": [
    "# Simulation name and path\n",
    "if 'emu' in hostname:\n",
    "    simpath = '/home/ns1917/tangos_sims/'\n",
    "    outfile_dir = \"/home/ns1917/pynbody/stellarhalo_trace_aw/\"\n",
    "else:\n",
    "    simpath = '/home/selvani/MAP/Sims/cptmarvel.cosmo25cmb/cptmarvel.cosmo25cmb.4096g5HbwK1BH/'\n",
    "    outfile_dir = \"/home/selvani/MAP/pynbody/stellarhalo_trace_aw/\"\n",
    "\n",
    "# basename = 'cptmarvel.cosmo25cmb.4096g5HbwK1BH'\n",
    "# basename = 'rogue.cosmo25cmb.4096g5HbwK1BH'\n",
    "basename = 'storm.cosmo25cmb.4096g5HbwK1BH'\n",
    "# ss_dir = 'cptmarvel.4096g5HbwK1BH_bn'#'snapshots_200crit_h329' # same as db_sim?\n",
    "# ss_dir = 'rogue.4096g5HbwK1BH_bn'\n",
    "ss_dir = 'storm.4096g5HbwK1BH_bn'\n",
    "sim_base = simpath + ss_dir + '/'\n",
    "ss_z0 = sim_base + basename + '.004096'"
   ]
  },
  {
   "cell_type": "code",
   "execution_count": 4,
   "id": "d7e73711",
   "metadata": {},
   "outputs": [],
   "source": [
    "# Read in data from Anna's pipeline\n",
    "with h5py.File(outfile_dir+'/'+basename+'_allhalostardata_upd.h5','r') as f:\n",
    "    hostids = f['host_IDs'].asstr()[:] # unique host IDs\n",
    "    partids = f['particle_IDs'][:] # iords\n",
    "    pct = f['particle_creation_times'][:] # formation times\n",
    "    ph = f['particle_hosts'][:] # local host IDs (i.e., host at formation time)\n",
    "    pp = f['particle_positions'][:] # position at formation time\n",
    "    tsloc = f['timestep_location'][:] # snapshot where star particle first appears\n",
    "uIDs = np.unique(hostids)"
   ]
  },
  {
   "cell_type": "code",
   "execution_count": 5,
   "id": "52cf716c",
   "metadata": {},
   "outputs": [],
   "source": [
    "def get_halo(snapshot, halo_number):\n",
    "    ts = db.get_timestep(f\"{ss_dir}/%{snapshot}\")\n",
    "    # print(f\"Retrieved timestep: {ts}\")\n",
    "    return ts.halos.filter_by(halo_number=int(halo_number)).first()"
   ]
  },
  {
   "cell_type": "code",
   "execution_count": 6,
   "id": "069791dc",
   "metadata": {},
   "outputs": [],
   "source": [
    "halo_particle_dict = {} # map iords to their unique host IDs\n",
    "for i, part in enumerate(partids):\n",
    "    halo_particle_dict[part] = hostids[i]"
   ]
  },
  {
   "cell_type": "code",
   "execution_count": 7,
   "id": "e96ef4fd",
   "metadata": {},
   "outputs": [
    {
     "data": {
      "text/plain": [
       "array(['0000_0', '0192_25', '0192_38', '0288_46', '0288_82', '0288_95',\n",
       "       '0384_39', '0384_68', '0480_15', '0480_19', '0480_43', '0480_45',\n",
       "       '0480_61', '0576_14', '0576_23', '0672_27', '0672_30', '0672_35',\n",
       "       '0672_9', '0768_63', '0864_26', '0864_90', '0960_8', '1056_27',\n",
       "       '1056_364', '1344_29', '1440_25', '1440_49', '1536_25', '1632_6',\n",
       "       '1728_3', '1728_93', '1824_143', '2112_11', '2304_133', '2304_14',\n",
       "       '2400_28', '2400_29', '2592_240', '2592_966', '2688_47', '2976_36',\n",
       "       '3168_138', '3168_27', '3264_53', '3456_270', '3456_56',\n",
       "       '3552_300', '3648_85', '3648_90', '3744_13', '4032_287', '4096_1',\n",
       "       '4096_10', '4096_11', '4096_124', '4096_13', '4096_14', '4096_16',\n",
       "       '4096_192', '4096_2', '4096_20', '4096_208', '4096_218', '4096_22',\n",
       "       '4096_23', '4096_24', '4096_253', '4096_28', '4096_292', '4096_3',\n",
       "       '4096_34', '4096_35', '4096_39', '4096_4', '4096_43', '4096_47',\n",
       "       '4096_49', '4096_5', '4096_50', '4096_6', '4096_60', '4096_7',\n",
       "       '4096_72', '4096_8'], dtype=object)"
      ]
     },
     "execution_count": 7,
     "metadata": {},
     "output_type": "execute_result"
    }
   ],
   "source": [
    "uIDs"
   ]
  },
  {
   "cell_type": "code",
   "execution_count": 8,
   "id": "63dc1bb7",
   "metadata": {},
   "outputs": [],
   "source": [
    "s = pynbody.load(ss_z0)\n",
    "h = s.halos(halo_numbers='v1')\n",
    "main_halo = get_halo('004096', 4)\n",
    "mask = s.s['amiga.grp'] == main_halo.halo_number"
   ]
  },
  {
   "cell_type": "code",
   "execution_count": 9,
   "id": "0133e1b9",
   "metadata": {},
   "outputs": [
    {
     "data": {
      "text/plain": [
       "dict_keys(['004096', '004032', '003936', '003840', '003744', '003648', '003552', '003456', '003360', '003264', '003168', '003072', '002976', '002880', '002784', '002688', '002592', '002496', '002400', '002304', '002208', '002112', '002016', '001920', '001824', '001728', '001632', '001536', '001440', '001344', '001248', '001152', '001056', '000960', '000864', '000768', '000672', '000576', '000480', '000384', '000288', '000192'])"
      ]
     },
     "execution_count": 9,
     "metadata": {},
     "output_type": "execute_result"
    }
   ],
   "source": [
    "halo_numbers, dbids = main_halo.calculate_for_progenitors(\"halo_number()\", \"dbid()\")\n",
    "snapshots = [db.get_halo(dbid).timestep.extension[-6:] for dbid in dbids]\n",
    "halo_snapshots_dict = {snapshot: halo_number for snapshot, halo_number in zip(snapshots, dbids)}\n",
    "halo_snapshots_dict.keys()"
   ]
  },
  {
   "cell_type": "code",
   "execution_count": 10,
   "id": "f3ff3b2b",
   "metadata": {},
   "outputs": [
    {
     "data": {
      "text/plain": [
       "array(['0000_0', '0288_95', '1056_27', '2304_14', '4096_4'], dtype='<U7')"
      ]
     },
     "execution_count": 10,
     "metadata": {},
     "output_type": "execute_result"
    }
   ],
   "source": [
    "stars_to_consider = s.s['iord'][mask]\n",
    "unique_starids = np.unique([halo_particle_dict[star] for star in stars_to_consider])\n",
    "unique_starids"
   ]
  },
  {
   "cell_type": "code",
   "execution_count": 10,
   "id": "133e2415",
   "metadata": {},
   "outputs": [],
   "source": [
    "idx = '2304_14'\n",
    "snapshot, halo_num = idx.split('_')\n",
    "halo_merger = get_halo(snapshot, int(halo_num))\n",
    "# halo_numbers = halo.calculate_for_progenitors('halo_number()')\n",
    "\n",
    "halo_starmask = hostids == idx\n",
    "all_star_iords = partids[halo_starmask]\n",
    "all_star_tform = pct[halo_starmask]\n",
    "\n",
    "# mask for pynbody\n",
    "# all_starmask = "
   ]
  },
  {
   "cell_type": "code",
   "execution_count": 11,
   "id": "46d5efa6",
   "metadata": {},
   "outputs": [
    {
     "data": {
      "text/plain": [
       "<Halo 'storm.4096g5HbwK1BH_bn/storm.cosmo25cmb.4096g5HbwK1BH.002016/halo_9' | NDM=882640 Nstar=43532 Ngas=154004>"
      ]
     },
     "execution_count": 11,
     "metadata": {},
     "output_type": "execute_result"
    }
   ],
   "source": [
    "ndm, halonums, dbids2 = halo_merger.calculate_for_progenitors('NDM()', 'halo_number()', 'dbid()')\n",
    "halo_dm_max = db.get_halo(dbids2[np.argmax(ndm)])\n",
    "halo_dm_max"
   ]
  },
  {
   "cell_type": "code",
   "execution_count": 12,
   "id": "54e3bfe5",
   "metadata": {},
   "outputs": [
    {
     "data": {
      "text/plain": [
       "np.int64(838948)"
      ]
     },
     "execution_count": 12,
     "metadata": {},
     "output_type": "execute_result"
    }
   ],
   "source": [
    "# get dark matter iords we want\n",
    "sim = pynbody.load(halo_dm_max.timestep.filename)\n",
    "mask = sim.dm['amiga.grp'] == int(halo_dm_max.halo_number)\n",
    "all_dm_iords = sim.dm['iord'][mask]\n",
    "np.sum(mask)"
   ]
  },
  {
   "cell_type": "code",
   "execution_count": 13,
   "id": "db6df347",
   "metadata": {},
   "outputs": [],
   "source": [
    "# --- 3. Initialize data arrays ---\n",
    "timesteps_to_process = db.get_simulation(ss_dir).timesteps\n",
    "num_snaps = len(timesteps_to_process)\n",
    "num_star_particles = len(all_star_iords)\n",
    "num_dm_particles = len(all_dm_iords)\n",
    "\n",
    "# Use np.nan to fill arrays. This makes it clear if a particle was not present in a snapshot.\n",
    "star_iords = np.full((num_snaps, num_star_particles), np.nan)\n",
    "star_pos = np.full((num_snaps, num_star_particles, 3), np.nan)\n",
    "star_vel = np.full((num_snaps, num_star_particles, 3), np.nan)\n",
    "star_mass = np.full((num_snaps, num_star_particles), np.nan)\n",
    "star_age = np.full((num_snaps, num_star_particles), np.nan)\n",
    "star_feh = np.full((num_snaps, num_star_particles), np.nan) # Using Fe/H as a single metallicity value\n",
    "\n",
    "dm_pos = np.full((num_snaps, num_dm_particles, 3), np.nan)\n",
    "dm_vel = np.full((num_snaps, num_dm_particles, 3), np.nan)\n",
    "dm_mass = np.full((num_snaps, num_dm_particles), np.nan)\n",
    "\n",
    "zs = np.zeros(num_snaps)\n",
    "snaps = [ts.extension for ts in timesteps_to_process]\n",
    "\n",
    "all_star_iords = np.sort(all_star_iords)\n",
    "all_dm_iords = np.sort(all_dm_iords)\n",
    "\n",
    "star_iord_map = {iord: k for k, iord in enumerate(all_star_iords)}\n",
    "dm_iord_map = {iord: k for k, iord in enumerate(all_dm_iords)}\n"
   ]
  },
  {
   "cell_type": "code",
   "execution_count": 14,
   "id": "a4327a37",
   "metadata": {},
   "outputs": [
    {
     "data": {
      "application/vnd.jupyter.widget-view+json": {
       "model_id": "bc45d22773f2421f8464617aeb14f8d7",
       "version_major": 2,
       "version_minor": 0
      },
      "text/plain": [
       "  0%|          | 0/2 [00:00<?, ?it/s]"
      ]
     },
     "metadata": {},
     "output_type": "display_data"
    },
    {
     "name": "stdout",
     "output_type": "stream",
     "text": [
      "Loaded snapshot: 000192, Centered on halo: 59\n",
      "Processed 0 star particles in snapshot 000192\n",
      "Processed 838948 DM particles in snapshot 000192\n",
      "Loaded snapshot: 000288, Centered on halo: 37\n",
      "Processed 34 star particles in snapshot 000288\n",
      "Processed 838948 DM particles in snapshot 000288\n"
     ]
    }
   ],
   "source": [
    "prev_time = 0\n",
    "for i, tstep in enumerate(tqdm.tqdm(timesteps_to_process[:2])):\n",
    "    s = pynbody.load(tstep.filename)\n",
    "    s.physical_units()\n",
    "    h = s.halos(halo_numbers='v1')\n",
    "    halo = db.get_halo(halo_snapshots_dict[tstep.extension[-6:]])\n",
    "    print(f\"Loaded snapshot: {tstep.extension[-6:]}, \", end='')\n",
    "    zs[i] = s.properties['z']\n",
    "\n",
    "    # Center the whole simulation on the halo of interest.\n",
    "    pynbody.analysis.halo.center(h[halo.halo_number], vel=True)\n",
    "    print(f\"Centered on halo: {halo.halo_number}\")\n",
    "\n",
    "    stars_present_mask = pynbody.filt.HighPass('tform', prev_time)\n",
    "    subs = s.s[stars_present_mask and np.isin(s.s['iord'], all_star_iords)]\n",
    "    \n",
    "    iords_in_subs = np.array(subs['iord'])\n",
    "    k_indices_star = np.array([star_iord_map[iord] for iord in iords_in_subs])\n",
    "\n",
    "    if len(k_indices_star) > 0:\n",
    "        star_pos[i, k_indices_star, :] = subs['pos']\n",
    "        star_vel[i, k_indices_star, :] = subs['vel']\n",
    "        star_mass[i, k_indices_star] = subs['mass']\n",
    "        star_age[i, k_indices_star] = subs['age']\n",
    "        star_feh[i, k_indices_star] = subs['feh']\n",
    "    print(f\"Processed {len(k_indices_star)} star particles in snapshot {tstep.extension[-6:]}\")\n",
    "\n",
    "    subd = s.dm[np.isin(s.dm['iord'], all_dm_iords)]\n",
    "    iords_in_subd = np.array(subd['iord'])\n",
    "    k_indices_dm = np.array([dm_iord_map[iord] for iord in iords_in_subd])\n",
    "    if len(k_indices_dm) > 0:\n",
    "        dm_pos[i, k_indices_dm, :] = subd['pos']\n",
    "        dm_vel[i, k_indices_dm, :] = subd['vel']\n",
    "        dm_mass[i, k_indices_dm] = subd['mass']\n",
    "    print(f\"Processed {len(k_indices_dm)} DM particles in snapshot {tstep.extension[-6:]}\")\n",
    "    prev_time = tstep.time_gyr"
   ]
  },
  {
   "cell_type": "code",
   "execution_count": 34,
   "id": "0696ba57",
   "metadata": {},
   "outputs": [
    {
     "data": {
      "text/plain": [
       "HighPass('tform', 6.54e-01)"
      ]
     },
     "execution_count": 34,
     "metadata": {},
     "output_type": "execute_result"
    }
   ],
   "source": [
    "stars_present_mask"
   ]
  },
  {
   "cell_type": "code",
   "execution_count": 30,
   "id": "064385ed",
   "metadata": {},
   "outputs": [
    {
     "data": {
      "text/plain": [
       "SimArray([243770192, 243770193, 243770194, ..., 243788326, 243788327,\n",
       "          243788328])"
      ]
     },
     "execution_count": 30,
     "metadata": {},
     "output_type": "execute_result"
    }
   ],
   "source": [
    "s.s['iord']"
   ]
  },
  {
   "cell_type": "code",
   "execution_count": 27,
   "id": "6ae6f740",
   "metadata": {},
   "outputs": [
    {
     "data": {
      "text/plain": [
       "array([243797074, 243797333, 243797620, ..., 245619727, 245619730,\n",
       "       245619732])"
      ]
     },
     "execution_count": 27,
     "metadata": {},
     "output_type": "execute_result"
    }
   ],
   "source": [
    "all_star_iords"
   ]
  },
  {
   "cell_type": "code",
   "execution_count": 28,
   "id": "a397eb4c",
   "metadata": {},
   "outputs": [
    {
     "data": {
      "text/plain": [
       "<IndexedSubSnap \"/home/ns1917/tangos_sims/storm.4096g5HbwK1BH_bn/storm.cosmo25cmb.4096g5HbwK1BH.000192::star:indexed\" len=0>"
      ]
     },
     "execution_count": 28,
     "metadata": {},
     "output_type": "execute_result"
    }
   ],
   "source": [
    "s.s[np.isin(s.s['iord'], all_star_iords)]"
   ]
  },
  {
   "cell_type": "code",
   "execution_count": null,
   "id": "97f8df57",
   "metadata": {},
   "outputs": [
    {
     "data": {
      "application/vnd.jupyter.widget-view+json": {
       "model_id": "6ef75885b9904c0e9b26247dd5459b4a",
       "version_major": 2,
       "version_minor": 0
      },
      "text/plain": [
       "  0%|          | 0/2 [00:00<?, ?it/s]"
      ]
     },
     "metadata": {},
     "output_type": "display_data"
    },
    {
     "name": "stdout",
     "output_type": "stream",
     "text": [
      "Loaded snapshot: 000192\n",
      "Centered on halo number: 59\n",
      "Processed 44422 star particles in snapshot 000192\n",
      "Processed 838948 DM particles in snapshot 000192\n",
      "Loaded snapshot: 000288\n",
      "Centered on halo number: 37\n",
      "Processed 44422 star particles in snapshot 000288\n",
      "Processed 838948 DM particles in snapshot 000288\n"
     ]
    }
   ],
   "source": [
    "for i, tstep in enumerate(tqdm.tqdm(timesteps_to_process[:2])):\n",
    "    s = pynbody.load(tstep.filename)\n",
    "    s.physical_units()\n",
    "    h = s.halos(halo_numbers='v1')\n",
    "    halo = db.get_halo(halo_snapshots_dict[tstep.extension[-6:]])\n",
    "    print(\"Loaded snapshot:\", tstep.extension[-6:])\n",
    "    zs[i] = s.properties['z']\n",
    "\n",
    "    pynbody.analysis.halo.center(h[halo.halo_number])\n",
    "    print(\"Centered on halo number:\", halo.halo_number)\n",
    "\n",
    "    # Process Stars\n",
    "    s_iord_map = {iord: j for j, iord in enumerate(s.s['iord'])}\n",
    "    current_star_indices_in_snapshot = [s_iord_map.get(iord) for iord in all_star_iords]\n",
    "\n",
    "    subs = s.s[s.s['iord'].isin(all_star_iords)]\n",
    "    for k, iord in enumerate(all_star_iords):\n",
    "        tform = all_star_tform[k]\n",
    "        snap_idx = current_star_indices_in_snapshot[k]\n",
    "        if tform <= tstep.time_gyr and snap_idx is not None:\n",
    "            star_pos[i, k, :] = subs['pos'][snap_idx]\n",
    "            star_vel[i, k, :] = subs['vel'][snap_idx]\n",
    "            star_mass[i, :] = subs['mass']\n",
    "            star_age[i, :] = subs['age']\n",
    "            star_feh[i, :] = subs['feh']\n",
    "    print(f\"Processed {len(all_star_iords)} star particles in snapshot {tstep.extension[-6:]}\")\n",
    "\n",
    "    # Process DM\n",
    "    d_iord_map = {iord: j for j, iord in enumerate(s.d['iord'])}\n",
    "    current_dm_indices_in_snapshot = [d_iord_map.get(iord) for iord in all_dm_iords]\n",
    "\n",
    "    for k, iord in enumerate(all_dm_iords):\n",
    "        snap_idx = current_dm_indices_in_snapshot[k]\n",
    "        if snap_idx is not None:\n",
    "            dm_pos[i, k, :] = s.d['pos'][snap_idx] \n",
    "            dm_vel[i, k, :] = s.d['vel'][snap_idx]\n",
    "            dm_mass[i, k] = s.d['mass'][snap_idx]\n",
    "    print(f\"Processed {len(all_dm_iords)} DM particles in snapshot {tstep.extension[-6:]}\")"
   ]
  },
  {
   "cell_type": "code",
   "execution_count": 16,
   "id": "b36d7d2f",
   "metadata": {},
   "outputs": [
    {
     "data": {
      "text/plain": [
       "'/home/ns1917/pynbody/stellarhalo_trace_aw/uw_boundfrac/storm.4096g5HbwK1BH_bn_4_2304_14_particle_data.h5'"
      ]
     },
     "execution_count": 16,
     "metadata": {},
     "output_type": "execute_result"
    }
   ],
   "source": [
    "output_filename = os.path.join(outfile_dir, 'uw_boundfrac', f\"{ss_dir}_{main_halo.halo_number}_{idx}_particle_data.h5\")\n",
    "output_filename"
   ]
  },
  {
   "cell_type": "code",
   "execution_count": 18,
   "id": "9614eb19",
   "metadata": {},
   "outputs": [
    {
     "name": "stdout",
     "output_type": "stream",
     "text": [
      "Done.\n"
     ]
    }
   ],
   "source": [
    "output_filename = os.path.join(outfile_dir, 'uw_boundfrac', f\"{ss_dir}_{main_halo.halo_number}_{idx}_particle_data.h5\")\n",
    "\n",
    "with h5py.File(output_filename, 'w') as f:\n",
    "    f.create_dataset('snaps', data=np.bytes_(snaps))\n",
    "    f.create_dataset('zs', data=zs)\n",
    "    \n",
    "    # Star data\n",
    "    # f.create_dataset('star_iords', data=all_star_iords)\n",
    "    f.create_dataset('star_pos', data=star_pos)\n",
    "    f.create_dataset('star_vel', data=star_vel)\n",
    "    f.create_dataset('star_mass', data=star_mass)\n",
    "    f.create_dataset('star_age', data=star_age)\n",
    "    f.create_dataset('star_feh', data=star_feh)\n",
    "    \n",
    "    # DM data\n",
    "    # f.create_dataset('dm_iords', data=all_dm_iords)\n",
    "    f.create_dataset('dm_pos', data=dm_pos)\n",
    "    f.create_dataset('dm_vel', data=dm_vel)\n",
    "    f.create_dataset('dm_mass', data=dm_mass)\n",
    "\n",
    "print(\"Done.\")"
   ]
  },
  {
   "cell_type": "code",
   "execution_count": 20,
   "id": "a4b6e993",
   "metadata": {},
   "outputs": [
    {
     "name": "stdout",
     "output_type": "stream",
     "text": [
      "<HDF5 file \"storm.4096g5HbwK1BH_bn_4_2304_14_particle_data.h5\" (mode r)>\n"
     ]
    }
   ],
   "source": [
    "with h5py.File(output_filename, 'r') as f:\n",
    "    print(f)"
   ]
  },
  {
   "cell_type": "code",
   "execution_count": 20,
   "id": "6ba259f1",
   "metadata": {},
   "outputs": [
    {
     "data": {
      "text/plain": [
       "7.728740336776379"
      ]
     },
     "execution_count": 20,
     "metadata": {},
     "output_type": "execute_result"
    }
   ],
   "source": [
    "halo.timestep.time_gyr"
   ]
  },
  {
   "cell_type": "code",
   "execution_count": 24,
   "id": "42a6247a",
   "metadata": {},
   "outputs": [
    {
     "data": {
      "text/plain": [
       "<Halo 'storm.4096g5HbwK1BH_bn/storm.cosmo25cmb.4096g5HbwK1BH.000192/halo_1' | NDM=68256 Nstar=1617 Ngas=44508>"
      ]
     },
     "execution_count": 24,
     "metadata": {},
     "output_type": "execute_result"
    }
   ],
   "source": [
    "halo = get_halo(192, int(1))\n",
    "halo"
   ]
  },
  {
   "cell_type": "code",
   "execution_count": null,
   "id": "4d0afb92",
   "metadata": {},
   "outputs": [],
   "source": [
    "for idx in unique_starids:\n",
    "    # get dm iords\n",
    "    snapshot, halo_num = idx.split('_')\n",
    "    halo = get_halo(snapshot, int(halo_num))\n",
    "    halo.calculate_for_progenitors('')"
   ]
  }
 ],
 "metadata": {
  "kernelspec": {
   "display_name": "dwarf",
   "language": "python",
   "name": "python3"
  },
  "language_info": {
   "codemirror_mode": {
    "name": "ipython",
    "version": 3
   },
   "file_extension": ".py",
   "mimetype": "text/x-python",
   "name": "python",
   "nbconvert_exporter": "python",
   "pygments_lexer": "ipython3",
   "version": "3.11.13"
  }
 },
 "nbformat": 4,
 "nbformat_minor": 5
}
