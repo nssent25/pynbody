{
 "cells": [
  {
   "cell_type": "markdown",
   "id": "028c6adf-b8f9-4fb6-8ab9-34129f48f384",
   "metadata": {},
   "source": [
    "# Justice League Stellar Merger History\n",
    "\n",
    "## Charlotte Christensen, June 11 2025\n",
    "\n",
    "This jupyter notebook runs Anna Wright's code (/home/christenc/Code/python/AnnaWrite_startrace/RomZoomSHAnalysisScripts) to identify the stars in those halos."
   ]
  },
  {
   "cell_type": "markdown",
   "id": "047d7f41-c271-49dc-8515-e9903e6abc40",
   "metadata": {},
   "source": [
    "From Anna's Email (June 4, 2025)\n",
    "\n",
    "I managed to get through the pipeline and remember what everything did well enough to comment it today, but didn't have time to test it on a new halo. However, if you'd like to try it in the next 24 hours or so, I've attached a zip file with steps 1-7 of my pipeline (there are 8 files, but TrackDownStars_rz.ipynb and FixHostIDs_rz.py are really two halves of a single step). Step 0 is creating a tangos db for the simulation you'll be working with and my pipeline uses that and the simulation itself to create an hdf5 file with relevant data for each star particle. The most important bits are a unique host ID for each star particle so that stars that formed in the same halo can be grouped together, even if that halo doesn't exist at z=0, and the orbital circularity of each star particle, which I use to identify members of the stellar halo.\n",
    "I will be testing it tomorrow on one of the newer Romulus Zooms, so there's a good chance I'll be sending you an updated version very soon with any bug fixes :) \n",
    "I apologize for how many pieces the pipeline is in - it really isn't all that complicated, but it was adapted from what I did for the FOGGIE sims and I split the steps of that pipeline up so that I could do as much as possible locally (rather than on Pleiades) and so that I could sanity check as often as possible. Please let me know if you have any issues, questions, or suggestions! I'd definitely be eager to hear what Juan does differently!"
   ]
  },
  {
   "cell_type": "code",
   "execution_count": 1,
   "id": "43ef31dd",
   "metadata": {},
   "outputs": [
    {
     "data": {
      "text/plain": [
       "[<Simulation(\"cptmarvel.4096g5HbwK1BH_bn\")>]"
      ]
     },
     "execution_count": 1,
     "metadata": {},
     "output_type": "execute_result"
    }
   ],
   "source": [
    "import os\n",
    "os.environ['TANGOS_SIMULATION_FOLDER'] = '/home/selvani/MAP/Sims/cptmarvel.cosmo25cmb/cptmarvel.cosmo25cmb.4096g5HbwK1BH/'\n",
    "os.environ['TANGOS_DB_CONNECTION'] = '/home/selvani/MAP/Data/Marvel_BN_N10.db'\n",
    "os.chdir('/home/selvani/MAP/pynbody/AnnaWright_startrace/')\n",
    "\n",
    "import tangos\n",
    "tangos.all_simulations()"
   ]
  },
  {
   "cell_type": "code",
   "execution_count": 2,
   "id": "c73b5163-6a26-4038-ac15-7ec8e1db8f79",
   "metadata": {},
   "outputs": [],
   "source": [
    "import pynbody as pb\n",
    "import numpy as np\n",
    "import pandas as pd\n",
    "import glob\n",
    "import h5py\n",
    "import tangos\n",
    "\n",
    "# For importing modules\n",
    "import importlib.util\n",
    "import sys\n",
    "from pathlib import Path"
   ]
  },
  {
   "cell_type": "code",
   "execution_count": 3,
   "id": "7c6b7880-97df-458e-a5df-20e87a1aa328",
   "metadata": {},
   "outputs": [],
   "source": [
    "# Simulation name and path\n",
    "\n",
    "# Elena\n",
    "# simname = 'h329' # not needed?\n",
    "# res = '100'  # The Near Mint runs not needed?\n",
    "#res = 'Mint'  # The Mint\n",
    "simpath = '/home/selvani/MAP/Sims/cptmarvel.cosmo25cmb/cptmarvel.cosmo25cmb.4096g5HbwK1BH/'\n",
    "basename = 'cptmarvel.cosmo25cmb.4096g5HbwK1BH'\n",
    "\n",
    "ss_dir = 'cptmarvel.4096g5HbwK1BH_bn'#'snapshots_200crit_h329' # same as db_sim?\n",
    "sim_base = simpath + ss_dir + '/'\n",
    "ss_z0 = sim_base + basename + '.004096'\n",
    "\n",
    "outfile_dir = \"/home/selvani/MAP/pynbody/stellarhalo_trace_aw/\""
   ]
  },
  {
   "cell_type": "markdown",
   "id": "e1bda66b-bfec-4fbe-b9c2-efd22223bf50",
   "metadata": {},
   "source": [
    "### 1) GrabTF_rz.py"
   ]
  },
  {
   "cell_type": "markdown",
   "id": "7cb30c3b",
   "metadata": {},
   "source": [
    "Step 1 of stellar halo pipeline\n",
    "\n",
    "**What it does:**\n",
    "- Loads the final snapshot (z=0) of the simulation\n",
    "- Extracts formation time (`tform`) and particle IDs (`iord`) for all star particles that have `tform > 0` (i.e., actual stars, not wind particles)\n",
    "- Converts formation times to Gyr units\n",
    "- Creates a 2D array with particle IDs in the first row and formation times in the second row\n",
    "- Saves this data as a `.npy` file named `<simulation_name>_tf.npy`\n",
    "- Prints the total number of star particles found as a sanity check\n",
    "\n",
    "**Input:** Simulation snapshot (specifically the final snapshot `.004096`)\n",
    "\n",
    "**Output:** `<sim>_tf.npy` - NumPy file containing:\n",
    "- Row 0: Star particle IDs (`iord`)  \n",
    "- Row 1: Formation times in Gyr (`tform`)\n",
    "\n",
    "**Purpose:** This creates the foundation dataset that subsequent steps will use to trace back each star particle to determine which halo it was forming in at its birth time.\n",
    "\n",
    "* Usage:   `python GrabTF_rz.py <simpath> <output_directory>`\n",
    "* Example: `python GrabTF_rz.py /path/to/sim/ /path/to/output/`"
   ]
  },
  {
   "cell_type": "code",
   "execution_count": 26,
   "id": "3c029f76-5a05-419f-891c-086bdd966cc8",
   "metadata": {},
   "outputs": [],
   "source": [
    "# Import Anna's code, even if not along my path\n",
    "file_path = '/home/selvani/MAP/pynbody/AnnaWright_startrace/RomZoomSHAnalysisScripts/GrabTF_rz.py'\n",
    "module_name = 'GrabTF_rz'\n",
    "\n",
    "spec = importlib.util.spec_from_file_location(module_name, file_path)\n",
    "module = importlib.util.module_from_spec(spec)\n",
    "spec.loader.exec_module(module)"
   ]
  },
  {
   "cell_type": "code",
   "execution_count": 27,
   "id": "83c905b6-1995-4c2f-8626-5bdd8c64ea59",
   "metadata": {},
   "outputs": [
    {
     "name": "stdout",
     "output_type": "stream",
     "text": [
      "414596 stars found!\n",
      "Save to  /home/selvani/MAP/pynbody/stellarhalo_trace_aw/cptmarvel.cosmo25cmb.4096g5HbwK1BH_tf.npy\n"
     ]
    }
   ],
   "source": [
    "module.main(simpath, outfile_dir)"
   ]
  },
  {
   "cell_type": "markdown",
   "id": "f12957c0-84b6-4f37-a986-498c99e9a9bb",
   "metadata": {},
   "source": [
    "### 2) LocAtCreation_pool_rz.py\n",
    "\n",
    "<!-- Step 2 of stellar halo pipeline -->\n",
    "Identifies the host of each star particle in \\<sim\\>_tf.npy at the \n",
    "time it was formed. **Note that what is stored is NOT the amiga.grp \n",
    "ID, but the index of that halo in the tangos database. The amiga.grp\n",
    "ID can be backed out via tangos with sim[stepnum][halonum].finder_id.** \n",
    "(CC, I believe that I edited this so now the halo_)\n",
    "\n",
    "<!-- Output: <sim>_stardata_<snapshot>.h5\n",
    "        where <snapshot> is the first snapshot that a given process\n",
    "        analyzed. There will be <nproc> of these files generated\n",
    "        and processes will not necessarily analyze adjacent snapshots -->\n",
    "\n",
    "<!-- * Usage:   python LocAtCreation_pool_rz.py <sim> optional:<nproc>\n",
    "* Example: python LocAtCreation_pool_rz.py r634 2 -->\n",
    "\n",
    "<!-- Includes an optional argument to specify number of processes to run\n",
    "with; default is 4. Note that this will get reduced if you've specified\n",
    "more processes than you have snapshots to process. -->\n",
    "\n",
    "<!-- Note that this has the name of the snapshots directory hardcoded into FindHaloStars.py (L63)\n",
    "-- Will need to be adjusted\n",
    "The \n",
    "\n",
    "CC: When I did my edits, I moved code into FindHaloStars so that it can be imported for multiprocessing -->\n"
   ]
  },
  {
   "cell_type": "markdown",
   "id": "a54b11b1",
   "metadata": {},
   "source": [
    "Step 2 of stellar halo pipeline\n",
    "\n",
    "**What it does:**\n",
    "- Loads the `<sim>_tf.npy` file created in step 1 (containing star particle IDs and formation times)\n",
    "- Queries the Tangos database to get all available simulation snapshots and their cosmic times\n",
    "- Determines which snapshots contain newly formed stars by binning star formation times\n",
    "- Uses multiprocessing to analyze snapshots in parallel for efficiency\n",
    "- For each relevant snapshot, identifies which halo each star particle belonged to at the time it formed\n",
    "- Extracts additional data for each star: formation position, formation time, and host halo ID\n",
    "- Converts Amiga halo group IDs to Tangos database indices for consistency\n",
    "- Handles unbound particles (those not in any halo) by assigning them host ID = -1\n",
    "\n",
    "**Detailed Process:**\n",
    "1. **Data Loading**: Loads the `_tf.npy` file containing star particle IDs and formation times\n",
    "2. **Snapshot Analysis**: Gets all simulation timesteps from Tangos database and sorts by cosmic time\n",
    "3. **Star Distribution**: Creates histogram of star formation times to identify which snapshots contain new stars\n",
    "4. **Chunk Creation**: Divides snapshots among multiple processes for parallel processing\n",
    "5. **Multiprocessing Execution**: Each process handles a subset of snapshots independently\n",
    "\n",
    "**FindHaloStars Function (called by each process):**\n",
    "- **Time Matching**: For each snapshot, finds stars that formed between the previous snapshot and current one\n",
    "- **Particle Matching**: Uses `iord` (particle IDs) to match stars from step 1 with their counterparts in historical snapshots\n",
    "- **Host Identification**: Determines which halo (`amiga.grp`) each star was in when it formed\n",
    "- **Database Indexing**: Converts halo IDs to Tangos database indices using a lookup dictionary\n",
    "- **Position/Time Extraction**: Records formation positions, times, and snapshot locations\n",
    "- **Data Writing**: Periodically saves data to HDF5 files to manage memory usage\n",
    "\n",
    "**Key Technical Details:**\n",
    "<!-- - Each process loads the same `_tf.npy` data independently to avoid sharing conflicts -->\n",
    "- Uses `np.searchsorted()` for efficient particle ID matching between snapshots\n",
    "- Creates `fid` dictionary to map Amiga group IDs to Tangos database indices\n",
    "- Handles missing particles gracefully (assigns host ID = -1 for unbound stars)\n",
    "\n",
    "**Input:** \n",
    "- `<sim>_tf.npy` from step 1\n",
    "- Simulation snapshots (all timesteps)\n",
    "- Tangos database connection\n",
    "\n",
    "**Output:** `<sim>_stardata_<snapshot>.h5` files (one per process) containing:\n",
    "- `particle_IDs`: Star particle IDs (`iord`)\n",
    "- `particle_positions`: 3D positions at formation time (Mpc)\n",
    "- `particle_creation_times`: Formation times (Gyr)\n",
    "- `timestep_location`: Snapshot number where star was first found\n",
    "- `particle_hosts`: Host halo index in Tangos database (-1 for unbound stars)\n",
    "\n",
    "<!-- **Performance Features:**\n",
    "- **Multiprocessing**: Uses all available CPU cores (up to 72 logical cores) for parallel processing\n",
    "- **Load Balancing**: Randomly shuffles snapshot order to distribute work evenly\n",
    "- **Memory Management**: Periodically writes data to disk to prevent memory overflow\n",
    "- **Process Isolation**: Each process works independently to avoid conflicts -->\n",
    "\n",
    "**Important Notes:**\n",
    "- **Host IDs are Tangos database indices, NOT Amiga group IDs**\n",
    "- Multiple output files are created (one per process) that will be combined in later steps\n",
    "<!-- - Uses multiprocessing for significant speed improvement on multi-core systems -->\n",
    "<!-- - Automatically handles load balancing by shuffling snapshot order -->\n",
    "- Each process creates its own output file named by the first snapshot it processes\n",
    "\n",
    "* Usage: `python LocAtCreation_pool_rz.py <simpath> <db_sim_name> <output_dir> [n_processes]`\n",
    "* Example: `python LocAtCreation_pool_rz.py /path/to/sim/ cptmarvel.4096g5HbwK1BH_bn /output/ 36`\n",
    "\n",
    "**Purpose:** This step creates the detailed formation history for each star particle, linking it to its birth halo and enabling stellar halo analysis. The multiprocessing approach significantly reduces computation time for large simulations."
   ]
  },
  {
   "cell_type": "code",
   "execution_count": 4,
   "id": "fa9b290f-40e7-433f-8544-7b2f178ea012",
   "metadata": {},
   "outputs": [
    {
     "name": "stdout",
     "output_type": "stream",
     "text": [
      "Adding to sys.path: /home/selvani/MAP/pynbody/AnnaWright_startrace\n",
      "Adding to sys.path: /home/selvani/MAP/pynbody/AnnaWright_startrace/Extra\n",
      "Adding to sys.path: /home/selvani/MAP/pynbody/AnnaWright_startrace/RomZoomSHAnalysisScripts\n",
      "Adding to sys.path: /home/selvani/MAP/pynbody/AnnaWright_startrace/RomZoomSHAnalysisScripts/__pycache__\n"
     ]
    }
   ],
   "source": [
    "# Import the module\n",
    "base_path = '/home/selvani/MAP/pynbody/AnnaWright_startrace'\n",
    "\n",
    "for root, dirs, files in os.walk(base_path):\n",
    "    if root not in sys.path:\n",
    "        print(\"Adding to sys.path:\", root)\n",
    "        sys.path.append(root)\n",
    "        \n",
    "import LocAtCreation_pool_rz\n",
    "\n",
    "# Set the tangos database\n",
    "# In terminal\n",
    "# export TANGOS_DB_CONNECTION=/home/selvani/MAP/Data/Marvel_BN_N10.db\n",
    "# os.environ['TANGOS_DB_CONNECTION'] = '/home/selvani/MAP/Data/Marvel_BN_N10.db'"
   ]
  },
  {
   "cell_type": "code",
   "execution_count": 5,
   "id": "5ad9850f-f52d-430a-98c0-68c8224410f1",
   "metadata": {},
   "outputs": [
    {
     "name": "stdout",
     "output_type": "stream",
     "text": [
      "Stars from 42 steps left to deal with\n",
      "Initializing  42\n",
      "Chunks to process: [array(['cptmarvel.cosmo25cmb.4096g5HbwK1BH.001813'], dtype='<U41'), array(['cptmarvel.cosmo25cmb.4096g5HbwK1BH.000384'], dtype='<U41'), array(['cptmarvel.cosmo25cmb.4096g5HbwK1BH.003636'], dtype='<U41'), array(['cptmarvel.cosmo25cmb.4096g5HbwK1BH.000672'], dtype='<U41'), array(['cptmarvel.cosmo25cmb.4096g5HbwK1BH.000512'], dtype='<U41'), array(['cptmarvel.cosmo25cmb.4096g5HbwK1BH.001408'], dtype='<U41'), array(['cptmarvel.cosmo25cmb.4096g5HbwK1BH.002432'], dtype='<U41'), array(['cptmarvel.cosmo25cmb.4096g5HbwK1BH.002816'], dtype='<U41'), array(['cptmarvel.cosmo25cmb.4096g5HbwK1BH.001664'], dtype='<U41'), array(['cptmarvel.cosmo25cmb.4096g5HbwK1BH.000482'], dtype='<U41'), array(['cptmarvel.cosmo25cmb.4096g5HbwK1BH.000768'], dtype='<U41'), array(['cptmarvel.cosmo25cmb.4096g5HbwK1BH.002048'], dtype='<U41'), array(['cptmarvel.cosmo25cmb.4096g5HbwK1BH.000896'], dtype='<U41'), array(['cptmarvel.cosmo25cmb.4096g5HbwK1BH.002688'], dtype='<U41'), array(['cptmarvel.cosmo25cmb.4096g5HbwK1BH.000818'], dtype='<U41'), array(['cptmarvel.cosmo25cmb.4096g5HbwK1BH.001280'], dtype='<U41'), array(['cptmarvel.cosmo25cmb.4096g5HbwK1BH.003456'], dtype='<U41'), array(['cptmarvel.cosmo25cmb.4096g5HbwK1BH.004096'], dtype='<U41'), array(['cptmarvel.cosmo25cmb.4096g5HbwK1BH.000291'], dtype='<U41'), array(['cptmarvel.cosmo25cmb.4096g5HbwK1BH.003840'], dtype='<U41'), array(['cptmarvel.cosmo25cmb.4096g5HbwK1BH.001543'], dtype='<U41'), array(['cptmarvel.cosmo25cmb.4096g5HbwK1BH.002304'], dtype='<U41'), array(['cptmarvel.cosmo25cmb.4096g5HbwK1BH.001536'], dtype='<U41'), array(['cptmarvel.cosmo25cmb.4096g5HbwK1BH.002624'], dtype='<U41'), array(['cptmarvel.cosmo25cmb.4096g5HbwK1BH.001331'], dtype='<U41'), array(['cptmarvel.cosmo25cmb.4096g5HbwK1BH.001162'], dtype='<U41'), array(['cptmarvel.cosmo25cmb.4096g5HbwK1BH.001152'], dtype='<U41'), array(['cptmarvel.cosmo25cmb.4096g5HbwK1BH.003968'], dtype='<U41'), array(['cptmarvel.cosmo25cmb.4096g5HbwK1BH.002176'], dtype='<U41'), array(['cptmarvel.cosmo25cmb.4096g5HbwK1BH.002944'], dtype='<U41'), array(['cptmarvel.cosmo25cmb.4096g5HbwK1BH.002162'], dtype='<U41'), array(['cptmarvel.cosmo25cmb.4096g5HbwK1BH.003200'], dtype='<U41'), array(['cptmarvel.cosmo25cmb.4096g5HbwK1BH.001920'], dtype='<U41'), array(['cptmarvel.cosmo25cmb.4096g5HbwK1BH.001025'], dtype='<U41'), array(['cptmarvel.cosmo25cmb.4096g5HbwK1BH.003328'], dtype='<U41'), array(['cptmarvel.cosmo25cmb.4096g5HbwK1BH.003584'], dtype='<U41'), array(['cptmarvel.cosmo25cmb.4096g5HbwK1BH.003072'], dtype='<U41'), array(['cptmarvel.cosmo25cmb.4096g5HbwK1BH.003245'], dtype='<U41'), array(['cptmarvel.cosmo25cmb.4096g5HbwK1BH.001792'], dtype='<U41'), array(['cptmarvel.cosmo25cmb.4096g5HbwK1BH.002560'], dtype='<U41'), array(['cptmarvel.cosmo25cmb.4096g5HbwK1BH.000640'], dtype='<U41'), array(['cptmarvel.cosmo25cmb.4096g5HbwK1BH.003712'], dtype='<U41')]\n"
     ]
    },
    {
     "data": {
      "application/vnd.jupyter.widget-view+json": {
       "model_id": "0ef685d340ed488f9262cbbf047fcb76",
       "version_major": 2,
       "version_minor": 0
      },
      "text/plain": [
       "Processing snapshots:   0%|          | 0/42 [00:00<?, ?chunks/s]"
      ]
     },
     "metadata": {},
     "output_type": "display_data"
    },
    {
     "name": "stdout",
     "output_type": "stream",
     "text": [
      "Processing chunk 1/42\n",
      "MyFirstStep:  001813\n",
      "/home/selvani/MAP/Sims/cptmarvel.cosmo25cmb/cptmarvel.cosmo25cmb.4096g5HbwK1BH/\n",
      "HaloStarsPath: /home/selvani/MAP/Sims/cptmarvel.cosmo25cmb/cptmarvel.cosmo25cmb.4096g5HbwK1BH/cptmarvel.4096g5HbwK1BH_bn/cptmarvel.cosmo25cmb.4096g5HbwK1BH.001813\n",
      "812 relevant stars in cptmarvel.cosmo25cmb.4096g5HbwK1BH.001813\n",
      "Looking through 12871 halos\n",
      "Amiga Host IDs [ 0  1  2  5 14]\n",
      "FID Host IDs [-1.  1.  2.  5. 14.]\n",
      "Process completed 1 snapshots, output: /home/selvani/MAP/pynbody/stellarhalo_trace_aw/cptmarvel.cosmo25cmb.4096g5HbwK1BH_stardata_001813.h5\n",
      "  Completed: /home/selvani/MAP/pynbody/stellarhalo_trace_aw/cptmarvel.cosmo25cmb.4096g5HbwK1BH_stardata_001813.h5\n",
      "Processing chunk 2/42\n",
      "MyFirstStep:  000384\n",
      "/home/selvani/MAP/Sims/cptmarvel.cosmo25cmb/cptmarvel.cosmo25cmb.4096g5HbwK1BH/\n",
      "HaloStarsPath: /home/selvani/MAP/Sims/cptmarvel.cosmo25cmb/cptmarvel.cosmo25cmb.4096g5HbwK1BH/cptmarvel.4096g5HbwK1BH_bn/cptmarvel.cosmo25cmb.4096g5HbwK1BH.000384\n",
      "23670 relevant stars in cptmarvel.cosmo25cmb.4096g5HbwK1BH.000384\n",
      "Looking through 7968 halos\n",
      "Amiga Host IDs [ 0  1  2  3  4  5  6  7  8  9 11 14]\n",
      "FID Host IDs [-1.  1.  2.  3.  4.  5.  6.  7.  8.  9. 11. 14.]\n",
      "Process completed 1 snapshots, output: /home/selvani/MAP/pynbody/stellarhalo_trace_aw/cptmarvel.cosmo25cmb.4096g5HbwK1BH_stardata_000384.h5\n",
      "  Completed: /home/selvani/MAP/pynbody/stellarhalo_trace_aw/cptmarvel.cosmo25cmb.4096g5HbwK1BH_stardata_000384.h5\n",
      "Processing chunk 3/42\n",
      "MyFirstStep:  003636\n",
      "/home/selvani/MAP/Sims/cptmarvel.cosmo25cmb/cptmarvel.cosmo25cmb.4096g5HbwK1BH/\n",
      "HaloStarsPath: /home/selvani/MAP/Sims/cptmarvel.cosmo25cmb/cptmarvel.cosmo25cmb.4096g5HbwK1BH/cptmarvel.4096g5HbwK1BH_bn/cptmarvel.cosmo25cmb.4096g5HbwK1BH.003636\n",
      "2529 relevant stars in cptmarvel.cosmo25cmb.4096g5HbwK1BH.003636\n",
      "Looking through 12736 halos\n",
      "Amiga Host IDs [0 1 2 4 5 6 7]\n",
      "FID Host IDs [-1.  1.  2.  4.  5.  6.  7.]\n",
      "Process completed 1 snapshots, output: /home/selvani/MAP/pynbody/stellarhalo_trace_aw/cptmarvel.cosmo25cmb.4096g5HbwK1BH_stardata_003636.h5\n",
      "  Completed: /home/selvani/MAP/pynbody/stellarhalo_trace_aw/cptmarvel.cosmo25cmb.4096g5HbwK1BH_stardata_003636.h5\n",
      "Processing chunk 4/42\n",
      "MyFirstStep:  000672\n",
      "/home/selvani/MAP/Sims/cptmarvel.cosmo25cmb/cptmarvel.cosmo25cmb.4096g5HbwK1BH/\n",
      "HaloStarsPath: /home/selvani/MAP/Sims/cptmarvel.cosmo25cmb/cptmarvel.cosmo25cmb.4096g5HbwK1BH/cptmarvel.4096g5HbwK1BH_bn/cptmarvel.cosmo25cmb.4096g5HbwK1BH.000672\n",
      "9323 relevant stars in cptmarvel.cosmo25cmb.4096g5HbwK1BH.000672\n",
      "Looking through 10586 halos\n",
      "Amiga Host IDs [ 0  1  2  3  4  5  6  7  8 10 11]\n",
      "FID Host IDs [-1.  1.  2.  3.  4.  5.  6.  7.  8. 10. 11.]\n",
      "Process completed 1 snapshots, output: /home/selvani/MAP/pynbody/stellarhalo_trace_aw/cptmarvel.cosmo25cmb.4096g5HbwK1BH_stardata_000672.h5\n",
      "  Completed: /home/selvani/MAP/pynbody/stellarhalo_trace_aw/cptmarvel.cosmo25cmb.4096g5HbwK1BH_stardata_000672.h5\n",
      "Processing chunk 5/42\n",
      "MyFirstStep:  000512\n",
      "/home/selvani/MAP/Sims/cptmarvel.cosmo25cmb/cptmarvel.cosmo25cmb.4096g5HbwK1BH/\n",
      "HaloStarsPath: /home/selvani/MAP/Sims/cptmarvel.cosmo25cmb/cptmarvel.cosmo25cmb.4096g5HbwK1BH/cptmarvel.4096g5HbwK1BH_bn/cptmarvel.cosmo25cmb.4096g5HbwK1BH.000512\n",
      "12646 relevant stars in cptmarvel.cosmo25cmb.4096g5HbwK1BH.000512\n",
      "Looking through 9342 halos\n",
      "Amiga Host IDs [ 0  1  2  3  4  5  6  7  8  9 10]\n",
      "FID Host IDs [-1.  1.  2.  3.  4.  5.  6.  7.  8.  9. 10.]\n",
      "Process completed 1 snapshots, output: /home/selvani/MAP/pynbody/stellarhalo_trace_aw/cptmarvel.cosmo25cmb.4096g5HbwK1BH_stardata_000512.h5\n",
      "  Completed: /home/selvani/MAP/pynbody/stellarhalo_trace_aw/cptmarvel.cosmo25cmb.4096g5HbwK1BH_stardata_000512.h5\n",
      "Processing chunk 6/42\n",
      "MyFirstStep:  001408\n",
      "/home/selvani/MAP/Sims/cptmarvel.cosmo25cmb/cptmarvel.cosmo25cmb.4096g5HbwK1BH/\n",
      "HaloStarsPath: /home/selvani/MAP/Sims/cptmarvel.cosmo25cmb/cptmarvel.cosmo25cmb.4096g5HbwK1BH/cptmarvel.4096g5HbwK1BH_bn/cptmarvel.cosmo25cmb.4096g5HbwK1BH.001408\n",
      "4018 relevant stars in cptmarvel.cosmo25cmb.4096g5HbwK1BH.001408\n",
      "Looking through 12631 halos\n",
      "Amiga Host IDs [0 1 2 3 4]\n",
      "FID Host IDs [-1.  1.  2.  3.  4.]\n",
      "Process completed 1 snapshots, output: /home/selvani/MAP/pynbody/stellarhalo_trace_aw/cptmarvel.cosmo25cmb.4096g5HbwK1BH_stardata_001408.h5\n",
      "  Completed: /home/selvani/MAP/pynbody/stellarhalo_trace_aw/cptmarvel.cosmo25cmb.4096g5HbwK1BH_stardata_001408.h5\n",
      "Processing chunk 7/42\n",
      "MyFirstStep:  002432\n",
      "/home/selvani/MAP/Sims/cptmarvel.cosmo25cmb/cptmarvel.cosmo25cmb.4096g5HbwK1BH/\n",
      "HaloStarsPath: /home/selvani/MAP/Sims/cptmarvel.cosmo25cmb/cptmarvel.cosmo25cmb.4096g5HbwK1BH/cptmarvel.4096g5HbwK1BH_bn/cptmarvel.cosmo25cmb.4096g5HbwK1BH.002432\n",
      "5663 relevant stars in cptmarvel.cosmo25cmb.4096g5HbwK1BH.002432\n",
      "Looking through 12921 halos\n",
      "Amiga Host IDs [0 1 2 3 4 5 7]\n",
      "FID Host IDs [-1.  1.  2.  3.  4.  5.  7.]\n",
      "Process completed 1 snapshots, output: /home/selvani/MAP/pynbody/stellarhalo_trace_aw/cptmarvel.cosmo25cmb.4096g5HbwK1BH_stardata_002432.h5\n",
      "  Completed: /home/selvani/MAP/pynbody/stellarhalo_trace_aw/cptmarvel.cosmo25cmb.4096g5HbwK1BH_stardata_002432.h5\n",
      "Processing chunk 8/42\n",
      "MyFirstStep:  002816\n",
      "/home/selvani/MAP/Sims/cptmarvel.cosmo25cmb/cptmarvel.cosmo25cmb.4096g5HbwK1BH/\n",
      "HaloStarsPath: /home/selvani/MAP/Sims/cptmarvel.cosmo25cmb/cptmarvel.cosmo25cmb.4096g5HbwK1BH/cptmarvel.4096g5HbwK1BH_bn/cptmarvel.cosmo25cmb.4096g5HbwK1BH.002816\n",
      "6469 relevant stars in cptmarvel.cosmo25cmb.4096g5HbwK1BH.002816\n",
      "Looking through 12955 halos\n",
      "Amiga Host IDs [0 1 2 3 5 6 7]\n",
      "FID Host IDs [-1.  1.  2.  3.  5.  6.  7.]\n",
      "Process completed 1 snapshots, output: /home/selvani/MAP/pynbody/stellarhalo_trace_aw/cptmarvel.cosmo25cmb.4096g5HbwK1BH_stardata_002816.h5\n",
      "  Completed: /home/selvani/MAP/pynbody/stellarhalo_trace_aw/cptmarvel.cosmo25cmb.4096g5HbwK1BH_stardata_002816.h5\n",
      "Processing chunk 9/42\n",
      "MyFirstStep:  001664\n",
      "/home/selvani/MAP/Sims/cptmarvel.cosmo25cmb/cptmarvel.cosmo25cmb.4096g5HbwK1BH/\n",
      "HaloStarsPath: /home/selvani/MAP/Sims/cptmarvel.cosmo25cmb/cptmarvel.cosmo25cmb.4096g5HbwK1BH/cptmarvel.4096g5HbwK1BH_bn/cptmarvel.cosmo25cmb.4096g5HbwK1BH.001664\n",
      "4548 relevant stars in cptmarvel.cosmo25cmb.4096g5HbwK1BH.001664\n",
      "Looking through 12795 halos\n",
      "Amiga Host IDs [ 0  1  2  4  5 18]\n",
      "FID Host IDs [-1.  1.  2.  4.  5. 18.]\n",
      "Process completed 1 snapshots, output: /home/selvani/MAP/pynbody/stellarhalo_trace_aw/cptmarvel.cosmo25cmb.4096g5HbwK1BH_stardata_001664.h5\n",
      "  Completed: /home/selvani/MAP/pynbody/stellarhalo_trace_aw/cptmarvel.cosmo25cmb.4096g5HbwK1BH_stardata_001664.h5\n",
      "Processing chunk 10/42\n",
      "MyFirstStep:  000482\n",
      "/home/selvani/MAP/Sims/cptmarvel.cosmo25cmb/cptmarvel.cosmo25cmb.4096g5HbwK1BH/\n",
      "HaloStarsPath: /home/selvani/MAP/Sims/cptmarvel.cosmo25cmb/cptmarvel.cosmo25cmb.4096g5HbwK1BH/cptmarvel.4096g5HbwK1BH_bn/cptmarvel.cosmo25cmb.4096g5HbwK1BH.000482\n",
      "88779 relevant stars in cptmarvel.cosmo25cmb.4096g5HbwK1BH.000482\n",
      "Looking through 9087 halos\n",
      "Amiga Host IDs [ 0  1  2  3  4  5  6  7  8  9 10]\n",
      "FID Host IDs [-1.  1.  2.  3.  4.  5.  6.  7.  8.  9. 10.]\n",
      "Process completed 1 snapshots, output: /home/selvani/MAP/pynbody/stellarhalo_trace_aw/cptmarvel.cosmo25cmb.4096g5HbwK1BH_stardata_000482.h5\n",
      "  Completed: /home/selvani/MAP/pynbody/stellarhalo_trace_aw/cptmarvel.cosmo25cmb.4096g5HbwK1BH_stardata_000482.h5\n",
      "Processing chunk 11/42\n",
      "MyFirstStep:  000768\n",
      "/home/selvani/MAP/Sims/cptmarvel.cosmo25cmb/cptmarvel.cosmo25cmb.4096g5HbwK1BH/\n",
      "HaloStarsPath: /home/selvani/MAP/Sims/cptmarvel.cosmo25cmb/cptmarvel.cosmo25cmb.4096g5HbwK1BH/cptmarvel.4096g5HbwK1BH_bn/cptmarvel.cosmo25cmb.4096g5HbwK1BH.000768\n",
      "26578 relevant stars in cptmarvel.cosmo25cmb.4096g5HbwK1BH.000768\n",
      "Looking through 11101 halos\n",
      "Amiga Host IDs [ 0  1  2  3  4  5  6  7  8  9 10]\n",
      "FID Host IDs [-1.  1.  2.  3.  4.  5.  6.  7.  8.  9. 10.]\n",
      "Process completed 1 snapshots, output: /home/selvani/MAP/pynbody/stellarhalo_trace_aw/cptmarvel.cosmo25cmb.4096g5HbwK1BH_stardata_000768.h5\n",
      "  Completed: /home/selvani/MAP/pynbody/stellarhalo_trace_aw/cptmarvel.cosmo25cmb.4096g5HbwK1BH_stardata_000768.h5\n",
      "Processing chunk 12/42\n",
      "MyFirstStep:  002048\n",
      "/home/selvani/MAP/Sims/cptmarvel.cosmo25cmb/cptmarvel.cosmo25cmb.4096g5HbwK1BH/\n",
      "HaloStarsPath: /home/selvani/MAP/Sims/cptmarvel.cosmo25cmb/cptmarvel.cosmo25cmb.4096g5HbwK1BH/cptmarvel.4096g5HbwK1BH_bn/cptmarvel.cosmo25cmb.4096g5HbwK1BH.002048\n",
      "3976 relevant stars in cptmarvel.cosmo25cmb.4096g5HbwK1BH.002048\n",
      "Looking through 12852 halos\n",
      "Amiga Host IDs [ 0  1  2  3  4  5 29]\n",
      "FID Host IDs [-1.  1.  2.  3.  4.  5. 29.]\n",
      "Process completed 1 snapshots, output: /home/selvani/MAP/pynbody/stellarhalo_trace_aw/cptmarvel.cosmo25cmb.4096g5HbwK1BH_stardata_002048.h5\n",
      "  Completed: /home/selvani/MAP/pynbody/stellarhalo_trace_aw/cptmarvel.cosmo25cmb.4096g5HbwK1BH_stardata_002048.h5\n",
      "Processing chunk 13/42\n",
      "MyFirstStep:  000896\n",
      "/home/selvani/MAP/Sims/cptmarvel.cosmo25cmb/cptmarvel.cosmo25cmb.4096g5HbwK1BH/\n",
      "HaloStarsPath: /home/selvani/MAP/Sims/cptmarvel.cosmo25cmb/cptmarvel.cosmo25cmb.4096g5HbwK1BH/cptmarvel.4096g5HbwK1BH_bn/cptmarvel.cosmo25cmb.4096g5HbwK1BH.000896\n",
      "10832 relevant stars in cptmarvel.cosmo25cmb.4096g5HbwK1BH.000896\n",
      "Looking through 11587 halos\n",
      "Amiga Host IDs [ 0  1  2  3  4  5  6 12]\n",
      "FID Host IDs [-1.  1.  2.  3.  4.  5.  6. 12.]\n",
      "Process completed 1 snapshots, output: /home/selvani/MAP/pynbody/stellarhalo_trace_aw/cptmarvel.cosmo25cmb.4096g5HbwK1BH_stardata_000896.h5\n",
      "  Completed: /home/selvani/MAP/pynbody/stellarhalo_trace_aw/cptmarvel.cosmo25cmb.4096g5HbwK1BH_stardata_000896.h5\n",
      "Processing chunk 14/42\n",
      "MyFirstStep:  002688\n",
      "/home/selvani/MAP/Sims/cptmarvel.cosmo25cmb/cptmarvel.cosmo25cmb.4096g5HbwK1BH/\n",
      "HaloStarsPath: /home/selvani/MAP/Sims/cptmarvel.cosmo25cmb/cptmarvel.cosmo25cmb.4096g5HbwK1BH/cptmarvel.4096g5HbwK1BH_bn/cptmarvel.cosmo25cmb.4096g5HbwK1BH.002688\n",
      "3022 relevant stars in cptmarvel.cosmo25cmb.4096g5HbwK1BH.002688\n",
      "Looking through 12934 halos\n",
      "Amiga Host IDs [0 1 2 3 5 6 7]\n",
      "FID Host IDs [-1.  1.  2.  3.  5.  6.  7.]\n",
      "Process completed 1 snapshots, output: /home/selvani/MAP/pynbody/stellarhalo_trace_aw/cptmarvel.cosmo25cmb.4096g5HbwK1BH_stardata_002688.h5\n",
      "  Completed: /home/selvani/MAP/pynbody/stellarhalo_trace_aw/cptmarvel.cosmo25cmb.4096g5HbwK1BH_stardata_002688.h5\n",
      "Processing chunk 15/42\n",
      "MyFirstStep:  000818\n",
      "/home/selvani/MAP/Sims/cptmarvel.cosmo25cmb/cptmarvel.cosmo25cmb.4096g5HbwK1BH/\n",
      "HaloStarsPath: /home/selvani/MAP/Sims/cptmarvel.cosmo25cmb/cptmarvel.cosmo25cmb.4096g5HbwK1BH/cptmarvel.4096g5HbwK1BH_bn/cptmarvel.cosmo25cmb.4096g5HbwK1BH.000818\n",
      "13485 relevant stars in cptmarvel.cosmo25cmb.4096g5HbwK1BH.000818\n"
     ]
    },
    {
     "ename": "KeyError",
     "evalue": "'No array amiga.grp for family star'",
     "output_type": "error",
     "traceback": [
      "\u001b[31m---------------------------------------------------------------------------\u001b[39m",
      "\u001b[31mKeyError\u001b[39m                                  Traceback (most recent call last)",
      "\u001b[36mCell\u001b[39m\u001b[36m \u001b[39m\u001b[32mIn[5]\u001b[39m\u001b[32m, line 3\u001b[39m\n\u001b[32m      1\u001b[39m \u001b[38;5;28;01mimport\u001b[39;00m\u001b[38;5;250m \u001b[39m\u001b[34;01mpsutil\u001b[39;00m\n\u001b[32m      2\u001b[39m n_cpus = psutil.cpu_count(logical=\u001b[38;5;28;01mTrue\u001b[39;00m) \u001b[38;5;66;03m# use up to 36 quirm cores\u001b[39;00m\n\u001b[32m----> \u001b[39m\u001b[32m3\u001b[39m LocAtCreation_pool_rz.main(simpath, ss_dir, outfile_dir, n_cpus)\n",
      "\u001b[36mFile \u001b[39m\u001b[32m~/MAP/pynbody/AnnaWright_startrace/RomZoomSHAnalysisScripts/LocAtCreation_pool_rz.py:123\u001b[39m, in \u001b[36mmain\u001b[39m\u001b[34m(simpath, db_sim, odir, n_processes)\u001b[39m\n\u001b[32m    121\u001b[39m \u001b[38;5;28;01mfor\u001b[39;00m i, arg \u001b[38;5;129;01min\u001b[39;00m \u001b[38;5;28menumerate\u001b[39m(list_of_chunks):\n\u001b[32m    122\u001b[39m     \u001b[38;5;28mprint\u001b[39m(\u001b[33mf\u001b[39m\u001b[33m\"\u001b[39m\u001b[33mProcessing chunk \u001b[39m\u001b[38;5;132;01m{\u001b[39;00mi+\u001b[32m1\u001b[39m\u001b[38;5;132;01m}\u001b[39;00m\u001b[33m/\u001b[39m\u001b[38;5;132;01m{\u001b[39;00m\u001b[38;5;28mlen\u001b[39m(list_of_chunks)\u001b[38;5;132;01m}\u001b[39;00m\u001b[33m\"\u001b[39m)\n\u001b[32m--> \u001b[39m\u001b[32m123\u001b[39m     result = fhs.FindHaloStars(arg)\n\u001b[32m    124\u001b[39m     pbar.update(\u001b[32m1\u001b[39m)\n\u001b[32m    125\u001b[39m     \u001b[38;5;28;01mif\u001b[39;00m result:\n",
      "\u001b[36mFile \u001b[39m\u001b[32m~/MAP/pynbody/AnnaWright_startrace/RomZoomSHAnalysisScripts/FindHaloStars.py:102\u001b[39m, in \u001b[36mFindHaloStars\u001b[39m\u001b[34m(dsnames)\u001b[39m\n\u001b[32m    100\u001b[39m ctarr = s.s[\u001b[33m'\u001b[39m\u001b[33mtform\u001b[39m\u001b[33m'\u001b[39m][np.ma.compressed(res)].in_units(\u001b[33m'\u001b[39m\u001b[33mGyr\u001b[39m\u001b[33m'\u001b[39m)\n\u001b[32m    101\u001b[39m idarr = s.s[\u001b[33m'\u001b[39m\u001b[33miord\u001b[39m\u001b[33m'\u001b[39m][np.ma.compressed(res)]\n\u001b[32m--> \u001b[39m\u001b[32m102\u001b[39m hostarr = s.s[\u001b[33m'\u001b[39m\u001b[33mamiga.grp\u001b[39m\u001b[33m'\u001b[39m][np.ma.compressed(res)]\n\u001b[32m    103\u001b[39m starr = np.repeat(\u001b[38;5;28mfloat\u001b[39m(s.filename.split(\u001b[33m'\u001b[39m\u001b[33m.\u001b[39m\u001b[33m'\u001b[39m)[-\u001b[32m1\u001b[39m]),\u001b[38;5;28mlen\u001b[39m(ctarr))\n\u001b[32m    105\u001b[39m \u001b[38;5;66;03m# Creates a dictionary that relates the potential values of the amiga.grp array to the host index in the tangos database (fid)\u001b[39;00m\n\u001b[32m    106\u001b[39m \u001b[38;5;66;03m#     Convert the 0s that amiga uses for the hosts of particles that aren't bound to\u001b[39;00m\n\u001b[32m    107\u001b[39m \u001b[38;5;66;03m#     a halo to -1s and convert all other host IDs to their index in the tangos database\u001b[39;00m\n",
      "\u001b[36mFile \u001b[39m\u001b[32m~/anaconda3/envs/conda-env-py311/lib/python3.11/site-packages/pynbody/snapshot/simsnap.py:252\u001b[39m, in \u001b[36mSimSnap.__getitem__\u001b[39m\u001b[34m(self, i)\u001b[39m\n\u001b[32m    249\u001b[39m \u001b[38;5;28;01mfrom\u001b[39;00m\u001b[38;5;250m \u001b[39m\u001b[34;01m.\u001b[39;00m\u001b[38;5;250m \u001b[39m\u001b[38;5;28;01mimport\u001b[39;00m subsnap\n\u001b[32m    251\u001b[39m \u001b[38;5;28;01mif\u001b[39;00m \u001b[38;5;28misinstance\u001b[39m(i, \u001b[38;5;28mstr\u001b[39m):\n\u001b[32m--> \u001b[39m\u001b[32m252\u001b[39m     \u001b[38;5;28;01mreturn\u001b[39;00m \u001b[38;5;28mself\u001b[39m._get_array_with_lazy_actions(i)\n\u001b[32m    253\u001b[39m \u001b[38;5;28;01melif\u001b[39;00m \u001b[38;5;28misinstance\u001b[39m(i, \u001b[38;5;28mslice\u001b[39m):\n\u001b[32m    254\u001b[39m     \u001b[38;5;28;01mreturn\u001b[39;00m subsnap.SubSnap(\u001b[38;5;28mself\u001b[39m, i)\n",
      "\u001b[36mFile \u001b[39m\u001b[32m~/anaconda3/envs/conda-env-py311/lib/python3.11/site-packages/pynbody/snapshot/simsnap.py:370\u001b[39m, in \u001b[36mSimSnap._get_array_with_lazy_actions\u001b[39m\u001b[34m(self, name)\u001b[39m\n\u001b[32m    366\u001b[39m                 \u001b[38;5;28mself\u001b[39m.__derive_if_required(name)\n\u001b[32m    368\u001b[39m \u001b[38;5;66;03m# At this point we've done everything we can to get the array into memory. If it's still not there, we'll\u001b[39;00m\n\u001b[32m    369\u001b[39m \u001b[38;5;66;03m# get a KeyError from the below.\u001b[39;00m\n\u001b[32m--> \u001b[39m\u001b[32m370\u001b[39m \u001b[38;5;28;01mreturn\u001b[39;00m \u001b[38;5;28mself\u001b[39m._get_array(name)\n",
      "\u001b[36mFile \u001b[39m\u001b[32m~/anaconda3/envs/conda-env-py311/lib/python3.11/site-packages/pynbody/snapshot/subsnap.py:352\u001b[39m, in \u001b[36mFamilySubSnap._get_array\u001b[39m\u001b[34m(self, name, index, always_writable)\u001b[39m\n\u001b[32m    350\u001b[39m     \u001b[38;5;28;01mreturn\u001b[39;00m SubSnap._get_array(\u001b[38;5;28mself\u001b[39m, name, index, always_writable)\n\u001b[32m    351\u001b[39m \u001b[38;5;28;01mexcept\u001b[39;00m \u001b[38;5;167;01mKeyError\u001b[39;00m:\n\u001b[32m--> \u001b[39m\u001b[32m352\u001b[39m     \u001b[38;5;28;01mreturn\u001b[39;00m \u001b[38;5;28mself\u001b[39m._subsnap_base._get_family_array(name, \u001b[38;5;28mself\u001b[39m._unifamily, index, always_writable)\n",
      "\u001b[36mFile \u001b[39m\u001b[32m~/anaconda3/envs/conda-env-py311/lib/python3.11/site-packages/pynbody/snapshot/simsnap.py:1287\u001b[39m, in \u001b[36mSimSnap._get_family_array\u001b[39m\u001b[34m(self, name, fam, index, always_writable)\u001b[39m\n\u001b[32m   1285\u001b[39m     x = \u001b[38;5;28mself\u001b[39m._family_arrays[name][fam]\n\u001b[32m   1286\u001b[39m \u001b[38;5;28;01mexcept\u001b[39;00m \u001b[38;5;167;01mKeyError\u001b[39;00m:\n\u001b[32m-> \u001b[39m\u001b[32m1287\u001b[39m     \u001b[38;5;28;01mraise\u001b[39;00m \u001b[38;5;167;01mKeyError\u001b[39;00m(\u001b[33m\"\u001b[39m\u001b[33mNo array \u001b[39m\u001b[33m\"\u001b[39m + name + \u001b[33m\"\u001b[39m\u001b[33m for family \u001b[39m\u001b[33m\"\u001b[39m + fam.name) \u001b[38;5;28;01mfrom\u001b[39;00m\u001b[38;5;250m \u001b[39m\u001b[38;5;28;01mNone\u001b[39;00m\n\u001b[32m   1289\u001b[39m \u001b[38;5;28;01mif\u001b[39;00m x.derived \u001b[38;5;129;01mand\u001b[39;00m \u001b[38;5;129;01mnot\u001b[39;00m always_writable:\n\u001b[32m   1290\u001b[39m     x = x.view()\n",
      "\u001b[31mKeyError\u001b[39m: 'No array amiga.grp for family star'"
     ]
    }
   ],
   "source": [
    "import psutil\n",
    "n_cpus = psutil.cpu_count(logical=True) # use up to 36 quirm cores\n",
    "LocAtCreation_pool_rz.main(simpath, ss_dir, outfile_dir, n_cpus)"
   ]
  },
  {
   "cell_type": "markdown",
   "id": "38240520-a7c8-428e-9bcd-dd049901f9d8",
   "metadata": {},
   "source": [
    "### 3) writeouthosts_rz.py\n",
    "\n",
    "Step 3 of stellar halo pipeline                                                                                   \n",
    "For each snapshot, writes out a list of halos that formed stars                                                   \n",
    "between the last snapshot and this one and the number of stars formed;                                            \n",
    "as in step 2, note that the IDs of these halos will be their index in                                             \n",
    "the tangos database, not necessarily their amiga.grp ID. This is used                                             \n",
    "to construct a unique ID for each star-forming halo in the next step.                                             \n",
    "                                                                                                                  \n",
    "Output: <sim>_halostarhosts.txt                                                                                   \n",
    "                                                                                                                  \n",
    "Usage:   python writeouthosts_rz.py <sim>                                                                         \n",
    "Example: python writeouthosts_rz.py r634                                                                          \n",
    "                                                                                                                  \n",
    "Note that this is currently set up for MMs, but should be easily adapted                                          \n",
    "by e.g., changing the paths or adding a path CL argument.    "
   ]
  },
  {
   "cell_type": "code",
   "execution_count": null,
   "id": "78369c26-7063-4e1d-833a-140764288e4e",
   "metadata": {},
   "outputs": [],
   "source": [
    "# # Import the module\n",
    "# import os\n",
    "# base_path = '/home/christenc/Code/python/AnnaWright_startrace'\n",
    "\n",
    "# for root, dirs, files in os.walk(base_path):\n",
    "#     if root not in sys.path:\n",
    "#         sys.path.append(root)\n",
    "        \n",
    "import writeouthosts_rz"
   ]
  },
  {
   "cell_type": "code",
   "execution_count": null,
   "id": "8921c25c-add2-43fd-b506-d061fc0da472",
   "metadata": {},
   "outputs": [],
   "source": [
    "writeouthosts_rz.main(basename, odir=outfile_dir)"
   ]
  },
  {
   "cell_type": "markdown",
   "id": "08278e18",
   "metadata": {},
   "source": [
    "#### Extra stuff charlotte added"
   ]
  },
  {
   "cell_type": "code",
   "execution_count": null,
   "id": "d0aa9538-2a2f-4b86-914d-5c8c2cc6f567",
   "metadata": {},
   "outputs": [],
   "source": [
    "print(np.unique(tslist))\n",
    "print(len(tslist))\n",
    "print(len(hostlist))"
   ]
  },
  {
   "cell_type": "code",
   "execution_count": null,
   "id": "ac5d81d4-dd6a-462c-98ab-02f766c83543",
   "metadata": {},
   "outputs": [],
   "source": [
    "t = 456\n",
    "tstr = str(int(t))\n",
    "tmask = np.where(tslist==t)[0]\n",
    "np.size(tmask)"
   ]
  },
  {
   "cell_type": "markdown",
   "id": "e92d6520-e6ef-418a-a021-d1adbfdc2538",
   "metadata": {},
   "source": [
    "### 4) IDUniqueHost_rz.py\n",
    "\n",
    "Step 4 of stellar halo pipeline                                                                                                                       \n",
    "Creates a unique ID for each host that forms a star. The format of                                                                                    \n",
    "this ID is \\<last snapshot where host was IDed\\>_\\<index at this snapshot\\>.                                                                              \n",
    "So, if a host was halo 5 at snapshot 3552 and then merged with halo 1                                                                                 \n",
    "before the next snapshot, its unique ID will be 3552_5. Stars that form                                                                               \n",
    "in its main progenitors will also be associated with this ID. These IDs                                                                               \n",
    "are written out to a file with a similar format to <sim>_halostarhosts.txt.                                                                           \n",
    "                                                                                                                                                      \n",
    "Output: <sim>_uniquehalostarhosts.txt                                                                                                                 \n",
    "                                                                                                                                                      \n",
    "Usage:   python IDUniqueHost_rz.py <sim>                                                                                                              \n",
    "Example: python IDUniqueHost_rz.py r634                                                                                                               \n",
    "                                                                                                                                                      \n",
    "Note that this is currently set up for MMs, but should be easily adapted                                                                              \n",
    "by e.g., changing the paths or adding a path CL argument. It is also                                                                                  \n",
    "designed to accommodate the phantoms that rockstar generates when it                                                                                  \n",
    "temporarily loses track of a halo, which slows it down quite a bit.                                                                                   \n",
    "If you're only ever going to be using it with other types of merger                                                                                   \n",
    "trees, it can be simplified.  "
   ]
  },
  {
   "cell_type": "code",
   "execution_count": 7,
   "id": "29f67b07-0a4f-4f00-8217-b12eb7157028",
   "metadata": {},
   "outputs": [],
   "source": [
    "# Import the module\n",
    "import os\n",
    "base_path = '/home/christenc/Code/python/AnnaWrite_startrace'\n",
    "\n",
    "for root, dirs, files in os.walk(base_path):\n",
    "    if root not in sys.path:\n",
    "        sys.path.append(root)\n",
    "        \n",
    "import IDUniqueHost_rz\n",
    "\n",
    "# Set the tangos database\n",
    "# In terminal\n",
    "# export TANGOS_DB_CONNECTION=/home/christenc/Storage/tangos_db/JL_r200.db\n",
    "os.environ['TANGOS_DB_CONNECTION'] = '/home/christenc/Storage/tangos_db/JL_r200.db'"
   ]
  },
  {
   "cell_type": "code",
   "execution_count": null,
   "id": "0dc3f92f-8b5e-46f1-ba1c-932ea5093e30",
   "metadata": {},
   "outputs": [],
   "source": [
    "\n",
    "sim = db.get_simulation(cursim+'%')\n",
    "\n",
    "d = collections.defaultdict(list)\n",
    "\n",
    "hsfile = odir+cursim+'_halostarhosts.txt'\n",
    "ofile = odir+cursim+'_uniquehalostarhosts.txt'\n",
    "\n",
    "main(sim, d, hsfile, ofile)\n"
   ]
  },
  {
   "cell_type": "markdown",
   "id": "6b233f2c-0dbc-436c-b0b7-d02191153062",
   "metadata": {},
   "source": [
    "### 5) StoreUniqueHostID_rz.py\n",
    "\n",
    "Step 5 of stellar halo pipeline\n",
    "Stores the unique ID of each star particle's host at formation time.\n",
    "Creates an hdf5 file that contains this in addition to all of the data\n",
    "from the <sim>_stardata_<snapshot>.h5 files. Note that all star particles\n",
    "that don't have a host in the snapshot after they formed will be assigned \n",
    "a unique ID of <snapshot_index>_0 and a particle host (i.e., host at\n",
    "formation time) of -1. It is recommended that you use the TrackDownStars\n",
    "Jupyter notebook to try to manually identify hosts for these stars and then\n",
    "use FixHostIDs_rz.py to amend <sim>_allhalostardata.h5.\n",
    "\n",
    "Output: <sim>_allhalostardata.h5\n",
    "\n",
    "Usage:   python StoreUniqueHostID_rz.py <sim>\n",
    "Example: python StoreUniqueHostID_rz.py r634 \n",
    "\n",
    "Note that this is currently set up for MMs, but should be easily adapted \n",
    "by e.g., changing the paths or adding a path CL argument.\n",
    "\n"
   ]
  },
  {
   "cell_type": "code",
   "execution_count": null,
   "id": "cebfbc2f-54da-47df-9847-bd7ef8c57072",
   "metadata": {},
   "outputs": [],
   "source": []
  },
  {
   "cell_type": "markdown",
   "id": "98a45a97-d16a-49bb-afd7-c55d4149d186",
   "metadata": {},
   "source": [
    "### 6a) TrackDownStars_rz.ipnb"
   ]
  },
  {
   "cell_type": "code",
   "execution_count": null,
   "id": "90e5cc2c-5ca5-4841-8da3-5886d928ec68",
   "metadata": {},
   "outputs": [],
   "source": []
  },
  {
   "cell_type": "markdown",
   "id": "964eb336-4539-42c3-a6ce-e93dd6e41376",
   "metadata": {},
   "source": [
    "### 6b) FixHostID_rz\n",
    "\n",
    "Optional: Step 6b of stellar halo pipeline\n",
    "Updates the host_ID values stored in the allhalostardata hdf5 file based\n",
    "on user input. This is designed as a follow-up to TrackDownStars and can \n",
    "be used in a couple of ways. If ffile=True, this script will look for \n",
    "numpy files with names <sim>_new_ID_?.npy and will assign the particles\n",
    "with the iords in a given file to new_ID. If ffile=False, it will assign\n",
    "all particles with a host_ID in the old_ID list to new_ID.\n",
    "\n",
    "Output: <sim>_allhalostardata_upd.h5\n",
    "\n",
    "Usage:   python FixHostIDs_rz.py <sim>\n",
    "Example: python FixHostIDs_rz.py r634 \n",
    "\n",
    "The script will print out all host_IDs for which the number of assigned particles \n",
    "changed and how many particles each gained/lost. If the output looks correct,\n",
    "the user should manually rename <sim>_allhalostardata_upd.h5 to <sim>_allhalostardata.h5.\n",
    "It's often necessary to go back and forth between this and TrackDownStars, in which \n",
    "case I usually move the *.npy files that have already been processed to a subfolder. \n"
   ]
  },
  {
   "cell_type": "code",
   "execution_count": null,
   "id": "0376526c-6b53-4a31-b67e-05eb6d31303d",
   "metadata": {},
   "outputs": [],
   "source": []
  },
  {
   "cell_type": "markdown",
   "id": "94ac9365-972e-40e5-b056-503c0c4378a9",
   "metadata": {},
   "source": [
    "### 6c) CompTwoHalos_rz\n",
    "\n",
    "Optional: Step 6c of stellar halo pipeline\n",
    "Compares two halos to see how likely it is that one is\n",
    "the main progenitor of the other based on how many particles\n",
    "they have in common. This is particularly useful when you've\n",
    "used a merger tree constructor that doesn't use phantoms or\n",
    "some equivalent and may therefore fail to connect a halo at\n",
    "snapshot1 to the same halo at snapshot3 if it lost track of it\n",
    "at snapshot2. This information can then be used with FixHostIDs_rz\n",
    "to merge two unique IDs and/or to create a new link in the \n",
    "relevant tangos db.\n",
    "\n",
    "Usage: python CompTwoHalos_rz.py <sim> <halo1> <halo2>\n",
    "Example: python CompTwoHalos_rz.py r718 0136_4 0192_3\n",
    "\n",
    "Output: prints out the fraction of <halo1>'s DM particles\n",
    "that are in <halo2> and vice-versa.\n",
    "\n",
    "It takes three arguments: the simulation you're working with\n",
    "and the tangos IDs of the two halos you want to compare, which\n",
    "are formatted as <snapshot>_<IDatsnapshot>. Note that this ID\n",
    "is assumed to be the tangos ID, not necessarily the amiga.grp\n",
    "ID.\n"
   ]
  },
  {
   "cell_type": "code",
   "execution_count": 9,
   "id": "284a656c-01de-4b9d-8046-67400580f83e",
   "metadata": {},
   "outputs": [
    {
     "name": "stdout",
     "output_type": "stream",
     "text": [
      "['cptmarvel.cosmo25cmb.4096g5HbwK1BH.000482.amiga.stat', 'cptmarvel.cosmo25cmb.4096g5HbwK1BH.001792.igasorder', 'cptmarvel.cosmo25cmb.4096g5HbwK1BH.000768', 'cptmarvel.cosmo25cmb.4096g5HbwK1BH.002162', 'cptmarvel.cosmo25cmb.4096g5HbwK1BH.001664.amiga.stat', 'cptmarvel.cosmo25cmb.4096g5HbwK1BH.003456.FeMassFrac', 'cptmarvel.cosmo25cmb.4096g5HbwK1BH.000291.amiga.stat', 'cptmarvel.cosmo25cmb.4096g5HbwK1BH.003968.igasorder', 'cptmarvel.cosmo25cmb.4096g5HbwK1BH.002176.z0.741.AHF_profiles', 'cptmarvel.cosmo25cmb.4096g5HbwK1BH.000512', 'cptmarvel.cosmo25cmb.4096g5HbwK1BH.003245.amiga.grp', 'cptmarvel.cosmo25cmb.4096g5HbwK1BH.001025.z1.999.AHF_halos', 'cptmarvel.cosmo25cmb.4096g5HbwK1BH.003328.OxMassFrac', 'cptmarvel.cosmo25cmb.4096g5HbwK1BH.002816.amiga.stat', 'cptmarvel.cosmo25cmb.4096g5HbwK1BH.000672.amiga.gtp', 'cptmarvel.cosmo25cmb.4096g5HbwK1BH.001792.FeMassFrac', 'cptmarvel.cosmo25cmb.4096g5HbwK1BH.000640.FeMassFrac', 'cptmarvel.cosmo25cmb.4096g5HbwK1BH.003584.HI', 'cptmarvel.cosmo25cmb.4096g5HbwK1BH.001536.z1.257.AHF_halos', 'cptmarvel.cosmo25cmb.4096g5HbwK1BH.001920.amiga.gtp', 'cptmarvel.cosmo25cmb.4096g5HbwK1BH.002816.iord', 'cptmarvel.cosmo25cmb.4096g5HbwK1BH.000896.amiga.grp', 'cptmarvel.cosmo25cmb.4096g5HbwK1BH.001280.OxMassFrac', 'cptmarvel.cosmo25cmb.4096g5HbwK1BH.003712.HI', 'cptmarvel.cosmo25cmb.4096g5HbwK1BH.003968.HI', 'cptmarvel.cosmo25cmb.4096g5HbwK1BH.003584.amiga.grp', 'cptmarvel.cosmo25cmb.4096g5HbwK1BH.002048.z0.824.AHF_substructure', 'cptmarvel.cosmo25cmb.4096g5HbwK1BH.000482.igasorder', 'cptmarvel.cosmo25cmb.4096g5HbwK1BH.001162.igasorder', 'cptmarvel.cosmo25cmb.4096g5HbwK1BH.000768.HI', 'cptmarvel.cosmo25cmb.4096g5HbwK1BH.000672.z2.998.AHF_particles', 'cptmarvel.cosmo25cmb.4096g5HbwK1BH.001025.FeMassFrac', 'cptmarvel.cosmo25cmb.4096g5HbwK1BH.003840.amiga.grp', 'cptmarvel.cosmo25cmb.4096g5HbwK1BH.002816.FeMassFrac', 'cptmarvel.cosmo25cmb.4096g5HbwK1BH.002432.HI', 'cptmarvel.cosmo25cmb.4096g5HbwK1BH.001664.OxMassFrac', 'cptmarvel.cosmo25cmb.4096g5HbwK1BH.002176.igasorder', 'cptmarvel.cosmo25cmb.4096g5HbwK1BH.003636.OxMassFrac', 'cptmarvel.cosmo25cmb.4096g5HbwK1BH.002624.igasorder', 'cptmarvel.cosmo25cmb.4096g5HbwK1BH.001152.z1.766.AHF_profiles', 'cptmarvel.cosmo25cmb.4096g5HbwK1BH.param', 'cptmarvel.cosmo25cmb.4096g5HbwK1BH.002048.amiga.grp', 'cptmarvel.cosmo25cmb.4096g5HbwK1BH.000512.coolontime', 'cptmarvel.cosmo25cmb.4096g5HbwK1BH.002816.z0.414.AHF_particles', 'cptmarvel.cosmo25cmb.4096g5HbwK1BH.001331.z1.500.AHF_profiles', 'cptmarvel.cosmo25cmb.4096g5HbwK1BH.003328.amiga.stat', 'cptmarvel.cosmo25cmb.4096g5HbwK1BH.002816.OxMassFrac', 'cptmarvel.cosmo25cmb.4096g5HbwK1BH.000818.coolontime', 'cptmarvel.cosmo25cmb.4096g5HbwK1BH.000768.amiga.grp', 'cptmarvel.cosmo25cmb.4096g5HbwK1BH.002624.z0.500.AHF_halos', 'cptmarvel.cosmo25cmb.4096g5HbwK1BH.002432.igasorder', 'cptmarvel.cosmo25cmb.4096g5HbwK1BH.002176.amiga.grp', 'cptmarvel.cosmo25cmb.4096g5HbwK1BH.004096.igasorder', 'cptmarvel.cosmo25cmb.4096g5HbwK1BH.000672', 'cptmarvel.cosmo25cmb.4096g5HbwK1BH.003712.amiga.gtp', 'cptmarvel.cosmo25cmb.4096g5HbwK1BH.003200.z0.266.AHF_particles', 'cptmarvel.cosmo25cmb.4096g5HbwK1BH.003584.OxMassFrac', 'cptmarvel.cosmo25cmb.4096g5HbwK1BH.003245.coolontime', 'cptmarvel.cosmo25cmb.4096g5HbwK1BH.000146.amiga.stat', 'cptmarvel.cosmo25cmb.4096g5HbwK1BH.002176', 'cptmarvel.cosmo25cmb.4096g5HbwK1BH.003456.iord', 'cptmarvel.cosmo25cmb.4096g5HbwK1BH.002432.z0.595.AHF_profiles', 'cptmarvel.cosmo25cmb.4096g5HbwK1BH.001152.z1.766.AHF_substructure', 'cptmarvel.cosmo25cmb.4096g5HbwK1BH.002304.massform', 'cptmarvel.cosmo25cmb.4096g5HbwK1BH.001664.igasorder', 'cptmarvel.cosmo25cmb.4096g5HbwK1BH.000512.massform', 'cptmarvel.cosmo25cmb.4096g5HbwK1BH.002944.z0.362.AHF_substructure', 'cptmarvel.cosmo25cmb.4096g5HbwK1BH.004096.massform', 'cptmarvel.cosmo25cmb.4096g5HbwK1BH.000291.z5.986.AHF_halos', 'cptmarvel.cosmo25cmb.4096g5HbwK1BH.003840.FeMassFrac', 'cptmarvel.cosmo25cmb.4096g5HbwK1BH.002816.z', 'cptmarvel.cosmo25cmb.4096g5HbwK1BH.001543.HI', 'cptmarvel.cosmo25cmb.4096g5HbwK1BH.001152.massform', 'cptmarvel.cosmo25cmb.4096g5HbwK1BH.000199.massform', 'cptmarvel.cosmo25cmb.4096g5HbwK1BH.001162.z1.749.AHF_halos', 'cptmarvel.cosmo25cmb.4096g5HbwK1BH.001920.z0.916.AHF_substructure', 'cptmarvel.cosmo25cmb.4096g5HbwK1BH.001920.FeMassFrac', 'cptmarvel.cosmo25cmb.4096g5HbwK1BH.004096', 'cptmarvel.cosmo25cmb.4096g5HbwK1BH.003840.igasorder', 'cptmarvel.cosmo25cmb.4096g5HbwK1BH.000640.massform', 'cptmarvel.cosmo25cmb.4096g5HbwK1BH.003328.z0.222.AHF_profiles', 'cptmarvel.cosmo25cmb.4096g5HbwK1BH.002176.FeMassFrac', 'cptmarvel.cosmo25cmb.4096g5HbwK1BH.004096.iord', 'cptmarvel.cosmo25cmb.4096g5HbwK1BH.000384.amiga.gtp', 'cptmarvel.cosmo25cmb.4096g5HbwK1BH.000384.HI', 'cptmarvel.cosmo25cmb.4096g5HbwK1BH.002624.z', 'cptmarvel.cosmo25cmb.4096g5HbwK1BH.001408.z1.402.AHF_profiles', 'cptmarvel.cosmo25cmb.4096g5HbwK1BH.003636.amiga.gtp', 'cptmarvel.cosmo25cmb.4096g5HbwK1BH.000896.OxMassFrac', 'cptmarvel.cosmo25cmb.4096g5HbwK1BH.001331.z1.500.AHF_halos', 'cptmarvel.cosmo25cmb.4096g5HbwK1BH.000146.amiga.gtp', 'cptmarvel.cosmo25cmb.4096g5HbwK1BH.001280.z1.569.AHF_profiles', 'cptmarvel.cosmo25cmb.4096g5HbwK1BH.002048.z0.824.AHF_particles', 'cptmarvel.cosmo25cmb.4096g5HbwK1BH.002048.amiga.gtp', 'cptmarvel.cosmo25cmb.4096g5HbwK1BH.001813.z', 'cptmarvel.cosmo25cmb.4096g5HbwK1BH.003328.z0.222.AHF_particles', 'cptmarvel.cosmo25cmb.4096g5HbwK1BH.001025.coolontime', 'cptmarvel.cosmo25cmb.4096g5HbwK1BH.002688.z0.470.AHF_particles', 'cptmarvel.cosmo25cmb.4096g5HbwK1BH.001813.amiga.grp', 'cptmarvel.cosmo25cmb.4096g5HbwK1BH.002304.coolontime', 'cptmarvel.cosmo25cmb.4096g5HbwK1BH.000672.amiga.stat', 'cptmarvel.cosmo25cmb.4096g5HbwK1BH.000768.coolontime', 'cptmarvel.cosmo25cmb.4096g5HbwK1BH.002304.z0.665.AHF_substructure', 'cptmarvel.cosmo25cmb.4096g5HbwK1BH.000146.iord', 'cptmarvel.cosmo25cmb.4096g5HbwK1BH.003712.coolontime', 'cptmarvel.cosmo25cmb.4096g5HbwK1BH.004096.z0.000.AHF_particles', 'cptmarvel.cosmo25cmb.4096g5HbwK1BH.001792.z1.017.AHF_halos', 'cptmarvel.cosmo25cmb.4096g5HbwK1BH.003636.amiga.stat', 'cptmarvel.cosmo25cmb.4096g5HbwK1BH.002560.amiga.gtp', 'cptmarvel.cosmo25cmb.4096g5HbwK1BH.001162.massform', 'cptmarvel.cosmo25cmb.4096g5HbwK1BH.003245.z0.250.AHF_profiles', 'cptmarvel.cosmo25cmb.4096g5HbwK1BH.002048.OxMassFrac', 'cptmarvel.cosmo25cmb.4096g5HbwK1BH.001813.z0.999.AHF_substructure', 'cptmarvel.cosmo25cmb.4096g5HbwK1BH.000512.amiga.grp', 'cptmarvel.cosmo25cmb.4096g5HbwK1BH.001920', 'cptmarvel.cosmo25cmb.4096g5HbwK1BH.003840.amiga.gtp', 'cptmarvel.cosmo25cmb.4096g5HbwK1BH.000113.FeMassFrac', 'cptmarvel.cosmo25cmb.4096g5HbwK1BH.003968', 'cptmarvel.cosmo25cmb.4096g5HbwK1BH.001792.massform', 'cptmarvel.cosmo25cmb.4096g5HbwK1BH.002304.amiga.stat', 'cptmarvel.cosmo25cmb.4096g5HbwK1BH.002048.z0.824.AHF_profiles', 'cptmarvel.cosmo25cmb.4096g5HbwK1BH.001280.amiga.grp', 'cptmarvel.cosmo25cmb.4096g5HbwK1BH.003968.iord', 'cptmarvel.cosmo25cmb.4096g5HbwK1BH.000113.HI', 'cptmarvel.cosmo25cmb.4096g5HbwK1BH.000672.HI', 'cptmarvel.cosmo25cmb.4096g5HbwK1BH.001543.amiga.stat', 'cptmarvel.cosmo25cmb.4096g5HbwK1BH.003584.massform', 'cptmarvel.cosmo25cmb.4096g5HbwK1BH.000818.z2.500.AHF_halos', 'cptmarvel.cosmo25cmb.4096g5HbwK1BH.001331.amiga.grp', 'cptmarvel.cosmo25cmb.4096g5HbwK1BH.003840.OxMassFrac', 'cptmarvel.cosmo25cmb.4096g5HbwK1BH.002432', 'cptmarvel.cosmo25cmb.4096g5HbwK1BH.000640.amiga.grp', 'cptmarvel.cosmo25cmb.4096g5HbwK1BH.003245.z0.250.AHF_particles', 'cptmarvel.cosmo25cmb.4096g5HbwK1BH.000291.igasorder', 'cptmarvel.cosmo25cmb.4096g5HbwK1BH.003456.amiga.gtp', 'cptmarvel.cosmo25cmb.4096g5HbwK1BH.002432.amiga.gtp', 'cptmarvel.cosmo25cmb.4096g5HbwK1BH.003840', 'cptmarvel.cosmo25cmb.4096g5HbwK1BH.002304.amiga.grp', 'cptmarvel.cosmo25cmb.4096g5HbwK1BH.002176.z0.741.AHF_substructure', 'cptmarvel.cosmo25cmb.4096g5HbwK1BH.001331.igasorder', 'cptmarvel.cosmo25cmb.4096g5HbwK1BH.001331.massform', 'cptmarvel.cosmo25cmb.4096g5HbwK1BH.002688.massform', 'cptmarvel.cosmo25cmb.4096g5HbwK1BH.003636.igasorder', 'cptmarvel.cosmo25cmb.4096g5HbwK1BH.000199.amiga.gtp', 'cptmarvel.cosmo25cmb.4096g5HbwK1BH.003636.HI', 'cptmarvel.cosmo25cmb.4096g5HbwK1BH.002048.HI', 'cptmarvel.cosmo25cmb.4096g5HbwK1BH.002162.amiga.stat', 'cptmarvel.cosmo25cmb.4096g5HbwK1BH.starlog', 'cptmarvel.cosmo25cmb.4096g5HbwK1BH.002176.amiga.gtp', 'cptmarvel.cosmo25cmb.4096g5HbwK1BH.002688.z', 'cptmarvel.cosmo25cmb.4096g5HbwK1BH.001408.amiga.grp', 'cptmarvel.cosmo25cmb.4096g5HbwK1BH.002816.z0.414.AHF_substructure', 'cptmarvel.cosmo25cmb.4096g5HbwK1BH.001920.z0.916.AHF_profiles', 'cptmarvel.cosmo25cmb.4096g5HbwK1BH.001162.amiga.grp', 'cptmarvel.cosmo25cmb.4096g5HbwK1BH.003840.coolontime', 'cptmarvel.cosmo25cmb.4096g5HbwK1BH.000291.coolontime', 'cptmarvel.cosmo25cmb.4096g5HbwK1BH.000768.z2.653.AHF_particles', 'cptmarvel.cosmo25cmb.4096g5HbwK1BH.003456', 'cptmarvel.cosmo25cmb.4096g5HbwK1BH.001162', 'cptmarvel.cosmo25cmb.4096g5HbwK1BH.001813.massform', 'cptmarvel.cosmo25cmb.4096g5HbwK1BH.002688.iord', 'cptmarvel.cosmo25cmb.4096g5HbwK1BH.002944.z0.362.AHF_profiles', 'cptmarvel.cosmo25cmb.4096g5HbwK1BH.003968.massform', 'cptmarvel.cosmo25cmb.4096g5HbwK1BH.002816.igasorder', 'cptmarvel.cosmo25cmb.4096g5HbwK1BH.003245.z', 'cptmarvel.cosmo25cmb.4096g5HbwK1BH.001152.z1.766.AHF_halos', 'cptmarvel.cosmo25cmb.4096g5HbwK1BH.003636.z0.125.AHF_particles', 'cptmarvel.cosmo25cmb.4096g5HbwK1BH.000672.amiga.grp', 'cptmarvel.cosmo25cmb.4096g5HbwK1BH.000291.massform', 'cptmarvel.cosmo25cmb.4096g5HbwK1BH.003712.iord', 'cptmarvel.cosmo25cmb.4096g5HbwK1BH.004096.coolontime', 'cptmarvel.cosmo25cmb.4096g5HbwK1BH.003968.coolontime', 'cptmarvel.cosmo25cmb.4096g5HbwK1BH.003840.z0.067.AHF_halos', 'cptmarvel.cosmo25cmb.4096g5HbwK1BH.001280.z1.569.AHF_substructure', 'cptmarvel.cosmo25cmb.4096g5HbwK1BH.000146.z', 'cptmarvel.cosmo25cmb.4096g5HbwK1BH.002048.iord', 'cptmarvel.cosmo25cmb.4096g5HbwK1BH.002304.HI', 'cptmarvel.cosmo25cmb.4096g5HbwK1BH.000512.iord', 'cptmarvel.cosmo25cmb.4096g5HbwK1BH.001664.amiga.grp', 'cptmarvel.cosmo25cmb.4096g5HbwK1BH.002944', 'cptmarvel.cosmo25cmb.4096g5HbwK1BH.002560.z0.531.AHF_particles', 'cptmarvel.cosmo25cmb.4096g5HbwK1BH.003636.massform', 'cptmarvel.cosmo25cmb.4096g5HbwK1BH.000113.amiga.gtp', 'cptmarvel.cosmo25cmb.4096g5HbwK1BH.000199.z7.974.AHF_particles', 'cptmarvel.cosmo25cmb.4096g5HbwK1BH.002560.OxMassFrac', 'cptmarvel.cosmo25cmb.4096g5HbwK1BH.000896.z2.289.AHF_particles', 'cptmarvel.cosmo25cmb.4096g5HbwK1BH.000768.z', 'cptmarvel.cosmo25cmb.4096g5HbwK1BH.003584.z', 'cptmarvel.cosmo25cmb.4096g5HbwK1BH.000384.z4.813.AHF_substructure', 'cptmarvel.cosmo25cmb.4096g5HbwK1BH.001792.HI', 'cptmarvel.cosmo25cmb.4096g5HbwK1BH.001813.FeMassFrac', 'cptmarvel.cosmo25cmb.4096g5HbwK1BH.000113.amiga.stat', 'cptmarvel.cosmo25cmb.4096g5HbwK1BH.002432.z0.595.AHF_substructure', 'cptmarvel.cosmo25cmb.4096g5HbwK1BH.002432.amiga.grp', 'cptmarvel.cosmo25cmb.4096g5HbwK1BH.000146.amiga.grp', 'cptmarvel.cosmo25cmb.4096g5HbwK1BH.002944.massform', 'cptmarvel.cosmo25cmb.4096g5HbwK1BH.000640.z', 'cptmarvel.cosmo25cmb.4096g5HbwK1BH.001025.HI', 'cptmarvel.cosmo25cmb.4096g5HbwK1BH.000818.massform', 'cptmarvel.cosmo25cmb.4096g5HbwK1BH.001536.iord', 'cptmarvel.cosmo25cmb.4096g5HbwK1BH.001408.amiga.stat', 'cptmarvel.cosmo25cmb.4096g5HbwK1BH.002432.z0.595.AHF_halos', 'cptmarvel.cosmo25cmb.4096g5HbwK1BH.000384.igasorder', 'cptmarvel.cosmo25cmb.4096g5HbwK1BH.003072.coolontime', 'cptmarvel.cosmo25cmb.4096g5HbwK1BH.000384.OxMassFrac', 'cptmarvel.cosmo25cmb.4096g5HbwK1BH.000113.iord', 'cptmarvel.cosmo25cmb.4096g5HbwK1BH.003328.massform', 'cptmarvel.cosmo25cmb.4096g5HbwK1BH.003840.z', 'cptmarvel.cosmo25cmb.4096g5HbwK1BH.003072.z0.312.AHF_halos', 'cptmarvel.cosmo25cmb.4096g5HbwK1BH.001543.iord', 'cptmarvel.cosmo25cmb.4096g5HbwK1BH.001792.z1.017.AHF_substructure', 'cptmarvel.cosmo25cmb.4096g5HbwK1BH.002560.coolontime', 'cptmarvel.cosmo25cmb.4096g5HbwK1BH.000640.OxMassFrac', 'cptmarvel.cosmo25cmb.4096g5HbwK1BH.003712.z0.103.AHF_profiles', 'cptmarvel.cosmo25cmb.4096g5HbwK1BH.004096.z0.000.AHF_substructure', 'cptmarvel.cosmo25cmb.4096g5HbwK1BH.001664.iord', 'cptmarvel.cosmo25cmb.4096g5HbwK1BH.002624.FeMassFrac', 'cptmarvel.cosmo25cmb.4096g5HbwK1BH.001331.coolontime', 'cptmarvel.cosmo25cmb.4096g5HbwK1BH.003636.z0.125.AHF_halos', 'cptmarvel.cosmo25cmb.4096g5HbwK1BH.001536.HI', 'cptmarvel.cosmo25cmb.4096g5HbwK1BH.001331.iord', 'cptmarvel.cosmo25cmb.4096g5HbwK1BH.001813.z0.999.AHF_halos', 'cptmarvel.cosmo25cmb.4096g5HbwK1BH.001408.HI', 'cptmarvel.cosmo25cmb.4096g5HbwK1BH.003712.z0.103.AHF_particles', 'cptmarvel.cosmo25cmb.4096g5HbwK1BH.000512.z3.799.AHF_particles', 'cptmarvel.cosmo25cmb.4096g5HbwK1BH.002560.z', 'cptmarvel.cosmo25cmb.4096g5HbwK1BH.003968.amiga.gtp', 'cptmarvel.cosmo25cmb.4096g5HbwK1BH.000818.amiga.stat', 'cptmarvel.cosmo25cmb.4096g5HbwK1BH.002176.z0.741.AHF_halos', 'cptmarvel.cosmo25cmb.4096g5HbwK1BH.001408.z1.402.AHF_substructure', 'cptmarvel.cosmo25cmb.4096g5HbwK1BH.002048.igasorder', 'cptmarvel.cosmo25cmb.4096g5HbwK1BH.000482.iord', 'cptmarvel.cosmo25cmb.4096g5HbwK1BH.002162.igasorder', 'cptmarvel.cosmo25cmb.4096g5HbwK1BH.001280.FeMassFrac', 'cptmarvel.cosmo25cmb.4096g5HbwK1BH.000199', 'cptmarvel.cosmo25cmb.4096g5HbwK1BH.003636.z', 'cptmarvel.cosmo25cmb.4096g5HbwK1BH.001152', 'cptmarvel.cosmo25cmb.4096g5HbwK1BH.000818', 'cptmarvel.cosmo25cmb.4096g5HbwK1BH.001025', 'cptmarvel.cosmo25cmb.4096g5HbwK1BH.003584.amiga.gtp', 'cptmarvel.cosmo25cmb.4096g5HbwK1BH.000384.z', 'cptmarvel.cosmo25cmb.4096g5HbwK1BH.004096.z0.000.AHF_fpos', 'cptmarvel.cosmo25cmb.4096g5HbwK1BH.002944.z0.362.AHF_particles', 'cptmarvel.cosmo25cmb.4096g5HbwK1BH.003200.amiga.grp', 'cptmarvel.cosmo25cmb.4096g5HbwK1BH.002624.amiga.stat', 'cptmarvel.cosmo25cmb.4096g5HbwK1BH.001152.coolontime', 'cptmarvel.cosmo25cmb.4096g5HbwK1BH.002560.z0.531.AHF_substructure', 'cptmarvel.cosmo25cmb.4096g5HbwK1BH.001280.z1.569.AHF_halos', 'cptmarvel.cosmo25cmb.4096g5HbwK1BH.000768.z2.653.AHF_profiles', 'cptmarvel.cosmo25cmb.4096g5HbwK1BH.004096.z0.000.AHF_profiles', 'cptmarvel.cosmo25cmb.4096g5HbwK1BH.002688.z0.470.AHF_halos', 'cptmarvel.cosmo25cmb.4096g5HbwK1BH.000512.amiga.gtp', 'cptmarvel.cosmo25cmb.4096g5HbwK1BH.001025.amiga.grp', 'cptmarvel.cosmo25cmb.4096g5HbwK1BH.001664.z1.130.AHF_particles', 'cptmarvel.cosmo25cmb.4096g5HbwK1BH.003584.iord', 'cptmarvel.cosmo25cmb.4096g5HbwK1BH.002688.z0.470.AHF_profiles', 'cptmarvel.cosmo25cmb.4096g5HbwK1BH.002944.coolontime', 'cptmarvel.cosmo25cmb.4096g5HbwK1BH.001280.HI', 'cptmarvel.cosmo25cmb.4096g5HbwK1BH.000384.massform', 'cptmarvel.cosmo25cmb.4096g5HbwK1BH.001920.amiga.grp', 'cptmarvel.cosmo25cmb.4096g5HbwK1BH.002162.z0.750.AHF_halos', 'cptmarvel.cosmo25cmb.4096g5HbwK1BH.003456.HI', 'cptmarvel.cosmo25cmb.4096g5HbwK1BH.003584.z0.140.AHF_substructure', 'cptmarvel.cosmo25cmb.4096g5HbwK1BH.003072.amiga.gtp', 'cptmarvel.cosmo25cmb.4096g5HbwK1BH.001536.igasorder', 'cptmarvel.cosmo25cmb.4096g5HbwK1BH.000128.coolontime', 'cptmarvel.cosmo25cmb.4096g5HbwK1BH.001920.coolontime', 'cptmarvel.cosmo25cmb.4096g5HbwK1BH.000512.z3.799.AHF_profiles', 'cptmarvel.cosmo25cmb.4096g5HbwK1BH.001536.z1.257.AHF_profiles', 'cptmarvel.cosmo25cmb.4096g5HbwK1BH.003072.HI', 'cptmarvel.cosmo25cmb.4096g5HbwK1BH.003840.z0.067.AHF_substructure', 'cptmarvel.cosmo25cmb.4096g5HbwK1BH.001664.HI', 'cptmarvel.cosmo25cmb.4096g5HbwK1BH.003456.z0.180.AHF_halos', 'cptmarvel.cosmo25cmb.4096g5HbwK1BH.001792.z1.017.AHF_particles', 'cptmarvel.cosmo25cmb.4096g5HbwK1BH.001792', 'cptmarvel.cosmo25cmb.4096g5HbwK1BH.003584', 'cptmarvel.cosmo25cmb.4096g5HbwK1BH.000818.amiga.grp', 'cptmarvel.cosmo25cmb.4096g5HbwK1BH.001162.amiga.stat', 'cptmarvel.cosmo25cmb.4096g5HbwK1BH.002624.iord', 'cptmarvel.cosmo25cmb.4096g5HbwK1BH.003328.FeMassFrac', 'cptmarvel.cosmo25cmb.4096g5HbwK1BH.001408.z1.402.AHF_halos', 'cptmarvel.cosmo25cmb.4096g5HbwK1BH.002560', 'cptmarvel.cosmo25cmb.4096g5HbwK1BH.000128.OxMassFrac', 'cptmarvel.cosmo25cmb.4096g5HbwK1BH.003712.z', 'cptmarvel.cosmo25cmb.4096g5HbwK1BH.003968.z', 'cptmarvel.cosmo25cmb.4096g5HbwK1BH.003245.amiga.stat', 'cptmarvel.cosmo25cmb.4096g5HbwK1BH.002304.OxMassFrac', 'cptmarvel.cosmo25cmb.4096g5HbwK1BH.002304.FeMassFrac', 'cptmarvel.cosmo25cmb.4096g5HbwK1BH.002944.iord', 'cptmarvel.cosmo25cmb.4096g5HbwK1BH.003584.z0.140.AHF_particles', 'cptmarvel.cosmo25cmb.4096g5HbwK1BH.000768.igasorder', 'cptmarvel.cosmo25cmb.4096g5HbwK1BH.003456.coolontime', 'cptmarvel.cosmo25cmb.4096g5HbwK1BH.003200', 'cptmarvel.cosmo25cmb.4096g5HbwK1BH.001536.FeMassFrac', 'cptmarvel.cosmo25cmb.4096g5HbwK1BH.000512.igasorder', 'cptmarvel.cosmo25cmb.4096g5HbwK1BH.000512.amiga.stat', 'cptmarvel.cosmo25cmb.4096g5HbwK1BH.002432.z', 'cptmarvel.cosmo25cmb.4096g5HbwK1BH.003712.igasorder', 'cptmarvel.cosmo25cmb.4096g5HbwK1BH.001813.igasorder', 'cptmarvel.cosmo25cmb.4096g5HbwK1BH.001543.z1.249.AHF_particles', 'cptmarvel.cosmo25cmb.4096g5HbwK1BH.001536.z1.257.AHF_substructure', 'cptmarvel.cosmo25cmb.4096g5HbwK1BH.000896.massform', 'cptmarvel.cosmo25cmb.4096g5HbwK1BH.003200.igasorder', 'cptmarvel.cosmo25cmb.4096g5HbwK1BH.001152.z1.766.AHF_particles', 'cptmarvel.cosmo25cmb.4096g5HbwK1BH.002688.amiga.stat', 'cptmarvel.cosmo25cmb.4096g5HbwK1BH.003072.igasorder', 'cptmarvel.cosmo25cmb.4096g5HbwK1BH.002624', 'cptmarvel.cosmo25cmb.4096g5HbwK1BH.001664.FeMassFrac', 'cptmarvel.cosmo25cmb.4096g5HbwK1BH.002048.z0.824.AHF_halos', 'cptmarvel.cosmo25cmb.4096g5HbwK1BH.000818.iord', 'cptmarvel.cosmo25cmb.4096g5HbwK1BH.000672.coolontime', 'cptmarvel.cosmo25cmb.4096g5HbwK1BH.003245.amiga.gtp', 'cptmarvel.cosmo25cmb.4096g5HbwK1BH.003328.z', 'cptmarvel.cosmo25cmb.4096g5HbwK1BH.003072', 'cptmarvel.cosmo25cmb.4096g5HbwK1BH.000291.OxMassFrac', 'cptmarvel.cosmo25cmb.4096g5HbwK1BH.003712.massform', 'cptmarvel.cosmo25cmb.4096g5HbwK1BH.000384.coolontime', 'cptmarvel.cosmo25cmb.4096g5HbwK1BH.000896', 'cptmarvel.cosmo25cmb.4096g5HbwK1BH.002162.OxMassFrac', 'cptmarvel.cosmo25cmb.4096g5HbwK1BH.002176.amiga.stat', 'cptmarvel.cosmo25cmb.4096g5HbwK1BH.000291.z5.986.AHF_particles', 'cptmarvel.cosmo25cmb.4096g5HbwK1BH.001162.FeMassFrac', 'cptmarvel.cosmo25cmb.4096g5HbwK1BH.002304.z0.665.AHF_profiles', 'cptmarvel.cosmo25cmb.4096g5HbwK1BH.000199.z7.974.AHF_profiles', 'cptmarvel.cosmo25cmb.4096g5HbwK1BH.003328.coolontime', 'cptmarvel.cosmo25cmb.4096g5HbwK1BH.000384.amiga.grp', 'cptmarvel.cosmo25cmb.4096g5HbwK1BH.000128.iord', 'cptmarvel.cosmo25cmb.4096g5HbwK1BH.004096.amiga.gtp', 'cptmarvel.cosmo25cmb.4096g5HbwK1BH.000896.HI', 'cptmarvel.cosmo25cmb.4096g5HbwK1BH.001408.OxMassFrac', 'cptmarvel.cosmo25cmb.4096g5HbwK1BH.001162.z', 'cptmarvel.cosmo25cmb.4096g5HbwK1BH.000128.z', 'cptmarvel.cosmo25cmb.4096g5HbwK1BH.001280.coolontime', 'cptmarvel.cosmo25cmb.4096g5HbwK1BH.002304', 'cptmarvel.cosmo25cmb.4096g5HbwK1BH.003636.z0.125.AHF_substructure', 'cptmarvel.cosmo25cmb.4096g5HbwK1BH.001152.amiga.stat', 'cptmarvel.cosmo25cmb.4096g5HbwK1BH.000146.coolontime', 'cptmarvel.cosmo25cmb.4096g5HbwK1BH.001162.iord', 'cptmarvel.cosmo25cmb.4096g5HbwK1BH.002176.iord', 'cptmarvel.cosmo25cmb.4096g5HbwK1BH.002624.OxMassFrac', 'cptmarvel.cosmo25cmb.4096g5HbwK1BH.001813.amiga.stat', 'cptmarvel.cosmo25cmb.4096g5HbwK1BH.004096.HI', 'cptmarvel.cosmo25cmb.4096g5HbwK1BH.003245.HI', 'cptmarvel.cosmo25cmb.4096g5HbwK1BH.001543.z1.249.AHF_halos', 'cptmarvel.cosmo25cmb.4096g5HbwK1BH.002176.OxMassFrac', 'cptmarvel.cosmo25cmb.4096g5HbwK1BH.000128', 'cptmarvel.cosmo25cmb.4096g5HbwK1BH.000818.z', 'cptmarvel.cosmo25cmb.4096g5HbwK1BH.001920.z', 'cptmarvel.cosmo25cmb.4096g5HbwK1BH.002162.z0.750.AHF_particles', 'cptmarvel.cosmo25cmb.4096g5HbwK1BH.002624.HI', 'cptmarvel.cosmo25cmb.4096g5HbwK1BH.002816', 'cptmarvel.cosmo25cmb.4096g5HbwK1BH.001025.amiga.stat', 'cptmarvel.cosmo25cmb.4096g5HbwK1BH.002432.iord', 'cptmarvel.cosmo25cmb.4096g5HbwK1BH.001162.z1.749.AHF_substructure', 'cptmarvel.cosmo25cmb.4096g5HbwK1BH.001331.OxMassFrac', 'cptmarvel.cosmo25cmb.4096g5HbwK1BH.001152.OxMassFrac', 'cptmarvel.cosmo25cmb.4096g5HbwK1BH.003328.z0.222.AHF_halos', 'cptmarvel.cosmo25cmb.4096g5HbwK1BH.000482.z3.996.AHF_substructure', 'cptmarvel.cosmo25cmb.4096g5HbwK1BH.001792.z1.017.AHF_profiles', 'cptmarvel.cosmo25cmb.4096g5HbwK1BH.004096.amiga.grp', 'cptmarvel.cosmo25cmb.4096g5HbwK1BH.000818.z2.500.AHF_profiles', 'cptmarvel.cosmo25cmb.4096g5HbwK1BH.003200.z0.266.AHF_substructure', 'cptmarvel.cosmo25cmb.4096g5HbwK1BH.002162.iord', 'cptmarvel.cosmo25cmb.4096g5HbwK1BH.003584.z0.140.AHF_halos', 'cptmarvel.cosmo25cmb.4096g5HbwK1BH.001162.OxMassFrac', 'cptmarvel.cosmo25cmb.4096g5HbwK1BH.002688.OxMassFrac', 'cptmarvel.cosmo25cmb.4096g5HbwK1BH.003584.coolontime', 'cptmarvel.cosmo25cmb.4096g5HbwK1BH.000482.z3.996.AHF_halos', 'cptmarvel.cosmo25cmb.4096g5HbwK1BH.003072.amiga.grp', 'cptmarvel.cosmo25cmb.4096g5HbwK1BH.002176.z', 'cptmarvel.cosmo25cmb.4096g5HbwK1BH.002816.amiga.grp', 'cptmarvel.cosmo25cmb.4096g5HbwK1BH.000199.z7.974.AHF_substructure', 'cptmarvel.cosmo25cmb.4096g5HbwK1BH.003712.amiga.grp', 'cptmarvel.cosmo25cmb.4096g5HbwK1BH.003072.OxMassFrac', 'cptmarvel.cosmo25cmb.4096g5HbwK1BH.000512.HI', 'cptmarvel.cosmo25cmb.4096g5HbwK1BH.001162.amiga.gtp', 'cptmarvel.cosmo25cmb.4096g5HbwK1BH.000199.FeMassFrac', 'cptmarvel.cosmo25cmb.4096g5HbwK1BH.000896.FeMassFrac', 'cptmarvel.cosmo25cmb.4096g5HbwK1BH.002560.FeMassFrac', 'cptmarvel.cosmo25cmb.4096g5HbwK1BH.000128.igasorder', 'cptmarvel.cosmo25cmb.4096g5HbwK1BH.001408.z1.402.AHF_particles', 'cptmarvel.cosmo25cmb.4096g5HbwK1BH.003328.amiga.grp', 'cptmarvel.cosmo25cmb.4096g5HbwK1BH.000512.z', 'cptmarvel.cosmo25cmb.4096g5HbwK1BH.001536.massform', 'cptmarvel.cosmo25cmb.4096g5HbwK1BH.000640.amiga.gtp', 'cptmarvel.cosmo25cmb.4096g5HbwK1BH.000384.z4.813.AHF_profiles', 'cptmarvel.cosmo25cmb.4096g5HbwK1BH.001025.massform', 'cptmarvel.cosmo25cmb.4096g5HbwK1BH.002688.amiga.gtp', 'cptmarvel.cosmo25cmb.4096g5HbwK1BH.003328.igasorder', 'cptmarvel.cosmo25cmb.4096g5HbwK1BH.000768.iord', 'cptmarvel.cosmo25cmb.4096g5HbwK1BH.000896.iord', 'cptmarvel.cosmo25cmb.4096g5HbwK1BH.004096.FeMassFrac', 'cptmarvel.cosmo25cmb.4096g5HbwK1BH.001536.amiga.gtp', 'cptmarvel.cosmo25cmb.4096g5HbwK1BH.001920.z0.916.AHF_halos', 'cptmarvel.cosmo25cmb.4096g5HbwK1BH.000128.FeMassFrac', 'cptmarvel.cosmo25cmb.4096g5HbwK1BH.000113.igasorder', 'cptmarvel.cosmo25cmb.4096g5HbwK1BH.000672.massform', 'cptmarvel.cosmo25cmb.4096g5HbwK1BH.003200.iord', 'cptmarvel.cosmo25cmb.4096g5HbwK1BH.000146', 'cptmarvel.cosmo25cmb.4096g5HbwK1BH.log', 'cptmarvel.cosmo25cmb.4096g5HbwK1BH.001536.amiga.grp', 'cptmarvel.cosmo25cmb.4096g5HbwK1BH.001025.amiga.gtp', 'cptmarvel.cosmo25cmb.4096g5HbwK1BH.003968.z0.033.AHF_substructure', 'cptmarvel.cosmo25cmb.4096g5HbwK1BH.000640.z3.131.AHF_substructure', 'cptmarvel.cosmo25cmb.4096g5HbwK1BH.003584.amiga.stat', 'cptmarvel.cosmo25cmb.4096g5HbwK1BH.003840.massform', 'cptmarvel.cosmo25cmb.4096g5HbwK1BH.001025.igasorder', 'cptmarvel.cosmo25cmb.4096g5HbwK1BH.001025.iord', 'cptmarvel.cosmo25cmb.4096g5HbwK1BH.000640.HI', 'cptmarvel.cosmo25cmb.4096g5HbwK1BH.000384.z4.813.AHF_particles', 'cptmarvel.cosmo25cmb.4096g5HbwK1BH.003968.amiga.stat', 'cptmarvel.cosmo25cmb.4096g5HbwK1BH.001664.z1.130.AHF_halos', 'cptmarvel.cosmo25cmb.4096g5HbwK1BH.000672.z2.998.AHF_halos', 'cptmarvel.cosmo25cmb.4096g5HbwK1BH.001664.coolontime', 'cptmarvel.cosmo25cmb.4096g5HbwK1BH.002688.amiga.grp', 'cptmarvel.cosmo25cmb.4096g5HbwK1BH.000768.amiga.stat', 'cptmarvel.cosmo25cmb.4096g5HbwK1BH.003456.z', 'cptmarvel.cosmo25cmb.4096g5HbwK1BH.003328.HI', 'cptmarvel.cosmo25cmb.4096g5HbwK1BH.001920.HI', 'cptmarvel.cosmo25cmb.4096g5HbwK1BH.003072.z', 'cptmarvel.cosmo25cmb.4096g5HbwK1BH.002432.FeMassFrac', 'cptmarvel.cosmo25cmb.4096g5HbwK1BH.002816.z0.414.AHF_halos', 'cptmarvel.cosmo25cmb.4096g5HbwK1BH.000512.FeMassFrac', 'cptmarvel.cosmo25cmb.4096g5HbwK1BH.001792.coolontime', 'cptmarvel.cosmo25cmb.4096g5HbwK1BH.002624.z0.500.AHF_profiles', 'cptmarvel.cosmo25cmb.4096g5HbwK1BH.002304.iord', 'cptmarvel.cosmo25cmb.4096g5HbwK1BH.000896.igasorder', 'cptmarvel.cosmo25cmb.4096g5HbwK1BH.001331.z1.500.AHF_particles', 'cptmarvel.cosmo25cmb.4096g5HbwK1BH.000113.massform', 'cptmarvel.cosmo25cmb.4096g5HbwK1BH.000199.iord', 'cptmarvel.cosmo25cmb.4096g5HbwK1BH.002560.amiga.grp', 'cptmarvel.cosmo25cmb.4096g5HbwK1BH.002304.z0.665.AHF_halos', 'cptmarvel.cosmo25cmb.4096g5HbwK1BH.001920.amiga.stat', 'cptmarvel.cosmo25cmb.4096g5HbwK1BH.002816.HI', 'cptmarvel.cosmo25cmb.4096g5HbwK1BH.000113.OxMassFrac', 'cptmarvel.cosmo25cmb.4096g5HbwK1BH.002432.z0.595.AHF_particles', 'cptmarvel.cosmo25cmb.4096g5HbwK1BH.003968.FeMassFrac', 'cptmarvel.cosmo25cmb.4096g5HbwK1BH.000896.z', 'cptmarvel.cosmo25cmb.4096g5HbwK1BH.001162.HI', 'cptmarvel.cosmo25cmb.4096g5HbwK1BH.000113.amiga.grp', 'cptmarvel.cosmo25cmb.4096g5HbwK1BH.002304.amiga.gtp', 'cptmarvel.cosmo25cmb.4096g5HbwK1BH.000640.z3.131.AHF_particles', 'cptmarvel.cosmo25cmb.4096g5HbwK1BH.002304.z', 'cptmarvel.cosmo25cmb.4096g5HbwK1BH.002944.HI', 'cptmarvel.cosmo25cmb.4096g5HbwK1BH.002176.coolontime', 'cptmarvel.cosmo25cmb.4096g5HbwK1BH.003968.z0.033.AHF_particles', 'cptmarvel.cosmo25cmb.4096g5HbwK1BH.003328.z0.222.AHF_substructure', 'cptmarvel.cosmo25cmb.4096g5HbwK1BH.001543.z', 'cptmarvel.cosmo25cmb.4096g5HbwK1BH.000482.amiga.gtp', 'cptmarvel.cosmo25cmb.4096g5HbwK1BH.000384.FeMassFrac', 'cptmarvel.cosmo25cmb.4096g5HbwK1BH.000512.OxMassFrac', 'cptmarvel.cosmo25cmb.4096g5HbwK1BH.000672.OxMassFrac', 'cptmarvel.cosmo25cmb.4096g5HbwK1BH.001408.amiga.gtp', 'cptmarvel.cosmo25cmb.4096g5HbwK1BH.000640', 'cptmarvel.cosmo25cmb.4096g5HbwK1BH.002816.z0.414.AHF_profiles', 'cptmarvel.cosmo25cmb.4096g5HbwK1BH.000512.z3.799.AHF_substructure', 'cptmarvel.cosmo25cmb.4096g5HbwK1BH.003072.iord', 'cptmarvel.cosmo25cmb.4096g5HbwK1BH.003456.z0.180.AHF_substructure', 'cptmarvel.cosmo25cmb.4096g5HbwK1BH.001792.amiga.stat', 'cptmarvel.cosmo25cmb.4096g5HbwK1BH.002944.amiga.gtp', 'cptmarvel.cosmo25cmb.4096g5HbwK1BH.003840.HI', 'cptmarvel.cosmo25cmb.4096g5HbwK1BH.003636.iord', 'cptmarvel.cosmo25cmb.4096g5HbwK1BH.001543', 'cptmarvel.cosmo25cmb.4096g5HbwK1BH.001025.z', 'cptmarvel.cosmo25cmb.4096g5HbwK1BH.000768.massform', 'cptmarvel.cosmo25cmb.4096g5HbwK1BH.002162.z', 'cptmarvel.cosmo25cmb.4096g5HbwK1BH.001280.igasorder', 'cptmarvel.cosmo25cmb.4096g5HbwK1BH.001331.z1.500.AHF_substructure', 'cptmarvel.cosmo25cmb.4096g5HbwK1BH.003712.OxMassFrac', 'cptmarvel.cosmo25cmb.4096g5HbwK1BH.002048.FeMassFrac', 'cptmarvel.cosmo25cmb.4096g5HbwK1BH.003636.z0.125.AHF_profiles', 'cptmarvel.cosmo25cmb.4096g5HbwK1BH.003456.OxMassFrac', 'cptmarvel.cosmo25cmb.4096g5HbwK1BH.002944.OxMassFrac', 'cptmarvel.cosmo25cmb.4096g5HbwK1BH.001280.z1.569.AHF_particles', 'cptmarvel.cosmo25cmb.4096g5HbwK1BH.000384.amiga.stat', 'cptmarvel.cosmo25cmb.4096g5HbwK1BH.001536.z1.257.AHF_particles', 'cptmarvel.cosmo25cmb.4096g5HbwK1BH.003200.FeMassFrac', 'cptmarvel.cosmo25cmb.4096g5HbwK1BH.003072.massform', 'cptmarvel.cosmo25cmb.4096g5HbwK1BH.000146.igasorder', 'cptmarvel.cosmo25cmb.4096g5HbwK1BH.003200.amiga.gtp', 'cptmarvel.cosmo25cmb.4096g5HbwK1BH.000672.igasorder', 'cptmarvel.cosmo25cmb.4096g5HbwK1BH.001408.coolontime', 'cptmarvel.cosmo25cmb.4096g5HbwK1BH.001280.iord', 'cptmarvel.cosmo25cmb.4096g5HbwK1BH.001792.amiga.gtp', 'cptmarvel.cosmo25cmb.4096g5HbwK1BH.001152.amiga.gtp', 'cptmarvel.cosmo25cmb.4096g5HbwK1BH.003328.amiga.gtp', 'cptmarvel.cosmo25cmb.4096g5HbwK1BH.001025.z1.999.AHF_profiles', 'cptmarvel.cosmo25cmb.4096g5HbwK1BH.000384', 'cptmarvel.cosmo25cmb.4096g5HbwK1BH.003840.iord', 'cptmarvel.cosmo25cmb.4096g5HbwK1BH.002688.coolontime', 'cptmarvel.cosmo25cmb.4096g5HbwK1BH.000128.amiga.grp', 'cptmarvel.cosmo25cmb.4096g5HbwK1BH.001152.HI', 'cptmarvel.cosmo25cmb.4096g5HbwK1BH.002048', 'cptmarvel.cosmo25cmb.4096g5HbwK1BH.003636', 'cptmarvel.cosmo25cmb.4096g5HbwK1BH.003712.FeMassFrac', 'cptmarvel.cosmo25cmb.4096g5HbwK1BH.001813.OxMassFrac', 'cptmarvel.cosmo25cmb.4096g5HbwK1BH.001331.amiga.gtp', 'cptmarvel.cosmo25cmb.4096g5HbwK1BH.001543.OxMassFrac', 'cptmarvel.cosmo25cmb.4096g5HbwK1BH.003245.massform', 'cptmarvel.cosmo25cmb.4096g5HbwK1BH.000128.massform', 'cptmarvel.cosmo25cmb.4096g5HbwK1BH.001813.z0.999.AHF_particles', 'cptmarvel.cosmo25cmb.4096g5HbwK1BH.003245.FeMassFrac', 'cptmarvel.cosmo25cmb.4096g5HbwK1BH.003072.z0.312.AHF_particles', 'cptmarvel.cosmo25cmb.4096g5HbwK1BH.000199.z7.974.AHF_fpos', 'cptmarvel.cosmo25cmb.4096g5HbwK1BH.000482.z3.996.AHF_profiles', 'cptmarvel.cosmo25cmb.4096g5HbwK1BH.003584.igasorder', 'cptmarvel.cosmo25cmb.4096g5HbwK1BH.002816.amiga.gtp', 'cptmarvel.cosmo25cmb.4096g5HbwK1BH.000896.amiga.gtp', 'cptmarvel.cosmo25cmb.4096g5HbwK1BH.003712.amiga.stat', 'cptmarvel.cosmo25cmb.4096g5HbwK1BH.000818.HI', 'cptmarvel.cosmo25cmb.4096g5HbwK1BH.002432.OxMassFrac', 'cptmarvel.cosmo25cmb.4096g5HbwK1BH.002688.igasorder', 'cptmarvel.cosmo25cmb.4096g5HbwK1BH.003712.z0.103.AHF_halos', 'cptmarvel.cosmo25cmb.4096g5HbwK1BH.002048.z', 'cptmarvel.cosmo25cmb.4096g5HbwK1BH.000482.z3.996.AHF_particles', 'cptmarvel.cosmo25cmb.4096g5HbwK1BH.003584.FeMassFrac', 'cptmarvel.cosmo25cmb.4096g5HbwK1BH.001664.z1.130.AHF_substructure', 'cptmarvel.cosmo25cmb.4096g5HbwK1BH.003840.z0.067.AHF_particles', 'cptmarvel.cosmo25cmb.4096g5HbwK1BH.001543.amiga.gtp', 'cptmarvel.cosmo25cmb.4096g5HbwK1BH.000291.HI', 'cptmarvel.cosmo25cmb.4096g5HbwK1BH.003072.amiga.stat', 'cptmarvel.cosmo25cmb.4096g5HbwK1BH.002176.massform', 'cptmarvel.cosmo25cmb.4096g5HbwK1BH.003968.z0.033.AHF_halos', 'cptmarvel.cosmo25cmb.4096g5HbwK1BH.003200.z0.266.AHF_profiles', 'cptmarvel.cosmo25cmb.4096g5HbwK1BH.000291.amiga.grp', 'cptmarvel.cosmo25cmb.4096g5HbwK1BH.000199.igasorder', 'cptmarvel.cosmo25cmb.4096g5HbwK1BH.001536.coolontime', 'cptmarvel.cosmo25cmb.4096g5HbwK1BH.000113.coolontime', 'cptmarvel.cosmo25cmb.4096g5HbwK1BH.002304.z0.665.AHF_particles', 'cptmarvel.cosmo25cmb.4096g5HbwK1BH.004096.OxMassFrac', 'cptmarvel.cosmo25cmb.4096g5HbwK1BH.001920.igasorder', 'cptmarvel.cosmo25cmb.4096g5HbwK1BH.002560.z0.531.AHF_profiles', 'cptmarvel.cosmo25cmb.4096g5HbwK1BH.003456.z0.180.AHF_particles', 'cptmarvel.cosmo25cmb.4096g5HbwK1BH.000482.FeMassFrac', 'cptmarvel.cosmo25cmb.4096g5HbwK1BH.000672.FeMassFrac', 'cptmarvel.cosmo25cmb.4096g5HbwK1BH.000291.z5.986.AHF_fpos', 'cptmarvel.cosmo25cmb.4096g5HbwK1BH.003584.z0.140.AHF_profiles', 'cptmarvel.cosmo25cmb.4096g5HbwK1BH.001543.amiga.grp', 'cptmarvel.cosmo25cmb.4096g5HbwK1BH.001536.amiga.stat', 'cptmarvel.cosmo25cmb.4096g5HbwK1BH.001280.z', 'cptmarvel.cosmo25cmb.4096g5HbwK1BH.000291.amiga.gtp', 'cptmarvel.cosmo25cmb.4096g5HbwK1BH.002944.igasorder', 'cptmarvel.cosmo25cmb.4096g5HbwK1BH.000291.FeMassFrac', 'cptmarvel.cosmo25cmb.4096g5HbwK1BH.000672.z2.998.AHF_profiles', 'cptmarvel.cosmo25cmb.4096g5HbwK1BH.002688.z0.470.AHF_substructure', 'cptmarvel.cosmo25cmb.4096g5HbwK1BH.000512.z3.799.AHF_halos', 'cptmarvel.cosmo25cmb.4096g5HbwK1BH.000291.iord', 'cptmarvel.cosmo25cmb.4096g5HbwK1BH.003636.amiga.grp', 'cptmarvel.cosmo25cmb.4096g5HbwK1BH.003328', 'cptmarvel.cosmo25cmb.4096g5HbwK1BH.001280', 'cptmarvel.cosmo25cmb.4096g5HbwK1BH.002688', 'cptmarvel.cosmo25cmb.4096g5HbwK1BH.001025.OxMassFrac', 'cptmarvel.cosmo25cmb.4096g5HbwK1BH.003072.FeMassFrac', 'cptmarvel.cosmo25cmb.4096g5HbwK1BH.001813.iord', 'cptmarvel.cosmo25cmb.4096g5HbwK1BH.003712', 'cptmarvel.cosmo25cmb.4096g5HbwK1BH.000384.z4.813.AHF_halos', 'cptmarvel.cosmo25cmb.4096g5HbwK1BH.001331.FeMassFrac', 'cptmarvel.cosmo25cmb.4096g5HbwK1BH.002560.z0.531.AHF_halos', 'cptmarvel.cosmo25cmb.4096g5HbwK1BH.003456.z0.180.AHF_profiles', 'cptmarvel.cosmo25cmb.4096g5HbwK1BH.000199.HI', 'cptmarvel.cosmo25cmb.4096g5HbwK1BH.002816.coolontime', 'cptmarvel.cosmo25cmb.4096g5HbwK1BH.000896.z2.289.AHF_profiles', 'cptmarvel.cosmo25cmb.4096g5HbwK1BH.002162.HI', 'cptmarvel.cosmo25cmb.4096g5HbwK1BH.003456.amiga.stat', 'cptmarvel.cosmo25cmb.4096g5HbwK1BH.004096.z0.000.AHF_halos', 'cptmarvel.cosmo25cmb.4096g5HbwK1BH.000672.z', 'cptmarvel.cosmo25cmb.4096g5HbwK1BH.000896.coolontime', 'cptmarvel.cosmo25cmb.4096g5HbwK1BH.001152.z', 'cptmarvel.cosmo25cmb.4096g5HbwK1BH.001920.OxMassFrac', 'cptmarvel.cosmo25cmb.4096g5HbwK1BH.001152.FeMassFrac', 'cptmarvel.cosmo25cmb.4096g5HbwK1BH.000768.z2.653.AHF_halos', 'cptmarvel.cosmo25cmb.4096g5HbwK1BH.000640.amiga.stat', 'cptmarvel.cosmo25cmb.4096g5HbwK1BH.002162.amiga.gtp', 'cptmarvel.cosmo25cmb.4096g5HbwK1BH.000146.HI', 'cptmarvel.cosmo25cmb.4096g5HbwK1BH.001152.igasorder', 'cptmarvel.cosmo25cmb.4096g5HbwK1BH.000482.z', 'cptmarvel.cosmo25cmb.4096g5HbwK1BH.001536.z', 'cptmarvel.cosmo25cmb.4096g5HbwK1BH.000384.iord', 'cptmarvel.cosmo25cmb.4096g5HbwK1BH.001813.amiga.gtp', 'cptmarvel.cosmo25cmb.4096g5HbwK1BH.000199.amiga.grp', 'cptmarvel.cosmo25cmb.4096g5HbwK1BH.002162.z0.750.AHF_substructure', 'cptmarvel.cosmo25cmb.4096g5HbwK1BH.001536.OxMassFrac', 'cptmarvel.cosmo25cmb.4096g5HbwK1BH.000199.OxMassFrac', 'cptmarvel.cosmo25cmb.4096g5HbwK1BH.003456.massform', 'cptmarvel.cosmo25cmb.4096g5HbwK1BH.001664.z', 'cptmarvel.cosmo25cmb.4096g5HbwK1BH.000199.z7.974.AHF_halos', 'cptmarvel.cosmo25cmb.4096g5HbwK1BH.000896.amiga.stat', 'cptmarvel.cosmo25cmb.4096g5HbwK1BH.000768.amiga.gtp', 'cptmarvel.cosmo25cmb.4096g5HbwK1BH.003456.igasorder', 'cptmarvel.cosmo25cmb.4096g5HbwK1BH.003245.igasorder', 'cptmarvel.cosmo25cmb.4096g5HbwK1BH.000896.z2.289.AHF_halos', 'cptmarvel.cosmo25cmb.4096g5HbwK1BH.002944.z', 'cptmarvel.cosmo25cmb.4096g5HbwK1BH.001543.z1.249.AHF_substructure', 'cptmarvel.cosmo25cmb.4096g5HbwK1BH.000291.z5.986.AHF_substructure', 'cptmarvel.cosmo25cmb.4096g5HbwK1BH.002048.massform', 'cptmarvel.cosmo25cmb.4096g5HbwK1BH.000199.coolontime', 'cptmarvel.cosmo25cmb.4096g5HbwK1BH.000672.iord', 'cptmarvel.cosmo25cmb.4096g5HbwK1BH.001162.z1.749.AHF_particles', 'cptmarvel.cosmo25cmb.4096g5HbwK1BH.001792.iord', 'cptmarvel.cosmo25cmb.4096g5HbwK1BH.001543.FeMassFrac', 'cptmarvel.cosmo25cmb.4096g5HbwK1BH.001664.amiga.gtp', 'cptmarvel.cosmo25cmb.4096g5HbwK1BH.000640.iord', 'cptmarvel.cosmo25cmb.4096g5HbwK1BH.000482', 'cptmarvel.cosmo25cmb.4096g5HbwK1BH.000482.coolontime', 'cptmarvel.cosmo25cmb.4096g5HbwK1BH.003072.z0.312.AHF_substructure', 'cptmarvel.cosmo25cmb.4096g5HbwK1BH.003245.OxMassFrac', 'cptmarvel.cosmo25cmb.4096g5HbwK1BH.002944.z0.362.AHF_halos', 'cptmarvel.cosmo25cmb.4096g5HbwK1BH.002688.HI', 'cptmarvel.cosmo25cmb.4096g5HbwK1BH.003968.OxMassFrac', 'cptmarvel.cosmo25cmb.4096g5HbwK1BH.003636.coolontime', 'cptmarvel.cosmo25cmb.4096g5HbwK1BH.003200.coolontime', 'cptmarvel.cosmo25cmb.4096g5HbwK1BH.001813', 'cptmarvel.cosmo25cmb.4096g5HbwK1BH.000482.amiga.grp', 'cptmarvel.cosmo25cmb.4096g5HbwK1BH.002560.amiga.stat', 'cptmarvel.cosmo25cmb.4096g5HbwK1BH.002560.igasorder', 'cptmarvel.cosmo25cmb.4096g5HbwK1BH.002624.z0.500.AHF_particles', 'cptmarvel.cosmo25cmb.4096g5HbwK1BH.000640.igasorder', 'cptmarvel.cosmo25cmb.4096g5HbwK1BH.002048.amiga.stat', 'cptmarvel.cosmo25cmb.4096g5HbwK1BH.001920.iord', 'cptmarvel.cosmo25cmb.4096g5HbwK1BH.002560.massform', 'cptmarvel.cosmo25cmb.4096g5HbwK1BH.002162.amiga.grp', 'cptmarvel.cosmo25cmb.4096g5HbwK1BH.004096.amiga.stat', 'cptmarvel.cosmo25cmb.4096g5HbwK1BH.002176.HI', 'cptmarvel.cosmo25cmb.4096g5HbwK1BH.001408.igasorder', 'cptmarvel.cosmo25cmb.4096g5HbwK1BH.000113', 'cptmarvel.cosmo25cmb.4096g5HbwK1BH.000768.z2.653.AHF_substructure', 'cptmarvel.cosmo25cmb.4096g5HbwK1BH.003712.z0.103.AHF_substructure', 'cptmarvel.cosmo25cmb.4096g5HbwK1BH.003328.iord', 'cptmarvel.cosmo25cmb.4096g5HbwK1BH.002304.igasorder', 'cptmarvel.cosmo25cmb.4096g5HbwK1BH.002624.amiga.grp', 'cptmarvel.cosmo25cmb.4096g5HbwK1BH.001408.iord', 'cptmarvel.cosmo25cmb.4096g5HbwK1BH.002162.z0.750.AHF_profiles', 'cptmarvel.cosmo25cmb.4096g5HbwK1BH.003840.z0.067.AHF_profiles', 'cptmarvel.cosmo25cmb.4096g5HbwK1BH.000291.z5.986.AHF_profiles', 'cptmarvel.cosmo25cmb.4096g5HbwK1BH.001025.z1.999.AHF_substructure', 'cptmarvel.cosmo25cmb.4096g5HbwK1BH.002176.z0.741.AHF_particles', 'cptmarvel.cosmo25cmb.4096g5HbwK1BH.001331.HI', 'cptmarvel.cosmo25cmb.4096g5HbwK1BH.003245.z0.250.AHF_halos', 'cptmarvel.cosmo25cmb.4096g5HbwK1BH.003200.massform', 'cptmarvel.cosmo25cmb.4096g5HbwK1BH.001408.FeMassFrac', 'cptmarvel.cosmo25cmb.4096g5HbwK1BH.001152.amiga.grp', 'cptmarvel.cosmo25cmb.4096g5HbwK1BH.002624.coolontime', 'cptmarvel.cosmo25cmb.4096g5HbwK1BH.000291', 'cptmarvel.cosmo25cmb.4096g5HbwK1BH.000818.igasorder', 'cptmarvel.cosmo25cmb.4096g5HbwK1BH.000818.z2.500.AHF_particles', 'cptmarvel.cosmo25cmb.4096g5HbwK1BH.001331.amiga.stat', 'cptmarvel.cosmo25cmb.4096g5HbwK1BH.002944.amiga.grp', 'cptmarvel.cosmo25cmb.4096g5HbwK1BH.002048.coolontime', 'cptmarvel.cosmo25cmb.4096g5HbwK1BH.001543.igasorder', 'cptmarvel.cosmo25cmb.4096g5HbwK1BH.000768.OxMassFrac', 'cptmarvel.cosmo25cmb.4096g5HbwK1BH.001408', 'cptmarvel.cosmo25cmb.4096g5HbwK1BH.003200.OxMassFrac', 'cptmarvel.cosmo25cmb.4096g5HbwK1BH.003245.z0.250.AHF_substructure', 'cptmarvel.cosmo25cmb.4096g5HbwK1BH.000146.massform', 'cptmarvel.cosmo25cmb.4096g5HbwK1BH.002624.massform', 'cptmarvel.cosmo25cmb.4096g5HbwK1BH.002944.amiga.stat', 'cptmarvel.cosmo25cmb.4096g5HbwK1BH.001813.HI', 'cptmarvel.cosmo25cmb.4096g5HbwK1BH.003200.z0.266.AHF_halos', 'cptmarvel.cosmo25cmb.4096g5HbwK1BH.000482.HI', 'cptmarvel.cosmo25cmb.4096g5HbwK1BH.000640.z3.131.AHF_profiles', 'cptmarvel.cosmo25cmb.4096g5HbwK1BH.000818.amiga.gtp', 'cptmarvel.cosmo25cmb.4096g5HbwK1BH.003200.z', 'cptmarvel.cosmo25cmb.4096g5HbwK1BH.002624.amiga.gtp', 'cptmarvel.cosmo25cmb.4096g5HbwK1BH.001408.z', 'cptmarvel.cosmo25cmb.4096g5HbwK1BH.002560.iord', 'cptmarvel.cosmo25cmb.4096g5HbwK1BH.001543.coolontime', 'cptmarvel.cosmo25cmb.4096g5HbwK1BH.003968.z0.033.AHF_profiles', 'cptmarvel.cosmo25cmb.4096g5HbwK1BH.002816.massform', 'cptmarvel.cosmo25cmb.4096g5HbwK1BH.000818.FeMassFrac', 'cptmarvel.cosmo25cmb.4096g5HbwK1BH.001813.z0.999.AHF_profiles', 'cptmarvel.cosmo25cmb.4096g5HbwK1BH.001813.coolontime', 'cptmarvel.cosmo25cmb.4096g5HbwK1BH.003636.FeMassFrac', 'cptmarvel.cosmo25cmb.4096g5HbwK1BH.002944.FeMassFrac', 'cptmarvel.cosmo25cmb.4096g5HbwK1BH.001025.z1.999.AHF_particles', 'cptmarvel.cosmo25cmb.4096g5HbwK1BH.001792.amiga.grp', 'cptmarvel.cosmo25cmb.4096g5HbwK1BH.000640.coolontime', 'cptmarvel.cosmo25cmb.4096g5HbwK1BH.002162.massform', 'cptmarvel.cosmo25cmb.4096g5HbwK1BH.001543.z1.249.AHF_profiles', 'cptmarvel.cosmo25cmb.4096g5HbwK1BH.003200.HI', 'cptmarvel.cosmo25cmb.4096g5HbwK1BH.001664', 'cptmarvel.cosmo25cmb.4096g5HbwK1BH.003245', 'cptmarvel.cosmo25cmb.4096g5HbwK1BH.002432.coolontime', 'cptmarvel.cosmo25cmb.4096g5HbwK1BH.001331', 'cptmarvel.cosmo25cmb.4096g5HbwK1BH.000482.OxMassFrac', 'cptmarvel.cosmo25cmb.4096g5HbwK1BH.003200.amiga.stat', 'cptmarvel.cosmo25cmb.4096g5HbwK1BH.000128.amiga.gtp', 'cptmarvel.cosmo25cmb.4096g5HbwK1BH.003968.amiga.grp', 'cptmarvel.cosmo25cmb.4096g5HbwK1BH.001664.z1.130.AHF_profiles', 'cptmarvel.cosmo25cmb.4096g5HbwK1BH.000640.z3.131.AHF_halos', 'cptmarvel.cosmo25cmb.4096g5HbwK1BH.001920.z0.916.AHF_particles', 'cptmarvel.cosmo25cmb.4096g5HbwK1BH.000818.OxMassFrac', 'cptmarvel.cosmo25cmb.4096g5HbwK1BH.001331.z', 'cptmarvel.cosmo25cmb.4096g5HbwK1BH.003245.iord', 'cptmarvel.cosmo25cmb.4096g5HbwK1BH.000672.z2.998.AHF_substructure', 'cptmarvel.cosmo25cmb.4096g5HbwK1BH.001162.z1.749.AHF_profiles', 'cptmarvel.cosmo25cmb.4096g5HbwK1BH.000768.FeMassFrac', 'cptmarvel.cosmo25cmb.4096g5HbwK1BH.003456.amiga.grp', 'cptmarvel.cosmo25cmb.4096g5HbwK1BH.000896.z2.289.AHF_substructure', 'cptmarvel.cosmo25cmb.4096g5HbwK1BH.000199.amiga.stat', 'cptmarvel.cosmo25cmb.4096g5HbwK1BH.002162.coolontime', 'cptmarvel.cosmo25cmb.4096g5HbwK1BH.000128.amiga.stat', 'cptmarvel.cosmo25cmb.4096g5HbwK1BH.001792.z', 'cptmarvel.cosmo25cmb.4096g5HbwK1BH.003840.amiga.stat', 'cptmarvel.cosmo25cmb.4096g5HbwK1BH.001792.OxMassFrac', 'cptmarvel.cosmo25cmb.4096g5HbwK1BH.001664.massform', 'cptmarvel.cosmo25cmb.4096g5HbwK1BH.001162.coolontime', 'cptmarvel.cosmo25cmb.4096g5HbwK1BH.002432.massform', 'cptmarvel.cosmo25cmb.4096g5HbwK1BH.001280.massform', 'cptmarvel.cosmo25cmb.4096g5HbwK1BH.001280.amiga.gtp', 'cptmarvel.cosmo25cmb.4096g5HbwK1BH.001152.iord', 'cptmarvel.cosmo25cmb.4096g5HbwK1BH.002162.FeMassFrac', 'cptmarvel.cosmo25cmb.4096g5HbwK1BH.000113.z', 'cptmarvel.cosmo25cmb.4096g5HbwK1BH.001920.massform', 'cptmarvel.cosmo25cmb.4096g5HbwK1BH.002432.amiga.stat', 'cptmarvel.cosmo25cmb.4096g5HbwK1BH.002688.FeMassFrac', 'cptmarvel.cosmo25cmb.4096g5HbwK1BH.002560.HI', 'cptmarvel.cosmo25cmb.4096g5HbwK1BH.000128.HI', 'cptmarvel.cosmo25cmb.4096g5HbwK1BH.000482.massform', 'cptmarvel.cosmo25cmb.4096g5HbwK1BH.002624.z0.500.AHF_substructure', 'cptmarvel.cosmo25cmb.4096g5HbwK1BH.001280.amiga.stat', 'cptmarvel.cosmo25cmb.4096g5HbwK1BH.000818.z2.500.AHF_substructure', 'cptmarvel.cosmo25cmb.4096g5HbwK1BH.001543.massform', 'cptmarvel.cosmo25cmb.4096g5HbwK1BH.000146.FeMassFrac', 'cptmarvel.cosmo25cmb.4096g5HbwK1BH.001536', 'cptmarvel.cosmo25cmb.4096g5HbwK1BH.001408.massform', 'cptmarvel.cosmo25cmb.4096g5HbwK1BH.003072.z0.312.AHF_profiles', 'cptmarvel.cosmo25cmb.4096g5HbwK1BH.000146.OxMassFrac']\n"
     ]
    },
    {
     "data": {
      "text/plain": [
       "{'omegaM0': 0.24,\n",
       " 'omegaL0': 0.76,\n",
       " 'h': 0.7299490542599526,\n",
       " 'boxsize': Unit(\"2.50e+04 kpc a\"),\n",
       " 'a': 1.0000000000142635,\n",
       " 'time': Unit(\"1.40e+01 s kpc km**-1\")}"
      ]
     },
     "execution_count": 9,
     "metadata": {},
     "output_type": "execute_result"
    }
   ],
   "source": [
    "# boxsize, mass unit, vel unit, h\n",
    "\n",
    "import pynbody\n",
    "\n",
    "print(os.listdir('/home/selvani/MAP/Sims/cptmarvel.cosmo25cmb/cptmarvel.cosmo25cmb.4096g5HbwK1BH/cptmarvel.4096g5HbwK1BH_bn/'))\n",
    "\n",
    "s = pynbody.load('/home/selvani/MAP/Sims/cptmarvel.cosmo25cmb/cptmarvel.cosmo25cmb.4096g5HbwK1BH/cptmarvel.4096g5HbwK1BH_bn/cptmarvel.cosmo25cmb.4096g5HbwK1BH.004096')\n",
    "s.properties"
   ]
  },
  {
   "cell_type": "code",
   "execution_count": 11,
   "id": "75f2ab27",
   "metadata": {},
   "outputs": [
    {
     "name": "stdout",
     "output_type": "stream",
     "text": [
      "2.31e+15 Msol\n",
      "6.30e+02 km a s**-1\n"
     ]
    }
   ],
   "source": [
    "print(s['mass'].units)\n",
    "print(s['vel'].units)"
   ]
  },
  {
   "cell_type": "code",
   "execution_count": 14,
   "id": "b15bd1cd",
   "metadata": {},
   "outputs": [
    {
     "data": {
      "text/plain": [
       "'002688'"
      ]
     },
     "execution_count": 14,
     "metadata": {},
     "output_type": "execute_result"
    }
   ],
   "source": [
    "result = 'cosmo25cmb.4096g5HbwK1BH_stardata_002688.h5'\n",
    "result.split('.')[-2][-6:]"
   ]
  },
  {
   "cell_type": "code",
   "execution_count": null,
   "id": "821b411d",
   "metadata": {},
   "outputs": [],
   "source": []
  }
 ],
 "metadata": {
  "kernelspec": {
   "display_name": "Python 3 (ipykernel)",
   "language": "python",
   "name": "python3"
  },
  "language_info": {
   "codemirror_mode": {
    "name": "ipython",
    "version": 3
   },
   "file_extension": ".py",
   "mimetype": "text/x-python",
   "name": "python",
   "nbconvert_exporter": "python",
   "pygments_lexer": "ipython3",
   "version": "3.11.13"
  }
 },
 "nbformat": 4,
 "nbformat_minor": 5
}
