{
 "cells": [
  {
   "cell_type": "markdown",
   "id": "028c6adf-b8f9-4fb6-8ab9-34129f48f384",
   "metadata": {},
   "source": [
    "# Justice League Stellar Merger History\n",
    "\n",
    "## Charlotte Christensen, June 11 2025\n",
    "\n",
    "This jupyter notebook runs Anna Wright's code (/home/christenc/Code/python/AnnaWrite_startrace/RomZoomSHAnalysisScripts) to identify the stars in those halos."
   ]
  },
  {
   "cell_type": "markdown",
   "id": "047d7f41-c271-49dc-8515-e9903e6abc40",
   "metadata": {},
   "source": [
    "From Anna's Email (June 4, 2025)\n",
    "\n",
    "I managed to get through the pipeline and remember what everything did well enough to comment it today, but didn't have time to test it on a new halo. However, if you'd like to try it in the next 24 hours or so, I've attached a zip file with steps 1-7 of my pipeline (there are 8 files, but TrackDownStars_rz.ipynb and FixHostIDs_rz.py are really two halves of a single step). Step 0 is creating a tangos db for the simulation you'll be working with and my pipeline uses that and the simulation itself to create an hdf5 file with relevant data for each star particle. The most important bits are a unique host ID for each star particle so that stars that formed in the same halo can be grouped together, even if that halo doesn't exist at z=0, and the orbital circularity of each star particle, which I use to identify members of the stellar halo.\n",
    "I will be testing it tomorrow on one of the newer Romulus Zooms, so there's a good chance I'll be sending you an updated version very soon with any bug fixes :) \n",
    "I apologize for how many pieces the pipeline is in - it really isn't all that complicated, but it was adapted from what I did for the FOGGIE sims and I split the steps of that pipeline up so that I could do as much as possible locally (rather than on Pleiades) and so that I could sanity check as often as possible. Please let me know if you have any issues, questions, or suggestions! I'd definitely be eager to hear what Juan does differently!"
   ]
  },
  {
   "cell_type": "code",
   "execution_count": 2,
   "id": "43ef31dd",
   "metadata": {},
   "outputs": [],
   "source": [
    "import os\n",
    "os.environ['TANGOS_SIMULATION_FOLDER'] = '/home/selvani/MAP/Sims/cptmarvel.cosmo25cmb/cptmarvel.cosmo25cmb.4096g5HbwK1BH/'\n",
    "os.environ['TANGOS_DB_CONNECTION'] = '/home/selvani/MAP/Data/Marvel_BN_N10.db'\n",
    "os.chdir('/home/selvani/MAP/pynbody/AnnaWright_startrace/')"
   ]
  },
  {
   "cell_type": "code",
   "execution_count": 3,
   "id": "c73b5163-6a26-4038-ac15-7ec8e1db8f79",
   "metadata": {},
   "outputs": [],
   "source": [
    "import pynbody as pb\n",
    "import numpy as np\n",
    "import pandas as pd\n",
    "import glob\n",
    "import h5py\n",
    "import tangos\n",
    "\n",
    "# For importing modules\n",
    "import importlib.util\n",
    "import sys\n",
    "from pathlib import Path"
   ]
  },
  {
   "cell_type": "code",
   "execution_count": 4,
   "id": "7c6b7880-97df-458e-a5df-20e87a1aa328",
   "metadata": {},
   "outputs": [],
   "source": [
    "# Simulation name and path\n",
    "\n",
    "# Elena\n",
    "# simname = 'h329' # not needed?\n",
    "# res = '100'  # The Near Mint runs not needed?\n",
    "#res = 'Mint'  # The Mint\n",
    "simpath = '/home/selvani/MAP/Sims/cptmarvel.cosmo25cmb/cptmarvel.cosmo25cmb.4096g5HbwK1BH/'\n",
    "basename = 'cptmarvel.cosmo25cmb.4096g5HbwK1BH'\n",
    "\n",
    "ss_dir = ''#'snapshots_200crit_h329'\n",
    "sim_base = simpath + ss_dir\n",
    "ss_z0 = sim_base + basename + '.004096'\n",
    "\n",
    "outfile_dir = \"/home/selvani/MAP/pynbody/stellarhalo_trace_aw/\""
   ]
  },
  {
   "cell_type": "markdown",
   "id": "e1bda66b-bfec-4fbe-b9c2-efd22223bf50",
   "metadata": {},
   "source": [
    "### 1) GrabTF_rz.py\n",
    "\n",
    "Step 1 of stellar halo pipeline\n",
    "\n",
    "**What it does:**\n",
    "- Loads the final snapshot (z=0) of the simulation\n",
    "- Extracts formation time (`tform`) and particle IDs (`iord`) for all star particles that have `tform > 0` (i.e., actual stars, not wind particles)\n",
    "- Converts formation times to Gyr units\n",
    "- Creates a 2D array with particle IDs in the first row and formation times in the second row\n",
    "- Saves this data as a `.npy` file named `<simulation_name>_tf.npy`\n",
    "- Prints the total number of star particles found as a sanity check\n",
    "\n",
    "**Input:** Simulation snapshot (specifically the final snapshot `.004096`)\n",
    "\n",
    "**Output:** `<sim>_tf.npy` - NumPy file containing:\n",
    "- Row 0: Star particle IDs (`iord`)  \n",
    "- Row 1: Formation times in Gyr (`tform`)\n",
    "\n",
    "**Purpose:** This creates the foundation dataset that subsequent steps will use to trace back each star particle to determine which halo it was forming in at its birth time.\n",
    "\n",
    "* Usage:   `python GrabTF_rz.py <simpath> <output_directory>`\n",
    "* Example: `python GrabTF_rz.py /path/to/sim/ /path/to/output/`"
   ]
  },
  {
   "cell_type": "code",
   "execution_count": 9,
   "id": "3c029f76-5a05-419f-891c-086bdd966cc8",
   "metadata": {},
   "outputs": [],
   "source": [
    "# Import Anna's code, even if not along my path\n",
    "file_path = '/home/selvani/MAP/pynbody/AnnaWright_startrace/RomZoomSHAnalysisScripts/GrabTF_rz.py'\n",
    "module_name = 'GrabTF_rz'\n",
    "\n",
    "spec = importlib.util.spec_from_file_location(module_name, file_path)\n",
    "module = importlib.util.module_from_spec(spec)\n",
    "spec.loader.exec_module(module)"
   ]
  },
  {
   "cell_type": "code",
   "execution_count": 10,
   "id": "83c905b6-1995-4c2f-8626-5bdd8c64ea59",
   "metadata": {},
   "outputs": [
    {
     "name": "stdout",
     "output_type": "stream",
     "text": [
      "414596 stars found!\n",
      "Save to  /home/selvani/MAP/pynbody/stellarhalo_trace_aw/cptmarvel.cosmo25cmb.4096g5HbwK1BH_tf.npy\n"
     ]
    }
   ],
   "source": [
    "module.main(simpath, outfile_dir)"
   ]
  },
  {
   "cell_type": "markdown",
   "id": "f12957c0-84b6-4f37-a986-498c99e9a9bb",
   "metadata": {},
   "source": [
    "### 2) LocAtCreation_pool_rz.py\n",
    "\n",
    "Step 2 of stellar halo pipeline\n",
    "Identifies the host of each star particle in \\<sim\\>_tf.npy at the \n",
    "time it was formed. **Note that what is stored is NOT the amiga.grp \n",
    "ID, but the index of that halo in the tangos database. The amiga.grp\n",
    "ID can be backed out via tangos with sim[stepnum][halonum].finder_id.** \n",
    "(CC, I believe that I edited this so now the halo_)\n",
    "\n",
    "Output: <sim>_stardata_<snapshot>.h5\n",
    "        where <snapshot> is the first snapshot that a given process\n",
    "        analyzed. There will be <nproc> of these files generated\n",
    "        and processes will not necessarily analyze adjacent snapshots\n",
    "\n",
    "* Usage:   python LocAtCreation_pool_rz.py <sim> optional:<nproc>\n",
    "* Example: python LocAtCreation_pool_rz.py r634 2\n",
    "\n",
    "Includes an optional argument to specify number of processes to run\n",
    "with; default is 4. Note that this will get reduced if you've specified\n",
    "more processes than you have snapshots to process.\n",
    "\n",
    "Note that this has the name of the snapshots directory hardcoded into FindHaloStars.py (L63)\n",
    "-- Will need to be adjusted\n",
    "The \n",
    "\n",
    "CC: When I did my edits, I moved code into FindHaloStars so that it can be imported for multiprocessing\n"
   ]
  },
  {
   "cell_type": "code",
   "execution_count": 19,
   "id": "fa9b290f-40e7-433f-8544-7b2f178ea012",
   "metadata": {},
   "outputs": [
    {
     "name": "stdout",
     "output_type": "stream",
     "text": [
      "Base path: /home/selvani/MAP/pynbody/AnnaWright_startrace\n"
     ]
    }
   ],
   "source": [
    "# Import the module\n",
    "import os\n",
    "base_path = '/home/selvani/MAP/pynbody/AnnaWright_startrace'\n",
    "\n",
    "for root, dirs, files in os.walk(base_path):\n",
    "    if root not in sys.path:\n",
    "        print(\"Adding to sys.path:\", root)\n",
    "        sys.path.append(root)\n",
    "        \n",
    "import LocAtCreation_pool_rz\n",
    "\n",
    "# Set the tangos database\n",
    "# In terminal\n",
    "# export TANGOS_DB_CONNECTION=/home/selvani/MAP/Data/Marvel_BN_N10.db\n",
    "# os.environ['TANGOS_DB_CONNECTION'] = '/home/selvani/MAP/Data/Marvel_BN_N10.db'"
   ]
  },
  {
   "cell_type": "code",
   "execution_count": null,
   "id": "5ad9850f-f52d-430a-98c0-68c8224410f1",
   "metadata": {},
   "outputs": [],
   "source": [
    "import psutil\n",
    "n_cpus = psutil.cpu_count(logical=False)\n",
    "LocAtCreation_pool_rz.main(simpath, ss_dir, outfile_dir, n_cpus)"
   ]
  },
  {
   "cell_type": "markdown",
   "id": "38240520-a7c8-428e-9bcd-dd049901f9d8",
   "metadata": {},
   "source": [
    "### 3) writeouthosts_rz.py\n",
    "\n",
    "Step 3 of stellar halo pipeline                                                                                   \n",
    "For each snapshot, writes out a list of halos that formed stars                                                   \n",
    "between the last snapshot and this one and the number of stars formed;                                            \n",
    "as in step 2, note that the IDs of these halos will be their index in                                             \n",
    "the tangos database, not necessarily their amiga.grp ID. This is used                                             \n",
    "to construct a unique ID for each star-forming halo in the next step.                                             \n",
    "                                                                                                                  \n",
    "Output: <sim>_halostarhosts.txt                                                                                   \n",
    "                                                                                                                  \n",
    "Usage:   python writeouthosts_rz.py <sim>                                                                         \n",
    "Example: python writeouthosts_rz.py r634                                                                          \n",
    "                                                                                                                  \n",
    "Note that this is currently set up for MMs, but should be easily adapted                                          \n",
    "by e.g., changing the paths or adding a path CL argument.    "
   ]
  },
  {
   "cell_type": "code",
   "execution_count": null,
   "id": "78369c26-7063-4e1d-833a-140764288e4e",
   "metadata": {},
   "outputs": [
    {
     "ename": "ModuleNotFoundError",
     "evalue": "No module named 'writeouthosts_rz'",
     "output_type": "error",
     "traceback": [
      "\u001b[31m---------------------------------------------------------------------------\u001b[39m",
      "\u001b[31mModuleNotFoundError\u001b[39m                       Traceback (most recent call last)",
      "\u001b[36mCell\u001b[39m\u001b[36m \u001b[39m\u001b[32mIn[16]\u001b[39m\u001b[32m, line 9\u001b[39m\n\u001b[32m      6\u001b[39m     \u001b[38;5;28;01mif\u001b[39;00m root \u001b[38;5;129;01mnot\u001b[39;00m \u001b[38;5;129;01min\u001b[39;00m sys.path:\n\u001b[32m      7\u001b[39m         sys.path.append(root)\n\u001b[32m----> \u001b[39m\u001b[32m9\u001b[39m \u001b[38;5;28;01mimport\u001b[39;00m\u001b[38;5;250m \u001b[39m\u001b[34;01mwriteouthosts_rz\u001b[39;00m\n",
      "\u001b[31mModuleNotFoundError\u001b[39m: No module named 'writeouthosts_rz'"
     ]
    }
   ],
   "source": [
    "# # Import the module\n",
    "# import os\n",
    "# base_path = '/home/christenc/Code/python/AnnaWright_startrace'\n",
    "\n",
    "# for root, dirs, files in os.walk(base_path):\n",
    "#     if root not in sys.path:\n",
    "#         sys.path.append(root)\n",
    "        \n",
    "import writeouthosts_rz"
   ]
  },
  {
   "cell_type": "code",
   "execution_count": 4,
   "id": "8921c25c-add2-43fd-b506-d061fc0da472",
   "metadata": {},
   "outputs": [],
   "source": [
    "writeouthosts_rz.main(basename, odir='/home/christenc/Code/Datafiles/stellarhalo_trace_aw/')"
   ]
  },
  {
   "cell_type": "markdown",
   "id": "08278e18",
   "metadata": {},
   "source": [
    "#### Extra stuff charlotte added"
   ]
  },
  {
   "cell_type": "code",
   "execution_count": null,
   "id": "d0aa9538-2a2f-4b86-914d-5c8c2cc6f567",
   "metadata": {},
   "outputs": [],
   "source": [
    "print(np.unique(tslist))\n",
    "print(len(tslist))\n",
    "print(len(hostlist))"
   ]
  },
  {
   "cell_type": "code",
   "execution_count": null,
   "id": "ac5d81d4-dd6a-462c-98ab-02f766c83543",
   "metadata": {},
   "outputs": [],
   "source": [
    "t = 456\n",
    "tstr = str(int(t))\n",
    "tmask = np.where(tslist==t)[0]\n",
    "np.size(tmask)"
   ]
  },
  {
   "cell_type": "markdown",
   "id": "e92d6520-e6ef-418a-a021-d1adbfdc2538",
   "metadata": {},
   "source": [
    "### 4) IDUniqueHost_rz.py\n",
    "\n",
    "Step 4 of stellar halo pipeline                                                                                                                       \n",
    "Creates a unique ID for each host that forms a star. The format of                                                                                    \n",
    "this ID is \\<last snapshot where host was IDed\\>_\\<index at this snapshot\\>.                                                                              \n",
    "So, if a host was halo 5 at snapshot 3552 and then merged with halo 1                                                                                 \n",
    "before the next snapshot, its unique ID will be 3552_5. Stars that form                                                                               \n",
    "in its main progenitors will also be associated with this ID. These IDs                                                                               \n",
    "are written out to a file with a similar format to <sim>_halostarhosts.txt.                                                                           \n",
    "                                                                                                                                                      \n",
    "Output: <sim>_uniquehalostarhosts.txt                                                                                                                 \n",
    "                                                                                                                                                      \n",
    "Usage:   python IDUniqueHost_rz.py <sim>                                                                                                              \n",
    "Example: python IDUniqueHost_rz.py r634                                                                                                               \n",
    "                                                                                                                                                      \n",
    "Note that this is currently set up for MMs, but should be easily adapted                                                                              \n",
    "by e.g., changing the paths or adding a path CL argument. It is also                                                                                  \n",
    "designed to accommodate the phantoms that rockstar generates when it                                                                                  \n",
    "temporarily loses track of a halo, which slows it down quite a bit.                                                                                   \n",
    "If you're only ever going to be using it with other types of merger                                                                                   \n",
    "trees, it can be simplified.  "
   ]
  },
  {
   "cell_type": "code",
   "execution_count": 7,
   "id": "29f67b07-0a4f-4f00-8217-b12eb7157028",
   "metadata": {},
   "outputs": [],
   "source": [
    "# Import the module\n",
    "import os\n",
    "base_path = '/home/christenc/Code/python/AnnaWrite_startrace'\n",
    "\n",
    "for root, dirs, files in os.walk(base_path):\n",
    "    if root not in sys.path:\n",
    "        sys.path.append(root)\n",
    "        \n",
    "import IDUniqueHost_rz\n",
    "\n",
    "# Set the tangos database\n",
    "# In terminal\n",
    "# export TANGOS_DB_CONNECTION=/home/christenc/Storage/tangos_db/JL_r200.db\n",
    "os.environ['TANGOS_DB_CONNECTION'] = '/home/christenc/Storage/tangos_db/JL_r200.db'"
   ]
  },
  {
   "cell_type": "code",
   "execution_count": null,
   "id": "0dc3f92f-8b5e-46f1-ba1c-932ea5093e30",
   "metadata": {},
   "outputs": [],
   "source": [
    "\n",
    "sim = db.get_simulation(cursim+'%')\n",
    "\n",
    "d = collections.defaultdict(list)\n",
    "\n",
    "hsfile = odir+cursim+'_halostarhosts.txt'\n",
    "ofile = odir+cursim+'_uniquehalostarhosts.txt'\n",
    "\n",
    "main(sim, d, hsfile, ofile)\n"
   ]
  },
  {
   "cell_type": "markdown",
   "id": "6b233f2c-0dbc-436c-b0b7-d02191153062",
   "metadata": {},
   "source": [
    "### 5) StoreUniqueHostID_rz.py\n",
    "\n",
    "Step 5 of stellar halo pipeline\n",
    "Stores the unique ID of each star particle's host at formation time.\n",
    "Creates an hdf5 file that contains this in addition to all of the data\n",
    "from the <sim>_stardata_<snapshot>.h5 files. Note that all star particles\n",
    "that don't have a host in the snapshot after they formed will be assigned \n",
    "a unique ID of <snapshot_index>_0 and a particle host (i.e., host at\n",
    "formation time) of -1. It is recommended that you use the TrackDownStars\n",
    "Jupyter notebook to try to manually identify hosts for these stars and then\n",
    "use FixHostIDs_rz.py to amend <sim>_allhalostardata.h5.\n",
    "\n",
    "Output: <sim>_allhalostardata.h5\n",
    "\n",
    "Usage:   python StoreUniqueHostID_rz.py <sim>\n",
    "Example: python StoreUniqueHostID_rz.py r634 \n",
    "\n",
    "Note that this is currently set up for MMs, but should be easily adapted \n",
    "by e.g., changing the paths or adding a path CL argument.\n",
    "\n"
   ]
  },
  {
   "cell_type": "code",
   "execution_count": null,
   "id": "cebfbc2f-54da-47df-9847-bd7ef8c57072",
   "metadata": {},
   "outputs": [],
   "source": []
  },
  {
   "cell_type": "markdown",
   "id": "98a45a97-d16a-49bb-afd7-c55d4149d186",
   "metadata": {},
   "source": [
    "### 6a) TrackDownStars_rz.ipnb"
   ]
  },
  {
   "cell_type": "code",
   "execution_count": null,
   "id": "90e5cc2c-5ca5-4841-8da3-5886d928ec68",
   "metadata": {},
   "outputs": [],
   "source": []
  },
  {
   "cell_type": "markdown",
   "id": "964eb336-4539-42c3-a6ce-e93dd6e41376",
   "metadata": {},
   "source": [
    "### 6b) FixHostID_rz\n",
    "\n",
    "Optional: Step 6b of stellar halo pipeline\n",
    "Updates the host_ID values stored in the allhalostardata hdf5 file based\n",
    "on user input. This is designed as a follow-up to TrackDownStars and can \n",
    "be used in a couple of ways. If ffile=True, this script will look for \n",
    "numpy files with names <sim>_new_ID_?.npy and will assign the particles\n",
    "with the iords in a given file to new_ID. If ffile=False, it will assign\n",
    "all particles with a host_ID in the old_ID list to new_ID.\n",
    "\n",
    "Output: <sim>_allhalostardata_upd.h5\n",
    "\n",
    "Usage:   python FixHostIDs_rz.py <sim>\n",
    "Example: python FixHostIDs_rz.py r634 \n",
    "\n",
    "The script will print out all host_IDs for which the number of assigned particles \n",
    "changed and how many particles each gained/lost. If the output looks correct,\n",
    "the user should manually rename <sim>_allhalostardata_upd.h5 to <sim>_allhalostardata.h5.\n",
    "It's often necessary to go back and forth between this and TrackDownStars, in which \n",
    "case I usually move the *.npy files that have already been processed to a subfolder. \n"
   ]
  },
  {
   "cell_type": "code",
   "execution_count": null,
   "id": "0376526c-6b53-4a31-b67e-05eb6d31303d",
   "metadata": {},
   "outputs": [],
   "source": []
  },
  {
   "cell_type": "markdown",
   "id": "94ac9365-972e-40e5-b056-503c0c4378a9",
   "metadata": {},
   "source": [
    "### 6c) CompTwoHalos_rz\n",
    "\n",
    "Optional: Step 6c of stellar halo pipeline\n",
    "Compares two halos to see how likely it is that one is\n",
    "the main progenitor of the other based on how many particles\n",
    "they have in common. This is particularly useful when you've\n",
    "used a merger tree constructor that doesn't use phantoms or\n",
    "some equivalent and may therefore fail to connect a halo at\n",
    "snapshot1 to the same halo at snapshot3 if it lost track of it\n",
    "at snapshot2. This information can then be used with FixHostIDs_rz\n",
    "to merge two unique IDs and/or to create a new link in the \n",
    "relevant tangos db.\n",
    "\n",
    "Usage: python CompTwoHalos_rz.py <sim> <halo1> <halo2>\n",
    "Example: python CompTwoHalos_rz.py r718 0136_4 0192_3\n",
    "\n",
    "Output: prints out the fraction of <halo1>'s DM particles\n",
    "that are in <halo2> and vice-versa.\n",
    "\n",
    "It takes three arguments: the simulation you're working with\n",
    "and the tangos IDs of the two halos you want to compare, which\n",
    "are formatted as <snapshot>_<IDatsnapshot>. Note that this ID\n",
    "is assumed to be the tangos ID, not necessarily the amiga.grp\n",
    "ID.\n"
   ]
  },
  {
   "cell_type": "code",
   "execution_count": null,
   "id": "284a656c-01de-4b9d-8046-67400580f83e",
   "metadata": {},
   "outputs": [],
   "source": []
  }
 ],
 "metadata": {
  "kernelspec": {
   "display_name": "Python 3 (ipykernel)",
   "language": "python",
   "name": "python3"
  },
  "language_info": {
   "codemirror_mode": {
    "name": "ipython",
    "version": 3
   },
   "file_extension": ".py",
   "mimetype": "text/x-python",
   "name": "python",
   "nbconvert_exporter": "python",
   "pygments_lexer": "ipython3",
   "version": "3.11.13"
  }
 },
 "nbformat": 4,
 "nbformat_minor": 5
}
