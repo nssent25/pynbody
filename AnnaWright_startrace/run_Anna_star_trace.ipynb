{
 "cells": [
  {
   "cell_type": "markdown",
   "id": "028c6adf-b8f9-4fb6-8ab9-34129f48f384",
   "metadata": {},
   "source": [
    "# Justice League Stellar Merger History\n",
    "\n",
    "## Charlotte Christensen, June 11 2025\n",
    "\n",
    "This jupyter notebook runs Anna Wright's code (/home/christenc/Code/python/AnnaWrite_startrace/RomZoomSHAnalysisScripts) to identify the stars in those halos."
   ]
  },
  {
   "cell_type": "markdown",
   "id": "047d7f41-c271-49dc-8515-e9903e6abc40",
   "metadata": {},
   "source": [
    "From Anna's Email (June 4, 2025)\n",
    "\n",
    "I managed to get through the pipeline and remember what everything did well enough to comment it today, but didn't have time to test it on a new halo. However, if you'd like to try it in the next 24 hours or so, I've attached a zip file with steps 1-7 of my pipeline (there are 8 files, but TrackDownStars_rz.ipynb and FixHostIDs_rz.py are really two halves of a single step). Step 0 is creating a tangos db for the simulation you'll be working with and my pipeline uses that and the simulation itself to create an hdf5 file with relevant data for each star particle. The most important bits are a unique host ID for each star particle so that stars that formed in the same halo can be grouped together, even if that halo doesn't exist at z=0, and the orbital circularity of each star particle, which I use to identify members of the stellar halo.\n",
    "I will be testing it tomorrow on one of the newer Romulus Zooms, so there's a good chance I'll be sending you an updated version very soon with any bug fixes :) \n",
    "I apologize for how many pieces the pipeline is in - it really isn't all that complicated, but it was adapted from what I did for the FOGGIE sims and I split the steps of that pipeline up so that I could do as much as possible locally (rather than on Pleiades) and so that I could sanity check as often as possible. Please let me know if you have any issues, questions, or suggestions! I'd definitely be eager to hear what Juan does differently!"
   ]
  },
  {
   "cell_type": "code",
   "execution_count": 1,
   "id": "43ef31dd",
   "metadata": {},
   "outputs": [
    {
     "data": {
      "text/plain": [
       "[<Simulation(\"cptmarvel.4096g5HbwK1BH_bn\")>,\n",
       " <Simulation(\"rogue.4096g5HbwK1BH_bn\")>]"
      ]
     },
     "execution_count": 1,
     "metadata": {},
     "output_type": "execute_result"
    }
   ],
   "source": [
    "import os\n",
    "import socket\n",
    "hostname = socket.gethostname()\n",
    "if 'emu' in hostname:\n",
    "    os.environ['TANGOS_SIMULATION_FOLDER'] = '/home/ns1917/tangos_sims/rogue.4096g5HbwK1BH_bn/'\n",
    "    os.environ['TANGOS_DB_CONNECTION'] = '/home/ns1917/Databases/Marvel_BN_N10.db'\n",
    "    # os.environ['TANGOS_DB_CONNECTION'] = '/home/ns1917/pynbody/Tangos/Marvel_BN_N10.db'\n",
    "    os.chdir('/home/ns1917/pynbody/AnnaWright_startrace/')\n",
    "else: # grinnell\n",
    "    os.environ['TANGOS_SIMULATION_FOLDER'] = '/home/selvani/MAP/Sims/cptmarvel.cosmo25cmb/cptmarvel.cosmo25cmb.4096g5HbwK1BH/'\n",
    "    # os.environ['TANGOS_DB_CONNECTION'] = '/home/selvani/MAP/Data/Marvel_BN_N10.db'\n",
    "    os.environ['TANGOS_DB_CONNECTION'] = '/home/selvani/MAP/pynbody/Tangos/Marvel_BN_N10.db'\n",
    "    os.chdir('/home/selvani/MAP/pynbody/AnnaWright_startrace/')\n",
    "\n",
    "import tangos\n",
    "tangos.all_simulations()"
   ]
  },
  {
   "cell_type": "code",
   "execution_count": 14,
   "id": "338fc89b",
   "metadata": {},
   "outputs": [],
   "source": [
    "# tangos.get_simulation(\"cptmarvel.4096g5HbwK1BH_bn\").timesteps"
   ]
  },
  {
   "cell_type": "code",
   "execution_count": 2,
   "id": "c73b5163-6a26-4038-ac15-7ec8e1db8f79",
   "metadata": {},
   "outputs": [
    {
     "name": "stdout",
     "output_type": "stream",
     "text": [
      "Adding to sys.path: /home/ns1917/pynbody/AnnaWright_startrace\n",
      "Adding to sys.path: /home/ns1917/pynbody/AnnaWright_startrace/Extra\n",
      "Adding to sys.path: /home/ns1917/pynbody/AnnaWright_startrace/RomZoomSHAnalysisScripts\n"
     ]
    }
   ],
   "source": [
    "import pynbody as pb\n",
    "import numpy as np\n",
    "import pandas as pd\n",
    "import glob\n",
    "import h5py\n",
    "import tangos\n",
    "\n",
    "# For importing modules\n",
    "import importlib.util\n",
    "import sys\n",
    "from pathlib import Path\n",
    "\n",
    "# Import the module\n",
    "# base_path = '/home/selvani/MAP/pynbody/'\n",
    "if 'emu' in hostname:\n",
    "    base_path = '/home/ns1917/pynbody/AnnaWright_startrace'\n",
    "else:\n",
    "    base_path = '/home/selvani/MAP/pynbody/AnnaWright_startrace'\n",
    "\n",
    "for root, dirs, files in os.walk(base_path):\n",
    "    if root not in sys.path:\n",
    "        print(\"Adding to sys.path:\", root)\n",
    "        sys.path.append(root)"
   ]
  },
  {
   "cell_type": "code",
   "execution_count": 3,
   "id": "7c6b7880-97df-458e-a5df-20e87a1aa328",
   "metadata": {},
   "outputs": [],
   "source": [
    "# Simulation name and path\n",
    "if 'emu' in hostname:\n",
    "    simpath = '/home/ns1917/tangos_sims/'\n",
    "    outfile_dir = \"/home/ns1917/pynbody/stellarhalo_trace_aw/\"\n",
    "else:\n",
    "    simpath = '/home/selvani/MAP/Sims/cptmarvel.cosmo25cmb/cptmarvel.cosmo25cmb.4096g5HbwK1BH/'\n",
    "    outfile_dir = \"/home/selvani/MAP/pynbody/stellarhalo_trace_aw/\"\n",
    "\n",
    "# basename = 'cptmarvel.cosmo25cmb.4096g5HbwK1BH'\n",
    "basename = 'rogue.cosmo25cmb.4096g5HbwK1BH'\n",
    "# ss_dir = 'cptmarvel.4096g5HbwK1BH_bn'#'snapshots_200crit_h329' # same as db_sim?\n",
    "ss_dir = 'rogue.4096g5HbwK1BH_bn'\n",
    "sim_base = simpath + ss_dir + '/'\n",
    "ss_z0 = sim_base + basename + '.004096'"
   ]
  },
  {
   "cell_type": "code",
   "execution_count": 8,
   "id": "d52069ea",
   "metadata": {},
   "outputs": [],
   "source": [
    "all_timesteps = tangos.get_simulation(ss_dir).timesteps"
   ]
  },
  {
   "cell_type": "code",
   "execution_count": 11,
   "id": "59f4887c",
   "metadata": {},
   "outputs": [],
   "source": [
    "timestep = all_timesteps[-1]"
   ]
  },
  {
   "cell_type": "code",
   "execution_count": 12,
   "id": "979087c3",
   "metadata": {},
   "outputs": [],
   "source": [
    "halos = timestep.halos.all()"
   ]
  },
  {
   "cell_type": "code",
   "execution_count": 14,
   "id": "0fcd0605",
   "metadata": {},
   "outputs": [
    {
     "data": {
      "text/plain": [
       "[<Halo 'rogue.4096g5HbwK1BH_bn/rogue.cosmo25cmb.4096g5HbwK1BH.004096/halo_1' | NDM=13623527 Nstar=6026197 Ngas=3275306>,\n",
       " <Halo 'rogue.4096g5HbwK1BH_bn/rogue.cosmo25cmb.4096g5HbwK1BH.004096/halo_2' | NDM=5955357 Nstar=6256 Ngas=2380301>,\n",
       " <Halo 'rogue.4096g5HbwK1BH_bn/rogue.cosmo25cmb.4096g5HbwK1BH.004096/halo_3' | NDM=3597007 Nstar=436496 Ngas=1240096>,\n",
       " <Halo 'rogue.4096g5HbwK1BH_bn/rogue.cosmo25cmb.4096g5HbwK1BH.004096/halo_5' | NDM=2740129 Nstar=463591 Ngas=1284025>,\n",
       " <Halo 'rogue.4096g5HbwK1BH_bn/rogue.cosmo25cmb.4096g5HbwK1BH.004096/halo_7' | NDM=2677180 Nstar=146577 Ngas=420505>,\n",
       " <Halo 'rogue.4096g5HbwK1BH_bn/rogue.cosmo25cmb.4096g5HbwK1BH.004096/halo_8' | NDM=2183798 Nstar=322455 Ngas=303863>,\n",
       " <Halo 'rogue.4096g5HbwK1BH_bn/rogue.cosmo25cmb.4096g5HbwK1BH.004096/halo_9' | NDM=1811360 Nstar=156759 Ngas=343049>,\n",
       " <Halo 'rogue.4096g5HbwK1BH_bn/rogue.cosmo25cmb.4096g5HbwK1BH.004096/halo_10' | NDM=1904403 Nstar=88437 Ngas=52508>,\n",
       " <Halo 'rogue.4096g5HbwK1BH_bn/rogue.cosmo25cmb.4096g5HbwK1BH.004096/halo_11' | NDM=1374639 Nstar=28972 Ngas=230594>,\n",
       " <Halo 'rogue.4096g5HbwK1BH_bn/rogue.cosmo25cmb.4096g5HbwK1BH.004096/halo_12' | NDM=1355658 Nstar=52777 Ngas=54894>,\n",
       " <Halo 'rogue.4096g5HbwK1BH_bn/rogue.cosmo25cmb.4096g5HbwK1BH.004096/halo_13' | NDM=455075 Nstar=4 Ngas=483159>,\n",
       " <Halo 'rogue.4096g5HbwK1BH_bn/rogue.cosmo25cmb.4096g5HbwK1BH.004096/halo_14' | NDM=591347 Nstar=52223 Ngas=176584>,\n",
       " <Halo 'rogue.4096g5HbwK1BH_bn/rogue.cosmo25cmb.4096g5HbwK1BH.004096/halo_16' | NDM=641438 Nstar=6760 Ngas=15767>,\n",
       " <Halo 'rogue.4096g5HbwK1BH_bn/rogue.cosmo25cmb.4096g5HbwK1BH.004096/halo_17' | NDM=597028 Nstar=1271 Ngas=20125>,\n",
       " <Halo 'rogue.4096g5HbwK1BH_bn/rogue.cosmo25cmb.4096g5HbwK1BH.004096/halo_18' | NDM=563438 Nstar=822 Ngas=21602>,\n",
       " <Halo 'rogue.4096g5HbwK1BH_bn/rogue.cosmo25cmb.4096g5HbwK1BH.004096/halo_23' | NDM=284241 Nstar=9116 Ngas=116642>,\n",
       " <Halo 'rogue.4096g5HbwK1BH_bn/rogue.cosmo25cmb.4096g5HbwK1BH.004096/halo_26' | NDM=314748 Nstar=1784 Ngas=46716>,\n",
       " <Halo 'rogue.4096g5HbwK1BH_bn/rogue.cosmo25cmb.4096g5HbwK1BH.004096/halo_29' | NDM=118878 Nstar=4163 Ngas=156267>,\n",
       " <Halo 'rogue.4096g5HbwK1BH_bn/rogue.cosmo25cmb.4096g5HbwK1BH.004096/halo_30' | NDM=271681 Nstar=5777 Ngas=158>,\n",
       " <Halo 'rogue.4096g5HbwK1BH_bn/rogue.cosmo25cmb.4096g5HbwK1BH.004096/halo_32' | NDM=266337 Nstar=28 Ngas=884>,\n",
       " <Halo 'rogue.4096g5HbwK1BH_bn/rogue.cosmo25cmb.4096g5HbwK1BH.004096/halo_34' | NDM=254002 Nstar=1633 Ngas=320>,\n",
       " <Halo 'rogue.4096g5HbwK1BH_bn/rogue.cosmo25cmb.4096g5HbwK1BH.004096/halo_35' | NDM=164506 Nstar=332 Ngas=68376>,\n",
       " <Halo 'rogue.4096g5HbwK1BH_bn/rogue.cosmo25cmb.4096g5HbwK1BH.004096/halo_36' | NDM=179372 Nstar=6325 Ngas=13172>,\n",
       " <Halo 'rogue.4096g5HbwK1BH_bn/rogue.cosmo25cmb.4096g5HbwK1BH.004096/halo_37' | NDM=181083 Nstar=6300 Ngas=10599>,\n",
       " <Halo 'rogue.4096g5HbwK1BH_bn/rogue.cosmo25cmb.4096g5HbwK1BH.004096/halo_61' | NDM=97661 Nstar=27 Ngas=0>,\n",
       " <Halo 'rogue.4096g5HbwK1BH_bn/rogue.cosmo25cmb.4096g5HbwK1BH.004096/halo_77' | NDM=82035 Nstar=2 Ngas=0>,\n",
       " <Halo 'rogue.4096g5HbwK1BH_bn/rogue.cosmo25cmb.4096g5HbwK1BH.004096/halo_123' | NDM=48185 Nstar=51 Ngas=0>,\n",
       " <Halo 'rogue.4096g5HbwK1BH_bn/rogue.cosmo25cmb.4096g5HbwK1BH.004096/halo_702' | NDM=3 Nstar=6515 Ngas=0>,\n",
       " <Halo 'rogue.4096g5HbwK1BH_bn/rogue.cosmo25cmb.4096g5HbwK1BH.004096/halo_848' | NDM=6 Nstar=5134 Ngas=0>,\n",
       " <Halo 'rogue.4096g5HbwK1BH_bn/rogue.cosmo25cmb.4096g5HbwK1BH.004096/halo_2944' | NDM=0 Nstar=1229 Ngas=0>,\n",
       " <Halo 'rogue.4096g5HbwK1BH_bn/rogue.cosmo25cmb.4096g5HbwK1BH.004096/halo_3626' | NDM=2 Nstar=965 Ngas=0>,\n",
       " <Halo 'rogue.4096g5HbwK1BH_bn/rogue.cosmo25cmb.4096g5HbwK1BH.004096/halo_4563' | NDM=0 Nstar=743 Ngas=0>,\n",
       " <Halo 'rogue.4096g5HbwK1BH_bn/rogue.cosmo25cmb.4096g5HbwK1BH.004096/halo_5225' | NDM=0 Nstar=634 Ngas=0>,\n",
       " <Halo 'rogue.4096g5HbwK1BH_bn/rogue.cosmo25cmb.4096g5HbwK1BH.004096/halo_5625' | NDM=0 Nstar=580 Ngas=0>,\n",
       " <Halo 'rogue.4096g5HbwK1BH_bn/rogue.cosmo25cmb.4096g5HbwK1BH.004096/halo_6092' | NDM=1 Nstar=525 Ngas=0>,\n",
       " <Halo 'rogue.4096g5HbwK1BH_bn/rogue.cosmo25cmb.4096g5HbwK1BH.004096/halo_7676' | NDM=0 Nstar=405 Ngas=0>,\n",
       " <Halo 'rogue.4096g5HbwK1BH_bn/rogue.cosmo25cmb.4096g5HbwK1BH.004096/halo_10432' | NDM=0 Nstar=283 Ngas=0>,\n",
       " <Halo 'rogue.4096g5HbwK1BH_bn/rogue.cosmo25cmb.4096g5HbwK1BH.004096/halo_12440' | NDM=0 Nstar=230 Ngas=0>,\n",
       " <Halo 'rogue.4096g5HbwK1BH_bn/rogue.cosmo25cmb.4096g5HbwK1BH.004096/halo_25767' | NDM=0 Nstar=92 Ngas=0>]"
      ]
     },
     "execution_count": 14,
     "metadata": {},
     "output_type": "execute_result"
    }
   ],
   "source": [
    "halos_with_stars = [halo for halo in halos if halo.NStar > 0]\n",
    "halos_with_stars"
   ]
  },
  {
   "cell_type": "code",
   "execution_count": 15,
   "id": "e3d3c738",
   "metadata": {},
   "outputs": [],
   "source": [
    "halo = halos_with_stars[0]"
   ]
  },
  {
   "cell_type": "code",
   "execution_count": 16,
   "id": "9e35f3c2",
   "metadata": {},
   "outputs": [
    {
     "data": {
      "text/plain": [
       "[<HaloProperty Mvir=7.04e+10 of <Halo 1 of ...>>,\n",
       " <HaloProperty Rvir=8.65e+01 of <Halo 1 of ...>>,\n",
       " <HaloProperty Xc=8.61e+03 of <Halo 1 of ...>>,\n",
       " <HaloProperty Yc=6.52e+03 of <Halo 1 of ...>>,\n",
       " <HaloProperty Zc=8.11e+03 of <Halo 1 of ...>>,\n",
       " <HaloProperty VXc=-5.29e+00 of <Halo 1 of ...>>,\n",
       " <HaloProperty VYc=-5.81e+01 of <Halo 1 of ...>>,\n",
       " <HaloProperty VZc=1.77e+01 of <Halo 1 of ...>>,\n",
       " <HaloProperty Vmax=8.40e+01 of <Halo 1 of ...>>,\n",
       " <HaloProperty fMhires=1.00e+00 of <Halo 1 of ...>>,\n",
       " <HaloProperty M_gas=2.94e+09 of <Halo 1 of ...>>,\n",
       " <HaloProperty M_star=1.20e+09 of <Halo 1 of ...>>,\n",
       " <HaloProperty n_gas=3275306 of <Halo 1 of ...>>,\n",
       " <HaloProperty n_star=6026197 of <Halo 1 of ...>>,\n",
       " <HaloProperty n_dm=13623527 of <Halo 1 of ...>>,\n",
       " <HaloProperty npart=22925030 of <Halo 1 of ...>>]"
      ]
     },
     "execution_count": 16,
     "metadata": {},
     "output_type": "execute_result"
    }
   ],
   "source": [
    "halo.all_properties"
   ]
  },
  {
   "cell_type": "code",
   "execution_count": 20,
   "id": "713fb51e",
   "metadata": {},
   "outputs": [
    {
     "name": "stdout",
     "output_type": "stream",
     "text": [
      "Halo ID: 914355, M_star: 1.20e+09, NStar: 6026197, Mvir: 7.04e+10\n",
      "Halo ID: 914356, M_star: 1.22e+06, NStar: 6256, Mvir: 1.98e+12\n",
      "Halo ID: 914357, M_star: 8.47e+07, NStar: 436496, Mvir: 1.88e+10\n",
      "Halo ID: 914359, M_star: 9.44e+07, NStar: 463591, Mvir: 9.83e+10\n",
      "Halo ID: 914361, M_star: 2.85e+07, NStar: 146577, Mvir: 1.35e+10\n",
      "Halo ID: 914362, M_star: 6.22e+07, NStar: 322455, Mvir: 1.10e+10\n",
      "Halo ID: 914363, M_star: 3.08e+07, NStar: 156759, Mvir: 3.64e+10\n",
      "Halo ID: 914364, M_star: 1.70e+07, NStar: 88437, Mvir: 9.33e+09\n",
      "Halo ID: 914365, M_star: 5.68e+06, NStar: 28972, Mvir: 6.92e+09\n",
      "Halo ID: 914366, M_star: 1.02e+07, NStar: 52777, Mvir: 6.66e+09\n",
      "Halo ID: 914367, M_star: 9.83e+02, NStar: 4, Mvir: 1.43e+11\n",
      "Halo ID: 914368, M_star: 1.04e+07, NStar: 52223, Mvir: 2.05e+10\n",
      "Halo ID: 914370, M_star: 1.30e+06, NStar: 6760, Mvir: 3.14e+09\n",
      "Halo ID: 914371, M_star: 2.47e+05, NStar: 1271, Mvir: 2.92e+09\n",
      "Halo ID: 914372, M_star: 1.60e+05, NStar: 822, Mvir: 2.76e+09\n",
      "Halo ID: 914377, M_star: 1.85e+06, NStar: 9116, Mvir: 1.15e+10\n",
      "Halo ID: 914380, M_star: 3.59e+05, NStar: 1784, Mvir: 4.90e+09\n",
      "Halo ID: 914383, M_star: 8.66e+05, NStar: 4163, Mvir: 2.18e+10\n",
      "Halo ID: 914384, M_star: 1.10e+06, NStar: 5777, Mvir: 1.32e+09\n",
      "Halo ID: 914386, M_star: 5.34e+03, NStar: 28, Mvir: 1.30e+09\n",
      "Halo ID: 914388, M_star: 3.11e+05, NStar: 1633, Mvir: 1.24e+09\n",
      "Halo ID: 914389, M_star: 7.24e+04, NStar: 332, Mvir: 6.11e+09\n",
      "Halo ID: 914390, M_star: 1.22e+06, NStar: 6325, Mvir: 8.87e+08\n",
      "Halo ID: 914391, M_star: 1.22e+06, NStar: 6300, Mvir: 4.74e+09\n",
      "Halo ID: 914415, M_star: 5.15e+03, NStar: 27, Mvir: 4.75e+08\n",
      "Halo ID: 914431, M_star: 3.81e+02, NStar: 2, Mvir: 3.99e+08\n",
      "Halo ID: 914477, M_star: 9.72e+03, NStar: 51, Mvir: 2.34e+08\n"
     ]
    }
   ],
   "source": [
    "for halo in halos_with_stars:\n",
    "    if halo['Mvir'] > 1e8:\n",
    "        print(f\"Halo ID: {halo.id}, M_star: {halo['M_star']:.2e}, NStar: {halo.NStar}, Mvir: {halo['Mvir']:.2e}\")"
   ]
  },
  {
   "cell_type": "code",
   "execution_count": 6,
   "id": "5fdf1fc1",
   "metadata": {},
   "outputs": [],
   "source": [
    "s = pb.load(ss_z0)\n",
    "h = s.halos(halo_numbers='v1')"
   ]
  },
  {
   "cell_type": "markdown",
   "id": "e1bda66b-bfec-4fbe-b9c2-efd22223bf50",
   "metadata": {},
   "source": [
    "### 1) GrabTF_rz.py"
   ]
  },
  {
   "cell_type": "markdown",
   "id": "7cb30c3b",
   "metadata": {},
   "source": [
    "Step 1 of stellar halo pipeline\n",
    "\n",
    "**What it does:**\n",
    "- Loads the final snapshot (z=0) of the simulation\n",
    "- Extracts formation time (`tform`) and particle IDs (`iord`) for all star particles that have `tform > 0` (i.e., actual stars, not wind particles)\n",
    "- Converts formation times to Gyr units\n",
    "- Creates a 2D array with particle IDs in the first row and formation times in the second row\n",
    "- Saves this data as a `.npy` file named `<simulation_name>_tf.npy`\n",
    "- Prints the total number of star particles found as a sanity check\n",
    "\n",
    "**Input:** Simulation snapshot (specifically the final snapshot `.004096`)\n",
    "\n",
    "**Output:** `<sim>_tf.npy` - NumPy file containing:\n",
    "- Row 0: Star particle IDs (`iord`)  \n",
    "- Row 1: Formation times in Gyr (`tform`)\n",
    "\n",
    "**Purpose:** This creates the foundation dataset that subsequent steps will use to trace back each star particle to determine which halo it was forming in at its birth time.\n",
    "\n",
    "* Usage:   `python GrabTF_rz.py <simpath> <output_directory>`\n",
    "* Example: `python GrabTF_rz.py /path/to/sim/ /path/to/output/`\n",
    "* Runtime:  ~1 min"
   ]
  },
  {
   "cell_type": "code",
   "execution_count": 4,
   "id": "3c029f76-5a05-419f-891c-086bdd966cc8",
   "metadata": {},
   "outputs": [],
   "source": [
    "# # Import Anna's code, even if not along my path\n",
    "# file_path = '/home/selvani/MAP/pynbody/AnnaWright_startrace/RomZoomSHAnalysisScripts/GrabTF_rz.py'\n",
    "# module_name = 'GrabTF_rz'\n",
    "\n",
    "# spec = importlib.util.spec_from_file_location(module_name, file_path)\n",
    "# module = importlib.util.module_from_spec(spec)\n",
    "# spec.loader.exec_module(module)\n",
    "import GrabTF_rz"
   ]
  },
  {
   "cell_type": "code",
   "execution_count": null,
   "id": "83c905b6-1995-4c2f-8626-5bdd8c64ea59",
   "metadata": {},
   "outputs": [
    {
     "name": "stdout",
     "output_type": "stream",
     "text": [
      "414596 stars found!\n",
      "Save to  /home/selvani/MAP/pynbody/stellarhalo_trace_aw/cptmarvel.cosmo25cmb.4096g5HbwK1BH_tf.npy\n"
     ]
    }
   ],
   "source": [
    "GrabTF_rz.main(simpath, outfile_dir)"
   ]
  },
  {
   "cell_type": "markdown",
   "id": "f12957c0-84b6-4f37-a986-498c99e9a9bb",
   "metadata": {},
   "source": [
    "### 2) LocAtCreation_pool_rz.py\n",
    "\n",
    "<!-- Step 2 of stellar halo pipeline -->\n",
    "<!-- Identifies the host of each star particle in \\<sim\\>_tf.npy at the  -->\n",
    "<!-- time it was formed.  -->\n",
    "<!-- **Note that what is stored is NOT the amiga.grp \n",
    "ID, but the index of that halo in the tangos database. The amiga.grp\n",
    "ID can be backed out via tangos with sim[stepnum][halonum].finder_id.** \n",
    "(CC, I believe that I edited this so now the halo_) -->\n",
    "\n",
    "<!-- Output: <sim>_stardata_<snapshot>.h5\n",
    "        where <snapshot> is the first snapshot that a given process\n",
    "        analyzed. There will be <nproc> of these files generated\n",
    "        and processes will not necessarily analyze adjacent snapshots -->\n",
    "\n",
    "<!-- * Usage:   python LocAtCreation_pool_rz.py <sim> optional:<nproc>\n",
    "* Example: python LocAtCreation_pool_rz.py r634 2 -->\n",
    "\n",
    "<!-- Includes an optional argument to specify number of processes to run\n",
    "with; default is 4. Note that this will get reduced if you've specified\n",
    "more processes than you have snapshots to process. -->\n",
    "\n",
    "<!-- Note that this has the name of the snapshots directory hardcoded into FindHaloStars.py (L63)\n",
    "-- Will need to be adjusted\n",
    "The \n",
    "\n",
    "CC: When I did my edits, I moved code into FindHaloStars so that it can be imported for multiprocessing -->\n"
   ]
  },
  {
   "cell_type": "markdown",
   "id": "a54b11b1",
   "metadata": {},
   "source": [
    "Step 2 of stellar halo pipeline\n",
    "\n",
    "**What it does:**\n",
    "- Loads the `<sim>_tf.npy` file created in step 1 (containing star particle IDs and formation times)\n",
    "- Queries the Tangos database to get all available simulation snapshots and their cosmic times\n",
    "- Determines which snapshots contain newly formed stars by binning star formation times\n",
    "- For each relevant snapshot, identifies which halo each star particle belonged to at the time it formed\n",
    "- Extracts additional data for each star: formation position, formation time, and host halo ID\n",
    "- Converts Amiga halo group IDs to Tangos database indices for consistency\n",
    "- Handles unbound particles (those not in any halo) by assigning them host ID = -1\n",
    "\n",
    "**Detailed Process:**\n",
    "1. **Data Loading**: Loads the `_tf.npy` file containing star particle IDs and formation times\n",
    "2. **Snapshot Analysis**: Gets all simulation timesteps from Tangos database and sorts by cosmic time\n",
    "3. **Star Distribution**: Creates histogram of star formation times to identify which snapshots contain new stars\n",
    "4. **Chunk Creation**: Divides snapshots among multiple processes for parallel processing\n",
    "<!-- 5. **Multiprocessing Execution**: Each process handles a subset of snapshots independently -->\n",
    "\n",
    "**FindHaloStars Function (called by each process):**\n",
    "- **Time Matching**: For each snapshot, finds stars that formed between the previous snapshot and current one\n",
    "- **Particle Matching**: Uses `iord` (particle IDs) to match stars from step 1 with their counterparts in historical snapshots\n",
    "- **Host Identification**: Determines which halo (`amiga.grp`) each star was in when it formed\n",
    "- **Database Indexing**: Converts halo IDs to Tangos database indices using a lookup dictionary\n",
    "- **Position/Time Extraction**: Records formation positions, times, and snapshot locations\n",
    "- **Data Writing**: Periodically saves data to HDF5 files to manage memory usage\n",
    "\n",
    "<!-- **Key Technical Details:**\n",
    "<!-- - Each process loads the same `_tf.npy` data independently to avoid sharing conflicts -->\n",
    "<!-- - Uses `np.searchsorted()` for efficient particle ID matching between snapshots -->\n",
    "<!-- - Creates `fid` dictionary to map Amiga group IDs to Tangos database indices\n",
    "- Handles missing particles gracefully (assigns host ID = -1 for unbound stars -->\n",
    "\n",
    "**Input:** \n",
    "- `<sim>_tf.npy` from step 1\n",
    "- Simulation snapshots (all timesteps)\n",
    "- Tangos database connection\n",
    "\n",
    "**Output:** `<sim>_stardata_<snapshot>.h5` files (one per process) containing:\n",
    "- `particle_IDs`: Star particle IDs (`iord`) of stars formed between snapshot and previous snapshot\n",
    "- `particle_positions`: 3D positions at formation time (Mpc)\n",
    "- `particle_creation_times`: Formation times (Gyr)\n",
    "- `timestep_location`: Snapshot number where star was first found\n",
    "- `particle_hosts`: Host halo index in Tangos database (-1 for unbound stars)\n",
    "\n",
    "<!-- **Performance Features:**\n",
    "- **Multiprocessing**: Uses all available CPU cores (up to 72 logical cores) for parallel processing\n",
    "- **Load Balancing**: Randomly shuffles snapshot order to distribute work evenly\n",
    "- **Memory Management**: Periodically writes data to disk to prevent memory overflow\n",
    "- **Process Isolation**: Each process works independently to avoid conflicts -->\n",
    "\n",
    "**Important Notes:**\n",
    "<!-- - **Host IDs are Tangos database indices, NOT Amiga group IDs** -->\n",
    "- Multiple output files are created (one per process) that will be combined in later steps. Just run with n_threads>num_snapshots to make one file per snapshot.\n",
    "<!-- - Uses multiprocessing for significant speed improvement on multi-core systems -->\n",
    "<!-- - Automatically handles load balancing by shuffling snapshot order -->\n",
    "<!-- - Each process creates its own output file named by the first snapshot it processes -->\n",
    "\n",
    "**Purpose:** This step creates the detailed formation history for each star particle, linking it to its birth halo and enabling stellar halo analysis. The multiprocessing approach significantly reduces computation time for large simulations.\n",
    "* Usage: `python LocAtCreation_pool_rz.py <simpath> <db_sim_name> <output_dir> [n_processes]`\n",
    "* Example: `python LocAtCreation_pool_rz.py /path/to/sim/ cptmarvel.4096g5HbwK1BH_bn /output/ 36`\n",
    "* Runtime: ~1 hour sequential"
   ]
  },
  {
   "cell_type": "code",
   "execution_count": 5,
   "id": "fa9b290f-40e7-433f-8544-7b2f178ea012",
   "metadata": {},
   "outputs": [],
   "source": [
    "import LocAtCreation_pool_rz"
   ]
  },
  {
   "cell_type": "code",
   "execution_count": 6,
   "id": "79fde84e",
   "metadata": {},
   "outputs": [
    {
     "name": "stdout",
     "output_type": "stream",
     "text": [
      "Stars from 43 steps left to deal with\n",
      "Initializing  43\n",
      "Shuffled chunks: [['cptmarvel.cosmo25cmb.4096g5HbwK1BH.001813']\n",
      " ['cptmarvel.cosmo25cmb.4096g5HbwK1BH.003584']\n",
      " ['cptmarvel.cosmo25cmb.4096g5HbwK1BH.001162']\n",
      " ['cptmarvel.cosmo25cmb.4096g5HbwK1BH.001331']\n",
      " ['cptmarvel.cosmo25cmb.4096g5HbwK1BH.000672']\n",
      " ['cptmarvel.cosmo25cmb.4096g5HbwK1BH.002688']\n",
      " ['cptmarvel.cosmo25cmb.4096g5HbwK1BH.000896']\n",
      " ['cptmarvel.cosmo25cmb.4096g5HbwK1BH.000291']\n",
      " ['cptmarvel.cosmo25cmb.4096g5HbwK1BH.001280']\n",
      " ['cptmarvel.cosmo25cmb.4096g5HbwK1BH.001920']\n",
      " ['cptmarvel.cosmo25cmb.4096g5HbwK1BH.000199']\n",
      " ['cptmarvel.cosmo25cmb.4096g5HbwK1BH.002048']\n",
      " ['cptmarvel.cosmo25cmb.4096g5HbwK1BH.000512']\n",
      " ['cptmarvel.cosmo25cmb.4096g5HbwK1BH.002162']\n",
      " ['cptmarvel.cosmo25cmb.4096g5HbwK1BH.002432']\n",
      " ['cptmarvel.cosmo25cmb.4096g5HbwK1BH.002176']\n",
      " ['cptmarvel.cosmo25cmb.4096g5HbwK1BH.003200']\n",
      " ['cptmarvel.cosmo25cmb.4096g5HbwK1BH.003636']\n",
      " ['cptmarvel.cosmo25cmb.4096g5HbwK1BH.001408']\n",
      " ['cptmarvel.cosmo25cmb.4096g5HbwK1BH.000640']\n",
      " ['cptmarvel.cosmo25cmb.4096g5HbwK1BH.004096']\n",
      " ['cptmarvel.cosmo25cmb.4096g5HbwK1BH.001025']\n",
      " ['cptmarvel.cosmo25cmb.4096g5HbwK1BH.002816']\n",
      " ['cptmarvel.cosmo25cmb.4096g5HbwK1BH.000818']\n",
      " ['cptmarvel.cosmo25cmb.4096g5HbwK1BH.001152']\n",
      " ['cptmarvel.cosmo25cmb.4096g5HbwK1BH.003456']\n",
      " ['cptmarvel.cosmo25cmb.4096g5HbwK1BH.000768']\n",
      " ['cptmarvel.cosmo25cmb.4096g5HbwK1BH.002944']\n",
      " ['cptmarvel.cosmo25cmb.4096g5HbwK1BH.001543']\n",
      " ['cptmarvel.cosmo25cmb.4096g5HbwK1BH.002560']\n",
      " ['cptmarvel.cosmo25cmb.4096g5HbwK1BH.003712']\n",
      " ['cptmarvel.cosmo25cmb.4096g5HbwK1BH.002304']\n",
      " ['cptmarvel.cosmo25cmb.4096g5HbwK1BH.001536']\n",
      " ['cptmarvel.cosmo25cmb.4096g5HbwK1BH.000384']\n",
      " ['cptmarvel.cosmo25cmb.4096g5HbwK1BH.002624']\n",
      " ['cptmarvel.cosmo25cmb.4096g5HbwK1BH.003328']\n",
      " ['cptmarvel.cosmo25cmb.4096g5HbwK1BH.003968']\n",
      " ['cptmarvel.cosmo25cmb.4096g5HbwK1BH.001792']\n",
      " ['cptmarvel.cosmo25cmb.4096g5HbwK1BH.003072']\n",
      " ['cptmarvel.cosmo25cmb.4096g5HbwK1BH.003840']\n",
      " ['cptmarvel.cosmo25cmb.4096g5HbwK1BH.001664']\n",
      " ['cptmarvel.cosmo25cmb.4096g5HbwK1BH.003245']\n",
      " ['cptmarvel.cosmo25cmb.4096g5HbwK1BH.000482']]\n"
     ]
    },
    {
     "data": {
      "application/vnd.jupyter.widget-view+json": {
       "model_id": "5ec50ed9b229406c9dd8e635cb800e5c",
       "version_major": 2,
       "version_minor": 0
      },
      "text/plain": [
       "Processing:   0%|          | 0/43 [00:00<?, ?chunks/s]"
      ]
     },
     "metadata": {},
     "output_type": "display_data"
    },
    {
     "name": "stdout",
     "output_type": "stream",
     "text": [
      "Processing chunk 1/43: ['cptmarvel.cosmo25cmb.4096g5HbwK1BH.001813']\n",
      "MyFirstStep:  001813\n",
      "/home/selvani/MAP/Sims/cptmarvel.cosmo25cmb/cptmarvel.cosmo25cmb.4096g5HbwK1BH/\n",
      "HaloStarsPath: /home/selvani/MAP/Sims/cptmarvel.cosmo25cmb/cptmarvel.cosmo25cmb.4096g5HbwK1BH/cptmarvel.4096g5HbwK1BH_bn/cptmarvel.cosmo25cmb.4096g5HbwK1BH.001813\n",
      "812 relevant stars in cptmarvel.cosmo25cmb.4096g5HbwK1BH.001813\n",
      "Host Array: [ 1  1  1  1  1  1  1 13  1  1  1  1  1 13  1  1  1  2  1  1  1  2  1  1\n",
      "  1  1  2 13 10  1  1  1  1  1  1  1  1  1  1 13  1  1  5  1  1  1  1  1\n",
      "  1  2 13  1  1  1  1 13 13  1  1  1  1  1  1 13  1  1  1  1  1  1  2  2\n",
      "  1  1  1  2 13  1  1  1  2  2  1  1  1  1 13  1  1  1  1  2 13  2 13  1\n",
      "  1  1  1  1  1  2  2  5 13  1  1  1  1  1  1  1  2  2  2  5 13  1  1  1\n",
      "  1  2  2 14  5  5  1  1  1  1  1  1  1  1  1  2  2  2  2  5 13 13 13  1\n",
      "  1  1  1  1  1  1  2  2  2 13  1  1  1  1  1  1  1  1  1  2  2  2  5  1\n",
      "  1  1  2  2  1  1  1  2  2  2  2  5 13  1  1  1  1  1  1  2  2  5  5  1\n",
      "  1  1  1  1 10  2  2  2 13  1  1  1  1 10  2  2  2  1  1  1  1  1 10  2\n",
      "  5  5  5 10  1  1  1  1  1  1  2  5  5  5 13  1  1  1  1  1  1  1 10  2\n",
      "  2  5 13 13 13 10  1  1  1  1  1  1  1  1  1  1  2  5 13 13 10  1  1  1\n",
      "  1  1  1  1  1  1  1  1  2  2  1  1  1  1  1  1  1  1  1  1  1  1  1  1\n",
      " 10 10  5  5  1  1  1  1  1  5  5  5  5  5  1  1  1  1 10 10 10 10  1  1\n",
      "  1  1  1 10 10 10 10  1  1  1  1  1  5  5  5  1  1  1  1  5  5  5  5  5\n",
      "  1  1  1 10  1  1  1  1 10 10 10 10  1  5  5  5  1  1  1  1 10 10 10  5\n",
      "  5  5  1  1  1  1  1  1  1  1  1  5  5  5  5  2  1  1  1  1  1  1  1  1\n",
      "  5  5  5  5  5  1  1  1  1  1  1  1  5  5  5  5  5  2  2  2  2  1  1  1\n",
      "  1  1  5  5 10  1  1  1  2  2 10  5  1  1  1  1  1 10 10  5  5  5  1  1\n",
      "  1  1  1  1  1 10 10  5  5  1  1  2 10 10 10  5  1  1  1 10 10 10  2  2\n",
      "  2  5  1  1  1 10 10 10 10 10 10 10  2  5  5  5  1  1 10 10 10 10  5  5\n",
      "  5  5  5  1  1  1  1 10  5  5  5  5  5  5  1  1  1  1  1  1 10 10 10  2\n",
      "  5  5  5  2  1  1  1  1  2 10  2  2  5  5  2  1  1  1  1  5  5  5  5  5\n",
      " 10 10 10  1  1  1  1  1  2  2  2  2  2 10 10  5  5  5  1  1  1  1  1  1\n",
      "  2  2  2  2  5  1  2  1  1  1  5  5  5 10 10  1  1  1  1  1  1 10 10 10\n",
      "  2  5  5  1  1  1  1  1 10 10  2  5  5  5  5 13  1  1  1  1 10 10  5  5\n",
      "  1  1  5  5  5  5  5  5  5  1  1 10 13  1  1  5  5  5  5  5  5  5  5  1\n",
      " 10 10 10 10 10 13  1  1  1  1  1  1  2  2  2 10 10 10  5  5  5  5  5  5\n",
      "  5  5  1  1  1  1  1 10  5  5  5  5  5  5  5  5 13  1  1  1  1  1  5  5\n",
      "  5  5  5  5  5  5  5  5  1  1  1  1  1  1 10  1  1  1  1  1  1  1  2  2\n",
      "  5  5  1  1  1  1  1  1  1  1 10  2  2  5  1  1  5  5  5  5  5  5  1  1\n",
      "  1  1  1  1  1  1  1  2  2  5 13  5  5  1  1  1  1  1 10  2  2  2 14 14\n",
      "  1  1  1  1  1  1  1  1  5  5 13 13  1  1  1  1  1  1  1  5  5  5  5  5\n",
      "  1  1  1  1  1  1  5  5  5  5  1  1  1  1  5  5  5  5  5  1  1  1  1  1\n",
      "  1  1  2  5  1  1  1  1  2  5  1  1  1  1  1  1  1  1  2  2]\n",
      "Looking through 12871 halos\n",
      "Amiga Host IDs [ 1  2  5 10 13 14]\n",
      "FID Host IDs [ 1  2  5 10 13 14]\n",
      "Process completed 1 snapshots, output: /home/selvani/MAP/pynbody/stellarhalo_trace_aw/cptmarvel.cosmo25cmb.4096g5HbwK1BH_stardata_001813.h5\n",
      "  Completed: 001813\n",
      "\n",
      "Processing chunk 2/43: ['cptmarvel.cosmo25cmb.4096g5HbwK1BH.003584']\n",
      "MyFirstStep:  003584\n",
      "/home/selvani/MAP/Sims/cptmarvel.cosmo25cmb/cptmarvel.cosmo25cmb.4096g5HbwK1BH/\n",
      "HaloStarsPath: /home/selvani/MAP/Sims/cptmarvel.cosmo25cmb/cptmarvel.cosmo25cmb.4096g5HbwK1BH/cptmarvel.4096g5HbwK1BH_bn/cptmarvel.cosmo25cmb.4096g5HbwK1BH.003584\n",
      "7002 relevant stars in cptmarvel.cosmo25cmb.4096g5HbwK1BH.003584\n",
      "Host Array: [ 8  8  2 ... 16 16 16]\n",
      "Looking through 12740 halos\n",
      "Amiga Host IDs [ 1  2  3  5  6  7  8 16]\n",
      "FID Host IDs [ 1  2  3  5  6  7  8 16]\n",
      "Process completed 1 snapshots, output: /home/selvani/MAP/pynbody/stellarhalo_trace_aw/cptmarvel.cosmo25cmb.4096g5HbwK1BH_stardata_003584.h5\n",
      "  Completed: 003584\n",
      "\n",
      "Processing chunk 3/43: ['cptmarvel.cosmo25cmb.4096g5HbwK1BH.001162']\n",
      "MyFirstStep:  001162\n",
      "/home/selvani/MAP/Sims/cptmarvel.cosmo25cmb/cptmarvel.cosmo25cmb.4096g5HbwK1BH/\n",
      "HaloStarsPath: /home/selvani/MAP/Sims/cptmarvel.cosmo25cmb/cptmarvel.cosmo25cmb.4096g5HbwK1BH/cptmarvel.4096g5HbwK1BH_bn/cptmarvel.cosmo25cmb.4096g5HbwK1BH.001162\n",
      "1677 relevant stars in cptmarvel.cosmo25cmb.4096g5HbwK1BH.001162\n",
      "Host Array: [3 3 1 ... 1 3 3]\n",
      "Looking through 12244 halos\n",
      "Amiga Host IDs [ 1  3  9 14]\n",
      "FID Host IDs [ 1  3  9 14]\n",
      "Process completed 1 snapshots, output: /home/selvani/MAP/pynbody/stellarhalo_trace_aw/cptmarvel.cosmo25cmb.4096g5HbwK1BH_stardata_001162.h5\n",
      "  Completed: 001162\n",
      "\n",
      "Processing chunk 4/43: ['cptmarvel.cosmo25cmb.4096g5HbwK1BH.001331']\n",
      "MyFirstStep:  001331\n",
      "/home/selvani/MAP/Sims/cptmarvel.cosmo25cmb/cptmarvel.cosmo25cmb.4096g5HbwK1BH/\n",
      "HaloStarsPath: /home/selvani/MAP/Sims/cptmarvel.cosmo25cmb/cptmarvel.cosmo25cmb.4096g5HbwK1BH/cptmarvel.4096g5HbwK1BH_bn/cptmarvel.cosmo25cmb.4096g5HbwK1BH.001331\n",
      "1613 relevant stars in cptmarvel.cosmo25cmb.4096g5HbwK1BH.001331\n",
      "Host Array: [ 2  2  2 ... 10 10 10]\n",
      "Looking through 12511 halos\n",
      "Amiga Host IDs [ 1  2  4 10 14]\n",
      "FID Host IDs [ 1  2  4 10 14]\n",
      "Process completed 1 snapshots, output: /home/selvani/MAP/pynbody/stellarhalo_trace_aw/cptmarvel.cosmo25cmb.4096g5HbwK1BH_stardata_001331.h5\n",
      "  Completed: 001331\n",
      "\n",
      "Processing chunk 5/43: ['cptmarvel.cosmo25cmb.4096g5HbwK1BH.000672']\n",
      "MyFirstStep:  000672\n",
      "/home/selvani/MAP/Sims/cptmarvel.cosmo25cmb/cptmarvel.cosmo25cmb.4096g5HbwK1BH/\n",
      "HaloStarsPath: /home/selvani/MAP/Sims/cptmarvel.cosmo25cmb/cptmarvel.cosmo25cmb.4096g5HbwK1BH/cptmarvel.4096g5HbwK1BH_bn/cptmarvel.cosmo25cmb.4096g5HbwK1BH.000672\n",
      "9323 relevant stars in cptmarvel.cosmo25cmb.4096g5HbwK1BH.000672\n",
      "Host Array: [ 7  7  7 ...  3 10  7]\n",
      "Looking through 10586 halos\n",
      "Amiga Host IDs [ 1  2  3  4  5  6  7  8 10 11 12 17]\n",
      "FID Host IDs [ 1  2  3  4  5  6  7  8 10 11 12 17]\n",
      "Process completed 1 snapshots, output: /home/selvani/MAP/pynbody/stellarhalo_trace_aw/cptmarvel.cosmo25cmb.4096g5HbwK1BH_stardata_000672.h5\n",
      "  Completed: 000672\n",
      "\n",
      "Processing chunk 6/43: ['cptmarvel.cosmo25cmb.4096g5HbwK1BH.002688']\n",
      "MyFirstStep:  002688\n",
      "/home/selvani/MAP/Sims/cptmarvel.cosmo25cmb/cptmarvel.cosmo25cmb.4096g5HbwK1BH/\n",
      "HaloStarsPath: /home/selvani/MAP/Sims/cptmarvel.cosmo25cmb/cptmarvel.cosmo25cmb.4096g5HbwK1BH/cptmarvel.4096g5HbwK1BH_bn/cptmarvel.cosmo25cmb.4096g5HbwK1BH.002688\n",
      "3022 relevant stars in cptmarvel.cosmo25cmb.4096g5HbwK1BH.002688\n",
      "Host Array: [2 2 2 ... 3 3 3]\n",
      "Looking through 12934 halos\n",
      "Amiga Host IDs [ 1  2  3  5  6  7  9 14]\n",
      "FID Host IDs [ 1  2  3  5  6  7  9 14]\n",
      "Process completed 1 snapshots, output: /home/selvani/MAP/pynbody/stellarhalo_trace_aw/cptmarvel.cosmo25cmb.4096g5HbwK1BH_stardata_002688.h5\n",
      "  Completed: 002688\n",
      "\n",
      "Processing chunk 7/43: ['cptmarvel.cosmo25cmb.4096g5HbwK1BH.000896']\n",
      "MyFirstStep:  000896\n",
      "/home/selvani/MAP/Sims/cptmarvel.cosmo25cmb/cptmarvel.cosmo25cmb.4096g5HbwK1BH/\n",
      "HaloStarsPath: /home/selvani/MAP/Sims/cptmarvel.cosmo25cmb/cptmarvel.cosmo25cmb.4096g5HbwK1BH/cptmarvel.4096g5HbwK1BH_bn/cptmarvel.cosmo25cmb.4096g5HbwK1BH.000896\n",
      "10832 relevant stars in cptmarvel.cosmo25cmb.4096g5HbwK1BH.000896\n",
      "Host Array: [1 1 1 ... 5 5 5]\n",
      "Looking through 11587 halos\n",
      "Amiga Host IDs [ 1  2  3  4  5  6 11 12 18]\n",
      "FID Host IDs [ 1  2  3  4  5  6 11 12 18]\n",
      "Process completed 1 snapshots, output: /home/selvani/MAP/pynbody/stellarhalo_trace_aw/cptmarvel.cosmo25cmb.4096g5HbwK1BH_stardata_000896.h5\n",
      "  Completed: 000896\n",
      "\n",
      "Processing chunk 8/43: ['cptmarvel.cosmo25cmb.4096g5HbwK1BH.000291']\n",
      "MyFirstStep:  000291\n",
      "/home/selvani/MAP/Sims/cptmarvel.cosmo25cmb/cptmarvel.cosmo25cmb.4096g5HbwK1BH/\n",
      "HaloStarsPath: /home/selvani/MAP/Sims/cptmarvel.cosmo25cmb/cptmarvel.cosmo25cmb.4096g5HbwK1BH/cptmarvel.4096g5HbwK1BH_bn/cptmarvel.cosmo25cmb.4096g5HbwK1BH.000291\n",
      "3252 relevant stars in cptmarvel.cosmo25cmb.4096g5HbwK1BH.000291\n",
      "Host Array: [ 3 24  3 ...  2  1 10]\n",
      "Looking through 6336 halos\n",
      "Amiga Host IDs [ 1  2  3  4  5  6  7  8  9 10 19 24 28]\n",
      "FID Host IDs [ 1  2  3  4  5  6  7  8  9 10 19 24 28]\n",
      "Process completed 1 snapshots, output: /home/selvani/MAP/pynbody/stellarhalo_trace_aw/cptmarvel.cosmo25cmb.4096g5HbwK1BH_stardata_000291.h5\n",
      "  Completed: 000291\n",
      "\n",
      "Processing chunk 9/43: ['cptmarvel.cosmo25cmb.4096g5HbwK1BH.001280']\n",
      "MyFirstStep:  001280\n",
      "/home/selvani/MAP/Sims/cptmarvel.cosmo25cmb/cptmarvel.cosmo25cmb.4096g5HbwK1BH/\n",
      "HaloStarsPath: /home/selvani/MAP/Sims/cptmarvel.cosmo25cmb/cptmarvel.cosmo25cmb.4096g5HbwK1BH/cptmarvel.4096g5HbwK1BH_bn/cptmarvel.cosmo25cmb.4096g5HbwK1BH.001280\n",
      "8257 relevant stars in cptmarvel.cosmo25cmb.4096g5HbwK1BH.001280\n",
      "Host Array: [10 10  3 ...  1  1  1]\n",
      "Looking through 12448 halos\n",
      "Amiga Host IDs [ 1  2  3  4 10 13 17]\n",
      "FID Host IDs [ 1  2  3  4 10 13 17]\n",
      "Process completed 1 snapshots, output: /home/selvani/MAP/pynbody/stellarhalo_trace_aw/cptmarvel.cosmo25cmb.4096g5HbwK1BH_stardata_001280.h5\n",
      "  Completed: 001280\n",
      "\n",
      "Processing chunk 10/43: ['cptmarvel.cosmo25cmb.4096g5HbwK1BH.001920']\n",
      "MyFirstStep:  001920\n",
      "/home/selvani/MAP/Sims/cptmarvel.cosmo25cmb/cptmarvel.cosmo25cmb.4096g5HbwK1BH/\n",
      "HaloStarsPath: /home/selvani/MAP/Sims/cptmarvel.cosmo25cmb/cptmarvel.cosmo25cmb.4096g5HbwK1BH/cptmarvel.4096g5HbwK1BH_bn/cptmarvel.cosmo25cmb.4096g5HbwK1BH.001920\n",
      "2955 relevant stars in cptmarvel.cosmo25cmb.4096g5HbwK1BH.001920\n",
      "Host Array: [ 5  5  1 ...  2  2 10]\n",
      "Looking through 12889 halos\n",
      "Amiga Host IDs [ 1  2  4  5 10 13 17]\n",
      "FID Host IDs [ 1  2  4  5 10 13 17]\n",
      "Process completed 1 snapshots, output: /home/selvani/MAP/pynbody/stellarhalo_trace_aw/cptmarvel.cosmo25cmb.4096g5HbwK1BH_stardata_001920.h5\n",
      "  Completed: 001920\n",
      "\n",
      "Processing chunk 11/43: ['cptmarvel.cosmo25cmb.4096g5HbwK1BH.000199']\n",
      "MyFirstStep:  000199\n",
      "/home/selvani/MAP/Sims/cptmarvel.cosmo25cmb/cptmarvel.cosmo25cmb.4096g5HbwK1BH/\n",
      "HaloStarsPath: /home/selvani/MAP/Sims/cptmarvel.cosmo25cmb/cptmarvel.cosmo25cmb.4096g5HbwK1BH/cptmarvel.4096g5HbwK1BH_bn/cptmarvel.cosmo25cmb.4096g5HbwK1BH.000199\n",
      "7278 relevant stars in cptmarvel.cosmo25cmb.4096g5HbwK1BH.000199\n",
      "Host Array: [ 7  7  7 ...  1 10  1]\n",
      "Looking through 3951 halos\n",
      "Amiga Host IDs [-1  1  2  3  4  5  7  8  9 10 15 16 18 23 24 25 31 32]\n",
      "FID Host IDs [-1  1  2  3  4  5  7  8  9 10 15 16 18 23 24 25 31 32]\n",
      "Process completed 1 snapshots, output: /home/selvani/MAP/pynbody/stellarhalo_trace_aw/cptmarvel.cosmo25cmb.4096g5HbwK1BH_stardata_000199.h5\n",
      "  Completed: 000199\n",
      "\n",
      "Processing chunk 12/43: ['cptmarvel.cosmo25cmb.4096g5HbwK1BH.002048']\n",
      "MyFirstStep:  002048\n",
      "/home/selvani/MAP/Sims/cptmarvel.cosmo25cmb/cptmarvel.cosmo25cmb.4096g5HbwK1BH/\n",
      "HaloStarsPath: /home/selvani/MAP/Sims/cptmarvel.cosmo25cmb/cptmarvel.cosmo25cmb.4096g5HbwK1BH/cptmarvel.4096g5HbwK1BH_bn/cptmarvel.cosmo25cmb.4096g5HbwK1BH.002048\n",
      "3976 relevant stars in cptmarvel.cosmo25cmb.4096g5HbwK1BH.002048\n",
      "Host Array: [1 1 2 ... 1 1 1]\n",
      "Looking through 12852 halos\n",
      "Amiga Host IDs [ 1  2  3  4  5 10 13 29]\n",
      "FID Host IDs [ 1  2  3  4  5 10 13 29]\n",
      "Process completed 1 snapshots, output: /home/selvani/MAP/pynbody/stellarhalo_trace_aw/cptmarvel.cosmo25cmb.4096g5HbwK1BH_stardata_002048.h5\n",
      "  Completed: 002048\n",
      "\n",
      "Processing chunk 13/43: ['cptmarvel.cosmo25cmb.4096g5HbwK1BH.000512']\n",
      "MyFirstStep:  000512\n",
      "/home/selvani/MAP/Sims/cptmarvel.cosmo25cmb/cptmarvel.cosmo25cmb.4096g5HbwK1BH/\n",
      "HaloStarsPath: /home/selvani/MAP/Sims/cptmarvel.cosmo25cmb/cptmarvel.cosmo25cmb.4096g5HbwK1BH/cptmarvel.4096g5HbwK1BH_bn/cptmarvel.cosmo25cmb.4096g5HbwK1BH.000512\n",
      "12646 relevant stars in cptmarvel.cosmo25cmb.4096g5HbwK1BH.000512\n",
      "Host Array: [1 1 1 ... 3 3 3]\n",
      "Looking through 9342 halos\n",
      "Amiga Host IDs [ 1  2  3  4  5  6  7  8  9 10 18]\n",
      "FID Host IDs [ 1  2  3  4  5  6  7  8  9 10 18]\n",
      "Process completed 1 snapshots, output: /home/selvani/MAP/pynbody/stellarhalo_trace_aw/cptmarvel.cosmo25cmb.4096g5HbwK1BH_stardata_000512.h5\n",
      "  Completed: 000512\n",
      "\n",
      "Processing chunk 14/43: ['cptmarvel.cosmo25cmb.4096g5HbwK1BH.002162']\n",
      "MyFirstStep:  002162\n",
      "/home/selvani/MAP/Sims/cptmarvel.cosmo25cmb/cptmarvel.cosmo25cmb.4096g5HbwK1BH/\n",
      "HaloStarsPath: /home/selvani/MAP/Sims/cptmarvel.cosmo25cmb/cptmarvel.cosmo25cmb.4096g5HbwK1BH/cptmarvel.4096g5HbwK1BH_bn/cptmarvel.cosmo25cmb.4096g5HbwK1BH.002162\n",
      "4625 relevant stars in cptmarvel.cosmo25cmb.4096g5HbwK1BH.002162\n",
      "Host Array: [10 10  3 ...  4 14 14]\n",
      "Looking through 12921 halos\n",
      "Amiga Host IDs [ 1  2  3  4  5  7 10 14]\n",
      "FID Host IDs [ 1  2  3  4  5  7 10 14]\n",
      "Process completed 1 snapshots, output: /home/selvani/MAP/pynbody/stellarhalo_trace_aw/cptmarvel.cosmo25cmb.4096g5HbwK1BH_stardata_002162.h5\n",
      "  Completed: 002162\n",
      "\n",
      "Processing chunk 15/43: ['cptmarvel.cosmo25cmb.4096g5HbwK1BH.002432']\n",
      "MyFirstStep:  002432\n",
      "/home/selvani/MAP/Sims/cptmarvel.cosmo25cmb/cptmarvel.cosmo25cmb.4096g5HbwK1BH/\n",
      "HaloStarsPath: /home/selvani/MAP/Sims/cptmarvel.cosmo25cmb/cptmarvel.cosmo25cmb.4096g5HbwK1BH/cptmarvel.4096g5HbwK1BH_bn/cptmarvel.cosmo25cmb.4096g5HbwK1BH.002432\n",
      "5663 relevant stars in cptmarvel.cosmo25cmb.4096g5HbwK1BH.002432\n",
      "Host Array: [ 7  2  2 ...  9 14  5]\n",
      "Looking through 12921 halos\n",
      "Amiga Host IDs [ 1  2  3  4  5  7  9 14]\n",
      "FID Host IDs [ 1  2  3  4  5  7  9 14]\n",
      "Process completed 1 snapshots, output: /home/selvani/MAP/pynbody/stellarhalo_trace_aw/cptmarvel.cosmo25cmb.4096g5HbwK1BH_stardata_002432.h5\n",
      "  Completed: 002432\n",
      "\n",
      "Processing chunk 16/43: ['cptmarvel.cosmo25cmb.4096g5HbwK1BH.002176']\n",
      "MyFirstStep:  002176\n",
      "/home/selvani/MAP/Sims/cptmarvel.cosmo25cmb/cptmarvel.cosmo25cmb.4096g5HbwK1BH/\n",
      "HaloStarsPath: /home/selvani/MAP/Sims/cptmarvel.cosmo25cmb/cptmarvel.cosmo25cmb.4096g5HbwK1BH/cptmarvel.4096g5HbwK1BH_bn/cptmarvel.cosmo25cmb.4096g5HbwK1BH.002176\n",
      "619 relevant stars in cptmarvel.cosmo25cmb.4096g5HbwK1BH.002176\n",
      "Host Array: [ 2  2  2  4  1  1  1  1  1  1  1  1  1  1 10 10  1  1  2  2  4  1  1  1\n",
      "  1  1  7  7 10  2  4  4 14 10  1  1  1  1  1  1  1  2  4 14 10 10  1  1\n",
      "  1  1  1  1  7  2  4  4  4 14  2  4  4  4  1  1  1  1  1 10 10 10  1  1\n",
      "  1  1  2  2 14  4  4  4  1  1  1  2  2  4  4  4 14 14 14 10 10 10  1  1\n",
      "  1  1  1  1  1  1  2  4 14  1  1  1  1  1  1  1  1  1 14  4  4  4  4 10\n",
      "  4  4  4  1  1  1  1  1  1  1  1  1  1  1  1  1  2  4  4  4  4  1  1  1\n",
      "  1  1  1  1  1  1  1  1  2  2  2  4  4  4  4  4  4  4  4  4  1  1  1  1\n",
      "  1  1  1  1  1  1 10  2  4  4  4  4  4  2  4  4 10 10  1  1  1  1  1  1\n",
      "  1  1  1  1  1  1  1  1  1  1  1  1  1  4 10 10  1  1  1  1  1  1  1  2\n",
      "  4  4  4  1  1  1  1  1  1 10  4 14 10 10  1  1  1  1  1  1  1  1  1  2\n",
      "  4  4  4 10  1  1  1  1  1  1  1  1  2  2  2  2  4  4  1  1  1  1  2  1\n",
      "  1  1  1 10 10  2  1  1  1  1  1  1  1  1  1 10 10  2  2  2  4  4  4  1\n",
      "  1  1  1  1  1  1 10  1  1  1  1  2  4  1  1  1  1  1  1  1  2  2  4  4\n",
      "  1  1  1  1  1  1  4  4  1  1  1  1  1  1  1  1  1  1  1  1  1  1  1  1\n",
      "  1  2  1  1  1  1  1  1  1  1  1  1  1  1  1  1  1  1  1  2  2  2  1  1\n",
      "  1  1  1  1  1  1  1  1  1  1  1  1  2  4 10  1  1  1  1  1  1  1  1  1\n",
      " 10  2  4  5  1  1  1  1  1 10  2  4  1  1  1  1 10 10 10  4  1  1  1  1\n",
      "  1 10 10  2  4  4  5  1  1  1  1 10 10  4  4  4 10  1  1  1  1  1  1  1\n",
      "  2  4  5  1  1  1  1 10 10  5  4  4  4  1  1  1 10  2  4  4  4 14 14  5\n",
      "  5 10 10  4  1  1  1  1  1  1  1  1  1 10 10 10  2  4  4  4  4  5  1  1\n",
      "  1  1  2  4  5  5  1  1  1  1  1 10 10  2  4  4  4  5  1  1  1  2  2 14\n",
      "  4 10 10  2  2  4  4  5  1  1  1  1  1  2  1  1  1  1  1 10 10  4  4 14\n",
      "  1  1  1  1 10  4  4  2  2  2  4  4  1  1  1  1  1  1  1  2  2  4  4  4\n",
      "  4  1  1  1  1  1  1  1  1  1 14  4  4  1  1  1  1  1  2  2  4  4 14 14\n",
      "  5  1  1  1  1  1  1  2  4  5  1  1  1  1  1  1  2  2  4  1  1  1  1  1\n",
      "  1  1  2  4 14 14  1  1  1  1  1  1  1  1  1  2  2  4  4]\n",
      "Looking through 12882 halos\n",
      "Amiga Host IDs [ 1  2  4  5  7 10 14]\n",
      "FID Host IDs [ 1  2  4  5  7 10 14]\n",
      "Process completed 1 snapshots, output: /home/selvani/MAP/pynbody/stellarhalo_trace_aw/cptmarvel.cosmo25cmb.4096g5HbwK1BH_stardata_002176.h5\n",
      "  Completed: 002176\n",
      "\n",
      "Processing chunk 17/43: ['cptmarvel.cosmo25cmb.4096g5HbwK1BH.003200']\n",
      "MyFirstStep:  003200\n",
      "/home/selvani/MAP/Sims/cptmarvel.cosmo25cmb/cptmarvel.cosmo25cmb.4096g5HbwK1BH/\n",
      "HaloStarsPath: /home/selvani/MAP/Sims/cptmarvel.cosmo25cmb/cptmarvel.cosmo25cmb.4096g5HbwK1BH/cptmarvel.4096g5HbwK1BH_bn/cptmarvel.cosmo25cmb.4096g5HbwK1BH.003200\n",
      "6687 relevant stars in cptmarvel.cosmo25cmb.4096g5HbwK1BH.003200\n",
      "Host Array: [9 6 1 ... 2 4 1]\n",
      "Looking through 12845 halos\n",
      "Amiga Host IDs [ 1  2  4  5  6  7  9 15]\n",
      "FID Host IDs [ 1  2  4  5  6  7  9 15]\n",
      "Process completed 1 snapshots, output: /home/selvani/MAP/pynbody/stellarhalo_trace_aw/cptmarvel.cosmo25cmb.4096g5HbwK1BH_stardata_003200.h5\n",
      "  Completed: 003200\n",
      "\n",
      "Processing chunk 18/43: ['cptmarvel.cosmo25cmb.4096g5HbwK1BH.003636']\n",
      "MyFirstStep:  003636\n",
      "/home/selvani/MAP/Sims/cptmarvel.cosmo25cmb/cptmarvel.cosmo25cmb.4096g5HbwK1BH/\n",
      "HaloStarsPath: /home/selvani/MAP/Sims/cptmarvel.cosmo25cmb/cptmarvel.cosmo25cmb.4096g5HbwK1BH/cptmarvel.4096g5HbwK1BH_bn/cptmarvel.cosmo25cmb.4096g5HbwK1BH.003636\n",
      "2529 relevant stars in cptmarvel.cosmo25cmb.4096g5HbwK1BH.003636\n",
      "Host Array: [4 2 2 ... 4 1 1]\n",
      "Looking through 12736 halos\n",
      "Amiga Host IDs [ 1  2  4  5  6  7  8 16]\n",
      "FID Host IDs [ 1  2  4  5  6  7  8 16]\n",
      "Process completed 1 snapshots, output: /home/selvani/MAP/pynbody/stellarhalo_trace_aw/cptmarvel.cosmo25cmb.4096g5HbwK1BH_stardata_003636.h5\n",
      "  Completed: 003636\n",
      "\n",
      "Processing chunk 19/43: ['cptmarvel.cosmo25cmb.4096g5HbwK1BH.001408']\n",
      "MyFirstStep:  001408\n",
      "/home/selvani/MAP/Sims/cptmarvel.cosmo25cmb/cptmarvel.cosmo25cmb.4096g5HbwK1BH/\n",
      "HaloStarsPath: /home/selvani/MAP/Sims/cptmarvel.cosmo25cmb/cptmarvel.cosmo25cmb.4096g5HbwK1BH/cptmarvel.4096g5HbwK1BH_bn/cptmarvel.cosmo25cmb.4096g5HbwK1BH.001408\n",
      "4018 relevant stars in cptmarvel.cosmo25cmb.4096g5HbwK1BH.001408\n",
      "Host Array: [9 9 1 ... 9 9 9]\n",
      "Looking through 12631 halos\n",
      "Amiga Host IDs [1 2 3 4 9]\n",
      "FID Host IDs [1 2 3 4 9]\n",
      "Process completed 1 snapshots, output: /home/selvani/MAP/pynbody/stellarhalo_trace_aw/cptmarvel.cosmo25cmb.4096g5HbwK1BH_stardata_001408.h5\n",
      "  Completed: 001408\n",
      "\n",
      "Processing chunk 20/43: ['cptmarvel.cosmo25cmb.4096g5HbwK1BH.000640']\n",
      "MyFirstStep:  000640\n",
      "/home/selvani/MAP/Sims/cptmarvel.cosmo25cmb/cptmarvel.cosmo25cmb.4096g5HbwK1BH/\n",
      "HaloStarsPath: /home/selvani/MAP/Sims/cptmarvel.cosmo25cmb/cptmarvel.cosmo25cmb.4096g5HbwK1BH/cptmarvel.4096g5HbwK1BH_bn/cptmarvel.cosmo25cmb.4096g5HbwK1BH.000640\n",
      "46705 relevant stars in cptmarvel.cosmo25cmb.4096g5HbwK1BH.000640\n",
      "Host Array: [3 3 3 ... 7 7 7]\n",
      "Looking through 10426 halos\n",
      "Amiga Host IDs [ 1  2  3  4  5  6  7  8  9 10 11 13 17]\n",
      "FID Host IDs [ 1  2  3  4  5  6  7  8  9 10 11 13 17]\n",
      "Process completed 1 snapshots, output: /home/selvani/MAP/pynbody/stellarhalo_trace_aw/cptmarvel.cosmo25cmb.4096g5HbwK1BH_stardata_000640.h5\n",
      "  Completed: 000640\n",
      "\n",
      "Processing chunk 21/43: ['cptmarvel.cosmo25cmb.4096g5HbwK1BH.004096']\n",
      "MyFirstStep:  004096\n",
      "/home/selvani/MAP/Sims/cptmarvel.cosmo25cmb/cptmarvel.cosmo25cmb.4096g5HbwK1BH/\n",
      "HaloStarsPath: /home/selvani/MAP/Sims/cptmarvel.cosmo25cmb/cptmarvel.cosmo25cmb.4096g5HbwK1BH/cptmarvel.4096g5HbwK1BH_bn/cptmarvel.cosmo25cmb.4096g5HbwK1BH.004096\n",
      "6770 relevant stars in cptmarvel.cosmo25cmb.4096g5HbwK1BH.004096\n",
      "Host Array: [ 6  6  8 ... 16  4  8]\n",
      "Looking through 12546 halos\n",
      "Amiga Host IDs [ 1  2  4  5  6  7  8 16]\n",
      "FID Host IDs [ 1  2  4  5  6  7  8 16]\n",
      "Process completed 1 snapshots, output: /home/selvani/MAP/pynbody/stellarhalo_trace_aw/cptmarvel.cosmo25cmb.4096g5HbwK1BH_stardata_004096.h5\n",
      "  Completed: 004096\n",
      "\n",
      "Processing chunk 22/43: ['cptmarvel.cosmo25cmb.4096g5HbwK1BH.001025']\n",
      "MyFirstStep:  001025\n",
      "/home/selvani/MAP/Sims/cptmarvel.cosmo25cmb/cptmarvel.cosmo25cmb.4096g5HbwK1BH/\n",
      "HaloStarsPath: /home/selvani/MAP/Sims/cptmarvel.cosmo25cmb/cptmarvel.cosmo25cmb.4096g5HbwK1BH/cptmarvel.4096g5HbwK1BH_bn/cptmarvel.cosmo25cmb.4096g5HbwK1BH.001025\n",
      "17506 relevant stars in cptmarvel.cosmo25cmb.4096g5HbwK1BH.001025\n",
      "Host Array: [1 1 1 ... 2 2 2]\n",
      "Looking through 11928 halos\n",
      "Amiga Host IDs [ 1  2  3  4  5  9 13 21]\n",
      "FID Host IDs [ 1  2  3  4  5  9 13 21]\n",
      "Process completed 1 snapshots, output: /home/selvani/MAP/pynbody/stellarhalo_trace_aw/cptmarvel.cosmo25cmb.4096g5HbwK1BH_stardata_001025.h5\n",
      "  Completed: 001025\n",
      "\n",
      "Processing chunk 23/43: ['cptmarvel.cosmo25cmb.4096g5HbwK1BH.002816']\n",
      "MyFirstStep:  002816\n",
      "/home/selvani/MAP/Sims/cptmarvel.cosmo25cmb/cptmarvel.cosmo25cmb.4096g5HbwK1BH/\n",
      "HaloStarsPath: /home/selvani/MAP/Sims/cptmarvel.cosmo25cmb/cptmarvel.cosmo25cmb.4096g5HbwK1BH/cptmarvel.4096g5HbwK1BH_bn/cptmarvel.cosmo25cmb.4096g5HbwK1BH.002816\n",
      "6469 relevant stars in cptmarvel.cosmo25cmb.4096g5HbwK1BH.002816\n",
      "Host Array: [1 6 5 ... 1 6 1]\n",
      "Looking through 12955 halos\n",
      "Amiga Host IDs [ 1  2  3  5  6  7  9 15]\n",
      "FID Host IDs [ 1  2  3  5  6  7  9 15]\n",
      "Process completed 1 snapshots, output: /home/selvani/MAP/pynbody/stellarhalo_trace_aw/cptmarvel.cosmo25cmb.4096g5HbwK1BH_stardata_002816.h5\n",
      "  Completed: 002816\n",
      "\n",
      "Processing chunk 24/43: ['cptmarvel.cosmo25cmb.4096g5HbwK1BH.000818']\n",
      "MyFirstStep:  000818\n",
      "/home/selvani/MAP/Sims/cptmarvel.cosmo25cmb/cptmarvel.cosmo25cmb.4096g5HbwK1BH/\n",
      "HaloStarsPath: /home/selvani/MAP/Sims/cptmarvel.cosmo25cmb/cptmarvel.cosmo25cmb.4096g5HbwK1BH/cptmarvel.4096g5HbwK1BH_bn/cptmarvel.cosmo25cmb.4096g5HbwK1BH.000818\n",
      "13485 relevant stars in cptmarvel.cosmo25cmb.4096g5HbwK1BH.000818\n",
      "Host Array: [ 4  4  4 ...  4  4 10]\n",
      "Looking through 11283 halos\n",
      "Amiga Host IDs [ 1  2  3  4  6 10 12 16]\n",
      "FID Host IDs [ 1  2  3  4  6 10 12 16]\n",
      "Process completed 1 snapshots, output: /home/selvani/MAP/pynbody/stellarhalo_trace_aw/cptmarvel.cosmo25cmb.4096g5HbwK1BH_stardata_000818.h5\n",
      "  Completed: 000818\n",
      "\n",
      "Processing chunk 25/43: ['cptmarvel.cosmo25cmb.4096g5HbwK1BH.001152']\n",
      "MyFirstStep:  001152\n",
      "/home/selvani/MAP/Sims/cptmarvel.cosmo25cmb/cptmarvel.cosmo25cmb.4096g5HbwK1BH/\n",
      "HaloStarsPath: /home/selvani/MAP/Sims/cptmarvel.cosmo25cmb/cptmarvel.cosmo25cmb.4096g5HbwK1BH/cptmarvel.4096g5HbwK1BH_bn/cptmarvel.cosmo25cmb.4096g5HbwK1BH.001152\n",
      "9826 relevant stars in cptmarvel.cosmo25cmb.4096g5HbwK1BH.001152\n",
      "Host Array: [4 4 4 ... 1 1 1]\n",
      "Looking through 12203 halos\n",
      "Amiga Host IDs [ 1  2  3  4  9 14 19]\n",
      "FID Host IDs [ 1  2  3  4  9 14 19]\n",
      "Process completed 1 snapshots, output: /home/selvani/MAP/pynbody/stellarhalo_trace_aw/cptmarvel.cosmo25cmb.4096g5HbwK1BH_stardata_001152.h5\n",
      "  Completed: 001152\n",
      "\n",
      "Processing chunk 26/43: ['cptmarvel.cosmo25cmb.4096g5HbwK1BH.003456']\n",
      "MyFirstStep:  003456\n",
      "/home/selvani/MAP/Sims/cptmarvel.cosmo25cmb/cptmarvel.cosmo25cmb.4096g5HbwK1BH/\n",
      "HaloStarsPath: /home/selvani/MAP/Sims/cptmarvel.cosmo25cmb/cptmarvel.cosmo25cmb.4096g5HbwK1BH/cptmarvel.4096g5HbwK1BH_bn/cptmarvel.cosmo25cmb.4096g5HbwK1BH.003456\n",
      "7020 relevant stars in cptmarvel.cosmo25cmb.4096g5HbwK1BH.003456\n",
      "Host Array: [1 3 3 ... 1 6 9]\n",
      "Looking through 12789 halos\n",
      "Amiga Host IDs [ 1  2  3  5  6  7  9 16]\n",
      "FID Host IDs [ 1  2  3  5  6  7  9 16]\n",
      "Process completed 1 snapshots, output: /home/selvani/MAP/pynbody/stellarhalo_trace_aw/cptmarvel.cosmo25cmb.4096g5HbwK1BH_stardata_003456.h5\n",
      "  Completed: 003456\n",
      "\n",
      "Processing chunk 27/43: ['cptmarvel.cosmo25cmb.4096g5HbwK1BH.000768']\n",
      "MyFirstStep:  000768\n",
      "/home/selvani/MAP/Sims/cptmarvel.cosmo25cmb/cptmarvel.cosmo25cmb.4096g5HbwK1BH/\n",
      "HaloStarsPath: /home/selvani/MAP/Sims/cptmarvel.cosmo25cmb/cptmarvel.cosmo25cmb.4096g5HbwK1BH/cptmarvel.4096g5HbwK1BH_bn/cptmarvel.cosmo25cmb.4096g5HbwK1BH.000768\n",
      "26578 relevant stars in cptmarvel.cosmo25cmb.4096g5HbwK1BH.000768\n",
      "Host Array: [11  1  1 ...  2  2  2]\n",
      "Looking through 11101 halos\n",
      "Amiga Host IDs [ 1  2  3  4  5  6  7  8  9 10 11 14]\n",
      "FID Host IDs [ 1  2  3  4  5  6  7  8  9 10 11 14]\n",
      "Process completed 1 snapshots, output: /home/selvani/MAP/pynbody/stellarhalo_trace_aw/cptmarvel.cosmo25cmb.4096g5HbwK1BH_stardata_000768.h5\n",
      "  Completed: 000768\n",
      "\n",
      "Processing chunk 28/43: ['cptmarvel.cosmo25cmb.4096g5HbwK1BH.002944']\n",
      "MyFirstStep:  002944\n",
      "/home/selvani/MAP/Sims/cptmarvel.cosmo25cmb/cptmarvel.cosmo25cmb.4096g5HbwK1BH/\n",
      "HaloStarsPath: /home/selvani/MAP/Sims/cptmarvel.cosmo25cmb/cptmarvel.cosmo25cmb.4096g5HbwK1BH/cptmarvel.4096g5HbwK1BH_bn/cptmarvel.cosmo25cmb.4096g5HbwK1BH.002944\n",
      "7850 relevant stars in cptmarvel.cosmo25cmb.4096g5HbwK1BH.002944\n",
      "Host Array: [1 1 1 ... 9 5 5]\n",
      "Looking through 12945 halos\n",
      "Amiga Host IDs [ 1  2  3  5  6  7  9 15]\n",
      "FID Host IDs [ 1  2  3  5  6  7  9 15]\n",
      "Process completed 1 snapshots, output: /home/selvani/MAP/pynbody/stellarhalo_trace_aw/cptmarvel.cosmo25cmb.4096g5HbwK1BH_stardata_002944.h5\n",
      "  Completed: 002944\n",
      "\n",
      "Processing chunk 29/43: ['cptmarvel.cosmo25cmb.4096g5HbwK1BH.001543']\n",
      "MyFirstStep:  001543\n",
      "/home/selvani/MAP/Sims/cptmarvel.cosmo25cmb/cptmarvel.cosmo25cmb.4096g5HbwK1BH/\n",
      "HaloStarsPath: /home/selvani/MAP/Sims/cptmarvel.cosmo25cmb/cptmarvel.cosmo25cmb.4096g5HbwK1BH/cptmarvel.4096g5HbwK1BH_bn/cptmarvel.cosmo25cmb.4096g5HbwK1BH.001543\n",
      "531 relevant stars in cptmarvel.cosmo25cmb.4096g5HbwK1BH.001543\n",
      "Host Array: [12  1  1  1  1  1  1  1  1  1  1  1  1  1  1  1  1  1  1  4  4  4  4 12\n",
      "  1  1  1  1  1  1  1  1  1  1  1  1 14  1  1  1  1  1  1  1  1  1  1  1\n",
      "  1  1  4  4  1  1  1  1  4  4  1  1  1  1  1  1  1  1  1  1  1  1  1  1\n",
      "  1  1  1  1  1  1  1  1  1  1  1  1  1  1  1  1  1  1  1  1  1  1  1  1\n",
      "  1  1  1  1  1  1  1  1  1  1  1  1  1  4  2 14  1  1  1  1  1  1  1  1\n",
      "  1  1  1  1  1  1  1  1  1  1  1  1  1  1  1  1  1  4  4  4  1  1  1  1\n",
      "  1  1  1  1  1  1  1  1  1  1  1  1  1  1  1  1  1  1  1  1  1  1  1  1\n",
      "  1  1  1  1  1  1  4  4  2 12  1  1  1  1  1  1  1  1  1  1  1  1  1  1\n",
      "  1  1  1  1  1  1  1  1  1  1  1  1  4  1  2  2  1  1  1  1  1  1  1  1\n",
      "  4  4  1  1  1  1  1  1  1  1  1  1  1  1  1  1  1  1  1  1  1  1  1  1\n",
      "  1  1  1  1  1  1  1  1  1  9  1  1  1  1  1  1  1  1  1  1  1  1  1  1\n",
      "  1  1  1  1  1  1  1  1  1  1  1  1  1  1  1  1  1  1  1  1  4  4  4  4\n",
      "  4  9  9  2  1  1  1  1  1  1  1  1  1  1  1  1  1  1  1  1  1  1  1  1\n",
      "  1  1  1  9  9  2  2  1  1  1  1  1  1  1  1  1  1  1  1  9  9  9  9  9\n",
      "  1  1  1  1  1  1  4  4  1  1  1  2  2  1  4  4  4  4  4  1  1  1  1  1\n",
      "  1  9  9  2  1  1  1  1  1  4  4  4  4  1  1  1  1  1  1  1  1  1  1  9\n",
      "  9  9  9  1  1  1  1  4  4  4  4  4  4  4  2  2  2  9  1  1  4  4  4  4\n",
      "  4  4  4  4  4  1  1  1  2 14  9  1  1  1  1  1  4  4  4  4  4  4  4  4\n",
      "  4  4  1  1  1  1  1  4  4  4  4  1  1  2 14  9  1  1  1  4  4  4  4  4\n",
      "  4  4  4  4  1  1  9  9  9  1  1  1  1  1  1  4  4  4  4 14  1  4  9  9\n",
      "  1  1  1  1  1  2 14  9  4  1  1  1  1  1  1  1  1  4  4  1  9  4  4  1\n",
      "  1  1  2 14  1  1  1  4  4  4  2  1  1  4  4  4  4  4  4  4  4  4  4  4\n",
      "  1  2 14]\n",
      "Looking through 12688 halos\n",
      "Amiga Host IDs [ 1  2  4  9 12 14]\n",
      "FID Host IDs [ 1  2  4  9 12 14]\n",
      "Process completed 1 snapshots, output: /home/selvani/MAP/pynbody/stellarhalo_trace_aw/cptmarvel.cosmo25cmb.4096g5HbwK1BH_stardata_001543.h5\n",
      "  Completed: 001543\n",
      "\n",
      "Processing chunk 30/43: ['cptmarvel.cosmo25cmb.4096g5HbwK1BH.002560']\n",
      "MyFirstStep:  002560\n",
      "/home/selvani/MAP/Sims/cptmarvel.cosmo25cmb/cptmarvel.cosmo25cmb.4096g5HbwK1BH/\n",
      "HaloStarsPath: /home/selvani/MAP/Sims/cptmarvel.cosmo25cmb/cptmarvel.cosmo25cmb.4096g5HbwK1BH/cptmarvel.4096g5HbwK1BH_bn/cptmarvel.cosmo25cmb.4096g5HbwK1BH.002560\n",
      "6843 relevant stars in cptmarvel.cosmo25cmb.4096g5HbwK1BH.002560\n",
      "Host Array: [9 9 9 ... 2 2 2]\n",
      "Looking through 12942 halos\n",
      "Amiga Host IDs [ 1  2  3  4  6  7  9 14]\n",
      "FID Host IDs [ 1  2  3  4  6  7  9 14]\n",
      "Process completed 1 snapshots, output: /home/selvani/MAP/pynbody/stellarhalo_trace_aw/cptmarvel.cosmo25cmb.4096g5HbwK1BH_stardata_002560.h5\n",
      "  Completed: 002560\n",
      "\n",
      "Processing chunk 31/43: ['cptmarvel.cosmo25cmb.4096g5HbwK1BH.003712']\n",
      "MyFirstStep:  003712\n",
      "/home/selvani/MAP/Sims/cptmarvel.cosmo25cmb/cptmarvel.cosmo25cmb.4096g5HbwK1BH/\n",
      "HaloStarsPath: /home/selvani/MAP/Sims/cptmarvel.cosmo25cmb/cptmarvel.cosmo25cmb.4096g5HbwK1BH/cptmarvel.4096g5HbwK1BH_bn/cptmarvel.cosmo25cmb.4096g5HbwK1BH.003712\n",
      "4035 relevant stars in cptmarvel.cosmo25cmb.4096g5HbwK1BH.003712\n",
      "Host Array: [8 4 4 ... 1 1 2]\n",
      "Looking through 12679 halos\n",
      "Amiga Host IDs [ 1  2  4  5  6  7  8 16]\n",
      "FID Host IDs [ 1  2  4  5  6  7  8 16]\n",
      "Process completed 1 snapshots, output: /home/selvani/MAP/pynbody/stellarhalo_trace_aw/cptmarvel.cosmo25cmb.4096g5HbwK1BH_stardata_003712.h5\n",
      "  Completed: 003712\n",
      "\n",
      "Processing chunk 32/43: ['cptmarvel.cosmo25cmb.4096g5HbwK1BH.002304']\n",
      "MyFirstStep:  002304\n",
      "/home/selvani/MAP/Sims/cptmarvel.cosmo25cmb/cptmarvel.cosmo25cmb.4096g5HbwK1BH/\n",
      "HaloStarsPath: /home/selvani/MAP/Sims/cptmarvel.cosmo25cmb/cptmarvel.cosmo25cmb.4096g5HbwK1BH/cptmarvel.4096g5HbwK1BH_bn/cptmarvel.cosmo25cmb.4096g5HbwK1BH.002304\n",
      "4844 relevant stars in cptmarvel.cosmo25cmb.4096g5HbwK1BH.002304\n",
      "Host Array: [1 1 1 ... 2 3 1]\n",
      "Looking through 12890 halos\n",
      "Amiga Host IDs [ 1  2  3  4  5  7  9 13]\n",
      "FID Host IDs [ 1  2  3  4  5  7  9 13]\n",
      "Process completed 1 snapshots, output: /home/selvani/MAP/pynbody/stellarhalo_trace_aw/cptmarvel.cosmo25cmb.4096g5HbwK1BH_stardata_002304.h5\n",
      "  Completed: 002304\n",
      "\n",
      "Processing chunk 33/43: ['cptmarvel.cosmo25cmb.4096g5HbwK1BH.001536']\n",
      "MyFirstStep:  001536\n",
      "/home/selvani/MAP/Sims/cptmarvel.cosmo25cmb/cptmarvel.cosmo25cmb.4096g5HbwK1BH/\n",
      "HaloStarsPath: /home/selvani/MAP/Sims/cptmarvel.cosmo25cmb/cptmarvel.cosmo25cmb.4096g5HbwK1BH/cptmarvel.4096g5HbwK1BH_bn/cptmarvel.cosmo25cmb.4096g5HbwK1BH.001536\n",
      "7860 relevant stars in cptmarvel.cosmo25cmb.4096g5HbwK1BH.001536\n",
      "Host Array: [ 9  1  9 ... 12 12 14]\n",
      "Looking through 12658 halos\n",
      "Amiga Host IDs [ 1  2  4  9 12 14]\n",
      "FID Host IDs [ 1  2  4  9 12 14]\n",
      "Process completed 1 snapshots, output: /home/selvani/MAP/pynbody/stellarhalo_trace_aw/cptmarvel.cosmo25cmb.4096g5HbwK1BH_stardata_001536.h5\n",
      "  Completed: 001536\n",
      "\n",
      "Processing chunk 34/43: ['cptmarvel.cosmo25cmb.4096g5HbwK1BH.000384']\n",
      "MyFirstStep:  000384\n",
      "/home/selvani/MAP/Sims/cptmarvel.cosmo25cmb/cptmarvel.cosmo25cmb.4096g5HbwK1BH/\n",
      "HaloStarsPath: /home/selvani/MAP/Sims/cptmarvel.cosmo25cmb/cptmarvel.cosmo25cmb.4096g5HbwK1BH/cptmarvel.4096g5HbwK1BH_bn/cptmarvel.cosmo25cmb.4096g5HbwK1BH.000384\n",
      "23670 relevant stars in cptmarvel.cosmo25cmb.4096g5HbwK1BH.000384\n",
      "Host Array: [8 8 8 ... 8 8 8]\n",
      "Looking through 7968 halos\n",
      "Amiga Host IDs [ 1  2  3  4  5  6  7  8  9 11 14 20]\n",
      "FID Host IDs [ 1  2  3  4  5  6  7  8  9 11 14 20]\n",
      "Process completed 1 snapshots, output: /home/selvani/MAP/pynbody/stellarhalo_trace_aw/cptmarvel.cosmo25cmb.4096g5HbwK1BH_stardata_000384.h5\n",
      "  Completed: 000384\n",
      "\n",
      "Processing chunk 35/43: ['cptmarvel.cosmo25cmb.4096g5HbwK1BH.002624']\n",
      "MyFirstStep:  002624\n",
      "/home/selvani/MAP/Sims/cptmarvel.cosmo25cmb/cptmarvel.cosmo25cmb.4096g5HbwK1BH/\n",
      "HaloStarsPath: /home/selvani/MAP/Sims/cptmarvel.cosmo25cmb/cptmarvel.cosmo25cmb.4096g5HbwK1BH/cptmarvel.4096g5HbwK1BH_bn/cptmarvel.cosmo25cmb.4096g5HbwK1BH.002624\n",
      "3021 relevant stars in cptmarvel.cosmo25cmb.4096g5HbwK1BH.002624\n",
      "Host Array: [ 1  1  1 ... 14  5  6]\n",
      "Looking through 12917 halos\n",
      "Amiga Host IDs [ 1  2  3  5  6  7  9 14]\n",
      "FID Host IDs [ 1  2  3  5  6  7  9 14]\n",
      "Process completed 1 snapshots, output: /home/selvani/MAP/pynbody/stellarhalo_trace_aw/cptmarvel.cosmo25cmb.4096g5HbwK1BH_stardata_002624.h5\n",
      "  Completed: 002624\n",
      "\n",
      "Processing chunk 36/43: ['cptmarvel.cosmo25cmb.4096g5HbwK1BH.003328']\n",
      "MyFirstStep:  003328\n",
      "/home/selvani/MAP/Sims/cptmarvel.cosmo25cmb/cptmarvel.cosmo25cmb.4096g5HbwK1BH/\n",
      "HaloStarsPath: /home/selvani/MAP/Sims/cptmarvel.cosmo25cmb/cptmarvel.cosmo25cmb.4096g5HbwK1BH/cptmarvel.4096g5HbwK1BH_bn/cptmarvel.cosmo25cmb.4096g5HbwK1BH.003328\n",
      "4709 relevant stars in cptmarvel.cosmo25cmb.4096g5HbwK1BH.003328\n",
      "Host Array: [1 1 1 ... 4 4 4]\n",
      "Looking through 12833 halos\n",
      "Amiga Host IDs [ 1  2  4  5  6  7  9 16]\n",
      "FID Host IDs [ 1  2  4  5  6  7  9 16]\n",
      "Process completed 1 snapshots, output: /home/selvani/MAP/pynbody/stellarhalo_trace_aw/cptmarvel.cosmo25cmb.4096g5HbwK1BH_stardata_003328.h5\n",
      "  Completed: 003328\n",
      "\n",
      "Processing chunk 37/43: ['cptmarvel.cosmo25cmb.4096g5HbwK1BH.003968']\n",
      "MyFirstStep:  003968\n",
      "/home/selvani/MAP/Sims/cptmarvel.cosmo25cmb/cptmarvel.cosmo25cmb.4096g5HbwK1BH/\n",
      "HaloStarsPath: /home/selvani/MAP/Sims/cptmarvel.cosmo25cmb/cptmarvel.cosmo25cmb.4096g5HbwK1BH/cptmarvel.4096g5HbwK1BH_bn/cptmarvel.cosmo25cmb.4096g5HbwK1BH.003968\n",
      "6746 relevant stars in cptmarvel.cosmo25cmb.4096g5HbwK1BH.003968\n",
      "Host Array: [8 1 1 ... 5 4 5]\n",
      "Looking through 12604 halos\n",
      "Amiga Host IDs [ 1  2  4  5  6  7  8 16]\n",
      "FID Host IDs [ 1  2  4  5  6  7  8 16]\n",
      "Process completed 1 snapshots, output: /home/selvani/MAP/pynbody/stellarhalo_trace_aw/cptmarvel.cosmo25cmb.4096g5HbwK1BH_stardata_003968.h5\n",
      "  Completed: 003968\n",
      "\n",
      "Processing chunk 38/43: ['cptmarvel.cosmo25cmb.4096g5HbwK1BH.001792']\n",
      "MyFirstStep:  001792\n",
      "/home/selvani/MAP/Sims/cptmarvel.cosmo25cmb/cptmarvel.cosmo25cmb.4096g5HbwK1BH/\n",
      "HaloStarsPath: /home/selvani/MAP/Sims/cptmarvel.cosmo25cmb/cptmarvel.cosmo25cmb.4096g5HbwK1BH/cptmarvel.4096g5HbwK1BH_bn/cptmarvel.cosmo25cmb.4096g5HbwK1BH.001792\n",
      "3925 relevant stars in cptmarvel.cosmo25cmb.4096g5HbwK1BH.001792\n",
      "Host Array: [10  1  1 ...  1  1  2]\n",
      "Looking through 12855 halos\n",
      "Amiga Host IDs [ 1  2  3  4  5 10 13 14]\n",
      "FID Host IDs [ 1  2  3  4  5 10 13 14]\n",
      "Process completed 1 snapshots, output: /home/selvani/MAP/pynbody/stellarhalo_trace_aw/cptmarvel.cosmo25cmb.4096g5HbwK1BH_stardata_001792.h5\n",
      "  Completed: 001792\n",
      "\n",
      "Processing chunk 39/43: ['cptmarvel.cosmo25cmb.4096g5HbwK1BH.003072']\n",
      "MyFirstStep:  003072\n",
      "/home/selvani/MAP/Sims/cptmarvel.cosmo25cmb/cptmarvel.cosmo25cmb.4096g5HbwK1BH/\n",
      "HaloStarsPath: /home/selvani/MAP/Sims/cptmarvel.cosmo25cmb/cptmarvel.cosmo25cmb.4096g5HbwK1BH/cptmarvel.4096g5HbwK1BH_bn/cptmarvel.cosmo25cmb.4096g5HbwK1BH.003072\n",
      "6370 relevant stars in cptmarvel.cosmo25cmb.4096g5HbwK1BH.003072\n",
      "Host Array: [9 2 1 ... 2 4 1]\n",
      "Looking through 12866 halos\n",
      "Amiga Host IDs [ 1  2  4  5  6  7  9 16]\n",
      "FID Host IDs [ 1  2  4  5  6  7  9 16]\n",
      "Process completed 1 snapshots, output: /home/selvani/MAP/pynbody/stellarhalo_trace_aw/cptmarvel.cosmo25cmb.4096g5HbwK1BH_stardata_003072.h5\n",
      "  Completed: 003072\n",
      "\n",
      "Processing chunk 40/43: ['cptmarvel.cosmo25cmb.4096g5HbwK1BH.003840']\n",
      "MyFirstStep:  003840\n",
      "/home/selvani/MAP/Sims/cptmarvel.cosmo25cmb/cptmarvel.cosmo25cmb.4096g5HbwK1BH/\n",
      "HaloStarsPath: /home/selvani/MAP/Sims/cptmarvel.cosmo25cmb/cptmarvel.cosmo25cmb.4096g5HbwK1BH/cptmarvel.4096g5HbwK1BH_bn/cptmarvel.cosmo25cmb.4096g5HbwK1BH.003840\n",
      "7131 relevant stars in cptmarvel.cosmo25cmb.4096g5HbwK1BH.003840\n",
      "Host Array: [8 8 4 ... 1 1 1]\n",
      "Looking through 12653 halos\n",
      "Amiga Host IDs [ 1  2  4  5  6  7  8 16]\n",
      "FID Host IDs [ 1  2  4  5  6  7  8 16]\n",
      "Process completed 1 snapshots, output: /home/selvani/MAP/pynbody/stellarhalo_trace_aw/cptmarvel.cosmo25cmb.4096g5HbwK1BH_stardata_003840.h5\n",
      "  Completed: 003840\n",
      "\n",
      "Processing chunk 41/43: ['cptmarvel.cosmo25cmb.4096g5HbwK1BH.001664']\n",
      "MyFirstStep:  001664\n",
      "/home/selvani/MAP/Sims/cptmarvel.cosmo25cmb/cptmarvel.cosmo25cmb.4096g5HbwK1BH/\n",
      "HaloStarsPath: /home/selvani/MAP/Sims/cptmarvel.cosmo25cmb/cptmarvel.cosmo25cmb.4096g5HbwK1BH/cptmarvel.4096g5HbwK1BH_bn/cptmarvel.cosmo25cmb.4096g5HbwK1BH.001664\n",
      "4548 relevant stars in cptmarvel.cosmo25cmb.4096g5HbwK1BH.001664\n",
      "Host Array: [13 13  5 ...  2  2  2]\n",
      "Looking through 12795 halos\n",
      "Amiga Host IDs [ 1  2  4  5  9 13 18]\n",
      "FID Host IDs [ 1  2  4  5  9 13 18]\n",
      "Process completed 1 snapshots, output: /home/selvani/MAP/pynbody/stellarhalo_trace_aw/cptmarvel.cosmo25cmb.4096g5HbwK1BH_stardata_001664.h5\n",
      "  Completed: 001664\n",
      "\n",
      "Processing chunk 42/43: ['cptmarvel.cosmo25cmb.4096g5HbwK1BH.003245']\n",
      "MyFirstStep:  003245\n",
      "/home/selvani/MAP/Sims/cptmarvel.cosmo25cmb/cptmarvel.cosmo25cmb.4096g5HbwK1BH/\n",
      "HaloStarsPath: /home/selvani/MAP/Sims/cptmarvel.cosmo25cmb/cptmarvel.cosmo25cmb.4096g5HbwK1BH/cptmarvel.4096g5HbwK1BH_bn/cptmarvel.cosmo25cmb.4096g5HbwK1BH.003245\n",
      "2589 relevant stars in cptmarvel.cosmo25cmb.4096g5HbwK1BH.003245\n",
      "Host Array: [9 6 1 ... 6 6 6]\n",
      "Looking through 12837 halos\n",
      "Amiga Host IDs [ 1  2  4  5  6  7  9 16]\n",
      "FID Host IDs [ 1  2  4  5  6  7  9 16]\n",
      "Process completed 1 snapshots, output: /home/selvani/MAP/pynbody/stellarhalo_trace_aw/cptmarvel.cosmo25cmb.4096g5HbwK1BH_stardata_003245.h5\n",
      "  Completed: 003245\n",
      "\n",
      "Processing chunk 43/43: ['cptmarvel.cosmo25cmb.4096g5HbwK1BH.000482']\n",
      "MyFirstStep:  000482\n",
      "/home/selvani/MAP/Sims/cptmarvel.cosmo25cmb/cptmarvel.cosmo25cmb.4096g5HbwK1BH/\n",
      "HaloStarsPath: /home/selvani/MAP/Sims/cptmarvel.cosmo25cmb/cptmarvel.cosmo25cmb.4096g5HbwK1BH/cptmarvel.4096g5HbwK1BH_bn/cptmarvel.cosmo25cmb.4096g5HbwK1BH.000482\n",
      "88779 relevant stars in cptmarvel.cosmo25cmb.4096g5HbwK1BH.000482\n",
      "Host Array: [7 7 7 ... 6 6 6]\n",
      "Looking through 9087 halos\n",
      "Amiga Host IDs [ 1  2  3  4  5  6  7  8  9 10 18]\n",
      "FID Host IDs [ 1  2  3  4  5  6  7  8  9 10 18]\n",
      "Process completed 1 snapshots, output: /home/selvani/MAP/pynbody/stellarhalo_trace_aw/cptmarvel.cosmo25cmb.4096g5HbwK1BH_stardata_000482.h5\n",
      "  Completed: 000482\n",
      "\n",
      "All chunks processed serially\n"
     ]
    }
   ],
   "source": [
    "import psutil\n",
    "n_cpus = psutil.cpu_count(logical=True) # use up to 36 quirm cores\n",
    "LocAtCreation_pool_rz.main(simpath, ss_dir, outfile_dir, 72, overwrite=True)"
   ]
  },
  {
   "cell_type": "markdown",
   "id": "38240520-a7c8-428e-9bcd-dd049901f9d8",
   "metadata": {},
   "source": [
    "### 3) writeouthosts_rz.py\n",
    "\n",
    "<!-- Step 3 of stellar halo pipeline                                                                                   \n",
    "For each snapshot, writes out a list of halos that formed stars                                                   \n",
    "between the last snapshot and this one and the number of stars formed;                                            \n",
    "as in step 2, note that the IDs of these halos will be their index in                                             \n",
    "the tangos database, not necessarily their amiga.grp ID. This is used                                             \n",
    "to construct a unique ID for each star-forming halo in the next step.                                             \n",
    "                                                                                                                   -->\n",
    "<!-- Output: <sim>_halostarhosts.txt                                                                                   \n",
    "                                                                                                                  \n",
    "Usage:   python writeouthosts_rz.py <sim>                                                                         \n",
    "Example: python writeouthosts_rz.py r634                                                                          \n",
    "                                                                                                                   -->\n",
    "Note that this is currently set up for MMs, but should be easily adapted                                          \n",
    "by e.g., changing the paths or adding a path CL argument.    "
   ]
  },
  {
   "cell_type": "markdown",
   "id": "e3c476ff",
   "metadata": {},
   "source": [
    "Step 3 of stellar halo pipeline\n",
    "\n",
    "**What it does:**\n",
    "- Reads all the `<sim>_stardata_*.h5` files created in Step 2 \n",
    "- For each simulation snapshot, identifies which halos formed new stars between that snapshot and the previous one\n",
    "- Counts how many stars formed in each halo during each time interval\n",
    "- Creates a comprehensive timeline of star formation activity across all halos\n",
    "- Outputs a summary text file listing star-forming halos and their activity over snapshots\n",
    "\n",
    "**Detailed Process:**\n",
    "1. **File Discovery**: Locates all `*_stardata_*.h5` files from Step 2 using glob pattern matching\n",
    "2. **Data Extraction**: For each HDF5 file, extracts:\n",
    "   - `particle_hosts`: Host halo indices \n",
    "   - `timestep_location`: Snapshot numbers where each star particle first appears\n",
    "3. **Temporal Binning**: Groups star particles by the snapshot where they formed\n",
    "4. **Halo Counting**: For each snapshot, counts how many stars formed in each unique halo\n",
    "5. **Output Formatting**: Creates chronologically ordered summary with format:\n",
    "   ```\n",
    "   <snapshot_number>    <halo_id_1>,<star_count_1>    <halo_id_2>,<star_count_2>    ...\n",
    "   ```\n",
    "\n",
    "<!-- **Key Technical Details:**\n",
    "- **Vectorized Operations**: Uses `np.unique(return_counts=True)` for efficient halo counting instead of slow loops\n",
    "- **Memory Efficient**: Processes one HDF5 file at a time to minimize memory usage\n",
    "- **Chronological Ordering**: Sorts output by snapshot number for temporal analysis\n",
    "- **Duplicate Handling**: Aggregates data from multiple stardata files that may have overlapping snapshots -->\n",
    "\n",
    "**Input Files:**\n",
    "- Multiple `<sim>_stardata_<snapshot>.h5` files from Step 2\n",
    "- Each file contains star formation data for a subset of simulation snapshots\n",
    "\n",
    "**Output File:** `<sim>_halostarhosts.txt`\n",
    "- Text file with tab-separated values\n",
    "- Each line represents one simulation snapshot\n",
    "- Format: `<timestep>\\t<halo_id>,<count>\\t<halo_id>,<count>\\t...`\n",
    "- Example line: `3840    -1,234    1,156    3,89`\n",
    "  - At snapshot 3840: halo -1 formed 234 unbound stars, halo 1 formed 156 stars, halo 3 formed 89 stars\n",
    "\n",
    "<!-- **Data Flow:**\n",
    "```\n",
    "Step 2 Output: Multiple *_stardata_*.h5 files\n",
    "                    ↓\n",
    "Step 3: Aggregate and summarize by snapshot/halo\n",
    "                    ↓\n",
    "Step 3 Output: Single *_halostarhosts.txt file\n",
    "``` -->\n",
    "\n",
    "<!-- **Performance Optimizations:**\n",
    "- **Batch Processing**: Handles large datasets efficiently using vectorized NumPy operations\n",
    "- **String Building**: Uses `list.join()` instead of repeated string concatenation for speed\n",
    "- **Efficient I/O**: Single-pass reading of HDF5 files with minimal memory footprint -->\n",
    "\n",
    "**Purpose:** This step creates a compact summary of star formation activity that enables Step 4 to efficiently track halo merger histories and assign unique IDs to star-forming halos. \n",
    "<!-- The chronological format makes it easy to identify:\n",
    "- Which halos were actively forming stars at each epoch\n",
    "- How star formation rates varied over cosmic time  \n",
    "- Which halos contributed most significantly to stellar mass assembly -->\n",
    "<!-- \n",
    "**Example Usage:**\n",
    "- Input: 40+ `cptmarvel.cosmo25cmb.4096g5HbwK1BH_stardata_*.h5` files\n",
    "- Output: `cptmarvel.cosmo25cmb.4096g5HbwK1BH_halostarhosts.txt`\n",
    "- Result: Timeline of ~100 snapshots showing star formation in ~1000s of halos -->\n",
    "\n",
    "* Usage: `python writeouthosts_rz.py <sim> <output_dir>`\n",
    "* Example: `python writeouthosts_rz.py cptmarvel.cosmo25cmb.4096g5HbwK1BH /output/path/`\n",
    "* Runtime: instant\n",
    "\n",
    "**Important Notes:**\n",
    "<!-- - **Halo IDs are Tangos database indices**, not Amiga group IDs (consistent with Step 2)\n",
    "- Output file size is typically much smaller than input HDF5 files (text vs binary format)\n",
    "- This summary enables efficient processing in Step 4 without re-reading large HDF5 files -->\n",
    "- Unbound stars (host ID = -1) are included in the summary for completeness"
   ]
  },
  {
   "cell_type": "code",
   "execution_count": 7,
   "id": "78369c26-7063-4e1d-833a-140764288e4e",
   "metadata": {},
   "outputs": [],
   "source": [
    "import writeouthosts_rz"
   ]
  },
  {
   "cell_type": "code",
   "execution_count": 8,
   "id": "8921c25c-add2-43fd-b506-d061fc0da472",
   "metadata": {},
   "outputs": [
    {
     "name": "stdout",
     "output_type": "stream",
     "text": [
      "Found 43 stardata files\n",
      "Output file: /home/selvani/MAP/pynbody/stellarhalo_trace_aw/cptmarvel.cosmo25cmb.4096g5HbwK1BH_halostarhosts.txt\n"
     ]
    }
   ],
   "source": [
    "writeouthosts_rz.main(basename, odir=outfile_dir)"
   ]
  },
  {
   "cell_type": "markdown",
   "id": "769734cd",
   "metadata": {},
   "source": [
    "### 3.5) Find and Fill In Main Progenitors"
   ]
  },
  {
   "cell_type": "code",
   "execution_count": null,
   "id": "ef1b4fb7",
   "metadata": {},
   "outputs": [],
   "source": [
    "!tangos serve"
   ]
  },
  {
   "cell_type": "code",
   "execution_count": 4,
   "id": "e3f7798c",
   "metadata": {},
   "outputs": [],
   "source": [
    "tangos.all_simulations()\n",
    "import tqdm.notebook as tqdm\n",
    "import halo_trace as ht"
   ]
  },
  {
   "cell_type": "code",
   "execution_count": 17,
   "id": "2dd99f81",
   "metadata": {},
   "outputs": [
    {
     "name": "stdout",
     "output_type": "stream",
     "text": [
      "There are 12546 halos in the snapshot.\n",
      "\n",
      "There are 16 halos with stars.\n",
      "Halo ID: 1, Mass: 1.34e+10M☉, Stars: 205466\n",
      "Halo ID: 2, Mass: 9.35e+09M☉, Stars: 55462\n",
      "Halo ID: 4, Mass: 8.28e+09M☉, Stars: 31452\n",
      "Halo ID: 5, Mass: 6.24e+09M☉, Stars: 45841\n",
      "Halo ID: 6, Mass: 5.88e+09M☉, Stars: 43645\n",
      "Halo ID: 7, Mass: 4.46e+09M☉, Stars: 4199\n",
      "Halo ID: 8, Mass: 6.00e+10M☉, Stars: 10015\n",
      "Halo ID: 10, Mass: 2.85e+09M☉, Stars: 11867\n",
      "Halo ID: 11, Mass: 2.61e+09M☉, Stars: 1954\n",
      "Halo ID: 13, Mass: 1.54e+09M☉, Stars: 1166\n",
      "Halo ID: 14, Mass: 1.47e+09M☉, Stars: 23\n",
      "Halo ID: 16, Mass: 4.04e+09M☉, Stars: 3493\n",
      "Halo ID: 27, Mass: 3.09e+08M☉, Stars: 14\n",
      "Halo ID: 167, Mass: 3.83e+07M☉, Stars: 24\n",
      "Halo ID: 455, Mass: 1.04e+07M☉, Stars: 149\n",
      "Halo ID: 1328, Mass: 3.80e+06M☉, Stars: 15\n"
     ]
    }
   ],
   "source": [
    "# Get all halos in 004096 snapshot\n",
    "timestep = tangos.get_timestep(\"cptmarvel.4096g5HbwK1BH_bn/%4096\")\n",
    "all_halos = timestep.halos.all()\n",
    "print(\"There are %d halos in the snapshot.\" % len(all_halos))\n",
    "\n",
    "# Filter for halos with stars\n",
    "halos_with_stars = [h for h in all_halos if h.NStar > 0]\n",
    "\n",
    "print(\"\\nThere are %d halos with stars.\" % len(halos_with_stars))\n",
    "for halo in halos_with_stars:\n",
    "    print(\"Halo ID: %s, Mass: %1.2eM☉, Stars: %d\" % (halo.halo_number, halo['Mvir'], halo.NStar))"
   ]
  },
  {
   "cell_type": "code",
   "execution_count": 22,
   "id": "1c738078",
   "metadata": {},
   "outputs": [
    {
     "name": "stdout",
     "output_type": "stream",
     "text": [
      "Timestep: 000199\n",
      "There are 17 halos with stars.\n",
      "\n",
      "Timestep: 000291\n",
      "There are 20 halos with stars.\n",
      "\n",
      "Timestep: 000384\n",
      "There are 20 halos with stars.\n",
      "\n",
      "Timestep: 000482\n",
      "There are 19 halos with stars.\n",
      "\n",
      "Timestep: 000512\n",
      "There are 19 halos with stars.\n",
      "\n",
      "Timestep: 000640\n",
      "There are 20 halos with stars.\n",
      "\n",
      "Timestep: 000672\n",
      "There are 20 halos with stars.\n",
      "\n",
      "Timestep: 000768\n",
      "There are 20 halos with stars.\n",
      "\n",
      "Timestep: 000818\n",
      "There are 20 halos with stars.\n",
      "\n",
      "Timestep: 000896\n",
      "There are 19 halos with stars.\n",
      "\n",
      "Timestep: 001025\n",
      "There are 20 halos with stars.\n",
      "\n",
      "Timestep: 001152\n",
      "There are 20 halos with stars.\n",
      "\n",
      "Timestep: 001162\n",
      "There are 20 halos with stars.\n",
      "\n",
      "Timestep: 001280\n",
      "There are 20 halos with stars.\n",
      "\n",
      "Timestep: 001331\n",
      "There are 18 halos with stars.\n",
      "\n",
      "Timestep: 001408\n",
      "There are 19 halos with stars.\n",
      "\n",
      "Timestep: 001536\n",
      "There are 18 halos with stars.\n",
      "\n",
      "Timestep: 001543\n",
      "There are 18 halos with stars.\n",
      "\n",
      "Timestep: 001664\n",
      "There are 18 halos with stars.\n",
      "\n",
      "Timestep: 001792\n",
      "There are 18 halos with stars.\n",
      "\n",
      "Timestep: 001813\n",
      "There are 19 halos with stars.\n",
      "\n",
      "Timestep: 001920\n",
      "There are 18 halos with stars.\n",
      "\n",
      "Timestep: 002048\n",
      "There are 18 halos with stars.\n",
      "\n",
      "Timestep: 002162\n",
      "There are 17 halos with stars.\n",
      "\n",
      "Timestep: 002176\n",
      "There are 17 halos with stars.\n",
      "\n",
      "Timestep: 002304\n",
      "There are 16 halos with stars.\n",
      "\n",
      "Timestep: 002432\n",
      "There are 17 halos with stars.\n",
      "\n",
      "Timestep: 002560\n",
      "There are 16 halos with stars.\n",
      "\n",
      "Timestep: 002624\n",
      "There are 16 halos with stars.\n",
      "\n",
      "Timestep: 002688\n",
      "There are 17 halos with stars.\n",
      "\n",
      "Timestep: 002816\n",
      "There are 17 halos with stars.\n",
      "\n",
      "Timestep: 002944\n",
      "There are 16 halos with stars.\n",
      "\n",
      "Timestep: 003072\n",
      "There are 17 halos with stars.\n",
      "\n",
      "Timestep: 003200\n",
      "There are 16 halos with stars.\n",
      "\n",
      "Timestep: 003245\n",
      "There are 16 halos with stars.\n",
      "\n",
      "Timestep: 003328\n",
      "There are 16 halos with stars.\n",
      "\n",
      "Timestep: 003456\n",
      "There are 16 halos with stars.\n",
      "\n",
      "Timestep: 003584\n",
      "There are 16 halos with stars.\n",
      "\n",
      "Timestep: 003636\n",
      "There are 16 halos with stars.\n",
      "\n",
      "Timestep: 003712\n",
      "There are 16 halos with stars.\n",
      "\n",
      "Timestep: 003840\n",
      "There are 16 halos with stars.\n",
      "\n",
      "Timestep: 003968\n",
      "There are 15 halos with stars.\n",
      "\n",
      "Timestep: 004096\n",
      "There are 16 halos with stars.\n",
      "\n"
     ]
    }
   ],
   "source": [
    "# Get all halos in 004096 snapshot\n",
    "all_timesteps = tangos.get_simulation(\"cptmarvel.4096g5HbwK1BH_bn\").timesteps\n",
    "halos_stars_dict = {}\n",
    "for timestep in all_timesteps:\n",
    "    all_halos = timestep.halos.all()\n",
    "    # print(\"There are %d halos in the snapshot.\" % len(all_halos))\n",
    "\n",
    "    # Filter for halos with stars\n",
    "    halos_with_stars = [h for h in all_halos if h.NStar > 0]\n",
    "    print(\"Timestep: %s\" % timestep.extension[-6:])\n",
    "    print(\"There are %d halos with stars.\\n\" % len(halos_with_stars))\n",
    "    halos_stars_dict[timestep.extension[-6:]] = halos_with_stars\n",
    "    # for halo in halos_with_stars:\n",
    "    #     print(\"Halo ID: %s, Mass: %1.2eM☉, Stars: %d\" % (halo.halo_number, halo['Mvir'], halo.NStar))"
   ]
  },
  {
   "cell_type": "code",
   "execution_count": 23,
   "id": "f0bc3a51",
   "metadata": {},
   "outputs": [
    {
     "data": {
      "text/plain": [
       "[<Halo 'cptmarvel.4096g5HbwK1BH_bn/cptmarvel.cosmo25cmb.4096g5HbwK1BH.004096/halo_1' | NDM=2673328 Nstar=205466 Ngas=341360>,\n",
       " <Halo 'cptmarvel.4096g5HbwK1BH_bn/cptmarvel.cosmo25cmb.4096g5HbwK1BH.004096/halo_2' | NDM=1809471 Nstar=55462 Ngas=531508>,\n",
       " <Halo 'cptmarvel.4096g5HbwK1BH_bn/cptmarvel.cosmo25cmb.4096g5HbwK1BH.004096/halo_4' | NDM=1624243 Nstar=31452 Ngas=367221>,\n",
       " <Halo 'cptmarvel.4096g5HbwK1BH_bn/cptmarvel.cosmo25cmb.4096g5HbwK1BH.004096/halo_5' | NDM=1257579 Nstar=45841 Ngas=116308>,\n",
       " <Halo 'cptmarvel.4096g5HbwK1BH_bn/cptmarvel.cosmo25cmb.4096g5HbwK1BH.004096/halo_6' | NDM=1179048 Nstar=43645 Ngas=134861>,\n",
       " <Halo 'cptmarvel.4096g5HbwK1BH_bn/cptmarvel.cosmo25cmb.4096g5HbwK1BH.004096/halo_7' | NDM=897819 Nstar=4199 Ngas=88876>,\n",
       " <Halo 'cptmarvel.4096g5HbwK1BH_bn/cptmarvel.cosmo25cmb.4096g5HbwK1BH.004096/halo_8' | NDM=279916 Nstar=10015 Ngas=536699>,\n",
       " <Halo 'cptmarvel.4096g5HbwK1BH_bn/cptmarvel.cosmo25cmb.4096g5HbwK1BH.004096/halo_10' | NDM=582175 Nstar=11867 Ngas=19174>,\n",
       " <Halo 'cptmarvel.4096g5HbwK1BH_bn/cptmarvel.cosmo25cmb.4096g5HbwK1BH.004096/halo_11' | NDM=535923 Nstar=1954 Ngas=1140>,\n",
       " <Halo 'cptmarvel.4096g5HbwK1BH_bn/cptmarvel.cosmo25cmb.4096g5HbwK1BH.004096/halo_13' | NDM=317129 Nstar=1166 Ngas=2329>,\n",
       " <Halo 'cptmarvel.4096g5HbwK1BH_bn/cptmarvel.cosmo25cmb.4096g5HbwK1BH.004096/halo_14' | NDM=302214 Nstar=23 Ngas=317>,\n",
       " <Halo 'cptmarvel.4096g5HbwK1BH_bn/cptmarvel.cosmo25cmb.4096g5HbwK1BH.004096/halo_16' | NDM=183556 Nstar=3493 Ngas=20717>,\n",
       " <Halo 'cptmarvel.4096g5HbwK1BH_bn/cptmarvel.cosmo25cmb.4096g5HbwK1BH.004096/halo_27' | NDM=63559 Nstar=14 Ngas=0>,\n",
       " <Halo 'cptmarvel.4096g5HbwK1BH_bn/cptmarvel.cosmo25cmb.4096g5HbwK1BH.004096/halo_167' | NDM=7870 Nstar=24 Ngas=0>,\n",
       " <Halo 'cptmarvel.4096g5HbwK1BH_bn/cptmarvel.cosmo25cmb.4096g5HbwK1BH.004096/halo_455' | NDM=2135 Nstar=149 Ngas=0>,\n",
       " <Halo 'cptmarvel.4096g5HbwK1BH_bn/cptmarvel.cosmo25cmb.4096g5HbwK1BH.004096/halo_1328' | NDM=781 Nstar=15 Ngas=0>]"
      ]
     },
     "execution_count": 23,
     "metadata": {},
     "output_type": "execute_result"
    }
   ],
   "source": [
    "halos_stars_dict['004096']"
   ]
  },
  {
   "cell_type": "markdown",
   "id": "4b2dbdb3",
   "metadata": {},
   "source": [
    "### Parallelization Helpers"
   ]
  },
  {
   "cell_type": "code",
   "execution_count": 6,
   "id": "e4935d39",
   "metadata": {},
   "outputs": [],
   "source": [
    "import math\n",
    "import pynbody\n",
    "from multiprocessing import Pool, Lock, Manager, Queue\n",
    "import tqdm.notebook as tqdm\n",
    "\n",
    "progress_queue = None\n",
    "print_lock = None\n",
    "\n",
    "def _init_worker(lock):\n",
    "    \"\"\"Initialize worker with shared lock\"\"\"\n",
    "    global print_lock\n",
    "    print_lock = lock\n",
    "\n",
    "def safe_print(*args, **kwargs):\n",
    "    \"\"\"Thread-safe print function\"\"\"\n",
    "    with print_lock:\n",
    "        print(*args, **kwargs)\n",
    "\n",
    "def safe_update_pbar(pbar, total):\n",
    "    \"\"\"Thread-safe update of progress bar\"\"\"\n",
    "    with print_lock:\n",
    "        pbar.update(total)\n",
    "        pbar.refresh()\n",
    "\n",
    "def create_thread_groups(items, n_threads):\n",
    "    \"\"\"\n",
    "    Split a list of items into groups for parallel processing.\n",
    "    \n",
    "    This function divides a list of items (typically simulation timesteps) into \n",
    "    roughly equal groups that can be processed by different threads or processes\n",
    "    in parallel. It ensures efficient load balancing across available threads.\n",
    "    \n",
    "    Parameters\n",
    "    ----------\n",
    "    items : list or array-like\n",
    "        Items to be processed (e.g., simulation timesteps, file paths)\n",
    "    n_threads : int\n",
    "        Number of threads/processes to use for parallel processing\n",
    "        \n",
    "    Returns\n",
    "    -------\n",
    "    groups : list of lists\n",
    "        Each sublist contains items for one thread to process. The number of\n",
    "        sublists equals min(n_threads, len(items))\n",
    "    \"\"\"\n",
    "    items = list(items)  # Ensure it's a list\n",
    "    n_items = len(items)\n",
    "    \n",
    "    if n_threads >= n_items:\n",
    "        # If more threads than items, give each item its own thread\n",
    "        return [[item] for item in items]\n",
    "    \n",
    "    # Calculate items per thread\n",
    "    items_per_thread = math.ceil(n_items / n_threads)\n",
    "    \n",
    "    groups = []\n",
    "    for i in range(0, n_items, items_per_thread):\n",
    "        group = items[i:i + items_per_thread]\n",
    "        groups.append(group)\n",
    "    \n",
    "    return groups\n",
    "\n",
    "def _parallelize(func, item, index, progress_bar=None):\n",
    "    \"\"\"\n",
    "    Worker function for parallel processing with progress tracking.\n",
    "    \n",
    "    This is an internal helper function used by parallelize_func() to execute\n",
    "    a given function on a group of items while tracking progress. It handles\n",
    "    both single items and lists of items.\n",
    "    \n",
    "    Parameters\n",
    "    ----------\n",
    "    func : callable\n",
    "        Function to apply to each item. Should accept a single argument.\n",
    "    item : object or list\n",
    "        Single item or list of items to process\n",
    "    index : int\n",
    "        Index of the worker process (used for progress bar positioning)\n",
    "    progress_bar : tqdm.tqdm object, optional\n",
    "        Progress bar instance for tracking completion. If None and item is a list,\n",
    "        creates a new progress bar.\n",
    "        \n",
    "    Returns\n",
    "    -------\n",
    "    index : int\n",
    "        Returns the worker index (used for process identification) when done\n",
    "    \"\"\"\n",
    "    if type(item) is not str:\n",
    "        if progress_bar:\n",
    "            global pbar\n",
    "        if not progress_bar:\n",
    "            pbar = tqdm.tqdm(total=len(item), position=index)\n",
    "        for it in item:\n",
    "            func(it)\n",
    "            safe_update_pbar(pbar, 1)\n",
    "        if not progress_bar:\n",
    "            pbar.close()\n",
    "    return index\n",
    "\n",
    "def parallelize_func(func: callable, items, n_threads: int, group_pbar=False):\n",
    "    \"\"\"\n",
    "    Execute a function in parallel across multiple threads with progress tracking.\n",
    "    \n",
    "    This function provides a high-level interface for parallel processing of items\n",
    "    using multiprocessing.Pool. It automatically handles thread group creation,\n",
    "    progress bar management, and process coordination.\n",
    "    \n",
    "    Parameters\n",
    "    ----------\n",
    "    func : callable\n",
    "        Function to apply to each item. Must accept a single argument.\n",
    "        Should be picklable for multiprocessing.\n",
    "    items : list or array-like\n",
    "        Collection of items to process (e.g., file paths, timesteps)\n",
    "    n_threads : int\n",
    "        Number of parallel processes to use\n",
    "    group_pbar : bool, optional\n",
    "        If True, shows one progress bar rather than individual ones per thread.\n",
    "        Default is False.\n",
    "        \n",
    "    Returns\n",
    "    -------\n",
    "    None\n",
    "    \"\"\"\n",
    "    groups = create_thread_groups(items, n_threads)\n",
    "    lock = Lock()\n",
    "    if group_pbar:\n",
    "        global pbar\n",
    "        pbar = tqdm.tqdm(total=len(groups))\n",
    "        with Pool(processes=len(groups), initializer=_init_worker, initargs=(lock,)) as pool:\n",
    "            pool.starmap(_parallelize, [(func, group, i, True) for i, group in enumerate(groups)])\n",
    "    else:\n",
    "        with Pool(processes=n_threads, initializer=_init_worker, initargs=(lock,)) as pool:\n",
    "            pool.starmap(_parallelize, [(func, group, i, None) for i, group in enumerate(groups)])\n",
    "\n",
    "def _process_step(step):\n",
    "    \"\"\"\n",
    "    Process a single simulation timestep to create amiga.grp halo grouping files.\n",
    "    \n",
    "    This function loads a simulation snapshot, identifies halos using pynbody's\n",
    "    halo finder, and writes the halo group information to an amiga.grp file.\n",
    "    \n",
    "    Parameters\n",
    "    ----------\n",
    "    step : str\n",
    "        Timestep identifier/extension (e.g., '004096')\n",
    "        Used to construct the full file path: sim_base + step\n",
    "        \n",
    "    Returns\n",
    "    -------\n",
    "    None\n",
    "        Function operates by side effect, writing amiga.grp files\n",
    "    \"\"\"\n",
    "    path = sim_base + step\n",
    "    # print(path)\n",
    "    # time.sleep(1)\n",
    "    safe_print('Loading <{}>'.format(step))\n",
    "    f = pynbody.load(path)\n",
    "    safe_print('  Loading halos for <{}>'.format(step))\n",
    "    try:\n",
    "        h = f.halos(halo_numbers='v1')\n",
    "        safe_print('    Found halos for <{}>: {}'.format(step, h))\n",
    "        # safe_print('    Writing amiga.grp for <{}>'.format(step))\n",
    "        # f['amiga.grp'] = h.get_group_array()\n",
    "        # f['amiga.grp'].write(overwrite=True)\n",
    "        # safe_print('    Finished writing amiga.grp for <{}>'.format(step))\n",
    "    except Exception as e:\n",
    "        safe_print('  ERROR loading halos for <{}>: {}'.format(step, e))\n"
   ]
  },
  {
   "cell_type": "code",
   "execution_count": 7,
   "id": "bacefb68",
   "metadata": {},
   "outputs": [],
   "source": [
    "import math\n",
    "import time\n",
    "import pynbody\n",
    "from multiprocessing import Pool, Lock\n",
    "import tqdm.notebook as tqdm # Using notebook-compatible tqdm\n",
    "\n",
    "# This should be defined in your main script execution block\n",
    "# sim_base = \"/path/to/your/simulation/data/snapshot_\" \n",
    "\n",
    "# Global lock for safe printing in the multi-pbar case\n",
    "print_lock = None\n",
    "\n",
    "def _init_worker_lock(lock):\n",
    "    \"\"\"Makes the lock global for use in worker processes.\"\"\"\n",
    "    global print_lock\n",
    "    print_lock = lock\n",
    "\n",
    "def safe_print(*args, **kwargs):\n",
    "    \"\"\"Thread-safe print function, requires the lock to be initialized.\"\"\"\n",
    "    with print_lock:\n",
    "        print(*args, **kwargs)\n",
    "\n",
    "def create_thread_groups(items, n_threads):\n",
    "    \"\"\"\n",
    "    Splits a list of items into groups for parallel processing. \n",
    "    (Your implementation is correct and retained).\n",
    "    \"\"\"\n",
    "    items = list(items)\n",
    "    n_items = len(items)\n",
    "    \n",
    "    if n_threads >= n_items:\n",
    "        return [[item] for item in items]\n",
    "    \n",
    "    items_per_thread = math.ceil(n_items / n_threads)\n",
    "    groups = []\n",
    "    for i in range(0, n_items, items_per_thread):\n",
    "        group = items[i:i + items_per_thread]\n",
    "        groups.append(group)\n",
    "    \n",
    "    return groups\n",
    "\n",
    "def worker_task_single_pbar(args):\n",
    "    \"\"\"\n",
    "    Worker for the single-pbar case.\n",
    "    It applies a function to a group of items and returns the number processed.\n",
    "    It does NOT touch any progress bar.\n",
    "    \"\"\"\n",
    "    func, item_group = args\n",
    "    results = []\n",
    "    for item in item_group:\n",
    "        results.append(func(item))\n",
    "    return len(item_group) # Report how many items were processed\n",
    "\n",
    "def worker_task_multi_pbar(args):\n",
    "    \"\"\"\n",
    "    Worker for the multi-pbar case.\n",
    "    It creates and manages its own progress bar for its assigned items.\n",
    "    \"\"\"\n",
    "    func, item_group, index, lock = args\n",
    "    _init_worker_lock(lock) # Initialize lock for this worker\n",
    "    \n",
    "    with tqdm.tqdm(total=len(item_group), position=index, desc=f\"Process {index+1}\") as pbar:\n",
    "        for item in item_group:\n",
    "            func(item)\n",
    "            pbar.update(1)\n",
    "\n",
    "def parallelize_func(func: callable, items, n_threads: int, group_pbar: bool = False):\n",
    "    \"\"\"\n",
    "    Executes a function in parallel with a choice of progress bar display.\n",
    "\n",
    "    Parameters\n",
    "    ----------\n",
    "    func : callable\n",
    "        Function to apply to each item. Must be picklable.\n",
    "    items : list\n",
    "        A list of items to process.\n",
    "    n_threads : int\n",
    "        Number of parallel processes to use.\n",
    "    group_pbar : bool\n",
    "        If True (default), shows one progress bar for the entire task.\n",
    "        If False, shows a separate progress bar for each process.\n",
    "    \"\"\"\n",
    "    groups = create_thread_groups(items, n_threads)\n",
    "    \n",
    "    if group_pbar:\n",
    "        # --- SINGLE, CENTRALIZED PBAR (RACE-CONDITION-FREE) ---\n",
    "        with Pool(processes=n_threads) as pool:\n",
    "            # Create the progress bar in the main process\n",
    "            with tqdm.tqdm(total=len(items), desc=\"Overall Progress\") as pbar:\n",
    "                # pool.imap_unordered processes items and yields results as they complete\n",
    "                # This allows for real-time updates to the progress bar\n",
    "                args_list = [(func, g) for g in groups]\n",
    "                for num_processed in pool.imap_unordered(worker_task_single_pbar, args_list):\n",
    "                    pbar.update(num_processed)\n",
    "    else:\n",
    "        # --- MULTIPLE PBARS (ONE PER PROCESS) ---\n",
    "        lock = Lock()\n",
    "        with Pool(processes=len(groups)) as pool:\n",
    "            args_list = [(func, group, i, lock) for i, group in enumerate(groups)]\n",
    "            pool.map(worker_task_multi_pbar, args_list)\n",
    "\n",
    "# --- Your Specific Processing Function ---\n",
    "def _process_step(step):\n",
    "    \"\"\"\n",
    "    Processes a single simulation timestep.\n",
    "    NOTE: `sim_base` must be a global variable or passed differently.\n",
    "          Making it global is simplest for multiprocessing if it's read-only.\n",
    "    \"\"\"\n",
    "    try:\n",
    "        path = sim_base + step\n",
    "        # Use safe_print if you need console output during processing\n",
    "        # safe_print(f'Loading <{step}>') \n",
    "        f = pynbody.load(path)\n",
    "        h = f.halos(halo_numbers='v1')\n",
    "        # f['amiga.grp'] = h.get_group_array()\n",
    "        # f['amiga.grp'].write(overwrite=True)\n",
    "    except Exception as e:\n",
    "        # It's safer to print errors to see what failed\n",
    "        print(f'ERROR processing step <{step}>: {e}')\n",
    "    return step # Return something to confirm completion\n"
   ]
  },
  {
   "cell_type": "code",
   "execution_count": 8,
   "id": "51e4479e",
   "metadata": {},
   "outputs": [],
   "source": [
    "steps = [step.extension for step in tangos.get_simulation(\"cptmarvel.4096g5HbwK1BH_bn\").timesteps]"
   ]
  },
  {
   "cell_type": "code",
   "execution_count": 11,
   "id": "d3b2c064",
   "metadata": {},
   "outputs": [],
   "source": [
    "parallelize_func(_process_step, steps, n_threads=8, group_pbar=False)"
   ]
  },
  {
   "cell_type": "code",
   "execution_count": 9,
   "id": "c90b182a",
   "metadata": {},
   "outputs": [],
   "source": [
    "# !tangos serve"
   ]
  },
  {
   "cell_type": "markdown",
   "id": "fce882d0",
   "metadata": {},
   "source": [
    "### NEW"
   ]
  },
  {
   "cell_type": "code",
   "execution_count": 49,
   "id": "19361141",
   "metadata": {},
   "outputs": [
    {
     "name": "stdout",
     "output_type": "stream",
     "text": [
      "There are 12546 halos in the snapshot.\n"
     ]
    }
   ],
   "source": [
    "# Get all halos in 004096 snapshot\n",
    "timestep = tangos.get_timestep(\"cptmarvel.4096g5HbwK1BH_bn/%4096\")\n",
    "all_halos = timestep.halos.all()\n",
    "print(\"There are %d halos in the snapshot.\" % len(all_halos))\n",
    "\n",
    "# Filter for halos with stars\n",
    "halos_with_stars = [h for h in all_halos if h.NStar > 0]"
   ]
  },
  {
   "cell_type": "code",
   "execution_count": 86,
   "id": "5de26d8c",
   "metadata": {},
   "outputs": [
    {
     "data": {
      "application/vnd.jupyter.widget-view+json": {
       "model_id": "01827ddea55f40e1829381e754c3608c",
       "version_major": 2,
       "version_minor": 0
      },
      "text/plain": [
       "  0%|          | 0/16 [00:00<?, ?it/s]"
      ]
     },
     "metadata": {},
     "output_type": "display_data"
    },
    {
     "name": "stdout",
     "output_type": "stream",
     "text": [
      "[(<Halo 'cptmarvel.4096g5HbwK1BH_bn/cptmarvel.cosmo25cmb.4096g5HbwK1BH.000384/halo_4' | NDM=119930 Nstar=1372 Ngas=105353>, <Halo 'cptmarvel.4096g5HbwK1BH_bn/cptmarvel.cosmo25cmb.4096g5HbwK1BH.000384/halo_9' | NDM=74503 Nstar=7531 Ngas=58044>), (<Halo 'cptmarvel.4096g5HbwK1BH_bn/cptmarvel.cosmo25cmb.4096g5HbwK1BH.000384/halo_4' | NDM=119930 Nstar=1372 Ngas=105353>, <Halo 'cptmarvel.4096g5HbwK1BH_bn/cptmarvel.cosmo25cmb.4096g5HbwK1BH.000384/halo_8' | NDM=78020 Nstar=2454 Ngas=66317>), (<Halo 'cptmarvel.4096g5HbwK1BH_bn/cptmarvel.cosmo25cmb.4096g5HbwK1BH.000384/halo_4' | NDM=119930 Nstar=1372 Ngas=105353>, <Halo 'cptmarvel.4096g5HbwK1BH_bn/cptmarvel.cosmo25cmb.4096g5HbwK1BH.000384/halo_14' | NDM=23121 Nstar=233 Ngas=34652>)]\n",
      "\n",
      "Main Progenitor z=0 Halo ID: 1\n",
      "There are 3 mergers into the major progenitor branch.\n",
      "\n",
      "Merging Halo 1/3 at Snapshot 000384\n",
      "  Merging Halo ID: 9, NStars: 7531, NGas: 58044\n",
      "  Main Progenitor Halo ID: 4, NStars: 1372, NGas: 105353\n",
      "\n",
      "Merging Halo 2/3 at Snapshot 000384\n",
      "  Merging Halo ID: 8, NStars: 2454, NGas: 66317\n",
      "  Main Progenitor Halo ID: 4, NStars: 1372, NGas: 105353\n",
      "\n",
      "Merging Halo 3/3 at Snapshot 000384\n",
      "  Merging Halo ID: 14, NStars: 233, NGas: 34652\n",
      "  Main Progenitor Halo ID: 4, NStars: 1372, NGas: 105353\n",
      "\n",
      "Saving to /home/selvani/MAP/pynbody/stellarhalo_trace_aw/mergers/cptmarvel.cosmo25cmb.4096g5HbwK1BH.004096_1.csv\n",
      "  snapshot  time_gyr  main_halo_num  merging_halo_num  main_mstar  \\\n",
      "0   000384  1.297294              4                 9      341538   \n",
      "1   000384  1.297294              4                 8      341538   \n",
      "2   000384  1.297294              4                14      341538   \n",
      "\n",
      "   merging_mstar    main_mvir  merging_mvir    main_mgas  merging_mgas  \\\n",
      "0      1770360.0  691415000.0   423114000.0  107928000.0    59082000.0   \n",
      "1       654588.0  691415000.0   447744000.0  107928000.0    67726200.0   \n",
      "2        62020.7  691415000.0   148012000.0  107928000.0    35526900.0   \n",
      "\n",
      "   redshift  main_haloid  merging_haloid  \n",
      "0  4.812712       166574          166579  \n",
      "1  4.812712       166574          166578  \n",
      "2  4.812712       166574          166584  \n",
      "[(<Halo 'cptmarvel.4096g5HbwK1BH_bn/cptmarvel.cosmo25cmb.4096g5HbwK1BH.001280/halo_2' | NDM=883319 Nstar=22197 Ngas=386032>, <Halo 'cptmarvel.4096g5HbwK1BH_bn/cptmarvel.cosmo25cmb.4096g5HbwK1BH.001280/halo_17' | NDM=70197 Nstar=1072 Ngas=45664>), (<Halo 'cptmarvel.4096g5HbwK1BH_bn/cptmarvel.cosmo25cmb.4096g5HbwK1BH.001162/halo_2' | NDM=803026 Nstar=20899 Ngas=344816>, <Halo 'cptmarvel.4096g5HbwK1BH_bn/cptmarvel.cosmo25cmb.4096g5HbwK1BH.001162/halo_14' | NDM=88287 Nstar=887 Ngas=40851>), (<Halo 'cptmarvel.4096g5HbwK1BH_bn/cptmarvel.cosmo25cmb.4096g5HbwK1BH.001025/halo_2' | NDM=668515 Nstar=19077 Ngas=329823>, <Halo 'cptmarvel.4096g5HbwK1BH_bn/cptmarvel.cosmo25cmb.4096g5HbwK1BH.001025/halo_13' | NDM=92262 Nstar=780 Ngas=40409>), (<Halo 'cptmarvel.4096g5HbwK1BH_bn/cptmarvel.cosmo25cmb.4096g5HbwK1BH.000896/halo_4' | NDM=430786 Nstar=15427 Ngas=198415>, <Halo 'cptmarvel.4096g5HbwK1BH_bn/cptmarvel.cosmo25cmb.4096g5HbwK1BH.000896/halo_12' | NDM=120238 Nstar=517 Ngas=40905>)]\n",
      "\n",
      "Main Progenitor z=0 Halo ID: 2\n",
      "There are 4 mergers into the major progenitor branch.\n",
      "\n",
      "Merging Halo 1/4 at Snapshot 001280\n",
      "  Merging Halo ID: 17, NStars: 1072, NGas: 45664\n",
      "  Main Progenitor Halo ID: 2, NStars: 22197, NGas: 386032\n",
      "\n",
      "Merging Halo 2/4 at Snapshot 001162\n",
      "  Merging Halo ID: 14, NStars: 887, NGas: 40851\n",
      "  Main Progenitor Halo ID: 2, NStars: 20899, NGas: 344816\n",
      "\n",
      "Merging Halo 3/4 at Snapshot 001025\n",
      "  Merging Halo ID: 13, NStars: 780, NGas: 40409\n",
      "  Main Progenitor Halo ID: 2, NStars: 19077, NGas: 329823\n",
      "\n",
      "Merging Halo 4/4 at Snapshot 000896\n",
      "  Merging Halo ID: 12, NStars: 517, NGas: 40905\n",
      "  Main Progenitor Halo ID: 4, NStars: 15427, NGas: 198415\n",
      "\n",
      "Saving to /home/selvani/MAP/pynbody/stellarhalo_trace_aw/mergers/cptmarvel.cosmo25cmb.4096g5HbwK1BH.004096_2.csv\n",
      "  snapshot  time_gyr  main_halo_num  merging_halo_num  main_mstar  \\\n",
      "0   000896  3.012346              4                12   3300230.0   \n",
      "1   001025  3.444459              2                13   4111270.0   \n",
      "2   001162  3.903370              2                14   4366210.0   \n",
      "3   001280  4.298636              2                17   4599960.0   \n",
      "\n",
      "   merging_mstar     main_mvir  merging_mvir    main_mgas  merging_mgas  \\\n",
      "0         116547  2.300080e+09   626652000.0  202134000.0    41892100.0   \n",
      "1         174372  3.591020e+09   490111000.0  336337000.0    41324000.0   \n",
      "2         188892  4.260550e+09   471174000.0  351561000.0    41699900.0   \n",
      "3         229014  4.694470e+09   388176000.0  393715000.0    46622400.0   \n",
      "\n",
      "   redshift  main_haloid  merging_haloid  \n",
      "0  2.289126       447357          447365  \n",
      "1  1.999129       275557          275568  \n",
      "2  1.749447        12854           12866  \n",
      "3  1.569467       415234          415249  \n",
      "[(<Halo 'cptmarvel.4096g5HbwK1BH_bn/cptmarvel.cosmo25cmb.4096g5HbwK1BH.002176/halo_3' | NDM=969928 Nstar=16041 Ngas=332668>, <Halo 'cptmarvel.4096g5HbwK1BH_bn/cptmarvel.cosmo25cmb.4096g5HbwK1BH.002176/halo_49' | NDM=33012 Nstar=24 Ngas=0>), (<Halo 'cptmarvel.4096g5HbwK1BH_bn/cptmarvel.cosmo25cmb.4096g5HbwK1BH.002048/halo_3' | NDM=920062 Nstar=14957 Ngas=316636>, <Halo 'cptmarvel.4096g5HbwK1BH_bn/cptmarvel.cosmo25cmb.4096g5HbwK1BH.002048/halo_29' | NDM=25270 Nstar=5659 Ngas=20297>), (<Halo 'cptmarvel.4096g5HbwK1BH_bn/cptmarvel.cosmo25cmb.4096g5HbwK1BH.001920/halo_3' | NDM=922718 Nstar=14351 Ngas=334619>, <Halo 'cptmarvel.4096g5HbwK1BH_bn/cptmarvel.cosmo25cmb.4096g5HbwK1BH.001920/halo_17' | NDM=94164 Nstar=5376 Ngas=36068>), (<Halo 'cptmarvel.4096g5HbwK1BH_bn/cptmarvel.cosmo25cmb.4096g5HbwK1BH.001813/halo_3' | NDM=903860 Nstar=14304 Ngas=325336>, <Halo 'cptmarvel.4096g5HbwK1BH_bn/cptmarvel.cosmo25cmb.4096g5HbwK1BH.001813/halo_14' | NDM=131705 Nstar=5329 Ngas=43034>), (<Halo 'cptmarvel.4096g5HbwK1BH_bn/cptmarvel.cosmo25cmb.4096g5HbwK1BH.001543/halo_5' | NDM=600069 Nstar=12481 Ngas=127556>, <Halo 'cptmarvel.4096g5HbwK1BH_bn/cptmarvel.cosmo25cmb.4096g5HbwK1BH.001543/halo_12' | NDM=172995 Nstar=8754 Ngas=48378>), (<Halo 'cptmarvel.4096g5HbwK1BH_bn/cptmarvel.cosmo25cmb.4096g5HbwK1BH.001408/halo_10' | NDM=267573 Nstar=5082 Ngas=51265>, <Halo 'cptmarvel.4096g5HbwK1BH_bn/cptmarvel.cosmo25cmb.4096g5HbwK1BH.001408/halo_6' | NDM=375482 Nstar=7922 Ngas=77883>)]\n",
      "\n",
      "Main Progenitor z=0 Halo ID: 4\n",
      "There are 6 mergers into the major progenitor branch.\n",
      "\n",
      "Merging Halo 1/6 at Snapshot 002176\n",
      "  Merging Halo ID: 49, NStars: 24, NGas: 0\n",
      "  Main Progenitor Halo ID: 3, NStars: 16041, NGas: 332668\n",
      "\n",
      "Merging Halo 2/6 at Snapshot 002048\n",
      "  Merging Halo ID: 29, NStars: 5659, NGas: 20297\n",
      "  Main Progenitor Halo ID: 3, NStars: 14957, NGas: 316636\n",
      "\n",
      "Merging Halo 3/6 at Snapshot 001920\n",
      "  Merging Halo ID: 17, NStars: 5376, NGas: 36068\n",
      "  Main Progenitor Halo ID: 3, NStars: 14351, NGas: 334619\n",
      "\n",
      "Merging Halo 4/6 at Snapshot 001813\n",
      "  Merging Halo ID: 14, NStars: 5329, NGas: 43034\n",
      "  Main Progenitor Halo ID: 3, NStars: 14304, NGas: 325336\n",
      "\n",
      "Merging Halo 5/6 at Snapshot 001543\n",
      "  Merging Halo ID: 12, NStars: 8754, NGas: 48378\n",
      "  Main Progenitor Halo ID: 5, NStars: 12481, NGas: 127556\n",
      "\n",
      "Merging Halo 6/6 at Snapshot 001408\n",
      "  Merging Halo ID: 6, NStars: 7922, NGas: 77883\n",
      "  Main Progenitor Halo ID: 10, NStars: 5082, NGas: 51265\n",
      "\n",
      "Saving to /home/selvani/MAP/pynbody/stellarhalo_trace_aw/mergers/cptmarvel.cosmo25cmb.4096g5HbwK1BH.004096_4.csv\n",
      "  snapshot  time_gyr  main_halo_num  merging_halo_num  main_mstar  \\\n",
      "0   001408  4.727399             10                 6   1003120.0   \n",
      "1   001543  5.179610              5                12   2510220.0   \n",
      "2   001813  6.084032              3                14   2806690.0   \n",
      "3   001920  6.442451              3                17   2798840.0   \n",
      "4   002048  6.871214              3                29   2929150.0   \n",
      "5   002176  7.299977              3                49   3161860.0   \n",
      "\n",
      "   merging_mstar     main_mvir  merging_mvir    main_mgas  merging_mgas  \\\n",
      "0     1579930.00  1.354440e+09  1.906820e+09   52395700.0    79499900.0   \n",
      "1     1781540.00  3.050670e+09  8.921660e+08  130391000.0    49216500.0   \n",
      "2     1037470.00  4.730510e+09  6.854230e+08  332791000.0    43985300.0   \n",
      "3     1043200.00  4.831720e+09  4.957760e+08  342317000.0    36871500.0   \n",
      "4     1108410.00  4.800340e+09  1.447170e+08  323721000.0    20736600.0   \n",
      "5        4574.85  5.059340e+09  1.605220e+08  340016000.0           0.0   \n",
      "\n",
      "   redshift  main_haloid  merging_haloid  \n",
      "0  1.401919        48895           48891  \n",
      "1  1.249468        25101           25108  \n",
      "2  0.999361       249947          249958  \n",
      "3  0.915594       313375          313389  \n",
      "4  0.824293            3              29  \n",
      "5  0.741248       338810          338856  \n",
      "[(<Halo 'cptmarvel.4096g5HbwK1BH_bn/cptmarvel.cosmo25cmb.4096g5HbwK1BH.000672/halo_2' | NDM=509459 Nstar=20379 Ngas=302514>, <Halo 'cptmarvel.4096g5HbwK1BH_bn/cptmarvel.cosmo25cmb.4096g5HbwK1BH.000672/halo_121' | NDM=7478 Nstar=182 Ngas=0>), (<Halo 'cptmarvel.4096g5HbwK1BH_bn/cptmarvel.cosmo25cmb.4096g5HbwK1BH.000640/halo_2' | NDM=466269 Nstar=16692 Ngas=309729>, <Halo 'cptmarvel.4096g5HbwK1BH_bn/cptmarvel.cosmo25cmb.4096g5HbwK1BH.000640/halo_67' | NDM=14706 Nstar=183 Ngas=0>), (<Halo 'cptmarvel.4096g5HbwK1BH_bn/cptmarvel.cosmo25cmb.4096g5HbwK1BH.000512/halo_2' | NDM=356972 Nstar=8544 Ngas=264119>, <Halo 'cptmarvel.4096g5HbwK1BH_bn/cptmarvel.cosmo25cmb.4096g5HbwK1BH.000512/halo_23' | NDM=31804 Nstar=183 Ngas=237>), (<Halo 'cptmarvel.4096g5HbwK1BH_bn/cptmarvel.cosmo25cmb.4096g5HbwK1BH.000482/halo_2' | NDM=312065 Nstar=7702 Ngas=227120>, <Halo 'cptmarvel.4096g5HbwK1BH_bn/cptmarvel.cosmo25cmb.4096g5HbwK1BH.000482/halo_17' | NDM=41232 Nstar=183 Ngas=340>), (<Halo 'cptmarvel.4096g5HbwK1BH_bn/cptmarvel.cosmo25cmb.4096g5HbwK1BH.000384/halo_2' | NDM=189754 Nstar=6046 Ngas=94367>, <Halo 'cptmarvel.4096g5HbwK1BH_bn/cptmarvel.cosmo25cmb.4096g5HbwK1BH.000384/halo_16' | NDM=43365 Nstar=183 Ngas=1336>)]\n",
      "\n",
      "Main Progenitor z=0 Halo ID: 5\n",
      "There are 5 mergers into the major progenitor branch.\n",
      "\n",
      "Merging Halo 1/5 at Snapshot 000672\n",
      "  Merging Halo ID: 121, NStars: 182, NGas: 0\n",
      "  Main Progenitor Halo ID: 2, NStars: 20379, NGas: 302514\n",
      "\n",
      "Merging Halo 2/5 at Snapshot 000640\n",
      "  Merging Halo ID: 67, NStars: 183, NGas: 0\n",
      "  Main Progenitor Halo ID: 2, NStars: 16692, NGas: 309729\n",
      "\n",
      "Merging Halo 3/5 at Snapshot 000512\n",
      "  Merging Halo ID: 23, NStars: 183, NGas: 237\n",
      "  Main Progenitor Halo ID: 2, NStars: 8544, NGas: 264119\n",
      "\n",
      "Merging Halo 4/5 at Snapshot 000482\n",
      "  Merging Halo ID: 17, NStars: 183, NGas: 340\n",
      "  Main Progenitor Halo ID: 2, NStars: 7702, NGas: 227120\n",
      "\n",
      "Merging Halo 5/5 at Snapshot 000384\n",
      "  Merging Halo ID: 16, NStars: 183, NGas: 1336\n",
      "  Main Progenitor Halo ID: 2, NStars: 6046, NGas: 94367\n",
      "\n",
      "Saving to /home/selvani/MAP/pynbody/stellarhalo_trace_aw/mergers/cptmarvel.cosmo25cmb.4096g5HbwK1BH.004096_5.csv\n",
      "  snapshot  time_gyr  main_halo_num  merging_halo_num  main_mstar  \\\n",
      "0   000384  1.297294              2                16   1449220.0   \n",
      "1   000482  1.625566              2                17   1862440.0   \n",
      "2   000512  1.726057              2                23   2053440.0   \n",
      "3   000640  2.154820              2                67   3885400.0   \n",
      "4   000672  2.262011              2               121   4709240.0   \n",
      "\n",
      "   merging_mstar     main_mvir  merging_mvir    main_mgas  merging_mgas  \\\n",
      "0         156653  1.020340e+09   212386000.0   96229400.0     1372340.0   \n",
      "1         155910  1.751660e+09   200990000.0  232419000.0      348391.0   \n",
      "2         155728  2.008030e+09   155041000.0  270237000.0      242262.0   \n",
      "3         155104  2.587030e+09    71661300.0  315968000.0           0.0   \n",
      "4         154775  2.790270e+09    36515700.0  308373000.0           0.0   \n",
      "\n",
      "   redshift  main_haloid  merging_haloid  \n",
      "0  4.812712       166572          166586  \n",
      "1  3.996057       427682          427697  \n",
      "2  3.798503       131841          131862  \n",
      "3  3.131475       497300          497365  \n",
      "4  2.997904       436769          436888  \n",
      "[(<Halo 'cptmarvel.4096g5HbwK1BH_bn/cptmarvel.cosmo25cmb.4096g5HbwK1BH.000199/halo_1' | NDM=63280 Nstar=3013 Ngas=29598>, <Halo 'cptmarvel.4096g5HbwK1BH_bn/cptmarvel.cosmo25cmb.4096g5HbwK1BH.000199/halo_32' | NDM=5976 Nstar=22 Ngas=1648>)]\n",
      "\n",
      "Main Progenitor z=0 Halo ID: 6\n",
      "There are 1 mergers into the major progenitor branch.\n",
      "\n",
      "Merging Halo 1/1 at Snapshot 000199\n",
      "  Merging Halo ID: 32, NStars: 22, NGas: 1648\n",
      "  Main Progenitor Halo ID: 1, NStars: 3013, NGas: 29598\n",
      "\n",
      "Saving to /home/selvani/MAP/pynbody/stellarhalo_trace_aw/mergers/cptmarvel.cosmo25cmb.4096g5HbwK1BH.004096_6.csv\n",
      "  snapshot  time_gyr  main_halo_num  merging_halo_num  main_mstar  \\\n",
      "0   000199  0.677597              1                32      704125   \n",
      "\n",
      "   merging_mstar  main_mvir  merging_mvir   main_mgas  merging_mgas  redshift  \\\n",
      "0        5336.71        NaN           NaN  30235600.0     1691220.0  7.973992   \n",
      "\n",
      "   main_haloid  merging_haloid  \n",
      "0       507725          507756  \n",
      "[(<Halo 'cptmarvel.4096g5HbwK1BH_bn/cptmarvel.cosmo25cmb.4096g5HbwK1BH.001813/halo_6' | NDM=544805 Nstar=2255 Ngas=74651>, <Halo 'cptmarvel.4096g5HbwK1BH_bn/cptmarvel.cosmo25cmb.4096g5HbwK1BH.001813/halo_160' | NDM=7653 Nstar=7 Ngas=505>)]\n",
      "\n",
      "Main Progenitor z=0 Halo ID: 7\n",
      "There are 1 mergers into the major progenitor branch.\n",
      "\n",
      "Merging Halo 1/1 at Snapshot 001813\n",
      "  Merging Halo ID: 160, NStars: 7, NGas: 505\n",
      "  Main Progenitor Halo ID: 6, NStars: 2255, NGas: 74651\n",
      "\n",
      "Saving to /home/selvani/MAP/pynbody/stellarhalo_trace_aw/mergers/cptmarvel.cosmo25cmb.4096g5HbwK1BH.004096_7.csv\n",
      "  snapshot  time_gyr  main_halo_num  merging_halo_num  main_mstar  \\\n",
      "0   001813  6.084032              6               160      436596   \n",
      "\n",
      "   merging_mstar     main_mvir  merging_mvir   main_mgas  merging_mgas  \\\n",
      "0        1356.67  2.725960e+09    37731800.0  76477900.0        518614   \n",
      "\n",
      "   redshift  main_haloid  merging_haloid  \n",
      "0  0.999361       249950          250104  \n",
      "[]\n",
      "[(<Halo 'cptmarvel.4096g5HbwK1BH_bn/cptmarvel.cosmo25cmb.4096g5HbwK1BH.001408/halo_7' | NDM=405951 Nstar=11867 Ngas=20355>, <Halo 'cptmarvel.4096g5HbwK1BH_bn/cptmarvel.cosmo25cmb.4096g5HbwK1BH.001408/halo_158' | NDM=8082 Nstar=39 Ngas=0>), (<Halo 'cptmarvel.4096g5HbwK1BH_bn/cptmarvel.cosmo25cmb.4096g5HbwK1BH.001331/halo_6' | NDM=398958 Nstar=11867 Ngas=26138>, <Halo 'cptmarvel.4096g5HbwK1BH_bn/cptmarvel.cosmo25cmb.4096g5HbwK1BH.001331/halo_98' | NDM=14792 Nstar=39 Ngas=0>), (<Halo 'cptmarvel.4096g5HbwK1BH_bn/cptmarvel.cosmo25cmb.4096g5HbwK1BH.001280/halo_6' | NDM=381493 Nstar=11867 Ngas=27233>, <Halo 'cptmarvel.4096g5HbwK1BH_bn/cptmarvel.cosmo25cmb.4096g5HbwK1BH.001280/halo_84' | NDM=17269 Nstar=39 Ngas=0>), (<Halo 'cptmarvel.4096g5HbwK1BH_bn/cptmarvel.cosmo25cmb.4096g5HbwK1BH.001162/halo_7' | NDM=343498 Nstar=11866 Ngas=25045>, <Halo 'cptmarvel.4096g5HbwK1BH_bn/cptmarvel.cosmo25cmb.4096g5HbwK1BH.001162/halo_72' | NDM=19907 Nstar=39 Ngas=0>), (<Halo 'cptmarvel.4096g5HbwK1BH_bn/cptmarvel.cosmo25cmb.4096g5HbwK1BH.001152/halo_7' | NDM=339800 Nstar=11866 Ngas=25154>, <Halo 'cptmarvel.4096g5HbwK1BH_bn/cptmarvel.cosmo25cmb.4096g5HbwK1BH.001152/halo_62' | NDM=24057 Nstar=39 Ngas=0>), (<Halo 'cptmarvel.4096g5HbwK1BH_bn/cptmarvel.cosmo25cmb.4096g5HbwK1BH.001025/halo_8' | NDM=264563 Nstar=11828 Ngas=24176>, <Halo 'cptmarvel.4096g5HbwK1BH_bn/cptmarvel.cosmo25cmb.4096g5HbwK1BH.001025/halo_28' | NDM=40286 Nstar=39 Ngas=0>), (<Halo 'cptmarvel.4096g5HbwK1BH_bn/cptmarvel.cosmo25cmb.4096g5HbwK1BH.000291/halo_5' | NDM=61854 Nstar=468 Ngas=54515>, <Halo 'cptmarvel.4096g5HbwK1BH_bn/cptmarvel.cosmo25cmb.4096g5HbwK1BH.000291/halo_12' | NDM=37697 Nstar=6 Ngas=8302>)]\n",
      "\n",
      "Main Progenitor z=0 Halo ID: 10\n",
      "There are 7 mergers into the major progenitor branch.\n",
      "\n",
      "Merging Halo 1/7 at Snapshot 001408\n",
      "  Merging Halo ID: 158, NStars: 39, NGas: 0\n",
      "  Main Progenitor Halo ID: 7, NStars: 11867, NGas: 20355\n",
      "\n",
      "Merging Halo 2/7 at Snapshot 001331\n",
      "  Merging Halo ID: 98, NStars: 39, NGas: 0\n",
      "  Main Progenitor Halo ID: 6, NStars: 11867, NGas: 26138\n",
      "\n",
      "Merging Halo 3/7 at Snapshot 001280\n",
      "  Merging Halo ID: 84, NStars: 39, NGas: 0\n",
      "  Main Progenitor Halo ID: 6, NStars: 11867, NGas: 27233\n",
      "\n",
      "Merging Halo 4/7 at Snapshot 001162\n",
      "  Merging Halo ID: 72, NStars: 39, NGas: 0\n",
      "  Main Progenitor Halo ID: 7, NStars: 11866, NGas: 25045\n",
      "\n",
      "Merging Halo 5/7 at Snapshot 001152\n",
      "  Merging Halo ID: 62, NStars: 39, NGas: 0\n",
      "  Main Progenitor Halo ID: 7, NStars: 11866, NGas: 25154\n",
      "\n",
      "Merging Halo 6/7 at Snapshot 001025\n",
      "  Merging Halo ID: 28, NStars: 39, NGas: 0\n",
      "  Main Progenitor Halo ID: 8, NStars: 11828, NGas: 24176\n",
      "\n",
      "Merging Halo 7/7 at Snapshot 000291\n",
      "  Merging Halo ID: 12, NStars: 6, NGas: 8302\n",
      "  Main Progenitor Halo ID: 5, NStars: 468, NGas: 54515\n",
      "\n",
      "Saving to /home/selvani/MAP/pynbody/stellarhalo_trace_aw/mergers/cptmarvel.cosmo25cmb.4096g5HbwK1BH.004096_10.csv\n",
      "  snapshot  time_gyr  main_halo_num  merging_halo_num  main_mstar  \\\n",
      "0   000291  0.985771              5                12    112947.0   \n",
      "1   001025  3.444459              8                28   2665410.0   \n",
      "2   001152  3.869872              7                62   2640260.0   \n",
      "3   001162  3.903370              7                72   2638030.0   \n",
      "4   001280  4.298636              6                84   2614680.0   \n",
      "5   001331  4.469471              6                98   2605820.0   \n",
      "6   001408  4.727399              7               158   2593630.0   \n",
      "\n",
      "   merging_mstar     main_mvir  merging_mvir   main_mgas  merging_mgas  \\\n",
      "0      246017.00  3.567590e+08   192068000.0  55888200.0     8525180.0   \n",
      "1        7690.19  1.313750e+09   195894000.0  24677100.0           0.0   \n",
      "2        7627.54  1.680600e+09   116982000.0  25721700.0           0.0   \n",
      "3        7623.05  1.698470e+09    96803100.0  25615300.0           0.0   \n",
      "4        7573.99  1.885450e+09    83976100.0  27874900.0           0.0   \n",
      "5        7554.78  1.969240e+09    71931900.0  26746000.0           0.0   \n",
      "6        7527.70  1.997310e+09    39305300.0  20829300.0           0.0   \n",
      "\n",
      "   redshift  main_haloid  merging_haloid  \n",
      "0  5.985764        86887           86894  \n",
      "1  1.999129       275563          275583  \n",
      "2  1.766045       364491          364546  \n",
      "3  1.749447        12859           12924  \n",
      "4  1.569467       415238          415316  \n",
      "5  1.499648        74377           74469  \n",
      "6  1.401919        48892           49043  \n",
      "[]\n",
      "[]\n",
      "[]\n",
      "[(<Halo 'cptmarvel.4096g5HbwK1BH_bn/cptmarvel.cosmo25cmb.4096g5HbwK1BH.001408/halo_13' | NDM=133966 Nstar=784 Ngas=69646>, <Halo 'cptmarvel.4096g5HbwK1BH_bn/cptmarvel.cosmo25cmb.4096g5HbwK1BH.001408/halo_154' | NDM=2694 Nstar=784 Ngas=4814>)]\n",
      "\n",
      "Main Progenitor z=0 Halo ID: 16\n",
      "There are 1 mergers into the major progenitor branch.\n",
      "\n",
      "Merging Halo 1/1 at Snapshot 001408\n",
      "  Merging Halo ID: 154, NStars: 784, NGas: 4814\n",
      "  Main Progenitor Halo ID: 13, NStars: 784, NGas: 69646\n",
      "\n",
      "Saving to /home/selvani/MAP/pynbody/stellarhalo_trace_aw/mergers/cptmarvel.cosmo25cmb.4096g5HbwK1BH.004096_16.csv\n",
      "  snapshot  time_gyr  main_halo_num  merging_halo_num  main_mstar  \\\n",
      "0   001408  4.727399             13               154      158678   \n",
      "\n",
      "   merging_mstar     main_mvir  merging_mvir   main_mgas  merging_mgas  \\\n",
      "0         158678  3.438190e+09   217587000.0  71379100.0     4908060.0   \n",
      "\n",
      "   redshift  main_haloid  merging_haloid  \n",
      "0  1.401919        48898           49039  \n",
      "[]\n",
      "[]\n",
      "[]\n",
      "[]\n"
     ]
    }
   ],
   "source": [
    "import warnings\n",
    "from sqlalchemy.exc import SAWarning\n",
    "import tangos.examples.mergers as mergers\n",
    "import pandas as pd\n",
    "\n",
    "warnings.filterwarnings(\"ignore\", category=SAWarning)\n",
    "\n",
    "for halo in tqdm.tqdm(halos_with_stars):\n",
    "    datab = pd.DataFrame(columns=[\"snapshot\", \"time_gyr\", \"main_halo_num\", \"merging_halo_num\", \"main_mstar\", \"merging_mstar\", \"main_mvir\", \"merging_mvir\", \"main_mgas\", \"merging_mgas\", \"redshift\", \"main_haloid\", \"merging_haloid\"])\n",
    "    save_path = outfile_dir + 'mergers/' + halo.timestep.extension + '_' + str(halo.halo_number) + '.csv'\n",
    "    # print(\"\\nMain Progenitor z=0 Halo ID: %s\" % (halo.halo_number))\n",
    "    redshift, ratio, progenitor_halos = mergers.get_mergers_of_major_progenitor(halo)\n",
    "    # each item of progenitor_halos is a pair; the first is the major progenitor, the second is the thing merging into it\n",
    "    progenitor_halos = [x for x in progenitor_halos if x[1].NStar > 0]\n",
    "    print(progenitor_halos)\n",
    "    merging_structures = [x[1] for x in progenitor_halos if x[1].NStar > 0]\n",
    "    main_structures = [x[0] for x in progenitor_halos if x[0].NStar > 0]\n",
    "    if len(merging_structures) == 0:\n",
    "        continue\n",
    "    else:\n",
    "        print(\"\\nMain Progenitor z=0 Halo ID: %s\" % (halo.halo_number))\n",
    "        print(\"There are %d mergers into the major progenitor branch.\\n\" % len(merging_structures))\n",
    "\n",
    "        for i, merging_halo in enumerate(merging_structures):\n",
    "            snapshot = merging_halo.timestep.extension[-6:]\n",
    "            print(\"Merging Halo %d/%d at Snapshot %s\" % (i+1, len(merging_structures), snapshot))\n",
    "            try:\n",
    "                merging_mvir = merging_halo['Mvir']\n",
    "            except:\n",
    "                merging_mvir = np.nan\n",
    "            try:\n",
    "                main_mvir = progenitor_halos[i][0]['Mvir']\n",
    "            except:\n",
    "                main_mvir = np.nan\n",
    "            row = [snapshot, merging_halo.timestep.time_gyr, \n",
    "                   main_structures[i].halo_number, merging_halo.halo_number, \n",
    "                   main_structures[i]['M_star'], merging_halo['M_star'], \n",
    "                   main_mvir, merging_mvir, \n",
    "                   main_structures[i]['M_gas'], merging_halo['M_gas'], \n",
    "                   merging_halo.timestep.redshift,\n",
    "                   main_structures[i].id, merging_halo.id]\n",
    "\n",
    "            datab.loc[len(datab)] = row\n",
    "\n",
    "            merging_halo_num = merging_halo.halo_number\n",
    "            progenitor_halo_num = main_structures[i].halo_number\n",
    "            # print(merging_halo.keys())\n",
    "            # print(\"  Mass: %f\" % merging_halo['Mvir'])\n",
    "            print(\"  Merging Halo ID: %s, NStars: %d, NGas: %d\" % (merging_halo_num, merging_halo.NStar, merging_halo.NGas))\n",
    "            print(\"  Main Progenitor Halo ID: %s, NStars: %d, NGas: %d\" % (progenitor_halo_num, main_structures[i].NStar, main_structures[i].NGas))\n",
    "            # print(\"  Redshift: %f\" % redshift[i])\n",
    "            # print(\"  Ratio: %f\" % ratio[i])\n",
    "            print()\n",
    "        # sort by time_gyr\n",
    "        datab = datab.sort_values(by=\"time_gyr\",ignore_index=True)\n",
    "        print(\"Saving to %s\" % save_path)\n",
    "        datab.to_csv(save_path, index=False)\n",
    "        print(datab)"
   ]
  },
  {
   "cell_type": "code",
   "execution_count": 69,
   "id": "8cfd8ecd",
   "metadata": {},
   "outputs": [
    {
     "data": {
      "text/plain": [
       "0"
      ]
     },
     "execution_count": 69,
     "metadata": {},
     "output_type": "execute_result"
    }
   ],
   "source": [
    "len(merging_structures)"
   ]
  },
  {
   "cell_type": "code",
   "execution_count": 60,
   "id": "bd199088",
   "metadata": {},
   "outputs": [
    {
     "data": {
      "text/plain": [
       "[<HaloProperty Xc=9.24e+03 of <Halo 32 of ...>>,\n",
       " <HaloProperty Yc=8.95e+03 of <Halo 32 of ...>>,\n",
       " <HaloProperty Zc=9.20e+03 of <Halo 32 of ...>>,\n",
       " <HaloProperty VXc=-9.98e+00 of <Halo 32 of ...>>,\n",
       " <HaloProperty VYc=-8.00e-02 of <Halo 32 of ...>>,\n",
       " <HaloProperty VZc=2.22e+01 of <Halo 32 of ...>>,\n",
       " <HaloProperty Vmax=1.26e+01 of <Halo 32 of ...>>,\n",
       " <HaloProperty fMhires=1.00e+00 of <Halo 32 of ...>>,\n",
       " <HaloProperty M_gas=1.69e+06 of <Halo 32 of ...>>,\n",
       " <HaloProperty M_star=5.34e+03 of <Halo 32 of ...>>,\n",
       " <HaloProperty n_gas=1648 of <Halo 32 of ...>>,\n",
       " <HaloProperty n_star=22 of <Halo 32 of ...>>,\n",
       " <HaloProperty n_dm=5976 of <Halo 32 of ...>>,\n",
       " <HaloProperty npart=7646 of <Halo 32 of ...>>,\n",
       " <HaloProperty shrink_center (array) of <Halo 32 of ...>>,\n",
       " <HaloProperty max_radius=1.32e+00 of <Halo 32 of ...>>]"
      ]
     },
     "execution_count": 60,
     "metadata": {},
     "output_type": "execute_result"
    }
   ],
   "source": [
    "merging_halo.all_properties"
   ]
  },
  {
   "cell_type": "code",
   "execution_count": 74,
   "id": "cc44a053",
   "metadata": {},
   "outputs": [
    {
     "ename": "IndexError",
     "evalue": "list index out of range",
     "output_type": "error",
     "traceback": [
      "\u001b[31m---------------------------------------------------------------------------\u001b[39m",
      "\u001b[31mIndexError\u001b[39m                                Traceback (most recent call last)",
      "\u001b[36mCell\u001b[39m\u001b[36m \u001b[39m\u001b[32mIn[74]\u001b[39m\u001b[32m, line 1\u001b[39m\n\u001b[32m----> \u001b[39m\u001b[32m1\u001b[39m progenitor_halos[i][\u001b[32m0\u001b[39m].timestep\n",
      "\u001b[31mIndexError\u001b[39m: list index out of range"
     ]
    }
   ],
   "source": [
    "progenitor_halos[i][0].timestep"
   ]
  },
  {
   "cell_type": "code",
   "execution_count": 77,
   "id": "5b90430c",
   "metadata": {},
   "outputs": [
    {
     "data": {
      "text/plain": [
       "4.812711810726945"
      ]
     },
     "execution_count": 77,
     "metadata": {},
     "output_type": "execute_result"
    }
   ],
   "source": [
    "halodict['000384'][0].timestep.redshift"
   ]
  },
  {
   "cell_type": "code",
   "execution_count": 9,
   "id": "5e451144",
   "metadata": {},
   "outputs": [
    {
     "data": {
      "application/vnd.jupyter.widget-view+json": {
       "model_id": "6b21bb683aff43038251fd9cd331b34c",
       "version_major": 2,
       "version_minor": 0
      },
      "text/plain": [
       "  0%|          | 0/16 [00:00<?, ?it/s]"
      ]
     },
     "metadata": {},
     "output_type": "display_data"
    },
    {
     "name": "stdout",
     "output_type": "stream",
     "text": [
      "\n",
      "Main Progenitor z=0 Halo ID: 1\n",
      "There are 3 mergers into the major progenitor branch.\n",
      "\n",
      "Merging Halo 1/3 at Snapshot 000384\n",
      "  Merging Halo ID: 9, NStars: 7531, NGas: 58044\n",
      "  Main Progenitor Halo ID: 1, NStars: 163833, NGas: 346127\n",
      "\n",
      "Merging Halo 2/3 at Snapshot 000384\n",
      "  Merging Halo ID: 8, NStars: 2454, NGas: 66317\n",
      "  Main Progenitor Halo ID: 1, NStars: 110643, NGas: 372171\n",
      "\n",
      "Merging Halo 3/3 at Snapshot 000384\n",
      "  Merging Halo ID: 14, NStars: 233, NGas: 34652\n",
      "  Main Progenitor Halo ID: 1, NStars: 88821, NGas: 311008\n",
      "\n",
      "\n",
      "Main Progenitor z=0 Halo ID: 2\n",
      "There are 4 mergers into the major progenitor branch.\n",
      "\n",
      "Merging Halo 1/4 at Snapshot 001280\n",
      "  Merging Halo ID: 17, NStars: 1072, NGas: 45664\n",
      "  Main Progenitor Halo ID: 2, NStars: 44474, NGas: 518779\n",
      "\n",
      "Merging Halo 2/4 at Snapshot 001162\n",
      "  Merging Halo ID: 14, NStars: 887, NGas: 40851\n",
      "  Main Progenitor Halo ID: 2, NStars: 43626, NGas: 518262\n",
      "\n",
      "Merging Halo 3/4 at Snapshot 001025\n",
      "  Merging Halo ID: 13, NStars: 780, NGas: 40409\n",
      "  Main Progenitor Halo ID: 2, NStars: 42072, NGas: 505831\n",
      "\n",
      "Merging Halo 4/4 at Snapshot 000896\n",
      "  Merging Halo ID: 12, NStars: 517, NGas: 40905\n",
      "  Main Progenitor Halo ID: 2, NStars: 22197, NGas: 386032\n",
      "\n",
      "\n",
      "Main Progenitor z=0 Halo ID: 4\n",
      "There are 6 mergers into the major progenitor branch.\n",
      "\n",
      "Merging Halo 1/6 at Snapshot 002176\n",
      "  Merging Halo ID: 49, NStars: 24, NGas: 0\n",
      "  Main Progenitor Halo ID: 4, NStars: 24019, NGas: 409791\n",
      "\n",
      "Merging Halo 2/6 at Snapshot 002048\n",
      "  Merging Halo ID: 29, NStars: 5659, NGas: 20297\n",
      "  Main Progenitor Halo ID: 3, NStars: 19695, NGas: 370995\n",
      "\n",
      "Merging Halo 3/6 at Snapshot 001920\n",
      "  Merging Halo ID: 17, NStars: 5376, NGas: 36068\n",
      "  Main Progenitor Halo ID: 3, NStars: 18877, NGas: 361200\n",
      "\n",
      "Merging Halo 4/6 at Snapshot 001813\n",
      "  Merging Halo ID: 14, NStars: 5329, NGas: 43034\n",
      "  Main Progenitor Halo ID: 3, NStars: 16041, NGas: 332668\n",
      "\n",
      "Merging Halo 5/6 at Snapshot 001543\n",
      "  Merging Halo ID: 12, NStars: 8754, NGas: 48378\n",
      "  Main Progenitor Halo ID: 3, NStars: 14957, NGas: 316636\n",
      "\n",
      "Merging Halo 6/6 at Snapshot 001408\n",
      "  Merging Halo ID: 6, NStars: 7922, NGas: 77883\n",
      "  Main Progenitor Halo ID: 3, NStars: 14351, NGas: 334619\n",
      "\n",
      "\n",
      "Main Progenitor z=0 Halo ID: 5\n",
      "There are 5 mergers into the major progenitor branch.\n",
      "\n",
      "Merging Halo 1/5 at Snapshot 000672\n",
      "  Merging Halo ID: 121, NStars: 182, NGas: 0\n",
      "  Main Progenitor Halo ID: 2, NStars: 32357, NGas: 214733\n",
      "\n",
      "Merging Halo 2/5 at Snapshot 000640\n",
      "  Merging Halo ID: 67, NStars: 183, NGas: 0\n",
      "  Main Progenitor Halo ID: 2, NStars: 20379, NGas: 302514\n",
      "\n",
      "Merging Halo 3/5 at Snapshot 000512\n",
      "  Merging Halo ID: 23, NStars: 183, NGas: 237\n",
      "  Main Progenitor Halo ID: 2, NStars: 20379, NGas: 302514\n",
      "\n",
      "Merging Halo 4/5 at Snapshot 000482\n",
      "  Merging Halo ID: 17, NStars: 183, NGas: 340\n",
      "  Main Progenitor Halo ID: 2, NStars: 20379, NGas: 302514\n",
      "\n",
      "Merging Halo 5/5 at Snapshot 000384\n",
      "  Merging Halo ID: 16, NStars: 183, NGas: 1336\n",
      "  Main Progenitor Halo ID: 2, NStars: 16692, NGas: 309729\n",
      "\n",
      "\n",
      "Main Progenitor z=0 Halo ID: 6\n",
      "There are 1 mergers into the major progenitor branch.\n",
      "\n",
      "Merging Halo 1/1 at Snapshot 000199\n",
      "  Merging Halo ID: 32, NStars: 22, NGas: 1648\n",
      "  Main Progenitor Halo ID: 5, NStars: 38491, NGas: 131789\n",
      "\n",
      "\n",
      "Main Progenitor z=0 Halo ID: 7\n",
      "There are 1 mergers into the major progenitor branch.\n",
      "\n",
      "Merging Halo 1/1 at Snapshot 001813\n",
      "  Merging Halo ID: 160, NStars: 7, NGas: 505\n",
      "  Main Progenitor Halo ID: 7, NStars: 3035, NGas: 114219\n",
      "\n",
      "\n",
      "Main Progenitor z=0 Halo ID: 10\n",
      "There are 7 mergers into the major progenitor branch.\n",
      "\n",
      "Merging Halo 1/7 at Snapshot 001408\n",
      "  Merging Halo ID: 158, NStars: 39, NGas: 0\n",
      "  Main Progenitor Halo ID: 10, NStars: 11867, NGas: 18217\n",
      "\n",
      "Merging Halo 2/7 at Snapshot 001331\n",
      "  Merging Halo ID: 98, NStars: 39, NGas: 0\n",
      "  Main Progenitor Halo ID: 10, NStars: 11867, NGas: 17558\n",
      "\n",
      "Merging Halo 3/7 at Snapshot 001280\n",
      "  Merging Halo ID: 84, NStars: 39, NGas: 0\n",
      "  Main Progenitor Halo ID: 8, NStars: 11867, NGas: 13019\n",
      "\n",
      "Merging Halo 4/7 at Snapshot 001162\n",
      "  Merging Halo ID: 72, NStars: 39, NGas: 0\n",
      "  Main Progenitor Halo ID: 7, NStars: 11867, NGas: 20355\n",
      "\n",
      "Merging Halo 5/7 at Snapshot 001152\n",
      "  Merging Halo ID: 62, NStars: 39, NGas: 0\n",
      "  Main Progenitor Halo ID: 6, NStars: 11867, NGas: 26138\n",
      "\n",
      "Merging Halo 6/7 at Snapshot 001025\n",
      "  Merging Halo ID: 28, NStars: 39, NGas: 0\n",
      "  Main Progenitor Halo ID: 6, NStars: 11867, NGas: 27233\n",
      "\n",
      "Merging Halo 7/7 at Snapshot 000291\n",
      "  Merging Halo ID: 12, NStars: 6, NGas: 8302\n",
      "  Main Progenitor Halo ID: 7, NStars: 11866, NGas: 25045\n",
      "\n",
      "\n",
      "Main Progenitor z=0 Halo ID: 16\n",
      "There are 1 mergers into the major progenitor branch.\n",
      "\n",
      "Merging Halo 1/1 at Snapshot 001408\n",
      "  Merging Halo ID: 154, NStars: 784, NGas: 4814\n",
      "  Main Progenitor Halo ID: 13, NStars: 784, NGas: 69646\n",
      "\n"
     ]
    }
   ],
   "source": [
    "import warnings\n",
    "from sqlalchemy.exc import SAWarning\n",
    "\n",
    "warnings.filterwarnings(\"ignore\", category=SAWarning)\n",
    "\n",
    "halodict = {}\n",
    "\n",
    "def safe_add(dict, key, value):\n",
    "    if key not in dict:\n",
    "        dict[key] = [value]\n",
    "    else:\n",
    "        dict[key].append(value)\n",
    "    return dict\n",
    "\n",
    "for halo in tqdm.tqdm(halos_with_stars):\n",
    "    import tangos.examples.mergers as mergers\n",
    "    # print(\"\\nMain Progenitor z=0 Halo ID: %s\" % (halo.halo_number))\n",
    "    redshift, ratio, progenitor_halos = mergers.get_mergers_of_major_progenitor(halo)\n",
    "    # each item of progenitor_halos is a pair; the first is the major progenitor, the second is the thing merging into it\n",
    "    merging_structures = [x[1] for x in progenitor_halos if x[1].NStar > 0]\n",
    "    if len(merging_structures) == 0:\n",
    "        pass\n",
    "        # print(\"There are no mergers into the major progenitor branch.\\n\")\n",
    "    else:\n",
    "        print(\"\\nMain Progenitor z=0 Halo ID: %s\" % (halo.halo_number))\n",
    "        print(\"There are %d mergers into the major progenitor branch.\\n\" % len(merging_structures))\n",
    "\n",
    "        for i, merging_halo in enumerate(merging_structures):\n",
    "            snapshot = merging_halo.timestep.extension[-6:]\n",
    "            print(\"Merging Halo %d/%d at Snapshot %s\" % (i+1, len(merging_structures), snapshot))\n",
    "            halodict = safe_add(halodict, snapshot, merging_halo)\n",
    "            \n",
    "            merging_halo_num = merging_halo.halo_number\n",
    "            progenitor_halo_num = progenitor_halos[i][0].halo_number\n",
    "            # print(merging_halo.keys())\n",
    "            # print(\"  Mass: %f\" % merging_halo['Mvir'])\n",
    "            print(\"  Merging Halo ID: %s, NStars: %d, NGas: %d\" % (merging_halo_num, merging_halo.NStar, merging_halo.NGas))\n",
    "            print(\"  Main Progenitor Halo ID: %s, NStars: %d, NGas: %d\" % (progenitor_halo_num, progenitor_halos[i][0].NStar, progenitor_halos[i][0].NGas))\n",
    "            # print(\"  Redshift: %f\" % redshift[i])\n",
    "            # print(\"  Ratio: %f\" % ratio[i])\n",
    "            print()\n",
    "\n",
    "# for halo in tqdm.tqdm(halos_with_stars):\n",
    "#     pass\n",
    "    # print_main_progenitor_info(halo)"
   ]
  },
  {
   "cell_type": "code",
   "execution_count": 10,
   "id": "1c902fd9",
   "metadata": {},
   "outputs": [
    {
     "data": {
      "text/plain": [
       "dict_keys(['000384', '001280', '001162', '001025', '000896', '002176', '002048', '001920', '001813', '001543', '001408', '000672', '000640', '000512', '000482', '000199', '001331', '001152', '000291'])"
      ]
     },
     "execution_count": 10,
     "metadata": {},
     "output_type": "execute_result"
    }
   ],
   "source": [
    "halodict.keys()"
   ]
  },
  {
   "cell_type": "code",
   "execution_count": 11,
   "id": "309a686e",
   "metadata": {},
   "outputs": [],
   "source": [
    "all_timesteps = tangos.get_simulation(\"cptmarvel.4096g5HbwK1BH_bn\").timesteps\n",
    "all_timesteps = [ts.extension[-6:] for ts in all_timesteps]\n",
    "tsteps_used = list(halodict.keys())\n",
    "\n",
    "# maxim = '001408'\n",
    "# select_timesteps = [ts for ts in all_timesteps if int(ts) <= int(maxim)]\n",
    "# select_timesteps"
   ]
  },
  {
   "cell_type": "code",
   "execution_count": 12,
   "id": "0a904b01",
   "metadata": {},
   "outputs": [
    {
     "data": {
      "text/plain": [
       "['002176',\n",
       " '002048',\n",
       " '001920',\n",
       " '001813',\n",
       " '001543',\n",
       " '001408',\n",
       " '001331',\n",
       " '001280',\n",
       " '001162',\n",
       " '001152',\n",
       " '001025',\n",
       " '000896',\n",
       " '000672',\n",
       " '000640',\n",
       " '000512',\n",
       " '000482',\n",
       " '000384',\n",
       " '000291',\n",
       " '000199']"
      ]
     },
     "execution_count": 12,
     "metadata": {},
     "output_type": "execute_result"
    }
   ],
   "source": [
    "# sort tsteps_used by int(i) for i in tsteps_used, reversed\n",
    "tsteps_used = sorted(tsteps_used, key=int, reverse=True)\n",
    "tsteps_used"
   ]
  },
  {
   "cell_type": "markdown",
   "id": "6c025a0e",
   "metadata": {},
   "source": [
    "### Halo Trace (Elaad)"
   ]
  },
  {
   "cell_type": "code",
   "execution_count": 34,
   "id": "5d6ca842",
   "metadata": {},
   "outputs": [],
   "source": [
    "# parallelize_func(print_main_progenitor_info, all_halos, n_threads=20, group_pbar=False)"
   ]
  },
  {
   "cell_type": "code",
   "execution_count": 13,
   "id": "8d60e1e2",
   "metadata": {},
   "outputs": [],
   "source": [
    "# sim_base = '/home/selvani/MAP/Sims/cptmarvel.cosmo25cmb/cptmarvel.cosmo25cmb.4096g5HbwK1BH/snapshots_200crit_cptmarvel'\n",
    "sim_base = '/home/selvani/MAP/Sims/cptmarvel.cosmo25cmb/cptmarvel.cosmo25cmb.4096g5HbwK1BH/cptmarvel.4096g5HbwK1BH_bn'\n",
    "# ahf_dir = None\n",
    "# ahf_dir = 'ahf_200'\n",
    "# grplist = None"
   ]
  },
  {
   "cell_type": "code",
   "execution_count": 14,
   "id": "0ee51384",
   "metadata": {},
   "outputs": [],
   "source": [
    "def trace_step(ts):\n",
    "    print(ts)\n",
    "    grplist = np.array([halo.halo_number for halo in halodict[ts]])\n",
    "    print(grplist)\n",
    "    steplist = [int(tstep) for tstep in all_timesteps if int(tstep) <= int(ts)]\n",
    "    print(steplist)\n",
    "    trace = ht.tracing.trace_halos(sim_base=sim_base,\n",
    "                                   grplist=grplist,\n",
    "                                   steplist=steplist)\n",
    "    return 0"
   ]
  },
  {
   "cell_type": "code",
   "execution_count": 15,
   "id": "c1e7656a",
   "metadata": {},
   "outputs": [
    {
     "data": {
      "application/vnd.jupyter.widget-view+json": {
       "model_id": "184f057a263645df91ac9ed20491a4a5",
       "version_major": 2,
       "version_minor": 0
      },
      "text/plain": [
       "  0%|          | 0/19 [00:00<?, ?it/s]"
      ]
     },
     "metadata": {},
     "output_type": "display_data"
    },
    {
     "name": "stdout",
     "output_type": "stream",
     "text": [
      "002176\n",
      "[49]\n",
      "[199, 291, 384, 482, 512, 640, 672, 768, 818, 896, 1025, 1152, 1162, 1280, 1331, 1408, 1536, 1543, 1664, 1792, 1813, 1920, 2048, 2162, 2176]\n",
      "cptmarvel.cosmo25cmb.4096g5HbwK1BH.000113 does not exist or has incorrect permissions\n",
      "Steplist ['/home/selvani/MAP/Sims/cptmarvel.cosmo25cmb/cptmarvel.cosmo25cmb.4096g5HbwK1BH/cptmarvel.4096g5HbwK1BH_bn/cptmarvel.cosmo25cmb.4096g5HbwK1BH.002176', '/home/selvani/MAP/Sims/cptmarvel.cosmo25cmb/cptmarvel.cosmo25cmb.4096g5HbwK1BH/cptmarvel.4096g5HbwK1BH_bn/cptmarvel.cosmo25cmb.4096g5HbwK1BH.002162', '/home/selvani/MAP/Sims/cptmarvel.cosmo25cmb/cptmarvel.cosmo25cmb.4096g5HbwK1BH/cptmarvel.4096g5HbwK1BH_bn/cptmarvel.cosmo25cmb.4096g5HbwK1BH.002048', '/home/selvani/MAP/Sims/cptmarvel.cosmo25cmb/cptmarvel.cosmo25cmb.4096g5HbwK1BH/cptmarvel.4096g5HbwK1BH_bn/cptmarvel.cosmo25cmb.4096g5HbwK1BH.001920', '/home/selvani/MAP/Sims/cptmarvel.cosmo25cmb/cptmarvel.cosmo25cmb.4096g5HbwK1BH/cptmarvel.4096g5HbwK1BH_bn/cptmarvel.cosmo25cmb.4096g5HbwK1BH.001813', '/home/selvani/MAP/Sims/cptmarvel.cosmo25cmb/cptmarvel.cosmo25cmb.4096g5HbwK1BH/cptmarvel.4096g5HbwK1BH_bn/cptmarvel.cosmo25cmb.4096g5HbwK1BH.001792', '/home/selvani/MAP/Sims/cptmarvel.cosmo25cmb/cptmarvel.cosmo25cmb.4096g5HbwK1BH/cptmarvel.4096g5HbwK1BH_bn/cptmarvel.cosmo25cmb.4096g5HbwK1BH.001664', '/home/selvani/MAP/Sims/cptmarvel.cosmo25cmb/cptmarvel.cosmo25cmb.4096g5HbwK1BH/cptmarvel.4096g5HbwK1BH_bn/cptmarvel.cosmo25cmb.4096g5HbwK1BH.001543', '/home/selvani/MAP/Sims/cptmarvel.cosmo25cmb/cptmarvel.cosmo25cmb.4096g5HbwK1BH/cptmarvel.4096g5HbwK1BH_bn/cptmarvel.cosmo25cmb.4096g5HbwK1BH.001536', '/home/selvani/MAP/Sims/cptmarvel.cosmo25cmb/cptmarvel.cosmo25cmb.4096g5HbwK1BH/cptmarvel.4096g5HbwK1BH_bn/cptmarvel.cosmo25cmb.4096g5HbwK1BH.001408', '/home/selvani/MAP/Sims/cptmarvel.cosmo25cmb/cptmarvel.cosmo25cmb.4096g5HbwK1BH/cptmarvel.4096g5HbwK1BH_bn/cptmarvel.cosmo25cmb.4096g5HbwK1BH.001331', '/home/selvani/MAP/Sims/cptmarvel.cosmo25cmb/cptmarvel.cosmo25cmb.4096g5HbwK1BH/cptmarvel.4096g5HbwK1BH_bn/cptmarvel.cosmo25cmb.4096g5HbwK1BH.001280', '/home/selvani/MAP/Sims/cptmarvel.cosmo25cmb/cptmarvel.cosmo25cmb.4096g5HbwK1BH/cptmarvel.4096g5HbwK1BH_bn/cptmarvel.cosmo25cmb.4096g5HbwK1BH.001162', '/home/selvani/MAP/Sims/cptmarvel.cosmo25cmb/cptmarvel.cosmo25cmb.4096g5HbwK1BH/cptmarvel.4096g5HbwK1BH_bn/cptmarvel.cosmo25cmb.4096g5HbwK1BH.001152', '/home/selvani/MAP/Sims/cptmarvel.cosmo25cmb/cptmarvel.cosmo25cmb.4096g5HbwK1BH/cptmarvel.4096g5HbwK1BH_bn/cptmarvel.cosmo25cmb.4096g5HbwK1BH.001025', '/home/selvani/MAP/Sims/cptmarvel.cosmo25cmb/cptmarvel.cosmo25cmb.4096g5HbwK1BH/cptmarvel.4096g5HbwK1BH_bn/cptmarvel.cosmo25cmb.4096g5HbwK1BH.000896', '/home/selvani/MAP/Sims/cptmarvel.cosmo25cmb/cptmarvel.cosmo25cmb.4096g5HbwK1BH/cptmarvel.4096g5HbwK1BH_bn/cptmarvel.cosmo25cmb.4096g5HbwK1BH.000818', '/home/selvani/MAP/Sims/cptmarvel.cosmo25cmb/cptmarvel.cosmo25cmb.4096g5HbwK1BH/cptmarvel.4096g5HbwK1BH_bn/cptmarvel.cosmo25cmb.4096g5HbwK1BH.000768', '/home/selvani/MAP/Sims/cptmarvel.cosmo25cmb/cptmarvel.cosmo25cmb.4096g5HbwK1BH/cptmarvel.4096g5HbwK1BH_bn/cptmarvel.cosmo25cmb.4096g5HbwK1BH.000672', '/home/selvani/MAP/Sims/cptmarvel.cosmo25cmb/cptmarvel.cosmo25cmb.4096g5HbwK1BH/cptmarvel.4096g5HbwK1BH_bn/cptmarvel.cosmo25cmb.4096g5HbwK1BH.000640', '/home/selvani/MAP/Sims/cptmarvel.cosmo25cmb/cptmarvel.cosmo25cmb.4096g5HbwK1BH/cptmarvel.4096g5HbwK1BH_bn/cptmarvel.cosmo25cmb.4096g5HbwK1BH.000512', '/home/selvani/MAP/Sims/cptmarvel.cosmo25cmb/cptmarvel.cosmo25cmb.4096g5HbwK1BH/cptmarvel.4096g5HbwK1BH_bn/cptmarvel.cosmo25cmb.4096g5HbwK1BH.000482', '/home/selvani/MAP/Sims/cptmarvel.cosmo25cmb/cptmarvel.cosmo25cmb.4096g5HbwK1BH/cptmarvel.4096g5HbwK1BH_bn/cptmarvel.cosmo25cmb.4096g5HbwK1BH.000384', '/home/selvani/MAP/Sims/cptmarvel.cosmo25cmb/cptmarvel.cosmo25cmb.4096g5HbwK1BH/cptmarvel.4096g5HbwK1BH_bn/cptmarvel.cosmo25cmb.4096g5HbwK1BH.000291', '/home/selvani/MAP/Sims/cptmarvel.cosmo25cmb/cptmarvel.cosmo25cmb.4096g5HbwK1BH/cptmarvel.4096g5HbwK1BH_bn/cptmarvel.cosmo25cmb.4096g5HbwK1BH.000199']\n",
      "File exists: /home/selvani/MAP/pynbody/AnnaWright_startrace/home/selvani/MAP/Sims/cptmarvel.cosmo25cmb/cptmarvel.cosmo25cmb.4096g5HbwK1BH/cptmarvel.4096g5HbwK1BH_bn/cptmarvel.cosmo25cmb.4096g5HbwK1BH.002176.trace_back_merge.hdf5\n",
      "Aborting\n",
      "002048\n",
      "[29]\n",
      "[199, 291, 384, 482, 512, 640, 672, 768, 818, 896, 1025, 1152, 1162, 1280, 1331, 1408, 1536, 1543, 1664, 1792, 1813, 1920, 2048]\n",
      "cptmarvel.cosmo25cmb.4096g5HbwK1BH.000113 does not exist or has incorrect permissions\n",
      "Steplist ['/home/selvani/MAP/Sims/cptmarvel.cosmo25cmb/cptmarvel.cosmo25cmb.4096g5HbwK1BH/cptmarvel.4096g5HbwK1BH_bn/cptmarvel.cosmo25cmb.4096g5HbwK1BH.002048', '/home/selvani/MAP/Sims/cptmarvel.cosmo25cmb/cptmarvel.cosmo25cmb.4096g5HbwK1BH/cptmarvel.4096g5HbwK1BH_bn/cptmarvel.cosmo25cmb.4096g5HbwK1BH.001920', '/home/selvani/MAP/Sims/cptmarvel.cosmo25cmb/cptmarvel.cosmo25cmb.4096g5HbwK1BH/cptmarvel.4096g5HbwK1BH_bn/cptmarvel.cosmo25cmb.4096g5HbwK1BH.001813', '/home/selvani/MAP/Sims/cptmarvel.cosmo25cmb/cptmarvel.cosmo25cmb.4096g5HbwK1BH/cptmarvel.4096g5HbwK1BH_bn/cptmarvel.cosmo25cmb.4096g5HbwK1BH.001792', '/home/selvani/MAP/Sims/cptmarvel.cosmo25cmb/cptmarvel.cosmo25cmb.4096g5HbwK1BH/cptmarvel.4096g5HbwK1BH_bn/cptmarvel.cosmo25cmb.4096g5HbwK1BH.001664', '/home/selvani/MAP/Sims/cptmarvel.cosmo25cmb/cptmarvel.cosmo25cmb.4096g5HbwK1BH/cptmarvel.4096g5HbwK1BH_bn/cptmarvel.cosmo25cmb.4096g5HbwK1BH.001543', '/home/selvani/MAP/Sims/cptmarvel.cosmo25cmb/cptmarvel.cosmo25cmb.4096g5HbwK1BH/cptmarvel.4096g5HbwK1BH_bn/cptmarvel.cosmo25cmb.4096g5HbwK1BH.001536', '/home/selvani/MAP/Sims/cptmarvel.cosmo25cmb/cptmarvel.cosmo25cmb.4096g5HbwK1BH/cptmarvel.4096g5HbwK1BH_bn/cptmarvel.cosmo25cmb.4096g5HbwK1BH.001408', '/home/selvani/MAP/Sims/cptmarvel.cosmo25cmb/cptmarvel.cosmo25cmb.4096g5HbwK1BH/cptmarvel.4096g5HbwK1BH_bn/cptmarvel.cosmo25cmb.4096g5HbwK1BH.001331', '/home/selvani/MAP/Sims/cptmarvel.cosmo25cmb/cptmarvel.cosmo25cmb.4096g5HbwK1BH/cptmarvel.4096g5HbwK1BH_bn/cptmarvel.cosmo25cmb.4096g5HbwK1BH.001280', '/home/selvani/MAP/Sims/cptmarvel.cosmo25cmb/cptmarvel.cosmo25cmb.4096g5HbwK1BH/cptmarvel.4096g5HbwK1BH_bn/cptmarvel.cosmo25cmb.4096g5HbwK1BH.001162', '/home/selvani/MAP/Sims/cptmarvel.cosmo25cmb/cptmarvel.cosmo25cmb.4096g5HbwK1BH/cptmarvel.4096g5HbwK1BH_bn/cptmarvel.cosmo25cmb.4096g5HbwK1BH.001152', '/home/selvani/MAP/Sims/cptmarvel.cosmo25cmb/cptmarvel.cosmo25cmb.4096g5HbwK1BH/cptmarvel.4096g5HbwK1BH_bn/cptmarvel.cosmo25cmb.4096g5HbwK1BH.001025', '/home/selvani/MAP/Sims/cptmarvel.cosmo25cmb/cptmarvel.cosmo25cmb.4096g5HbwK1BH/cptmarvel.4096g5HbwK1BH_bn/cptmarvel.cosmo25cmb.4096g5HbwK1BH.000896', '/home/selvani/MAP/Sims/cptmarvel.cosmo25cmb/cptmarvel.cosmo25cmb.4096g5HbwK1BH/cptmarvel.4096g5HbwK1BH_bn/cptmarvel.cosmo25cmb.4096g5HbwK1BH.000818', '/home/selvani/MAP/Sims/cptmarvel.cosmo25cmb/cptmarvel.cosmo25cmb.4096g5HbwK1BH/cptmarvel.4096g5HbwK1BH_bn/cptmarvel.cosmo25cmb.4096g5HbwK1BH.000768', '/home/selvani/MAP/Sims/cptmarvel.cosmo25cmb/cptmarvel.cosmo25cmb.4096g5HbwK1BH/cptmarvel.4096g5HbwK1BH_bn/cptmarvel.cosmo25cmb.4096g5HbwK1BH.000672', '/home/selvani/MAP/Sims/cptmarvel.cosmo25cmb/cptmarvel.cosmo25cmb.4096g5HbwK1BH/cptmarvel.4096g5HbwK1BH_bn/cptmarvel.cosmo25cmb.4096g5HbwK1BH.000640', '/home/selvani/MAP/Sims/cptmarvel.cosmo25cmb/cptmarvel.cosmo25cmb.4096g5HbwK1BH/cptmarvel.4096g5HbwK1BH_bn/cptmarvel.cosmo25cmb.4096g5HbwK1BH.000512', '/home/selvani/MAP/Sims/cptmarvel.cosmo25cmb/cptmarvel.cosmo25cmb.4096g5HbwK1BH/cptmarvel.4096g5HbwK1BH_bn/cptmarvel.cosmo25cmb.4096g5HbwK1BH.000482', '/home/selvani/MAP/Sims/cptmarvel.cosmo25cmb/cptmarvel.cosmo25cmb.4096g5HbwK1BH/cptmarvel.4096g5HbwK1BH_bn/cptmarvel.cosmo25cmb.4096g5HbwK1BH.000384', '/home/selvani/MAP/Sims/cptmarvel.cosmo25cmb/cptmarvel.cosmo25cmb.4096g5HbwK1BH/cptmarvel.4096g5HbwK1BH_bn/cptmarvel.cosmo25cmb.4096g5HbwK1BH.000291', '/home/selvani/MAP/Sims/cptmarvel.cosmo25cmb/cptmarvel.cosmo25cmb.4096g5HbwK1BH/cptmarvel.4096g5HbwK1BH_bn/cptmarvel.cosmo25cmb.4096g5HbwK1BH.000199']\n",
      "File exists: /home/selvani/MAP/pynbody/AnnaWright_startrace/home/selvani/MAP/Sims/cptmarvel.cosmo25cmb/cptmarvel.cosmo25cmb.4096g5HbwK1BH/cptmarvel.4096g5HbwK1BH_bn/cptmarvel.cosmo25cmb.4096g5HbwK1BH.002048.trace_back_merge.hdf5\n",
      "Aborting\n",
      "001920\n",
      "[17]\n",
      "[199, 291, 384, 482, 512, 640, 672, 768, 818, 896, 1025, 1152, 1162, 1280, 1331, 1408, 1536, 1543, 1664, 1792, 1813, 1920]\n",
      "cptmarvel.cosmo25cmb.4096g5HbwK1BH.000113 does not exist or has incorrect permissions\n",
      "Steplist ['/home/selvani/MAP/Sims/cptmarvel.cosmo25cmb/cptmarvel.cosmo25cmb.4096g5HbwK1BH/cptmarvel.4096g5HbwK1BH_bn/cptmarvel.cosmo25cmb.4096g5HbwK1BH.001920', '/home/selvani/MAP/Sims/cptmarvel.cosmo25cmb/cptmarvel.cosmo25cmb.4096g5HbwK1BH/cptmarvel.4096g5HbwK1BH_bn/cptmarvel.cosmo25cmb.4096g5HbwK1BH.001813', '/home/selvani/MAP/Sims/cptmarvel.cosmo25cmb/cptmarvel.cosmo25cmb.4096g5HbwK1BH/cptmarvel.4096g5HbwK1BH_bn/cptmarvel.cosmo25cmb.4096g5HbwK1BH.001792', '/home/selvani/MAP/Sims/cptmarvel.cosmo25cmb/cptmarvel.cosmo25cmb.4096g5HbwK1BH/cptmarvel.4096g5HbwK1BH_bn/cptmarvel.cosmo25cmb.4096g5HbwK1BH.001664', '/home/selvani/MAP/Sims/cptmarvel.cosmo25cmb/cptmarvel.cosmo25cmb.4096g5HbwK1BH/cptmarvel.4096g5HbwK1BH_bn/cptmarvel.cosmo25cmb.4096g5HbwK1BH.001543', '/home/selvani/MAP/Sims/cptmarvel.cosmo25cmb/cptmarvel.cosmo25cmb.4096g5HbwK1BH/cptmarvel.4096g5HbwK1BH_bn/cptmarvel.cosmo25cmb.4096g5HbwK1BH.001536', '/home/selvani/MAP/Sims/cptmarvel.cosmo25cmb/cptmarvel.cosmo25cmb.4096g5HbwK1BH/cptmarvel.4096g5HbwK1BH_bn/cptmarvel.cosmo25cmb.4096g5HbwK1BH.001408', '/home/selvani/MAP/Sims/cptmarvel.cosmo25cmb/cptmarvel.cosmo25cmb.4096g5HbwK1BH/cptmarvel.4096g5HbwK1BH_bn/cptmarvel.cosmo25cmb.4096g5HbwK1BH.001331', '/home/selvani/MAP/Sims/cptmarvel.cosmo25cmb/cptmarvel.cosmo25cmb.4096g5HbwK1BH/cptmarvel.4096g5HbwK1BH_bn/cptmarvel.cosmo25cmb.4096g5HbwK1BH.001280', '/home/selvani/MAP/Sims/cptmarvel.cosmo25cmb/cptmarvel.cosmo25cmb.4096g5HbwK1BH/cptmarvel.4096g5HbwK1BH_bn/cptmarvel.cosmo25cmb.4096g5HbwK1BH.001162', '/home/selvani/MAP/Sims/cptmarvel.cosmo25cmb/cptmarvel.cosmo25cmb.4096g5HbwK1BH/cptmarvel.4096g5HbwK1BH_bn/cptmarvel.cosmo25cmb.4096g5HbwK1BH.001152', '/home/selvani/MAP/Sims/cptmarvel.cosmo25cmb/cptmarvel.cosmo25cmb.4096g5HbwK1BH/cptmarvel.4096g5HbwK1BH_bn/cptmarvel.cosmo25cmb.4096g5HbwK1BH.001025', '/home/selvani/MAP/Sims/cptmarvel.cosmo25cmb/cptmarvel.cosmo25cmb.4096g5HbwK1BH/cptmarvel.4096g5HbwK1BH_bn/cptmarvel.cosmo25cmb.4096g5HbwK1BH.000896', '/home/selvani/MAP/Sims/cptmarvel.cosmo25cmb/cptmarvel.cosmo25cmb.4096g5HbwK1BH/cptmarvel.4096g5HbwK1BH_bn/cptmarvel.cosmo25cmb.4096g5HbwK1BH.000818', '/home/selvani/MAP/Sims/cptmarvel.cosmo25cmb/cptmarvel.cosmo25cmb.4096g5HbwK1BH/cptmarvel.4096g5HbwK1BH_bn/cptmarvel.cosmo25cmb.4096g5HbwK1BH.000768', '/home/selvani/MAP/Sims/cptmarvel.cosmo25cmb/cptmarvel.cosmo25cmb.4096g5HbwK1BH/cptmarvel.4096g5HbwK1BH_bn/cptmarvel.cosmo25cmb.4096g5HbwK1BH.000672', '/home/selvani/MAP/Sims/cptmarvel.cosmo25cmb/cptmarvel.cosmo25cmb.4096g5HbwK1BH/cptmarvel.4096g5HbwK1BH_bn/cptmarvel.cosmo25cmb.4096g5HbwK1BH.000640', '/home/selvani/MAP/Sims/cptmarvel.cosmo25cmb/cptmarvel.cosmo25cmb.4096g5HbwK1BH/cptmarvel.4096g5HbwK1BH_bn/cptmarvel.cosmo25cmb.4096g5HbwK1BH.000512', '/home/selvani/MAP/Sims/cptmarvel.cosmo25cmb/cptmarvel.cosmo25cmb.4096g5HbwK1BH/cptmarvel.4096g5HbwK1BH_bn/cptmarvel.cosmo25cmb.4096g5HbwK1BH.000482', '/home/selvani/MAP/Sims/cptmarvel.cosmo25cmb/cptmarvel.cosmo25cmb.4096g5HbwK1BH/cptmarvel.4096g5HbwK1BH_bn/cptmarvel.cosmo25cmb.4096g5HbwK1BH.000384', '/home/selvani/MAP/Sims/cptmarvel.cosmo25cmb/cptmarvel.cosmo25cmb.4096g5HbwK1BH/cptmarvel.4096g5HbwK1BH_bn/cptmarvel.cosmo25cmb.4096g5HbwK1BH.000291', '/home/selvani/MAP/Sims/cptmarvel.cosmo25cmb/cptmarvel.cosmo25cmb.4096g5HbwK1BH/cptmarvel.4096g5HbwK1BH_bn/cptmarvel.cosmo25cmb.4096g5HbwK1BH.000199']\n",
      "File exists: /home/selvani/MAP/pynbody/AnnaWright_startrace/home/selvani/MAP/Sims/cptmarvel.cosmo25cmb/cptmarvel.cosmo25cmb.4096g5HbwK1BH/cptmarvel.4096g5HbwK1BH_bn/cptmarvel.cosmo25cmb.4096g5HbwK1BH.001920.trace_back_merge.hdf5\n",
      "Aborting\n",
      "001813\n",
      "[ 14 160]\n",
      "[199, 291, 384, 482, 512, 640, 672, 768, 818, 896, 1025, 1152, 1162, 1280, 1331, 1408, 1536, 1543, 1664, 1792, 1813]\n",
      "cptmarvel.cosmo25cmb.4096g5HbwK1BH.000113 does not exist or has incorrect permissions\n",
      "Steplist ['/home/selvani/MAP/Sims/cptmarvel.cosmo25cmb/cptmarvel.cosmo25cmb.4096g5HbwK1BH/cptmarvel.4096g5HbwK1BH_bn/cptmarvel.cosmo25cmb.4096g5HbwK1BH.001813', '/home/selvani/MAP/Sims/cptmarvel.cosmo25cmb/cptmarvel.cosmo25cmb.4096g5HbwK1BH/cptmarvel.4096g5HbwK1BH_bn/cptmarvel.cosmo25cmb.4096g5HbwK1BH.001792', '/home/selvani/MAP/Sims/cptmarvel.cosmo25cmb/cptmarvel.cosmo25cmb.4096g5HbwK1BH/cptmarvel.4096g5HbwK1BH_bn/cptmarvel.cosmo25cmb.4096g5HbwK1BH.001664', '/home/selvani/MAP/Sims/cptmarvel.cosmo25cmb/cptmarvel.cosmo25cmb.4096g5HbwK1BH/cptmarvel.4096g5HbwK1BH_bn/cptmarvel.cosmo25cmb.4096g5HbwK1BH.001543', '/home/selvani/MAP/Sims/cptmarvel.cosmo25cmb/cptmarvel.cosmo25cmb.4096g5HbwK1BH/cptmarvel.4096g5HbwK1BH_bn/cptmarvel.cosmo25cmb.4096g5HbwK1BH.001536', '/home/selvani/MAP/Sims/cptmarvel.cosmo25cmb/cptmarvel.cosmo25cmb.4096g5HbwK1BH/cptmarvel.4096g5HbwK1BH_bn/cptmarvel.cosmo25cmb.4096g5HbwK1BH.001408', '/home/selvani/MAP/Sims/cptmarvel.cosmo25cmb/cptmarvel.cosmo25cmb.4096g5HbwK1BH/cptmarvel.4096g5HbwK1BH_bn/cptmarvel.cosmo25cmb.4096g5HbwK1BH.001331', '/home/selvani/MAP/Sims/cptmarvel.cosmo25cmb/cptmarvel.cosmo25cmb.4096g5HbwK1BH/cptmarvel.4096g5HbwK1BH_bn/cptmarvel.cosmo25cmb.4096g5HbwK1BH.001280', '/home/selvani/MAP/Sims/cptmarvel.cosmo25cmb/cptmarvel.cosmo25cmb.4096g5HbwK1BH/cptmarvel.4096g5HbwK1BH_bn/cptmarvel.cosmo25cmb.4096g5HbwK1BH.001162', '/home/selvani/MAP/Sims/cptmarvel.cosmo25cmb/cptmarvel.cosmo25cmb.4096g5HbwK1BH/cptmarvel.4096g5HbwK1BH_bn/cptmarvel.cosmo25cmb.4096g5HbwK1BH.001152', '/home/selvani/MAP/Sims/cptmarvel.cosmo25cmb/cptmarvel.cosmo25cmb.4096g5HbwK1BH/cptmarvel.4096g5HbwK1BH_bn/cptmarvel.cosmo25cmb.4096g5HbwK1BH.001025', '/home/selvani/MAP/Sims/cptmarvel.cosmo25cmb/cptmarvel.cosmo25cmb.4096g5HbwK1BH/cptmarvel.4096g5HbwK1BH_bn/cptmarvel.cosmo25cmb.4096g5HbwK1BH.000896', '/home/selvani/MAP/Sims/cptmarvel.cosmo25cmb/cptmarvel.cosmo25cmb.4096g5HbwK1BH/cptmarvel.4096g5HbwK1BH_bn/cptmarvel.cosmo25cmb.4096g5HbwK1BH.000818', '/home/selvani/MAP/Sims/cptmarvel.cosmo25cmb/cptmarvel.cosmo25cmb.4096g5HbwK1BH/cptmarvel.4096g5HbwK1BH_bn/cptmarvel.cosmo25cmb.4096g5HbwK1BH.000768', '/home/selvani/MAP/Sims/cptmarvel.cosmo25cmb/cptmarvel.cosmo25cmb.4096g5HbwK1BH/cptmarvel.4096g5HbwK1BH_bn/cptmarvel.cosmo25cmb.4096g5HbwK1BH.000672', '/home/selvani/MAP/Sims/cptmarvel.cosmo25cmb/cptmarvel.cosmo25cmb.4096g5HbwK1BH/cptmarvel.4096g5HbwK1BH_bn/cptmarvel.cosmo25cmb.4096g5HbwK1BH.000640', '/home/selvani/MAP/Sims/cptmarvel.cosmo25cmb/cptmarvel.cosmo25cmb.4096g5HbwK1BH/cptmarvel.4096g5HbwK1BH_bn/cptmarvel.cosmo25cmb.4096g5HbwK1BH.000512', '/home/selvani/MAP/Sims/cptmarvel.cosmo25cmb/cptmarvel.cosmo25cmb.4096g5HbwK1BH/cptmarvel.4096g5HbwK1BH_bn/cptmarvel.cosmo25cmb.4096g5HbwK1BH.000482', '/home/selvani/MAP/Sims/cptmarvel.cosmo25cmb/cptmarvel.cosmo25cmb.4096g5HbwK1BH/cptmarvel.4096g5HbwK1BH_bn/cptmarvel.cosmo25cmb.4096g5HbwK1BH.000384', '/home/selvani/MAP/Sims/cptmarvel.cosmo25cmb/cptmarvel.cosmo25cmb.4096g5HbwK1BH/cptmarvel.4096g5HbwK1BH_bn/cptmarvel.cosmo25cmb.4096g5HbwK1BH.000291', '/home/selvani/MAP/Sims/cptmarvel.cosmo25cmb/cptmarvel.cosmo25cmb.4096g5HbwK1BH/cptmarvel.4096g5HbwK1BH_bn/cptmarvel.cosmo25cmb.4096g5HbwK1BH.000199']\n",
      "File exists: /home/selvani/MAP/pynbody/AnnaWright_startrace/home/selvani/MAP/Sims/cptmarvel.cosmo25cmb/cptmarvel.cosmo25cmb.4096g5HbwK1BH/cptmarvel.4096g5HbwK1BH_bn/cptmarvel.cosmo25cmb.4096g5HbwK1BH.001813.trace_back_merge.hdf5\n",
      "Aborting\n",
      "001543\n",
      "[12]\n",
      "[199, 291, 384, 482, 512, 640, 672, 768, 818, 896, 1025, 1152, 1162, 1280, 1331, 1408, 1536, 1543]\n",
      "cptmarvel.cosmo25cmb.4096g5HbwK1BH.000113 does not exist or has incorrect permissions\n",
      "Steplist ['/home/selvani/MAP/Sims/cptmarvel.cosmo25cmb/cptmarvel.cosmo25cmb.4096g5HbwK1BH/cptmarvel.4096g5HbwK1BH_bn/cptmarvel.cosmo25cmb.4096g5HbwK1BH.001543', '/home/selvani/MAP/Sims/cptmarvel.cosmo25cmb/cptmarvel.cosmo25cmb.4096g5HbwK1BH/cptmarvel.4096g5HbwK1BH_bn/cptmarvel.cosmo25cmb.4096g5HbwK1BH.001536', '/home/selvani/MAP/Sims/cptmarvel.cosmo25cmb/cptmarvel.cosmo25cmb.4096g5HbwK1BH/cptmarvel.4096g5HbwK1BH_bn/cptmarvel.cosmo25cmb.4096g5HbwK1BH.001408', '/home/selvani/MAP/Sims/cptmarvel.cosmo25cmb/cptmarvel.cosmo25cmb.4096g5HbwK1BH/cptmarvel.4096g5HbwK1BH_bn/cptmarvel.cosmo25cmb.4096g5HbwK1BH.001331', '/home/selvani/MAP/Sims/cptmarvel.cosmo25cmb/cptmarvel.cosmo25cmb.4096g5HbwK1BH/cptmarvel.4096g5HbwK1BH_bn/cptmarvel.cosmo25cmb.4096g5HbwK1BH.001280', '/home/selvani/MAP/Sims/cptmarvel.cosmo25cmb/cptmarvel.cosmo25cmb.4096g5HbwK1BH/cptmarvel.4096g5HbwK1BH_bn/cptmarvel.cosmo25cmb.4096g5HbwK1BH.001162', '/home/selvani/MAP/Sims/cptmarvel.cosmo25cmb/cptmarvel.cosmo25cmb.4096g5HbwK1BH/cptmarvel.4096g5HbwK1BH_bn/cptmarvel.cosmo25cmb.4096g5HbwK1BH.001152', '/home/selvani/MAP/Sims/cptmarvel.cosmo25cmb/cptmarvel.cosmo25cmb.4096g5HbwK1BH/cptmarvel.4096g5HbwK1BH_bn/cptmarvel.cosmo25cmb.4096g5HbwK1BH.001025', '/home/selvani/MAP/Sims/cptmarvel.cosmo25cmb/cptmarvel.cosmo25cmb.4096g5HbwK1BH/cptmarvel.4096g5HbwK1BH_bn/cptmarvel.cosmo25cmb.4096g5HbwK1BH.000896', '/home/selvani/MAP/Sims/cptmarvel.cosmo25cmb/cptmarvel.cosmo25cmb.4096g5HbwK1BH/cptmarvel.4096g5HbwK1BH_bn/cptmarvel.cosmo25cmb.4096g5HbwK1BH.000818', '/home/selvani/MAP/Sims/cptmarvel.cosmo25cmb/cptmarvel.cosmo25cmb.4096g5HbwK1BH/cptmarvel.4096g5HbwK1BH_bn/cptmarvel.cosmo25cmb.4096g5HbwK1BH.000768', '/home/selvani/MAP/Sims/cptmarvel.cosmo25cmb/cptmarvel.cosmo25cmb.4096g5HbwK1BH/cptmarvel.4096g5HbwK1BH_bn/cptmarvel.cosmo25cmb.4096g5HbwK1BH.000672', '/home/selvani/MAP/Sims/cptmarvel.cosmo25cmb/cptmarvel.cosmo25cmb.4096g5HbwK1BH/cptmarvel.4096g5HbwK1BH_bn/cptmarvel.cosmo25cmb.4096g5HbwK1BH.000640', '/home/selvani/MAP/Sims/cptmarvel.cosmo25cmb/cptmarvel.cosmo25cmb.4096g5HbwK1BH/cptmarvel.4096g5HbwK1BH_bn/cptmarvel.cosmo25cmb.4096g5HbwK1BH.000512', '/home/selvani/MAP/Sims/cptmarvel.cosmo25cmb/cptmarvel.cosmo25cmb.4096g5HbwK1BH/cptmarvel.4096g5HbwK1BH_bn/cptmarvel.cosmo25cmb.4096g5HbwK1BH.000482', '/home/selvani/MAP/Sims/cptmarvel.cosmo25cmb/cptmarvel.cosmo25cmb.4096g5HbwK1BH/cptmarvel.4096g5HbwK1BH_bn/cptmarvel.cosmo25cmb.4096g5HbwK1BH.000384', '/home/selvani/MAP/Sims/cptmarvel.cosmo25cmb/cptmarvel.cosmo25cmb.4096g5HbwK1BH/cptmarvel.4096g5HbwK1BH_bn/cptmarvel.cosmo25cmb.4096g5HbwK1BH.000291', '/home/selvani/MAP/Sims/cptmarvel.cosmo25cmb/cptmarvel.cosmo25cmb.4096g5HbwK1BH/cptmarvel.4096g5HbwK1BH_bn/cptmarvel.cosmo25cmb.4096g5HbwK1BH.000199']\n",
      "File exists: /home/selvani/MAP/pynbody/AnnaWright_startrace/home/selvani/MAP/Sims/cptmarvel.cosmo25cmb/cptmarvel.cosmo25cmb.4096g5HbwK1BH/cptmarvel.4096g5HbwK1BH_bn/cptmarvel.cosmo25cmb.4096g5HbwK1BH.001543.trace_back_merge.hdf5\n",
      "Aborting\n",
      "001408\n",
      "[  6 158 154]\n",
      "[199, 291, 384, 482, 512, 640, 672, 768, 818, 896, 1025, 1152, 1162, 1280, 1331, 1408]\n",
      "cptmarvel.cosmo25cmb.4096g5HbwK1BH.000113 does not exist or has incorrect permissions\n",
      "Steplist ['/home/selvani/MAP/Sims/cptmarvel.cosmo25cmb/cptmarvel.cosmo25cmb.4096g5HbwK1BH/cptmarvel.4096g5HbwK1BH_bn/cptmarvel.cosmo25cmb.4096g5HbwK1BH.001408', '/home/selvani/MAP/Sims/cptmarvel.cosmo25cmb/cptmarvel.cosmo25cmb.4096g5HbwK1BH/cptmarvel.4096g5HbwK1BH_bn/cptmarvel.cosmo25cmb.4096g5HbwK1BH.001331', '/home/selvani/MAP/Sims/cptmarvel.cosmo25cmb/cptmarvel.cosmo25cmb.4096g5HbwK1BH/cptmarvel.4096g5HbwK1BH_bn/cptmarvel.cosmo25cmb.4096g5HbwK1BH.001280', '/home/selvani/MAP/Sims/cptmarvel.cosmo25cmb/cptmarvel.cosmo25cmb.4096g5HbwK1BH/cptmarvel.4096g5HbwK1BH_bn/cptmarvel.cosmo25cmb.4096g5HbwK1BH.001162', '/home/selvani/MAP/Sims/cptmarvel.cosmo25cmb/cptmarvel.cosmo25cmb.4096g5HbwK1BH/cptmarvel.4096g5HbwK1BH_bn/cptmarvel.cosmo25cmb.4096g5HbwK1BH.001152', '/home/selvani/MAP/Sims/cptmarvel.cosmo25cmb/cptmarvel.cosmo25cmb.4096g5HbwK1BH/cptmarvel.4096g5HbwK1BH_bn/cptmarvel.cosmo25cmb.4096g5HbwK1BH.001025', '/home/selvani/MAP/Sims/cptmarvel.cosmo25cmb/cptmarvel.cosmo25cmb.4096g5HbwK1BH/cptmarvel.4096g5HbwK1BH_bn/cptmarvel.cosmo25cmb.4096g5HbwK1BH.000896', '/home/selvani/MAP/Sims/cptmarvel.cosmo25cmb/cptmarvel.cosmo25cmb.4096g5HbwK1BH/cptmarvel.4096g5HbwK1BH_bn/cptmarvel.cosmo25cmb.4096g5HbwK1BH.000818', '/home/selvani/MAP/Sims/cptmarvel.cosmo25cmb/cptmarvel.cosmo25cmb.4096g5HbwK1BH/cptmarvel.4096g5HbwK1BH_bn/cptmarvel.cosmo25cmb.4096g5HbwK1BH.000768', '/home/selvani/MAP/Sims/cptmarvel.cosmo25cmb/cptmarvel.cosmo25cmb.4096g5HbwK1BH/cptmarvel.4096g5HbwK1BH_bn/cptmarvel.cosmo25cmb.4096g5HbwK1BH.000672', '/home/selvani/MAP/Sims/cptmarvel.cosmo25cmb/cptmarvel.cosmo25cmb.4096g5HbwK1BH/cptmarvel.4096g5HbwK1BH_bn/cptmarvel.cosmo25cmb.4096g5HbwK1BH.000640', '/home/selvani/MAP/Sims/cptmarvel.cosmo25cmb/cptmarvel.cosmo25cmb.4096g5HbwK1BH/cptmarvel.4096g5HbwK1BH_bn/cptmarvel.cosmo25cmb.4096g5HbwK1BH.000512', '/home/selvani/MAP/Sims/cptmarvel.cosmo25cmb/cptmarvel.cosmo25cmb.4096g5HbwK1BH/cptmarvel.4096g5HbwK1BH_bn/cptmarvel.cosmo25cmb.4096g5HbwK1BH.000482', '/home/selvani/MAP/Sims/cptmarvel.cosmo25cmb/cptmarvel.cosmo25cmb.4096g5HbwK1BH/cptmarvel.4096g5HbwK1BH_bn/cptmarvel.cosmo25cmb.4096g5HbwK1BH.000384', '/home/selvani/MAP/Sims/cptmarvel.cosmo25cmb/cptmarvel.cosmo25cmb.4096g5HbwK1BH/cptmarvel.4096g5HbwK1BH_bn/cptmarvel.cosmo25cmb.4096g5HbwK1BH.000291', '/home/selvani/MAP/Sims/cptmarvel.cosmo25cmb/cptmarvel.cosmo25cmb.4096g5HbwK1BH/cptmarvel.4096g5HbwK1BH_bn/cptmarvel.cosmo25cmb.4096g5HbwK1BH.000199']\n",
      "File exists: /home/selvani/MAP/pynbody/AnnaWright_startrace/home/selvani/MAP/Sims/cptmarvel.cosmo25cmb/cptmarvel.cosmo25cmb.4096g5HbwK1BH/cptmarvel.4096g5HbwK1BH_bn/cptmarvel.cosmo25cmb.4096g5HbwK1BH.001408.trace_back_merge.hdf5\n",
      "Aborting\n",
      "001331\n",
      "[98]\n",
      "[199, 291, 384, 482, 512, 640, 672, 768, 818, 896, 1025, 1152, 1162, 1280, 1331]\n",
      "cptmarvel.cosmo25cmb.4096g5HbwK1BH.000113 does not exist or has incorrect permissions\n",
      "Steplist ['/home/selvani/MAP/Sims/cptmarvel.cosmo25cmb/cptmarvel.cosmo25cmb.4096g5HbwK1BH/cptmarvel.4096g5HbwK1BH_bn/cptmarvel.cosmo25cmb.4096g5HbwK1BH.001331', '/home/selvani/MAP/Sims/cptmarvel.cosmo25cmb/cptmarvel.cosmo25cmb.4096g5HbwK1BH/cptmarvel.4096g5HbwK1BH_bn/cptmarvel.cosmo25cmb.4096g5HbwK1BH.001280', '/home/selvani/MAP/Sims/cptmarvel.cosmo25cmb/cptmarvel.cosmo25cmb.4096g5HbwK1BH/cptmarvel.4096g5HbwK1BH_bn/cptmarvel.cosmo25cmb.4096g5HbwK1BH.001162', '/home/selvani/MAP/Sims/cptmarvel.cosmo25cmb/cptmarvel.cosmo25cmb.4096g5HbwK1BH/cptmarvel.4096g5HbwK1BH_bn/cptmarvel.cosmo25cmb.4096g5HbwK1BH.001152', '/home/selvani/MAP/Sims/cptmarvel.cosmo25cmb/cptmarvel.cosmo25cmb.4096g5HbwK1BH/cptmarvel.4096g5HbwK1BH_bn/cptmarvel.cosmo25cmb.4096g5HbwK1BH.001025', '/home/selvani/MAP/Sims/cptmarvel.cosmo25cmb/cptmarvel.cosmo25cmb.4096g5HbwK1BH/cptmarvel.4096g5HbwK1BH_bn/cptmarvel.cosmo25cmb.4096g5HbwK1BH.000896', '/home/selvani/MAP/Sims/cptmarvel.cosmo25cmb/cptmarvel.cosmo25cmb.4096g5HbwK1BH/cptmarvel.4096g5HbwK1BH_bn/cptmarvel.cosmo25cmb.4096g5HbwK1BH.000818', '/home/selvani/MAP/Sims/cptmarvel.cosmo25cmb/cptmarvel.cosmo25cmb.4096g5HbwK1BH/cptmarvel.4096g5HbwK1BH_bn/cptmarvel.cosmo25cmb.4096g5HbwK1BH.000768', '/home/selvani/MAP/Sims/cptmarvel.cosmo25cmb/cptmarvel.cosmo25cmb.4096g5HbwK1BH/cptmarvel.4096g5HbwK1BH_bn/cptmarvel.cosmo25cmb.4096g5HbwK1BH.000672', '/home/selvani/MAP/Sims/cptmarvel.cosmo25cmb/cptmarvel.cosmo25cmb.4096g5HbwK1BH/cptmarvel.4096g5HbwK1BH_bn/cptmarvel.cosmo25cmb.4096g5HbwK1BH.000640', '/home/selvani/MAP/Sims/cptmarvel.cosmo25cmb/cptmarvel.cosmo25cmb.4096g5HbwK1BH/cptmarvel.4096g5HbwK1BH_bn/cptmarvel.cosmo25cmb.4096g5HbwK1BH.000512', '/home/selvani/MAP/Sims/cptmarvel.cosmo25cmb/cptmarvel.cosmo25cmb.4096g5HbwK1BH/cptmarvel.4096g5HbwK1BH_bn/cptmarvel.cosmo25cmb.4096g5HbwK1BH.000482', '/home/selvani/MAP/Sims/cptmarvel.cosmo25cmb/cptmarvel.cosmo25cmb.4096g5HbwK1BH/cptmarvel.4096g5HbwK1BH_bn/cptmarvel.cosmo25cmb.4096g5HbwK1BH.000384', '/home/selvani/MAP/Sims/cptmarvel.cosmo25cmb/cptmarvel.cosmo25cmb.4096g5HbwK1BH/cptmarvel.4096g5HbwK1BH_bn/cptmarvel.cosmo25cmb.4096g5HbwK1BH.000291', '/home/selvani/MAP/Sims/cptmarvel.cosmo25cmb/cptmarvel.cosmo25cmb.4096g5HbwK1BH/cptmarvel.4096g5HbwK1BH_bn/cptmarvel.cosmo25cmb.4096g5HbwK1BH.000199']\n",
      "File exists: /home/selvani/MAP/pynbody/AnnaWright_startrace/home/selvani/MAP/Sims/cptmarvel.cosmo25cmb/cptmarvel.cosmo25cmb.4096g5HbwK1BH/cptmarvel.4096g5HbwK1BH_bn/cptmarvel.cosmo25cmb.4096g5HbwK1BH.001331.trace_back_merge.hdf5\n",
      "Aborting\n",
      "001280\n",
      "[17 84]\n",
      "[199, 291, 384, 482, 512, 640, 672, 768, 818, 896, 1025, 1152, 1162, 1280]\n",
      "cptmarvel.cosmo25cmb.4096g5HbwK1BH.000113 does not exist or has incorrect permissions\n",
      "Steplist ['/home/selvani/MAP/Sims/cptmarvel.cosmo25cmb/cptmarvel.cosmo25cmb.4096g5HbwK1BH/cptmarvel.4096g5HbwK1BH_bn/cptmarvel.cosmo25cmb.4096g5HbwK1BH.001280', '/home/selvani/MAP/Sims/cptmarvel.cosmo25cmb/cptmarvel.cosmo25cmb.4096g5HbwK1BH/cptmarvel.4096g5HbwK1BH_bn/cptmarvel.cosmo25cmb.4096g5HbwK1BH.001162', '/home/selvani/MAP/Sims/cptmarvel.cosmo25cmb/cptmarvel.cosmo25cmb.4096g5HbwK1BH/cptmarvel.4096g5HbwK1BH_bn/cptmarvel.cosmo25cmb.4096g5HbwK1BH.001152', '/home/selvani/MAP/Sims/cptmarvel.cosmo25cmb/cptmarvel.cosmo25cmb.4096g5HbwK1BH/cptmarvel.4096g5HbwK1BH_bn/cptmarvel.cosmo25cmb.4096g5HbwK1BH.001025', '/home/selvani/MAP/Sims/cptmarvel.cosmo25cmb/cptmarvel.cosmo25cmb.4096g5HbwK1BH/cptmarvel.4096g5HbwK1BH_bn/cptmarvel.cosmo25cmb.4096g5HbwK1BH.000896', '/home/selvani/MAP/Sims/cptmarvel.cosmo25cmb/cptmarvel.cosmo25cmb.4096g5HbwK1BH/cptmarvel.4096g5HbwK1BH_bn/cptmarvel.cosmo25cmb.4096g5HbwK1BH.000818', '/home/selvani/MAP/Sims/cptmarvel.cosmo25cmb/cptmarvel.cosmo25cmb.4096g5HbwK1BH/cptmarvel.4096g5HbwK1BH_bn/cptmarvel.cosmo25cmb.4096g5HbwK1BH.000768', '/home/selvani/MAP/Sims/cptmarvel.cosmo25cmb/cptmarvel.cosmo25cmb.4096g5HbwK1BH/cptmarvel.4096g5HbwK1BH_bn/cptmarvel.cosmo25cmb.4096g5HbwK1BH.000672', '/home/selvani/MAP/Sims/cptmarvel.cosmo25cmb/cptmarvel.cosmo25cmb.4096g5HbwK1BH/cptmarvel.4096g5HbwK1BH_bn/cptmarvel.cosmo25cmb.4096g5HbwK1BH.000640', '/home/selvani/MAP/Sims/cptmarvel.cosmo25cmb/cptmarvel.cosmo25cmb.4096g5HbwK1BH/cptmarvel.4096g5HbwK1BH_bn/cptmarvel.cosmo25cmb.4096g5HbwK1BH.000512', '/home/selvani/MAP/Sims/cptmarvel.cosmo25cmb/cptmarvel.cosmo25cmb.4096g5HbwK1BH/cptmarvel.4096g5HbwK1BH_bn/cptmarvel.cosmo25cmb.4096g5HbwK1BH.000482', '/home/selvani/MAP/Sims/cptmarvel.cosmo25cmb/cptmarvel.cosmo25cmb.4096g5HbwK1BH/cptmarvel.4096g5HbwK1BH_bn/cptmarvel.cosmo25cmb.4096g5HbwK1BH.000384', '/home/selvani/MAP/Sims/cptmarvel.cosmo25cmb/cptmarvel.cosmo25cmb.4096g5HbwK1BH/cptmarvel.4096g5HbwK1BH_bn/cptmarvel.cosmo25cmb.4096g5HbwK1BH.000291', '/home/selvani/MAP/Sims/cptmarvel.cosmo25cmb/cptmarvel.cosmo25cmb.4096g5HbwK1BH/cptmarvel.4096g5HbwK1BH_bn/cptmarvel.cosmo25cmb.4096g5HbwK1BH.000199']\n",
      "File exists: /home/selvani/MAP/pynbody/AnnaWright_startrace/home/selvani/MAP/Sims/cptmarvel.cosmo25cmb/cptmarvel.cosmo25cmb.4096g5HbwK1BH/cptmarvel.4096g5HbwK1BH_bn/cptmarvel.cosmo25cmb.4096g5HbwK1BH.001280.trace_back_merge.hdf5\n",
      "Aborting\n",
      "001162\n",
      "[14 72]\n",
      "[199, 291, 384, 482, 512, 640, 672, 768, 818, 896, 1025, 1152, 1162]\n",
      "cptmarvel.cosmo25cmb.4096g5HbwK1BH.000113 does not exist or has incorrect permissions\n",
      "Steplist ['/home/selvani/MAP/Sims/cptmarvel.cosmo25cmb/cptmarvel.cosmo25cmb.4096g5HbwK1BH/cptmarvel.4096g5HbwK1BH_bn/cptmarvel.cosmo25cmb.4096g5HbwK1BH.001162', '/home/selvani/MAP/Sims/cptmarvel.cosmo25cmb/cptmarvel.cosmo25cmb.4096g5HbwK1BH/cptmarvel.4096g5HbwK1BH_bn/cptmarvel.cosmo25cmb.4096g5HbwK1BH.001152', '/home/selvani/MAP/Sims/cptmarvel.cosmo25cmb/cptmarvel.cosmo25cmb.4096g5HbwK1BH/cptmarvel.4096g5HbwK1BH_bn/cptmarvel.cosmo25cmb.4096g5HbwK1BH.001025', '/home/selvani/MAP/Sims/cptmarvel.cosmo25cmb/cptmarvel.cosmo25cmb.4096g5HbwK1BH/cptmarvel.4096g5HbwK1BH_bn/cptmarvel.cosmo25cmb.4096g5HbwK1BH.000896', '/home/selvani/MAP/Sims/cptmarvel.cosmo25cmb/cptmarvel.cosmo25cmb.4096g5HbwK1BH/cptmarvel.4096g5HbwK1BH_bn/cptmarvel.cosmo25cmb.4096g5HbwK1BH.000818', '/home/selvani/MAP/Sims/cptmarvel.cosmo25cmb/cptmarvel.cosmo25cmb.4096g5HbwK1BH/cptmarvel.4096g5HbwK1BH_bn/cptmarvel.cosmo25cmb.4096g5HbwK1BH.000768', '/home/selvani/MAP/Sims/cptmarvel.cosmo25cmb/cptmarvel.cosmo25cmb.4096g5HbwK1BH/cptmarvel.4096g5HbwK1BH_bn/cptmarvel.cosmo25cmb.4096g5HbwK1BH.000672', '/home/selvani/MAP/Sims/cptmarvel.cosmo25cmb/cptmarvel.cosmo25cmb.4096g5HbwK1BH/cptmarvel.4096g5HbwK1BH_bn/cptmarvel.cosmo25cmb.4096g5HbwK1BH.000640', '/home/selvani/MAP/Sims/cptmarvel.cosmo25cmb/cptmarvel.cosmo25cmb.4096g5HbwK1BH/cptmarvel.4096g5HbwK1BH_bn/cptmarvel.cosmo25cmb.4096g5HbwK1BH.000512', '/home/selvani/MAP/Sims/cptmarvel.cosmo25cmb/cptmarvel.cosmo25cmb.4096g5HbwK1BH/cptmarvel.4096g5HbwK1BH_bn/cptmarvel.cosmo25cmb.4096g5HbwK1BH.000482', '/home/selvani/MAP/Sims/cptmarvel.cosmo25cmb/cptmarvel.cosmo25cmb.4096g5HbwK1BH/cptmarvel.4096g5HbwK1BH_bn/cptmarvel.cosmo25cmb.4096g5HbwK1BH.000384', '/home/selvani/MAP/Sims/cptmarvel.cosmo25cmb/cptmarvel.cosmo25cmb.4096g5HbwK1BH/cptmarvel.4096g5HbwK1BH_bn/cptmarvel.cosmo25cmb.4096g5HbwK1BH.000291', '/home/selvani/MAP/Sims/cptmarvel.cosmo25cmb/cptmarvel.cosmo25cmb.4096g5HbwK1BH/cptmarvel.4096g5HbwK1BH_bn/cptmarvel.cosmo25cmb.4096g5HbwK1BH.000199']\n",
      "File will be saved as /home/selvani/MAP/pynbody/AnnaWright_startrace/home/selvani/MAP/Sims/cptmarvel.cosmo25cmb/cptmarvel.cosmo25cmb.4096g5HbwK1BH/cptmarvel.4096g5HbwK1BH_bn/cptmarvel.cosmo25cmb.4096g5HbwK1BH.001162.trace_back_merge.hdf5\n",
      "grplist= [14 72]\n"
     ]
    },
    {
     "name": "stderr",
     "output_type": "stream",
     "text": [
      "pynbody.halo : Unable to load AHF substructure file; continuing without. To expose the underlying problem as an exception, pass ignore_missing_substructure=False to the AHFCatalogue constructor\n"
     ]
    },
    {
     "data": {
      "application/vnd.jupyter.widget-view+json": {
       "model_id": "9b770c1aec444f309bf3ed90404925a1",
       "version_major": 2,
       "version_minor": 0
      },
      "text/plain": [
       "Tracing halos:   0%|          | 0/12 [00:00<?, ?step/s]"
      ]
     },
     "metadata": {},
     "output_type": "display_data"
    },
    {
     "name": "stdout",
     "output_type": "stream",
     "text": [
      "Starting step 001152\n",
      "Advanced step 001025\n"
     ]
    },
    {
     "name": "stderr",
     "output_type": "stream",
     "text": [
      "pynbody.halo : Unable to load AHF substructure file; continuing without. To expose the underlying problem as an exception, pass ignore_missing_substructure=False to the AHFCatalogue constructor\n"
     ]
    },
    {
     "name": "stdout",
     "output_type": "stream",
     "text": [
      "\tMatching halos by merit function\n",
      "108\n",
      "\tdone matching halos\n"
     ]
    },
    {
     "name": "stderr",
     "output_type": "stream",
     "text": [
      "pynbody.halo : Unable to load AHF substructure file; continuing without. To expose the underlying problem as an exception, pass ignore_missing_substructure=False to the AHFCatalogue constructor\n"
     ]
    },
    {
     "name": "stdout",
     "output_type": "stream",
     "text": [
      "\tMatching halos by merit function\n",
      "108\n",
      "\tWarning: Some halos have zero particles\n",
      "\tZeros in Ni: 5, Zeros in Nj: 3\n",
      "Finished\n",
      "\n",
      "Starting step 001025\n"
     ]
    },
    {
     "name": "stderr",
     "output_type": "stream",
     "text": [
      "/home/selvani/MAP/pynbody/halo_trace/halo_trace/tracing.py:81: RuntimeWarning: invalid value encountered in divide\n",
      "  merit_f = mat**2/np.outer(Ni, Nj)\n",
      "pynbody.halo : Unable to load AHF substructure file; continuing without. To expose the underlying problem as an exception, pass ignore_missing_substructure=False to the AHFCatalogue constructor\n"
     ]
    },
    {
     "name": "stdout",
     "output_type": "stream",
     "text": [
      "\tMatching halos by merit function\n",
      "93\n",
      "\tWarning: Some halos have zero particles\n",
      "\tZeros in Ni: 5, Zeros in Nj: 3\n",
      "\tdone matching halos\n",
      "Cross-checking step 001025\n",
      "\n",
      "Finished\n",
      "\n",
      "Starting step 000896\n",
      "Advanced step 000818\n"
     ]
    },
    {
     "name": "stderr",
     "output_type": "stream",
     "text": [
      "/home/selvani/MAP/pynbody/halo_trace/halo_trace/tracing.py:81: RuntimeWarning: invalid value encountered in divide\n",
      "  merit_f = mat**2/np.outer(Ni, Nj)\n",
      "pynbody.halo : Unable to load AHF substructure file; continuing without. To expose the underlying problem as an exception, pass ignore_missing_substructure=False to the AHFCatalogue constructor\n"
     ]
    },
    {
     "name": "stdout",
     "output_type": "stream",
     "text": [
      "\tMatching halos by merit function\n",
      "42\n",
      "\tWarning: Some halos have zero particles\n",
      "\tZeros in Ni: 3, Zeros in Nj: 2\n",
      "\tdone matching halos\n"
     ]
    },
    {
     "name": "stderr",
     "output_type": "stream",
     "text": [
      "/home/selvani/MAP/pynbody/halo_trace/halo_trace/tracing.py:81: RuntimeWarning: invalid value encountered in divide\n",
      "  merit_f = mat**2/np.outer(Ni, Nj)\n",
      "pynbody.halo : Unable to load AHF substructure file; continuing without. To expose the underlying problem as an exception, pass ignore_missing_substructure=False to the AHFCatalogue constructor\n"
     ]
    },
    {
     "name": "stdout",
     "output_type": "stream",
     "text": [
      "\tMatching halos by merit function\n",
      "42\n",
      "\tWarning: Some halos have zero particles\n",
      "\tZeros in Ni: 7, Zeros in Nj: 5\n",
      "Finished\n",
      "\n",
      "Starting step 000818\n"
     ]
    },
    {
     "name": "stderr",
     "output_type": "stream",
     "text": [
      "pynbody.halo : Unable to load AHF substructure file; continuing without. To expose the underlying problem as an exception, pass ignore_missing_substructure=False to the AHFCatalogue constructor\n"
     ]
    },
    {
     "name": "stdout",
     "output_type": "stream",
     "text": [
      "\tMatching halos by merit function\n",
      "43\n",
      "\tWarning: Some halos have zero particles\n",
      "\tZeros in Ni: 4, Zeros in Nj: 3\n",
      "\tdone matching halos\n",
      "Cross-checking step 000818\n",
      "\n",
      "Finished\n",
      "\n",
      "Starting step 000768\n",
      "Advanced step 000672\n"
     ]
    },
    {
     "name": "stderr",
     "output_type": "stream",
     "text": [
      "/home/selvani/MAP/pynbody/halo_trace/halo_trace/tracing.py:81: RuntimeWarning: invalid value encountered in divide\n",
      "  merit_f = mat**2/np.outer(Ni, Nj)\n",
      "pynbody.halo : Unable to load AHF substructure file; continuing without. To expose the underlying problem as an exception, pass ignore_missing_substructure=False to the AHFCatalogue constructor\n"
     ]
    },
    {
     "name": "stdout",
     "output_type": "stream",
     "text": [
      "\tMatching halos by merit function\n",
      "42\n",
      "\tWarning: Some halos have zero particles\n",
      "\tZeros in Ni: 2, Zeros in Nj: 0\n",
      "\tdone matching halos\n"
     ]
    },
    {
     "name": "stderr",
     "output_type": "stream",
     "text": [
      "/home/selvani/MAP/pynbody/halo_trace/halo_trace/tracing.py:81: RuntimeWarning: invalid value encountered in divide\n",
      "  merit_f = mat**2/np.outer(Ni, Nj)\n",
      "pynbody.halo : Unable to load AHF substructure file; continuing without. To expose the underlying problem as an exception, pass ignore_missing_substructure=False to the AHFCatalogue constructor\n"
     ]
    },
    {
     "name": "stdout",
     "output_type": "stream",
     "text": [
      "\tMatching halos by merit function\n",
      "42\n",
      "\tWarning: Some halos have zero particles\n",
      "\tZeros in Ni: 10, Zeros in Nj: 3\n",
      "Finished\n",
      "\n",
      "Starting step 000672\n"
     ]
    },
    {
     "name": "stderr",
     "output_type": "stream",
     "text": [
      "pynbody.halo : Unable to load AHF substructure file; continuing without. To expose the underlying problem as an exception, pass ignore_missing_substructure=False to the AHFCatalogue constructor\n"
     ]
    },
    {
     "name": "stdout",
     "output_type": "stream",
     "text": [
      "\tMatching halos by merit function\n",
      "43\n",
      "\tWarning: Some halos have zero particles\n",
      "\tZeros in Ni: 9, Zeros in Nj: 3\n",
      "\tdone matching halos\n",
      "Cross-checking step 000672\n",
      "\n",
      "Finished\n",
      "\n",
      "Starting step 000640\n",
      "Advanced step 000512\n"
     ]
    },
    {
     "name": "stderr",
     "output_type": "stream",
     "text": [
      "/home/selvani/MAP/pynbody/halo_trace/halo_trace/tracing.py:81: RuntimeWarning: invalid value encountered in divide\n",
      "  merit_f = mat**2/np.outer(Ni, Nj)\n",
      "pynbody.halo : Unable to load AHF substructure file; continuing without. To expose the underlying problem as an exception, pass ignore_missing_substructure=False to the AHFCatalogue constructor\n"
     ]
    },
    {
     "name": "stdout",
     "output_type": "stream",
     "text": [
      "\tMatching halos by merit function\n",
      "43\n",
      "\tWarning: Some halos have zero particles\n",
      "\tZeros in Ni: 1, Zeros in Nj: 1\n",
      "\tdone matching halos\n"
     ]
    },
    {
     "name": "stderr",
     "output_type": "stream",
     "text": [
      "/home/selvani/MAP/pynbody/halo_trace/halo_trace/tracing.py:81: RuntimeWarning: invalid value encountered in divide\n",
      "  merit_f = mat**2/np.outer(Ni, Nj)\n",
      "pynbody.halo : Unable to load AHF substructure file; continuing without. To expose the underlying problem as an exception, pass ignore_missing_substructure=False to the AHFCatalogue constructor\n"
     ]
    },
    {
     "name": "stdout",
     "output_type": "stream",
     "text": [
      "\tMatching halos by merit function\n",
      "43\n",
      "\tWarning: Some halos have zero particles\n",
      "\tZeros in Ni: 12, Zeros in Nj: 3\n",
      "Finished\n",
      "\n",
      "Starting step 000512\n"
     ]
    },
    {
     "name": "stderr",
     "output_type": "stream",
     "text": [
      "pynbody.halo : Unable to load AHF substructure file; continuing without. To expose the underlying problem as an exception, pass ignore_missing_substructure=False to the AHFCatalogue constructor\n"
     ]
    },
    {
     "name": "stdout",
     "output_type": "stream",
     "text": [
      "\tMatching halos by merit function\n",
      "39\n",
      "\tWarning: Some halos have zero particles\n",
      "\tZeros in Ni: 11, Zeros in Nj: 2\n",
      "\tdone matching halos\n",
      "Cross-checking step 000512\n",
      "\n",
      "Finished\n",
      "\n",
      "Starting step 000482\n",
      "Advanced step 000384\n"
     ]
    },
    {
     "name": "stderr",
     "output_type": "stream",
     "text": [
      "/home/selvani/MAP/pynbody/halo_trace/halo_trace/tracing.py:81: RuntimeWarning: invalid value encountered in divide\n",
      "  merit_f = mat**2/np.outer(Ni, Nj)\n",
      "pynbody.halo : Unable to load AHF substructure file; continuing without. To expose the underlying problem as an exception, pass ignore_missing_substructure=False to the AHFCatalogue constructor\n"
     ]
    },
    {
     "name": "stdout",
     "output_type": "stream",
     "text": [
      "\tMatching halos by merit function\n",
      "30\n",
      "\tWarning: Some halos have zero particles\n",
      "\tZeros in Ni: 6, Zeros in Nj: 3\n",
      "\tdone matching halos\n"
     ]
    },
    {
     "name": "stderr",
     "output_type": "stream",
     "text": [
      "/home/selvani/MAP/pynbody/halo_trace/halo_trace/tracing.py:81: RuntimeWarning: invalid value encountered in divide\n",
      "  merit_f = mat**2/np.outer(Ni, Nj)\n",
      "pynbody.halo : Unable to load AHF substructure file; continuing without. To expose the underlying problem as an exception, pass ignore_missing_substructure=False to the AHFCatalogue constructor\n"
     ]
    },
    {
     "name": "stdout",
     "output_type": "stream",
     "text": [
      "\tMatching halos by merit function\n",
      "30\n",
      "\tWarning: Some halos have zero particles\n",
      "\tZeros in Ni: 19, Zeros in Nj: 6\n",
      "Finished\n",
      "\n",
      "Starting step 000384\n"
     ]
    },
    {
     "name": "stderr",
     "output_type": "stream",
     "text": [
      "pynbody.halo : Unable to load AHF substructure file; continuing without. To expose the underlying problem as an exception, pass ignore_missing_substructure=False to the AHFCatalogue constructor\n"
     ]
    },
    {
     "name": "stdout",
     "output_type": "stream",
     "text": [
      "\tMatching halos by merit function\n",
      "31\n",
      "\tWarning: Some halos have zero particles\n",
      "\tZeros in Ni: 15, Zeros in Nj: 6\n",
      "\tdone matching halos\n",
      "Cross-checking step 000384\n",
      "\n",
      "Finished\n",
      "\n",
      "Starting step 000291\n"
     ]
    },
    {
     "name": "stderr",
     "output_type": "stream",
     "text": [
      "/home/selvani/MAP/pynbody/halo_trace/halo_trace/tracing.py:81: RuntimeWarning: invalid value encountered in divide\n",
      "  merit_f = mat**2/np.outer(Ni, Nj)\n"
     ]
    },
    {
     "name": "stdout",
     "output_type": "stream",
     "text": [
      "Advanced step 000199\n"
     ]
    },
    {
     "name": "stderr",
     "output_type": "stream",
     "text": [
      "pynbody.halo : Unable to load AHF substructure file; continuing without. To expose the underlying problem as an exception, pass ignore_missing_substructure=False to the AHFCatalogue constructor\n"
     ]
    },
    {
     "name": "stdout",
     "output_type": "stream",
     "text": [
      "\tMatching halos by merit function\n",
      "43\n",
      "\tWarning: Some halos have zero particles\n",
      "\tZeros in Ni: 16, Zeros in Nj: 8\n",
      "\tdone matching halos\n"
     ]
    },
    {
     "name": "stderr",
     "output_type": "stream",
     "text": [
      "/home/selvani/MAP/pynbody/halo_trace/halo_trace/tracing.py:81: RuntimeWarning: invalid value encountered in divide\n",
      "  merit_f = mat**2/np.outer(Ni, Nj)\n"
     ]
    },
    {
     "name": "stdout",
     "output_type": "stream",
     "text": [
      "\tMatching halos by merit function\n",
      "43\n",
      "\tWarning: Some halos have zero particles\n",
      "\tZeros in Ni: 27, Zeros in Nj: 6\n",
      "Finished\n",
      "\n",
      "Starting step 000199\n",
      "\tMatching halos by merit function\n",
      "36\n",
      "\tWarning: Some halos have zero particles\n",
      "\tZeros in Ni: 23, Zeros in Nj: 5\n",
      "\tdone matching halos\n",
      "Cross-checking step 000199\n",
      "\n",
      "Finished\n",
      "\n"
     ]
    },
    {
     "name": "stderr",
     "output_type": "stream",
     "text": [
      "/home/selvani/MAP/pynbody/halo_trace/halo_trace/tracing.py:81: RuntimeWarning: invalid value encountered in divide\n",
      "  merit_f = mat**2/np.outer(Ni, Nj)\n"
     ]
    },
    {
     "name": "stdout",
     "output_type": "stream",
     "text": [
      "001152\n",
      "[62]\n",
      "[199, 291, 384, 482, 512, 640, 672, 768, 818, 896, 1025, 1152]\n",
      "cptmarvel.cosmo25cmb.4096g5HbwK1BH.000113 does not exist or has incorrect permissions\n",
      "Steplist ['/home/selvani/MAP/Sims/cptmarvel.cosmo25cmb/cptmarvel.cosmo25cmb.4096g5HbwK1BH/cptmarvel.4096g5HbwK1BH_bn/cptmarvel.cosmo25cmb.4096g5HbwK1BH.001152', '/home/selvani/MAP/Sims/cptmarvel.cosmo25cmb/cptmarvel.cosmo25cmb.4096g5HbwK1BH/cptmarvel.4096g5HbwK1BH_bn/cptmarvel.cosmo25cmb.4096g5HbwK1BH.001025', '/home/selvani/MAP/Sims/cptmarvel.cosmo25cmb/cptmarvel.cosmo25cmb.4096g5HbwK1BH/cptmarvel.4096g5HbwK1BH_bn/cptmarvel.cosmo25cmb.4096g5HbwK1BH.000896', '/home/selvani/MAP/Sims/cptmarvel.cosmo25cmb/cptmarvel.cosmo25cmb.4096g5HbwK1BH/cptmarvel.4096g5HbwK1BH_bn/cptmarvel.cosmo25cmb.4096g5HbwK1BH.000818', '/home/selvani/MAP/Sims/cptmarvel.cosmo25cmb/cptmarvel.cosmo25cmb.4096g5HbwK1BH/cptmarvel.4096g5HbwK1BH_bn/cptmarvel.cosmo25cmb.4096g5HbwK1BH.000768', '/home/selvani/MAP/Sims/cptmarvel.cosmo25cmb/cptmarvel.cosmo25cmb.4096g5HbwK1BH/cptmarvel.4096g5HbwK1BH_bn/cptmarvel.cosmo25cmb.4096g5HbwK1BH.000672', '/home/selvani/MAP/Sims/cptmarvel.cosmo25cmb/cptmarvel.cosmo25cmb.4096g5HbwK1BH/cptmarvel.4096g5HbwK1BH_bn/cptmarvel.cosmo25cmb.4096g5HbwK1BH.000640', '/home/selvani/MAP/Sims/cptmarvel.cosmo25cmb/cptmarvel.cosmo25cmb.4096g5HbwK1BH/cptmarvel.4096g5HbwK1BH_bn/cptmarvel.cosmo25cmb.4096g5HbwK1BH.000512', '/home/selvani/MAP/Sims/cptmarvel.cosmo25cmb/cptmarvel.cosmo25cmb.4096g5HbwK1BH/cptmarvel.4096g5HbwK1BH_bn/cptmarvel.cosmo25cmb.4096g5HbwK1BH.000482', '/home/selvani/MAP/Sims/cptmarvel.cosmo25cmb/cptmarvel.cosmo25cmb.4096g5HbwK1BH/cptmarvel.4096g5HbwK1BH_bn/cptmarvel.cosmo25cmb.4096g5HbwK1BH.000384', '/home/selvani/MAP/Sims/cptmarvel.cosmo25cmb/cptmarvel.cosmo25cmb.4096g5HbwK1BH/cptmarvel.4096g5HbwK1BH_bn/cptmarvel.cosmo25cmb.4096g5HbwK1BH.000291', '/home/selvani/MAP/Sims/cptmarvel.cosmo25cmb/cptmarvel.cosmo25cmb.4096g5HbwK1BH/cptmarvel.4096g5HbwK1BH_bn/cptmarvel.cosmo25cmb.4096g5HbwK1BH.000199']\n",
      "File will be saved as /home/selvani/MAP/pynbody/AnnaWright_startrace/home/selvani/MAP/Sims/cptmarvel.cosmo25cmb/cptmarvel.cosmo25cmb.4096g5HbwK1BH/cptmarvel.4096g5HbwK1BH_bn/cptmarvel.cosmo25cmb.4096g5HbwK1BH.001152.trace_back_merge.hdf5\n",
      "grplist= [62]\n"
     ]
    },
    {
     "name": "stderr",
     "output_type": "stream",
     "text": [
      "pynbody.halo : Unable to load AHF substructure file; continuing without. To expose the underlying problem as an exception, pass ignore_missing_substructure=False to the AHFCatalogue constructor\n"
     ]
    },
    {
     "data": {
      "application/vnd.jupyter.widget-view+json": {
       "model_id": "957c5d2d56dd423d87d63844b213a1bd",
       "version_major": 2,
       "version_minor": 0
      },
      "text/plain": [
       "Tracing halos:   0%|          | 0/11 [00:00<?, ?step/s]"
      ]
     },
     "metadata": {},
     "output_type": "display_data"
    },
    {
     "name": "stdout",
     "output_type": "stream",
     "text": [
      "Starting step 001025\n",
      "Advanced step 000896\n"
     ]
    },
    {
     "name": "stderr",
     "output_type": "stream",
     "text": [
      "pynbody.halo : Unable to load AHF substructure file; continuing without. To expose the underlying problem as an exception, pass ignore_missing_substructure=False to the AHFCatalogue constructor\n"
     ]
    },
    {
     "name": "stdout",
     "output_type": "stream",
     "text": [
      "\tMatching halos by merit function\n",
      "93\n",
      "\tWarning: Some halos have zero particles\n",
      "\tZeros in Ni: 5, Zeros in Nj: 3\n",
      "\tdone matching halos\n"
     ]
    },
    {
     "name": "stderr",
     "output_type": "stream",
     "text": [
      "/home/selvani/MAP/pynbody/halo_trace/halo_trace/tracing.py:81: RuntimeWarning: invalid value encountered in divide\n",
      "  merit_f = mat**2/np.outer(Ni, Nj)\n",
      "pynbody.halo : Unable to load AHF substructure file; continuing without. To expose the underlying problem as an exception, pass ignore_missing_substructure=False to the AHFCatalogue constructor\n"
     ]
    },
    {
     "name": "stdout",
     "output_type": "stream",
     "text": [
      "\tMatching halos by merit function\n",
      "93\n",
      "\tWarning: Some halos have zero particles\n",
      "\tZeros in Ni: 8, Zeros in Nj: 4\n",
      "Finished\n",
      "\n",
      "Starting step 000896\n"
     ]
    },
    {
     "name": "stderr",
     "output_type": "stream",
     "text": [
      "pynbody.halo : Unable to load AHF substructure file; continuing without. To expose the underlying problem as an exception, pass ignore_missing_substructure=False to the AHFCatalogue constructor\n"
     ]
    },
    {
     "name": "stdout",
     "output_type": "stream",
     "text": [
      "\tMatching halos by merit function\n",
      "42\n",
      "\tWarning: Some halos have zero particles\n",
      "\tZeros in Ni: 3, Zeros in Nj: 2\n",
      "\tdone matching halos\n",
      "Cross-checking step 000896\n",
      "\n",
      "Finished\n",
      "\n",
      "Starting step 000818\n",
      "Advanced step 000768\n"
     ]
    },
    {
     "name": "stderr",
     "output_type": "stream",
     "text": [
      "/home/selvani/MAP/pynbody/halo_trace/halo_trace/tracing.py:81: RuntimeWarning: invalid value encountered in divide\n",
      "  merit_f = mat**2/np.outer(Ni, Nj)\n",
      "pynbody.halo : Unable to load AHF substructure file; continuing without. To expose the underlying problem as an exception, pass ignore_missing_substructure=False to the AHFCatalogue constructor\n"
     ]
    },
    {
     "name": "stdout",
     "output_type": "stream",
     "text": [
      "\tMatching halos by merit function\n",
      "43\n",
      "\tWarning: Some halos have zero particles\n",
      "\tZeros in Ni: 4, Zeros in Nj: 3\n",
      "\tdone matching halos\n"
     ]
    },
    {
     "name": "stderr",
     "output_type": "stream",
     "text": [
      "/home/selvani/MAP/pynbody/halo_trace/halo_trace/tracing.py:81: RuntimeWarning: invalid value encountered in divide\n",
      "  merit_f = mat**2/np.outer(Ni, Nj)\n",
      "pynbody.halo : Unable to load AHF substructure file; continuing without. To expose the underlying problem as an exception, pass ignore_missing_substructure=False to the AHFCatalogue constructor\n"
     ]
    },
    {
     "name": "stdout",
     "output_type": "stream",
     "text": [
      "\tMatching halos by merit function\n",
      "43\n",
      "\tWarning: Some halos have zero particles\n",
      "\tZeros in Ni: 6, Zeros in Nj: 3\n",
      "Finished\n",
      "\n",
      "Starting step 000768\n"
     ]
    },
    {
     "name": "stderr",
     "output_type": "stream",
     "text": [
      "pynbody.halo : Unable to load AHF substructure file; continuing without. To expose the underlying problem as an exception, pass ignore_missing_substructure=False to the AHFCatalogue constructor\n"
     ]
    },
    {
     "name": "stdout",
     "output_type": "stream",
     "text": [
      "\tMatching halos by merit function\n",
      "42\n",
      "\tWarning: Some halos have zero particles\n",
      "\tZeros in Ni: 2, Zeros in Nj: 0\n",
      "\tdone matching halos\n",
      "Cross-checking step 000768\n",
      "\n",
      "Finished\n",
      "\n",
      "Starting step 000672\n",
      "Advanced step 000640\n"
     ]
    },
    {
     "name": "stderr",
     "output_type": "stream",
     "text": [
      "/home/selvani/MAP/pynbody/halo_trace/halo_trace/tracing.py:81: RuntimeWarning: invalid value encountered in divide\n",
      "  merit_f = mat**2/np.outer(Ni, Nj)\n",
      "pynbody.halo : Unable to load AHF substructure file; continuing without. To expose the underlying problem as an exception, pass ignore_missing_substructure=False to the AHFCatalogue constructor\n"
     ]
    },
    {
     "name": "stdout",
     "output_type": "stream",
     "text": [
      "\tMatching halos by merit function\n",
      "43\n",
      "\tWarning: Some halos have zero particles\n",
      "\tZeros in Ni: 9, Zeros in Nj: 3\n",
      "\tdone matching halos\n"
     ]
    },
    {
     "name": "stderr",
     "output_type": "stream",
     "text": [
      "/home/selvani/MAP/pynbody/halo_trace/halo_trace/tracing.py:81: RuntimeWarning: invalid value encountered in divide\n",
      "  merit_f = mat**2/np.outer(Ni, Nj)\n",
      "pynbody.halo : Unable to load AHF substructure file; continuing without. To expose the underlying problem as an exception, pass ignore_missing_substructure=False to the AHFCatalogue constructor\n"
     ]
    },
    {
     "name": "stdout",
     "output_type": "stream",
     "text": [
      "\tMatching halos by merit function\n",
      "43\n",
      "\tWarning: Some halos have zero particles\n",
      "\tZeros in Ni: 9, Zeros in Nj: 3\n",
      "Finished\n",
      "\n",
      "Starting step 000640\n"
     ]
    },
    {
     "name": "stderr",
     "output_type": "stream",
     "text": [
      "pynbody.halo : Unable to load AHF substructure file; continuing without. To expose the underlying problem as an exception, pass ignore_missing_substructure=False to the AHFCatalogue constructor\n"
     ]
    },
    {
     "name": "stdout",
     "output_type": "stream",
     "text": [
      "\tMatching halos by merit function\n",
      "43\n",
      "\tWarning: Some halos have zero particles\n",
      "\tZeros in Ni: 1, Zeros in Nj: 1\n",
      "\tdone matching halos\n",
      "Cross-checking step 000640\n",
      "\n",
      "Finished\n",
      "\n",
      "Starting step 000512\n",
      "Advanced step 000482\n"
     ]
    },
    {
     "name": "stderr",
     "output_type": "stream",
     "text": [
      "/home/selvani/MAP/pynbody/halo_trace/halo_trace/tracing.py:81: RuntimeWarning: invalid value encountered in divide\n",
      "  merit_f = mat**2/np.outer(Ni, Nj)\n",
      "pynbody.halo : Unable to load AHF substructure file; continuing without. To expose the underlying problem as an exception, pass ignore_missing_substructure=False to the AHFCatalogue constructor\n"
     ]
    },
    {
     "name": "stdout",
     "output_type": "stream",
     "text": [
      "\tMatching halos by merit function\n",
      "39\n",
      "\tWarning: Some halos have zero particles\n",
      "\tZeros in Ni: 11, Zeros in Nj: 2\n",
      "\tdone matching halos\n"
     ]
    },
    {
     "name": "stderr",
     "output_type": "stream",
     "text": [
      "/home/selvani/MAP/pynbody/halo_trace/halo_trace/tracing.py:81: RuntimeWarning: invalid value encountered in divide\n",
      "  merit_f = mat**2/np.outer(Ni, Nj)\n",
      "pynbody.halo : Unable to load AHF substructure file; continuing without. To expose the underlying problem as an exception, pass ignore_missing_substructure=False to the AHFCatalogue constructor\n"
     ]
    },
    {
     "name": "stdout",
     "output_type": "stream",
     "text": [
      "\tMatching halos by merit function\n",
      "39\n",
      "\tWarning: Some halos have zero particles\n",
      "\tZeros in Ni: 15, Zeros in Nj: 1\n",
      "Finished\n",
      "\n",
      "Starting step 000482\n"
     ]
    },
    {
     "name": "stderr",
     "output_type": "stream",
     "text": [
      "pynbody.halo : Unable to load AHF substructure file; continuing without. To expose the underlying problem as an exception, pass ignore_missing_substructure=False to the AHFCatalogue constructor\n"
     ]
    },
    {
     "name": "stdout",
     "output_type": "stream",
     "text": [
      "\tMatching halos by merit function\n",
      "30\n",
      "\tWarning: Some halos have zero particles\n",
      "\tZeros in Ni: 6, Zeros in Nj: 3\n",
      "\tdone matching halos\n",
      "Cross-checking step 000482\n",
      "\n",
      "Finished\n",
      "\n",
      "Starting step 000384\n",
      "Advanced step 000291\n"
     ]
    },
    {
     "name": "stderr",
     "output_type": "stream",
     "text": [
      "/home/selvani/MAP/pynbody/halo_trace/halo_trace/tracing.py:81: RuntimeWarning: invalid value encountered in divide\n",
      "  merit_f = mat**2/np.outer(Ni, Nj)\n",
      "pynbody.halo : Unable to load AHF substructure file; continuing without. To expose the underlying problem as an exception, pass ignore_missing_substructure=False to the AHFCatalogue constructor\n"
     ]
    },
    {
     "name": "stdout",
     "output_type": "stream",
     "text": [
      "\tMatching halos by merit function\n",
      "31\n",
      "\tWarning: Some halos have zero particles\n",
      "\tZeros in Ni: 15, Zeros in Nj: 6\n",
      "\tdone matching halos\n"
     ]
    },
    {
     "name": "stderr",
     "output_type": "stream",
     "text": [
      "/home/selvani/MAP/pynbody/halo_trace/halo_trace/tracing.py:81: RuntimeWarning: invalid value encountered in divide\n",
      "  merit_f = mat**2/np.outer(Ni, Nj)\n",
      "pynbody.halo : Unable to load AHF substructure file; continuing without. To expose the underlying problem as an exception, pass ignore_missing_substructure=False to the AHFCatalogue constructor\n"
     ]
    },
    {
     "name": "stdout",
     "output_type": "stream",
     "text": [
      "\tMatching halos by merit function\n",
      "31\n",
      "\tWarning: Some halos have zero particles\n",
      "\tZeros in Ni: 26, Zeros in Nj: 6\n",
      "Finished\n",
      "\n",
      "Starting step 000291\n"
     ]
    },
    {
     "name": "stderr",
     "output_type": "stream",
     "text": [
      "pynbody.halo : Unable to load AHF substructure file; continuing without. To expose the underlying problem as an exception, pass ignore_missing_substructure=False to the AHFCatalogue constructor\n"
     ]
    },
    {
     "name": "stdout",
     "output_type": "stream",
     "text": [
      "\tMatching halos by merit function\n",
      "43\n",
      "\tWarning: Some halos have zero particles\n",
      "\tZeros in Ni: 16, Zeros in Nj: 8\n",
      "\tdone matching halos\n",
      "Cross-checking step 000291\n",
      "\n",
      "Finished\n",
      "\n",
      "Starting step 000199\n"
     ]
    },
    {
     "name": "stderr",
     "output_type": "stream",
     "text": [
      "/home/selvani/MAP/pynbody/halo_trace/halo_trace/tracing.py:81: RuntimeWarning: invalid value encountered in divide\n",
      "  merit_f = mat**2/np.outer(Ni, Nj)\n"
     ]
    },
    {
     "name": "stdout",
     "output_type": "stream",
     "text": [
      "\tMatching halos by merit function\n",
      "36\n",
      "\tWarning: Some halos have zero particles\n",
      "\tZeros in Ni: 23, Zeros in Nj: 5\n",
      "\tdone matching halos\n",
      "Cross-checking step 000199\n",
      "\n",
      "Finished\n",
      "\n",
      "001025\n",
      "[13 28]\n",
      "[199, 291, 384, 482, 512, 640, 672, 768, 818, 896, 1025]\n"
     ]
    },
    {
     "name": "stderr",
     "output_type": "stream",
     "text": [
      "/home/selvani/MAP/pynbody/halo_trace/halo_trace/tracing.py:81: RuntimeWarning: invalid value encountered in divide\n",
      "  merit_f = mat**2/np.outer(Ni, Nj)\n",
      "/home/selvani/MAP/pynbody/halo_trace/halo_trace/tracing.py:279: FutureWarning: Setting an item of incompatible dtype is deprecated and will raise an error in a future version of pandas. Value '[]' has dtype incompatible with int64, please explicitly cast to a compatible dtype first.\n",
      "  df.loc[mask, step[-6:]] = df2.loc[mask, step[-6:]]\n",
      "/home/selvani/MAP/pynbody/halo_trace/halo_trace/tracing.py:294: PerformanceWarning: \n",
      "your performance may suffer as PyTables will pickle object types that it cannot\n",
      "map directly to c-types [inferred_type->integer,key->block1_values] [items->Index(['000199'], dtype='object')]\n",
      "\n",
      "  df.to_hdf(save_file, key='ids')\n"
     ]
    },
    {
     "name": "stdout",
     "output_type": "stream",
     "text": [
      "cptmarvel.cosmo25cmb.4096g5HbwK1BH.000113 does not exist or has incorrect permissions\n",
      "Steplist ['/home/selvani/MAP/Sims/cptmarvel.cosmo25cmb/cptmarvel.cosmo25cmb.4096g5HbwK1BH/cptmarvel.4096g5HbwK1BH_bn/cptmarvel.cosmo25cmb.4096g5HbwK1BH.001025', '/home/selvani/MAP/Sims/cptmarvel.cosmo25cmb/cptmarvel.cosmo25cmb.4096g5HbwK1BH/cptmarvel.4096g5HbwK1BH_bn/cptmarvel.cosmo25cmb.4096g5HbwK1BH.000896', '/home/selvani/MAP/Sims/cptmarvel.cosmo25cmb/cptmarvel.cosmo25cmb.4096g5HbwK1BH/cptmarvel.4096g5HbwK1BH_bn/cptmarvel.cosmo25cmb.4096g5HbwK1BH.000818', '/home/selvani/MAP/Sims/cptmarvel.cosmo25cmb/cptmarvel.cosmo25cmb.4096g5HbwK1BH/cptmarvel.4096g5HbwK1BH_bn/cptmarvel.cosmo25cmb.4096g5HbwK1BH.000768', '/home/selvani/MAP/Sims/cptmarvel.cosmo25cmb/cptmarvel.cosmo25cmb.4096g5HbwK1BH/cptmarvel.4096g5HbwK1BH_bn/cptmarvel.cosmo25cmb.4096g5HbwK1BH.000672', '/home/selvani/MAP/Sims/cptmarvel.cosmo25cmb/cptmarvel.cosmo25cmb.4096g5HbwK1BH/cptmarvel.4096g5HbwK1BH_bn/cptmarvel.cosmo25cmb.4096g5HbwK1BH.000640', '/home/selvani/MAP/Sims/cptmarvel.cosmo25cmb/cptmarvel.cosmo25cmb.4096g5HbwK1BH/cptmarvel.4096g5HbwK1BH_bn/cptmarvel.cosmo25cmb.4096g5HbwK1BH.000512', '/home/selvani/MAP/Sims/cptmarvel.cosmo25cmb/cptmarvel.cosmo25cmb.4096g5HbwK1BH/cptmarvel.4096g5HbwK1BH_bn/cptmarvel.cosmo25cmb.4096g5HbwK1BH.000482', '/home/selvani/MAP/Sims/cptmarvel.cosmo25cmb/cptmarvel.cosmo25cmb.4096g5HbwK1BH/cptmarvel.4096g5HbwK1BH_bn/cptmarvel.cosmo25cmb.4096g5HbwK1BH.000384', '/home/selvani/MAP/Sims/cptmarvel.cosmo25cmb/cptmarvel.cosmo25cmb.4096g5HbwK1BH/cptmarvel.4096g5HbwK1BH_bn/cptmarvel.cosmo25cmb.4096g5HbwK1BH.000291', '/home/selvani/MAP/Sims/cptmarvel.cosmo25cmb/cptmarvel.cosmo25cmb.4096g5HbwK1BH/cptmarvel.4096g5HbwK1BH_bn/cptmarvel.cosmo25cmb.4096g5HbwK1BH.000199']\n",
      "File will be saved as /home/selvani/MAP/pynbody/AnnaWright_startrace/home/selvani/MAP/Sims/cptmarvel.cosmo25cmb/cptmarvel.cosmo25cmb.4096g5HbwK1BH/cptmarvel.4096g5HbwK1BH_bn/cptmarvel.cosmo25cmb.4096g5HbwK1BH.001025.trace_back_merge.hdf5\n",
      "grplist= [13 28]\n"
     ]
    },
    {
     "name": "stderr",
     "output_type": "stream",
     "text": [
      "pynbody.halo : Unable to load AHF substructure file; continuing without. To expose the underlying problem as an exception, pass ignore_missing_substructure=False to the AHFCatalogue constructor\n"
     ]
    },
    {
     "data": {
      "application/vnd.jupyter.widget-view+json": {
       "model_id": "624e54446f28442ea7ff5c5533a409c7",
       "version_major": 2,
       "version_minor": 0
      },
      "text/plain": [
       "Tracing halos:   0%|          | 0/10 [00:00<?, ?step/s]"
      ]
     },
     "metadata": {},
     "output_type": "display_data"
    },
    {
     "name": "stdout",
     "output_type": "stream",
     "text": [
      "Starting step 000896\n",
      "Advanced step 000818\n"
     ]
    },
    {
     "name": "stderr",
     "output_type": "stream",
     "text": [
      "pynbody.halo : Unable to load AHF substructure file; continuing without. To expose the underlying problem as an exception, pass ignore_missing_substructure=False to the AHFCatalogue constructor\n"
     ]
    },
    {
     "name": "stdout",
     "output_type": "stream",
     "text": [
      "\tMatching halos by merit function\n",
      "42\n",
      "\tWarning: Some halos have zero particles\n",
      "\tZeros in Ni: 3, Zeros in Nj: 2\n",
      "\tdone matching halos\n"
     ]
    },
    {
     "name": "stderr",
     "output_type": "stream",
     "text": [
      "/home/selvani/MAP/pynbody/halo_trace/halo_trace/tracing.py:81: RuntimeWarning: invalid value encountered in divide\n",
      "  merit_f = mat**2/np.outer(Ni, Nj)\n",
      "pynbody.halo : Unable to load AHF substructure file; continuing without. To expose the underlying problem as an exception, pass ignore_missing_substructure=False to the AHFCatalogue constructor\n"
     ]
    },
    {
     "name": "stdout",
     "output_type": "stream",
     "text": [
      "\tMatching halos by merit function\n",
      "42\n",
      "\tWarning: Some halos have zero particles\n",
      "\tZeros in Ni: 7, Zeros in Nj: 5\n",
      "Finished\n",
      "\n",
      "Starting step 000818\n"
     ]
    },
    {
     "name": "stderr",
     "output_type": "stream",
     "text": [
      "pynbody.halo : Unable to load AHF substructure file; continuing without. To expose the underlying problem as an exception, pass ignore_missing_substructure=False to the AHFCatalogue constructor\n"
     ]
    },
    {
     "name": "stdout",
     "output_type": "stream",
     "text": [
      "\tMatching halos by merit function\n",
      "43\n",
      "\tWarning: Some halos have zero particles\n",
      "\tZeros in Ni: 4, Zeros in Nj: 3\n",
      "\tdone matching halos\n",
      "Cross-checking step 000818\n",
      "\n",
      "Finished\n",
      "\n",
      "Starting step 000768\n",
      "Advanced step 000672\n"
     ]
    },
    {
     "name": "stderr",
     "output_type": "stream",
     "text": [
      "/home/selvani/MAP/pynbody/halo_trace/halo_trace/tracing.py:81: RuntimeWarning: invalid value encountered in divide\n",
      "  merit_f = mat**2/np.outer(Ni, Nj)\n",
      "pynbody.halo : Unable to load AHF substructure file; continuing without. To expose the underlying problem as an exception, pass ignore_missing_substructure=False to the AHFCatalogue constructor\n"
     ]
    },
    {
     "name": "stdout",
     "output_type": "stream",
     "text": [
      "\tMatching halos by merit function\n",
      "42\n",
      "\tWarning: Some halos have zero particles\n",
      "\tZeros in Ni: 2, Zeros in Nj: 0\n",
      "\tdone matching halos\n"
     ]
    },
    {
     "name": "stderr",
     "output_type": "stream",
     "text": [
      "/home/selvani/MAP/pynbody/halo_trace/halo_trace/tracing.py:81: RuntimeWarning: invalid value encountered in divide\n",
      "  merit_f = mat**2/np.outer(Ni, Nj)\n",
      "pynbody.halo : Unable to load AHF substructure file; continuing without. To expose the underlying problem as an exception, pass ignore_missing_substructure=False to the AHFCatalogue constructor\n"
     ]
    },
    {
     "name": "stdout",
     "output_type": "stream",
     "text": [
      "\tMatching halos by merit function\n",
      "42\n",
      "\tWarning: Some halos have zero particles\n",
      "\tZeros in Ni: 10, Zeros in Nj: 3\n",
      "Finished\n",
      "\n",
      "Starting step 000672\n"
     ]
    },
    {
     "name": "stderr",
     "output_type": "stream",
     "text": [
      "pynbody.halo : Unable to load AHF substructure file; continuing without. To expose the underlying problem as an exception, pass ignore_missing_substructure=False to the AHFCatalogue constructor\n"
     ]
    },
    {
     "name": "stdout",
     "output_type": "stream",
     "text": [
      "\tMatching halos by merit function\n",
      "43\n",
      "\tWarning: Some halos have zero particles\n",
      "\tZeros in Ni: 9, Zeros in Nj: 3\n",
      "\tdone matching halos\n",
      "Cross-checking step 000672\n",
      "\n",
      "Finished\n",
      "\n",
      "Starting step 000640\n",
      "Advanced step 000512\n"
     ]
    },
    {
     "name": "stderr",
     "output_type": "stream",
     "text": [
      "/home/selvani/MAP/pynbody/halo_trace/halo_trace/tracing.py:81: RuntimeWarning: invalid value encountered in divide\n",
      "  merit_f = mat**2/np.outer(Ni, Nj)\n",
      "pynbody.halo : Unable to load AHF substructure file; continuing without. To expose the underlying problem as an exception, pass ignore_missing_substructure=False to the AHFCatalogue constructor\n"
     ]
    },
    {
     "name": "stdout",
     "output_type": "stream",
     "text": [
      "\tMatching halos by merit function\n",
      "43\n",
      "\tWarning: Some halos have zero particles\n",
      "\tZeros in Ni: 1, Zeros in Nj: 1\n",
      "\tdone matching halos\n"
     ]
    },
    {
     "name": "stderr",
     "output_type": "stream",
     "text": [
      "/home/selvani/MAP/pynbody/halo_trace/halo_trace/tracing.py:81: RuntimeWarning: invalid value encountered in divide\n",
      "  merit_f = mat**2/np.outer(Ni, Nj)\n",
      "pynbody.halo : Unable to load AHF substructure file; continuing without. To expose the underlying problem as an exception, pass ignore_missing_substructure=False to the AHFCatalogue constructor\n"
     ]
    },
    {
     "name": "stdout",
     "output_type": "stream",
     "text": [
      "\tMatching halos by merit function\n",
      "43\n",
      "\tWarning: Some halos have zero particles\n",
      "\tZeros in Ni: 12, Zeros in Nj: 3\n",
      "Finished\n",
      "\n",
      "Starting step 000512\n"
     ]
    },
    {
     "name": "stderr",
     "output_type": "stream",
     "text": [
      "pynbody.halo : Unable to load AHF substructure file; continuing without. To expose the underlying problem as an exception, pass ignore_missing_substructure=False to the AHFCatalogue constructor\n"
     ]
    },
    {
     "name": "stdout",
     "output_type": "stream",
     "text": [
      "\tMatching halos by merit function\n",
      "39\n",
      "\tWarning: Some halos have zero particles\n",
      "\tZeros in Ni: 11, Zeros in Nj: 2\n",
      "\tdone matching halos\n",
      "Cross-checking step 000512\n",
      "\n",
      "Finished\n",
      "\n",
      "Starting step 000482\n",
      "Advanced step 000384\n"
     ]
    },
    {
     "name": "stderr",
     "output_type": "stream",
     "text": [
      "/home/selvani/MAP/pynbody/halo_trace/halo_trace/tracing.py:81: RuntimeWarning: invalid value encountered in divide\n",
      "  merit_f = mat**2/np.outer(Ni, Nj)\n",
      "pynbody.halo : Unable to load AHF substructure file; continuing without. To expose the underlying problem as an exception, pass ignore_missing_substructure=False to the AHFCatalogue constructor\n"
     ]
    },
    {
     "name": "stdout",
     "output_type": "stream",
     "text": [
      "\tMatching halos by merit function\n",
      "30\n",
      "\tWarning: Some halos have zero particles\n",
      "\tZeros in Ni: 6, Zeros in Nj: 3\n",
      "\tdone matching halos\n"
     ]
    },
    {
     "name": "stderr",
     "output_type": "stream",
     "text": [
      "/home/selvani/MAP/pynbody/halo_trace/halo_trace/tracing.py:81: RuntimeWarning: invalid value encountered in divide\n",
      "  merit_f = mat**2/np.outer(Ni, Nj)\n",
      "pynbody.halo : Unable to load AHF substructure file; continuing without. To expose the underlying problem as an exception, pass ignore_missing_substructure=False to the AHFCatalogue constructor\n"
     ]
    },
    {
     "name": "stdout",
     "output_type": "stream",
     "text": [
      "\tMatching halos by merit function\n",
      "30\n",
      "\tWarning: Some halos have zero particles\n",
      "\tZeros in Ni: 19, Zeros in Nj: 6\n",
      "Finished\n",
      "\n",
      "Starting step 000384\n"
     ]
    },
    {
     "name": "stderr",
     "output_type": "stream",
     "text": [
      "pynbody.halo : Unable to load AHF substructure file; continuing without. To expose the underlying problem as an exception, pass ignore_missing_substructure=False to the AHFCatalogue constructor\n"
     ]
    },
    {
     "name": "stdout",
     "output_type": "stream",
     "text": [
      "\tMatching halos by merit function\n",
      "31\n",
      "\tWarning: Some halos have zero particles\n",
      "\tZeros in Ni: 15, Zeros in Nj: 6\n",
      "\tdone matching halos\n",
      "Cross-checking step 000384\n",
      "\n",
      "Finished\n",
      "\n",
      "Starting step 000291\n",
      "Advanced step 000199\n"
     ]
    },
    {
     "name": "stderr",
     "output_type": "stream",
     "text": [
      "/home/selvani/MAP/pynbody/halo_trace/halo_trace/tracing.py:81: RuntimeWarning: invalid value encountered in divide\n",
      "  merit_f = mat**2/np.outer(Ni, Nj)\n",
      "pynbody.halo : Unable to load AHF substructure file; continuing without. To expose the underlying problem as an exception, pass ignore_missing_substructure=False to the AHFCatalogue constructor\n"
     ]
    },
    {
     "name": "stdout",
     "output_type": "stream",
     "text": [
      "\tMatching halos by merit function\n",
      "43\n",
      "\tWarning: Some halos have zero particles\n",
      "\tZeros in Ni: 16, Zeros in Nj: 8\n",
      "\tdone matching halos\n"
     ]
    },
    {
     "name": "stderr",
     "output_type": "stream",
     "text": [
      "/home/selvani/MAP/pynbody/halo_trace/halo_trace/tracing.py:81: RuntimeWarning: invalid value encountered in divide\n",
      "  merit_f = mat**2/np.outer(Ni, Nj)\n"
     ]
    },
    {
     "name": "stdout",
     "output_type": "stream",
     "text": [
      "\tMatching halos by merit function\n",
      "43\n",
      "\tWarning: Some halos have zero particles\n",
      "\tZeros in Ni: 27, Zeros in Nj: 6\n",
      "Finished\n",
      "\n",
      "Starting step 000199\n",
      "\tMatching halos by merit function\n",
      "36\n",
      "\tWarning: Some halos have zero particles\n",
      "\tZeros in Ni: 23, Zeros in Nj: 5\n",
      "\tdone matching halos\n",
      "Cross-checking step 000199\n",
      "\n",
      "Finished\n",
      "\n",
      "000896\n",
      "[12]\n",
      "[199, 291, 384, 482, 512, 640, 672, 768, 818, 896]\n"
     ]
    },
    {
     "name": "stderr",
     "output_type": "stream",
     "text": [
      "/home/selvani/MAP/pynbody/halo_trace/halo_trace/tracing.py:81: RuntimeWarning: invalid value encountered in divide\n",
      "  merit_f = mat**2/np.outer(Ni, Nj)\n"
     ]
    },
    {
     "name": "stdout",
     "output_type": "stream",
     "text": [
      "cptmarvel.cosmo25cmb.4096g5HbwK1BH.000113 does not exist or has incorrect permissions\n",
      "Steplist ['/home/selvani/MAP/Sims/cptmarvel.cosmo25cmb/cptmarvel.cosmo25cmb.4096g5HbwK1BH/cptmarvel.4096g5HbwK1BH_bn/cptmarvel.cosmo25cmb.4096g5HbwK1BH.000896', '/home/selvani/MAP/Sims/cptmarvel.cosmo25cmb/cptmarvel.cosmo25cmb.4096g5HbwK1BH/cptmarvel.4096g5HbwK1BH_bn/cptmarvel.cosmo25cmb.4096g5HbwK1BH.000818', '/home/selvani/MAP/Sims/cptmarvel.cosmo25cmb/cptmarvel.cosmo25cmb.4096g5HbwK1BH/cptmarvel.4096g5HbwK1BH_bn/cptmarvel.cosmo25cmb.4096g5HbwK1BH.000768', '/home/selvani/MAP/Sims/cptmarvel.cosmo25cmb/cptmarvel.cosmo25cmb.4096g5HbwK1BH/cptmarvel.4096g5HbwK1BH_bn/cptmarvel.cosmo25cmb.4096g5HbwK1BH.000672', '/home/selvani/MAP/Sims/cptmarvel.cosmo25cmb/cptmarvel.cosmo25cmb.4096g5HbwK1BH/cptmarvel.4096g5HbwK1BH_bn/cptmarvel.cosmo25cmb.4096g5HbwK1BH.000640', '/home/selvani/MAP/Sims/cptmarvel.cosmo25cmb/cptmarvel.cosmo25cmb.4096g5HbwK1BH/cptmarvel.4096g5HbwK1BH_bn/cptmarvel.cosmo25cmb.4096g5HbwK1BH.000512', '/home/selvani/MAP/Sims/cptmarvel.cosmo25cmb/cptmarvel.cosmo25cmb.4096g5HbwK1BH/cptmarvel.4096g5HbwK1BH_bn/cptmarvel.cosmo25cmb.4096g5HbwK1BH.000482', '/home/selvani/MAP/Sims/cptmarvel.cosmo25cmb/cptmarvel.cosmo25cmb.4096g5HbwK1BH/cptmarvel.4096g5HbwK1BH_bn/cptmarvel.cosmo25cmb.4096g5HbwK1BH.000384', '/home/selvani/MAP/Sims/cptmarvel.cosmo25cmb/cptmarvel.cosmo25cmb.4096g5HbwK1BH/cptmarvel.4096g5HbwK1BH_bn/cptmarvel.cosmo25cmb.4096g5HbwK1BH.000291', '/home/selvani/MAP/Sims/cptmarvel.cosmo25cmb/cptmarvel.cosmo25cmb.4096g5HbwK1BH/cptmarvel.4096g5HbwK1BH_bn/cptmarvel.cosmo25cmb.4096g5HbwK1BH.000199']\n",
      "File will be saved as /home/selvani/MAP/pynbody/AnnaWright_startrace/home/selvani/MAP/Sims/cptmarvel.cosmo25cmb/cptmarvel.cosmo25cmb.4096g5HbwK1BH/cptmarvel.4096g5HbwK1BH_bn/cptmarvel.cosmo25cmb.4096g5HbwK1BH.000896.trace_back_merge.hdf5\n",
      "grplist= [12]\n"
     ]
    },
    {
     "name": "stderr",
     "output_type": "stream",
     "text": [
      "pynbody.halo : Unable to load AHF substructure file; continuing without. To expose the underlying problem as an exception, pass ignore_missing_substructure=False to the AHFCatalogue constructor\n"
     ]
    },
    {
     "data": {
      "application/vnd.jupyter.widget-view+json": {
       "model_id": "6ad30f39bb3b4b3494668db497731ce7",
       "version_major": 2,
       "version_minor": 0
      },
      "text/plain": [
       "Tracing halos:   0%|          | 0/9 [00:00<?, ?step/s]"
      ]
     },
     "metadata": {},
     "output_type": "display_data"
    },
    {
     "name": "stdout",
     "output_type": "stream",
     "text": [
      "Starting step 000818\n",
      "Advanced step 000768\n"
     ]
    },
    {
     "name": "stderr",
     "output_type": "stream",
     "text": [
      "pynbody.halo : Unable to load AHF substructure file; continuing without. To expose the underlying problem as an exception, pass ignore_missing_substructure=False to the AHFCatalogue constructor\n"
     ]
    },
    {
     "name": "stdout",
     "output_type": "stream",
     "text": [
      "\tMatching halos by merit function\n",
      "18\n",
      "\tWarning: Some halos have zero particles\n",
      "\tZeros in Ni: 4, Zeros in Nj: 3\n",
      "\tdone matching halos\n"
     ]
    },
    {
     "name": "stderr",
     "output_type": "stream",
     "text": [
      "/home/selvani/MAP/pynbody/halo_trace/halo_trace/tracing.py:81: RuntimeWarning: invalid value encountered in divide\n",
      "  merit_f = mat**2/np.outer(Ni, Nj)\n",
      "pynbody.halo : Unable to load AHF substructure file; continuing without. To expose the underlying problem as an exception, pass ignore_missing_substructure=False to the AHFCatalogue constructor\n"
     ]
    },
    {
     "name": "stdout",
     "output_type": "stream",
     "text": [
      "\tMatching halos by merit function\n",
      "18\n",
      "\tWarning: Some halos have zero particles\n",
      "\tZeros in Ni: 6, Zeros in Nj: 3\n",
      "Finished\n",
      "\n",
      "Starting step 000768\n"
     ]
    },
    {
     "name": "stderr",
     "output_type": "stream",
     "text": [
      "pynbody.halo : Unable to load AHF substructure file; continuing without. To expose the underlying problem as an exception, pass ignore_missing_substructure=False to the AHFCatalogue constructor\n"
     ]
    },
    {
     "name": "stdout",
     "output_type": "stream",
     "text": [
      "\tMatching halos by merit function\n",
      "15\n",
      "\tWarning: Some halos have zero particles\n",
      "\tZeros in Ni: 2, Zeros in Nj: 0\n",
      "\tdone matching halos\n",
      "Cross-checking step 000768\n",
      "\n",
      "Finished\n",
      "\n",
      "Starting step 000672\n",
      "Advanced step 000640\n"
     ]
    },
    {
     "name": "stderr",
     "output_type": "stream",
     "text": [
      "/home/selvani/MAP/pynbody/halo_trace/halo_trace/tracing.py:81: RuntimeWarning: invalid value encountered in divide\n",
      "  merit_f = mat**2/np.outer(Ni, Nj)\n",
      "pynbody.halo : Unable to load AHF substructure file; continuing without. To expose the underlying problem as an exception, pass ignore_missing_substructure=False to the AHFCatalogue constructor\n"
     ]
    },
    {
     "name": "stdout",
     "output_type": "stream",
     "text": [
      "\tMatching halos by merit function\n",
      "15\n",
      "\tWarning: Some halos have zero particles\n",
      "\tZeros in Ni: 9, Zeros in Nj: 3\n",
      "\tdone matching halos\n"
     ]
    },
    {
     "name": "stderr",
     "output_type": "stream",
     "text": [
      "/home/selvani/MAP/pynbody/halo_trace/halo_trace/tracing.py:81: RuntimeWarning: invalid value encountered in divide\n",
      "  merit_f = mat**2/np.outer(Ni, Nj)\n",
      "pynbody.halo : Unable to load AHF substructure file; continuing without. To expose the underlying problem as an exception, pass ignore_missing_substructure=False to the AHFCatalogue constructor\n"
     ]
    },
    {
     "name": "stdout",
     "output_type": "stream",
     "text": [
      "\tMatching halos by merit function\n",
      "15\n",
      "\tWarning: Some halos have zero particles\n",
      "\tZeros in Ni: 9, Zeros in Nj: 3\n",
      "Finished\n",
      "\n",
      "Starting step 000640\n"
     ]
    },
    {
     "name": "stderr",
     "output_type": "stream",
     "text": [
      "pynbody.halo : Unable to load AHF substructure file; continuing without. To expose the underlying problem as an exception, pass ignore_missing_substructure=False to the AHFCatalogue constructor\n"
     ]
    },
    {
     "name": "stdout",
     "output_type": "stream",
     "text": [
      "\tMatching halos by merit function\n",
      "15\n",
      "\tWarning: Some halos have zero particles\n",
      "\tZeros in Ni: 1, Zeros in Nj: 1\n",
      "\tdone matching halos\n",
      "Cross-checking step 000640\n",
      "\n",
      "Finished\n",
      "\n",
      "Starting step 000512\n",
      "Advanced step 000482\n"
     ]
    },
    {
     "name": "stderr",
     "output_type": "stream",
     "text": [
      "/home/selvani/MAP/pynbody/halo_trace/halo_trace/tracing.py:81: RuntimeWarning: invalid value encountered in divide\n",
      "  merit_f = mat**2/np.outer(Ni, Nj)\n",
      "pynbody.halo : Unable to load AHF substructure file; continuing without. To expose the underlying problem as an exception, pass ignore_missing_substructure=False to the AHFCatalogue constructor\n"
     ]
    },
    {
     "name": "stdout",
     "output_type": "stream",
     "text": [
      "\tMatching halos by merit function\n",
      "15\n",
      "\tWarning: Some halos have zero particles\n",
      "\tZeros in Ni: 11, Zeros in Nj: 2\n",
      "\tdone matching halos\n"
     ]
    },
    {
     "name": "stderr",
     "output_type": "stream",
     "text": [
      "/home/selvani/MAP/pynbody/halo_trace/halo_trace/tracing.py:81: RuntimeWarning: invalid value encountered in divide\n",
      "  merit_f = mat**2/np.outer(Ni, Nj)\n",
      "pynbody.halo : Unable to load AHF substructure file; continuing without. To expose the underlying problem as an exception, pass ignore_missing_substructure=False to the AHFCatalogue constructor\n"
     ]
    },
    {
     "name": "stdout",
     "output_type": "stream",
     "text": [
      "\tMatching halos by merit function\n",
      "15\n",
      "\tWarning: Some halos have zero particles\n",
      "\tZeros in Ni: 15, Zeros in Nj: 1\n",
      "Finished\n",
      "\n",
      "Starting step 000482\n"
     ]
    },
    {
     "name": "stderr",
     "output_type": "stream",
     "text": [
      "pynbody.halo : Unable to load AHF substructure file; continuing without. To expose the underlying problem as an exception, pass ignore_missing_substructure=False to the AHFCatalogue constructor\n"
     ]
    },
    {
     "name": "stdout",
     "output_type": "stream",
     "text": [
      "\tMatching halos by merit function\n",
      "16\n",
      "\tWarning: Some halos have zero particles\n",
      "\tZeros in Ni: 6, Zeros in Nj: 3\n",
      "\tdone matching halos\n",
      "Cross-checking step 000482\n",
      "\n",
      "Finished\n",
      "\n",
      "Starting step 000384\n",
      "Advanced step 000291\n"
     ]
    },
    {
     "name": "stderr",
     "output_type": "stream",
     "text": [
      "/home/selvani/MAP/pynbody/halo_trace/halo_trace/tracing.py:81: RuntimeWarning: invalid value encountered in divide\n",
      "  merit_f = mat**2/np.outer(Ni, Nj)\n",
      "pynbody.halo : Unable to load AHF substructure file; continuing without. To expose the underlying problem as an exception, pass ignore_missing_substructure=False to the AHFCatalogue constructor\n"
     ]
    },
    {
     "name": "stdout",
     "output_type": "stream",
     "text": [
      "\tMatching halos by merit function\n",
      "18\n",
      "\tWarning: Some halos have zero particles\n",
      "\tZeros in Ni: 15, Zeros in Nj: 6\n",
      "\tdone matching halos\n"
     ]
    },
    {
     "name": "stderr",
     "output_type": "stream",
     "text": [
      "/home/selvani/MAP/pynbody/halo_trace/halo_trace/tracing.py:81: RuntimeWarning: invalid value encountered in divide\n",
      "  merit_f = mat**2/np.outer(Ni, Nj)\n",
      "pynbody.halo : Unable to load AHF substructure file; continuing without. To expose the underlying problem as an exception, pass ignore_missing_substructure=False to the AHFCatalogue constructor\n"
     ]
    },
    {
     "name": "stdout",
     "output_type": "stream",
     "text": [
      "\tMatching halos by merit function\n",
      "18\n",
      "\tWarning: Some halos have zero particles\n",
      "\tZeros in Ni: 26, Zeros in Nj: 6\n",
      "Finished\n",
      "\n",
      "Starting step 000291\n"
     ]
    },
    {
     "name": "stderr",
     "output_type": "stream",
     "text": [
      "pynbody.halo : Unable to load AHF substructure file; continuing without. To expose the underlying problem as an exception, pass ignore_missing_substructure=False to the AHFCatalogue constructor\n"
     ]
    },
    {
     "name": "stdout",
     "output_type": "stream",
     "text": [
      "\tMatching halos by merit function\n",
      "25\n",
      "\tWarning: Some halos have zero particles\n",
      "\tZeros in Ni: 16, Zeros in Nj: 8\n",
      "\tdone matching halos\n",
      "Cross-checking step 000291\n",
      "\n",
      "Finished\n",
      "\n",
      "Starting step 000199\n"
     ]
    },
    {
     "name": "stderr",
     "output_type": "stream",
     "text": [
      "/home/selvani/MAP/pynbody/halo_trace/halo_trace/tracing.py:81: RuntimeWarning: invalid value encountered in divide\n",
      "  merit_f = mat**2/np.outer(Ni, Nj)\n"
     ]
    },
    {
     "name": "stdout",
     "output_type": "stream",
     "text": [
      "\tMatching halos by merit function\n",
      "33\n",
      "\tWarning: Some halos have zero particles\n",
      "\tZeros in Ni: 23, Zeros in Nj: 5\n",
      "\tdone matching halos\n",
      "Cross-checking step 000199\n",
      "\n",
      "Finished\n",
      "\n",
      "000672\n",
      "[121]\n",
      "[199, 291, 384, 482, 512, 640, 672]\n"
     ]
    },
    {
     "name": "stderr",
     "output_type": "stream",
     "text": [
      "/home/selvani/MAP/pynbody/halo_trace/halo_trace/tracing.py:81: RuntimeWarning: invalid value encountered in divide\n",
      "  merit_f = mat**2/np.outer(Ni, Nj)\n",
      "/home/selvani/MAP/pynbody/halo_trace/halo_trace/tracing.py:279: FutureWarning: Setting an item of incompatible dtype is deprecated and will raise an error in a future version of pandas. Value '[]' has dtype incompatible with int64, please explicitly cast to a compatible dtype first.\n",
      "  df.loc[mask, step[-6:]] = df2.loc[mask, step[-6:]]\n",
      "/home/selvani/MAP/pynbody/halo_trace/halo_trace/tracing.py:294: PerformanceWarning: \n",
      "your performance may suffer as PyTables will pickle object types that it cannot\n",
      "map directly to c-types [inferred_type->integer,key->block1_values] [items->Index(['000199'], dtype='object')]\n",
      "\n",
      "  df.to_hdf(save_file, key='ids')\n"
     ]
    },
    {
     "name": "stdout",
     "output_type": "stream",
     "text": [
      "cptmarvel.cosmo25cmb.4096g5HbwK1BH.000113 does not exist or has incorrect permissions\n",
      "Steplist ['/home/selvani/MAP/Sims/cptmarvel.cosmo25cmb/cptmarvel.cosmo25cmb.4096g5HbwK1BH/cptmarvel.4096g5HbwK1BH_bn/cptmarvel.cosmo25cmb.4096g5HbwK1BH.000672', '/home/selvani/MAP/Sims/cptmarvel.cosmo25cmb/cptmarvel.cosmo25cmb.4096g5HbwK1BH/cptmarvel.4096g5HbwK1BH_bn/cptmarvel.cosmo25cmb.4096g5HbwK1BH.000640', '/home/selvani/MAP/Sims/cptmarvel.cosmo25cmb/cptmarvel.cosmo25cmb.4096g5HbwK1BH/cptmarvel.4096g5HbwK1BH_bn/cptmarvel.cosmo25cmb.4096g5HbwK1BH.000512', '/home/selvani/MAP/Sims/cptmarvel.cosmo25cmb/cptmarvel.cosmo25cmb.4096g5HbwK1BH/cptmarvel.4096g5HbwK1BH_bn/cptmarvel.cosmo25cmb.4096g5HbwK1BH.000482', '/home/selvani/MAP/Sims/cptmarvel.cosmo25cmb/cptmarvel.cosmo25cmb.4096g5HbwK1BH/cptmarvel.4096g5HbwK1BH_bn/cptmarvel.cosmo25cmb.4096g5HbwK1BH.000384', '/home/selvani/MAP/Sims/cptmarvel.cosmo25cmb/cptmarvel.cosmo25cmb.4096g5HbwK1BH/cptmarvel.4096g5HbwK1BH_bn/cptmarvel.cosmo25cmb.4096g5HbwK1BH.000291', '/home/selvani/MAP/Sims/cptmarvel.cosmo25cmb/cptmarvel.cosmo25cmb.4096g5HbwK1BH/cptmarvel.4096g5HbwK1BH_bn/cptmarvel.cosmo25cmb.4096g5HbwK1BH.000199']\n",
      "File will be saved as /home/selvani/MAP/pynbody/AnnaWright_startrace/home/selvani/MAP/Sims/cptmarvel.cosmo25cmb/cptmarvel.cosmo25cmb.4096g5HbwK1BH/cptmarvel.4096g5HbwK1BH_bn/cptmarvel.cosmo25cmb.4096g5HbwK1BH.000672.trace_back_merge.hdf5\n",
      "grplist= [121]\n"
     ]
    },
    {
     "name": "stderr",
     "output_type": "stream",
     "text": [
      "pynbody.halo : Unable to load AHF substructure file; continuing without. To expose the underlying problem as an exception, pass ignore_missing_substructure=False to the AHFCatalogue constructor\n"
     ]
    },
    {
     "data": {
      "application/vnd.jupyter.widget-view+json": {
       "model_id": "d540ad89269c471fadfb8e655b62c991",
       "version_major": 2,
       "version_minor": 0
      },
      "text/plain": [
       "Tracing halos:   0%|          | 0/6 [00:00<?, ?step/s]"
      ]
     },
     "metadata": {},
     "output_type": "display_data"
    },
    {
     "name": "stdout",
     "output_type": "stream",
     "text": [
      "Starting step 000640\n",
      "Advanced step 000512\n"
     ]
    },
    {
     "name": "stderr",
     "output_type": "stream",
     "text": [
      "pynbody.halo : Unable to load AHF substructure file; continuing without. To expose the underlying problem as an exception, pass ignore_missing_substructure=False to the AHFCatalogue constructor\n"
     ]
    },
    {
     "name": "stdout",
     "output_type": "stream",
     "text": [
      "\tMatching halos by merit function\n",
      "181\n",
      "\tWarning: Some halos have zero particles\n",
      "\tZeros in Ni: 6, Zeros in Nj: 3\n",
      "\tdone matching halos\n"
     ]
    },
    {
     "name": "stderr",
     "output_type": "stream",
     "text": [
      "/home/selvani/MAP/pynbody/halo_trace/halo_trace/tracing.py:81: RuntimeWarning: invalid value encountered in divide\n",
      "  merit_f = mat**2/np.outer(Ni, Nj)\n",
      "pynbody.halo : Unable to load AHF substructure file; continuing without. To expose the underlying problem as an exception, pass ignore_missing_substructure=False to the AHFCatalogue constructor\n"
     ]
    },
    {
     "name": "stdout",
     "output_type": "stream",
     "text": [
      "\tMatching halos by merit function\n",
      "181\n",
      "\tWarning: Some halos have zero particles\n",
      "\tZeros in Ni: 24, Zeros in Nj: 4\n",
      "Finished\n",
      "\n",
      "Starting step 000512\n"
     ]
    },
    {
     "name": "stderr",
     "output_type": "stream",
     "text": [
      "pynbody.halo : Unable to load AHF substructure file; continuing without. To expose the underlying problem as an exception, pass ignore_missing_substructure=False to the AHFCatalogue constructor\n"
     ]
    },
    {
     "name": "stdout",
     "output_type": "stream",
     "text": [
      "\tMatching halos by merit function\n",
      "100\n",
      "\tWarning: Some halos have zero particles\n",
      "\tZeros in Ni: 11, Zeros in Nj: 2\n",
      "\tdone matching halos\n",
      "Cross-checking step 000512\n",
      "\n",
      "Finished\n",
      "\n",
      "Starting step 000482\n",
      "Advanced step 000384\n"
     ]
    },
    {
     "name": "stderr",
     "output_type": "stream",
     "text": [
      "/home/selvani/MAP/pynbody/halo_trace/halo_trace/tracing.py:81: RuntimeWarning: invalid value encountered in divide\n",
      "  merit_f = mat**2/np.outer(Ni, Nj)\n",
      "pynbody.halo : Unable to load AHF substructure file; continuing without. To expose the underlying problem as an exception, pass ignore_missing_substructure=False to the AHFCatalogue constructor\n"
     ]
    },
    {
     "name": "stdout",
     "output_type": "stream",
     "text": [
      "\tMatching halos by merit function\n",
      "34\n",
      "\tWarning: Some halos have zero particles\n",
      "\tZeros in Ni: 6, Zeros in Nj: 3\n",
      "\tdone matching halos\n"
     ]
    },
    {
     "name": "stderr",
     "output_type": "stream",
     "text": [
      "/home/selvani/MAP/pynbody/halo_trace/halo_trace/tracing.py:81: RuntimeWarning: invalid value encountered in divide\n",
      "  merit_f = mat**2/np.outer(Ni, Nj)\n",
      "pynbody.halo : Unable to load AHF substructure file; continuing without. To expose the underlying problem as an exception, pass ignore_missing_substructure=False to the AHFCatalogue constructor\n"
     ]
    },
    {
     "name": "stdout",
     "output_type": "stream",
     "text": [
      "\tMatching halos by merit function\n",
      "34\n",
      "\tWarning: Some halos have zero particles\n",
      "\tZeros in Ni: 19, Zeros in Nj: 6\n",
      "Finished\n",
      "\n",
      "Starting step 000384\n"
     ]
    },
    {
     "name": "stderr",
     "output_type": "stream",
     "text": [
      "pynbody.halo : Unable to load AHF substructure file; continuing without. To expose the underlying problem as an exception, pass ignore_missing_substructure=False to the AHFCatalogue constructor\n"
     ]
    },
    {
     "name": "stdout",
     "output_type": "stream",
     "text": [
      "\tMatching halos by merit function\n",
      "25\n",
      "\tWarning: Some halos have zero particles\n",
      "\tZeros in Ni: 15, Zeros in Nj: 6\n",
      "\tdone matching halos\n",
      "Cross-checking step 000384\n",
      "\n",
      "Finished\n",
      "\n",
      "Starting step 000291\n",
      "Advanced step 000199\n"
     ]
    },
    {
     "name": "stderr",
     "output_type": "stream",
     "text": [
      "/home/selvani/MAP/pynbody/halo_trace/halo_trace/tracing.py:81: RuntimeWarning: invalid value encountered in divide\n",
      "  merit_f = mat**2/np.outer(Ni, Nj)\n",
      "pynbody.halo : Unable to load AHF substructure file; continuing without. To expose the underlying problem as an exception, pass ignore_missing_substructure=False to the AHFCatalogue constructor\n"
     ]
    },
    {
     "name": "stdout",
     "output_type": "stream",
     "text": [
      "\tMatching halos by merit function\n",
      "24\n",
      "\tWarning: Some halos have zero particles\n",
      "\tZeros in Ni: 16, Zeros in Nj: 8\n",
      "\tdone matching halos\n"
     ]
    },
    {
     "name": "stderr",
     "output_type": "stream",
     "text": [
      "/home/selvani/MAP/pynbody/halo_trace/halo_trace/tracing.py:81: RuntimeWarning: invalid value encountered in divide\n",
      "  merit_f = mat**2/np.outer(Ni, Nj)\n"
     ]
    },
    {
     "name": "stdout",
     "output_type": "stream",
     "text": [
      "\tMatching halos by merit function\n",
      "24\n",
      "\tWarning: Some halos have zero particles\n",
      "\tZeros in Ni: 27, Zeros in Nj: 6\n",
      "Finished\n",
      "\n",
      "Starting step 000199\n",
      "\tMatching halos by merit function\n",
      "22\n",
      "\tWarning: Some halos have zero particles\n",
      "\tZeros in Ni: 23, Zeros in Nj: 5\n",
      "\tdone matching halos\n",
      "Cross-checking step 000199\n",
      "\n",
      "Finished\n",
      "\n",
      "000640\n",
      "[67]\n",
      "[199, 291, 384, 482, 512, 640]\n"
     ]
    },
    {
     "name": "stderr",
     "output_type": "stream",
     "text": [
      "/home/selvani/MAP/pynbody/halo_trace/halo_trace/tracing.py:81: RuntimeWarning: invalid value encountered in divide\n",
      "  merit_f = mat**2/np.outer(Ni, Nj)\n"
     ]
    },
    {
     "name": "stdout",
     "output_type": "stream",
     "text": [
      "cptmarvel.cosmo25cmb.4096g5HbwK1BH.000113 does not exist or has incorrect permissions\n",
      "Steplist ['/home/selvani/MAP/Sims/cptmarvel.cosmo25cmb/cptmarvel.cosmo25cmb.4096g5HbwK1BH/cptmarvel.4096g5HbwK1BH_bn/cptmarvel.cosmo25cmb.4096g5HbwK1BH.000640', '/home/selvani/MAP/Sims/cptmarvel.cosmo25cmb/cptmarvel.cosmo25cmb.4096g5HbwK1BH/cptmarvel.4096g5HbwK1BH_bn/cptmarvel.cosmo25cmb.4096g5HbwK1BH.000512', '/home/selvani/MAP/Sims/cptmarvel.cosmo25cmb/cptmarvel.cosmo25cmb.4096g5HbwK1BH/cptmarvel.4096g5HbwK1BH_bn/cptmarvel.cosmo25cmb.4096g5HbwK1BH.000482', '/home/selvani/MAP/Sims/cptmarvel.cosmo25cmb/cptmarvel.cosmo25cmb.4096g5HbwK1BH/cptmarvel.4096g5HbwK1BH_bn/cptmarvel.cosmo25cmb.4096g5HbwK1BH.000384', '/home/selvani/MAP/Sims/cptmarvel.cosmo25cmb/cptmarvel.cosmo25cmb.4096g5HbwK1BH/cptmarvel.4096g5HbwK1BH_bn/cptmarvel.cosmo25cmb.4096g5HbwK1BH.000291', '/home/selvani/MAP/Sims/cptmarvel.cosmo25cmb/cptmarvel.cosmo25cmb.4096g5HbwK1BH/cptmarvel.4096g5HbwK1BH_bn/cptmarvel.cosmo25cmb.4096g5HbwK1BH.000199']\n",
      "File will be saved as /home/selvani/MAP/pynbody/AnnaWright_startrace/home/selvani/MAP/Sims/cptmarvel.cosmo25cmb/cptmarvel.cosmo25cmb.4096g5HbwK1BH/cptmarvel.4096g5HbwK1BH_bn/cptmarvel.cosmo25cmb.4096g5HbwK1BH.000640.trace_back_merge.hdf5\n",
      "grplist= [67]\n"
     ]
    },
    {
     "name": "stderr",
     "output_type": "stream",
     "text": [
      "pynbody.halo : Unable to load AHF substructure file; continuing without. To expose the underlying problem as an exception, pass ignore_missing_substructure=False to the AHFCatalogue constructor\n"
     ]
    },
    {
     "data": {
      "application/vnd.jupyter.widget-view+json": {
       "model_id": "12f799b2296d4317ad2a6d1162a2ab96",
       "version_major": 2,
       "version_minor": 0
      },
      "text/plain": [
       "Tracing halos:   0%|          | 0/5 [00:00<?, ?step/s]"
      ]
     },
     "metadata": {},
     "output_type": "display_data"
    },
    {
     "name": "stdout",
     "output_type": "stream",
     "text": [
      "Starting step 000512\n",
      "Advanced step 000482\n"
     ]
    },
    {
     "name": "stderr",
     "output_type": "stream",
     "text": [
      "pynbody.halo : Unable to load AHF substructure file; continuing without. To expose the underlying problem as an exception, pass ignore_missing_substructure=False to the AHFCatalogue constructor\n"
     ]
    },
    {
     "name": "stdout",
     "output_type": "stream",
     "text": [
      "\tMatching halos by merit function\n",
      "100\n",
      "\tWarning: Some halos have zero particles\n",
      "\tZeros in Ni: 11, Zeros in Nj: 2\n",
      "\tdone matching halos\n"
     ]
    },
    {
     "name": "stderr",
     "output_type": "stream",
     "text": [
      "/home/selvani/MAP/pynbody/halo_trace/halo_trace/tracing.py:81: RuntimeWarning: invalid value encountered in divide\n",
      "  merit_f = mat**2/np.outer(Ni, Nj)\n",
      "pynbody.halo : Unable to load AHF substructure file; continuing without. To expose the underlying problem as an exception, pass ignore_missing_substructure=False to the AHFCatalogue constructor\n"
     ]
    },
    {
     "name": "stdout",
     "output_type": "stream",
     "text": [
      "\tMatching halos by merit function\n",
      "100\n",
      "\tWarning: Some halos have zero particles\n",
      "\tZeros in Ni: 15, Zeros in Nj: 1\n",
      "Finished\n",
      "\n",
      "Starting step 000482\n"
     ]
    },
    {
     "name": "stderr",
     "output_type": "stream",
     "text": [
      "pynbody.halo : Unable to load AHF substructure file; continuing without. To expose the underlying problem as an exception, pass ignore_missing_substructure=False to the AHFCatalogue constructor\n"
     ]
    },
    {
     "name": "stdout",
     "output_type": "stream",
     "text": [
      "\tMatching halos by merit function\n",
      "34\n",
      "\tWarning: Some halos have zero particles\n",
      "\tZeros in Ni: 6, Zeros in Nj: 3\n",
      "\tdone matching halos\n",
      "Cross-checking step 000482\n",
      "\n",
      "Finished\n",
      "\n",
      "Starting step 000384\n",
      "Advanced step 000291\n"
     ]
    },
    {
     "name": "stderr",
     "output_type": "stream",
     "text": [
      "/home/selvani/MAP/pynbody/halo_trace/halo_trace/tracing.py:81: RuntimeWarning: invalid value encountered in divide\n",
      "  merit_f = mat**2/np.outer(Ni, Nj)\n",
      "pynbody.halo : Unable to load AHF substructure file; continuing without. To expose the underlying problem as an exception, pass ignore_missing_substructure=False to the AHFCatalogue constructor\n"
     ]
    },
    {
     "name": "stdout",
     "output_type": "stream",
     "text": [
      "\tMatching halos by merit function\n",
      "25\n",
      "\tWarning: Some halos have zero particles\n",
      "\tZeros in Ni: 15, Zeros in Nj: 6\n",
      "\tdone matching halos\n"
     ]
    },
    {
     "name": "stderr",
     "output_type": "stream",
     "text": [
      "/home/selvani/MAP/pynbody/halo_trace/halo_trace/tracing.py:81: RuntimeWarning: invalid value encountered in divide\n",
      "  merit_f = mat**2/np.outer(Ni, Nj)\n",
      "pynbody.halo : Unable to load AHF substructure file; continuing without. To expose the underlying problem as an exception, pass ignore_missing_substructure=False to the AHFCatalogue constructor\n"
     ]
    },
    {
     "name": "stdout",
     "output_type": "stream",
     "text": [
      "\tMatching halos by merit function\n",
      "25\n",
      "\tWarning: Some halos have zero particles\n",
      "\tZeros in Ni: 26, Zeros in Nj: 6\n",
      "Finished\n",
      "\n",
      "Starting step 000291\n"
     ]
    },
    {
     "name": "stderr",
     "output_type": "stream",
     "text": [
      "pynbody.halo : Unable to load AHF substructure file; continuing without. To expose the underlying problem as an exception, pass ignore_missing_substructure=False to the AHFCatalogue constructor\n"
     ]
    },
    {
     "name": "stdout",
     "output_type": "stream",
     "text": [
      "\tMatching halos by merit function\n",
      "24\n",
      "\tWarning: Some halos have zero particles\n",
      "\tZeros in Ni: 16, Zeros in Nj: 8\n",
      "\tdone matching halos\n",
      "Cross-checking step 000291\n",
      "\n",
      "Finished\n",
      "\n",
      "Starting step 000199\n"
     ]
    },
    {
     "name": "stderr",
     "output_type": "stream",
     "text": [
      "/home/selvani/MAP/pynbody/halo_trace/halo_trace/tracing.py:81: RuntimeWarning: invalid value encountered in divide\n",
      "  merit_f = mat**2/np.outer(Ni, Nj)\n"
     ]
    },
    {
     "name": "stdout",
     "output_type": "stream",
     "text": [
      "\tMatching halos by merit function\n",
      "22\n",
      "\tWarning: Some halos have zero particles\n",
      "\tZeros in Ni: 23, Zeros in Nj: 5\n",
      "\tdone matching halos\n",
      "Cross-checking step 000199\n",
      "\n",
      "Finished\n",
      "\n",
      "000512\n",
      "[23]\n",
      "[199, 291, 384, 482, 512]\n"
     ]
    },
    {
     "name": "stderr",
     "output_type": "stream",
     "text": [
      "/home/selvani/MAP/pynbody/halo_trace/halo_trace/tracing.py:81: RuntimeWarning: invalid value encountered in divide\n",
      "  merit_f = mat**2/np.outer(Ni, Nj)\n",
      "/home/selvani/MAP/pynbody/halo_trace/halo_trace/tracing.py:279: FutureWarning: Setting an item of incompatible dtype is deprecated and will raise an error in a future version of pandas. Value '[]' has dtype incompatible with int64, please explicitly cast to a compatible dtype first.\n",
      "  df.loc[mask, step[-6:]] = df2.loc[mask, step[-6:]]\n",
      "/home/selvani/MAP/pynbody/halo_trace/halo_trace/tracing.py:294: PerformanceWarning: \n",
      "your performance may suffer as PyTables will pickle object types that it cannot\n",
      "map directly to c-types [inferred_type->integer,key->block1_values] [items->Index(['000199'], dtype='object')]\n",
      "\n",
      "  df.to_hdf(save_file, key='ids')\n"
     ]
    },
    {
     "name": "stdout",
     "output_type": "stream",
     "text": [
      "cptmarvel.cosmo25cmb.4096g5HbwK1BH.000113 does not exist or has incorrect permissions\n",
      "Steplist ['/home/selvani/MAP/Sims/cptmarvel.cosmo25cmb/cptmarvel.cosmo25cmb.4096g5HbwK1BH/cptmarvel.4096g5HbwK1BH_bn/cptmarvel.cosmo25cmb.4096g5HbwK1BH.000512', '/home/selvani/MAP/Sims/cptmarvel.cosmo25cmb/cptmarvel.cosmo25cmb.4096g5HbwK1BH/cptmarvel.4096g5HbwK1BH_bn/cptmarvel.cosmo25cmb.4096g5HbwK1BH.000482', '/home/selvani/MAP/Sims/cptmarvel.cosmo25cmb/cptmarvel.cosmo25cmb.4096g5HbwK1BH/cptmarvel.4096g5HbwK1BH_bn/cptmarvel.cosmo25cmb.4096g5HbwK1BH.000384', '/home/selvani/MAP/Sims/cptmarvel.cosmo25cmb/cptmarvel.cosmo25cmb.4096g5HbwK1BH/cptmarvel.4096g5HbwK1BH_bn/cptmarvel.cosmo25cmb.4096g5HbwK1BH.000291', '/home/selvani/MAP/Sims/cptmarvel.cosmo25cmb/cptmarvel.cosmo25cmb.4096g5HbwK1BH/cptmarvel.4096g5HbwK1BH_bn/cptmarvel.cosmo25cmb.4096g5HbwK1BH.000199']\n",
      "File will be saved as /home/selvani/MAP/pynbody/AnnaWright_startrace/home/selvani/MAP/Sims/cptmarvel.cosmo25cmb/cptmarvel.cosmo25cmb.4096g5HbwK1BH/cptmarvel.4096g5HbwK1BH_bn/cptmarvel.cosmo25cmb.4096g5HbwK1BH.000512.trace_back_merge.hdf5\n",
      "grplist= [23]\n"
     ]
    },
    {
     "name": "stderr",
     "output_type": "stream",
     "text": [
      "pynbody.halo : Unable to load AHF substructure file; continuing without. To expose the underlying problem as an exception, pass ignore_missing_substructure=False to the AHFCatalogue constructor\n"
     ]
    },
    {
     "data": {
      "application/vnd.jupyter.widget-view+json": {
       "model_id": "65198e32e1ee4198a6c2fcadcc008330",
       "version_major": 2,
       "version_minor": 0
      },
      "text/plain": [
       "Tracing halos:   0%|          | 0/4 [00:00<?, ?step/s]"
      ]
     },
     "metadata": {},
     "output_type": "display_data"
    },
    {
     "name": "stdout",
     "output_type": "stream",
     "text": [
      "Starting step 000482\n",
      "Advanced step 000384\n"
     ]
    },
    {
     "name": "stderr",
     "output_type": "stream",
     "text": [
      "pynbody.halo : Unable to load AHF substructure file; continuing without. To expose the underlying problem as an exception, pass ignore_missing_substructure=False to the AHFCatalogue constructor\n"
     ]
    },
    {
     "name": "stdout",
     "output_type": "stream",
     "text": [
      "\tMatching halos by merit function\n",
      "34\n",
      "\tWarning: Some halos have zero particles\n",
      "\tZeros in Ni: 6, Zeros in Nj: 3\n",
      "\tdone matching halos\n"
     ]
    },
    {
     "name": "stderr",
     "output_type": "stream",
     "text": [
      "/home/selvani/MAP/pynbody/halo_trace/halo_trace/tracing.py:81: RuntimeWarning: invalid value encountered in divide\n",
      "  merit_f = mat**2/np.outer(Ni, Nj)\n",
      "pynbody.halo : Unable to load AHF substructure file; continuing without. To expose the underlying problem as an exception, pass ignore_missing_substructure=False to the AHFCatalogue constructor\n"
     ]
    },
    {
     "name": "stdout",
     "output_type": "stream",
     "text": [
      "\tMatching halos by merit function\n",
      "34\n",
      "\tWarning: Some halos have zero particles\n",
      "\tZeros in Ni: 19, Zeros in Nj: 6\n",
      "Finished\n",
      "\n",
      "Starting step 000384\n"
     ]
    },
    {
     "name": "stderr",
     "output_type": "stream",
     "text": [
      "pynbody.halo : Unable to load AHF substructure file; continuing without. To expose the underlying problem as an exception, pass ignore_missing_substructure=False to the AHFCatalogue constructor\n"
     ]
    },
    {
     "name": "stdout",
     "output_type": "stream",
     "text": [
      "\tMatching halos by merit function\n",
      "25\n",
      "\tWarning: Some halos have zero particles\n",
      "\tZeros in Ni: 15, Zeros in Nj: 6\n",
      "\tdone matching halos\n",
      "Cross-checking step 000384\n",
      "\n",
      "Finished\n",
      "\n",
      "Starting step 000291\n",
      "Advanced step 000199\n"
     ]
    },
    {
     "name": "stderr",
     "output_type": "stream",
     "text": [
      "/home/selvani/MAP/pynbody/halo_trace/halo_trace/tracing.py:81: RuntimeWarning: invalid value encountered in divide\n",
      "  merit_f = mat**2/np.outer(Ni, Nj)\n",
      "pynbody.halo : Unable to load AHF substructure file; continuing without. To expose the underlying problem as an exception, pass ignore_missing_substructure=False to the AHFCatalogue constructor\n"
     ]
    },
    {
     "name": "stdout",
     "output_type": "stream",
     "text": [
      "\tMatching halos by merit function\n",
      "24\n",
      "\tWarning: Some halos have zero particles\n",
      "\tZeros in Ni: 16, Zeros in Nj: 8\n",
      "\tdone matching halos\n"
     ]
    },
    {
     "name": "stderr",
     "output_type": "stream",
     "text": [
      "/home/selvani/MAP/pynbody/halo_trace/halo_trace/tracing.py:81: RuntimeWarning: invalid value encountered in divide\n",
      "  merit_f = mat**2/np.outer(Ni, Nj)\n"
     ]
    },
    {
     "name": "stdout",
     "output_type": "stream",
     "text": [
      "\tMatching halos by merit function\n",
      "24\n",
      "\tWarning: Some halos have zero particles\n",
      "\tZeros in Ni: 27, Zeros in Nj: 6\n",
      "Finished\n",
      "\n",
      "Starting step 000199\n",
      "\tMatching halos by merit function\n",
      "22\n",
      "\tWarning: Some halos have zero particles\n",
      "\tZeros in Ni: 23, Zeros in Nj: 5\n",
      "\tdone matching halos\n",
      "Cross-checking step 000199\n",
      "\n",
      "Finished\n",
      "\n",
      "000482\n",
      "[17]\n",
      "[199, 291, 384, 482]\n"
     ]
    },
    {
     "name": "stderr",
     "output_type": "stream",
     "text": [
      "/home/selvani/MAP/pynbody/halo_trace/halo_trace/tracing.py:81: RuntimeWarning: invalid value encountered in divide\n",
      "  merit_f = mat**2/np.outer(Ni, Nj)\n"
     ]
    },
    {
     "name": "stdout",
     "output_type": "stream",
     "text": [
      "cptmarvel.cosmo25cmb.4096g5HbwK1BH.000113 does not exist or has incorrect permissions\n",
      "Steplist ['/home/selvani/MAP/Sims/cptmarvel.cosmo25cmb/cptmarvel.cosmo25cmb.4096g5HbwK1BH/cptmarvel.4096g5HbwK1BH_bn/cptmarvel.cosmo25cmb.4096g5HbwK1BH.000482', '/home/selvani/MAP/Sims/cptmarvel.cosmo25cmb/cptmarvel.cosmo25cmb.4096g5HbwK1BH/cptmarvel.4096g5HbwK1BH_bn/cptmarvel.cosmo25cmb.4096g5HbwK1BH.000384', '/home/selvani/MAP/Sims/cptmarvel.cosmo25cmb/cptmarvel.cosmo25cmb.4096g5HbwK1BH/cptmarvel.4096g5HbwK1BH_bn/cptmarvel.cosmo25cmb.4096g5HbwK1BH.000291', '/home/selvani/MAP/Sims/cptmarvel.cosmo25cmb/cptmarvel.cosmo25cmb.4096g5HbwK1BH/cptmarvel.4096g5HbwK1BH_bn/cptmarvel.cosmo25cmb.4096g5HbwK1BH.000199']\n",
      "File will be saved as /home/selvani/MAP/pynbody/AnnaWright_startrace/home/selvani/MAP/Sims/cptmarvel.cosmo25cmb/cptmarvel.cosmo25cmb.4096g5HbwK1BH/cptmarvel.4096g5HbwK1BH_bn/cptmarvel.cosmo25cmb.4096g5HbwK1BH.000482.trace_back_merge.hdf5\n",
      "grplist= [17]\n"
     ]
    },
    {
     "name": "stderr",
     "output_type": "stream",
     "text": [
      "pynbody.halo : Unable to load AHF substructure file; continuing without. To expose the underlying problem as an exception, pass ignore_missing_substructure=False to the AHFCatalogue constructor\n"
     ]
    },
    {
     "data": {
      "application/vnd.jupyter.widget-view+json": {
       "model_id": "2d6a674b8e8541d495c0d525c9ca71d6",
       "version_major": 2,
       "version_minor": 0
      },
      "text/plain": [
       "Tracing halos:   0%|          | 0/3 [00:00<?, ?step/s]"
      ]
     },
     "metadata": {},
     "output_type": "display_data"
    },
    {
     "name": "stdout",
     "output_type": "stream",
     "text": [
      "Starting step 000384\n",
      "Advanced step 000291\n"
     ]
    },
    {
     "name": "stderr",
     "output_type": "stream",
     "text": [
      "pynbody.halo : Unable to load AHF substructure file; continuing without. To expose the underlying problem as an exception, pass ignore_missing_substructure=False to the AHFCatalogue constructor\n"
     ]
    },
    {
     "name": "stdout",
     "output_type": "stream",
     "text": [
      "\tMatching halos by merit function\n",
      "25\n",
      "\tWarning: Some halos have zero particles\n",
      "\tZeros in Ni: 15, Zeros in Nj: 6\n",
      "\tdone matching halos\n"
     ]
    },
    {
     "name": "stderr",
     "output_type": "stream",
     "text": [
      "/home/selvani/MAP/pynbody/halo_trace/halo_trace/tracing.py:81: RuntimeWarning: invalid value encountered in divide\n",
      "  merit_f = mat**2/np.outer(Ni, Nj)\n",
      "pynbody.halo : Unable to load AHF substructure file; continuing without. To expose the underlying problem as an exception, pass ignore_missing_substructure=False to the AHFCatalogue constructor\n"
     ]
    },
    {
     "name": "stdout",
     "output_type": "stream",
     "text": [
      "\tMatching halos by merit function\n",
      "25\n",
      "\tWarning: Some halos have zero particles\n",
      "\tZeros in Ni: 26, Zeros in Nj: 6\n",
      "Finished\n",
      "\n",
      "Starting step 000291\n"
     ]
    },
    {
     "name": "stderr",
     "output_type": "stream",
     "text": [
      "pynbody.halo : Unable to load AHF substructure file; continuing without. To expose the underlying problem as an exception, pass ignore_missing_substructure=False to the AHFCatalogue constructor\n"
     ]
    },
    {
     "name": "stdout",
     "output_type": "stream",
     "text": [
      "\tMatching halos by merit function\n",
      "24\n",
      "\tWarning: Some halos have zero particles\n",
      "\tZeros in Ni: 16, Zeros in Nj: 8\n",
      "\tdone matching halos\n",
      "Cross-checking step 000291\n",
      "\n",
      "Finished\n",
      "\n",
      "Starting step 000199\n"
     ]
    },
    {
     "name": "stderr",
     "output_type": "stream",
     "text": [
      "/home/selvani/MAP/pynbody/halo_trace/halo_trace/tracing.py:81: RuntimeWarning: invalid value encountered in divide\n",
      "  merit_f = mat**2/np.outer(Ni, Nj)\n"
     ]
    },
    {
     "name": "stdout",
     "output_type": "stream",
     "text": [
      "\tMatching halos by merit function\n",
      "22\n",
      "\tWarning: Some halos have zero particles\n",
      "\tZeros in Ni: 23, Zeros in Nj: 5\n",
      "\tdone matching halos\n",
      "Cross-checking step 000199\n",
      "\n",
      "Finished\n",
      "\n",
      "000384\n",
      "[ 9  8 14 16]\n",
      "[199, 291, 384]\n"
     ]
    },
    {
     "name": "stderr",
     "output_type": "stream",
     "text": [
      "/home/selvani/MAP/pynbody/halo_trace/halo_trace/tracing.py:81: RuntimeWarning: invalid value encountered in divide\n",
      "  merit_f = mat**2/np.outer(Ni, Nj)\n",
      "/home/selvani/MAP/pynbody/halo_trace/halo_trace/tracing.py:279: FutureWarning: Setting an item of incompatible dtype is deprecated and will raise an error in a future version of pandas. Value '[]' has dtype incompatible with int64, please explicitly cast to a compatible dtype first.\n",
      "  df.loc[mask, step[-6:]] = df2.loc[mask, step[-6:]]\n",
      "/home/selvani/MAP/pynbody/halo_trace/halo_trace/tracing.py:294: PerformanceWarning: \n",
      "your performance may suffer as PyTables will pickle object types that it cannot\n",
      "map directly to c-types [inferred_type->integer,key->block1_values] [items->Index(['000199'], dtype='object')]\n",
      "\n",
      "  df.to_hdf(save_file, key='ids')\n"
     ]
    },
    {
     "name": "stdout",
     "output_type": "stream",
     "text": [
      "cptmarvel.cosmo25cmb.4096g5HbwK1BH.000113 does not exist or has incorrect permissions\n",
      "Steplist ['/home/selvani/MAP/Sims/cptmarvel.cosmo25cmb/cptmarvel.cosmo25cmb.4096g5HbwK1BH/cptmarvel.4096g5HbwK1BH_bn/cptmarvel.cosmo25cmb.4096g5HbwK1BH.000384', '/home/selvani/MAP/Sims/cptmarvel.cosmo25cmb/cptmarvel.cosmo25cmb.4096g5HbwK1BH/cptmarvel.4096g5HbwK1BH_bn/cptmarvel.cosmo25cmb.4096g5HbwK1BH.000291', '/home/selvani/MAP/Sims/cptmarvel.cosmo25cmb/cptmarvel.cosmo25cmb.4096g5HbwK1BH/cptmarvel.4096g5HbwK1BH_bn/cptmarvel.cosmo25cmb.4096g5HbwK1BH.000199']\n",
      "File will be saved as /home/selvani/MAP/pynbody/AnnaWright_startrace/home/selvani/MAP/Sims/cptmarvel.cosmo25cmb/cptmarvel.cosmo25cmb.4096g5HbwK1BH/cptmarvel.4096g5HbwK1BH_bn/cptmarvel.cosmo25cmb.4096g5HbwK1BH.000384.trace_back_merge.hdf5\n",
      "grplist= [ 9  8 14 16]\n"
     ]
    },
    {
     "name": "stderr",
     "output_type": "stream",
     "text": [
      "pynbody.halo : Unable to load AHF substructure file; continuing without. To expose the underlying problem as an exception, pass ignore_missing_substructure=False to the AHFCatalogue constructor\n"
     ]
    },
    {
     "data": {
      "application/vnd.jupyter.widget-view+json": {
       "model_id": "8877968f7a004385bf0e893875c0e3ca",
       "version_major": 2,
       "version_minor": 0
      },
      "text/plain": [
       "Tracing halos:   0%|          | 0/2 [00:00<?, ?step/s]"
      ]
     },
     "metadata": {},
     "output_type": "display_data"
    },
    {
     "name": "stdout",
     "output_type": "stream",
     "text": [
      "Starting step 000291\n",
      "Advanced step 000199\n"
     ]
    },
    {
     "name": "stderr",
     "output_type": "stream",
     "text": [
      "pynbody.halo : Unable to load AHF substructure file; continuing without. To expose the underlying problem as an exception, pass ignore_missing_substructure=False to the AHFCatalogue constructor\n"
     ]
    },
    {
     "name": "stdout",
     "output_type": "stream",
     "text": [
      "\tMatching halos by merit function\n",
      "24\n",
      "\tWarning: Some halos have zero particles\n",
      "\tZeros in Ni: 16, Zeros in Nj: 8\n",
      "\tdone matching halos\n"
     ]
    },
    {
     "name": "stderr",
     "output_type": "stream",
     "text": [
      "/home/selvani/MAP/pynbody/halo_trace/halo_trace/tracing.py:81: RuntimeWarning: invalid value encountered in divide\n",
      "  merit_f = mat**2/np.outer(Ni, Nj)\n"
     ]
    },
    {
     "name": "stdout",
     "output_type": "stream",
     "text": [
      "\tMatching halos by merit function\n",
      "24\n",
      "\tWarning: Some halos have zero particles\n",
      "\tZeros in Ni: 27, Zeros in Nj: 6\n",
      "Finished\n",
      "\n",
      "Starting step 000199\n",
      "\tMatching halos by merit function\n",
      "25\n",
      "\tWarning: Some halos have zero particles\n",
      "\tZeros in Ni: 23, Zeros in Nj: 5\n",
      "\tdone matching halos\n",
      "Cross-checking step 000199\n",
      "\n",
      "Finished\n",
      "\n",
      "000291\n",
      "[12]\n",
      "[199, 291]\n"
     ]
    },
    {
     "name": "stderr",
     "output_type": "stream",
     "text": [
      "/home/selvani/MAP/pynbody/halo_trace/halo_trace/tracing.py:81: RuntimeWarning: invalid value encountered in divide\n",
      "  merit_f = mat**2/np.outer(Ni, Nj)\n"
     ]
    },
    {
     "name": "stdout",
     "output_type": "stream",
     "text": [
      "cptmarvel.cosmo25cmb.4096g5HbwK1BH.000113 does not exist or has incorrect permissions\n",
      "Steplist ['/home/selvani/MAP/Sims/cptmarvel.cosmo25cmb/cptmarvel.cosmo25cmb.4096g5HbwK1BH/cptmarvel.4096g5HbwK1BH_bn/cptmarvel.cosmo25cmb.4096g5HbwK1BH.000291', '/home/selvani/MAP/Sims/cptmarvel.cosmo25cmb/cptmarvel.cosmo25cmb.4096g5HbwK1BH/cptmarvel.4096g5HbwK1BH_bn/cptmarvel.cosmo25cmb.4096g5HbwK1BH.000199']\n",
      "File will be saved as /home/selvani/MAP/pynbody/AnnaWright_startrace/home/selvani/MAP/Sims/cptmarvel.cosmo25cmb/cptmarvel.cosmo25cmb.4096g5HbwK1BH/cptmarvel.4096g5HbwK1BH_bn/cptmarvel.cosmo25cmb.4096g5HbwK1BH.000291.trace_back_merge.hdf5\n",
      "grplist= [12]\n",
      "Must trace through at least 3 steps to use cross check\n",
      "000199\n",
      "[32]\n",
      "[199]\n",
      "cptmarvel.cosmo25cmb.4096g5HbwK1BH.000113 does not exist or has incorrect permissions\n",
      "Steplist ['/home/selvani/MAP/Sims/cptmarvel.cosmo25cmb/cptmarvel.cosmo25cmb.4096g5HbwK1BH/cptmarvel.4096g5HbwK1BH_bn/cptmarvel.cosmo25cmb.4096g5HbwK1BH.000199']\n",
      "File will be saved as /home/selvani/MAP/pynbody/AnnaWright_startrace/home/selvani/MAP/Sims/cptmarvel.cosmo25cmb/cptmarvel.cosmo25cmb.4096g5HbwK1BH/cptmarvel.4096g5HbwK1BH_bn/cptmarvel.cosmo25cmb.4096g5HbwK1BH.000199.trace_back_merge.hdf5\n",
      "grplist= [32]\n",
      "Must trace through at least 3 steps to use cross check\n"
     ]
    }
   ],
   "source": [
    "for i in tqdm.tqdm(tsteps_used):\n",
    "    trace_step(i)"
   ]
  },
  {
   "cell_type": "code",
   "execution_count": 44,
   "id": "acf8f96c",
   "metadata": {},
   "outputs": [
    {
     "name": "stdout",
     "output_type": "stream",
     "text": [
      "/home/selvani/MAP/Sims/cptmarvel.cosmo25cmb/cptmarvel.cosmo25cmb.4096g5HbwK1BH/cptmarvel.4096g5HbwK1BH_bn/cptmarvel.cosmo25cmb.4096g5HbwK1BH.001162.trace_back_merge.hdf5\n",
      "Original index: 001162\n",
      "        001152  001025  000896  000818  000768  000672  000640  000512  \\\n",
      "001162                                                                   \n",
      "14          14      13      12      10      10      10      10      11   \n",
      "72          62      28      29      28      29      29      26      20   \n",
      "\n",
      "        000482  000384  000291  000199  \n",
      "001162                                  \n",
      "14          12      17      22      31  \n",
      "72          21      29      24      10  \n",
      "/home/selvani/MAP/Sims/cptmarvel.cosmo25cmb/cptmarvel.cosmo25cmb.4096g5HbwK1BH/cptmarvel.4096g5HbwK1BH_bn/cptmarvel.cosmo25cmb.4096g5HbwK1BH.002176.trace_back_merge.hdf5\n",
      "Original index: 002176\n",
      "        002162  002048  001920  001813  001792  001664  001543  001536  \\\n",
      "002176                                                                   \n",
      "49          48      43      43      43      43      45      42      43   \n",
      "\n",
      "        001408  001331  ...  000896  000818  000768  000672  000640  000512  \\\n",
      "002176                  ...                                                   \n",
      "49          42      40  ...      51      49      44      39      37      35   \n",
      "\n",
      "        000482  000384  000291  000199  \n",
      "002176                                  \n",
      "49          37      37      37      25  \n",
      "\n",
      "[1 rows x 24 columns]\n",
      "/home/selvani/MAP/Sims/cptmarvel.cosmo25cmb/cptmarvel.cosmo25cmb.4096g5HbwK1BH/cptmarvel.4096g5HbwK1BH_bn/cptmarvel.cosmo25cmb.4096g5HbwK1BH.001813.trace_back_merge.hdf5\n",
      "Original index: 001813\n",
      "        001792  001664  001543  001536  001408  001331  001280  001162  \\\n",
      "001813                                                                   \n",
      "14          14      18      -1      -1      -1      -1      -1      -1   \n",
      "160        157      70      40      39      25      26      28      22   \n",
      "\n",
      "        001152  001025  000896  000818  000768  000672  000640  000512  \\\n",
      "001813                                                                   \n",
      "14          -1      -1      -1      -1      -1      -1      -1      -1   \n",
      "160         22      19      16      18      18      16      16      13   \n",
      "\n",
      "        000482  000384  000291  000199  \n",
      "001813                                  \n",
      "14          -1      -1      -1      -1  \n",
      "160         13      13      11      14  \n",
      "/home/selvani/MAP/Sims/cptmarvel.cosmo25cmb/cptmarvel.cosmo25cmb.4096g5HbwK1BH/cptmarvel.4096g5HbwK1BH_bn/cptmarvel.cosmo25cmb.4096g5HbwK1BH.001152.trace_back_merge.hdf5\n",
      "Original index: 001152\n",
      "        001025  000896  000818  000768  000672  000640  000512  000482  \\\n",
      "001152                                                                   \n",
      "62          28      29      28      29      29      26      20      21   \n",
      "\n",
      "        000384  000291 000199  \n",
      "001152                         \n",
      "62          29      24     10  \n",
      "/home/selvani/MAP/Sims/cptmarvel.cosmo25cmb/cptmarvel.cosmo25cmb.4096g5HbwK1BH/cptmarvel.4096g5HbwK1BH_bn/cptmarvel.cosmo25cmb.4096g5HbwK1BH.000482.trace_back_merge.hdf5\n",
      "Original index: 000482\n",
      "        000384  000291 000199\n",
      "000482                       \n",
      "17          16      15     18\n",
      "/home/selvani/MAP/Sims/cptmarvel.cosmo25cmb/cptmarvel.cosmo25cmb.4096g5HbwK1BH/cptmarvel.4096g5HbwK1BH_bn/cptmarvel.cosmo25cmb.4096g5HbwK1BH.001408.trace_back_merge.hdf5\n",
      "Original index: 001408\n",
      "        001331  001280  001162  001152  001025  000896  000818  000768  \\\n",
      "001408                                                                   \n",
      "6            7       7       6       6       5       5       5       6   \n",
      "158         98      84      72      62      28      29      28      29   \n",
      "154         -1      -1      -1      -1      -1      -1      -1      -1   \n",
      "\n",
      "        000672  000640  000512  000482  000384  000291 000199  \n",
      "001408                                                         \n",
      "6            6       6       6       6       7       6      4  \n",
      "158         29      26      20      21      29      24     10  \n",
      "154         -1      -1      -1      -1      -1      -1    NaN  \n",
      "/home/selvani/MAP/Sims/cptmarvel.cosmo25cmb/cptmarvel.cosmo25cmb.4096g5HbwK1BH/cptmarvel.4096g5HbwK1BH_bn/cptmarvel.cosmo25cmb.4096g5HbwK1BH.001025.trace_back_merge.hdf5\n",
      "Original index: 001025\n",
      "        000896  000818  000768  000672  000640  000512  000482  000384  \\\n",
      "001025                                                                   \n",
      "13          12      10      10      10      10      11      12      17   \n",
      "28          29      28      29      29      26      20      21      29   \n",
      "\n",
      "        000291  000199  \n",
      "001025                  \n",
      "13          22      31  \n",
      "28          24      10  \n",
      "/home/selvani/MAP/Sims/cptmarvel.cosmo25cmb/cptmarvel.cosmo25cmb.4096g5HbwK1BH/cptmarvel.4096g5HbwK1BH_bn/cptmarvel.cosmo25cmb.4096g5HbwK1BH.000896.trace_back_merge.hdf5\n",
      "Original index: 000896\n",
      "        000818  000768  000672  000640  000512  000482  000384  000291 000199\n",
      "000896                                                                       \n",
      "12          10      10      10      10      11      12      17      22     31\n",
      "/home/selvani/MAP/Sims/cptmarvel.cosmo25cmb/cptmarvel.cosmo25cmb.4096g5HbwK1BH/cptmarvel.4096g5HbwK1BH_bn/cptmarvel.cosmo25cmb.4096g5HbwK1BH.000672.trace_back_merge.hdf5\n",
      "Original index: 000672\n",
      "        000640  000512  000482  000384  000291  000199\n",
      "000672                                                \n",
      "121         67      23      17      16      15      18\n",
      "/home/selvani/MAP/Sims/cptmarvel.cosmo25cmb/cptmarvel.cosmo25cmb.4096g5HbwK1BH/cptmarvel.4096g5HbwK1BH_bn/cptmarvel.cosmo25cmb.4096g5HbwK1BH.001331.trace_back_merge.hdf5\n",
      "Original index: 001331\n",
      "        001280  001162  001152  001025  000896  000818  000768  000672  \\\n",
      "001331                                                                   \n",
      "98          84      72      62      28      29      28      29      29   \n",
      "\n",
      "        000640  000512  000482  000384  000291  000199  \n",
      "001331                                                  \n",
      "98          26      20      21      29      24      10  \n",
      "/home/selvani/MAP/Sims/cptmarvel.cosmo25cmb/cptmarvel.cosmo25cmb.4096g5HbwK1BH/cptmarvel.4096g5HbwK1BH_bn/cptmarvel.cosmo25cmb.4096g5HbwK1BH.002048.trace_back_merge.hdf5\n",
      "Original index: 002048\n",
      "        001920  001813  001792  001664  001543  001536  001408  001331  \\\n",
      "002048                                                                   \n",
      "29          17      14      14      18      -1      -1      -1      -1   \n",
      "\n",
      "        001280  001162  ...  000896  000818  000768  000672  000640  000512  \\\n",
      "002048                  ...                                                   \n",
      "29          -1      -1  ...      -1      -1      -1      -1      -1      -1   \n",
      "\n",
      "        000482  000384  000291  000199  \n",
      "002048                                  \n",
      "29          -1      -1      -1      -1  \n",
      "\n",
      "[1 rows x 22 columns]\n",
      "/home/selvani/MAP/Sims/cptmarvel.cosmo25cmb/cptmarvel.cosmo25cmb.4096g5HbwK1BH/cptmarvel.4096g5HbwK1BH_bn/cptmarvel.cosmo25cmb.4096g5HbwK1BH.001280.trace_back_merge.hdf5\n",
      "Original index: 001280\n",
      "        001162  001152  001025  000896  000818  000768  000672  000640  \\\n",
      "001280                                                                   \n",
      "17          14      14      13      12      10      10      10      10   \n",
      "84          72      62      28      29      28      29      29      26   \n",
      "\n",
      "        000512  000482  000384  000291 000199  \n",
      "001280                                         \n",
      "17          11      12      17      22     31  \n",
      "84          20      21      29      24     10  \n",
      "/home/selvani/MAP/Sims/cptmarvel.cosmo25cmb/cptmarvel.cosmo25cmb.4096g5HbwK1BH/cptmarvel.4096g5HbwK1BH_bn/cptmarvel.cosmo25cmb.4096g5HbwK1BH.001543.trace_back_merge.hdf5\n",
      "Original index: 001543\n",
      "        001536  001408  001331  001280  001162  001152  001025  000896  \\\n",
      "001543                                                                   \n",
      "12          12       6       7       7       6       6       5       5   \n",
      "\n",
      "        000818  000768  000672  000640  000512  000482  000384  000291 000199  \n",
      "001543                                                                         \n",
      "12           5       6       6       6       6       6       7       6      4  \n",
      "/home/selvani/MAP/Sims/cptmarvel.cosmo25cmb/cptmarvel.cosmo25cmb.4096g5HbwK1BH/cptmarvel.4096g5HbwK1BH_bn/cptmarvel.cosmo25cmb.4096g5HbwK1BH.000512.trace_back_merge.hdf5\n",
      "Original index: 000512\n",
      "        000482  000384  000291  000199\n",
      "000512                                \n",
      "23          17      16      15      18\n",
      "/home/selvani/MAP/Sims/cptmarvel.cosmo25cmb/cptmarvel.cosmo25cmb.4096g5HbwK1BH/cptmarvel.4096g5HbwK1BH_bn/cptmarvel.cosmo25cmb.4096g5HbwK1BH.000640.trace_back_merge.hdf5\n",
      "Original index: 000640\n",
      "        000512  000482  000384  000291 000199\n",
      "000640                                       \n",
      "67          23      17      16      15     18\n",
      "/home/selvani/MAP/Sims/cptmarvel.cosmo25cmb/cptmarvel.cosmo25cmb.4096g5HbwK1BH/cptmarvel.4096g5HbwK1BH_bn/cptmarvel.cosmo25cmb.4096g5HbwK1BH.001920.trace_back_merge.hdf5\n",
      "Original index: 001920\n",
      "        001813  001792  001664  001543  001536  001408  001331  001280  \\\n",
      "001920                                                                   \n",
      "17          14      14      18      -1      -1      -1      -1      -1   \n",
      "\n",
      "        001162  001152  ...  000896  000818  000768  000672  000640  000512  \\\n",
      "001920                  ...                                                   \n",
      "17          -1      -1  ...      -1      -1      -1      -1      -1      -1   \n",
      "\n",
      "        000482  000384  000291  000199  \n",
      "001920                                  \n",
      "17          -1      -1      -1     NaN  \n",
      "\n",
      "[1 rows x 21 columns]\n",
      "/home/selvani/MAP/Sims/cptmarvel.cosmo25cmb/cptmarvel.cosmo25cmb.4096g5HbwK1BH/cptmarvel.4096g5HbwK1BH_bn/cptmarvel.cosmo25cmb.4096g5HbwK1BH.000384.trace_back_merge.hdf5\n",
      "Original index: 000384\n",
      "        000291  000199\n",
      "000384                \n",
      "9            2      12\n",
      "8            7      19\n",
      "14          17      82\n",
      "16          15      18\n"
     ]
    }
   ],
   "source": [
    "filenames = glob.glob(sim_base + '/*merge.hdf5')\n",
    "for file in filenames:\n",
    "    print(file)\n",
    "    trace = pd.read_hdf(file, key='ids')\n",
    "    # Fix the index by removing the '004096' prefix\n",
    "    print(\"Original index:\", trace.index.name)\n",
    "    # trace.index = trace.index.str.replace(trace.index.name, '')\n",
    "    # Convert to integers if desired\n",
    "    trace.index = trace.index.astype(int)\n",
    "    print(trace.head())\n",
    "    # trace.to_hdf(file, key='ids')"
   ]
  },
  {
   "cell_type": "code",
   "execution_count": 33,
   "id": "fedbd507",
   "metadata": {},
   "outputs": [],
   "source": [
    "import pandas as pd\n",
    "from tangos import get_timestep, core\n",
    "from tangos.core import get_default_session as session\n",
    "\n",
    "def create_phantom(ts, halo_number):\n",
    "    # Make a new Halo object with a special flag or negative halo number\n",
    "    phantom = core.Halo(\n",
    "        halo_number=halo_number,\n",
    "        timestep=ts,\n",
    "        finder_id=-halo_number,  # Use negative to distinguish phantom\n",
    "        # Add other properties as needed\n",
    "    )\n",
    "    session.add(phantom)\n",
    "    session.commit()\n",
    "    return phantom\n",
    "\n",
    "def check_and_fix_links_with_phantoms(df, sim_prefix=\"sim\", dry_run=True, create_phantoms=False):\n",
    "    for chain_idx, row in df.iterrows():\n",
    "        halos = []\n",
    "        for snapshot, halo_number in row.items():\n",
    "            if pd.isnull(halo_number):\n",
    "                halos.append(None)\n",
    "            else:\n",
    "                ts = get_timestep(f\"{sim_prefix}/%{snapshot}\")\n",
    "                halo = ts.halos.filter_by(halo_number=int(halo_number)).first() if ts else None\n",
    "                halos.append(halo)\n",
    "        for i in range(1, len(halos)):\n",
    "            descendant = halos[i-1]\n",
    "            progenitor = halos[i]\n",
    "            # If progenitor missing from DB and create_phantoms is True, create phantom\n",
    "            if progenitor is None and not pd.isnull(row.iloc[i]):\n",
    "                ts = get_timestep(f\"{sim_prefix}/{row.index[i]}\")\n",
    "                if create_phantoms and ts is not None:\n",
    "                    print(f\"[CHAIN {chain_idx}] Creating PHANTOM for halo {row.iloc[i]} in snapshot {row.index[i]}\")\n",
    "                    progenitor = create_phantom(ts, int(row.iloc[i]))\n",
    "                    halos[i] = progenitor\n",
    "            if descendant is None or progenitor is None:\n",
    "                continue\n",
    "            found = False\n",
    "            for link in descendant.previous:\n",
    "                if link.halo_from == progenitor:\n",
    "                    found = True\n",
    "                    break\n",
    "            if not found:\n",
    "                print(f\"[CHAIN {chain_idx}] Missing link: {descendant} (halo_number={descendant.halo_number}, snapshot={descendant.timestep.extension}) \"\n",
    "                      f\"should have progenitor {progenitor} (halo_number={progenitor.halo_number}, snapshot={progenitor.timestep.extension})\")\n",
    "                if not dry_run:\n",
    "                    new_link = core.HaloLink(\n",
    "                        halo_from=progenitor,\n",
    "                        halo_to=descendant,\n",
    "                        type='progenitor',\n",
    "                        weight=1.0\n",
    "                    )\n",
    "                    session.add(new_link)\n",
    "                    print(f\"  -> Link ADDED\")\n",
    "        if not dry_run:\n",
    "            session.commit()\n",
    "            print(f\"[CHAIN {chain_idx}] Committed new links to DB.\")\n"
   ]
  },
  {
   "cell_type": "code",
   "execution_count": 63,
   "id": "d504c669",
   "metadata": {},
   "outputs": [],
   "source": [
    "def get_halo(snapshot, halo_number):\n",
    "    ts = tangos.get_timestep(f\"cptmarvel.4096g5HbwK1BH_bn/%{snapshot}\")\n",
    "    # print(f\"Retrieved timestep: {ts}\")\n",
    "    return ts.halos.filter_by(halo_number=int(halo_number)).first()"
   ]
  },
  {
   "cell_type": "code",
   "execution_count": null,
   "id": "c338f8cf",
   "metadata": {},
   "outputs": [],
   "source": [
    "def process_halo_data(filename):\n",
    "    df = pd.read_hdf(filename, key='ids')\n",
    "    snapshot = df.index.name\n",
    "    # rows = df.values\n",
    "    print(\"Snapshot:\", snapshot)\n",
    "    for index, row in df.iterrows():\n",
    "        # print(index)\n",
    "        halo_numbers_df = row.values.tolist()\n",
    "        halo_numbers_df.insert(0, index)\n",
    "        snapshots_df = row.index.values.tolist()\n",
    "        snapshots_df.insert(0, snapshot)\n",
    "        unique_id_strings = []\n",
    "        for halo_num, snap in zip(halo_numbers_df, snapshots_df):\n",
    "            unique_id_string = f\"{snap}_{halo_num}\"\n",
    "            unique_id_strings.append(unique_id_string)\n",
    "        print(f\"    Unique IDs: {unique_id_strings}\")\n",
    "        # print(halo_numbers_df)\n",
    "        # print(snapshots_df)\n",
    "        halo = get_halo(snapshot, index)\n",
    "        print(f\"  Retrieved halo: {halo.halo_number}\")\n",
    "\n",
    "        unique_id_tangos = []\n",
    "        halo_numbers, dbids = halo.calculate_for_progenitors('halo_number()','dbid()')\n",
    "        snapshots = [tangos.get_halo(dbid).timestep.extension[-6:] for dbid in dbids]\n",
    "        print(f\"    Retrieved progenitor halos: {halo_numbers}\")\n",
    "        # print(f\"    Retrieved progenitor snapshots: {snapshots}\")\n",
    "        for halo_num, snap in zip(halo_numbers, snapshots):\n",
    "            unique_id_string = f\"{snap}_{halo_num}\"\n",
    "            unique_id_tangos.append(unique_id_string)\n",
    "        # print(f\"    Unique IDs: {unique_id_tangos}\")\n",
    "\n",
    "        # check if each one is in the tangos database\n",
    "        for unique_id in unique_id_strings:\n",
    "            if unique_id not in unique_id_tangos and not unique_id.endswith('-1'):\n",
    "                print(f\"    ID {unique_id} not found in tangos links\")\n",
    "\n",
    "        for unique_id in unique_id_tangos:\n",
    "            if unique_id not in unique_id_strings:\n",
    "                print(f\"    ID {unique_id} not found in halo links\")"
   ]
  },
  {
   "cell_type": "code",
   "execution_count": 83,
   "id": "4c288bc4",
   "metadata": {},
   "outputs": [
    {
     "name": "stdout",
     "output_type": "stream",
     "text": [
      "Snapshot: 001162\n",
      "    Unique IDs: ['001162_14', '001152_14', '001025_13', '000896_12', '000818_10', '000768_10', '000672_10', '000640_10', '000512_11', '000482_12', '000384_17', '000291_22', '000199_31']\n",
      "  Retrieved halo: 14\n",
      "    Retrieved progenitor halos: [14 14 13 12 10 10 10 10 11 12 17 22 31]\n",
      "    Unique IDs: ['001162_72', '001152_62', '001025_28', '000896_29', '000818_28', '000768_29', '000672_29', '000640_26', '000512_20', '000482_21', '000384_29', '000291_24', '000199_10']\n",
      "  Retrieved halo: 72\n",
      "    Retrieved progenitor halos: [72 62 28 29 28 29 29 26 20 21 29 24 10]\n",
      "Snapshot: 002176\n",
      "    Unique IDs: ['002176_49', '002162_48', '002048_43', '001920_43', '001813_43', '001792_43', '001664_45', '001543_42', '001536_43', '001408_42', '001331_40', '001280_42', '001162_42', '001152_43', '001025_48', '000896_51', '000818_49', '000768_44', '000672_39', '000640_37', '000512_35', '000482_37', '000384_37', '000291_37', '000199_25']\n",
      "  Retrieved halo: 49\n",
      "    Retrieved progenitor halos: [49 48 43 43 43 43 45 42 43 42 40 42 42 43 48 51 49 44 39 37 35 37 37 37\n",
      " 25]\n",
      "Snapshot: 001813\n",
      "    Unique IDs: ['001813_14', '001792_14', '001664_18', '001543_-1', '001536_-1', '001408_-1', '001331_-1', '001280_-1', '001162_-1', '001152_-1', '001025_-1', '000896_-1', '000818_-1', '000768_-1', '000672_-1', '000640_-1', '000512_-1', '000482_-1', '000384_-1', '000291_-1', '000199_-1']\n",
      "  Retrieved halo: 14\n",
      "    Retrieved progenitor halos: [14 14 18  5  5 10  8  8  8  8  6  6  6  5  5  5  8  7  5  4  3]\n",
      "    ID 001543_5 not found in halo links\n",
      "    ID 001536_5 not found in halo links\n",
      "    ID 001408_10 not found in halo links\n",
      "    ID 001331_8 not found in halo links\n",
      "    ID 001280_8 not found in halo links\n",
      "    ID 001162_8 not found in halo links\n",
      "    ID 001152_8 not found in halo links\n",
      "    ID 001025_6 not found in halo links\n",
      "    ID 000896_6 not found in halo links\n",
      "    ID 000818_6 not found in halo links\n",
      "    ID 000768_5 not found in halo links\n",
      "    ID 000672_5 not found in halo links\n",
      "    ID 000640_5 not found in halo links\n",
      "    ID 000512_8 not found in halo links\n",
      "    ID 000482_7 not found in halo links\n",
      "    ID 000384_5 not found in halo links\n",
      "    ID 000291_4 not found in halo links\n",
      "    ID 000199_3 not found in halo links\n",
      "    Unique IDs: ['001813_160', '001792_157', '001664_70', '001543_40', '001536_39', '001408_25', '001331_26', '001280_28', '001162_22', '001152_22', '001025_19', '000896_16', '000818_18', '000768_18', '000672_16', '000640_16', '000512_13', '000482_13', '000384_13', '000291_11', '000199_14']\n",
      "  Retrieved halo: 160\n",
      "    Retrieved progenitor halos: [160 157  70  40  39  25  26  28  22  22  19  16  18  18  16  16  13  13\n",
      "  13  11  14]\n",
      "Snapshot: 001152\n",
      "    Unique IDs: ['001152_62', '001025_28', '000896_29', '000818_28', '000768_29', '000672_29', '000640_26', '000512_20', '000482_21', '000384_29', '000291_24', '000199_10']\n",
      "  Retrieved halo: 62\n",
      "    Retrieved progenitor halos: [62 28 29 28 29 29 26 20 21 29 24 10]\n",
      "Snapshot: 000482\n",
      "    Unique IDs: ['000482_17', '000384_16', '000291_15', '000199_18']\n",
      "  Retrieved halo: 17\n",
      "    Retrieved progenitor halos: [17 16 15 18]\n",
      "Snapshot: 001408\n",
      "    Unique IDs: ['001408_6', '001331_7', '001280_7', '001162_6', '001152_6', '001025_5', '000896_5', '000818_5', '000768_6', '000672_6', '000640_6', '000512_6', '000482_6', '000384_7', '000291_6', '000199_4']\n",
      "  Retrieved halo: 6\n",
      "    Retrieved progenitor halos: [6 7 7 6 6 5 5 5 6 6 6 6 6 7 6 4]\n",
      "    Unique IDs: ['001408_158', '001331_98', '001280_84', '001162_72', '001152_62', '001025_28', '000896_29', '000818_28', '000768_29', '000672_29', '000640_26', '000512_20', '000482_21', '000384_29', '000291_24', '000199_10']\n",
      "  Retrieved halo: 158\n",
      "    Retrieved progenitor halos: [158  98  84  72  62  28  29  28  29  29  26  20  21  29  24  10]\n",
      "    Unique IDs: ['001408_154', '001331_-1', '001280_-1', '001162_-1', '001152_-1', '001025_-1', '000896_-1', '000818_-1', '000768_-1', '000672_-1', '000640_-1', '000512_-1', '000482_-1', '000384_-1', '000291_-1', '000199_nan']\n",
      "  Retrieved halo: 154\n",
      "    Retrieved progenitor halos: [154]\n",
      "    ID 000199_nan not found in tangos links\n",
      "Snapshot: 001025\n",
      "    Unique IDs: ['001025_13', '000896_12', '000818_10', '000768_10', '000672_10', '000640_10', '000512_11', '000482_12', '000384_17', '000291_22', '000199_31']\n",
      "  Retrieved halo: 13\n",
      "    Retrieved progenitor halos: [13 12 10 10 10 10 11 12 17 22 31]\n",
      "    Unique IDs: ['001025_28', '000896_29', '000818_28', '000768_29', '000672_29', '000640_26', '000512_20', '000482_21', '000384_29', '000291_24', '000199_10']\n",
      "  Retrieved halo: 28\n",
      "    Retrieved progenitor halos: [28 29 28 29 29 26 20 21 29 24 10]\n",
      "Snapshot: 000896\n",
      "    Unique IDs: ['000896_12', '000818_10', '000768_10', '000672_10', '000640_10', '000512_11', '000482_12', '000384_17', '000291_22', '000199_31']\n",
      "  Retrieved halo: 12\n",
      "    Retrieved progenitor halos: [12 10 10 10 10 11 12 17 22 31]\n",
      "Snapshot: 000672\n",
      "    Unique IDs: ['000672_121', '000640_67', '000512_23', '000482_17', '000384_16', '000291_15', '000199_18']\n",
      "  Retrieved halo: 121\n",
      "    Retrieved progenitor halos: [121  67  23  17  16  15  18]\n",
      "Snapshot: 001331\n",
      "    Unique IDs: ['001331_98', '001280_84', '001162_72', '001152_62', '001025_28', '000896_29', '000818_28', '000768_29', '000672_29', '000640_26', '000512_20', '000482_21', '000384_29', '000291_24', '000199_10']\n",
      "  Retrieved halo: 98\n",
      "    Retrieved progenitor halos: [98 84 72 62 28 29 28 29 29 26 20 21 29 24 10]\n",
      "Snapshot: 002048\n",
      "    Unique IDs: ['002048_29', '001920_17', '001813_14', '001792_14', '001664_18', '001543_-1', '001536_-1', '001408_-1', '001331_-1', '001280_-1', '001162_-1', '001152_-1', '001025_-1', '000896_-1', '000818_-1', '000768_-1', '000672_-1', '000640_-1', '000512_-1', '000482_-1', '000384_-1', '000291_-1', '000199_-1']\n",
      "  Retrieved halo: 29\n",
      "    Retrieved progenitor halos: [29 17 14 14 18  5  5 10  8  8  8  8  6  6  6  5  5  5  8  7  5  4  3]\n",
      "    ID 001543_5 not found in halo links\n",
      "    ID 001536_5 not found in halo links\n",
      "    ID 001408_10 not found in halo links\n",
      "    ID 001331_8 not found in halo links\n",
      "    ID 001280_8 not found in halo links\n",
      "    ID 001162_8 not found in halo links\n",
      "    ID 001152_8 not found in halo links\n",
      "    ID 001025_6 not found in halo links\n",
      "    ID 000896_6 not found in halo links\n",
      "    ID 000818_6 not found in halo links\n",
      "    ID 000768_5 not found in halo links\n",
      "    ID 000672_5 not found in halo links\n",
      "    ID 000640_5 not found in halo links\n",
      "    ID 000512_8 not found in halo links\n",
      "    ID 000482_7 not found in halo links\n",
      "    ID 000384_5 not found in halo links\n",
      "    ID 000291_4 not found in halo links\n",
      "    ID 000199_3 not found in halo links\n",
      "Snapshot: 001280\n",
      "    Unique IDs: ['001280_17', '001162_14', '001152_14', '001025_13', '000896_12', '000818_10', '000768_10', '000672_10', '000640_10', '000512_11', '000482_12', '000384_17', '000291_22', '000199_31']\n",
      "  Retrieved halo: 17\n",
      "    Retrieved progenitor halos: [17 14 14 13 12 10 10 10 10 11 12 17 22 31]\n",
      "    Unique IDs: ['001280_84', '001162_72', '001152_62', '001025_28', '000896_29', '000818_28', '000768_29', '000672_29', '000640_26', '000512_20', '000482_21', '000384_29', '000291_24', '000199_10']\n",
      "  Retrieved halo: 84\n",
      "    Retrieved progenitor halos: [84 72 62 28 29 28 29 29 26 20 21 29 24 10]\n",
      "Snapshot: 001543\n",
      "    Unique IDs: ['001543_12', '001536_12', '001408_6', '001331_7', '001280_7', '001162_6', '001152_6', '001025_5', '000896_5', '000818_5', '000768_6', '000672_6', '000640_6', '000512_6', '000482_6', '000384_7', '000291_6', '000199_4']\n",
      "  Retrieved halo: 12\n",
      "    Retrieved progenitor halos: [12 12  6  7  7  6  6  5  5  5  6  6  6  6  6  7  6  4]\n",
      "Snapshot: 000512\n",
      "    Unique IDs: ['000512_23', '000482_17', '000384_16', '000291_15', '000199_18']\n",
      "  Retrieved halo: 23\n",
      "    Retrieved progenitor halos: [23 17 16 15 18]\n",
      "Snapshot: 000640\n",
      "    Unique IDs: ['000640_67', '000512_23', '000482_17', '000384_16', '000291_15', '000199_18']\n",
      "  Retrieved halo: 67\n",
      "    Retrieved progenitor halos: [67 23 17 16 15 18]\n",
      "Snapshot: 001920\n",
      "    Unique IDs: ['001920_17', '001813_14', '001792_14', '001664_18', '001543_-1', '001536_-1', '001408_-1', '001331_-1', '001280_-1', '001162_-1', '001152_-1', '001025_-1', '000896_-1', '000818_-1', '000768_-1', '000672_-1', '000640_-1', '000512_-1', '000482_-1', '000384_-1', '000291_-1', '000199_nan']\n",
      "  Retrieved halo: 17\n",
      "    Retrieved progenitor halos: [17 14 14 18  5  5 10  8  8  8  8  6  6  6  5  5  5  8  7  5  4  3]\n",
      "    ID 000199_nan not found in tangos links\n",
      "    ID 001543_5 not found in halo links\n",
      "    ID 001536_5 not found in halo links\n",
      "    ID 001408_10 not found in halo links\n",
      "    ID 001331_8 not found in halo links\n",
      "    ID 001280_8 not found in halo links\n",
      "    ID 001162_8 not found in halo links\n",
      "    ID 001152_8 not found in halo links\n",
      "    ID 001025_6 not found in halo links\n",
      "    ID 000896_6 not found in halo links\n",
      "    ID 000818_6 not found in halo links\n",
      "    ID 000768_5 not found in halo links\n",
      "    ID 000672_5 not found in halo links\n",
      "    ID 000640_5 not found in halo links\n",
      "    ID 000512_8 not found in halo links\n",
      "    ID 000482_7 not found in halo links\n",
      "    ID 000384_5 not found in halo links\n",
      "    ID 000291_4 not found in halo links\n",
      "    ID 000199_3 not found in halo links\n",
      "Snapshot: 000384\n",
      "    Unique IDs: ['000384_9', '000291_2', '000199_12']\n",
      "  Retrieved halo: 9\n",
      "    Retrieved progenitor halos: [ 9  2 12]\n",
      "    Unique IDs: ['000384_8', '000291_7', '000199_19']\n",
      "  Retrieved halo: 8\n",
      "    Retrieved progenitor halos: [ 8  7 19]\n",
      "    Unique IDs: ['000384_14', '000291_17', '000199_82']\n",
      "  Retrieved halo: 14\n",
      "    Retrieved progenitor halos: [14 17 82]\n",
      "    Unique IDs: ['000384_16', '000291_15', '000199_18']\n",
      "  Retrieved halo: 16\n",
      "    Retrieved progenitor halos: [16 15 18]\n"
     ]
    }
   ],
   "source": [
    "for filename in filenames:\n",
    "    process_halo_data(filename)"
   ]
  },
  {
   "cell_type": "code",
   "execution_count": null,
   "id": "ef0e511a",
   "metadata": {},
   "outputs": [],
   "source": [
    "df = pd.read_hdf(filenames[0], key='ids')\n",
    "# Set create_phantoms=True if you want to insert placeholder halos for missing ones\n",
    "check_and_fix_links_with_phantoms(df, sim_prefix=\"cptmarvel.4096g5HbwK1BH_bn\", dry_run=True, create_phantoms=True)"
   ]
  },
  {
   "cell_type": "code",
   "execution_count": null,
   "id": "65ca54f6",
   "metadata": {},
   "outputs": [],
   "source": [
    "trace = pd.read_hdf('/home/selvani/MAP/pynbody/cptmarvel.cosmo25cmb.4096g5HbwK1BH.004096.trace_back.hdf5', key='ids')\n",
    "# Fix the index by removing the '004096' prefix\n",
    "trace.index = trace.index.str.replace('004096', '')\n",
    "\n",
    "# Convert to integers if desired\n",
    "trace.index = trace.index.astype(int)"
   ]
  },
  {
   "cell_type": "markdown",
   "id": "c04f8f19",
   "metadata": {},
   "source": [
    "#### Unused"
   ]
  },
  {
   "cell_type": "code",
   "execution_count": null,
   "id": "88cf613b",
   "metadata": {},
   "outputs": [],
   "source": [
    "main_branch = halo.calculate_for_progenitors()\n",
    "print(main_branch)"
   ]
  },
  {
   "cell_type": "code",
   "execution_count": null,
   "id": "acac75ff",
   "metadata": {},
   "outputs": [],
   "source": [
    "main_branch = []\n",
    "halo_current = halo\n",
    "\n",
    "# Step 1: Walk the main progenitor branch\n",
    "while True:\n",
    "    main_branch.append(halo_current)\n",
    "    if len(halo_current.progenitors)==0:\n",
    "        break\n",
    "    # The main progenitor is usually the most massive\n",
    "    halo_current = max(halo_current.progenitors, key=lambda h: getattr(h, 'Mvir', 0))\n",
    "\n",
    "# Step 2: For each snapshot (along main branch), find all progenitors\n",
    "for h in main_branch:\n",
    "    all_progs = h.progenitors\n",
    "    if not all_progs:\n",
    "        continue\n",
    "    # The main progenitor (by definition, on the main branch)\n",
    "    main_prog = max(all_progs, key=lambda h: getattr(h, 'Mvir', 0))\n",
    "    # Others are mergers into the main branch at this step\n",
    "    mergers = [prog for prog in all_progs if prog != main_prog]\n",
    "    \n",
    "    print(f\"Snapshot: {h.timestep.extension} Halo number: {h.halo_number}\")\n",
    "    print(f\"  Main progenitor: {main_prog.halo_number if main_prog else 'N/A'}\")\n",
    "    print(f\"  Mergers at this step: {[m.halo_number for m in mergers]}\")"
   ]
  },
  {
   "cell_type": "markdown",
   "id": "e92d6520-e6ef-418a-a021-d1adbfdc2538",
   "metadata": {},
   "source": [
    "### 4) IDUniqueHost_rz.py\n",
    "\n",
    "Step 4 of stellar halo pipeline                                                                                                                       \n",
    "Creates a unique ID for each host that forms a star. The format of                                                                                    \n",
    "this ID is \\<last snapshot where host was IDed\\>_\\<index at this snapshot\\>.                                                                              \n",
    "So, if a host was halo 5 at snapshot 3552 and then merged with halo 1                                                                                 \n",
    "before the next snapshot, its unique ID will be 3552_5. Stars that form                                                                               \n",
    "in its main progenitors will also be associated with this ID. These IDs                                                                               \n",
    "are written out to a file with a similar format to <sim>_halostarhosts.txt.                                                                           \n",
    "                                                                                                                                                      \n",
    "Output: <sim>_uniquehalostarhosts.txt                                                                                                                 \n",
    "                                                                                                                                                      \n",
    "Usage:   python IDUniqueHost_rz.py <sim>                                                                                                              \n",
    "Example: python IDUniqueHost_rz.py r634                                                                                                               \n",
    "                                                                                                                                                      \n",
    "Note that this is currently set up for MMs, but should be easily adapted                                                                              \n",
    "by e.g., changing the paths or adding a path CL argument. It is also                                                                                  \n",
    "designed to accommodate the phantoms that rockstar generates when it                                                                                  \n",
    "temporarily loses track of a halo, which slows it down quite a bit.                                                                                   \n",
    "If you're only ever going to be using it with other types of merger                                                                                   \n",
    "trees, it can be simplified.  "
   ]
  },
  {
   "cell_type": "markdown",
   "id": "e0212795",
   "metadata": {},
   "source": [
    "Step 4 of stellar halo pipeline\n",
    "\n",
    "**What it does:**\n",
    "- Reads the `<sim>_halostarhosts.txt` file created in Step 3 (which lists halos that formed stars at each snapshot)\n",
    "- For each star-forming halo, traces its merger history forward in time using Tangos database merger trees\n",
    "- Creates a unique, persistent ID for each halo that accounts for mergers and halo evolution\n",
    "- Assigns the same unique ID to stars formed in progenitor halos that later merge\n",
    "- Handles \"phantom\" halos (temporary tracking losses in halo finders) for robust merger tree following\n",
    "- Outputs a mapping file that connects local halo IDs to persistent unique IDs\n",
    "\n",
    "**Detailed Process:**\n",
    "1. **Input Parsing**: Reads the timeline of star-forming halos from `_halostarhosts.txt`\n",
    "2. **Merger Tree Traversal**: For each halo, uses Tangos database to trace descendants forward in time\n",
    "3. **Self-Consistency Checking**: Verifies that merger tree connections are bidirectional (descendant→progenitor matches)\n",
    "4. **Unique ID Assignment**: Creates IDs in format `<last_snapshot>_<halo_index>` where the halo was last independently identified\n",
    "5. **Progenitor Chain Building**: Links all progenitors in a merger chain to the same unique ID\n",
    "6. **Phantom Handling**: Accommodates temporary halo finder failures using robust tree traversal algorithms\n",
    "\n",
    "**Key Technical Details:**\n",
    "- **Unique ID Format**: `SSSS_H` where `SSSS` = 4-digit snapshot number, `H` = halo index at that snapshot\n",
    "- **Forward Tracking**: Uses `trackforward()` function to find the last snapshot where a halo exists independently\n",
    "- **Merger Tree Validation**: Employs `checkmatch_p()` and `checkmatch_d()` to verify progenitor/descendant relationships\n",
    "- **Phantom Accommodation**: Filters out phantom halos (type > 0) but maintains merger tree integrity\n",
    "- **Caching System**: Uses dictionary `d` to store previously computed unique IDs for efficiency\n",
    "\n",
    "**Example Unique ID Creation:**\n",
    "```\n",
    "Halo 5 at snapshot 3552 merges with halo 1 before snapshot 3553\n",
    "→ Unique ID: \"3552_5\"\n",
    "→ All stars formed in this halo's progenitors get ID \"3552_5\"\n",
    "→ Stars formed in halo 1 (after merger) get a different unique ID\n",
    "```\n",
    "\n",
    "**Algorithm Workflow:**\n",
    "1. **For each timestep** in the simulation:\n",
    "   - **For each halo** that formed stars at that timestep:\n",
    "     - Check if unique ID already computed (use cached result)\n",
    "     - If not cached: trace forward to find last independent existence\n",
    "     - Create unique ID based on final independent snapshot\n",
    "     - Trace backward through progenitor chain\n",
    "     - Assign same unique ID to all progenitors in the chain\n",
    "     - Cache results for future lookups\n",
    "\n",
    "**Merger Tree Functions:**\n",
    "- **`trackforward(step, halo)`**: Traces halo forward to find last independent snapshot\n",
    "- **`checkmatch_p(step, halo, hid, disp)`**: Verifies progenitor relationship\n",
    "- **`checkmatch_d(step, halo, hid, disp)`**: Verifies descendant relationship\n",
    "\n",
    "**Input Files:**\n",
    "- `<sim>_halostarhosts.txt` from Step 3 (timeline of star-forming halos)\n",
    "- Tangos database with merger tree information\n",
    "\n",
    "**Output File:** `<sim>_uniquehalostarhosts.txt`\n",
    "- Text file with same format as input but with unique IDs replacing local halo indices\n",
    "- Format: `<timestep>\\t<unique_id>,<local_halo_id>[,<star_count>]\\t...`\n",
    "- Example line: `3840    3552_5,15,234    3721_42,42,156`\n",
    "  - At snapshot 3840: unique halo \"3552_5\" (local ID 15) formed 234 stars\n",
    "\n",
    "<!-- **Performance Considerations:**\n",
    "- **Caching**: Avoids recomputing unique IDs for halos already processed\n",
    "- **Phantom Handling**: Designed for Rockstar halo finder but slows processing\n",
    "- **Database Queries**: Intensive use of Tangos merger tree calculations\n",
    "- **Memory Usage**: Stores merger tree data and caching dictionary -->\n",
    "\n",
    "**Data Flow:**\n",
    "```\n",
    "Step 3 Output: *_halostarhosts.txt (local halo IDs)\n",
    "                    ↓\n",
    "Step 4: Merger tree analysis + unique ID assignment\n",
    "                    ↓\n",
    "Step 4 Output: *_uniquehalostarhosts.txt (persistent unique IDs)\n",
    "```\n",
    "\n",
    "**Special Cases Handled:**\n",
    "- **Unbound Stars**: Particles with host ID = -1 get unique ID `<snapshot>_0`\n",
    "- **Phantom Halos**: Temporary tracking losses in halo finder are filtered but accounted for\n",
    "- **Merger Events**: Multiple local halos can map to the same unique ID if they're part of the same merger tree\n",
    "- **Isolated Halos**: Halos that never merge retain their snapshot-specific unique ID\n",
    "\n",
    "**Purpose:** This step solves the fundamental problem that halo IDs change over time due to mergers, making it impossible to track stellar populations. By creating persistent unique IDs, we can:\n",
    "- Group stars by their true formation halo, even after mergers\n",
    "- Trace stellar populations through cosmic time\n",
    "- Identify which stars belong to the main galaxy vs. accreted satellites\n",
    "- Enable stellar halo analysis based on formation environment\n",
    "\n",
    "* Usage: `python IDUniqueHost_rz.py <sim> <tangos_simulation> <input_file> <output_file>`\n",
    "* Example: `python IDUniqueHost_rz.py cptmarvel.cosmo25cmb.4096g5HbwK1BH sim_object halostarhosts.txt uniquehalostarhosts.txt`\n",
    "* Runtime: ~2 minutes \n",
    "\n",
    "<!-- **Important Notes:**\n",
    "- **Computationally Intensive**: Merger tree queries can be slow for large simulations\n",
    "- **Rockstar Optimized**: Phantom handling is specific to Rockstar halo finder behavior\n",
    "- **Database Dependent**: Requires properly constructed Tangos merger trees\n",
    "- **Bidirectional Verification**: Ensures merger tree consistency through forward/backward checking\n",
    "- **Memory Scaling**: Caching dictionary grows with number of unique halos processed -->\n",
    "\n",
    "**Output Validation:**\n",
    "The output file enables Step 5 to create a comprehensive database where every star particle is assigned to a persistent halo ID, regardless of when it formed or how many mergers occurred afterward."
   ]
  },
  {
   "cell_type": "markdown",
   "id": "398881a7",
   "metadata": {},
   "source": [
    "<!-- ### 4) IDUniqueHost_rz.py\n",
    "\n",
    "Step 4 of stellar halo pipeline\n",
    "\n",
    "**What it does:**\n",
    "- Reads the `<sim>_halostarhosts.txt` file created in Step 3 (timeline of star-forming halos)\n",
    "- For each star-forming halo, traces its merger history forward in time using Tangos database merger trees\n",
    "- Creates a unique, persistent ID for each halo that accounts for mergers and halo evolution  \n",
    "- Assigns the same unique ID to stars formed in progenitor halos that later merge\n",
    "- Handles \"phantom\" halos (temporary tracking losses in halo finders) for robust merger tree following\n",
    "\n",
    "**Input:** `<sim>_halostarhosts.txt` from Step 3 (timeline of star-forming halos with local IDs)\n",
    "\n",
    "**Output:** `<sim>_uniquehalostarhosts.txt` - Text file containing:\n",
    "- Same format as input but with unique IDs replacing local halo indices\n",
    "- Format: `<timestep>\\t<unique_id>,<local_halo_id>,<star_count>\\t...`\n",
    "- Unique ID format: `SSSS_H` where `SSSS` = 4-digit snapshot number, `H` = halo index\n",
    "\n",
    "**Purpose:** This solves the fundamental problem that halo IDs change over time due to mergers. By creating persistent unique IDs, we can group stars by their true formation halo even after mergers, enabling stellar halo analysis based on formation environment.\n",
    "\n",
    "* Usage: `python IDUniqueHost_rz.py <sim> <tangos_simulation> <input_file> <output_file>`\n",
    "* Example: `python IDUniqueHost_rz.py cptmarvel.cosmo25cmb.4096g5HbwK1BH sim_object halostarhosts.txt uniquehalostarhosts.txt` -->"
   ]
  },
  {
   "cell_type": "code",
   "execution_count": 4,
   "id": "29f67b07-0a4f-4f00-8217-b12eb7157028",
   "metadata": {},
   "outputs": [],
   "source": [
    "import IDUniqueHost_rz\n",
    "import unique_host_ids_modified_Version2"
   ]
  },
  {
   "cell_type": "code",
   "execution_count": 5,
   "id": "0dc3f92f-8b5e-46f1-ba1c-932ea5093e30",
   "metadata": {},
   "outputs": [
    {
     "name": "stdout",
     "output_type": "stream",
     "text": [
      "Simulation: <Simulation(\"cptmarvel.4096g5HbwK1BH_bn\")>\n",
      "defaultdict(<class 'list'>, {})\n",
      "------ 199\n",
      "Current: 0199_1\n",
      "Unique:  4096_6\n",
      "Current: 0199_2\n",
      "Unique:  4096_2\n",
      "Current: 0199_3\n",
      "Unique:  4096_4\n",
      "Current: 0199_4\n",
      "Unique:  1543_12\n",
      "Current: 0199_5\n",
      "Unique:  4096_5\n",
      "Current: 0199_7\n",
      "Unique:  4096_11\n",
      "Current: 0199_8\n",
      "Unique:  0291_12\n",
      "Current: 0199_9\n",
      "Unique:  4096_1\n",
      "Current: 0199_10\n",
      "Unique:  1408_158\n",
      "Current: 0199_15\n",
      "Unique:  3840_1070\n",
      "Current: 0199_16\n",
      "Unique:  4096_14\n",
      "Current: 0199_18\n",
      "Unique:  0512_23\n",
      "Current: 0199_23\n",
      "Unique:  4096_27\n",
      "Current: 0199_24\n",
      "Unique:  4096_455\n",
      "Current: 0199_25\n",
      "Unique:  4096_167\n",
      "Current: 0199_31\n",
      "Unique:  1280_17\n",
      "Current: 0199_32\n",
      "Unique:  0199_32\n",
      "------ 291\n",
      "Current: 0291_1\n",
      "Found key:  4096_6\n",
      "Current: 0291_2\n",
      "Unique:  0384_9\n",
      "Current: 0291_3\n",
      "Found key:  4096_5\n",
      "Current: 0291_4\n",
      "Found key:  4096_4\n",
      "Current: 0291_5\n",
      "Unique:  4096_10\n",
      "Current: 0291_6\n",
      "Found key:  1543_12\n",
      "Current: 0291_7\n",
      "Unique:  0384_8\n",
      "Current: 0291_8\n",
      "Found key:  4096_2\n",
      "Current: 0291_9\n",
      "Found key:  4096_1\n",
      "Current: 0291_10\n",
      "Found key:  4096_11\n",
      "Current: 0291_19\n",
      "Unique:  4096_16\n",
      "Current: 0291_24\n",
      "Found key:  1408_158\n",
      "Current: 0291_28\n",
      "Found key:  4096_14\n",
      "------ 384\n",
      "Current: 0384_1\n",
      "Found key:  4096_6\n",
      "Current: 0384_2\n",
      "Found key:  4096_5\n",
      "Current: 0384_3\n",
      "Found key:  4096_10\n",
      "Current: 0384_4\n",
      "Found key:  4096_1\n",
      "Current: 0384_5\n",
      "Found key:  4096_4\n",
      "Current: 0384_6\n",
      "Found key:  4096_2\n",
      "Current: 0384_7\n",
      "Found key:  1543_12\n",
      "Current: 0384_8\n",
      "Found key:  0384_8\n",
      "Current: 0384_9\n",
      "Found key:  0384_9\n",
      "Current: 0384_11\n",
      "Found key:  4096_11\n",
      "Current: 0384_14\n",
      "Unique:  0384_14\n",
      "Current: 0384_20\n",
      "Found key:  4096_16\n",
      "------ 482\n",
      "Current: 0482_1\n",
      "Found key:  4096_1\n",
      "Current: 0482_2\n",
      "Found key:  4096_5\n",
      "Current: 0482_3\n",
      "Found key:  4096_6\n",
      "Current: 0482_4\n",
      "Found key:  4096_2\n",
      "Current: 0482_5\n",
      "Found key:  4096_10\n",
      "Current: 0482_6\n",
      "Found key:  1543_12\n",
      "Current: 0482_7\n",
      "Found key:  4096_4\n",
      "Current: 0482_8\n",
      "Unique:  4096_7\n",
      "Current: 0482_9\n",
      "Unique:  4096_13\n",
      "Current: 0482_10\n",
      "Found key:  4096_11\n",
      "Current: 0482_18\n",
      "Found key:  4096_16\n",
      "------ 512\n",
      "Current: 0512_1\n",
      "Found key:  4096_1\n",
      "Current: 0512_2\n",
      "Found key:  4096_5\n",
      "Current: 0512_3\n",
      "Found key:  4096_6\n",
      "Current: 0512_4\n",
      "Found key:  4096_10\n",
      "Current: 0512_5\n",
      "Found key:  4096_2\n",
      "Current: 0512_6\n",
      "Found key:  1543_12\n",
      "Current: 0512_7\n",
      "Found key:  4096_7\n",
      "Current: 0512_8\n",
      "Found key:  4096_4\n",
      "Current: 0512_9\n",
      "Found key:  4096_13\n",
      "Current: 0512_10\n",
      "Found key:  4096_11\n",
      "Current: 0512_18\n",
      "Found key:  4096_16\n",
      "------ 640\n",
      "Current: 0640_1\n",
      "Found key:  4096_1\n",
      "Current: 0640_2\n",
      "Found key:  4096_5\n",
      "Current: 0640_3\n",
      "Found key:  4096_6\n",
      "Current: 0640_4\n",
      "Found key:  4096_2\n",
      "Current: 0640_5\n",
      "Found key:  4096_4\n",
      "Current: 0640_6\n",
      "Found key:  1543_12\n",
      "Current: 0640_7\n",
      "Found key:  4096_10\n",
      "Current: 0640_8\n",
      "Found key:  4096_7\n",
      "Current: 0640_9\n",
      "Found key:  4096_13\n",
      "Current: 0640_10\n",
      "Found key:  1280_17\n",
      "Current: 0640_11\n",
      "Found key:  4096_11\n",
      "Current: 0640_13\n",
      "Unique:  4096_8\n",
      "Current: 0640_17\n",
      "Found key:  4096_16\n",
      "------ 672\n",
      "Current: 0672_1\n",
      "Found key:  4096_1\n",
      "Current: 0672_2\n",
      "Found key:  4096_5\n",
      "Current: 0672_3\n",
      "Found key:  4096_6\n",
      "Current: 0672_4\n",
      "Found key:  4096_2\n",
      "Current: 0672_5\n",
      "Found key:  4096_4\n",
      "Current: 0672_6\n",
      "Found key:  1543_12\n",
      "Current: 0672_7\n",
      "Found key:  4096_10\n",
      "Current: 0672_8\n",
      "Found key:  4096_7\n",
      "Current: 0672_10\n",
      "Found key:  1280_17\n",
      "Current: 0672_11\n",
      "Found key:  4096_11\n",
      "Current: 0672_12\n",
      "Found key:  4096_8\n",
      "Current: 0672_17\n",
      "Found key:  4096_16\n",
      "------ 768\n",
      "Current: 0768_1\n",
      "Found key:  4096_1\n",
      "Current: 0768_2\n",
      "Found key:  4096_5\n",
      "Current: 0768_3\n",
      "Found key:  4096_6\n",
      "Current: 0768_4\n",
      "Found key:  4096_2\n",
      "Current: 0768_5\n",
      "Found key:  4096_4\n",
      "Current: 0768_6\n",
      "Found key:  1543_12\n",
      "Current: 0768_7\n",
      "Found key:  4096_10\n",
      "Current: 0768_8\n",
      "Found key:  4096_7\n",
      "Current: 0768_9\n",
      "Found key:  4096_13\n",
      "Current: 0768_10\n",
      "Found key:  1280_17\n",
      "Current: 0768_11\n",
      "Found key:  4096_8\n",
      "Current: 0768_14\n",
      "Found key:  4096_16\n",
      "------ 818\n",
      "Current: 0818_1\n",
      "Found key:  4096_1\n",
      "Current: 0818_2\n",
      "Found key:  4096_5\n",
      "Current: 0818_3\n",
      "Found key:  4096_6\n",
      "Current: 0818_4\n",
      "Found key:  4096_2\n",
      "Current: 0818_6\n",
      "Found key:  4096_4\n",
      "Current: 0818_10\n",
      "Found key:  1280_17\n",
      "Current: 0818_12\n",
      "Found key:  4096_8\n",
      "Current: 0818_16\n",
      "Found key:  4096_16\n",
      "------ 896\n",
      "Current: 0896_1\n",
      "Found key:  4096_1\n",
      "Current: 0896_2\n",
      "Found key:  4096_5\n",
      "Current: 0896_3\n",
      "Found key:  4096_6\n",
      "Current: 0896_4\n",
      "Found key:  4096_2\n",
      "Current: 0896_5\n",
      "Found key:  1543_12\n",
      "Current: 0896_6\n",
      "Found key:  4096_4\n",
      "Current: 0896_11\n",
      "Found key:  4096_8\n",
      "Current: 0896_12\n",
      "Found key:  1280_17\n",
      "Current: 0896_18\n",
      "Found key:  4096_16\n",
      "------ 1025\n",
      "Current: 1025_1\n",
      "Found key:  4096_1\n",
      "Current: 1025_2\n",
      "Found key:  4096_2\n",
      "Current: 1025_3\n",
      "Found key:  4096_5\n",
      "Current: 1025_4\n",
      "Found key:  4096_6\n",
      "Current: 1025_5\n",
      "Found key:  1543_12\n",
      "Current: 1025_9\n",
      "Found key:  4096_8\n",
      "Current: 1025_13\n",
      "Found key:  1280_17\n",
      "Current: 1025_21\n",
      "Found key:  4096_16\n",
      "------ 1152\n",
      "Current: 1152_1\n",
      "Found key:  4096_1\n",
      "Current: 1152_2\n",
      "Found key:  4096_2\n",
      "Current: 1152_3\n",
      "Found key:  4096_5\n",
      "Current: 1152_4\n",
      "Found key:  4096_6\n",
      "Current: 1152_9\n",
      "Found key:  4096_8\n",
      "Current: 1152_14\n",
      "Found key:  1280_17\n",
      "Current: 1152_19\n",
      "Found key:  4096_16\n",
      "------ 1162\n",
      "Current: 1162_1\n",
      "Found key:  4096_1\n",
      "Current: 1162_3\n",
      "Found key:  4096_5\n",
      "Current: 1162_9\n",
      "Found key:  4096_8\n",
      "Current: 1162_14\n",
      "Found key:  1280_17\n",
      "------ 1280\n",
      "Current: 1280_1\n",
      "Found key:  4096_1\n",
      "Current: 1280_2\n",
      "Found key:  4096_2\n",
      "Current: 1280_3\n",
      "Found key:  4096_5\n",
      "Current: 1280_4\n",
      "Found key:  4096_6\n",
      "Current: 1280_10\n",
      "Found key:  4096_8\n",
      "Current: 1280_13\n",
      "Found key:  4096_16\n",
      "Current: 1280_17\n",
      "Found key:  1280_17\n",
      "------ 1331\n",
      "Current: 1331_1\n",
      "Found key:  4096_1\n",
      "Current: 1331_2\n",
      "Found key:  4096_2\n",
      "Current: 1331_4\n",
      "Found key:  4096_6\n",
      "Current: 1331_10\n",
      "Found key:  4096_8\n",
      "Current: 1331_14\n",
      "Found key:  4096_16\n",
      "------ 1408\n",
      "Current: 1408_1\n",
      "Found key:  4096_1\n",
      "Current: 1408_2\n",
      "Found key:  4096_2\n",
      "Current: 1408_3\n",
      "Found key:  4096_5\n",
      "Current: 1408_4\n",
      "Found key:  4096_6\n",
      "Current: 1408_9\n",
      "Found key:  4096_8\n",
      "------ 1536\n",
      "Current: 1536_1\n",
      "Found key:  4096_1\n",
      "Current: 1536_2\n",
      "Found key:  4096_2\n",
      "Current: 1536_4\n",
      "Found key:  4096_6\n",
      "Current: 1536_9\n",
      "Found key:  4096_8\n",
      "Current: 1536_12\n",
      "Found key:  1543_12\n",
      "Current: 1536_14\n",
      "Found key:  4096_16\n",
      "------ 1543\n",
      "Current: 1543_1\n",
      "Found key:  4096_1\n",
      "Current: 1543_2\n",
      "Found key:  4096_2\n",
      "Current: 1543_4\n",
      "Found key:  4096_6\n",
      "Current: 1543_9\n",
      "Found key:  4096_8\n",
      "Current: 1543_12\n",
      "Found key:  1543_12\n",
      "Current: 1543_14\n",
      "Found key:  4096_16\n",
      "------ 1664\n",
      "Current: 1664_1\n",
      "Found key:  4096_1\n",
      "Current: 1664_2\n",
      "Found key:  4096_2\n",
      "Current: 1664_4\n",
      "Found key:  4096_5\n",
      "Current: 1664_5\n",
      "Found key:  4096_6\n",
      "Current: 1664_9\n",
      "Found key:  4096_8\n",
      "Current: 1664_13\n",
      "Found key:  4096_16\n",
      "Current: 1664_18\n",
      "Unique:  1920_17\n",
      "------ 1792\n",
      "Current: 1792_1\n",
      "Found key:  4096_1\n",
      "Current: 1792_2\n",
      "Found key:  4096_2\n",
      "Current: 1792_3\n",
      "Found key:  4096_4\n",
      "Current: 1792_4\n",
      "Found key:  4096_5\n",
      "Current: 1792_5\n",
      "Found key:  4096_6\n",
      "Current: 1792_10\n",
      "Found key:  4096_8\n",
      "Current: 1792_13\n",
      "Found key:  4096_16\n",
      "Current: 1792_14\n",
      "Found key:  1920_17\n",
      "------ 1813\n",
      "Current: 1813_1\n",
      "Found key:  4096_1\n",
      "Current: 1813_2\n",
      "Found key:  4096_2\n",
      "Current: 1813_5\n",
      "Found key:  4096_6\n",
      "Current: 1813_10\n",
      "Found key:  4096_8\n",
      "Current: 1813_13\n",
      "Found key:  4096_16\n",
      "Current: 1813_14\n",
      "Found key:  1920_17\n",
      "------ 1920\n",
      "Current: 1920_1\n",
      "Found key:  4096_1\n",
      "Current: 1920_2\n",
      "Found key:  4096_2\n",
      "Current: 1920_4\n",
      "Found key:  4096_5\n",
      "Current: 1920_5\n",
      "Found key:  4096_6\n",
      "Current: 1920_10\n",
      "Found key:  4096_8\n",
      "Current: 1920_13\n",
      "Found key:  4096_16\n",
      "Current: 1920_17\n",
      "Found key:  1920_17\n",
      "------ 2048\n",
      "Current: 2048_1\n",
      "Found key:  4096_1\n",
      "Current: 2048_2\n",
      "Found key:  4096_2\n",
      "Current: 2048_3\n",
      "Found key:  4096_4\n",
      "Current: 2048_4\n",
      "Found key:  4096_5\n",
      "Current: 2048_5\n",
      "Found key:  4096_6\n",
      "Current: 2048_10\n",
      "Found key:  4096_8\n",
      "Current: 2048_13\n",
      "Found key:  4096_16\n",
      "Current: 2048_29\n",
      "Unique:  2048_29\n",
      "------ 2162\n",
      "Current: 2162_1\n",
      "Found key:  4096_1\n",
      "Current: 2162_2\n",
      "Found key:  4096_2\n",
      "Current: 2162_3\n",
      "Found key:  4096_4\n",
      "Current: 2162_4\n",
      "Found key:  4096_5\n",
      "Current: 2162_5\n",
      "Found key:  4096_6\n",
      "Current: 2162_7\n",
      "Found key:  4096_7\n",
      "Current: 2162_10\n",
      "Found key:  4096_8\n",
      "Current: 2162_14\n",
      "Found key:  4096_16\n",
      "------ 2176\n",
      "Current: 2176_1\n",
      "Found key:  4096_1\n",
      "Current: 2176_2\n",
      "Found key:  4096_2\n",
      "Current: 2176_4\n",
      "Found key:  4096_5\n",
      "Current: 2176_5\n",
      "Found key:  4096_6\n",
      "Current: 2176_7\n",
      "Found key:  4096_7\n",
      "Current: 2176_10\n",
      "Found key:  4096_8\n",
      "Current: 2176_14\n",
      "Found key:  4096_16\n",
      "------ 2304\n",
      "Current: 2304_1\n",
      "Found key:  4096_1\n",
      "Current: 2304_2\n",
      "Found key:  4096_2\n",
      "Current: 2304_3\n",
      "Found key:  4096_4\n",
      "Current: 2304_4\n",
      "Found key:  4096_5\n",
      "Current: 2304_5\n",
      "Found key:  4096_6\n",
      "Current: 2304_7\n",
      "Found key:  4096_7\n",
      "Current: 2304_9\n",
      "Found key:  4096_8\n",
      "Current: 2304_13\n",
      "Found key:  4096_16\n",
      "------ 2432\n",
      "Current: 2432_1\n",
      "Found key:  4096_1\n",
      "Current: 2432_2\n",
      "Found key:  4096_2\n",
      "Current: 2432_3\n",
      "Found key:  4096_4\n",
      "Current: 2432_4\n",
      "Found key:  4096_5\n",
      "Current: 2432_5\n",
      "Found key:  4096_6\n",
      "Current: 2432_7\n",
      "Found key:  4096_7\n",
      "Current: 2432_9\n",
      "Found key:  4096_8\n",
      "Current: 2432_14\n",
      "Found key:  4096_16\n",
      "------ 2560\n",
      "Current: 2560_1\n",
      "Found key:  4096_1\n",
      "Current: 2560_2\n",
      "Found key:  4096_2\n",
      "Current: 2560_3\n",
      "Found key:  4096_4\n",
      "Current: 2560_4\n",
      "Found key:  4096_5\n",
      "Current: 2560_6\n",
      "Found key:  4096_6\n",
      "Current: 2560_7\n",
      "Found key:  4096_7\n",
      "Current: 2560_9\n",
      "Found key:  4096_8\n",
      "Current: 2560_14\n",
      "Found key:  4096_16\n",
      "------ 2624\n",
      "Current: 2624_1\n",
      "Found key:  4096_1\n",
      "Current: 2624_2\n",
      "Found key:  4096_2\n",
      "Current: 2624_3\n",
      "Found key:  4096_4\n",
      "Current: 2624_5\n",
      "Found key:  4096_5\n",
      "Current: 2624_6\n",
      "Found key:  4096_6\n",
      "Current: 2624_7\n",
      "Found key:  4096_7\n",
      "Current: 2624_9\n",
      "Found key:  4096_8\n",
      "Current: 2624_14\n",
      "Found key:  4096_16\n",
      "------ 2688\n",
      "Current: 2688_1\n",
      "Found key:  4096_1\n",
      "Current: 2688_2\n",
      "Found key:  4096_2\n",
      "Current: 2688_3\n",
      "Found key:  4096_4\n",
      "Current: 2688_5\n",
      "Found key:  4096_5\n",
      "Current: 2688_6\n",
      "Found key:  4096_6\n",
      "Current: 2688_7\n",
      "Found key:  4096_7\n",
      "Current: 2688_9\n",
      "Found key:  4096_8\n",
      "Current: 2688_14\n",
      "Found key:  4096_16\n",
      "------ 2816\n",
      "Current: 2816_1\n",
      "Found key:  4096_1\n",
      "Current: 2816_2\n",
      "Found key:  4096_2\n",
      "Current: 2816_3\n",
      "Found key:  4096_4\n",
      "Current: 2816_5\n",
      "Found key:  4096_5\n",
      "Current: 2816_6\n",
      "Found key:  4096_6\n",
      "Current: 2816_7\n",
      "Found key:  4096_7\n",
      "Current: 2816_9\n",
      "Found key:  4096_8\n",
      "Current: 2816_15\n",
      "Found key:  4096_16\n",
      "------ 2944\n",
      "Current: 2944_1\n",
      "Found key:  4096_1\n",
      "Current: 2944_2\n",
      "Found key:  4096_2\n",
      "Current: 2944_3\n",
      "Found key:  4096_4\n",
      "Current: 2944_5\n",
      "Found key:  4096_5\n",
      "Current: 2944_6\n",
      "Found key:  4096_6\n",
      "Current: 2944_7\n",
      "Found key:  4096_7\n",
      "Current: 2944_9\n",
      "Found key:  4096_8\n",
      "Current: 2944_15\n",
      "Found key:  4096_16\n",
      "------ 3072\n",
      "Current: 3072_1\n",
      "Found key:  4096_1\n",
      "Current: 3072_2\n",
      "Found key:  4096_2\n",
      "Current: 3072_4\n",
      "Found key:  4096_4\n",
      "Current: 3072_5\n",
      "Found key:  4096_5\n",
      "Current: 3072_6\n",
      "Found key:  4096_6\n",
      "Current: 3072_7\n",
      "Found key:  4096_7\n",
      "Current: 3072_9\n",
      "Found key:  4096_8\n",
      "Current: 3072_16\n",
      "Found key:  4096_16\n",
      "------ 3200\n",
      "Current: 3200_1\n",
      "Found key:  4096_1\n",
      "Current: 3200_2\n",
      "Found key:  4096_2\n",
      "Current: 3200_4\n",
      "Found key:  4096_4\n",
      "Current: 3200_5\n",
      "Found key:  4096_5\n",
      "Current: 3200_6\n",
      "Found key:  4096_6\n",
      "Current: 3200_7\n",
      "Found key:  4096_7\n",
      "Current: 3200_9\n",
      "Found key:  4096_8\n",
      "Current: 3200_15\n",
      "Found key:  4096_16\n",
      "------ 3245\n",
      "Current: 3245_1\n",
      "Found key:  4096_1\n",
      "Current: 3245_2\n",
      "Found key:  4096_2\n",
      "Current: 3245_4\n",
      "Found key:  4096_4\n",
      "Current: 3245_5\n",
      "Found key:  4096_5\n",
      "Current: 3245_6\n",
      "Found key:  4096_6\n",
      "Current: 3245_7\n",
      "Found key:  4096_7\n",
      "Current: 3245_9\n",
      "Found key:  4096_8\n",
      "Current: 3245_16\n",
      "Found key:  4096_16\n",
      "------ 3328\n",
      "Current: 3328_1\n",
      "Found key:  4096_1\n",
      "Current: 3328_2\n",
      "Found key:  4096_2\n",
      "Current: 3328_4\n",
      "Found key:  4096_4\n",
      "Current: 3328_5\n",
      "Found key:  4096_5\n",
      "Current: 3328_6\n",
      "Found key:  4096_6\n",
      "Current: 3328_7\n",
      "Found key:  4096_7\n",
      "Current: 3328_9\n",
      "Found key:  4096_8\n",
      "Current: 3328_16\n",
      "Found key:  4096_16\n",
      "------ 3456\n",
      "Current: 3456_1\n",
      "Found key:  4096_1\n",
      "Current: 3456_2\n",
      "Found key:  4096_2\n",
      "Current: 3456_3\n",
      "Found key:  4096_4\n",
      "Current: 3456_5\n",
      "Found key:  4096_5\n",
      "Current: 3456_6\n",
      "Found key:  4096_6\n",
      "Current: 3456_7\n",
      "Found key:  4096_7\n",
      "Current: 3456_9\n",
      "Found key:  4096_8\n",
      "Current: 3456_16\n",
      "Found key:  4096_16\n",
      "------ 3584\n",
      "Current: 3584_1\n",
      "Found key:  4096_1\n",
      "Current: 3584_2\n",
      "Found key:  4096_2\n",
      "Current: 3584_3\n",
      "Found key:  4096_4\n",
      "Current: 3584_5\n",
      "Found key:  4096_5\n",
      "Current: 3584_6\n",
      "Found key:  4096_6\n",
      "Current: 3584_7\n",
      "Found key:  4096_7\n",
      "Current: 3584_8\n",
      "Found key:  4096_8\n",
      "Current: 3584_16\n",
      "Found key:  4096_16\n",
      "------ 3636\n",
      "Current: 3636_1\n",
      "Found key:  4096_1\n",
      "Current: 3636_2\n",
      "Found key:  4096_2\n",
      "Current: 3636_4\n",
      "Found key:  4096_4\n",
      "Current: 3636_5\n",
      "Found key:  4096_5\n",
      "Current: 3636_6\n",
      "Found key:  4096_6\n",
      "Current: 3636_7\n",
      "Found key:  4096_7\n",
      "Current: 3636_8\n",
      "Found key:  4096_8\n",
      "Current: 3636_16\n",
      "Found key:  4096_16\n",
      "------ 3712\n",
      "Current: 3712_1\n",
      "Found key:  4096_1\n",
      "Current: 3712_2\n",
      "Found key:  4096_2\n",
      "Current: 3712_4\n",
      "Found key:  4096_4\n",
      "Current: 3712_5\n",
      "Found key:  4096_5\n",
      "Current: 3712_6\n",
      "Found key:  4096_6\n",
      "Current: 3712_7\n",
      "Found key:  4096_7\n",
      "Current: 3712_8\n",
      "Found key:  4096_8\n",
      "Current: 3712_16\n",
      "Found key:  4096_16\n",
      "------ 3840\n",
      "Current: 3840_1\n",
      "Found key:  4096_1\n",
      "Current: 3840_2\n",
      "Found key:  4096_2\n",
      "Current: 3840_4\n",
      "Found key:  4096_4\n",
      "Current: 3840_5\n",
      "Found key:  4096_5\n",
      "Current: 3840_6\n",
      "Found key:  4096_6\n",
      "Current: 3840_7\n",
      "Found key:  4096_7\n",
      "Current: 3840_8\n",
      "Found key:  4096_8\n",
      "Current: 3840_16\n",
      "Found key:  4096_16\n",
      "------ 3968\n",
      "Current: 3968_1\n",
      "Found key:  4096_1\n",
      "Current: 3968_2\n",
      "Found key:  4096_2\n",
      "Current: 3968_4\n",
      "Found key:  4096_4\n",
      "Current: 3968_5\n",
      "Found key:  4096_5\n",
      "Current: 3968_6\n",
      "Found key:  4096_6\n",
      "Current: 3968_7\n",
      "Found key:  4096_7\n",
      "Current: 3968_8\n",
      "Found key:  4096_8\n",
      "Current: 3968_16\n",
      "Found key:  4096_16\n",
      "------ 4096\n",
      "Current: 4096_1\n",
      "Found key:  4096_1\n",
      "Current: 4096_2\n",
      "Found key:  4096_2\n",
      "Current: 4096_4\n",
      "Found key:  4096_4\n",
      "Current: 4096_5\n",
      "Found key:  4096_5\n",
      "Current: 4096_6\n",
      "Found key:  4096_6\n",
      "Current: 4096_7\n",
      "Found key:  4096_7\n",
      "Current: 4096_8\n",
      "Found key:  4096_8\n",
      "Current: 4096_16\n",
      "Found key:  4096_16\n"
     ]
    }
   ],
   "source": [
    "sim = tangos.get_simulation(ss_dir)\n",
    "print(f\"Simulation: {sim}\")\n",
    "import collections\n",
    "d = collections.defaultdict(list)\n",
    "print(d)\n",
    "\n",
    "hsfile = os.path.join(outfile_dir, f\"{basename}_halostarhosts.txt\")\n",
    "ofile = os.path.join(outfile_dir, f\"{basename}_uniquehalostarhosts.txt\")\n",
    "\n",
    "IDUniqueHost_rz.main(sim, d, hsfile, ofile)"
   ]
  },
  {
   "cell_type": "code",
   "execution_count": null,
   "id": "e896bbee",
   "metadata": {},
   "outputs": [
    {
     "name": "stdout",
     "output_type": "stream",
     "text": [
      "Using newest snapshot: 4096, previous snapshot: 3968\n",
      "------ 199\n",
      "Current: 0199_1\n",
      "Unique:  3968_6\n",
      "Current: 0199_2\n",
      "Unique:  3968_2\n",
      "Current: 0199_3\n",
      "Unique:  3968_4\n",
      "Current: 0199_4\n"
     ]
    },
    {
     "name": "stderr",
     "output_type": "stream",
     "text": [
      "/home/selvani/anaconda3/envs/conda-env-py311/lib/python3.11/site-packages/tangos/relation_finding/multi_hop.py:400: SAWarning: This declarative base already contains a class with the same class name and module name as tangos.relation_finding.multi_hop.MultiHopHaloLink_wvwo, and will be replaced in the string-lookup table.\n",
      "  return type(class_name,class_base,class_attrs)\n",
      "/home/selvani/anaconda3/envs/conda-env-py311/lib/python3.11/site-packages/tangos/relation_finding/multi_hop.py:400: SAWarning: This declarative base already contains a class with the same class name and module name as tangos.relation_finding.multi_hop.MultiHopHaloLink_bzot, and will be replaced in the string-lookup table.\n",
      "  return type(class_name,class_base,class_attrs)\n",
      "/home/selvani/anaconda3/envs/conda-env-py311/lib/python3.11/site-packages/tangos/relation_finding/multi_hop.py:400: SAWarning: This declarative base already contains a class with the same class name and module name as tangos.relation_finding.multi_hop.MultiHopHaloLink_plnw, and will be replaced in the string-lookup table.\n",
      "  return type(class_name,class_base,class_attrs)\n",
      "/home/selvani/anaconda3/envs/conda-env-py311/lib/python3.11/site-packages/tangos/relation_finding/multi_hop.py:400: SAWarning: This declarative base already contains a class with the same class name and module name as tangos.relation_finding.multi_hop.MultiHopHaloLink_nbtc, and will be replaced in the string-lookup table.\n",
      "  return type(class_name,class_base,class_attrs)\n",
      "/home/selvani/anaconda3/envs/conda-env-py311/lib/python3.11/site-packages/tangos/relation_finding/multi_hop.py:400: SAWarning: This declarative base already contains a class with the same class name and module name as tangos.relation_finding.multi_hop.MultiHopHaloLink_ygfa, and will be replaced in the string-lookup table.\n",
      "  return type(class_name,class_base,class_attrs)\n",
      "/home/selvani/anaconda3/envs/conda-env-py311/lib/python3.11/site-packages/tangos/relation_finding/multi_hop.py:400: SAWarning: This declarative base already contains a class with the same class name and module name as tangos.relation_finding.multi_hop.MultiHopHaloLink_dzdr, and will be replaced in the string-lookup table.\n",
      "  return type(class_name,class_base,class_attrs)\n",
      "/home/selvani/anaconda3/envs/conda-env-py311/lib/python3.11/site-packages/tangos/relation_finding/multi_hop.py:400: SAWarning: This declarative base already contains a class with the same class name and module name as tangos.relation_finding.multi_hop.MultiHopHaloLink_coyi, and will be replaced in the string-lookup table.\n",
      "  return type(class_name,class_base,class_attrs)\n",
      "/home/selvani/anaconda3/envs/conda-env-py311/lib/python3.11/site-packages/tangos/relation_finding/multi_hop.py:400: SAWarning: This declarative base already contains a class with the same class name and module name as tangos.relation_finding.multi_hop.MultiHopHaloLink_ggnc, and will be replaced in the string-lookup table.\n",
      "  return type(class_name,class_base,class_attrs)\n",
      "/home/selvani/anaconda3/envs/conda-env-py311/lib/python3.11/site-packages/tangos/relation_finding/multi_hop.py:400: SAWarning: This declarative base already contains a class with the same class name and module name as tangos.relation_finding.multi_hop.MultiHopHaloLink_cslt, and will be replaced in the string-lookup table.\n",
      "  return type(class_name,class_base,class_attrs)\n"
     ]
    }
   ],
   "source": [
    "unique_host_ids_modified_Version2.main(sim, d, hsfile, ofile)"
   ]
  },
  {
   "cell_type": "markdown",
   "id": "6b233f2c-0dbc-436c-b0b7-d02191153062",
   "metadata": {},
   "source": [
    "### 5) StoreUniqueHostID_rz.py\n",
    "\n",
    "Step 5 of stellar halo pipeline\n",
    "Stores the unique ID of each star particle's host at formation time.\n",
    "Creates an hdf5 file that contains this in addition to all of the data\n",
    "from the <sim>_stardata_<snapshot>.h5 files. Note that all star particles\n",
    "that don't have a host in the snapshot after they formed will be assigned \n",
    "a unique ID of <snapshot_index>_0 and a particle host (i.e., host at\n",
    "formation time) of -1. It is recommended that you use the TrackDownStars\n",
    "Jupyter notebook to try to manually identify hosts for these stars and then\n",
    "use FixHostIDs_rz.py to amend <sim>_allhalostardata.h5.\n",
    "\n",
    "Output: <sim>_allhalostardata.h5\n",
    "\n",
    "Usage:   python StoreUniqueHostID_rz.py <sim>\n",
    "Example: python StoreUniqueHostID_rz.py r634 \n",
    "\n",
    "Note that this is currently set up for MMs, but should be easily adapted \n",
    "by e.g., changing the paths or adding a path CL argument.\n",
    "\n"
   ]
  },
  {
   "cell_type": "markdown",
   "id": "692c7187",
   "metadata": {},
   "source": [
    "Step 5 of stellar halo pipeline\n",
    "\n",
    "**What it does:**\n",
    "- Combines all `<sim>_stardata_*.h5` files from Step 2 into a single HDF5 file\n",
    "- Maps each star particle's local host ID to its unique host ID from Step 4\n",
    "- Creates final dataset linking every star particle to its persistent formation halo\n",
    "- Handles unbound stars (host ID = -1) by assigning unique IDs like `3840_0`\n",
    "\n",
    "**Input:** \n",
    "- Multiple `<sim>_stardata_*.h5` files from Step 2\n",
    "- `<sim>_uniquehalostarhosts.txt` from Step 4 (halo ID mapping)\n",
    "\n",
    "**Output:** `<sim>_allhalostardata.h5` containing:\n",
    "- `particle_IDs`: Star particle IDs (`iord`)\n",
    "- `particle_positions`: Formation positions (Mpc)\n",
    "- `particle_creation_times`: Formation times (Gyr)\n",
    "- `timestep_location`: Formation snapshot numbers\n",
    "- `particle_hosts`: Local halo IDs at formation\n",
    "- `host_IDs`: **Unique persistent halo IDs** (e.g., \"3552_5\")\n",
    "\n",
    "**Key Process:**\n",
    "1. Load unique ID mapping from Step 4: `\"timestep,hostid\" → \"unique_id\"`\n",
    "2. For each star particle: lookup `(timestep, local_halo_id)` → assign unique ID\n",
    "3. Unbound particles get default IDs: `f\"{timestep:04d}_0\"`\n",
    "4. Combine all data into single compressed HDF5 file\n",
    "\n",
    "**Purpose:** Creates analysis-ready dataset enabling stellar population studies with persistent halo tracking across mergers and cosmic time.\n",
    "\n",
    "* Usage: `python StoreUniqueHostID_rz.py <sim> <output_directory>`\n",
    "* Example: `python StoreUniqueHostID_rz.py cptmarvel.cosmo25cmb.4096g5HbwK1BH /output/path/`"
   ]
  },
  {
   "cell_type": "code",
   "execution_count": 86,
   "id": "cebfbc2f-54da-47df-9847-bd7ef8c57072",
   "metadata": {},
   "outputs": [
    {
     "name": "stdout",
     "output_type": "stream",
     "text": [
      "/home/selvani/MAP/pynbody/stellarhalo_trace_aw/cptmarvel.cosmo25cmb.4096g5HbwK1BH_stardata_000482.h5 <KeysViewHDF5 ['particle_IDs', 'particle_creation_times', 'particle_hosts', 'particle_positions', 'timestep_location']>\n",
      "/home/selvani/MAP/pynbody/stellarhalo_trace_aw/cptmarvel.cosmo25cmb.4096g5HbwK1BH_stardata_003840.h5 <KeysViewHDF5 ['particle_IDs', 'particle_creation_times', 'particle_hosts', 'particle_positions', 'timestep_location']>\n",
      "/home/selvani/MAP/pynbody/stellarhalo_trace_aw/cptmarvel.cosmo25cmb.4096g5HbwK1BH_stardata_002304.h5 <KeysViewHDF5 ['particle_IDs', 'particle_creation_times', 'particle_hosts', 'particle_positions', 'timestep_location']>\n",
      "/home/selvani/MAP/pynbody/stellarhalo_trace_aw/cptmarvel.cosmo25cmb.4096g5HbwK1BH_stardata_003968.h5 <KeysViewHDF5 ['particle_IDs', 'particle_creation_times', 'particle_hosts', 'particle_positions', 'timestep_location']>\n",
      "/home/selvani/MAP/pynbody/stellarhalo_trace_aw/cptmarvel.cosmo25cmb.4096g5HbwK1BH_stardata_002432.h5 <KeysViewHDF5 ['particle_IDs', 'particle_creation_times', 'particle_hosts', 'particle_positions', 'timestep_location']>\n",
      "/home/selvani/MAP/pynbody/stellarhalo_trace_aw/cptmarvel.cosmo25cmb.4096g5HbwK1BH_stardata_000768.h5 <KeysViewHDF5 ['particle_IDs', 'particle_creation_times', 'particle_hosts', 'particle_positions', 'timestep_location']>\n",
      "/home/selvani/MAP/pynbody/stellarhalo_trace_aw/cptmarvel.cosmo25cmb.4096g5HbwK1BH_stardata_001792.h5 <KeysViewHDF5 ['particle_IDs', 'particle_creation_times', 'particle_hosts', 'particle_positions', 'timestep_location']>\n",
      "/home/selvani/MAP/pynbody/stellarhalo_trace_aw/cptmarvel.cosmo25cmb.4096g5HbwK1BH_stardata_000818.h5 <KeysViewHDF5 ['particle_IDs', 'particle_creation_times', 'particle_hosts', 'particle_positions', 'timestep_location']>\n",
      "/home/selvani/MAP/pynbody/stellarhalo_trace_aw/cptmarvel.cosmo25cmb.4096g5HbwK1BH_stardata_001408.h5 <KeysViewHDF5 ['particle_IDs', 'particle_creation_times', 'particle_hosts', 'particle_positions', 'timestep_location']>\n",
      "/home/selvani/MAP/pynbody/stellarhalo_trace_aw/cptmarvel.cosmo25cmb.4096g5HbwK1BH_stardata_000384.h5 <KeysViewHDF5 ['particle_IDs', 'particle_creation_times', 'particle_hosts', 'particle_positions', 'timestep_location']>\n",
      "/home/selvani/MAP/pynbody/stellarhalo_trace_aw/cptmarvel.cosmo25cmb.4096g5HbwK1BH_stardata_002560.h5 <KeysViewHDF5 ['particle_IDs', 'particle_creation_times', 'particle_hosts', 'particle_positions', 'timestep_location']>\n",
      "/home/selvani/MAP/pynbody/stellarhalo_trace_aw/cptmarvel.cosmo25cmb.4096g5HbwK1BH_stardata_001025.h5 <KeysViewHDF5 ['particle_IDs', 'particle_creation_times', 'particle_hosts', 'particle_positions', 'timestep_location']>\n",
      "/home/selvani/MAP/pynbody/stellarhalo_trace_aw/cptmarvel.cosmo25cmb.4096g5HbwK1BH_stardata_001536.h5 <KeysViewHDF5 ['particle_IDs', 'particle_creation_times', 'particle_hosts', 'particle_positions', 'timestep_location']>\n",
      "/home/selvani/MAP/pynbody/stellarhalo_trace_aw/cptmarvel.cosmo25cmb.4096g5HbwK1BH_stardata_002688.h5 <KeysViewHDF5 ['particle_IDs', 'particle_creation_times', 'particle_hosts', 'particle_positions', 'timestep_location']>\n",
      "/home/selvani/MAP/pynbody/stellarhalo_trace_aw/cptmarvel.cosmo25cmb.4096g5HbwK1BH_stardata_002176.h5 <KeysViewHDF5 ['particle_IDs', 'particle_creation_times', 'particle_hosts', 'particle_positions', 'timestep_location']>\n",
      "/home/selvani/MAP/pynbody/stellarhalo_trace_aw/cptmarvel.cosmo25cmb.4096g5HbwK1BH_stardata_002048.h5 <KeysViewHDF5 ['particle_IDs', 'particle_creation_times', 'particle_hosts', 'particle_positions', 'timestep_location']>\n",
      "/home/selvani/MAP/pynbody/stellarhalo_trace_aw/cptmarvel.cosmo25cmb.4096g5HbwK1BH_stardata_003456.h5 <KeysViewHDF5 ['particle_IDs', 'particle_creation_times', 'particle_hosts', 'particle_positions', 'timestep_location']>\n",
      "/home/selvani/MAP/pynbody/stellarhalo_trace_aw/cptmarvel.cosmo25cmb.4096g5HbwK1BH_stardata_003200.h5 <KeysViewHDF5 ['particle_IDs', 'particle_creation_times', 'particle_hosts', 'particle_positions', 'timestep_location']>\n",
      "/home/selvani/MAP/pynbody/stellarhalo_trace_aw/cptmarvel.cosmo25cmb.4096g5HbwK1BH_stardata_000896.h5 <KeysViewHDF5 ['particle_IDs', 'particle_creation_times', 'particle_hosts', 'particle_positions', 'timestep_location']>\n",
      "/home/selvani/MAP/pynbody/stellarhalo_trace_aw/cptmarvel.cosmo25cmb.4096g5HbwK1BH_stardata_000291.h5 <KeysViewHDF5 ['particle_IDs', 'particle_creation_times', 'particle_hosts', 'particle_positions', 'timestep_location']>\n",
      "/home/selvani/MAP/pynbody/stellarhalo_trace_aw/cptmarvel.cosmo25cmb.4096g5HbwK1BH_stardata_002162.h5 <KeysViewHDF5 ['particle_IDs', 'particle_creation_times', 'particle_hosts', 'particle_positions', 'timestep_location']>\n",
      "/home/selvani/MAP/pynbody/stellarhalo_trace_aw/cptmarvel.cosmo25cmb.4096g5HbwK1BH_stardata_003636.h5 <KeysViewHDF5 ['particle_IDs', 'particle_creation_times', 'particle_hosts', 'particle_positions', 'timestep_location']>\n",
      "/home/selvani/MAP/pynbody/stellarhalo_trace_aw/cptmarvel.cosmo25cmb.4096g5HbwK1BH_stardata_000512.h5 <KeysViewHDF5 ['particle_IDs', 'particle_creation_times', 'particle_hosts', 'particle_positions', 'timestep_location']>\n",
      "/home/selvani/MAP/pynbody/stellarhalo_trace_aw/cptmarvel.cosmo25cmb.4096g5HbwK1BH_stardata_001920.h5 <KeysViewHDF5 ['particle_IDs', 'particle_creation_times', 'particle_hosts', 'particle_positions', 'timestep_location']>\n",
      "/home/selvani/MAP/pynbody/stellarhalo_trace_aw/cptmarvel.cosmo25cmb.4096g5HbwK1BH_stardata_001162.h5 <KeysViewHDF5 ['particle_IDs', 'particle_creation_times', 'particle_hosts', 'particle_positions', 'timestep_location']>\n",
      "/home/selvani/MAP/pynbody/stellarhalo_trace_aw/cptmarvel.cosmo25cmb.4096g5HbwK1BH_stardata_002624.h5 <KeysViewHDF5 ['particle_IDs', 'particle_creation_times', 'particle_hosts', 'particle_positions', 'timestep_location']>\n",
      "/home/selvani/MAP/pynbody/stellarhalo_trace_aw/cptmarvel.cosmo25cmb.4096g5HbwK1BH_stardata_000640.h5 <KeysViewHDF5 ['particle_IDs', 'particle_creation_times', 'particle_hosts', 'particle_positions', 'timestep_location']>\n",
      "/home/selvani/MAP/pynbody/stellarhalo_trace_aw/cptmarvel.cosmo25cmb.4096g5HbwK1BH_stardata_003584.h5 <KeysViewHDF5 ['particle_IDs', 'particle_creation_times', 'particle_hosts', 'particle_positions', 'timestep_location']>\n",
      "/home/selvani/MAP/pynbody/stellarhalo_trace_aw/cptmarvel.cosmo25cmb.4096g5HbwK1BH_stardata_001152.h5 <KeysViewHDF5 ['particle_IDs', 'particle_creation_times', 'particle_hosts', 'particle_positions', 'timestep_location']>\n",
      "/home/selvani/MAP/pynbody/stellarhalo_trace_aw/cptmarvel.cosmo25cmb.4096g5HbwK1BH_stardata_003328.h5 <KeysViewHDF5 ['particle_IDs', 'particle_creation_times', 'particle_hosts', 'particle_positions', 'timestep_location']>\n",
      "/home/selvani/MAP/pynbody/stellarhalo_trace_aw/cptmarvel.cosmo25cmb.4096g5HbwK1BH_stardata_004096.h5 <KeysViewHDF5 ['particle_IDs', 'particle_creation_times', 'particle_hosts', 'particle_positions', 'timestep_location']>\n",
      "/home/selvani/MAP/pynbody/stellarhalo_trace_aw/cptmarvel.cosmo25cmb.4096g5HbwK1BH_stardata_001664.h5 <KeysViewHDF5 ['particle_IDs', 'particle_creation_times', 'particle_hosts', 'particle_positions', 'timestep_location']>\n",
      "/home/selvani/MAP/pynbody/stellarhalo_trace_aw/cptmarvel.cosmo25cmb.4096g5HbwK1BH_stardata_003245.h5 <KeysViewHDF5 ['particle_IDs', 'particle_creation_times', 'particle_hosts', 'particle_positions', 'timestep_location']>\n",
      "/home/selvani/MAP/pynbody/stellarhalo_trace_aw/cptmarvel.cosmo25cmb.4096g5HbwK1BH_stardata_001331.h5 <KeysViewHDF5 ['particle_IDs', 'particle_creation_times', 'particle_hosts', 'particle_positions', 'timestep_location']>\n",
      "/home/selvani/MAP/pynbody/stellarhalo_trace_aw/cptmarvel.cosmo25cmb.4096g5HbwK1BH_stardata_003712.h5 <KeysViewHDF5 ['particle_IDs', 'particle_creation_times', 'particle_hosts', 'particle_positions', 'timestep_location']>\n",
      "/home/selvani/MAP/pynbody/stellarhalo_trace_aw/cptmarvel.cosmo25cmb.4096g5HbwK1BH_stardata_002944.h5 <KeysViewHDF5 ['particle_IDs', 'particle_creation_times', 'particle_hosts', 'particle_positions', 'timestep_location']>\n",
      "/home/selvani/MAP/pynbody/stellarhalo_trace_aw/cptmarvel.cosmo25cmb.4096g5HbwK1BH_stardata_003072.h5 <KeysViewHDF5 ['particle_IDs', 'particle_creation_times', 'particle_hosts', 'particle_positions', 'timestep_location']>\n",
      "/home/selvani/MAP/pynbody/stellarhalo_trace_aw/cptmarvel.cosmo25cmb.4096g5HbwK1BH_stardata_001280.h5 <KeysViewHDF5 ['particle_IDs', 'particle_creation_times', 'particle_hosts', 'particle_positions', 'timestep_location']>\n",
      "/home/selvani/MAP/pynbody/stellarhalo_trace_aw/cptmarvel.cosmo25cmb.4096g5HbwK1BH_stardata_000199.h5 <KeysViewHDF5 ['particle_IDs', 'particle_creation_times', 'particle_hosts', 'particle_positions', 'timestep_location']>\n",
      "/home/selvani/MAP/pynbody/stellarhalo_trace_aw/cptmarvel.cosmo25cmb.4096g5HbwK1BH_stardata_001813.h5 <KeysViewHDF5 ['particle_IDs', 'particle_creation_times', 'particle_hosts', 'particle_positions', 'timestep_location']>\n",
      "/home/selvani/MAP/pynbody/stellarhalo_trace_aw/cptmarvel.cosmo25cmb.4096g5HbwK1BH_stardata_001543.h5 <KeysViewHDF5 ['particle_IDs', 'particle_creation_times', 'particle_hosts', 'particle_positions', 'timestep_location']>\n",
      "/home/selvani/MAP/pynbody/stellarhalo_trace_aw/cptmarvel.cosmo25cmb.4096g5HbwK1BH_stardata_000672.h5 <KeysViewHDF5 ['particle_IDs', 'particle_creation_times', 'particle_hosts', 'particle_positions', 'timestep_location']>\n",
      "/home/selvani/MAP/pynbody/stellarhalo_trace_aw/cptmarvel.cosmo25cmb.4096g5HbwK1BH_stardata_002816.h5 <KeysViewHDF5 ['particle_IDs', 'particle_creation_times', 'particle_hosts', 'particle_positions', 'timestep_location']>\n"
     ]
    }
   ],
   "source": [
    "import StoreUniqueHostID_rz\n",
    "\n",
    "StoreUniqueHostID_rz.main(basename, outfile_dir)"
   ]
  },
  {
   "cell_type": "markdown",
   "id": "98a45a97-d16a-49bb-afd7-c55d4149d186",
   "metadata": {},
   "source": [
    "### 6a) TrackDownStars_rz.ipnb"
   ]
  },
  {
   "cell_type": "code",
   "execution_count": null,
   "id": "90e5cc2c-5ca5-4841-8da3-5886d928ec68",
   "metadata": {},
   "outputs": [],
   "source": []
  },
  {
   "cell_type": "markdown",
   "id": "964eb336-4539-42c3-a6ce-e93dd6e41376",
   "metadata": {},
   "source": [
    "### 6b) FixHostID_rz\n",
    "\n",
    "Optional: Step 6b of stellar halo pipeline\n",
    "Updates the host_ID values stored in the allhalostardata hdf5 file based\n",
    "on user input. This is designed as a follow-up to TrackDownStars and can \n",
    "be used in a couple of ways. If ffile=True, this script will look for \n",
    "numpy files with names <sim>_new_ID_?.npy and will assign the particles\n",
    "with the iords in a given file to new_ID. If ffile=False, it will assign\n",
    "all particles with a host_ID in the old_ID list to new_ID.\n",
    "\n",
    "Output: <sim>_allhalostardata_upd.h5\n",
    "\n",
    "Usage:   python FixHostIDs_rz.py <sim>\n",
    "Example: python FixHostIDs_rz.py r634 \n",
    "\n",
    "The script will print out all host_IDs for which the number of assigned particles \n",
    "changed and how many particles each gained/lost. If the output looks correct,\n",
    "the user should manually rename <sim>_allhalostardata_upd.h5 to <sim>_allhalostardata.h5.\n",
    "It's often necessary to go back and forth between this and TrackDownStars, in which \n",
    "case I usually move the *.npy files that have already been processed to a subfolder. \n"
   ]
  },
  {
   "cell_type": "code",
   "execution_count": 9,
   "id": "0376526c-6b53-4a31-b67e-05eb6d31303d",
   "metadata": {},
   "outputs": [],
   "source": [
    "import FixHostIDs_rz"
   ]
  },
  {
   "cell_type": "code",
   "execution_count": 12,
   "id": "cd6a521d",
   "metadata": {},
   "outputs": [
    {
     "name": "stdout",
     "output_type": "stream",
     "text": [
      "1280_17: 508 particles gained\n",
      "1543_12: 532 particles gained\n",
      "1920_17: 294 particles lost\n",
      "2048_29: 295 particles lost\n",
      "4096_2: 508 particles lost\n",
      "4096_4: 57 particles gained\n",
      "4096_5: 135 particles lost\n",
      "0291_1000: 135 particles gained\n",
      "---------------------------------\n",
      "If this looks correct, run\n",
      "mv /home/selvani/MAP/pynbody/stellarhalo_trace_aw/cptmarvel.cosmo25cmb.4096g5HbwK1BH_allhalostardata_upd.h5 /home/selvani/MAP/pynbody/stellarhalo_trace_aw/cptmarvel.cosmo25cmb.4096g5HbwK1BH_allhalostardata.h5\n"
     ]
    }
   ],
   "source": [
    "FixHostIDs_rz.main(outfile_dir, basename)"
   ]
  },
  {
   "cell_type": "code",
   "execution_count": 20,
   "id": "ab9f1498",
   "metadata": {},
   "outputs": [],
   "source": [
    "# Read in your data\n",
    "with h5py.File(outfile_dir+'/'+basename+'_allhalostardata_upd.h5','r') as f:\n",
    "    hostids = f['host_IDs'].asstr()[:] # unique host IDs\n",
    "    partids = f['particle_IDs'][:] # iords\n",
    "    pct = f['particle_creation_times'][:] # formation times\n",
    "    ph = f['particle_hosts'][:] # local host IDs (i.e., host at formation time)\n",
    "    pp = f['particle_positions'][:] # position at formation time\n",
    "    tsloc = f['timestep_location'][:] # snapshot where star particle first appears\n",
    "uIDs = np.unique(hostids)"
   ]
  },
  {
   "cell_type": "code",
   "execution_count": 14,
   "id": "dc38a404",
   "metadata": {},
   "outputs": [],
   "source": [
    "df = pd.DataFrame({\n",
    "    'host_IDs': hostids,\n",
    "    'particle_IDs': partids,\n",
    "    # 'particle_creation_times': pct,\n",
    "    # 'particle_hosts': ph,\n",
    "    # 'particle_positions': pp,\n",
    "    # 'timestep_location': tsloc\n",
    "})\n",
    "# to csv\n",
    "df.to_csv(outfile_dir+'/final_'+basename+'_allhalostardata.csv', index=False)"
   ]
  },
  {
   "cell_type": "markdown",
   "id": "94ac9365-972e-40e5-b056-503c0c4378a9",
   "metadata": {},
   "source": [
    "### 6c) CompTwoHalos_rz\n",
    "\n",
    "Optional: Step 6c of stellar halo pipeline\n",
    "Compares two halos to see how likely it is that one is\n",
    "the main progenitor of the other based on how many particles\n",
    "they have in common. This is particularly useful when you've\n",
    "used a merger tree constructor that doesn't use phantoms or\n",
    "some equivalent and may therefore fail to connect a halo at\n",
    "snapshot1 to the same halo at snapshot3 if it lost track of it\n",
    "at snapshot2. This information can then be used with FixHostIDs_rz\n",
    "to merge two unique IDs and/or to create a new link in the \n",
    "relevant tangos db.\n",
    "\n",
    "Usage: python CompTwoHalos_rz.py <sim> <halo1> <halo2>\n",
    "Example: python CompTwoHalos_rz.py r718 0136_4 0192_3\n",
    "\n",
    "Output: prints out the fraction of <halo1>'s DM particles\n",
    "that are in <halo2> and vice-versa.\n",
    "\n",
    "It takes three arguments: the simulation you're working with\n",
    "and the tangos IDs of the two halos you want to compare, which\n",
    "are formatted as <snapshot>_<IDatsnapshot>. Note that this ID\n",
    "is assumed to be the tangos ID, not necessarily the amiga.grp\n",
    "ID.\n"
   ]
  },
  {
   "cell_type": "code",
   "execution_count": null,
   "id": "8f7cf633",
   "metadata": {},
   "outputs": [],
   "source": []
  },
  {
   "cell_type": "markdown",
   "id": "d9e29a2c",
   "metadata": {},
   "source": [
    "## Extras"
   ]
  },
  {
   "cell_type": "code",
   "execution_count": 103,
   "id": "284a656c-01de-4b9d-8046-67400580f83e",
   "metadata": {},
   "outputs": [
    {
     "name": "stdout",
     "output_type": "stream",
     "text": [
      "['cptmarvel.cosmo25cmb.4096g5HbwK1BH.000482.amiga.stat', 'cptmarvel.cosmo25cmb.4096g5HbwK1BH.001792.igasorder', 'cptmarvel.cosmo25cmb.4096g5HbwK1BH.002048.z0.824.AHF_fpos', 'cptmarvel.cosmo25cmb.4096g5HbwK1BH.000768', 'cptmarvel.cosmo25cmb.4096g5HbwK1BH.002048.amiga.grp.pynbody-meta', 'cptmarvel.cosmo25cmb.4096g5HbwK1BH.002162', 'cptmarvel.cosmo25cmb.4096g5HbwK1BH.001664.amiga.stat', 'cptmarvel.cosmo25cmb.4096g5HbwK1BH.003456.FeMassFrac', 'cptmarvel.cosmo25cmb.4096g5HbwK1BH.000291.amiga.stat', 'cptmarvel.cosmo25cmb.4096g5HbwK1BH.003968.igasorder', 'cptmarvel.cosmo25cmb.4096g5HbwK1BH.002176.z0.741.AHF_profiles', 'cptmarvel.cosmo25cmb.4096g5HbwK1BH.000512', 'cptmarvel.cosmo25cmb.4096g5HbwK1BH.003245.amiga.grp', 'cptmarvel.cosmo25cmb.4096g5HbwK1BH.001025.z1.999.AHF_halos', 'cptmarvel.cosmo25cmb.4096g5HbwK1BH.003328.OxMassFrac', 'cptmarvel.cosmo25cmb.4096g5HbwK1BH.001162.trace_back_merge.hdf5', 'cptmarvel.cosmo25cmb.4096g5HbwK1BH.002816.amiga.stat', 'cptmarvel.cosmo25cmb.4096g5HbwK1BH.000672.amiga.gtp', 'cptmarvel.cosmo25cmb.4096g5HbwK1BH.001792.FeMassFrac', 'cptmarvel.cosmo25cmb.4096g5HbwK1BH.000640.FeMassFrac', 'cptmarvel.cosmo25cmb.4096g5HbwK1BH.003584.HI', 'cptmarvel.cosmo25cmb.4096g5HbwK1BH.001536.z1.257.AHF_halos', 'cptmarvel.cosmo25cmb.4096g5HbwK1BH.001920.amiga.gtp', 'cptmarvel.cosmo25cmb.4096g5HbwK1BH.002816.iord', 'cptmarvel.cosmo25cmb.4096g5HbwK1BH.000896.amiga.grp', 'cptmarvel.cosmo25cmb.4096g5HbwK1BH.001280.OxMassFrac', 'cptmarvel.cosmo25cmb.4096g5HbwK1BH.003712.HI', 'cptmarvel.cosmo25cmb.4096g5HbwK1BH.003968.HI', 'cptmarvel.cosmo25cmb.4096g5HbwK1BH.003584.amiga.grp', 'cptmarvel.cosmo25cmb.4096g5HbwK1BH.002048.z0.824.AHF_substructure', 'cptmarvel.cosmo25cmb.4096g5HbwK1BH.000482.igasorder', 'cptmarvel.cosmo25cmb.4096g5HbwK1BH.001162.igasorder', 'cptmarvel.cosmo25cmb.4096g5HbwK1BH.000768.HI', 'cptmarvel.cosmo25cmb.4096g5HbwK1BH.000672.z2.998.AHF_particles', 'cptmarvel.cosmo25cmb.4096g5HbwK1BH.001025.FeMassFrac', 'cptmarvel.cosmo25cmb.4096g5HbwK1BH.003840.amiga.grp', 'cptmarvel.cosmo25cmb.4096g5HbwK1BH.002816.FeMassFrac', 'cptmarvel.cosmo25cmb.4096g5HbwK1BH.002432.HI', 'cptmarvel.cosmo25cmb.4096g5HbwK1BH.001664.OxMassFrac', 'cptmarvel.cosmo25cmb.4096g5HbwK1BH.002176.igasorder', 'cptmarvel.cosmo25cmb.4096g5HbwK1BH.003636.OxMassFrac', 'cptmarvel.cosmo25cmb.4096g5HbwK1BH.002624.igasorder', 'cptmarvel.cosmo25cmb.4096g5HbwK1BH.001152.z1.766.AHF_profiles', 'cptmarvel.cosmo25cmb.4096g5HbwK1BH.param', 'cptmarvel.cosmo25cmb.4096g5HbwK1BH.001152.z1.766.AHF_fpos', 'cptmarvel.cosmo25cmb.4096g5HbwK1BH.002048.amiga.grp', 'cptmarvel.cosmo25cmb.4096g5HbwK1BH.000512.coolontime', 'cptmarvel.cosmo25cmb.4096g5HbwK1BH.002816.z0.414.AHF_particles', 'cptmarvel.cosmo25cmb.4096g5HbwK1BH.001331.z1.500.AHF_profiles', 'cptmarvel.cosmo25cmb.4096g5HbwK1BH.003328.amiga.stat', 'cptmarvel.cosmo25cmb.4096g5HbwK1BH.002816.OxMassFrac', 'cptmarvel.cosmo25cmb.4096g5HbwK1BH.000672.amiga.grp.pynbody-meta', 'cptmarvel.cosmo25cmb.4096g5HbwK1BH.000818.coolontime', 'cptmarvel.cosmo25cmb.4096g5HbwK1BH.001162.amiga.grp.pynbody-meta', 'cptmarvel.cosmo25cmb.4096g5HbwK1BH.000768.amiga.grp', 'cptmarvel.cosmo25cmb.4096g5HbwK1BH.002624.z0.500.AHF_halos', 'cptmarvel.cosmo25cmb.4096g5HbwK1BH.002432.igasorder', 'cptmarvel.cosmo25cmb.4096g5HbwK1BH.002176.amiga.grp', 'cptmarvel.cosmo25cmb.4096g5HbwK1BH.004096.igasorder', 'cptmarvel.cosmo25cmb.4096g5HbwK1BH.001543.amiga.grp.pynbody-meta', 'cptmarvel.cosmo25cmb.4096g5HbwK1BH.000672', 'cptmarvel.cosmo25cmb.4096g5HbwK1BH.003712.amiga.gtp', 'cptmarvel.cosmo25cmb.4096g5HbwK1BH.003200.z0.266.AHF_particles', 'cptmarvel.cosmo25cmb.4096g5HbwK1BH.003584.OxMassFrac', 'cptmarvel.cosmo25cmb.4096g5HbwK1BH.003245.coolontime', 'cptmarvel.cosmo25cmb.4096g5HbwK1BH.000146.amiga.stat', 'cptmarvel.cosmo25cmb.4096g5HbwK1BH.002176', 'cptmarvel.cosmo25cmb.4096g5HbwK1BH.003456.iord', 'cptmarvel.cosmo25cmb.4096g5HbwK1BH.002432.z0.595.AHF_profiles', 'cptmarvel.cosmo25cmb.4096g5HbwK1BH.002176.trace_back_merge.hdf5', 'cptmarvel.cosmo25cmb.4096g5HbwK1BH.001152.z1.766.AHF_substructure', 'cptmarvel.cosmo25cmb.4096g5HbwK1BH.002304.massform', 'cptmarvel.cosmo25cmb.4096g5HbwK1BH.001664.igasorder', 'cptmarvel.cosmo25cmb.4096g5HbwK1BH.000512.massform', 'cptmarvel.cosmo25cmb.4096g5HbwK1BH.002944.z0.362.AHF_substructure', 'cptmarvel.cosmo25cmb.4096g5HbwK1BH.001813.trace_back_merge.hdf5', 'cptmarvel.cosmo25cmb.4096g5HbwK1BH.004096.massform', 'cptmarvel.cosmo25cmb.4096g5HbwK1BH.000291.z5.986.AHF_halos', 'cptmarvel.cosmo25cmb.4096g5HbwK1BH.001280.z1.569.AHF_fpos', 'cptmarvel.cosmo25cmb.4096g5HbwK1BH.003840.FeMassFrac', 'cptmarvel.cosmo25cmb.4096g5HbwK1BH.002816.z', 'cptmarvel.cosmo25cmb.4096g5HbwK1BH.001543.HI', 'cptmarvel.cosmo25cmb.4096g5HbwK1BH.001152.massform', 'cptmarvel.cosmo25cmb.4096g5HbwK1BH.000199.massform', 'cptmarvel.cosmo25cmb.4096g5HbwK1BH.000896.amiga.grp.pynbody-meta', 'cptmarvel.cosmo25cmb.4096g5HbwK1BH.001162.z1.749.AHF_halos', 'cptmarvel.cosmo25cmb.4096g5HbwK1BH.001792.amiga.grp.pynbody-meta', 'cptmarvel.cosmo25cmb.4096g5HbwK1BH.001920.z0.916.AHF_substructure', 'cptmarvel.cosmo25cmb.4096g5HbwK1BH.001920.FeMassFrac', 'cptmarvel.cosmo25cmb.4096g5HbwK1BH.004096', 'cptmarvel.cosmo25cmb.4096g5HbwK1BH.003840.igasorder', 'cptmarvel.cosmo25cmb.4096g5HbwK1BH.000640.massform', 'cptmarvel.cosmo25cmb.4096g5HbwK1BH.003328.z0.222.AHF_profiles', 'cptmarvel.cosmo25cmb.4096g5HbwK1BH.002176.FeMassFrac', 'cptmarvel.cosmo25cmb.4096g5HbwK1BH.004096.iord', 'cptmarvel.cosmo25cmb.4096g5HbwK1BH.000384.amiga.gtp', 'cptmarvel.cosmo25cmb.4096g5HbwK1BH.000384.HI', 'cptmarvel.cosmo25cmb.4096g5HbwK1BH.002624.z', 'cptmarvel.cosmo25cmb.4096g5HbwK1BH.001408.z1.402.AHF_profiles', 'cptmarvel.cosmo25cmb.4096g5HbwK1BH.003636.amiga.gtp', 'cptmarvel.cosmo25cmb.4096g5HbwK1BH.000896.OxMassFrac', 'cptmarvel.cosmo25cmb.4096g5HbwK1BH.001331.z1.500.AHF_halos', 'cptmarvel.cosmo25cmb.4096g5HbwK1BH.001025.z1.999.AHF_fpos', 'cptmarvel.cosmo25cmb.4096g5HbwK1BH.000146.amiga.gtp', 'cptmarvel.cosmo25cmb.4096g5HbwK1BH.001280.z1.569.AHF_profiles', 'cptmarvel.cosmo25cmb.4096g5HbwK1BH.002048.z0.824.AHF_particles', 'cptmarvel.cosmo25cmb.4096g5HbwK1BH.002048.amiga.gtp', 'cptmarvel.cosmo25cmb.4096g5HbwK1BH.001813.z', 'cptmarvel.cosmo25cmb.4096g5HbwK1BH.003328.z0.222.AHF_particles', 'cptmarvel.cosmo25cmb.4096g5HbwK1BH.001025.coolontime', 'cptmarvel.cosmo25cmb.4096g5HbwK1BH.002688.z0.470.AHF_particles', 'cptmarvel.cosmo25cmb.4096g5HbwK1BH.001813.amiga.grp', 'cptmarvel.cosmo25cmb.4096g5HbwK1BH.002304.coolontime', 'cptmarvel.cosmo25cmb.4096g5HbwK1BH.001152.trace_back_merge.hdf5', 'cptmarvel.cosmo25cmb.4096g5HbwK1BH.000672.amiga.stat', 'cptmarvel.cosmo25cmb.4096g5HbwK1BH.000768.coolontime', 'cptmarvel.cosmo25cmb.4096g5HbwK1BH.002304.z0.665.AHF_substructure', 'cptmarvel.cosmo25cmb.4096g5HbwK1BH.000146.iord', 'cptmarvel.cosmo25cmb.4096g5HbwK1BH.003584.amiga.grp.pynbody-meta', 'cptmarvel.cosmo25cmb.4096g5HbwK1BH.003712.coolontime', 'cptmarvel.cosmo25cmb.4096g5HbwK1BH.004096.z0.000.AHF_particles', 'cptmarvel.cosmo25cmb.4096g5HbwK1BH.001792.z1.017.AHF_halos', 'cptmarvel.cosmo25cmb.4096g5HbwK1BH.003636.amiga.stat', 'cptmarvel.cosmo25cmb.4096g5HbwK1BH.002560.amiga.gtp', 'cptmarvel.cosmo25cmb.4096g5HbwK1BH.000482.trace_back_merge.hdf5', 'cptmarvel.cosmo25cmb.4096g5HbwK1BH.001162.massform', 'cptmarvel.cosmo25cmb.4096g5HbwK1BH.003245.z0.250.AHF_profiles', 'cptmarvel.cosmo25cmb.4096g5HbwK1BH.002048.OxMassFrac', 'cptmarvel.cosmo25cmb.4096g5HbwK1BH.001813.z0.999.AHF_substructure', 'cptmarvel.cosmo25cmb.4096g5HbwK1BH.000512.amiga.grp', 'cptmarvel.cosmo25cmb.4096g5HbwK1BH.001920', 'cptmarvel.cosmo25cmb.4096g5HbwK1BH.003840.amiga.gtp', 'cptmarvel.cosmo25cmb.4096g5HbwK1BH.000113.FeMassFrac', 'cptmarvel.cosmo25cmb.4096g5HbwK1BH.003968', 'cptmarvel.cosmo25cmb.4096g5HbwK1BH.001792.massform', 'cptmarvel.cosmo25cmb.4096g5HbwK1BH.002304.amiga.stat', 'cptmarvel.cosmo25cmb.4096g5HbwK1BH.002048.z0.824.AHF_profiles', 'cptmarvel.cosmo25cmb.4096g5HbwK1BH.001280.amiga.grp', 'cptmarvel.cosmo25cmb.4096g5HbwK1BH.003968.iord', 'cptmarvel.cosmo25cmb.4096g5HbwK1BH.000113.HI', 'cptmarvel.cosmo25cmb.4096g5HbwK1BH.000672.HI', 'cptmarvel.cosmo25cmb.4096g5HbwK1BH.001543.amiga.stat', 'cptmarvel.cosmo25cmb.4096g5HbwK1BH.003584.massform', 'cptmarvel.cosmo25cmb.4096g5HbwK1BH.000818.z2.500.AHF_halos', 'cptmarvel.cosmo25cmb.4096g5HbwK1BH.000672.z2.998.AHF_fpos', 'cptmarvel.cosmo25cmb.4096g5HbwK1BH.001331.amiga.grp', 'cptmarvel.cosmo25cmb.4096g5HbwK1BH.003840.OxMassFrac', 'cptmarvel.cosmo25cmb.4096g5HbwK1BH.003200.z0.266.AHF_fpos', 'cptmarvel.cosmo25cmb.4096g5HbwK1BH.002432', 'cptmarvel.cosmo25cmb.4096g5HbwK1BH.002624.z0.500.AHF_fpos', 'cptmarvel.cosmo25cmb.4096g5HbwK1BH.000640.amiga.grp', 'cptmarvel.cosmo25cmb.4096g5HbwK1BH.003245.z0.250.AHF_particles', 'cptmarvel.cosmo25cmb.4096g5HbwK1BH.000291.igasorder', 'cptmarvel.cosmo25cmb.4096g5HbwK1BH.003456.amiga.gtp', 'cptmarvel.cosmo25cmb.4096g5HbwK1BH.002432.amiga.gtp', 'cptmarvel.cosmo25cmb.4096g5HbwK1BH.003840', 'cptmarvel.cosmo25cmb.4096g5HbwK1BH.002304.amiga.grp', 'cptmarvel.cosmo25cmb.4096g5HbwK1BH.002176.z0.741.AHF_substructure', 'cptmarvel.cosmo25cmb.4096g5HbwK1BH.001331.igasorder', 'cptmarvel.cosmo25cmb.4096g5HbwK1BH.001331.massform', 'cptmarvel.cosmo25cmb.4096g5HbwK1BH.002688.massform', 'cptmarvel.cosmo25cmb.4096g5HbwK1BH.003636.igasorder', 'cptmarvel.cosmo25cmb.4096g5HbwK1BH.000199.amiga.gtp', 'cptmarvel.cosmo25cmb.4096g5HbwK1BH.003636.HI', 'cptmarvel.cosmo25cmb.4096g5HbwK1BH.002048.HI', 'cptmarvel.cosmo25cmb.4096g5HbwK1BH.002162.amiga.stat', 'cptmarvel.cosmo25cmb.4096g5HbwK1BH.starlog', 'cptmarvel.cosmo25cmb.4096g5HbwK1BH.002176.amiga.gtp', 'cptmarvel.cosmo25cmb.4096g5HbwK1BH.002944.z0.362.AHF_fpos', 'cptmarvel.cosmo25cmb.4096g5HbwK1BH.003968.z0.033.AHF_fpos', 'cptmarvel.cosmo25cmb.4096g5HbwK1BH.003968.amiga.grp.pynbody-meta', 'cptmarvel.cosmo25cmb.4096g5HbwK1BH.002688.z', 'cptmarvel.cosmo25cmb.4096g5HbwK1BH.001408.amiga.grp', 'cptmarvel.cosmo25cmb.4096g5HbwK1BH.002816.z0.414.AHF_substructure', 'cptmarvel.cosmo25cmb.4096g5HbwK1BH.001920.z0.916.AHF_profiles', 'cptmarvel.cosmo25cmb.4096g5HbwK1BH.001162.amiga.grp', 'cptmarvel.cosmo25cmb.4096g5HbwK1BH.003840.coolontime', 'cptmarvel.cosmo25cmb.4096g5HbwK1BH.000291.coolontime', 'cptmarvel.cosmo25cmb.4096g5HbwK1BH.000768.z2.653.AHF_particles', 'cptmarvel.cosmo25cmb.4096g5HbwK1BH.003456', 'cptmarvel.cosmo25cmb.4096g5HbwK1BH.000818.amiga.grp.pynbody-meta', 'cptmarvel.cosmo25cmb.4096g5HbwK1BH.001162', 'cptmarvel.cosmo25cmb.4096g5HbwK1BH.001813.massform', 'cptmarvel.cosmo25cmb.4096g5HbwK1BH.002688.iord', 'cptmarvel.cosmo25cmb.4096g5HbwK1BH.001408.z1.402.AHF_fpos', 'cptmarvel.cosmo25cmb.4096g5HbwK1BH.003636.z0.125.AHF_fpos', 'cptmarvel.cosmo25cmb.4096g5HbwK1BH.002944.z0.362.AHF_profiles', 'cptmarvel.cosmo25cmb.4096g5HbwK1BH.001408.trace_back_merge.hdf5', 'cptmarvel.cosmo25cmb.4096g5HbwK1BH.003968.massform', 'cptmarvel.cosmo25cmb.4096g5HbwK1BH.002816.igasorder', 'cptmarvel.cosmo25cmb.4096g5HbwK1BH.003245.z', 'cptmarvel.cosmo25cmb.4096g5HbwK1BH.001152.z1.766.AHF_halos', 'cptmarvel.cosmo25cmb.4096g5HbwK1BH.002560.z0.531.AHF_fpos', 'cptmarvel.cosmo25cmb.4096g5HbwK1BH.003636.z0.125.AHF_particles', 'cptmarvel.cosmo25cmb.4096g5HbwK1BH.000672.amiga.grp', 'cptmarvel.cosmo25cmb.4096g5HbwK1BH.000199.amiga.grp.pynbody-meta', 'cptmarvel.cosmo25cmb.4096g5HbwK1BH.000291.massform', 'cptmarvel.cosmo25cmb.4096g5HbwK1BH.003712.iord', 'cptmarvel.cosmo25cmb.4096g5HbwK1BH.004096.coolontime', 'cptmarvel.cosmo25cmb.4096g5HbwK1BH.003968.coolontime', 'cptmarvel.cosmo25cmb.4096g5HbwK1BH.003840.z0.067.AHF_halos', 'cptmarvel.cosmo25cmb.4096g5HbwK1BH.001280.z1.569.AHF_substructure', 'cptmarvel.cosmo25cmb.4096g5HbwK1BH.000146.z', 'cptmarvel.cosmo25cmb.4096g5HbwK1BH.002048.iord', 'cptmarvel.cosmo25cmb.4096g5HbwK1BH.002304.HI', 'cptmarvel.cosmo25cmb.4096g5HbwK1BH.000512.iord', 'cptmarvel.cosmo25cmb.4096g5HbwK1BH.001664.amiga.grp', 'cptmarvel.cosmo25cmb.4096g5HbwK1BH.002944', 'cptmarvel.cosmo25cmb.4096g5HbwK1BH.002560.z0.531.AHF_particles', 'cptmarvel.cosmo25cmb.4096g5HbwK1BH.003636.massform', 'cptmarvel.cosmo25cmb.4096g5HbwK1BH.000113.amiga.gtp', 'cptmarvel.cosmo25cmb.4096g5HbwK1BH.000199.z7.974.AHF_particles', 'cptmarvel.cosmo25cmb.4096g5HbwK1BH.002560.OxMassFrac', 'cptmarvel.cosmo25cmb.4096g5HbwK1BH.000896.z2.289.AHF_particles', 'cptmarvel.cosmo25cmb.4096g5HbwK1BH.000768.z', 'cptmarvel.cosmo25cmb.4096g5HbwK1BH.000768.z2.653.AHF_fpos', 'cptmarvel.cosmo25cmb.4096g5HbwK1BH.003584.z', 'cptmarvel.cosmo25cmb.4096g5HbwK1BH.000384.z4.813.AHF_substructure', 'cptmarvel.cosmo25cmb.4096g5HbwK1BH.001792.HI', 'cptmarvel.cosmo25cmb.4096g5HbwK1BH.001813.FeMassFrac', 'cptmarvel.cosmo25cmb.4096g5HbwK1BH.000113.amiga.stat', 'cptmarvel.cosmo25cmb.4096g5HbwK1BH.002432.z0.595.AHF_substructure', 'cptmarvel.cosmo25cmb.4096g5HbwK1BH.002432.amiga.grp', 'cptmarvel.cosmo25cmb.4096g5HbwK1BH.001025.trace_back_merge.hdf5', 'cptmarvel.cosmo25cmb.4096g5HbwK1BH.002944.massform', 'cptmarvel.cosmo25cmb.4096g5HbwK1BH.000640.z', 'cptmarvel.cosmo25cmb.4096g5HbwK1BH.001025.HI', 'cptmarvel.cosmo25cmb.4096g5HbwK1BH.000818.massform', 'cptmarvel.cosmo25cmb.4096g5HbwK1BH.001536.iord', 'cptmarvel.cosmo25cmb.4096g5HbwK1BH.001408.amiga.stat', 'cptmarvel.cosmo25cmb.4096g5HbwK1BH.002432.z0.595.AHF_halos', 'cptmarvel.cosmo25cmb.4096g5HbwK1BH.000384.igasorder', 'cptmarvel.cosmo25cmb.4096g5HbwK1BH.003072.coolontime', 'cptmarvel.cosmo25cmb.4096g5HbwK1BH.000384.OxMassFrac', 'cptmarvel.cosmo25cmb.4096g5HbwK1BH.000896.z2.289.AHF_fpos', 'cptmarvel.cosmo25cmb.4096g5HbwK1BH.000113.iord', 'cptmarvel.cosmo25cmb.4096g5HbwK1BH.003328.massform', 'cptmarvel.cosmo25cmb.4096g5HbwK1BH.003840.z', 'cptmarvel.cosmo25cmb.4096g5HbwK1BH.003072.z0.312.AHF_halos', 'cptmarvel.cosmo25cmb.4096g5HbwK1BH.001543.iord', 'cptmarvel.cosmo25cmb.4096g5HbwK1BH.001792.z1.017.AHF_substructure', 'cptmarvel.cosmo25cmb.4096g5HbwK1BH.002560.coolontime', 'cptmarvel.cosmo25cmb.4096g5HbwK1BH.000640.OxMassFrac', 'cptmarvel.cosmo25cmb.4096g5HbwK1BH.003712.z0.103.AHF_profiles', 'cptmarvel.cosmo25cmb.4096g5HbwK1BH.004096.z0.000.AHF_substructure', 'cptmarvel.cosmo25cmb.4096g5HbwK1BH.001664.iord', 'cptmarvel.cosmo25cmb.4096g5HbwK1BH.002624.FeMassFrac', 'cptmarvel.cosmo25cmb.4096g5HbwK1BH.001331.coolontime', 'cptmarvel.cosmo25cmb.4096g5HbwK1BH.003636.z0.125.AHF_halos', 'cptmarvel.cosmo25cmb.4096g5HbwK1BH.001536.HI', 'cptmarvel.cosmo25cmb.4096g5HbwK1BH.001331.iord', 'cptmarvel.cosmo25cmb.4096g5HbwK1BH.001813.z0.999.AHF_halos', 'cptmarvel.cosmo25cmb.4096g5HbwK1BH.001408.HI', 'cptmarvel.cosmo25cmb.4096g5HbwK1BH.003712.z0.103.AHF_particles', 'cptmarvel.cosmo25cmb.4096g5HbwK1BH.000512.z3.799.AHF_particles', 'cptmarvel.cosmo25cmb.4096g5HbwK1BH.002560.z', 'cptmarvel.cosmo25cmb.4096g5HbwK1BH.003968.amiga.gtp', 'cptmarvel.cosmo25cmb.4096g5HbwK1BH.003456.amiga.grp.pynbody-meta', 'cptmarvel.cosmo25cmb.4096g5HbwK1BH.000818.amiga.stat', 'cptmarvel.cosmo25cmb.4096g5HbwK1BH.002176.z0.741.AHF_halos', 'cptmarvel.cosmo25cmb.4096g5HbwK1BH.001408.z1.402.AHF_substructure', 'cptmarvel.cosmo25cmb.4096g5HbwK1BH.002048.igasorder', 'cptmarvel.cosmo25cmb.4096g5HbwK1BH.000896.trace_back_merge.hdf5', 'cptmarvel.cosmo25cmb.4096g5HbwK1BH.000482.iord', 'cptmarvel.cosmo25cmb.4096g5HbwK1BH.002162.igasorder', 'cptmarvel.cosmo25cmb.4096g5HbwK1BH.001280.FeMassFrac', 'cptmarvel.cosmo25cmb.4096g5HbwK1BH.000199', 'cptmarvel.cosmo25cmb.4096g5HbwK1BH.003636.z', 'cptmarvel.cosmo25cmb.4096g5HbwK1BH.001152', 'cptmarvel.cosmo25cmb.4096g5HbwK1BH.000818', 'cptmarvel.cosmo25cmb.4096g5HbwK1BH.001025', 'cptmarvel.cosmo25cmb.4096g5HbwK1BH.003584.amiga.gtp', 'cptmarvel.cosmo25cmb.4096g5HbwK1BH.000384.z', 'cptmarvel.cosmo25cmb.4096g5HbwK1BH.004096.z0.000.AHF_fpos', 'cptmarvel.cosmo25cmb.4096g5HbwK1BH.002944.z0.362.AHF_particles', 'cptmarvel.cosmo25cmb.4096g5HbwK1BH.003200.amiga.grp', 'cptmarvel.cosmo25cmb.4096g5HbwK1BH.002624.amiga.stat', 'cptmarvel.cosmo25cmb.4096g5HbwK1BH.001152.coolontime', 'cptmarvel.cosmo25cmb.4096g5HbwK1BH.002176.amiga.grp.pynbody-meta', 'cptmarvel.cosmo25cmb.4096g5HbwK1BH.002560.z0.531.AHF_substructure', 'cptmarvel.cosmo25cmb.4096g5HbwK1BH.001280.z1.569.AHF_halos', 'cptmarvel.cosmo25cmb.4096g5HbwK1BH.000768.z2.653.AHF_profiles', 'cptmarvel.cosmo25cmb.4096g5HbwK1BH.004096.z0.000.AHF_profiles', 'cptmarvel.cosmo25cmb.4096g5HbwK1BH.002688.z0.470.AHF_halos', 'cptmarvel.cosmo25cmb.4096g5HbwK1BH.000512.amiga.gtp', 'cptmarvel.cosmo25cmb.4096g5HbwK1BH.001025.amiga.grp', 'cptmarvel.cosmo25cmb.4096g5HbwK1BH.001664.z1.130.AHF_particles', 'cptmarvel.cosmo25cmb.4096g5HbwK1BH.003584.iord', 'cptmarvel.cosmo25cmb.4096g5HbwK1BH.002688.z0.470.AHF_profiles', 'cptmarvel.cosmo25cmb.4096g5HbwK1BH.002944.coolontime', 'cptmarvel.cosmo25cmb.4096g5HbwK1BH.001280.HI', 'cptmarvel.cosmo25cmb.4096g5HbwK1BH.000384.massform', 'cptmarvel.cosmo25cmb.4096g5HbwK1BH.001920.amiga.grp', 'cptmarvel.cosmo25cmb.4096g5HbwK1BH.002162.z0.750.AHF_halos', 'cptmarvel.cosmo25cmb.4096g5HbwK1BH.002816.amiga.grp.pynbody-meta', 'cptmarvel.cosmo25cmb.4096g5HbwK1BH.003456.HI', 'cptmarvel.cosmo25cmb.4096g5HbwK1BH.003584.z0.140.AHF_substructure', 'cptmarvel.cosmo25cmb.4096g5HbwK1BH.003072.amiga.gtp', 'cptmarvel.cosmo25cmb.4096g5HbwK1BH.001536.igasorder', 'cptmarvel.cosmo25cmb.4096g5HbwK1BH.000128.coolontime', 'cptmarvel.cosmo25cmb.4096g5HbwK1BH.001920.coolontime', 'cptmarvel.cosmo25cmb.4096g5HbwK1BH.000512.z3.799.AHF_profiles', 'cptmarvel.cosmo25cmb.4096g5HbwK1BH.001536.z1.257.AHF_profiles', 'cptmarvel.cosmo25cmb.4096g5HbwK1BH.003072.HI', 'cptmarvel.cosmo25cmb.4096g5HbwK1BH.003840.z0.067.AHF_substructure', 'cptmarvel.cosmo25cmb.4096g5HbwK1BH.001664.HI', 'cptmarvel.cosmo25cmb.4096g5HbwK1BH.003456.z0.180.AHF_halos', 'cptmarvel.cosmo25cmb.4096g5HbwK1BH.001792.z1.017.AHF_particles', 'cptmarvel.cosmo25cmb.4096g5HbwK1BH.001792', 'cptmarvel.cosmo25cmb.4096g5HbwK1BH.003584', 'cptmarvel.cosmo25cmb.4096g5HbwK1BH.000818.amiga.grp', 'cptmarvel.cosmo25cmb.4096g5HbwK1BH.001162.amiga.stat', 'cptmarvel.cosmo25cmb.4096g5HbwK1BH.001536.z1.257.AHF_fpos', 'cptmarvel.cosmo25cmb.4096g5HbwK1BH.002624.iord', 'cptmarvel.cosmo25cmb.4096g5HbwK1BH.003328.FeMassFrac', 'cptmarvel.cosmo25cmb.4096g5HbwK1BH.001408.z1.402.AHF_halos', 'cptmarvel.cosmo25cmb.4096g5HbwK1BH.002560', 'cptmarvel.cosmo25cmb.4096g5HbwK1BH.002176.z0.741.AHF_fpos', 'cptmarvel.cosmo25cmb.4096g5HbwK1BH.000128.OxMassFrac', 'cptmarvel.cosmo25cmb.4096g5HbwK1BH.003712.z', 'cptmarvel.cosmo25cmb.4096g5HbwK1BH.003968.z', 'cptmarvel.cosmo25cmb.4096g5HbwK1BH.003245.amiga.stat', 'cptmarvel.cosmo25cmb.4096g5HbwK1BH.002304.OxMassFrac', 'cptmarvel.cosmo25cmb.4096g5HbwK1BH.002304.FeMassFrac', 'cptmarvel.cosmo25cmb.4096g5HbwK1BH.002944.iord', 'cptmarvel.cosmo25cmb.4096g5HbwK1BH.003584.z0.140.AHF_particles', 'cptmarvel.cosmo25cmb.4096g5HbwK1BH.002944.amiga.grp.pynbody-meta', 'cptmarvel.cosmo25cmb.4096g5HbwK1BH.000768.igasorder', 'cptmarvel.cosmo25cmb.4096g5HbwK1BH.003456.coolontime', 'cptmarvel.cosmo25cmb.4096g5HbwK1BH.003245.amiga.grp.pynbody-meta', 'cptmarvel.cosmo25cmb.4096g5HbwK1BH.000818.z2.500.AHF_fpos', 'cptmarvel.cosmo25cmb.4096g5HbwK1BH.003200', 'cptmarvel.cosmo25cmb.4096g5HbwK1BH.001536.FeMassFrac', 'cptmarvel.cosmo25cmb.4096g5HbwK1BH.000512.igasorder', 'cptmarvel.cosmo25cmb.4096g5HbwK1BH.000512.amiga.stat', 'cptmarvel.cosmo25cmb.4096g5HbwK1BH.002432.z', 'cptmarvel.cosmo25cmb.4096g5HbwK1BH.003712.igasorder', 'cptmarvel.cosmo25cmb.4096g5HbwK1BH.001813.igasorder', 'cptmarvel.cosmo25cmb.4096g5HbwK1BH.001543.z1.249.AHF_particles', 'cptmarvel.cosmo25cmb.4096g5HbwK1BH.001536.z1.257.AHF_substructure', 'cptmarvel.cosmo25cmb.4096g5HbwK1BH.000896.massform', 'cptmarvel.cosmo25cmb.4096g5HbwK1BH.003072.amiga.grp.pynbody-meta', 'cptmarvel.cosmo25cmb.4096g5HbwK1BH.000672.trace_back_merge.hdf5', 'cptmarvel.cosmo25cmb.4096g5HbwK1BH.003200.igasorder', 'cptmarvel.cosmo25cmb.4096g5HbwK1BH.001152.z1.766.AHF_particles', 'cptmarvel.cosmo25cmb.4096g5HbwK1BH.001408.amiga.grp.pynbody-meta', 'cptmarvel.cosmo25cmb.4096g5HbwK1BH.002624.amiga.grp.pynbody-meta', 'cptmarvel.cosmo25cmb.4096g5HbwK1BH.002688.amiga.stat', 'cptmarvel.cosmo25cmb.4096g5HbwK1BH.003072.igasorder', 'cptmarvel.cosmo25cmb.4096g5HbwK1BH.002624', 'cptmarvel.cosmo25cmb.4096g5HbwK1BH.001664.FeMassFrac', 'cptmarvel.cosmo25cmb.4096g5HbwK1BH.002048.z0.824.AHF_halos', 'cptmarvel.cosmo25cmb.4096g5HbwK1BH.000818.iord', 'cptmarvel.cosmo25cmb.4096g5HbwK1BH.000672.coolontime', 'cptmarvel.cosmo25cmb.4096g5HbwK1BH.003245.amiga.gtp', 'cptmarvel.cosmo25cmb.4096g5HbwK1BH.003328.z', 'cptmarvel.cosmo25cmb.4096g5HbwK1BH.003072', 'cptmarvel.cosmo25cmb.4096g5HbwK1BH.000291.OxMassFrac', 'cptmarvel.cosmo25cmb.4096g5HbwK1BH.003712.massform', 'cptmarvel.cosmo25cmb.4096g5HbwK1BH.000384.coolontime', 'cptmarvel.cosmo25cmb.4096g5HbwK1BH.002688.amiga.grp.pynbody-meta', 'cptmarvel.cosmo25cmb.4096g5HbwK1BH.000896', 'cptmarvel.cosmo25cmb.4096g5HbwK1BH.002162.OxMassFrac', 'cptmarvel.cosmo25cmb.4096g5HbwK1BH.002176.amiga.stat', 'cptmarvel.cosmo25cmb.4096g5HbwK1BH.000291.z5.986.AHF_particles', 'cptmarvel.cosmo25cmb.4096g5HbwK1BH.001162.FeMassFrac', 'cptmarvel.cosmo25cmb.4096g5HbwK1BH.002304.z0.665.AHF_profiles', 'cptmarvel.cosmo25cmb.4096g5HbwK1BH.000199.z7.974.AHF_profiles', 'cptmarvel.cosmo25cmb.4096g5HbwK1BH.003328.coolontime', 'cptmarvel.cosmo25cmb.4096g5HbwK1BH.000384.amiga.grp', 'cptmarvel.cosmo25cmb.4096g5HbwK1BH.000128.iord', 'cptmarvel.cosmo25cmb.4096g5HbwK1BH.004096.amiga.gtp', 'cptmarvel.cosmo25cmb.4096g5HbwK1BH.003840.amiga.grp.pynbody-meta', 'cptmarvel.cosmo25cmb.4096g5HbwK1BH.000896.HI', 'cptmarvel.cosmo25cmb.4096g5HbwK1BH.001408.OxMassFrac', 'cptmarvel.cosmo25cmb.4096g5HbwK1BH.001162.z', 'cptmarvel.cosmo25cmb.4096g5HbwK1BH.000128.z', 'cptmarvel.cosmo25cmb.4096g5HbwK1BH.001280.coolontime', 'cptmarvel.cosmo25cmb.4096g5HbwK1BH.002304', 'cptmarvel.cosmo25cmb.4096g5HbwK1BH.003636.z0.125.AHF_substructure', 'cptmarvel.cosmo25cmb.4096g5HbwK1BH.001152.amiga.stat', 'cptmarvel.cosmo25cmb.4096g5HbwK1BH.000146.coolontime', 'cptmarvel.cosmo25cmb.4096g5HbwK1BH.001813.z0.999.AHF_fpos', 'cptmarvel.cosmo25cmb.4096g5HbwK1BH.001162.iord', 'cptmarvel.cosmo25cmb.4096g5HbwK1BH.002176.iord', 'cptmarvel.cosmo25cmb.4096g5HbwK1BH.002624.OxMassFrac', 'cptmarvel.cosmo25cmb.4096g5HbwK1BH.001813.amiga.stat', 'cptmarvel.cosmo25cmb.4096g5HbwK1BH.004096.HI', 'cptmarvel.cosmo25cmb.4096g5HbwK1BH.003072.z0.312.AHF_fpos', 'cptmarvel.cosmo25cmb.4096g5HbwK1BH.003245.HI', 'cptmarvel.cosmo25cmb.4096g5HbwK1BH.001543.z1.249.AHF_halos', 'cptmarvel.cosmo25cmb.4096g5HbwK1BH.001331.trace_back_merge.hdf5', 'cptmarvel.cosmo25cmb.4096g5HbwK1BH.002176.OxMassFrac', 'cptmarvel.cosmo25cmb.4096g5HbwK1BH.000128', 'cptmarvel.cosmo25cmb.4096g5HbwK1BH.000818.z', 'cptmarvel.cosmo25cmb.4096g5HbwK1BH.001920.z', 'cptmarvel.cosmo25cmb.4096g5HbwK1BH.002162.z0.750.AHF_particles', 'cptmarvel.cosmo25cmb.4096g5HbwK1BH.002624.HI', 'cptmarvel.cosmo25cmb.4096g5HbwK1BH.002816', 'cptmarvel.cosmo25cmb.4096g5HbwK1BH.003245.z0.250.AHF_fpos', 'cptmarvel.cosmo25cmb.4096g5HbwK1BH.001025.amiga.stat', 'cptmarvel.cosmo25cmb.4096g5HbwK1BH.002432.iord', 'cptmarvel.cosmo25cmb.4096g5HbwK1BH.001162.z1.749.AHF_substructure', 'cptmarvel.cosmo25cmb.4096g5HbwK1BH.001331.OxMassFrac', 'cptmarvel.cosmo25cmb.4096g5HbwK1BH.001152.OxMassFrac', 'cptmarvel.cosmo25cmb.4096g5HbwK1BH.002048.trace_back_merge.hdf5', 'cptmarvel.cosmo25cmb.4096g5HbwK1BH.003328.z0.222.AHF_halos', 'cptmarvel.cosmo25cmb.4096g5HbwK1BH.000482.z3.996.AHF_substructure', 'cptmarvel.cosmo25cmb.4096g5HbwK1BH.001664.amiga.grp.pynbody-meta', 'cptmarvel.cosmo25cmb.4096g5HbwK1BH.001792.z1.017.AHF_profiles', 'cptmarvel.cosmo25cmb.4096g5HbwK1BH.004096.amiga.grp', 'cptmarvel.cosmo25cmb.4096g5HbwK1BH.000818.z2.500.AHF_profiles', 'cptmarvel.cosmo25cmb.4096g5HbwK1BH.001331.amiga.grp.pynbody-meta', 'cptmarvel.cosmo25cmb.4096g5HbwK1BH.003456.z0.180.AHF_fpos', 'cptmarvel.cosmo25cmb.4096g5HbwK1BH.003200.z0.266.AHF_substructure', 'cptmarvel.cosmo25cmb.4096g5HbwK1BH.002162.iord', 'cptmarvel.cosmo25cmb.4096g5HbwK1BH.003584.z0.140.AHF_halos', 'cptmarvel.cosmo25cmb.4096g5HbwK1BH.001025.amiga.grp.pynbody-meta', 'cptmarvel.cosmo25cmb.4096g5HbwK1BH.001162.OxMassFrac', 'cptmarvel.cosmo25cmb.4096g5HbwK1BH.002688.OxMassFrac', 'cptmarvel.cosmo25cmb.4096g5HbwK1BH.003584.coolontime', 'cptmarvel.cosmo25cmb.4096g5HbwK1BH.000482.z3.996.AHF_halos', 'cptmarvel.cosmo25cmb.4096g5HbwK1BH.003072.amiga.grp', 'cptmarvel.cosmo25cmb.4096g5HbwK1BH.002176.z', 'cptmarvel.cosmo25cmb.4096g5HbwK1BH.002816.amiga.grp', 'cptmarvel.cosmo25cmb.4096g5HbwK1BH.000199.z7.974.AHF_substructure', 'cptmarvel.cosmo25cmb.4096g5HbwK1BH.003712.amiga.grp', 'cptmarvel.cosmo25cmb.4096g5HbwK1BH.000482.amiga.grp.pynbody-meta', 'cptmarvel.cosmo25cmb.4096g5HbwK1BH.003072.OxMassFrac', 'cptmarvel.cosmo25cmb.4096g5HbwK1BH.000512.HI', 'cptmarvel.cosmo25cmb.4096g5HbwK1BH.001162.amiga.gtp', 'cptmarvel.cosmo25cmb.4096g5HbwK1BH.000199.FeMassFrac', 'cptmarvel.cosmo25cmb.4096g5HbwK1BH.002304.z0.665.AHF_fpos', 'cptmarvel.cosmo25cmb.4096g5HbwK1BH.000896.FeMassFrac', 'cptmarvel.cosmo25cmb.4096g5HbwK1BH.002560.FeMassFrac', 'cptmarvel.cosmo25cmb.4096g5HbwK1BH.002688.z0.470.AHF_fpos', 'cptmarvel.cosmo25cmb.4096g5HbwK1BH.000128.igasorder', 'cptmarvel.cosmo25cmb.4096g5HbwK1BH.001408.z1.402.AHF_particles', 'cptmarvel.cosmo25cmb.4096g5HbwK1BH.003328.amiga.grp', 'cptmarvel.cosmo25cmb.4096g5HbwK1BH.000512.z', 'cptmarvel.cosmo25cmb.4096g5HbwK1BH.001536.massform', 'cptmarvel.cosmo25cmb.4096g5HbwK1BH.003328.amiga.grp.pynbody-meta', 'cptmarvel.cosmo25cmb.4096g5HbwK1BH.000640.amiga.gtp', 'cptmarvel.cosmo25cmb.4096g5HbwK1BH.000291.amiga.grp.pynbody-meta', 'cptmarvel.cosmo25cmb.4096g5HbwK1BH.000384.z4.813.AHF_profiles', 'cptmarvel.cosmo25cmb.4096g5HbwK1BH.001025.massform', 'cptmarvel.cosmo25cmb.4096g5HbwK1BH.000384.amiga.grp.pynbody-meta', 'cptmarvel.cosmo25cmb.4096g5HbwK1BH.002688.amiga.gtp', 'cptmarvel.cosmo25cmb.4096g5HbwK1BH.003328.igasorder', 'cptmarvel.cosmo25cmb.4096g5HbwK1BH.000640.amiga.grp.pynbody-meta', 'cptmarvel.cosmo25cmb.4096g5HbwK1BH.000768.iord', 'cptmarvel.cosmo25cmb.4096g5HbwK1BH.000896.iord', 'cptmarvel.cosmo25cmb.4096g5HbwK1BH.004096.FeMassFrac', 'cptmarvel.cosmo25cmb.4096g5HbwK1BH.001536.amiga.gtp', 'cptmarvel.cosmo25cmb.4096g5HbwK1BH.001920.z0.916.AHF_halos', 'cptmarvel.cosmo25cmb.4096g5HbwK1BH.000128.FeMassFrac', 'cptmarvel.cosmo25cmb.4096g5HbwK1BH.000113.igasorder', 'cptmarvel.cosmo25cmb.4096g5HbwK1BH.000672.massform', 'cptmarvel.cosmo25cmb.4096g5HbwK1BH.003200.iord', 'cptmarvel.cosmo25cmb.4096g5HbwK1BH.000146', 'cptmarvel.cosmo25cmb.4096g5HbwK1BH.log', 'cptmarvel.cosmo25cmb.4096g5HbwK1BH.001536.amiga.grp', 'cptmarvel.cosmo25cmb.4096g5HbwK1BH.001813.amiga.grp.pynbody-meta', 'cptmarvel.cosmo25cmb.4096g5HbwK1BH.001025.amiga.gtp', 'cptmarvel.cosmo25cmb.4096g5HbwK1BH.003968.z0.033.AHF_substructure', 'cptmarvel.cosmo25cmb.4096g5HbwK1BH.000640.z3.131.AHF_substructure', 'cptmarvel.cosmo25cmb.4096g5HbwK1BH.003584.amiga.stat', 'cptmarvel.cosmo25cmb.4096g5HbwK1BH.003840.massform', 'cptmarvel.cosmo25cmb.4096g5HbwK1BH.001025.igasorder', 'cptmarvel.cosmo25cmb.4096g5HbwK1BH.001025.iord', 'cptmarvel.cosmo25cmb.4096g5HbwK1BH.000640.HI', 'cptmarvel.cosmo25cmb.4096g5HbwK1BH.000384.z4.813.AHF_particles', 'cptmarvel.cosmo25cmb.4096g5HbwK1BH.003968.amiga.stat', 'cptmarvel.cosmo25cmb.4096g5HbwK1BH.001664.z1.130.AHF_halos', 'cptmarvel.cosmo25cmb.4096g5HbwK1BH.000672.z2.998.AHF_halos', 'cptmarvel.cosmo25cmb.4096g5HbwK1BH.001664.coolontime', 'cptmarvel.cosmo25cmb.4096g5HbwK1BH.002688.amiga.grp', 'cptmarvel.cosmo25cmb.4096g5HbwK1BH.001280.trace_back_merge.hdf5', 'cptmarvel.cosmo25cmb.4096g5HbwK1BH.000768.amiga.stat', 'cptmarvel.cosmo25cmb.4096g5HbwK1BH.003456.z', 'cptmarvel.cosmo25cmb.4096g5HbwK1BH.003328.HI', 'cptmarvel.cosmo25cmb.4096g5HbwK1BH.001920.HI', 'cptmarvel.cosmo25cmb.4096g5HbwK1BH.003072.z', 'cptmarvel.cosmo25cmb.4096g5HbwK1BH.002432.FeMassFrac', 'cptmarvel.cosmo25cmb.4096g5HbwK1BH.002816.z0.414.AHF_halos', 'cptmarvel.cosmo25cmb.4096g5HbwK1BH.000512.FeMassFrac', 'cptmarvel.cosmo25cmb.4096g5HbwK1BH.001792.coolontime', 'cptmarvel.cosmo25cmb.4096g5HbwK1BH.002624.z0.500.AHF_profiles', 'cptmarvel.cosmo25cmb.4096g5HbwK1BH.002304.iord', 'cptmarvel.cosmo25cmb.4096g5HbwK1BH.000896.igasorder', 'cptmarvel.cosmo25cmb.4096g5HbwK1BH.001331.z1.500.AHF_particles', 'cptmarvel.cosmo25cmb.4096g5HbwK1BH.000113.massform', 'cptmarvel.cosmo25cmb.4096g5HbwK1BH.000199.iord', 'cptmarvel.cosmo25cmb.4096g5HbwK1BH.002560.amiga.grp', 'cptmarvel.cosmo25cmb.4096g5HbwK1BH.002304.z0.665.AHF_halos', 'cptmarvel.cosmo25cmb.4096g5HbwK1BH.001920.amiga.stat', 'cptmarvel.cosmo25cmb.4096g5HbwK1BH.002816.HI', 'cptmarvel.cosmo25cmb.4096g5HbwK1BH.000113.OxMassFrac', 'cptmarvel.cosmo25cmb.4096g5HbwK1BH.002432.z0.595.AHF_particles', 'cptmarvel.cosmo25cmb.4096g5HbwK1BH.001543.z1.249.AHF_fpos', 'cptmarvel.cosmo25cmb.4096g5HbwK1BH.003968.FeMassFrac', 'cptmarvel.cosmo25cmb.4096g5HbwK1BH.003712.z0.103.AHF_fpos', 'cptmarvel.cosmo25cmb.4096g5HbwK1BH.000896.z', 'cptmarvel.cosmo25cmb.4096g5HbwK1BH.001162.HI', 'cptmarvel.cosmo25cmb.4096g5HbwK1BH.001152.amiga.grp.pynbody-meta', 'cptmarvel.cosmo25cmb.4096g5HbwK1BH.002304.amiga.gtp', 'cptmarvel.cosmo25cmb.4096g5HbwK1BH.000640.z3.131.AHF_particles', 'cptmarvel.cosmo25cmb.4096g5HbwK1BH.002304.z', 'cptmarvel.cosmo25cmb.4096g5HbwK1BH.002944.HI', 'cptmarvel.cosmo25cmb.4096g5HbwK1BH.002176.coolontime', 'cptmarvel.cosmo25cmb.4096g5HbwK1BH.003968.z0.033.AHF_particles', 'cptmarvel.cosmo25cmb.4096g5HbwK1BH.003328.z0.222.AHF_substructure', 'cptmarvel.cosmo25cmb.4096g5HbwK1BH.001543.z', 'cptmarvel.cosmo25cmb.4096g5HbwK1BH.000482.amiga.gtp', 'cptmarvel.cosmo25cmb.4096g5HbwK1BH.000640.z3.131.AHF_fpos', 'cptmarvel.cosmo25cmb.4096g5HbwK1BH.000384.FeMassFrac', 'cptmarvel.cosmo25cmb.4096g5HbwK1BH.000512.OxMassFrac', 'cptmarvel.cosmo25cmb.4096g5HbwK1BH.000672.OxMassFrac', 'cptmarvel.cosmo25cmb.4096g5HbwK1BH.001408.amiga.gtp', 'cptmarvel.cosmo25cmb.4096g5HbwK1BH.001920.z0.916.AHF_fpos', 'cptmarvel.cosmo25cmb.4096g5HbwK1BH.000640', 'cptmarvel.cosmo25cmb.4096g5HbwK1BH.002816.z0.414.AHF_profiles', 'cptmarvel.cosmo25cmb.4096g5HbwK1BH.000512.z3.799.AHF_substructure', 'cptmarvel.cosmo25cmb.4096g5HbwK1BH.003072.iord', 'cptmarvel.cosmo25cmb.4096g5HbwK1BH.003456.z0.180.AHF_substructure', 'cptmarvel.cosmo25cmb.4096g5HbwK1BH.001792.amiga.stat', 'cptmarvel.cosmo25cmb.4096g5HbwK1BH.002944.amiga.gtp', 'cptmarvel.cosmo25cmb.4096g5HbwK1BH.003840.HI', 'cptmarvel.cosmo25cmb.4096g5HbwK1BH.003636.iord', 'cptmarvel.cosmo25cmb.4096g5HbwK1BH.001543', 'cptmarvel.cosmo25cmb.4096g5HbwK1BH.001025.z', 'cptmarvel.cosmo25cmb.4096g5HbwK1BH.000768.massform', 'cptmarvel.cosmo25cmb.4096g5HbwK1BH.002162.z', 'cptmarvel.cosmo25cmb.4096g5HbwK1BH.001280.igasorder', 'cptmarvel.cosmo25cmb.4096g5HbwK1BH.001331.z1.500.AHF_substructure', 'cptmarvel.cosmo25cmb.4096g5HbwK1BH.003712.OxMassFrac', 'cptmarvel.cosmo25cmb.4096g5HbwK1BH.002048.FeMassFrac', 'cptmarvel.cosmo25cmb.4096g5HbwK1BH.003636.z0.125.AHF_profiles', 'cptmarvel.cosmo25cmb.4096g5HbwK1BH.003456.OxMassFrac', 'cptmarvel.cosmo25cmb.4096g5HbwK1BH.002944.OxMassFrac', 'cptmarvel.cosmo25cmb.4096g5HbwK1BH.001280.z1.569.AHF_particles', 'cptmarvel.cosmo25cmb.4096g5HbwK1BH.000384.amiga.stat', 'cptmarvel.cosmo25cmb.4096g5HbwK1BH.001536.z1.257.AHF_particles', 'cptmarvel.cosmo25cmb.4096g5HbwK1BH.003200.FeMassFrac', 'cptmarvel.cosmo25cmb.4096g5HbwK1BH.003072.massform', 'cptmarvel.cosmo25cmb.4096g5HbwK1BH.000146.igasorder', 'cptmarvel.cosmo25cmb.4096g5HbwK1BH.003200.amiga.gtp', 'cptmarvel.cosmo25cmb.4096g5HbwK1BH.000672.igasorder', 'cptmarvel.cosmo25cmb.4096g5HbwK1BH.001408.coolontime', 'cptmarvel.cosmo25cmb.4096g5HbwK1BH.001280.iord', 'cptmarvel.cosmo25cmb.4096g5HbwK1BH.001792.amiga.gtp', 'cptmarvel.cosmo25cmb.4096g5HbwK1BH.001152.amiga.gtp', 'cptmarvel.cosmo25cmb.4096g5HbwK1BH.003328.amiga.gtp', 'cptmarvel.cosmo25cmb.4096g5HbwK1BH.001025.z1.999.AHF_profiles', 'cptmarvel.cosmo25cmb.4096g5HbwK1BH.000384', 'cptmarvel.cosmo25cmb.4096g5HbwK1BH.003840.iord', 'cptmarvel.cosmo25cmb.4096g5HbwK1BH.002688.coolontime', 'cptmarvel.cosmo25cmb.4096g5HbwK1BH.001152.HI', 'cptmarvel.cosmo25cmb.4096g5HbwK1BH.002048', 'cptmarvel.cosmo25cmb.4096g5HbwK1BH.003636', 'cptmarvel.cosmo25cmb.4096g5HbwK1BH.003712.FeMassFrac', 'cptmarvel.cosmo25cmb.4096g5HbwK1BH.001813.OxMassFrac', 'cptmarvel.cosmo25cmb.4096g5HbwK1BH.001331.amiga.gtp', 'cptmarvel.cosmo25cmb.4096g5HbwK1BH.001543.OxMassFrac', 'cptmarvel.cosmo25cmb.4096g5HbwK1BH.003245.massform', 'cptmarvel.cosmo25cmb.4096g5HbwK1BH.000128.massform', 'cptmarvel.cosmo25cmb.4096g5HbwK1BH.001813.z0.999.AHF_particles', 'cptmarvel.cosmo25cmb.4096g5HbwK1BH.003245.FeMassFrac', 'cptmarvel.cosmo25cmb.4096g5HbwK1BH.003072.z0.312.AHF_particles', 'cptmarvel.cosmo25cmb.4096g5HbwK1BH.000199.z7.974.AHF_fpos', 'cptmarvel.cosmo25cmb.4096g5HbwK1BH.000482.z3.996.AHF_profiles', 'cptmarvel.cosmo25cmb.4096g5HbwK1BH.002432.amiga.grp.pynbody-meta', 'cptmarvel.cosmo25cmb.4096g5HbwK1BH.003584.igasorder', 'cptmarvel.cosmo25cmb.4096g5HbwK1BH.002816.amiga.gtp', 'cptmarvel.cosmo25cmb.4096g5HbwK1BH.000896.amiga.gtp', 'cptmarvel.cosmo25cmb.4096g5HbwK1BH.003712.amiga.stat', 'cptmarvel.cosmo25cmb.4096g5HbwK1BH.000818.HI', 'cptmarvel.cosmo25cmb.4096g5HbwK1BH.002432.OxMassFrac', 'cptmarvel.cosmo25cmb.4096g5HbwK1BH.002688.igasorder', 'cptmarvel.cosmo25cmb.4096g5HbwK1BH.003712.z0.103.AHF_halos', 'cptmarvel.cosmo25cmb.4096g5HbwK1BH.002048.z', 'cptmarvel.cosmo25cmb.4096g5HbwK1BH.000482.z3.996.AHF_particles', 'cptmarvel.cosmo25cmb.4096g5HbwK1BH.003584.FeMassFrac', 'cptmarvel.cosmo25cmb.4096g5HbwK1BH.001664.z1.130.AHF_substructure', 'cptmarvel.cosmo25cmb.4096g5HbwK1BH.003840.z0.067.AHF_particles', 'cptmarvel.cosmo25cmb.4096g5HbwK1BH.001543.amiga.gtp', 'cptmarvel.cosmo25cmb.4096g5HbwK1BH.000291.HI', 'cptmarvel.cosmo25cmb.4096g5HbwK1BH.003072.amiga.stat', 'cptmarvel.cosmo25cmb.4096g5HbwK1BH.002176.massform', 'cptmarvel.cosmo25cmb.4096g5HbwK1BH.001543.trace_back_merge.hdf5', 'cptmarvel.cosmo25cmb.4096g5HbwK1BH.003968.z0.033.AHF_halos', 'cptmarvel.cosmo25cmb.4096g5HbwK1BH.003200.z0.266.AHF_profiles', 'cptmarvel.cosmo25cmb.4096g5HbwK1BH.000291.amiga.grp', 'cptmarvel.cosmo25cmb.4096g5HbwK1BH.000768.amiga.grp.pynbody-meta', 'cptmarvel.cosmo25cmb.4096g5HbwK1BH.000199.igasorder', 'cptmarvel.cosmo25cmb.4096g5HbwK1BH.001536.coolontime', 'cptmarvel.cosmo25cmb.4096g5HbwK1BH.002816.z0.414.AHF_fpos', 'cptmarvel.cosmo25cmb.4096g5HbwK1BH.000113.coolontime', 'cptmarvel.cosmo25cmb.4096g5HbwK1BH.002304.z0.665.AHF_particles', 'cptmarvel.cosmo25cmb.4096g5HbwK1BH.000384.z4.813.AHF_fpos', 'cptmarvel.cosmo25cmb.4096g5HbwK1BH.004096.OxMassFrac', 'cptmarvel.cosmo25cmb.4096g5HbwK1BH.001920.igasorder', 'cptmarvel.cosmo25cmb.4096g5HbwK1BH.002560.z0.531.AHF_profiles', 'cptmarvel.cosmo25cmb.4096g5HbwK1BH.000512.trace_back_merge.hdf5', 'cptmarvel.cosmo25cmb.4096g5HbwK1BH.003456.z0.180.AHF_particles', 'cptmarvel.cosmo25cmb.4096g5HbwK1BH.000482.FeMassFrac', 'cptmarvel.cosmo25cmb.4096g5HbwK1BH.000672.FeMassFrac', 'cptmarvel.cosmo25cmb.4096g5HbwK1BH.000291.z5.986.AHF_fpos', 'cptmarvel.cosmo25cmb.4096g5HbwK1BH.003584.z0.140.AHF_profiles', 'cptmarvel.cosmo25cmb.4096g5HbwK1BH.003200.amiga.grp.pynbody-meta', 'cptmarvel.cosmo25cmb.4096g5HbwK1BH.001543.amiga.grp', 'cptmarvel.cosmo25cmb.4096g5HbwK1BH.001536.amiga.stat', 'cptmarvel.cosmo25cmb.4096g5HbwK1BH.001280.z', 'cptmarvel.cosmo25cmb.4096g5HbwK1BH.000291.amiga.gtp', 'cptmarvel.cosmo25cmb.4096g5HbwK1BH.000640.trace_back_merge.hdf5', 'cptmarvel.cosmo25cmb.4096g5HbwK1BH.002944.igasorder', 'cptmarvel.cosmo25cmb.4096g5HbwK1BH.000291.FeMassFrac', 'cptmarvel.cosmo25cmb.4096g5HbwK1BH.000672.z2.998.AHF_profiles', 'cptmarvel.cosmo25cmb.4096g5HbwK1BH.002688.z0.470.AHF_substructure', 'cptmarvel.cosmo25cmb.4096g5HbwK1BH.000512.z3.799.AHF_halos', 'cptmarvel.cosmo25cmb.4096g5HbwK1BH.000291.iord', 'cptmarvel.cosmo25cmb.4096g5HbwK1BH.003636.amiga.grp', 'cptmarvel.cosmo25cmb.4096g5HbwK1BH.003328', 'cptmarvel.cosmo25cmb.4096g5HbwK1BH.001280', 'cptmarvel.cosmo25cmb.4096g5HbwK1BH.002688', 'cptmarvel.cosmo25cmb.4096g5HbwK1BH.001025.OxMassFrac', 'cptmarvel.cosmo25cmb.4096g5HbwK1BH.003072.FeMassFrac', 'cptmarvel.cosmo25cmb.4096g5HbwK1BH.001813.iord', 'cptmarvel.cosmo25cmb.4096g5HbwK1BH.003712', 'cptmarvel.cosmo25cmb.4096g5HbwK1BH.000384.z4.813.AHF_halos', 'cptmarvel.cosmo25cmb.4096g5HbwK1BH.001331.FeMassFrac', 'cptmarvel.cosmo25cmb.4096g5HbwK1BH.002560.z0.531.AHF_halos', 'cptmarvel.cosmo25cmb.4096g5HbwK1BH.003456.z0.180.AHF_profiles', 'cptmarvel.cosmo25cmb.4096g5HbwK1BH.000199.HI', 'cptmarvel.cosmo25cmb.4096g5HbwK1BH.002816.coolontime', 'cptmarvel.cosmo25cmb.4096g5HbwK1BH.000896.z2.289.AHF_profiles', 'cptmarvel.cosmo25cmb.4096g5HbwK1BH.002162.HI', 'cptmarvel.cosmo25cmb.4096g5HbwK1BH.003456.amiga.stat', 'cptmarvel.cosmo25cmb.4096g5HbwK1BH.004096.z0.000.AHF_halos', 'cptmarvel.cosmo25cmb.4096g5HbwK1BH.000672.z', 'cptmarvel.cosmo25cmb.4096g5HbwK1BH.000896.coolontime', 'cptmarvel.cosmo25cmb.4096g5HbwK1BH.001152.z', 'cptmarvel.cosmo25cmb.4096g5HbwK1BH.001920.OxMassFrac', 'cptmarvel.cosmo25cmb.4096g5HbwK1BH.001152.FeMassFrac', 'cptmarvel.cosmo25cmb.4096g5HbwK1BH.000768.z2.653.AHF_halos', 'cptmarvel.cosmo25cmb.4096g5HbwK1BH.001280.amiga.grp.pynbody-meta', 'cptmarvel.cosmo25cmb.4096g5HbwK1BH.000640.amiga.stat', 'cptmarvel.cosmo25cmb.4096g5HbwK1BH.002162.amiga.gtp', 'cptmarvel.cosmo25cmb.4096g5HbwK1BH.000146.HI', 'cptmarvel.cosmo25cmb.4096g5HbwK1BH.001152.igasorder', 'cptmarvel.cosmo25cmb.4096g5HbwK1BH.000482.z', 'cptmarvel.cosmo25cmb.4096g5HbwK1BH.001536.z', 'cptmarvel.cosmo25cmb.4096g5HbwK1BH.000384.iord', 'cptmarvel.cosmo25cmb.4096g5HbwK1BH.001813.amiga.gtp', 'cptmarvel.cosmo25cmb.4096g5HbwK1BH.000199.amiga.grp', 'cptmarvel.cosmo25cmb.4096g5HbwK1BH.002162.z0.750.AHF_substructure', 'cptmarvel.cosmo25cmb.4096g5HbwK1BH.001536.OxMassFrac', 'cptmarvel.cosmo25cmb.4096g5HbwK1BH.000199.OxMassFrac', 'cptmarvel.cosmo25cmb.4096g5HbwK1BH.001331.z1.500.AHF_fpos', 'cptmarvel.cosmo25cmb.4096g5HbwK1BH.003456.massform', 'cptmarvel.cosmo25cmb.4096g5HbwK1BH.001162.z1.749.AHF_fpos', 'cptmarvel.cosmo25cmb.4096g5HbwK1BH.004096.amiga.grp.pynbody-meta', 'cptmarvel.cosmo25cmb.4096g5HbwK1BH.001664.z', 'cptmarvel.cosmo25cmb.4096g5HbwK1BH.003584.z0.140.AHF_fpos', 'cptmarvel.cosmo25cmb.4096g5HbwK1BH.000199.z7.974.AHF_halos', 'cptmarvel.cosmo25cmb.4096g5HbwK1BH.000896.amiga.stat', 'cptmarvel.cosmo25cmb.4096g5HbwK1BH.000768.amiga.gtp', 'cptmarvel.cosmo25cmb.4096g5HbwK1BH.003456.igasorder', 'cptmarvel.cosmo25cmb.4096g5HbwK1BH.001664.z1.130.AHF_fpos', 'cptmarvel.cosmo25cmb.4096g5HbwK1BH.003245.igasorder', 'cptmarvel.cosmo25cmb.4096g5HbwK1BH.002162.amiga.grp.pynbody-meta', 'cptmarvel.cosmo25cmb.4096g5HbwK1BH.000896.z2.289.AHF_halos', 'cptmarvel.cosmo25cmb.4096g5HbwK1BH.002944.z', 'cptmarvel.cosmo25cmb.4096g5HbwK1BH.001543.z1.249.AHF_substructure', 'cptmarvel.cosmo25cmb.4096g5HbwK1BH.000291.z5.986.AHF_substructure', 'cptmarvel.cosmo25cmb.4096g5HbwK1BH.002048.massform', 'cptmarvel.cosmo25cmb.4096g5HbwK1BH.001920.trace_back_merge.hdf5', 'cptmarvel.cosmo25cmb.4096g5HbwK1BH.000199.coolontime', 'cptmarvel.cosmo25cmb.4096g5HbwK1BH.000672.iord', 'cptmarvel.cosmo25cmb.4096g5HbwK1BH.001162.z1.749.AHF_particles', 'cptmarvel.cosmo25cmb.4096g5HbwK1BH.001792.iord', 'cptmarvel.cosmo25cmb.4096g5HbwK1BH.001543.FeMassFrac', 'cptmarvel.cosmo25cmb.4096g5HbwK1BH.000512.z3.799.AHF_fpos', 'cptmarvel.cosmo25cmb.4096g5HbwK1BH.001664.amiga.gtp', 'cptmarvel.cosmo25cmb.4096g5HbwK1BH.000640.iord', 'cptmarvel.cosmo25cmb.4096g5HbwK1BH.002162.z0.750.AHF_fpos', 'cptmarvel.cosmo25cmb.4096g5HbwK1BH.000482', 'cptmarvel.cosmo25cmb.4096g5HbwK1BH.000482.coolontime', 'cptmarvel.cosmo25cmb.4096g5HbwK1BH.003072.z0.312.AHF_substructure', 'cptmarvel.cosmo25cmb.4096g5HbwK1BH.003245.OxMassFrac', 'cptmarvel.cosmo25cmb.4096g5HbwK1BH.002304.amiga.grp.pynbody-meta', 'cptmarvel.cosmo25cmb.4096g5HbwK1BH.003712.amiga.grp.pynbody-meta', 'cptmarvel.cosmo25cmb.4096g5HbwK1BH.002944.z0.362.AHF_halos', 'cptmarvel.cosmo25cmb.4096g5HbwK1BH.002688.HI', 'cptmarvel.cosmo25cmb.4096g5HbwK1BH.003968.OxMassFrac', 'cptmarvel.cosmo25cmb.4096g5HbwK1BH.003636.coolontime', 'cptmarvel.cosmo25cmb.4096g5HbwK1BH.003200.coolontime', 'cptmarvel.cosmo25cmb.4096g5HbwK1BH.001813', 'cptmarvel.cosmo25cmb.4096g5HbwK1BH.000482.amiga.grp', 'cptmarvel.cosmo25cmb.4096g5HbwK1BH.002560.amiga.stat', 'cptmarvel.cosmo25cmb.4096g5HbwK1BH.002560.igasorder', 'cptmarvel.cosmo25cmb.4096g5HbwK1BH.002624.z0.500.AHF_particles', 'cptmarvel.cosmo25cmb.4096g5HbwK1BH.000640.igasorder', 'cptmarvel.cosmo25cmb.4096g5HbwK1BH.001536.amiga.grp.pynbody-meta', 'cptmarvel.cosmo25cmb.4096g5HbwK1BH.002048.amiga.stat', 'cptmarvel.cosmo25cmb.4096g5HbwK1BH.001920.iord', 'cptmarvel.cosmo25cmb.4096g5HbwK1BH.002560.massform', 'cptmarvel.cosmo25cmb.4096g5HbwK1BH.000384.trace_back_merge.hdf5', 'cptmarvel.cosmo25cmb.4096g5HbwK1BH.002162.amiga.grp', 'cptmarvel.cosmo25cmb.4096g5HbwK1BH.004096.amiga.stat', 'cptmarvel.cosmo25cmb.4096g5HbwK1BH.002176.HI', 'cptmarvel.cosmo25cmb.4096g5HbwK1BH.001408.igasorder', 'cptmarvel.cosmo25cmb.4096g5HbwK1BH.000113', 'cptmarvel.cosmo25cmb.4096g5HbwK1BH.000768.z2.653.AHF_substructure', 'cptmarvel.cosmo25cmb.4096g5HbwK1BH.003712.z0.103.AHF_substructure', 'cptmarvel.cosmo25cmb.4096g5HbwK1BH.003328.iord', 'cptmarvel.cosmo25cmb.4096g5HbwK1BH.002304.igasorder', 'cptmarvel.cosmo25cmb.4096g5HbwK1BH.002624.amiga.grp', 'cptmarvel.cosmo25cmb.4096g5HbwK1BH.001408.iord', 'cptmarvel.cosmo25cmb.4096g5HbwK1BH.002162.z0.750.AHF_profiles', 'cptmarvel.cosmo25cmb.4096g5HbwK1BH.003840.z0.067.AHF_profiles', 'cptmarvel.cosmo25cmb.4096g5HbwK1BH.000291.z5.986.AHF_profiles', 'test.txt', 'cptmarvel.cosmo25cmb.4096g5HbwK1BH.001025.z1.999.AHF_substructure', 'cptmarvel.cosmo25cmb.4096g5HbwK1BH.002176.z0.741.AHF_particles', 'cptmarvel.cosmo25cmb.4096g5HbwK1BH.001331.HI', 'cptmarvel.cosmo25cmb.4096g5HbwK1BH.003245.z0.250.AHF_halos', 'cptmarvel.cosmo25cmb.4096g5HbwK1BH.003200.massform', 'cptmarvel.cosmo25cmb.4096g5HbwK1BH.003840.z0.067.AHF_fpos', 'cptmarvel.cosmo25cmb.4096g5HbwK1BH.001408.FeMassFrac', 'cptmarvel.cosmo25cmb.4096g5HbwK1BH.001152.amiga.grp', 'cptmarvel.cosmo25cmb.4096g5HbwK1BH.003328.z0.222.AHF_fpos', 'cptmarvel.cosmo25cmb.4096g5HbwK1BH.002624.coolontime', 'cptmarvel.cosmo25cmb.4096g5HbwK1BH.000291', 'cptmarvel.cosmo25cmb.4096g5HbwK1BH.001920.amiga.grp.pynbody-meta', 'cptmarvel.cosmo25cmb.4096g5HbwK1BH.000818.igasorder', 'cptmarvel.cosmo25cmb.4096g5HbwK1BH.000818.z2.500.AHF_particles', 'cptmarvel.cosmo25cmb.4096g5HbwK1BH.001331.amiga.stat', 'cptmarvel.cosmo25cmb.4096g5HbwK1BH.002944.amiga.grp', 'cptmarvel.cosmo25cmb.4096g5HbwK1BH.002048.coolontime', 'cptmarvel.cosmo25cmb.4096g5HbwK1BH.001543.igasorder', 'cptmarvel.cosmo25cmb.4096g5HbwK1BH.000512.amiga.grp.pynbody-meta', 'cptmarvel.cosmo25cmb.4096g5HbwK1BH.000768.OxMassFrac', 'cptmarvel.cosmo25cmb.4096g5HbwK1BH.001408', 'cptmarvel.cosmo25cmb.4096g5HbwK1BH.003200.OxMassFrac', 'cptmarvel.cosmo25cmb.4096g5HbwK1BH.003245.z0.250.AHF_substructure', 'cptmarvel.cosmo25cmb.4096g5HbwK1BH.000146.massform', 'cptmarvel.cosmo25cmb.4096g5HbwK1BH.002624.massform', 'cptmarvel.cosmo25cmb.4096g5HbwK1BH.002944.amiga.stat', 'cptmarvel.cosmo25cmb.4096g5HbwK1BH.001813.HI', 'cptmarvel.cosmo25cmb.4096g5HbwK1BH.003200.z0.266.AHF_halos', 'cptmarvel.cosmo25cmb.4096g5HbwK1BH.000482.HI', 'cptmarvel.cosmo25cmb.4096g5HbwK1BH.000640.z3.131.AHF_profiles', 'cptmarvel.cosmo25cmb.4096g5HbwK1BH.000818.amiga.gtp', 'cptmarvel.cosmo25cmb.4096g5HbwK1BH.003200.z', 'cptmarvel.cosmo25cmb.4096g5HbwK1BH.002624.amiga.gtp', 'cptmarvel.cosmo25cmb.4096g5HbwK1BH.001408.z', 'cptmarvel.cosmo25cmb.4096g5HbwK1BH.002560.iord', 'cptmarvel.cosmo25cmb.4096g5HbwK1BH.001543.coolontime', 'cptmarvel.cosmo25cmb.4096g5HbwK1BH.003968.z0.033.AHF_profiles', 'cptmarvel.cosmo25cmb.4096g5HbwK1BH.002816.massform', 'cptmarvel.cosmo25cmb.4096g5HbwK1BH.000818.FeMassFrac', 'cptmarvel.cosmo25cmb.4096g5HbwK1BH.001813.z0.999.AHF_profiles', 'cptmarvel.cosmo25cmb.4096g5HbwK1BH.001813.coolontime', 'cptmarvel.cosmo25cmb.4096g5HbwK1BH.002560.amiga.grp.pynbody-meta', 'cptmarvel.cosmo25cmb.4096g5HbwK1BH.003636.FeMassFrac', 'cptmarvel.cosmo25cmb.4096g5HbwK1BH.002944.FeMassFrac', 'cptmarvel.cosmo25cmb.4096g5HbwK1BH.001025.z1.999.AHF_particles', 'cptmarvel.cosmo25cmb.4096g5HbwK1BH.001792.amiga.grp', 'cptmarvel.cosmo25cmb.4096g5HbwK1BH.000640.coolontime', 'cptmarvel.cosmo25cmb.4096g5HbwK1BH.002162.massform', 'cptmarvel.cosmo25cmb.4096g5HbwK1BH.001543.z1.249.AHF_profiles', 'cptmarvel.cosmo25cmb.4096g5HbwK1BH.003200.HI', 'cptmarvel.cosmo25cmb.4096g5HbwK1BH.001664', 'cptmarvel.cosmo25cmb.4096g5HbwK1BH.003245', 'cptmarvel.cosmo25cmb.4096g5HbwK1BH.002432.coolontime', 'cptmarvel.cosmo25cmb.4096g5HbwK1BH.001331', 'cptmarvel.cosmo25cmb.4096g5HbwK1BH.000482.OxMassFrac', 'cptmarvel.cosmo25cmb.4096g5HbwK1BH.003200.amiga.stat', 'cptmarvel.cosmo25cmb.4096g5HbwK1BH.000128.amiga.gtp', 'cptmarvel.cosmo25cmb.4096g5HbwK1BH.003968.amiga.grp', 'cptmarvel.cosmo25cmb.4096g5HbwK1BH.001664.z1.130.AHF_profiles', 'cptmarvel.cosmo25cmb.4096g5HbwK1BH.000640.z3.131.AHF_halos', 'cptmarvel.cosmo25cmb.4096g5HbwK1BH.001920.z0.916.AHF_particles', 'cptmarvel.cosmo25cmb.4096g5HbwK1BH.000818.OxMassFrac', 'cptmarvel.cosmo25cmb.4096g5HbwK1BH.001331.z', 'cptmarvel.cosmo25cmb.4096g5HbwK1BH.003245.iord', 'cptmarvel.cosmo25cmb.4096g5HbwK1BH.000672.z2.998.AHF_substructure', 'cptmarvel.cosmo25cmb.4096g5HbwK1BH.000482.z3.996.AHF_fpos', 'cptmarvel.cosmo25cmb.4096g5HbwK1BH.001162.z1.749.AHF_profiles', 'cptmarvel.cosmo25cmb.4096g5HbwK1BH.002432.z0.595.AHF_fpos', 'cptmarvel.cosmo25cmb.4096g5HbwK1BH.000768.FeMassFrac', 'cptmarvel.cosmo25cmb.4096g5HbwK1BH.003456.amiga.grp', 'cptmarvel.cosmo25cmb.4096g5HbwK1BH.000896.z2.289.AHF_substructure', 'cptmarvel.cosmo25cmb.4096g5HbwK1BH.000199.amiga.stat', 'cptmarvel.cosmo25cmb.4096g5HbwK1BH.002162.coolontime', 'cptmarvel.cosmo25cmb.4096g5HbwK1BH.000128.amiga.stat', 'cptmarvel.cosmo25cmb.4096g5HbwK1BH.001792.z', 'cptmarvel.cosmo25cmb.4096g5HbwK1BH.003840.amiga.stat', 'cptmarvel.cosmo25cmb.4096g5HbwK1BH.001792.OxMassFrac', 'cptmarvel.cosmo25cmb.4096g5HbwK1BH.001664.massform', 'cptmarvel.cosmo25cmb.4096g5HbwK1BH.001162.coolontime', 'cptmarvel.cosmo25cmb.4096g5HbwK1BH.002432.massform', 'cptmarvel.cosmo25cmb.4096g5HbwK1BH.001280.massform', 'cptmarvel.cosmo25cmb.4096g5HbwK1BH.001280.amiga.gtp', 'cptmarvel.cosmo25cmb.4096g5HbwK1BH.001152.iord', 'cptmarvel.cosmo25cmb.4096g5HbwK1BH.002162.FeMassFrac', 'cptmarvel.cosmo25cmb.4096g5HbwK1BH.000113.z', 'cptmarvel.cosmo25cmb.4096g5HbwK1BH.001920.massform', 'cptmarvel.cosmo25cmb.4096g5HbwK1BH.002432.amiga.stat', 'cptmarvel.cosmo25cmb.4096g5HbwK1BH.002688.FeMassFrac', 'cptmarvel.cosmo25cmb.4096g5HbwK1BH.002560.HI', 'cptmarvel.cosmo25cmb.4096g5HbwK1BH.000128.HI', 'cptmarvel.cosmo25cmb.4096g5HbwK1BH.000482.massform', 'cptmarvel.cosmo25cmb.4096g5HbwK1BH.002624.z0.500.AHF_substructure', 'cptmarvel.cosmo25cmb.4096g5HbwK1BH.001280.amiga.stat', 'cptmarvel.cosmo25cmb.4096g5HbwK1BH.000818.z2.500.AHF_substructure', 'cptmarvel.cosmo25cmb.4096g5HbwK1BH.001543.massform', 'cptmarvel.cosmo25cmb.4096g5HbwK1BH.003636.amiga.grp.pynbody-meta', 'cptmarvel.cosmo25cmb.4096g5HbwK1BH.000146.FeMassFrac', 'cptmarvel.cosmo25cmb.4096g5HbwK1BH.001792.z1.017.AHF_fpos', 'cptmarvel.cosmo25cmb.4096g5HbwK1BH.001536', 'cptmarvel.cosmo25cmb.4096g5HbwK1BH.001408.massform', 'cptmarvel.cosmo25cmb.4096g5HbwK1BH.003072.z0.312.AHF_profiles', 'cptmarvel.cosmo25cmb.4096g5HbwK1BH.000146.OxMassFrac']\n"
     ]
    },
    {
     "data": {
      "text/plain": [
       "{'omegaM0': 0.24,\n",
       " 'omegaL0': 0.76,\n",
       " 'h': 0.7299490542599526,\n",
       " 'boxsize': Unit(\"2.50e+04 kpc a\"),\n",
       " 'a': 1.0000000000142635,\n",
       " 'time': Unit(\"1.40e+01 s kpc km**-1\")}"
      ]
     },
     "execution_count": 103,
     "metadata": {},
     "output_type": "execute_result"
    }
   ],
   "source": [
    "# boxsize, mass unit, vel unit, h\n",
    "\n",
    "import pynbody\n",
    "\n",
    "print(os.listdir('/home/selvani/MAP/Sims/cptmarvel.cosmo25cmb/cptmarvel.cosmo25cmb.4096g5HbwK1BH/cptmarvel.4096g5HbwK1BH_bn/'))\n",
    "\n",
    "s = pynbody.load('/home/selvani/MAP/Sims/cptmarvel.cosmo25cmb/cptmarvel.cosmo25cmb.4096g5HbwK1BH/cptmarvel.4096g5HbwK1BH_bn/cptmarvel.cosmo25cmb.4096g5HbwK1BH.004096')\n",
    "s.properties"
   ]
  },
  {
   "cell_type": "code",
   "execution_count": 11,
   "id": "ce6869a2",
   "metadata": {},
   "outputs": [
    {
     "name": "stdout",
     "output_type": "stream",
     "text": [
      "Starting server in PID 67784.\n",
      "2025-07-25 15:54:10,352 INFO  [waitress:449][MainThread] Serving on http://[::1]:6543\n",
      "2025-07-25 15:54:10,352 INFO  [waitress:449][MainThread] Serving on http://127.0.0.1:6543\n",
      "2025-07-25 15:54:21,074 : Tree build complete; total time 1.28s\n",
      "2025-07-25 15:54:21,074 INFO  [tangos.log:72][waitress-0] Tree build complete; total time 1.28s\n",
      "2025-07-25 15:54:21,074 :   Progenitor query took 1.09s\n",
      "2025-07-25 15:54:21,074 INFO  [tangos.log:73][waitress-0]   Progenitor query took 1.09s\n",
      "2025-07-25 15:54:21,074 :   Property query took 0.01s\n",
      "2025-07-25 15:54:21,074 INFO  [tangos.log:74][waitress-0]   Property query took 0.01s\n",
      "2025-07-25 15:54:21,074 :   Tree post-processing took 0.18s\n",
      "2025-07-25 15:54:21,074 INFO  [tangos.log:75][waitress-0]   Tree post-processing took 0.18s\n",
      "2025-07-25 15:54:31,899 : Tree build complete; total time 0.31s\n",
      "2025-07-25 15:54:31,899 INFO  [tangos.log:72][waitress-0] Tree build complete; total time 0.31s\n",
      "2025-07-25 15:54:31,899 :   Progenitor query took 0.24s\n",
      "2025-07-25 15:54:31,899 INFO  [tangos.log:73][waitress-0]   Progenitor query took 0.24s\n",
      "2025-07-25 15:54:31,899 :   Property query took 0.01s\n",
      "2025-07-25 15:54:31,899 INFO  [tangos.log:74][waitress-0]   Property query took 0.01s\n",
      "2025-07-25 15:54:31,899 :   Tree post-processing took 0.07s\n",
      "2025-07-25 15:54:31,899 INFO  [tangos.log:75][waitress-0]   Tree post-processing took 0.07s\n",
      "2025-07-25 15:54:40,786 : Tree build complete; total time 0.98s\n",
      "2025-07-25 15:54:40,786 INFO  [tangos.log:72][waitress-0] Tree build complete; total time 0.98s\n",
      "2025-07-25 15:54:40,786 :   Progenitor query took 0.77s\n",
      "2025-07-25 15:54:40,786 INFO  [tangos.log:73][waitress-0]   Progenitor query took 0.77s\n",
      "2025-07-25 15:54:40,786 :   Property query took 0.01s\n",
      "2025-07-25 15:54:40,786 INFO  [tangos.log:74][waitress-0]   Property query took 0.01s\n",
      "2025-07-25 15:54:40,786 :   Tree post-processing took 0.20s\n",
      "2025-07-25 15:54:40,786 INFO  [tangos.log:75][waitress-0]   Tree post-processing took 0.20s\n",
      "2025-07-25 15:54:44,157 ERROR [root:174][waitress-3] Exception in get_property_data\n",
      "Traceback (most recent call last):\n",
      "  File \"/home/selvani/anaconda3/envs/conda-env-py311/lib/python3.11/site-packages/tangos/web/views/halo_data.py\", line 171, in get_property_data\n",
      "    result, p_info = _get_property_from_halo_and_name(halo, property_name_or_result)\n",
      "                     ^^^^^^^^^^^^^^^^^^^^^^^^^^^^^^^^^^^^^^^^^^^^^^^^^^^^^^^^^^^^^^^\n",
      "  File \"/home/selvani/anaconda3/envs/conda-env-py311/lib/python3.11/site-packages/tangos/web/views/halo_data.py\", line 43, in g\n",
      "    v = func(*args)\n",
      "        ^^^^^^^^^^^\n",
      "  File \"/home/selvani/anaconda3/envs/conda-env-py311/lib/python3.11/site-packages/tangos/web/views/halo_data.py\", line 429, in _get_property_from_halo_and_name\n",
      "    return halo.calculate(name, True)\n",
      "           ^^^^^^^^^^^^^^^^^^^^^^^^^^\n",
      "  File \"/home/selvani/anaconda3/envs/conda-env-py311/lib/python3.11/site-packages/tangos/core/halo.py\", line 181, in calculate\n",
      "    (value,), description = calculation.values_sanitized_and_description([self], Session.object_session(self))\n",
      "                            ^^^^^^^^^^^^^^^^^^^^^^^^^^^^^^^^^^^^^^^^^^^^^^^^^^^^^^^^^^^^^^^^^^^^^^^^^^^^^^^^^^\n",
      "  File \"/home/selvani/anaconda3/envs/conda-env-py311/lib/python3.11/site-packages/tangos/live_calculation/__init__.py\", line 137, in values_sanitized_and_description\n",
      "    return self._sanitize_values(values, load_into_session), desc\n",
      "           ^^^^^^^^^^^^^^^^^^^^^^^^^^^^^^^^^^^^^^^^^^^^^^^^\n",
      "  File \"/home/selvani/anaconda3/envs/conda-env-py311/lib/python3.11/site-packages/tangos/live_calculation/__init__.py\", line 184, in _sanitize_values\n",
      "    raise NoResultsError(\"Calculation %s returned no results\" % self)\n",
      "tangos.live_calculation.NoResultsError: Calculation shrink_center returned no results\n",
      "2025-07-25 15:54:44,755 : Tree build complete; total time 1.61s\n",
      "2025-07-25 15:54:44,755 INFO  [tangos.log:72][waitress-0] Tree build complete; total time 1.61s\n",
      "2025-07-25 15:54:44,755 :   Progenitor query took 0.92s\n",
      "2025-07-25 15:54:44,755 INFO  [tangos.log:73][waitress-0]   Progenitor query took 0.92s\n",
      "2025-07-25 15:54:44,755 :   Property query took 0.01s\n",
      "2025-07-25 15:54:44,755 INFO  [tangos.log:74][waitress-0]   Property query took 0.01s\n",
      "2025-07-25 15:54:44,755 :   Tree post-processing took 0.67s\n",
      "2025-07-25 15:54:44,755 INFO  [tangos.log:75][waitress-0]   Tree post-processing took 0.67s\n",
      "^C\n"
     ]
    }
   ],
   "source": [
    "!tangos serve"
   ]
  },
  {
   "cell_type": "code",
   "execution_count": 105,
   "id": "8b22aa1f",
   "metadata": {},
   "outputs": [],
   "source": [
    "stars = s.s"
   ]
  },
  {
   "cell_type": "code",
   "execution_count": 114,
   "id": "b9e46cd6",
   "metadata": {},
   "outputs": [
    {
     "data": {
      "text/plain": [
       "SimArray([ 1.35174602e+01,  1.35124357e+01,  1.35082486e+01, ...,\n",
       "          -6.11688358e-05, -6.11688358e-05, -6.11688358e-05],\n",
       "         shape=(414599,), 'Gyr')"
      ]
     },
     "execution_count": 114,
     "metadata": {},
     "output_type": "execute_result"
    }
   ],
   "source": [
    "stars['age'].in_units('Gyr')"
   ]
  },
  {
   "cell_type": "code",
   "execution_count": 115,
   "id": "e1f783d9",
   "metadata": {},
   "outputs": [
    {
     "data": {
      "text/plain": [
       "SimArray([ 0.21365837,  0.21868286,  0.22286992, ..., 13.7311797 ,\n",
       "          13.7311797 , 13.7311797 ], shape=(414599,), 'Gyr')"
      ]
     },
     "execution_count": 115,
     "metadata": {},
     "output_type": "execute_result"
    }
   ],
   "source": [
    "stars['tform'].in_units('Gyr')"
   ]
  },
  {
   "cell_type": "code",
   "execution_count": 118,
   "id": "6027f05c",
   "metadata": {},
   "outputs": [],
   "source": [
    "halos = s.halos()"
   ]
  },
  {
   "cell_type": "code",
   "execution_count": 119,
   "id": "6ef892d0",
   "metadata": {},
   "outputs": [
    {
     "ename": "AttributeError",
     "evalue": "'SubhaloCatalogue' object has no attribute 'in_units'",
     "output_type": "error",
     "traceback": [
      "\u001b[31m---------------------------------------------------------------------------\u001b[39m",
      "\u001b[31mAttributeError\u001b[39m                            Traceback (most recent call last)",
      "\u001b[36mCell\u001b[39m\u001b[36m \u001b[39m\u001b[32mIn[119]\u001b[39m\u001b[32m, line 1\u001b[39m\n\u001b[32m----> \u001b[39m\u001b[32m1\u001b[39m halos[\u001b[33m'\u001b[39m\u001b[33mpos\u001b[39m\u001b[33m'\u001b[39m].in_units(\u001b[33m'\u001b[39m\u001b[33mkpc\u001b[39m\u001b[33m'\u001b[39m)\n",
      "\u001b[31mAttributeError\u001b[39m: 'SubhaloCatalogue' object has no attribute 'in_units'"
     ]
    }
   ],
   "source": [
    "halos['pos'].in_units('kpc')"
   ]
  },
  {
   "cell_type": "code",
   "execution_count": 117,
   "id": "eea03098",
   "metadata": {},
   "outputs": [
    {
     "data": {
      "text/plain": [
       "SimArray([[  188.98196286,  -441.26994908,  1448.17242401],\n",
       "          [  189.13126551,  -440.93732723,  1447.86080348],\n",
       "          [  189.34544642,  -440.64465911,  1448.39063289],\n",
       "          ...,\n",
       "          [  566.63681754,  -234.70097222,  1668.89894756],\n",
       "          [ -563.58575822,  -739.46160265,  1163.97785025],\n",
       "          [-1974.30718693, -2313.09272352,   533.08499046]],\n",
       "         shape=(414599, 3), 'kpc')"
      ]
     },
     "execution_count": 117,
     "metadata": {},
     "output_type": "execute_result"
    }
   ],
   "source": [
    "stars['pos'].in_units('kpc')"
   ]
  },
  {
   "cell_type": "code",
   "execution_count": 112,
   "id": "cf0dd804",
   "metadata": {},
   "outputs": [
    {
     "data": {
      "text/plain": [
       "SimArray([[ 35.8012164 , -61.13322961,  50.41188651],\n",
       "          [ 30.08138783, -47.59994133,  40.65547787],\n",
       "          [ 31.14195046, -61.25638715,  41.8654215 ],\n",
       "          ...,\n",
       "          [ 19.43312753,   9.88569869,  44.19992337],\n",
       "          [ -9.5371297 , -59.62350931,  23.09402733],\n",
       "          [-89.22849431, -72.43745011,  -7.20320855]], shape=(414599, 3), 'km s**-1')"
      ]
     },
     "execution_count": 112,
     "metadata": {},
     "output_type": "execute_result"
    }
   ],
   "source": [
    "stars['vel'].in_units('km s**-1')"
   ]
  },
  {
   "cell_type": "code",
   "execution_count": 109,
   "id": "ec4e2d60",
   "metadata": {},
   "outputs": [
    {
     "data": {
      "text/plain": [
       "['HII',\n",
       " 'HeIII',\n",
       " 'ne',\n",
       " 'hetot',\n",
       " 'hydrogen',\n",
       " 'feh',\n",
       " 'oxh',\n",
       " 'ofe',\n",
       " 'mgfe',\n",
       " 'nefe',\n",
       " 'sife',\n",
       " 'c_s',\n",
       " 'c_s_turb',\n",
       " 'mjeans',\n",
       " 'mjeans_turb',\n",
       " 'ljeans',\n",
       " 'ljeans_turb',\n",
       " 'U_mag',\n",
       " 'U_lum_den',\n",
       " 'B_mag',\n",
       " 'B_lum_den',\n",
       " 'V_mag',\n",
       " 'V_lum_den',\n",
       " 'R_mag',\n",
       " 'R_lum_den',\n",
       " 'I_mag',\n",
       " 'I_lum_den',\n",
       " 'J_mag',\n",
       " 'J_lum_den',\n",
       " 'H_mag',\n",
       " 'H_lum_den',\n",
       " 'K_mag',\n",
       " 'K_lum_den',\n",
       " 'u_mag',\n",
       " 'u_lum_den',\n",
       " 'g_mag',\n",
       " 'g_lum_den',\n",
       " 'r_mag',\n",
       " 'r_lum_den',\n",
       " 'i_mag',\n",
       " 'i_lum_den',\n",
       " 'z_mag',\n",
       " 'z_lum_den',\n",
       " 'y_mag',\n",
       " 'y_lum_den',\n",
       " 'r',\n",
       " 'rxy',\n",
       " 'vr',\n",
       " 'v2',\n",
       " 'vt',\n",
       " 'ke',\n",
       " 'te',\n",
       " 'j',\n",
       " 'j2',\n",
       " 'jz',\n",
       " 'vrxy',\n",
       " 'vcxy',\n",
       " 'vphi',\n",
       " 'vtheta',\n",
       " 'v_mean',\n",
       " 'v_disp',\n",
       " 'v_curl',\n",
       " 'vorticity',\n",
       " 'v_div',\n",
       " 'age',\n",
       " 'theta',\n",
       " 'alt',\n",
       " 'az',\n",
       " 'cs',\n",
       " 'mu',\n",
       " 'p',\n",
       " 'u',\n",
       " 'temp',\n",
       " 'zeldovich_offset',\n",
       " 'aform',\n",
       " 'tform',\n",
       " 'iord_argsort',\n",
       " 'smooth',\n",
       " 'rho',\n",
       " 'mass_holder',\n",
       " 'HI_frac',\n",
       " 'HI_mass',\n",
       " 'HI_N']"
      ]
     },
     "execution_count": 109,
     "metadata": {},
     "output_type": "execute_result"
    }
   ],
   "source": [
    "stars.derivable_keys()"
   ]
  },
  {
   "cell_type": "code",
   "execution_count": 11,
   "id": "75f2ab27",
   "metadata": {},
   "outputs": [
    {
     "name": "stdout",
     "output_type": "stream",
     "text": [
      "2.31e+15 Msol\n",
      "6.30e+02 km a s**-1\n"
     ]
    }
   ],
   "source": [
    "print(s['mass'].units)\n",
    "print(s['vel'].units)"
   ]
  },
  {
   "cell_type": "code",
   "execution_count": 14,
   "id": "b15bd1cd",
   "metadata": {},
   "outputs": [
    {
     "data": {
      "text/plain": [
       "'002688'"
      ]
     },
     "execution_count": 14,
     "metadata": {},
     "output_type": "execute_result"
    }
   ],
   "source": [
    "result = 'cosmo25cmb.4096g5HbwK1BH_stardata_002688.h5'\n",
    "result.split('.')[-2][-6:]"
   ]
  },
  {
   "cell_type": "markdown",
   "id": "d8737953",
   "metadata": {},
   "source": [
    "### Make new amiga.grp files"
   ]
  },
  {
   "cell_type": "code",
   "execution_count": 8,
   "id": "2652d761",
   "metadata": {},
   "outputs": [],
   "source": [
    "steps = [step.extension for step in tangos.get_simulation(\"cptmarvel.4096g5HbwK1BH_bn\").timesteps]"
   ]
  },
  {
   "cell_type": "code",
   "execution_count": null,
   "id": "9b8a4c4b",
   "metadata": {},
   "outputs": [],
   "source": [
    "def create_thread_groups(items, n_threads):\n",
    "    \"\"\"\n",
    "    Split items into groups for parallel processing\n",
    "    \n",
    "    Parameters:\n",
    "    -----------\n",
    "    items : list or array\n",
    "        Items to be processed (in your case, the steps)\n",
    "    n_threads : int\n",
    "        Number of threads/processes to use\n",
    "        \n",
    "    Returns:\n",
    "    --------\n",
    "    groups : list of lists\n",
    "        Each sublist contains items for one thread to process\n",
    "    \"\"\"\n",
    "    import math\n",
    "    items = list(items)  # Ensure it's a list\n",
    "    n_items = len(items)\n",
    "    \n",
    "    if n_threads >= n_items:\n",
    "        # If more threads than items, give each item its own thread\n",
    "        return [[item] for item in items]\n",
    "    \n",
    "    # Calculate items per thread\n",
    "    items_per_thread = math.ceil(n_items / n_threads)\n",
    "    \n",
    "    groups = []\n",
    "    for i in range(0, n_items, items_per_thread):\n",
    "        group = items[i:i + items_per_thread]\n",
    "        groups.append(group)\n",
    "    \n",
    "    return groups\n",
    "\n",
    "import pynbody\n",
    "import tqdm.auto as tqdm\n",
    "import time\n",
    "\n",
    "from multiprocessing import Pool\n",
    "\n",
    "def process_step(step):\n",
    "    if type(step) is not str:\n",
    "        pbar = tqdm.tqdm(total=len(step))\n",
    "        for st in step:\n",
    "            _process_step(st)\n",
    "            pbar.update(1)\n",
    "        pbar.close()\n",
    "    else:\n",
    "        _process_step(step)\n",
    "    return 0    \n",
    "\n",
    "def _process_step(step):\n",
    "    path = sim_base + step\n",
    "    # print(path)\n",
    "    # time.sleep(1)\n",
    "    print('Loading <{}>'.format(step))\n",
    "    f = pynbody.load(path)\n",
    "    print('  Loading halos for <{}>'.format(step))\n",
    "    try:\n",
    "        h = f.halos(halo_numbers='v1')\n",
    "        print('    Writing amiga.grp for <{}>'.format(step))\n",
    "        f['amiga.grp'] = h.get_group_array()\n",
    "        f['amiga.grp'].write(overwrite=True)\n",
    "        print('    Finished writing amiga.grp for <{}>'.format(step))\n",
    "    except Exception as e:\n",
    "        print('  ERROR loading halos for <{}>: {}'.format(step, e))"
   ]
  },
  {
   "cell_type": "code",
   "execution_count": 33,
   "id": "5b23b750",
   "metadata": {},
   "outputs": [
    {
     "name": "stdout",
     "output_type": "stream",
     "text": [
      "['cptmarvel.cosmo25cmb.4096g5HbwK1BH.000199', 'cptmarvel.cosmo25cmb.4096g5HbwK1BH.000291', 'cptmarvel.cosmo25cmb.4096g5HbwK1BH.000384', 'cptmarvel.cosmo25cmb.4096g5HbwK1BH.000482']\n",
      "['cptmarvel.cosmo25cmb.4096g5HbwK1BH.000512', 'cptmarvel.cosmo25cmb.4096g5HbwK1BH.000640', 'cptmarvel.cosmo25cmb.4096g5HbwK1BH.000672', 'cptmarvel.cosmo25cmb.4096g5HbwK1BH.000768']\n",
      "['cptmarvel.cosmo25cmb.4096g5HbwK1BH.000818', 'cptmarvel.cosmo25cmb.4096g5HbwK1BH.000896', 'cptmarvel.cosmo25cmb.4096g5HbwK1BH.001025', 'cptmarvel.cosmo25cmb.4096g5HbwK1BH.001152']\n",
      "['cptmarvel.cosmo25cmb.4096g5HbwK1BH.001162', 'cptmarvel.cosmo25cmb.4096g5HbwK1BH.001280', 'cptmarvel.cosmo25cmb.4096g5HbwK1BH.001331', 'cptmarvel.cosmo25cmb.4096g5HbwK1BH.001408']\n",
      "['cptmarvel.cosmo25cmb.4096g5HbwK1BH.001536', 'cptmarvel.cosmo25cmb.4096g5HbwK1BH.001543', 'cptmarvel.cosmo25cmb.4096g5HbwK1BH.001664', 'cptmarvel.cosmo25cmb.4096g5HbwK1BH.001792']\n",
      "['cptmarvel.cosmo25cmb.4096g5HbwK1BH.001813', 'cptmarvel.cosmo25cmb.4096g5HbwK1BH.001920', 'cptmarvel.cosmo25cmb.4096g5HbwK1BH.002048', 'cptmarvel.cosmo25cmb.4096g5HbwK1BH.002162']\n",
      "['cptmarvel.cosmo25cmb.4096g5HbwK1BH.002176', 'cptmarvel.cosmo25cmb.4096g5HbwK1BH.002304', 'cptmarvel.cosmo25cmb.4096g5HbwK1BH.002432', 'cptmarvel.cosmo25cmb.4096g5HbwK1BH.002560']\n",
      "['cptmarvel.cosmo25cmb.4096g5HbwK1BH.002624', 'cptmarvel.cosmo25cmb.4096g5HbwK1BH.002688', 'cptmarvel.cosmo25cmb.4096g5HbwK1BH.002816', 'cptmarvel.cosmo25cmb.4096g5HbwK1BH.002944']\n",
      "['cptmarvel.cosmo25cmb.4096g5HbwK1BH.003072', 'cptmarvel.cosmo25cmb.4096g5HbwK1BH.003200', 'cptmarvel.cosmo25cmb.4096g5HbwK1BH.003245', 'cptmarvel.cosmo25cmb.4096g5HbwK1BH.003328']\n",
      "['cptmarvel.cosmo25cmb.4096g5HbwK1BH.003456', 'cptmarvel.cosmo25cmb.4096g5HbwK1BH.003584', 'cptmarvel.cosmo25cmb.4096g5HbwK1BH.003636', 'cptmarvel.cosmo25cmb.4096g5HbwK1BH.003712']\n",
      "['cptmarvel.cosmo25cmb.4096g5HbwK1BH.003840', 'cptmarvel.cosmo25cmb.4096g5HbwK1BH.003968', 'cptmarvel.cosmo25cmb.4096g5HbwK1BH.004096']\n"
     ]
    }
   ],
   "source": [
    "n_threads = 12\n",
    "\n",
    "groups = create_thread_groups(steps, n_threads=n_threads)\n",
    "for group in groups:\n",
    "    print(group)"
   ]
  },
  {
   "cell_type": "code",
   "execution_count": 34,
   "id": "35a8bf7f",
   "metadata": {},
   "outputs": [
    {
     "name": "stdout",
     "output_type": "stream",
     "text": [
      "Loading <cptmarvel.cosmo25cmb.4096g5HbwK1BH.001536>\n",
      "Loading <cptmarvel.cosmo25cmb.4096g5HbwK1BH.003456>Loading <cptmarvel.cosmo25cmb.4096g5HbwK1BH.000818>Loading <cptmarvel.cosmo25cmb.4096g5HbwK1BH.000199>\n",
      "\n",
      "\n",
      "Loading <cptmarvel.cosmo25cmb.4096g5HbwK1BH.001813>\n",
      "Loading <cptmarvel.cosmo25cmb.4096g5HbwK1BH.002176>\n",
      "Loading <cptmarvel.cosmo25cmb.4096g5HbwK1BH.003840>\n",
      "Loading <cptmarvel.cosmo25cmb.4096g5HbwK1BH.001162>\n",
      "Loading <cptmarvel.cosmo25cmb.4096g5HbwK1BH.003072>Loading <cptmarvel.cosmo25cmb.4096g5HbwK1BH.000512>\n",
      "\n",
      "Loading <cptmarvel.cosmo25cmb.4096g5HbwK1BH.002624>\n",
      "  Loading halos for <cptmarvel.cosmo25cmb.4096g5HbwK1BH.001536>\n",
      "  Loading halos for <cptmarvel.cosmo25cmb.4096g5HbwK1BH.000818>\n",
      "  Loading halos for <cptmarvel.cosmo25cmb.4096g5HbwK1BH.001813>\n",
      "  Loading halos for <cptmarvel.cosmo25cmb.4096g5HbwK1BH.003456>\n",
      "  Loading halos for <cptmarvel.cosmo25cmb.4096g5HbwK1BH.000199>\n",
      "  Loading halos for <cptmarvel.cosmo25cmb.4096g5HbwK1BH.002624>\n",
      "  Loading halos for <cptmarvel.cosmo25cmb.4096g5HbwK1BH.003840>\n",
      "  Loading halos for <cptmarvel.cosmo25cmb.4096g5HbwK1BH.003072>\n",
      "  Loading halos for <cptmarvel.cosmo25cmb.4096g5HbwK1BH.002176>\n",
      "  Loading halos for <cptmarvel.cosmo25cmb.4096g5HbwK1BH.000512>\n",
      "  Loading halos for <cptmarvel.cosmo25cmb.4096g5HbwK1BH.001162>\n",
      "    Writing amiga.grp for <cptmarvel.cosmo25cmb.4096g5HbwK1BH.000199>\n"
     ]
    },
    {
     "name": "stderr",
     "output_type": "stream",
     "text": [
      "pynbody.halo : Unable to load AHF substructure file; continuing without. To expose the underlying problem as an exception, pass ignore_missing_substructure=False to the AHFCatalogue constructor\n"
     ]
    },
    {
     "name": "stdout",
     "output_type": "stream",
     "text": [
      "    Writing amiga.grp for <cptmarvel.cosmo25cmb.4096g5HbwK1BH.000512>\n"
     ]
    },
    {
     "name": "stderr",
     "output_type": "stream",
     "text": [
      "pynbody.halo : Unable to load AHF substructure file; continuing without. To expose the underlying problem as an exception, pass ignore_missing_substructure=False to the AHFCatalogue constructor\n"
     ]
    },
    {
     "name": "stdout",
     "output_type": "stream",
     "text": [
      "    Writing amiga.grp for <cptmarvel.cosmo25cmb.4096g5HbwK1BH.001536>\n"
     ]
    },
    {
     "name": "stderr",
     "output_type": "stream",
     "text": [
      "pynbody.halo : Unable to load AHF substructure file; continuing without. To expose the underlying problem as an exception, pass ignore_missing_substructure=False to the AHFCatalogue constructor\n"
     ]
    },
    {
     "name": "stdout",
     "output_type": "stream",
     "text": [
      "    Writing amiga.grp for <cptmarvel.cosmo25cmb.4096g5HbwK1BH.000818>\n"
     ]
    },
    {
     "name": "stderr",
     "output_type": "stream",
     "text": [
      "pynbody.halo : Unable to load AHF substructure file; continuing without. To expose the underlying problem as an exception, pass ignore_missing_substructure=False to the AHFCatalogue constructor\n",
      "pynbody.halo : Unable to load AHF substructure file; continuing without. To expose the underlying problem as an exception, pass ignore_missing_substructure=False to the AHFCatalogue constructor\n"
     ]
    },
    {
     "name": "stdout",
     "output_type": "stream",
     "text": [
      "    Writing amiga.grp for <cptmarvel.cosmo25cmb.4096g5HbwK1BH.002624>\n",
      "    Writing amiga.grp for <cptmarvel.cosmo25cmb.4096g5HbwK1BH.003840>\n"
     ]
    },
    {
     "name": "stderr",
     "output_type": "stream",
     "text": [
      "pynbody.halo : Unable to load AHF substructure file; continuing without. To expose the underlying problem as an exception, pass ignore_missing_substructure=False to the AHFCatalogue constructor\n"
     ]
    },
    {
     "name": "stdout",
     "output_type": "stream",
     "text": [
      "    Writing amiga.grp for <cptmarvel.cosmo25cmb.4096g5HbwK1BH.002176>\n"
     ]
    },
    {
     "name": "stderr",
     "output_type": "stream",
     "text": [
      "pynbody.halo : Unable to load AHF substructure file; continuing without. To expose the underlying problem as an exception, pass ignore_missing_substructure=False to the AHFCatalogue constructor\n"
     ]
    },
    {
     "name": "stdout",
     "output_type": "stream",
     "text": [
      "    Writing amiga.grp for <cptmarvel.cosmo25cmb.4096g5HbwK1BH.001162>\n"
     ]
    },
    {
     "name": "stderr",
     "output_type": "stream",
     "text": [
      "pynbody.halo : Unable to load AHF substructure file; continuing without. To expose the underlying problem as an exception, pass ignore_missing_substructure=False to the AHFCatalogue constructor\n",
      "pynbody.halo : Unable to load AHF substructure file; continuing without. To expose the underlying problem as an exception, pass ignore_missing_substructure=False to the AHFCatalogue constructor\n"
     ]
    },
    {
     "name": "stdout",
     "output_type": "stream",
     "text": [
      "    Writing amiga.grp for <cptmarvel.cosmo25cmb.4096g5HbwK1BH.001813>\n",
      "    Writing amiga.grp for <cptmarvel.cosmo25cmb.4096g5HbwK1BH.003072>\n"
     ]
    },
    {
     "name": "stderr",
     "output_type": "stream",
     "text": [
      "pynbody.halo : Unable to load AHF substructure file; continuing without. To expose the underlying problem as an exception, pass ignore_missing_substructure=False to the AHFCatalogue constructor\n"
     ]
    },
    {
     "name": "stdout",
     "output_type": "stream",
     "text": [
      "    Writing amiga.grp for <cptmarvel.cosmo25cmb.4096g5HbwK1BH.003456>\n",
      "    Finished writing amiga.grp for <cptmarvel.cosmo25cmb.4096g5HbwK1BH.000199>\n",
      "Loading <cptmarvel.cosmo25cmb.4096g5HbwK1BH.000291>\n",
      "  Loading halos for <cptmarvel.cosmo25cmb.4096g5HbwK1BH.000291>\n"
     ]
    },
    {
     "name": "stderr",
     "output_type": "stream",
     "text": [
      "pynbody.halo : Unable to load AHF substructure file; continuing without. To expose the underlying problem as an exception, pass ignore_missing_substructure=False to the AHFCatalogue constructor\n"
     ]
    },
    {
     "name": "stdout",
     "output_type": "stream",
     "text": [
      "    Writing amiga.grp for <cptmarvel.cosmo25cmb.4096g5HbwK1BH.000291>\n",
      "    Finished writing amiga.grp for <cptmarvel.cosmo25cmb.4096g5HbwK1BH.000512>\n",
      "Loading <cptmarvel.cosmo25cmb.4096g5HbwK1BH.000640>\n",
      "    Finished writing amiga.grp for <cptmarvel.cosmo25cmb.4096g5HbwK1BH.000818>\n",
      "Loading <cptmarvel.cosmo25cmb.4096g5HbwK1BH.000896>\n",
      "  Loading halos for <cptmarvel.cosmo25cmb.4096g5HbwK1BH.000640>\n",
      "  Loading halos for <cptmarvel.cosmo25cmb.4096g5HbwK1BH.000896>\n",
      "    Finished writing amiga.grp for <cptmarvel.cosmo25cmb.4096g5HbwK1BH.001536>\n",
      "Loading <cptmarvel.cosmo25cmb.4096g5HbwK1BH.001543>\n",
      "    Finished writing amiga.grp for <cptmarvel.cosmo25cmb.4096g5HbwK1BH.001162>\n",
      "Loading <cptmarvel.cosmo25cmb.4096g5HbwK1BH.001280>\n"
     ]
    },
    {
     "name": "stderr",
     "output_type": "stream",
     "text": [
      "pynbody.halo : Unable to load AHF substructure file; continuing without. To expose the underlying problem as an exception, pass ignore_missing_substructure=False to the AHFCatalogue constructor\n"
     ]
    },
    {
     "name": "stdout",
     "output_type": "stream",
     "text": [
      "    Writing amiga.grp for <cptmarvel.cosmo25cmb.4096g5HbwK1BH.000640>\n",
      "  Loading halos for <cptmarvel.cosmo25cmb.4096g5HbwK1BH.001543>\n",
      "  Loading halos for <cptmarvel.cosmo25cmb.4096g5HbwK1BH.001280>\n"
     ]
    },
    {
     "name": "stderr",
     "output_type": "stream",
     "text": [
      "pynbody.halo : Unable to load AHF substructure file; continuing without. To expose the underlying problem as an exception, pass ignore_missing_substructure=False to the AHFCatalogue constructor\n"
     ]
    },
    {
     "name": "stdout",
     "output_type": "stream",
     "text": [
      "    Writing amiga.grp for <cptmarvel.cosmo25cmb.4096g5HbwK1BH.000896>\n",
      "    Finished writing amiga.grp for <cptmarvel.cosmo25cmb.4096g5HbwK1BH.002624>\n",
      "Loading <cptmarvel.cosmo25cmb.4096g5HbwK1BH.002688>\n",
      "  Loading halos for <cptmarvel.cosmo25cmb.4096g5HbwK1BH.002688>\n"
     ]
    },
    {
     "name": "stderr",
     "output_type": "stream",
     "text": [
      "pynbody.halo : Unable to load AHF substructure file; continuing without. To expose the underlying problem as an exception, pass ignore_missing_substructure=False to the AHFCatalogue constructor\n",
      "pynbody.halo : Unable to load AHF substructure file; continuing without. To expose the underlying problem as an exception, pass ignore_missing_substructure=False to the AHFCatalogue constructor\n"
     ]
    },
    {
     "name": "stdout",
     "output_type": "stream",
     "text": [
      "    Writing amiga.grp for <cptmarvel.cosmo25cmb.4096g5HbwK1BH.001543>\n",
      "    Writing amiga.grp for <cptmarvel.cosmo25cmb.4096g5HbwK1BH.001280>\n"
     ]
    },
    {
     "name": "stderr",
     "output_type": "stream",
     "text": [
      "pynbody.halo : Unable to load AHF substructure file; continuing without. To expose the underlying problem as an exception, pass ignore_missing_substructure=False to the AHFCatalogue constructor\n"
     ]
    },
    {
     "name": "stdout",
     "output_type": "stream",
     "text": [
      "    Writing amiga.grp for <cptmarvel.cosmo25cmb.4096g5HbwK1BH.002688>\n",
      "    Finished writing amiga.grp for <cptmarvel.cosmo25cmb.4096g5HbwK1BH.002176>\n",
      "Loading <cptmarvel.cosmo25cmb.4096g5HbwK1BH.002304>\n",
      "  Loading halos for <cptmarvel.cosmo25cmb.4096g5HbwK1BH.002304>\n",
      "    Finished writing amiga.grp for <cptmarvel.cosmo25cmb.4096g5HbwK1BH.003840>\n",
      "Loading <cptmarvel.cosmo25cmb.4096g5HbwK1BH.003968>\n",
      "  Loading halos for <cptmarvel.cosmo25cmb.4096g5HbwK1BH.003968>\n"
     ]
    },
    {
     "name": "stderr",
     "output_type": "stream",
     "text": [
      "pynbody.halo : Unable to load AHF substructure file; continuing without. To expose the underlying problem as an exception, pass ignore_missing_substructure=False to the AHFCatalogue constructor\n"
     ]
    },
    {
     "name": "stdout",
     "output_type": "stream",
     "text": [
      "    Writing amiga.grp for <cptmarvel.cosmo25cmb.4096g5HbwK1BH.002304>\n"
     ]
    },
    {
     "name": "stderr",
     "output_type": "stream",
     "text": [
      "pynbody.halo : Unable to load AHF substructure file; continuing without. To expose the underlying problem as an exception, pass ignore_missing_substructure=False to the AHFCatalogue constructor\n"
     ]
    },
    {
     "name": "stdout",
     "output_type": "stream",
     "text": [
      "    Writing amiga.grp for <cptmarvel.cosmo25cmb.4096g5HbwK1BH.003968>\n",
      "    Finished writing amiga.grp for <cptmarvel.cosmo25cmb.4096g5HbwK1BH.003456>\n",
      "Loading <cptmarvel.cosmo25cmb.4096g5HbwK1BH.003584>\n",
      "  Loading halos for <cptmarvel.cosmo25cmb.4096g5HbwK1BH.003584>\n",
      "    Finished writing amiga.grp for <cptmarvel.cosmo25cmb.4096g5HbwK1BH.003072>\n",
      "Loading <cptmarvel.cosmo25cmb.4096g5HbwK1BH.003200>\n",
      "  Loading halos for <cptmarvel.cosmo25cmb.4096g5HbwK1BH.003200>\n"
     ]
    },
    {
     "name": "stderr",
     "output_type": "stream",
     "text": [
      "pynbody.halo : Unable to load AHF substructure file; continuing without. To expose the underlying problem as an exception, pass ignore_missing_substructure=False to the AHFCatalogue constructor\n"
     ]
    },
    {
     "name": "stdout",
     "output_type": "stream",
     "text": [
      "    Writing amiga.grp for <cptmarvel.cosmo25cmb.4096g5HbwK1BH.003584>\n"
     ]
    },
    {
     "name": "stderr",
     "output_type": "stream",
     "text": [
      "pynbody.halo : Unable to load AHF substructure file; continuing without. To expose the underlying problem as an exception, pass ignore_missing_substructure=False to the AHFCatalogue constructor\n"
     ]
    },
    {
     "name": "stdout",
     "output_type": "stream",
     "text": [
      "    Finished writing amiga.grp for <cptmarvel.cosmo25cmb.4096g5HbwK1BH.001813>\n",
      "Loading <cptmarvel.cosmo25cmb.4096g5HbwK1BH.001920>\n",
      "    Writing amiga.grp for <cptmarvel.cosmo25cmb.4096g5HbwK1BH.003200>\n",
      "  Loading halos for <cptmarvel.cosmo25cmb.4096g5HbwK1BH.001920>\n"
     ]
    },
    {
     "name": "stderr",
     "output_type": "stream",
     "text": [
      "pynbody.halo : Unable to load AHF substructure file; continuing without. To expose the underlying problem as an exception, pass ignore_missing_substructure=False to the AHFCatalogue constructor\n"
     ]
    },
    {
     "name": "stdout",
     "output_type": "stream",
     "text": [
      "    Writing amiga.grp for <cptmarvel.cosmo25cmb.4096g5HbwK1BH.001920>\n",
      "    Finished writing amiga.grp for <cptmarvel.cosmo25cmb.4096g5HbwK1BH.000291>\n",
      "Loading <cptmarvel.cosmo25cmb.4096g5HbwK1BH.000384>\n",
      "  Loading halos for <cptmarvel.cosmo25cmb.4096g5HbwK1BH.000384>\n"
     ]
    },
    {
     "name": "stderr",
     "output_type": "stream",
     "text": [
      "pynbody.halo : Unable to load AHF substructure file; continuing without. To expose the underlying problem as an exception, pass ignore_missing_substructure=False to the AHFCatalogue constructor\n"
     ]
    },
    {
     "name": "stdout",
     "output_type": "stream",
     "text": [
      "    Writing amiga.grp for <cptmarvel.cosmo25cmb.4096g5HbwK1BH.000384>\n",
      "    Finished writing amiga.grp for <cptmarvel.cosmo25cmb.4096g5HbwK1BH.000640>\n",
      "Loading <cptmarvel.cosmo25cmb.4096g5HbwK1BH.000672>\n",
      "  Loading halos for <cptmarvel.cosmo25cmb.4096g5HbwK1BH.000672>\n",
      "    Finished writing amiga.grp for <cptmarvel.cosmo25cmb.4096g5HbwK1BH.000896>\n",
      "Loading <cptmarvel.cosmo25cmb.4096g5HbwK1BH.001025>\n",
      "  Loading halos for <cptmarvel.cosmo25cmb.4096g5HbwK1BH.001025>\n"
     ]
    },
    {
     "name": "stderr",
     "output_type": "stream",
     "text": [
      "pynbody.halo : Unable to load AHF substructure file; continuing without. To expose the underlying problem as an exception, pass ignore_missing_substructure=False to the AHFCatalogue constructor\n"
     ]
    },
    {
     "name": "stdout",
     "output_type": "stream",
     "text": [
      "    Writing amiga.grp for <cptmarvel.cosmo25cmb.4096g5HbwK1BH.000672>\n"
     ]
    },
    {
     "name": "stderr",
     "output_type": "stream",
     "text": [
      "pynbody.halo : Unable to load AHF substructure file; continuing without. To expose the underlying problem as an exception, pass ignore_missing_substructure=False to the AHFCatalogue constructor\n"
     ]
    },
    {
     "name": "stdout",
     "output_type": "stream",
     "text": [
      "    Writing amiga.grp for <cptmarvel.cosmo25cmb.4096g5HbwK1BH.001025>\n",
      "    Finished writing amiga.grp for <cptmarvel.cosmo25cmb.4096g5HbwK1BH.001543>\n",
      "Loading <cptmarvel.cosmo25cmb.4096g5HbwK1BH.001664>\n",
      "  Loading halos for <cptmarvel.cosmo25cmb.4096g5HbwK1BH.001664>\n",
      "    Finished writing amiga.grp for <cptmarvel.cosmo25cmb.4096g5HbwK1BH.001280>\n",
      "Loading <cptmarvel.cosmo25cmb.4096g5HbwK1BH.001331>\n",
      "  Loading halos for <cptmarvel.cosmo25cmb.4096g5HbwK1BH.001331>\n"
     ]
    },
    {
     "name": "stderr",
     "output_type": "stream",
     "text": [
      "pynbody.halo : Unable to load AHF substructure file; continuing without. To expose the underlying problem as an exception, pass ignore_missing_substructure=False to the AHFCatalogue constructor\n"
     ]
    },
    {
     "name": "stdout",
     "output_type": "stream",
     "text": [
      "    Writing amiga.grp for <cptmarvel.cosmo25cmb.4096g5HbwK1BH.001664>\n"
     ]
    },
    {
     "name": "stderr",
     "output_type": "stream",
     "text": [
      "pynbody.halo : Unable to load AHF substructure file; continuing without. To expose the underlying problem as an exception, pass ignore_missing_substructure=False to the AHFCatalogue constructor\n"
     ]
    },
    {
     "name": "stdout",
     "output_type": "stream",
     "text": [
      "    Writing amiga.grp for <cptmarvel.cosmo25cmb.4096g5HbwK1BH.001331>\n",
      "    Finished writing amiga.grp for <cptmarvel.cosmo25cmb.4096g5HbwK1BH.002688>\n",
      "Loading <cptmarvel.cosmo25cmb.4096g5HbwK1BH.002816>\n",
      "  Loading halos for <cptmarvel.cosmo25cmb.4096g5HbwK1BH.002816>\n"
     ]
    },
    {
     "name": "stderr",
     "output_type": "stream",
     "text": [
      "pynbody.halo : Unable to load AHF substructure file; continuing without. To expose the underlying problem as an exception, pass ignore_missing_substructure=False to the AHFCatalogue constructor\n"
     ]
    },
    {
     "name": "stdout",
     "output_type": "stream",
     "text": [
      "    Writing amiga.grp for <cptmarvel.cosmo25cmb.4096g5HbwK1BH.002816>\n",
      "    Finished writing amiga.grp for <cptmarvel.cosmo25cmb.4096g5HbwK1BH.002304>\n",
      "Loading <cptmarvel.cosmo25cmb.4096g5HbwK1BH.002432>\n",
      "  Loading halos for <cptmarvel.cosmo25cmb.4096g5HbwK1BH.002432>\n"
     ]
    },
    {
     "name": "stderr",
     "output_type": "stream",
     "text": [
      "pynbody.halo : Unable to load AHF substructure file; continuing without. To expose the underlying problem as an exception, pass ignore_missing_substructure=False to the AHFCatalogue constructor\n"
     ]
    },
    {
     "name": "stdout",
     "output_type": "stream",
     "text": [
      "    Writing amiga.grp for <cptmarvel.cosmo25cmb.4096g5HbwK1BH.002432>\n",
      "    Finished writing amiga.grp for <cptmarvel.cosmo25cmb.4096g5HbwK1BH.003968>\n",
      "Loading <cptmarvel.cosmo25cmb.4096g5HbwK1BH.004096>\n",
      "  Loading halos for <cptmarvel.cosmo25cmb.4096g5HbwK1BH.004096>\n"
     ]
    },
    {
     "name": "stderr",
     "output_type": "stream",
     "text": [
      "pynbody.halo : Unable to load AHF substructure file; continuing without. To expose the underlying problem as an exception, pass ignore_missing_substructure=False to the AHFCatalogue constructor\n"
     ]
    },
    {
     "name": "stdout",
     "output_type": "stream",
     "text": [
      "    Writing amiga.grp for <cptmarvel.cosmo25cmb.4096g5HbwK1BH.004096>\n",
      "    Finished writing amiga.grp for <cptmarvel.cosmo25cmb.4096g5HbwK1BH.003200>\n",
      "Loading <cptmarvel.cosmo25cmb.4096g5HbwK1BH.003245>\n",
      "  Loading halos for <cptmarvel.cosmo25cmb.4096g5HbwK1BH.003245>\n",
      "    Finished writing amiga.grp for <cptmarvel.cosmo25cmb.4096g5HbwK1BH.003584>\n",
      "Loading <cptmarvel.cosmo25cmb.4096g5HbwK1BH.003636>\n",
      "  Loading halos for <cptmarvel.cosmo25cmb.4096g5HbwK1BH.003636>\n"
     ]
    },
    {
     "name": "stderr",
     "output_type": "stream",
     "text": [
      "pynbody.halo : Unable to load AHF substructure file; continuing without. To expose the underlying problem as an exception, pass ignore_missing_substructure=False to the AHFCatalogue constructor\n"
     ]
    },
    {
     "name": "stdout",
     "output_type": "stream",
     "text": [
      "    Writing amiga.grp for <cptmarvel.cosmo25cmb.4096g5HbwK1BH.003245>\n",
      "    Finished writing amiga.grp for <cptmarvel.cosmo25cmb.4096g5HbwK1BH.001920>\n",
      "Loading <cptmarvel.cosmo25cmb.4096g5HbwK1BH.002048>\n",
      "  Loading halos for <cptmarvel.cosmo25cmb.4096g5HbwK1BH.002048>\n"
     ]
    },
    {
     "name": "stderr",
     "output_type": "stream",
     "text": [
      "pynbody.halo : Unable to load AHF substructure file; continuing without. To expose the underlying problem as an exception, pass ignore_missing_substructure=False to the AHFCatalogue constructor\n"
     ]
    },
    {
     "name": "stdout",
     "output_type": "stream",
     "text": [
      "    Writing amiga.grp for <cptmarvel.cosmo25cmb.4096g5HbwK1BH.003636>\n"
     ]
    },
    {
     "name": "stderr",
     "output_type": "stream",
     "text": [
      "pynbody.halo : Unable to load AHF substructure file; continuing without. To expose the underlying problem as an exception, pass ignore_missing_substructure=False to the AHFCatalogue constructor\n"
     ]
    },
    {
     "name": "stdout",
     "output_type": "stream",
     "text": [
      "    Writing amiga.grp for <cptmarvel.cosmo25cmb.4096g5HbwK1BH.002048>\n",
      "    Finished writing amiga.grp for <cptmarvel.cosmo25cmb.4096g5HbwK1BH.000384>\n",
      "Loading <cptmarvel.cosmo25cmb.4096g5HbwK1BH.000482>\n",
      "  Loading halos for <cptmarvel.cosmo25cmb.4096g5HbwK1BH.000482>\n"
     ]
    },
    {
     "name": "stderr",
     "output_type": "stream",
     "text": [
      "pynbody.halo : Unable to load AHF substructure file; continuing without. To expose the underlying problem as an exception, pass ignore_missing_substructure=False to the AHFCatalogue constructor\n"
     ]
    },
    {
     "name": "stdout",
     "output_type": "stream",
     "text": [
      "    Writing amiga.grp for <cptmarvel.cosmo25cmb.4096g5HbwK1BH.000482>\n",
      "    Finished writing amiga.grp for <cptmarvel.cosmo25cmb.4096g5HbwK1BH.001025>\n",
      "Loading <cptmarvel.cosmo25cmb.4096g5HbwK1BH.001152>\n",
      "  Loading halos for <cptmarvel.cosmo25cmb.4096g5HbwK1BH.001152>\n",
      "    Finished writing amiga.grp for <cptmarvel.cosmo25cmb.4096g5HbwK1BH.000672>\n",
      "Loading <cptmarvel.cosmo25cmb.4096g5HbwK1BH.000768>\n",
      "  Loading halos for <cptmarvel.cosmo25cmb.4096g5HbwK1BH.000768>\n"
     ]
    },
    {
     "name": "stderr",
     "output_type": "stream",
     "text": [
      "pynbody.halo : Unable to load AHF substructure file; continuing without. To expose the underlying problem as an exception, pass ignore_missing_substructure=False to the AHFCatalogue constructor\n",
      "pynbody.halo : Unable to load AHF substructure file; continuing without. To expose the underlying problem as an exception, pass ignore_missing_substructure=False to the AHFCatalogue constructor\n"
     ]
    },
    {
     "name": "stdout",
     "output_type": "stream",
     "text": [
      "    Writing amiga.grp for <cptmarvel.cosmo25cmb.4096g5HbwK1BH.000768>\n",
      "    Writing amiga.grp for <cptmarvel.cosmo25cmb.4096g5HbwK1BH.001152>\n",
      "    Finished writing amiga.grp for <cptmarvel.cosmo25cmb.4096g5HbwK1BH.002816>\n",
      "Loading <cptmarvel.cosmo25cmb.4096g5HbwK1BH.002944>\n",
      "  Loading halos for <cptmarvel.cosmo25cmb.4096g5HbwK1BH.002944>\n",
      "    Finished writing amiga.grp for <cptmarvel.cosmo25cmb.4096g5HbwK1BH.001331>\n",
      "Loading <cptmarvel.cosmo25cmb.4096g5HbwK1BH.001408>\n",
      "  Loading halos for <cptmarvel.cosmo25cmb.4096g5HbwK1BH.001408>\n"
     ]
    },
    {
     "name": "stderr",
     "output_type": "stream",
     "text": [
      "pynbody.halo : Unable to load AHF substructure file; continuing without. To expose the underlying problem as an exception, pass ignore_missing_substructure=False to the AHFCatalogue constructor\n"
     ]
    },
    {
     "name": "stdout",
     "output_type": "stream",
     "text": [
      "    Finished writing amiga.grp for <cptmarvel.cosmo25cmb.4096g5HbwK1BH.001664>\n",
      "Loading <cptmarvel.cosmo25cmb.4096g5HbwK1BH.001792>\n",
      "  Loading halos for <cptmarvel.cosmo25cmb.4096g5HbwK1BH.001792>\n",
      "    Writing amiga.grp for <cptmarvel.cosmo25cmb.4096g5HbwK1BH.002944>\n"
     ]
    },
    {
     "name": "stderr",
     "output_type": "stream",
     "text": [
      "pynbody.halo : Unable to load AHF substructure file; continuing without. To expose the underlying problem as an exception, pass ignore_missing_substructure=False to the AHFCatalogue constructor\n"
     ]
    },
    {
     "name": "stdout",
     "output_type": "stream",
     "text": [
      "    Writing amiga.grp for <cptmarvel.cosmo25cmb.4096g5HbwK1BH.001408>\n",
      "    Finished writing amiga.grp for <cptmarvel.cosmo25cmb.4096g5HbwK1BH.002432>\n",
      "Loading <cptmarvel.cosmo25cmb.4096g5HbwK1BH.002560>\n",
      "  Loading halos for <cptmarvel.cosmo25cmb.4096g5HbwK1BH.002560>\n"
     ]
    },
    {
     "name": "stderr",
     "output_type": "stream",
     "text": [
      "pynbody.halo : Unable to load AHF substructure file; continuing without. To expose the underlying problem as an exception, pass ignore_missing_substructure=False to the AHFCatalogue constructor\n"
     ]
    },
    {
     "name": "stdout",
     "output_type": "stream",
     "text": [
      "    Writing amiga.grp for <cptmarvel.cosmo25cmb.4096g5HbwK1BH.001792>\n"
     ]
    },
    {
     "name": "stderr",
     "output_type": "stream",
     "text": [
      "pynbody.halo : Unable to load AHF substructure file; continuing without. To expose the underlying problem as an exception, pass ignore_missing_substructure=False to the AHFCatalogue constructor\n"
     ]
    },
    {
     "name": "stdout",
     "output_type": "stream",
     "text": [
      "    Writing amiga.grp for <cptmarvel.cosmo25cmb.4096g5HbwK1BH.002560>\n",
      "    Finished writing amiga.grp for <cptmarvel.cosmo25cmb.4096g5HbwK1BH.004096>\n",
      "    Finished writing amiga.grp for <cptmarvel.cosmo25cmb.4096g5HbwK1BH.003245>\n",
      "Loading <cptmarvel.cosmo25cmb.4096g5HbwK1BH.003328>\n",
      "  Loading halos for <cptmarvel.cosmo25cmb.4096g5HbwK1BH.003328>\n",
      "    Finished writing amiga.grp for <cptmarvel.cosmo25cmb.4096g5HbwK1BH.002048>\n",
      "Loading <cptmarvel.cosmo25cmb.4096g5HbwK1BH.002162>\n",
      "    Finished writing amiga.grp for <cptmarvel.cosmo25cmb.4096g5HbwK1BH.003636>\n",
      "Loading <cptmarvel.cosmo25cmb.4096g5HbwK1BH.003712>\n",
      "  Loading halos for <cptmarvel.cosmo25cmb.4096g5HbwK1BH.002162>\n",
      "  Loading halos for <cptmarvel.cosmo25cmb.4096g5HbwK1BH.003712>\n"
     ]
    },
    {
     "name": "stderr",
     "output_type": "stream",
     "text": [
      "pynbody.halo : Unable to load AHF substructure file; continuing without. To expose the underlying problem as an exception, pass ignore_missing_substructure=False to the AHFCatalogue constructor\n"
     ]
    },
    {
     "name": "stdout",
     "output_type": "stream",
     "text": [
      "    Writing amiga.grp for <cptmarvel.cosmo25cmb.4096g5HbwK1BH.003328>\n"
     ]
    },
    {
     "name": "stderr",
     "output_type": "stream",
     "text": [
      "pynbody.halo : Unable to load AHF substructure file; continuing without. To expose the underlying problem as an exception, pass ignore_missing_substructure=False to the AHFCatalogue constructor\n"
     ]
    },
    {
     "name": "stdout",
     "output_type": "stream",
     "text": [
      "    Writing amiga.grp for <cptmarvel.cosmo25cmb.4096g5HbwK1BH.002162>\n"
     ]
    },
    {
     "name": "stderr",
     "output_type": "stream",
     "text": [
      "pynbody.halo : Unable to load AHF substructure file; continuing without. To expose the underlying problem as an exception, pass ignore_missing_substructure=False to the AHFCatalogue constructor\n"
     ]
    },
    {
     "name": "stdout",
     "output_type": "stream",
     "text": [
      "    Writing amiga.grp for <cptmarvel.cosmo25cmb.4096g5HbwK1BH.003712>\n",
      "\n",
      "    Finished writing amiga.grp for <cptmarvel.cosmo25cmb.4096g5HbwK1BH.000482>\n",
      "    Finished writing amiga.grp for <cptmarvel.cosmo25cmb.4096g5HbwK1BH.000768>\n",
      "    Finished writing amiga.grp for <cptmarvel.cosmo25cmb.4096g5HbwK1BH.001152>\n",
      "    Finished writing amiga.grp for <cptmarvel.cosmo25cmb.4096g5HbwK1BH.001408>\n",
      "    Finished writing amiga.grp for <cptmarvel.cosmo25cmb.4096g5HbwK1BH.002944>\n",
      "    Finished writing amiga.grp for <cptmarvel.cosmo25cmb.4096g5HbwK1BH.001792>\n",
      "    Finished writing amiga.grp for <cptmarvel.cosmo25cmb.4096g5HbwK1BH.002560>\n",
      "    Finished writing amiga.grp for <cptmarvel.cosmo25cmb.4096g5HbwK1BH.003328>\n",
      "    Finished writing amiga.grp for <cptmarvel.cosmo25cmb.4096g5HbwK1BH.002162>\n",
      "    Finished writing amiga.grp for <cptmarvel.cosmo25cmb.4096g5HbwK1BH.003712>\n"
     ]
    }
   ],
   "source": [
    "with Pool(processes=n_threads) as pool:\n",
    "    results = pool.map(process_step, groups)"
   ]
  },
  {
   "cell_type": "code",
   "execution_count": 35,
   "id": "acce69bd",
   "metadata": {},
   "outputs": [
    {
     "name": "stdout",
     "output_type": "stream",
     "text": [
      "/home/selvani/MAP/Sims/cptmarvel.cosmo25cmb/cptmarvel.cosmo25cmb.4096g5HbwK1BH/cptmarvel.4096g5HbwK1BH_bn/cptmarvel.cosmo25cmb.4096g5HbwK1BH.002162\n",
      "[  -1    1    2    3    4    5    7    9   10   11   13   14   16   27\n",
      "   48  126  181 6155]\n"
     ]
    }
   ],
   "source": [
    "fname = sim_base + basename+ '.002162'\n",
    "print(fname)\n",
    "s = pb.load(fname)\n",
    "unique_gp = np.unique(s.s['amiga.grp'])\n",
    "print(unique_gp)"
   ]
  },
  {
   "cell_type": "code",
   "execution_count": null,
   "id": "3052e358",
   "metadata": {},
   "outputs": [],
   "source": []
  },
  {
   "cell_type": "code",
   "execution_count": null,
   "id": "69d620b2",
   "metadata": {},
   "outputs": [
    {
     "name": "stdout",
     "output_type": "stream",
     "text": [
      "Collecting imageio\n",
      "  Downloading imageio-2.37.0-py3-none-any.whl.metadata (5.2 kB)\n",
      "Collecting imageio-ffmpeg\n",
      "  Downloading imageio_ffmpeg-0.6.0-py3-none-manylinux2014_x86_64.whl.metadata (1.5 kB)\n",
      "Requirement already satisfied: numpy in /home/selvani/anaconda3/envs/conda-env-py311/lib/python3.11/site-packages (from imageio) (2.2.5)\n",
      "Requirement already satisfied: pillow>=8.3.2 in /home/selvani/anaconda3/envs/conda-env-py311/lib/python3.11/site-packages (from imageio) (11.1.0)\n",
      "Downloading imageio-2.37.0-py3-none-any.whl (315 kB)\n",
      "Downloading imageio_ffmpeg-0.6.0-py3-none-manylinux2014_x86_64.whl (29.5 MB)\n",
      "\u001b[2K   \u001b[90m━━━━━━━━━━━━━━━━━━━━━━━━━━━━━━━━━━━━━━━━\u001b[0m \u001b[32m29.5/29.5 MB\u001b[0m \u001b[31m33.2 MB/s\u001b[0m eta \u001b[36m0:00:00\u001b[0m00:01\u001b[0m00:01\u001b[0m\n",
      "\u001b[?25hInstalling collected packages: imageio-ffmpeg, imageio\n",
      "\u001b[2K   \u001b[90m━━━━━━━━━━━━━━━━━━━━━━━━━━━━━━━━━━━━━━━━\u001b[0m \u001b[32m2/2\u001b[0m [imageio]m1/2\u001b[0m [imageio]\n",
      "\u001b[1A\u001b[2KSuccessfully installed imageio-2.37.0 imageio-ffmpeg-0.6.0\n"
     ]
    }
   ],
   "source": [
    "!pip install imageio imageio-ffmpeg"
   ]
  },
  {
   "cell_type": "code",
   "execution_count": 22,
   "id": "467419d6",
   "metadata": {},
   "outputs": [],
   "source": [
    "import imageio.v2 as imageio\n",
    "import numpy as np\n",
    "import glob\n",
    "import os\n",
    "import re\n",
    "\n",
    "def create_animation_with_padding(input_folder, output_file, fps=10):\n",
    "    \"\"\"\n",
    "    Creates a GIF or MP4 from a folder of PNG images with varying sizes.\n",
    "\n",
    "    It finds the largest image dimensions and pads smaller images with black\n",
    "    borders to create uniformly-sized frames, preventing distortion.\n",
    "    \n",
    "    Args:\n",
    "        input_folder (str): Path to the folder containing the PNG images.\n",
    "        output_file (str): Path for the output animation file. The extension \n",
    "                           (.gif or .mp4) determines the format.\n",
    "        fps (int): Frames per second for the output animation.\n",
    "    \"\"\"\n",
    "    search_path = os.path.join(input_folder, '*.png')\n",
    "    filenames = glob.glob(search_path)\n",
    "\n",
    "    if not filenames:\n",
    "        print(f\"Error: No PNG files found in '{input_folder}'\")\n",
    "        return\n",
    "\n",
    "    # Sort files naturally to handle numbers like 'plot_2.png' before 'plot_10.png'\n",
    "    def natural_sort_key(s):\n",
    "        return [int(text) if text.isdigit() else text.lower() for text in re.split('([0-9]+)', s)]\n",
    "    \n",
    "    filenames.sort(key=natural_sort_key)\n",
    "\n",
    "    # --- Step 1: Scan all images to find the maximum dimensions ---\n",
    "    print(\"Scanning images to determine maximum dimensions...\")\n",
    "    max_height = 0\n",
    "    max_width = 0\n",
    "    \n",
    "    # Also determine the color channel configuration (RGB vs RGBA) from the first image\n",
    "    first_image = imageio.imread(filenames[0])\n",
    "    print(f\"First image shape: {first_image.shape}\")\n",
    "    channels = first_image.shape[2] if len(first_image.shape) == 3 else 1\n",
    "    dtype = first_image.dtype\n",
    "\n",
    "    for filename in filenames:\n",
    "        img = imageio.imread(filename)\n",
    "        if len(img.shape) == 3: # Ensure it's a color image\n",
    "            h, w, _ = img.shape\n",
    "            max_height = max(max_height, h)\n",
    "            max_width = max(max_width, w)\n",
    "\n",
    "    print(f\"All frames will be resized to {max_width}x{max_height} pixels.\")\n",
    "\n",
    "    # --- Step 2: Create the animation with padded frames ---\n",
    "    print(f\"Creating animation at '{output_file}'...\")\n",
    "    with imageio.get_writer(output_file, fps=fps) as writer:\n",
    "        for filename in tqdm.tqdm(filenames, desc=\"Processing frames\"):\n",
    "            # Read the original image\n",
    "            img = imageio.imread(filename)\n",
    "            \n",
    "            # Create a new black canvas with the target dimensions\n",
    "            padded_frame = np.zeros((max_height, max_width, channels), dtype=dtype)\n",
    "            \n",
    "            # Calculate offsets to center the image\n",
    "            h, w, _ = img.shape\n",
    "            y_offset = (max_height - h) // 2\n",
    "            x_offset = (max_width - w) // 2\n",
    "            \n",
    "            # Paste the original image onto the canvas\n",
    "            padded_frame[y_offset:y_offset+h, x_offset:x_offset+w, :] = img\n",
    "            \n",
    "            # Append the padded frame to the video\n",
    "            writer.append_data(padded_frame)\n",
    "\n",
    "    print(\"Animation created successfully!\")\n",
    "\n",
    "def create_animation(input_folder, output_file, fps=10):\n",
    "    \"\"\"\n",
    "    Creates a GIF or MP4 from a folder of PNG images.\n",
    "\n",
    "    The function assumes filenames can be sorted naturally (e.g., frame_1.png, frame_2.png, ... frame_10.png).\n",
    "\n",
    "    Args:\n",
    "        input_folder (str): Path to the folder containing the PNG images.\n",
    "        output_file (str): Path for the output animation file. The extension (.gif or .mp4) determines the format.\n",
    "        fps (int): Frames per second for the output animation.\n",
    "    \"\"\"\n",
    "    search_path = os.path.join(input_folder, '*.png')\n",
    "    filenames = glob.glob(search_path)\n",
    "\n",
    "    if not filenames:\n",
    "        print(f\"Error: No PNG files found in the directory: {input_folder}\")\n",
    "        return\n",
    "\n",
    "    filenames.sort(key=lambda x: str.split(str.split(x, '.')[-2], '_')[-1])  # Sort by the numeric part of the filename\n",
    "\n",
    "    print(f\"Found {len(filenames)} images. Creating animation at {output_file}...\")\n",
    "\n",
    "    # Create the animation\n",
    "    with imageio.get_writer(output_file, fps=fps) as writer:\n",
    "        for filename in filenames:\n",
    "            image = imageio.imread(filename)\n",
    "            writer.append_data(image)\n",
    "\n",
    "    print(\"Animation created successfully!\")\n",
    "    \n",
    "# # --- Example Usage ---\n",
    "# # Replace this with the actual path to your saved plots\n",
    "# image_folder = '/home/selvani/MAP/pynbody/stellarhalo_trace_aw/merge_plots/3' \n",
    "\n",
    "# # Define the output file path (can be .gif or .mp4)\n",
    "# output_path = os.path.join(image_folder, 'merger_animation.mp4')\n",
    "\n",
    "# # Create the animation\n",
    "# create_animation_with_padding(image_folder, output_path, fps=5)"
   ]
  },
  {
   "cell_type": "code",
   "execution_count": 6,
   "id": "1f0e4685",
   "metadata": {},
   "outputs": [],
   "source": [
    "import tqdm.auto as tqdm"
   ]
  },
  {
   "cell_type": "code",
   "execution_count": null,
   "id": "e83dfb3e",
   "metadata": {},
   "outputs": [
    {
     "data": {
      "text/plain": [
       "'/home/selvani/MAP/pynbody/stellarhalo_trace_aw/merge_plots'"
      ]
     },
     "execution_count": 16,
     "metadata": {},
     "output_type": "execute_result"
    }
   ],
   "source": [
    "image_folder = os.path.join(outfile_dir, 'merge_plots')"
   ]
  },
  {
   "cell_type": "code",
   "execution_count": null,
   "id": "5aec5858",
   "metadata": {},
   "outputs": [
    {
     "name": "stdout",
     "output_type": "stream",
     "text": [
      "In folder 5\n",
      "Found 42 images. Creating animation at /home/selvani/MAP/pynbody/stellarhalo_trace_aw/merge_plots/4096_5_animation.gif...\n"
     ]
    },
    {
     "name": "stderr",
     "output_type": "stream",
     "text": [
      "/tmp/ipykernel_40126/1309243911.py:101: DeprecationWarning: Starting with ImageIO v3 the behavior of this function will switch to that of iio.v3.imread. To keep the current behavior (and make this warning disappear) use `import imageio.v2 as imageio` or call `imageio.v2.imread` directly.\n",
      "  image = imageio.imread(filename)\n"
     ]
    },
    {
     "name": "stdout",
     "output_type": "stream",
     "text": [
      "Animation created successfully!\n",
      "Scanning images to determine maximum dimensions...\n"
     ]
    },
    {
     "name": "stderr",
     "output_type": "stream",
     "text": [
      "/tmp/ipykernel_40126/1309243911.py:39: DeprecationWarning: Starting with ImageIO v3 the behavior of this function will switch to that of iio.v3.imread. To keep the current behavior (and make this warning disappear) use `import imageio.v2 as imageio` or call `imageio.v2.imread` directly.\n",
      "  first_image = imageio.imread(filenames[0])\n"
     ]
    },
    {
     "name": "stdout",
     "output_type": "stream",
     "text": [
      "First image shape: (1841, 5390, 4)\n"
     ]
    },
    {
     "name": "stderr",
     "output_type": "stream",
     "text": [
      "/tmp/ipykernel_40126/1309243911.py:45: DeprecationWarning: Starting with ImageIO v3 the behavior of this function will switch to that of iio.v3.imread. To keep the current behavior (and make this warning disappear) use `import imageio.v2 as imageio` or call `imageio.v2.imread` directly.\n",
      "  img = imageio.imread(filename)\n"
     ]
    },
    {
     "name": "stdout",
     "output_type": "stream",
     "text": [
      "All frames will be resized to 5390x1841 pixels.\n",
      "Creating animation at '/home/selvani/MAP/pynbody/stellarhalo_trace_aw/merge_plots/4096_5_animation.mp4'...\n"
     ]
    },
    {
     "data": {
      "application/vnd.jupyter.widget-view+json": {
       "model_id": "7af05edc8254488797bba73c77ba9bf9",
       "version_major": 2,
       "version_minor": 0
      },
      "text/plain": [
       "Processing frames:   0%|          | 0/42 [00:00<?, ?it/s]"
      ]
     },
     "metadata": {},
     "output_type": "display_data"
    },
    {
     "name": "stderr",
     "output_type": "stream",
     "text": [
      "/tmp/ipykernel_40126/1309243911.py:58: DeprecationWarning: Starting with ImageIO v3 the behavior of this function will switch to that of iio.v3.imread. To keep the current behavior (and make this warning disappear) use `import imageio.v2 as imageio` or call `imageio.v2.imread` directly.\n",
      "  img = imageio.imread(filename)\n",
      "IMAGEIO FFMPEG_WRITER WARNING: input image is not divisible by macro_block_size=16, resizing from (5390, 1841) to (5392, 1856) to ensure video compatibility with most codecs and players. To prevent resizing, make your input image divisible by the macro_block_size or set the macro_block_size to 1 (risking incompatibility).\n"
     ]
    },
    {
     "name": "stdout",
     "output_type": "stream",
     "text": [
      "Animation created successfully!\n",
      "In folder 5zoom\n",
      "Found 42 images. Creating animation at /home/selvani/MAP/pynbody/stellarhalo_trace_aw/merge_plots/4096_5zoom_animation.gif...\n",
      "Animation created successfully!\n",
      "Scanning images to determine maximum dimensions...\n",
      "First image shape: (1841, 5390, 4)\n",
      "All frames will be resized to 5390x1841 pixels.\n",
      "Creating animation at '/home/selvani/MAP/pynbody/stellarhalo_trace_aw/merge_plots/4096_5zoom_animation.mp4'...\n"
     ]
    },
    {
     "data": {
      "application/vnd.jupyter.widget-view+json": {
       "model_id": "1044cb05adef4116bbd4f80d4a97fd6f",
       "version_major": 2,
       "version_minor": 0
      },
      "text/plain": [
       "Processing frames:   0%|          | 0/42 [00:00<?, ?it/s]"
      ]
     },
     "metadata": {},
     "output_type": "display_data"
    },
    {
     "name": "stderr",
     "output_type": "stream",
     "text": [
      "IMAGEIO FFMPEG_WRITER WARNING: input image is not divisible by macro_block_size=16, resizing from (5390, 1841) to (5392, 1856) to ensure video compatibility with most codecs and players. To prevent resizing, make your input image divisible by the macro_block_size or set the macro_block_size to 1 (risking incompatibility).\n"
     ]
    },
    {
     "name": "stdout",
     "output_type": "stream",
     "text": [
      "Animation created successfully!\n",
      "In folder 5morezoom\n",
      "Found 42 images. Creating animation at /home/selvani/MAP/pynbody/stellarhalo_trace_aw/merge_plots/4096_5morezoom_animation.gif...\n",
      "Animation created successfully!\n",
      "Scanning images to determine maximum dimensions...\n",
      "First image shape: (1841, 5390, 4)\n",
      "All frames will be resized to 5390x1841 pixels.\n",
      "Creating animation at '/home/selvani/MAP/pynbody/stellarhalo_trace_aw/merge_plots/4096_5morezoom_animation.mp4'...\n"
     ]
    },
    {
     "data": {
      "application/vnd.jupyter.widget-view+json": {
       "model_id": "573b9183332b402ab7a5e8d4a8d794e7",
       "version_major": 2,
       "version_minor": 0
      },
      "text/plain": [
       "Processing frames:   0%|          | 0/42 [00:00<?, ?it/s]"
      ]
     },
     "metadata": {},
     "output_type": "display_data"
    },
    {
     "name": "stderr",
     "output_type": "stream",
     "text": [
      "IMAGEIO FFMPEG_WRITER WARNING: input image is not divisible by macro_block_size=16, resizing from (5390, 1841) to (5392, 1856) to ensure video compatibility with most codecs and players. To prevent resizing, make your input image divisible by the macro_block_size or set the macro_block_size to 1 (risking incompatibility).\n"
     ]
    },
    {
     "name": "stdout",
     "output_type": "stream",
     "text": [
      "Animation created successfully!\n"
     ]
    }
   ],
   "source": [
    "folders = ['2', '2zoom', '2morezoom']\n",
    "for folder in folders:\n",
    "# for folder in os.listdir(image_folder):\n",
    "    folder_path = os.path.join(image_folder, folder)\n",
    "    base_name = os.path.basename(folder_path)\n",
    "    print(f'In folder {folder}')\n",
    "    output_gif_path = os.path.join(image_folder, f'4096_{base_name}_animation.gif')\n",
    "    output_mp4_path = os.path.join(image_folder, f'4096_{base_name}_animation.mp4')\n",
    "\n",
    "    create_animation(folder_path, output_gif_path, fps=12)\n",
    "    create_animation_with_padding(folder_path, output_mp4_path, fps=6)"
   ]
  },
  {
   "cell_type": "code",
   "execution_count": null,
   "id": "3e0770f0",
   "metadata": {},
   "outputs": [],
   "source": []
  }
 ],
 "metadata": {
  "kernelspec": {
   "display_name": "dwarf",
   "language": "python",
   "name": "python3"
  },
  "language_info": {
   "codemirror_mode": {
    "name": "ipython",
    "version": 3
   },
   "file_extension": ".py",
   "mimetype": "text/x-python",
   "name": "python",
   "nbconvert_exporter": "python",
   "pygments_lexer": "ipython3",
   "version": "3.11.13"
  }
 },
 "nbformat": 4,
 "nbformat_minor": 5
}
