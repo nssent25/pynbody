{
 "cells": [
  {
   "cell_type": "markdown",
   "id": "3ecdca4f",
   "metadata": {},
   "source": [
    "# Plot Halo Mergers\n",
    "Nithun Selva, July 2025"
   ]
  },
  {
   "cell_type": "markdown",
   "id": "c554bc6b",
   "metadata": {},
   "source": [
    "### Import"
   ]
  },
  {
   "cell_type": "code",
   "execution_count": null,
   "id": "4a58c613",
   "metadata": {},
   "outputs": [],
   "source": [
    "%matplotlib inline\n",
    "import os\n",
    "os.environ['TANGOS_SIMULATION_FOLDER'] = '/home/selvani/MAP/Sims/cptmarvel.cosmo25cmb/cptmarvel.cosmo25cmb.4096g5HbwK1BH/'\n",
    "# os.environ['TANGOS_DB_CONNECTION'] = '/home/selvani/MAP/Data/Marvel_BN_N10.db'\n",
    "os.environ['TANGOS_DB_CONNECTION'] = '/home/selvani/MAP/pynbody/Tangos/Marvel_BN_N10.db'\n",
    "os.chdir('/home/selvani/MAP/pynbody/AnnaWright_startrace/')\n",
    "\n",
    "import pynbody\n",
    "import numpy as np\n",
    "import h5py\n",
    "import math\n",
    "import tangos as db\n",
    "import matplotlib.pyplot as plt\n",
    "import glob\n",
    "from pynbody.array import SimArray\n",
    "import IonUtils\n",
    "import pandas as pd"
   ]
  },
  {
   "cell_type": "code",
   "execution_count": 2,
   "id": "939daf0f",
   "metadata": {},
   "outputs": [],
   "source": [
    "simpath = '/home/selvani/MAP/Sims/cptmarvel.cosmo25cmb/cptmarvel.cosmo25cmb.4096g5HbwK1BH/'\n",
    "sims = 'cptmarvel.cosmo25cmb.4096g5HbwK1BH'\n",
    "\n",
    "ss_dir = 'cptmarvel.4096g5HbwK1BH_bn'\n",
    "sim_base = simpath + ss_dir + '/'\n",
    "ss_z0 = sim_base + sims + '.004096'\n",
    "\n",
    "odir = \"/home/selvani/MAP/pynbody/stellarhalo_trace_aw/\""
   ]
  },
  {
   "cell_type": "code",
   "execution_count": 5,
   "id": "1345c3ae",
   "metadata": {},
   "outputs": [
    {
     "data": {
      "text/plain": [
       "<TimeStep 'cptmarvel.4096g5HbwK1BH_bn/cptmarvel.cosmo25cmb.4096g5HbwK1BH.004096' z=-0.00 t=13.73 Gyr>"
      ]
     },
     "execution_count": 5,
     "metadata": {},
     "output_type": "execute_result"
    }
   ],
   "source": [
    "timestep = db.get_timestep(ss_dir+'/%'+str(4096))\n",
    "timestep"
   ]
  },
  {
   "cell_type": "code",
   "execution_count": 10,
   "id": "ec0eb91d",
   "metadata": {},
   "outputs": [],
   "source": [
    "halo = timestep.halos.first()"
   ]
  },
  {
   "cell_type": "code",
   "execution_count": 12,
   "id": "a6fa5ee4",
   "metadata": {},
   "outputs": [],
   "source": [
    "snap = halo.load()"
   ]
  },
  {
   "cell_type": "code",
   "execution_count": 23,
   "id": "402f89e8",
   "metadata": {},
   "outputs": [],
   "source": [
    "snap.physical_units()"
   ]
  },
  {
   "cell_type": "code",
   "execution_count": 25,
   "id": "17e77732",
   "metadata": {},
   "outputs": [
    {
     "data": {
      "text/plain": [
       "<TipsySnap \"/home/selvani/MAP/Sims/cptmarvel.cosmo25cmb/cptmarvel.cosmo25cmb.4096g5HbwK1BH/cptmarvel.4096g5HbwK1BH_bn/cptmarvel.cosmo25cmb.4096g5HbwK1BH.004096\" len=89818099>"
      ]
     },
     "execution_count": 25,
     "metadata": {},
     "output_type": "execute_result"
    }
   ],
   "source": [
    "snap.base"
   ]
  },
  {
   "cell_type": "code",
   "execution_count": 18,
   "id": "bc69bb2b",
   "metadata": {},
   "outputs": [],
   "source": [
    "all_timesteps = db.get_simulation(ss_dir).timesteps"
   ]
  },
  {
   "cell_type": "code",
   "execution_count": null,
   "id": "4a5e5765",
   "metadata": {},
   "outputs": [],
   "source": [
    "# code to kinda replicate halo trace in tangos??\n",
    "import pandas as pd\n",
    "\n",
    "def trace_halos(halos, timesteps, save_file='halo_trace.h5'):\n",
    "    uniqhaloid = [halo.halo_number for halo in halos]\n",
    "    columns = [step.extension[-6:] for step in timesteps]\n",
    "    columns.reverse()\n",
    "    print(columns)\n",
    "    \n",
    "    df = pd.DataFrame(index=uniqhaloid, columns=columns)\n",
    "    \n",
    "    for halo in halos:\n",
    "        print(f\"Halo ID: {halo.halo_number}, Mass: {halo['Mvir']}, Stars: {halo.NStar}\")\n",
    "        halo_numbers, dbids = halo.calculate_for_progenitors(\"halo_number()\", \"dbid()\")\n",
    "        snapshots = [db.get_halo(dbid).timestep.extension[-6:] for dbid in dbids]\n",
    "        print(f\"\\tProgenitor Halo Numbers: {halo_numbers}, Snapshot: {snapshots}\\n\")\n",
    "\n",
    "        df.loc[halo.halo_number, snapshots] = halo_numbers\n",
    "\n",
    "    # Replace NaN with -1 and change all types to int\n",
    "    df = df.fillna(-1).astype(int)\n",
    "    \n",
    "    # Set the index to be the values from the '004096' column\n",
    "    df.index = df['004096']\n",
    "    df.index.name = '004096'\n",
    "    df = df.drop(columns=['004096'])  # Drop the '004096' column as it's now the index\n",
    "    \n",
    "    if save_file:\n",
    "        print('Saving to: ' + os.path.abspath(save_file))\n",
    "        if os.path.isfile(save_file):\n",
    "            print('File exists: ' + save_file)\n",
    "            print('Aborting')\n",
    "            return df\n",
    "        df.to_hdf(save_file, key='ids')\n",
    "    \n",
    "    return df"
   ]
  },
  {
   "cell_type": "code",
   "execution_count": null,
   "id": "45a9194e",
   "metadata": {},
   "outputs": [],
   "source": [
    "timestep = db.get_timestep(\"cptmarvel.4096g5HbwK1BH_bn/%4096\")\n",
    "all_halos = timestep.halos.all()\n",
    "print(\"There are %d halos in the snapshot.\" % len(all_halos))\n",
    "\n",
    "# Filter for halos with stars\n",
    "halos_with_stars = [h for h in all_halos if h.NStar > 0]"
   ]
  },
  {
   "cell_type": "code",
   "execution_count": null,
   "id": "46ea8e85",
   "metadata": {},
   "outputs": [],
   "source": [
    "# Get all halos in 004096 snapshot\n",
    "all_timesteps = db.get_simulation(\"cptmarvel.4096g5HbwK1BH_bn\").timesteps\n",
    "halos_stars_dict = {}\n",
    "for timestep in all_timesteps:\n",
    "    all_halos = timestep.halos.all()\n",
    "    # print(\"There are %d halos in the snapshot.\" % len(all_halos))\n",
    "\n",
    "    # Filter for halos with stars\n",
    "    halos_with_stars = [h for h in all_halos if h.NStar > 0]\n",
    "    print(\"Timestep: %s\" % timestep.extension[-6:])\n",
    "    print(\"There are %d halos with stars.\\n\" % len(halos_with_stars))\n",
    "    halos_stars_dict[timestep.extension[-6:]] = halos_with_stars\n",
    "    # for halo in halos_with_stars:\n",
    "    #     print(\"Halo ID: %s, Mass: %1.2eM☉, Stars: %d\" % (halo.halo_number, halo['Mvir'], halo.NStar))"
   ]
  },
  {
   "cell_type": "code",
   "execution_count": null,
   "id": "336e0573",
   "metadata": {},
   "outputs": [],
   "source": [
    "#show the movement of each halo's COM\n",
    "import matplotlib.pyplot as plt\n",
    "from mpl_toolkits.mplot3d import Axes3D\n",
    "fig= plt.figure(figsize=(12,9))\n",
    "ax=fig.add_subplot(111, projection='3d')\n",
    "\n",
    "for halo_id in df[\"halo_id\"].unique():\n",
    "    sub = df[df[\"halo_id\"] == halo_id]\n",
    "    ax.plot(sub[\"x_com\"], sub[\"y_com\"], sub[\"z_com\"], label=f\"Halo {halo_id}\")\n",
    "\n",
    "ax.set_xlabel(\"x(kpc)\")\n",
    "ax.set_ylabel(\"y(kpc)\")\n",
    "ax.set_zlabel(\"z(kpc)\")\n",
    "\n",
    "ax.set_title(\"Movement of COM\")\n",
    "ax.legend()\n",
    "#plt.grid(True)\n",
    "# plt.savefig('Movement_COM.png')\n",
    "plt.show()"
   ]
  }
 ],
 "metadata": {
  "kernelspec": {
   "display_name": "Python 3 (ipykernel)",
   "language": "python",
   "name": "python3"
  },
  "language_info": {
   "codemirror_mode": {
    "name": "ipython",
    "version": 3
   },
   "file_extension": ".py",
   "mimetype": "text/x-python",
   "name": "python",
   "nbconvert_exporter": "python",
   "pygments_lexer": "ipython3",
   "version": "3.11.13"
  }
 },
 "nbformat": 4,
 "nbformat_minor": 5
}
