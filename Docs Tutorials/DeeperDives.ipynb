{
 "cells": [
  {
   "cell_type": "markdown",
   "id": "364dec1a",
   "metadata": {},
   "source": [
    "# Deeper Dives"
   ]
  },
  {
   "cell_type": "markdown",
   "id": "a9c0b6c1",
   "metadata": {},
   "source": [
    "## Reading snapshots"
   ]
  },
  {
   "cell_type": "code",
   "execution_count": 1,
   "id": "28f8f8d3",
   "metadata": {},
   "outputs": [],
   "source": [
    "import pynbody\n",
    "import numpy as np\n",
    "f = pynbody.load(\"testdata/gadget2/test_g2_snap\")"
   ]
  },
  {
   "cell_type": "markdown",
   "id": "05ce2478",
   "metadata": {},
   "source": [
    "### Finding out something about the file"
   ]
  },
  {
   "cell_type": "code",
   "execution_count": 2,
   "id": "56aed022",
   "metadata": {},
   "outputs": [
    {
     "data": {
      "text/plain": [
       "8192"
      ]
     },
     "execution_count": 2,
     "metadata": {},
     "output_type": "execute_result"
    }
   ],
   "source": [
    "len(f)"
   ]
  },
  {
   "cell_type": "code",
   "execution_count": 3,
   "id": "c1fbb1d5",
   "metadata": {},
   "outputs": [
    {
     "data": {
      "text/plain": [
       "[<Family gas>, <Family dm>, <Family star>]"
      ]
     },
     "execution_count": 3,
     "metadata": {},
     "output_type": "execute_result"
    }
   ],
   "source": [
    "f.families()"
   ]
  },
  {
   "cell_type": "code",
   "execution_count": 4,
   "id": "edd44d09",
   "metadata": {},
   "outputs": [
    {
     "data": {
      "text/plain": [
       "57"
      ]
     },
     "execution_count": 4,
     "metadata": {},
     "output_type": "execute_result"
    }
   ],
   "source": [
    "len(f.dm)\n",
    "len(f.gas)\n",
    "len(f.star)"
   ]
  },
  {
   "cell_type": "code",
   "execution_count": 5,
   "id": "5c9da36d",
   "metadata": {},
   "outputs": [
    {
     "data": {
      "text/plain": [
       "{'omegaM0': 0.2669,\n",
       " 'omegaL0': 0.7331,\n",
       " 'boxsize': Unit(\"3.00e+03 kpc a h**-1\"),\n",
       " 'a': 0.2777777798158637,\n",
       " 'h': 0.71,\n",
       " 'time': Unit(\"3.55e+00 s kpc a**1/2 km**-1 h**-1\")}"
      ]
     },
     "execution_count": 5,
     "metadata": {},
     "output_type": "execute_result"
    }
   ],
   "source": [
    "f.properties"
   ]
  },
  {
   "cell_type": "code",
   "execution_count": 6,
   "id": "4983913e",
   "metadata": {},
   "outputs": [
    {
     "data": {
      "text/plain": [
       "0.2777777798158637"
      ]
     },
     "execution_count": 6,
     "metadata": {},
     "output_type": "execute_result"
    }
   ],
   "source": [
    "f.properties['a']"
   ]
  },
  {
   "cell_type": "markdown",
   "id": "7577bb6b",
   "metadata": {},
   "source": [
    "### Retrieving data"
   ]
  },
  {
   "cell_type": "code",
   "execution_count": null,
   "id": "d4530909",
   "metadata": {},
   "outputs": [
    {
     "data": {
      "text/plain": [
       "[]"
      ]
     },
     "execution_count": 7,
     "metadata": {},
     "output_type": "execute_result"
    }
   ],
   "source": [
    "f.keys() # lazy loaded?"
   ]
  },
  {
   "cell_type": "code",
   "execution_count": 8,
   "id": "3914407e",
   "metadata": {},
   "outputs": [
    {
     "data": {
      "text/plain": [
       "['mass', 'pos', 'vel', 'iord']"
      ]
     },
     "execution_count": 8,
     "metadata": {},
     "output_type": "execute_result"
    }
   ],
   "source": [
    "f.loadable_keys()"
   ]
  },
  {
   "cell_type": "code",
   "execution_count": 9,
   "id": "05a533bf",
   "metadata": {},
   "outputs": [
    {
     "data": {
      "text/plain": [
       "SimArray([[  53.318974,  177.84364 ,  128.22311 ],\n",
       "          [ 306.75046 ,  140.44455 ,  215.37149 ],\n",
       "          [ 310.99908 ,   64.1345  ,  210.53595 ],\n",
       "          ...,\n",
       "          [2870.9016  , 2940.1711  , 1978.7949  ],\n",
       "          [2872.4114  , 2939.2197  , 1983.916   ],\n",
       "          [2863.6511  , 2938.0544  , 1980.0615  ]],\n",
       "         shape=(8192, 3), dtype=float32, 'kpc a h**-1')"
      ]
     },
     "execution_count": 9,
     "metadata": {},
     "output_type": "execute_result"
    }
   ],
   "source": [
    "f['pos']"
   ]
  },
  {
   "cell_type": "code",
   "execution_count": 10,
   "id": "d1053d64",
   "metadata": {},
   "outputs": [
    {
     "data": {
      "text/plain": [
       "['smooth',\n",
       " 'nhp',\n",
       " 'mass',\n",
       " 'rho',\n",
       " 'nhep',\n",
       " 'pos',\n",
       " 'vel',\n",
       " 'nheq',\n",
       " 'nh',\n",
       " 'sfr',\n",
       " 'nhe',\n",
       " 'iord',\n",
       " 'u']"
      ]
     },
     "execution_count": 10,
     "metadata": {},
     "output_type": "execute_result"
    }
   ],
   "source": [
    "f.gas.loadable_keys()"
   ]
  },
  {
   "cell_type": "code",
   "execution_count": 11,
   "id": "2356dec1",
   "metadata": {},
   "outputs": [
    {
     "data": {
      "text/plain": [
       "SimArray([1.3888609e-09, 3.3617684e-09, 4.5273674e-09, ..., 8.5340952e-09,\n",
       "          7.4101774e-09, 1.4051752e-09], shape=(4039,), dtype=float32, '1.00e+10 h**2 Msol a**-3 kpc**-3')"
      ]
     },
     "execution_count": 11,
     "metadata": {},
     "output_type": "execute_result"
    }
   ],
   "source": [
    "f.gas['rho']"
   ]
  },
  {
   "cell_type": "markdown",
   "id": "eb174ca8",
   "metadata": {},
   "source": [
    "### Creating your own arrays"
   ]
  },
  {
   "cell_type": "code",
   "execution_count": 12,
   "id": "cdfdf1aa",
   "metadata": {},
   "outputs": [],
   "source": [
    "f['twicethemass'] = f['mass']*2"
   ]
  },
  {
   "cell_type": "code",
   "execution_count": 13,
   "id": "b53976f0",
   "metadata": {},
   "outputs": [],
   "source": [
    "f.gas['myarray'] = f.gas['rho']**2"
   ]
  },
  {
   "cell_type": "code",
   "execution_count": null,
   "id": "5316b459",
   "metadata": {},
   "outputs": [],
   "source": [
    "@pynbody.derived_array # NOTE: use for dynamic updates\n",
    "def thricethemass(sim) :\n",
    "    return sim['mass']*3"
   ]
  },
  {
   "cell_type": "code",
   "execution_count": 17,
   "id": "fc82bf02",
   "metadata": {},
   "outputs": [
    {
     "data": {
      "text/plain": [
       "SimArray([0.02464408, 0.02464408, 0.02464408, ..., 0.02464408, 0.02464408,\n",
       "          0.02464408], shape=(8192,), dtype=float32, '1.00e+10 Msol h**-1')"
      ]
     },
     "execution_count": 17,
     "metadata": {},
     "output_type": "execute_result"
    }
   ],
   "source": [
    "f['thricethemass']"
   ]
  },
  {
   "cell_type": "code",
   "execution_count": 18,
   "id": "8e1d6764",
   "metadata": {},
   "outputs": [
    {
     "data": {
      "text/plain": [
       "SimArray([3.        , 0.02464408, 0.02464408, ..., 0.02464408, 0.02464408,\n",
       "          0.02464408], shape=(8192,), dtype=float32, '1.00e+10 Msol h**-1')"
      ]
     },
     "execution_count": 18,
     "metadata": {},
     "output_type": "execute_result"
    }
   ],
   "source": [
    "f['mass'][0] = 1\n",
    "f['thricethemass']"
   ]
  },
  {
   "cell_type": "markdown",
   "id": "901f1f6c",
   "metadata": {},
   "source": [
    "### Keeping on top of units"
   ]
  },
  {
   "cell_type": "code",
   "execution_count": 19,
   "id": "112ea50c",
   "metadata": {},
   "outputs": [
    {
     "data": {
      "text/plain": [
       "Unit(\"1.00e+10 Msol h**-1\")"
      ]
     },
     "execution_count": 19,
     "metadata": {},
     "output_type": "execute_result"
    }
   ],
   "source": [
    "f['mass'].units"
   ]
  },
  {
   "cell_type": "code",
   "execution_count": 20,
   "id": "c5f3caa8",
   "metadata": {},
   "outputs": [
    {
     "data": {
      "text/plain": [
       "SimArray([[0.02086032, 0.06957889, 0.05016554],\n",
       "          [0.12001192, 0.05494701, 0.08426115],\n",
       "          [0.12167414, 0.02509174, 0.08236931],\n",
       "          ...,\n",
       "          [1.1232009 , 1.1503017 , 0.7741764 ],\n",
       "          [1.1237916 , 1.1499294 , 0.77617997],\n",
       "          [1.1203643 , 1.1494735 , 0.774672  ]],\n",
       "         shape=(8192, 3), dtype=float32, 'Mpc')"
      ]
     },
     "execution_count": 20,
     "metadata": {},
     "output_type": "execute_result"
    }
   ],
   "source": [
    "f['pos'].in_units('Mpc')"
   ]
  },
  {
   "cell_type": "code",
   "execution_count": 21,
   "id": "dde64be6",
   "metadata": {},
   "outputs": [],
   "source": [
    "f.physical_units()"
   ]
  },
  {
   "cell_type": "code",
   "execution_count": 22,
   "id": "91c63040",
   "metadata": {},
   "outputs": [
    {
     "data": {
      "text/plain": [
       "SimArray([ 326.6502 ,  790.66406, 1064.8047 , ..., 2007.1586 , 1742.821  ,\n",
       "           330.4872 ], shape=(4039,), dtype=float32, 'Msol kpc**-3')"
      ]
     },
     "execution_count": 22,
     "metadata": {},
     "output_type": "execute_result"
    }
   ],
   "source": [
    "f.gas['rho']"
   ]
  },
  {
   "cell_type": "code",
   "execution_count": 23,
   "id": "dc6c2004",
   "metadata": {},
   "outputs": [
    {
     "data": {
      "text/plain": [
       "SimArray([[ 27.938293 ,   4.983705 , -10.008866 ],\n",
       "          [ 15.361564 ,   5.7859726,   4.3631563],\n",
       "          [ -8.357319 ,  -2.8885257,  22.809904 ],\n",
       "          ...,\n",
       "          [ 27.749176 ,  85.60175  ,  15.532437 ],\n",
       "          [ 40.755856 ,  59.442867 ,  44.244846 ],\n",
       "          [ 38.383965 ,  68.63973  ,  46.01429  ]],\n",
       "         shape=(8192, 3), dtype=float32, 'km s**-1')"
      ]
     },
     "execution_count": 23,
     "metadata": {},
     "output_type": "execute_result"
    }
   ],
   "source": [
    "f['vel']"
   ]
  },
  {
   "cell_type": "code",
   "execution_count": 24,
   "id": "4686c3c6",
   "metadata": {},
   "outputs": [
    {
     "data": {
      "text/plain": [
       "Unit(\"km Msol**1/2 s**-1\")"
      ]
     },
     "execution_count": 24,
     "metadata": {},
     "output_type": "execute_result"
    }
   ],
   "source": [
    "5*f['vel']\n",
    "(f['vel']**2).units\n",
    "np.sqrt(((f['vel']**2).sum(axis=1)*f['mass'])).units"
   ]
  },
  {
   "cell_type": "code",
   "execution_count": 25,
   "id": "fa4ea290",
   "metadata": {},
   "outputs": [
    {
     "data": {
      "text/plain": [
       "SimArray([100.65554414, 177.08145483, 269.77397166,  15.64485909,\n",
       "          131.21063549, 159.34457187,  11.09794131, 258.89946811,\n",
       "          208.06248336,  42.10750442], 'kpc')"
      ]
     },
     "execution_count": 25,
     "metadata": {},
     "output_type": "execute_result"
    }
   ],
   "source": [
    "array = pynbody.array.SimArray(np.random.rand(10)) # make the newly-formed numpy array a pynbody array\n",
    "array.sim = f # this links the array to the simulation\n",
    "array.units = 'Mpc a' # we set units that require cosmology information\n",
    "array\n",
    "array.in_units('kpc')"
   ]
  },
  {
   "cell_type": "markdown",
   "id": "dcbf533a",
   "metadata": {},
   "source": [
    "### Subsnaps"
   ]
  },
  {
   "cell_type": "code",
   "execution_count": 26,
   "id": "e781bd58",
   "metadata": {},
   "outputs": [
    {
     "data": {
      "text/plain": [
       "820"
      ]
     },
     "execution_count": 26,
     "metadata": {},
     "output_type": "execute_result"
    }
   ],
   "source": [
    "every_tenth = f[::10]\n",
    "len(every_tenth)"
   ]
  },
  {
   "cell_type": "code",
   "execution_count": 27,
   "id": "9227476b",
   "metadata": {},
   "outputs": [
    {
     "data": {
      "text/plain": [
       "SimArray([1., 2., 3.], dtype=float32, 'kpc')"
      ]
     },
     "execution_count": 27,
     "metadata": {},
     "output_type": "execute_result"
    }
   ],
   "source": [
    "every_tenth['pos'][1]\n",
    "every_tenth['pos'][1] = [1,2,3]\n",
    "every_tenth['pos'][1]"
   ]
  },
  {
   "cell_type": "code",
   "execution_count": null,
   "id": "e552c83c",
   "metadata": {},
   "outputs": [
    {
     "data": {
      "text/plain": [
       "SimArray([1., 2., 3.], dtype=float32, 'kpc')"
      ]
     },
     "execution_count": 28,
     "metadata": {},
     "output_type": "execute_result"
    }
   ],
   "source": [
    "f['pos'][10] # like python lists, mutable views"
   ]
  },
  {
   "cell_type": "code",
   "execution_count": 29,
   "id": "4192d9bc",
   "metadata": {},
   "outputs": [
    {
     "data": {
      "text/plain": [
       "SimArray(1173.6926, dtype=float32, 'kpc')"
      ]
     },
     "execution_count": 29,
     "metadata": {},
     "output_type": "execute_result"
    }
   ],
   "source": [
    "f_slab = f[(f['x']>1000)&(f['x']<2000)]\n",
    "f_slab['x'].min()\n",
    "f_slab['x'].max()\n",
    "f['x'].min()\n",
    "f['x'].max()"
   ]
  },
  {
   "cell_type": "code",
   "execution_count": 30,
   "id": "345e1434",
   "metadata": {},
   "outputs": [
    {
     "data": {
      "text/plain": [
       "SimArray([[1029.6443 ,  421.70737,  169.25818],\n",
       "          [1097.2487 ,  377.8681 ,  149.81082],\n",
       "          [1059.9261 ,  374.7446 ,  192.37201]], dtype=float32, 'kpc')"
      ]
     },
     "execution_count": 30,
     "metadata": {},
     "output_type": "execute_result"
    }
   ],
   "source": [
    "len(f_slab.dm)\n",
    "len(f_slab.dm[::10])\n",
    "f_slab[[100,105,252]].gas['pos']"
   ]
  },
  {
   "cell_type": "markdown",
   "id": "61cbacbe",
   "metadata": {},
   "source": [
    "### Filters"
   ]
  },
  {
   "cell_type": "code",
   "execution_count": 31,
   "id": "14b34fb6",
   "metadata": {},
   "outputs": [],
   "source": [
    "from pynbody.filt import *\n",
    "f_sphere = f[Sphere('10 kpc')]"
   ]
  },
  {
   "cell_type": "markdown",
   "id": "8508329e",
   "metadata": {},
   "source": [
    "### Centering"
   ]
  },
  {
   "cell_type": "code",
   "execution_count": 32,
   "id": "be93edad",
   "metadata": {},
   "outputs": [
    {
     "name": "stderr",
     "output_type": "stream",
     "text": [
      "pynbody.halo : Unable to load AHF substructure file; continuing without. To expose the underlying problem as an exception, pass ignore_missing_substructure=False to the AHFCatalogue constructor\n"
     ]
    },
    {
     "data": {
      "text/plain": [
       "<Transformation translate, offset_velocity>"
      ]
     },
     "execution_count": 32,
     "metadata": {},
     "output_type": "execute_result"
    }
   ],
   "source": [
    "f = pynbody.load(\"testdata/gasoline_ahf/g15784.lr.01024.gz\");\n",
    "h = f.halos();\n",
    "pynbody.analysis.center(h[0])"
   ]
  },
  {
   "cell_type": "code",
   "execution_count": null,
   "id": "17f6da55",
   "metadata": {},
   "outputs": [
    {
     "data": {
      "text/plain": [
       "SimArray([ 0.00124333, -0.00044998, -0.00101245], '6.85e+04 kpc a')"
      ]
     },
     "execution_count": 33,
     "metadata": {},
     "output_type": "execute_result"
    }
   ],
   "source": [
    "h[1]['pos'][0]\n",
    "h[5]['pos'][0]\n",
    "h5 = h[5]\n",
    "my_h5_transform = pynbody.analysis.center(h5, move_all=False)\n",
    "h[1]['pos'][0] # should be unchanged\n",
    "h5['pos'][0] # should be changed, useful for plots and profiles"
   ]
  },
  {
   "cell_type": "code",
   "execution_count": 34,
   "id": "bc8a3401",
   "metadata": {},
   "outputs": [
    {
     "name": "stdout",
     "output_type": "stream",
     "text": [
      "[-0.01305085  0.00186122 -0.04388914]\n",
      "[-0.02857659  0.03555186 -0.10901458]\n"
     ]
    }
   ],
   "source": [
    "my_h5_transform.revert()\n",
    "print(h5['pos'][0]) # back to where it started\n",
    "print(h[1]['pos'][0]) # still hasn't changed, of course"
   ]
  },
  {
   "cell_type": "code",
   "execution_count": 35,
   "id": "6526cd05",
   "metadata": {},
   "outputs": [
    {
     "name": "stdout",
     "output_type": "stream",
     "text": [
      "Position when inside with block:  [ 0.00124333 -0.00044998 -0.00101245]\n",
      "Position when outside with block:  [-0.01305085  0.00186122 -0.04388914]\n"
     ]
    }
   ],
   "source": [
    "with pynbody.analysis.center(h[5]):\n",
    "    print(\"Position when inside with block: \", h[5]['pos'][0])\n",
    "print(\"Position when outside with block: \", h[5]['pos'][0])"
   ]
  },
  {
   "cell_type": "markdown",
   "id": "9a6ac76b",
   "metadata": {},
   "source": [
    "## Subviews and Filters"
   ]
  },
  {
   "cell_type": "markdown",
   "id": "06a29908",
   "metadata": {},
   "source": [
    "### Creating a simple subview"
   ]
  },
  {
   "cell_type": "code",
   "execution_count": 36,
   "id": "eae93328",
   "metadata": {},
   "outputs": [],
   "source": [
    "import pynbody\n",
    "import numpy as np\n",
    "f = pynbody.load(\"testdata/gasoline_ahf/g15784.lr.01024\")\n",
    "f.physical_units()"
   ]
  },
  {
   "cell_type": "code",
   "execution_count": 37,
   "id": "1775a856",
   "metadata": {},
   "outputs": [],
   "source": [
    "subsnap_slice = f[100:200:2]\n",
    "subsnap_indexed = f[[0, 90, 200, 1000]]"
   ]
  },
  {
   "cell_type": "code",
   "execution_count": 38,
   "id": "1682723e",
   "metadata": {},
   "outputs": [
    {
     "data": {
      "text/plain": [
       "np.True_"
      ]
     },
     "execution_count": 38,
     "metadata": {},
     "output_type": "execute_result"
    }
   ],
   "source": [
    "np.all(f['pos'][100] == subsnap_slice['pos'][0])\n",
    "np.all(f['pos'][[0, 90, 200, 1000]] == subsnap_indexed['pos'])"
   ]
  },
  {
   "cell_type": "code",
   "execution_count": 39,
   "id": "a565a101",
   "metadata": {},
   "outputs": [
    {
     "name": "stderr",
     "output_type": "stream",
     "text": [
      "pynbody.halo : Unable to load AHF substructure file; continuing without. To expose the underlying problem as an exception, pass ignore_missing_substructure=False to the AHFCatalogue constructor\n"
     ]
    },
    {
     "data": {
      "text/plain": [
       "SimArray([ 1675.70819996, -2333.17011991, -8387.15939682], 'kpc')"
      ]
     },
     "execution_count": 39,
     "metadata": {},
     "output_type": "execute_result"
    }
   ],
   "source": [
    "h = f.halos()\n",
    "subsnap_halo0 = h[0]\n",
    "(subsnap_halo0['mass'][:,np.newaxis]*subsnap_halo0['pos']).sum(axis=0)/subsnap_halo0['mass'].sum()"
   ]
  },
  {
   "cell_type": "code",
   "execution_count": 40,
   "id": "92043069",
   "metadata": {},
   "outputs": [
    {
     "data": {
      "text/plain": [
       "SimArray([ 1675.70819996, -2333.17011991, -8387.15939682], 'kpc')"
      ]
     },
     "execution_count": 40,
     "metadata": {},
     "output_type": "execute_result"
    }
   ],
   "source": [
    "subsnap_halo0.mean_by_mass('pos')"
   ]
  },
  {
   "cell_type": "markdown",
   "id": "43060f85",
   "metadata": {},
   "source": [
    "### The relationship is two-way"
   ]
  },
  {
   "cell_type": "code",
   "execution_count": 41,
   "id": "0507abd3",
   "metadata": {},
   "outputs": [
    {
     "data": {
      "text/plain": [
       "SimArray([1., 2., 3.], 'kpc')"
      ]
     },
     "execution_count": 41,
     "metadata": {},
     "output_type": "execute_result"
    }
   ],
   "source": [
    "subsnap_slice['pos'][0] = [1., 2., 3.]\n",
    "f['pos'][100]"
   ]
  },
  {
   "cell_type": "code",
   "execution_count": null,
   "id": "0a3bffc4",
   "metadata": {},
   "outputs": [
    {
     "data": {
      "text/plain": [
       "SimArray([4., 5., 6.], 'kpc')"
      ]
     },
     "execution_count": 42,
     "metadata": {},
     "output_type": "execute_result"
    }
   ],
   "source": [
    "f['pos'][100] = [4., 5., 6.]\n",
    "subsnap_slice['pos'][0] # dynamically updated"
   ]
  },
  {
   "cell_type": "markdown",
   "id": "34b5b562",
   "metadata": {},
   "source": [
    "### Filters"
   ]
  },
  {
   "cell_type": "code",
   "execution_count": 43,
   "id": "4e36af09",
   "metadata": {},
   "outputs": [
    {
     "data": {
      "text/plain": [
       "'DM, gas, star mass: 1.2e+12, 8.3e+10, and 1.1e+11 Msol.'"
      ]
     },
     "execution_count": 43,
     "metadata": {},
     "output_type": "execute_result"
    }
   ],
   "source": [
    "cen = subsnap_halo0.mean_by_mass('pos')\n",
    "sphere_filter = pynbody.filt.Sphere('200 kpc', cen)\n",
    "sphere_view = f[sphere_filter]\n",
    "f\"DM, gas, star mass: {sphere_view.dm['mass'].sum():.1e}, \\\n",
    "{sphere_view.g['mass'].sum():.1e}, and {sphere_view.s['mass'].sum():.1e} Msol.\""
   ]
  },
  {
   "cell_type": "code",
   "execution_count": 44,
   "id": "5cbbe557",
   "metadata": {},
   "outputs": [
    {
     "data": {
      "text/plain": [
       "'DM, gas, star mass: 9.2e+11, 7.4e+10, and 1.2e+10 Msol.'"
      ]
     },
     "execution_count": 44,
     "metadata": {},
     "output_type": "execute_result"
    }
   ],
   "source": [
    "sphere_filter_outer = pynbody.filt.Sphere('200 kpc', cen) \\\n",
    "                      & ~pynbody.filt.Sphere('25 kpc', cen)\n",
    "\n",
    "sphere_outer_view = f[sphere_filter_outer]\n",
    "f\"DM, gas, star mass: \\\n",
    "{sphere_outer_view.dm['mass'].sum():.1e}, {sphere_outer_view.g['mass'].sum():.1e}, \\\n",
    "and {sphere_outer_view.s['mass'].sum():.1e} Msol.\""
   ]
  },
  {
   "cell_type": "code",
   "execution_count": 45,
   "id": "4f41ada5",
   "metadata": {},
   "outputs": [
    {
     "data": {
      "text/plain": [
       "'Stellar mass in range: 3.5e+10 Msol.'"
      ]
     },
     "execution_count": 45,
     "metadata": {},
     "output_type": "execute_result"
    }
   ],
   "source": [
    "age_filter = pynbody.filt.BandPass('age', '1 Gyr', '10 Gyr')\n",
    "age_sphere_filter = age_filter & pynbody.filt.Sphere('25 kpc', cen)\n",
    "age_sphere_view = f.star[age_sphere_filter]\n",
    "f\"Stellar mass in range: {age_sphere_view['mass'].sum():.1e} Msol.\""
   ]
  },
  {
   "cell_type": "markdown",
   "id": "641e6b57",
   "metadata": {},
   "source": [
    "## Halos and Groups"
   ]
  },
  {
   "cell_type": "code",
   "execution_count": 46,
   "id": "9c4f4980",
   "metadata": {},
   "outputs": [
    {
     "name": "stderr",
     "output_type": "stream",
     "text": [
      "pynbody.halo : Unable to load AHF substructure file; continuing without. To expose the underlying problem as an exception, pass ignore_missing_substructure=False to the AHFCatalogue constructor\n"
     ]
    },
    {
     "data": {
      "text/plain": [
       "<AHFCatalogue, length 1411>"
      ]
     },
     "execution_count": 46,
     "metadata": {},
     "output_type": "execute_result"
    }
   ],
   "source": [
    "import pynbody\n",
    "import matplotlib.pylab as plt\n",
    "\n",
    "s = pynbody.load('testdata/gasoline_ahf/g15784.lr.01024.gz')\n",
    "s.halos()"
   ]
  },
  {
   "cell_type": "code",
   "execution_count": 47,
   "id": "92f9687a",
   "metadata": {},
   "outputs": [
    {
     "name": "stderr",
     "output_type": "stream",
     "text": [
      "/opt/homebrew/anaconda3/envs/grinnell/lib/python3.11/site-packages/pynbody/snapshot/gadgethdf.py:449: UserWarning: Masses are either stored in the header or have another dataset name; assuming the cosmological factor h**-1\n",
      "  warnings.warn(\"Masses are either stored in the header or have another dataset name; assuming the cosmological factor %s\" % units.h**-1)\n"
     ]
    },
    {
     "data": {
      "text/plain": [
       "<Gadget4SubfindHDFCatalogue, length 2517>"
      ]
     },
     "execution_count": 47,
     "metadata": {},
     "output_type": "execute_result"
    }
   ],
   "source": [
    "s = pynbody.load('testdata/gadget4_subfind_HBT/snapshot_034.hdf5')\n",
    "s.halos()"
   ]
  },
  {
   "cell_type": "markdown",
   "id": "7b37c8c9",
   "metadata": {},
   "source": [
    "### Selecting a format"
   ]
  },
  {
   "cell_type": "code",
   "execution_count": 48,
   "id": "0234cf88",
   "metadata": {},
   "outputs": [
    {
     "data": {
      "text/plain": [
       "<HBTPlusCatalogue, length 2349>"
      ]
     },
     "execution_count": 48,
     "metadata": {},
     "output_type": "execute_result"
    }
   ],
   "source": [
    "s.halos(priority=['HBTPlusCatalogue'])"
   ]
  },
  {
   "cell_type": "markdown",
   "id": "572f44c1",
   "metadata": {},
   "source": [
    "### Specifying locations"
   ]
  },
  {
   "cell_type": "code",
   "execution_count": 49,
   "id": "821b956d",
   "metadata": {},
   "outputs": [
    {
     "data": {
      "text/plain": [
       "<Gadget4SubfindHDFCatalogue, length 2517>"
      ]
     },
     "execution_count": 49,
     "metadata": {},
     "output_type": "execute_result"
    }
   ],
   "source": [
    "s.halos(filename='testdata/gadget4_subfind_HBT/034/SubSnap_034.0.hdf5')\n",
    "h = s.halos(filename='testdata/gadget4_subfind_HBT/fof_subhalo_tab_034.hdf5')\n",
    "h"
   ]
  },
  {
   "cell_type": "markdown",
   "id": "cdc7451a",
   "metadata": {},
   "source": [
    "### Information about the catalogue"
   ]
  },
  {
   "cell_type": "code",
   "execution_count": 50,
   "id": "15dca713",
   "metadata": {},
   "outputs": [
    {
     "data": {
      "text/plain": [
       "2517"
      ]
     },
     "execution_count": 50,
     "metadata": {},
     "output_type": "execute_result"
    }
   ],
   "source": [
    "len(h)"
   ]
  },
  {
   "cell_type": "code",
   "execution_count": 51,
   "id": "bf0cceaa",
   "metadata": {},
   "outputs": [
    {
     "data": {
      "text/plain": [
       "(307386, 137037)"
      ]
     },
     "execution_count": 51,
     "metadata": {},
     "output_type": "execute_result"
    }
   ],
   "source": [
    "len(h[0]), len(h[1])"
   ]
  },
  {
   "cell_type": "code",
   "execution_count": 52,
   "id": "3a2f0ca9",
   "metadata": {},
   "outputs": [
    {
     "name": "stderr",
     "output_type": "stream",
     "text": [
      "/opt/homebrew/anaconda3/envs/grinnell/lib/python3.11/site-packages/pynbody/snapshot/gadgethdf.py:469: UserWarning: Unable to infer units from HDF attributes\n",
      "  warnings.warn(\"Unable to infer units from HDF attributes\")\n"
     ]
    },
    {
     "data": {
      "text/plain": [
       "SimArray([[23.750328, 27.66374 , 25.721956],\n",
       "          [23.751205, 27.66415 , 25.72195 ],\n",
       "          [23.75042 , 27.66385 , 25.722666],\n",
       "          [23.75083 , 27.663345, 25.722668],\n",
       "          [23.750278, 27.663668, 25.722883]], dtype=float32, '3.09e+24 cm a h**-1')"
      ]
     },
     "execution_count": 52,
     "metadata": {},
     "output_type": "execute_result"
    }
   ],
   "source": [
    "h[0]['mass'].sum().in_units('1e12 Msol')\n",
    "h[0]['pos'][:5]"
   ]
  },
  {
   "cell_type": "code",
   "execution_count": 53,
   "id": "5050ea70",
   "metadata": {},
   "outputs": [
    {
     "data": {
      "text/plain": [
       "Unit(\"7.80e+44 g h**-1\")"
      ]
     },
     "execution_count": 53,
     "metadata": {},
     "output_type": "execute_result"
    }
   ],
   "source": [
    "h[0].properties['GroupMass']"
   ]
  },
  {
   "cell_type": "code",
   "execution_count": 54,
   "id": "00e405d6",
   "metadata": {},
   "outputs": [
    {
     "data": {
      "text/plain": [
       "Unit(\"5.82e+11 Msol\")"
      ]
     },
     "execution_count": 54,
     "metadata": {},
     "output_type": "execute_result"
    }
   ],
   "source": [
    "h.physical_units()\n",
    "h[0].properties['GroupMass']"
   ]
  },
  {
   "cell_type": "code",
   "execution_count": 55,
   "id": "b43206fe",
   "metadata": {},
   "outputs": [
    {
     "data": {
      "text/plain": [
       "<SubhaloCatalogue, length 135>"
      ]
     },
     "execution_count": 55,
     "metadata": {},
     "output_type": "execute_result"
    }
   ],
   "source": [
    "subhalos_of_0 = h[0].subhalos\n",
    "subhalos_of_0"
   ]
  },
  {
   "cell_type": "code",
   "execution_count": 56,
   "id": "c12176f4",
   "metadata": {},
   "outputs": [
    {
     "data": {
      "text/plain": [
       "(215716, Unit(\"4.09e+11 Msol\"))"
      ]
     },
     "execution_count": 56,
     "metadata": {},
     "output_type": "execute_result"
    }
   ],
   "source": [
    "len(subhalos_of_0[0]), subhalos_of_0[0].properties['SubhaloMass']"
   ]
  },
  {
   "cell_type": "markdown",
   "id": "e5fc702d",
   "metadata": {},
   "source": [
    "### Accessing particle data"
   ]
  },
  {
   "cell_type": "code",
   "execution_count": 57,
   "id": "5d2f9d0f",
   "metadata": {},
   "outputs": [
    {
     "data": {
      "text/plain": [
       "SimArray([1.8945181e+06, 1.8945181e+06, 1.8945181e+06, ..., 1.8945181e+06,\n",
       "          1.8945181e+06, 1.8945181e+06], shape=(307386,), dtype=float32, 'Msol')"
      ]
     },
     "execution_count": 57,
     "metadata": {},
     "output_type": "execute_result"
    }
   ],
   "source": [
    "h[0]['mass']"
   ]
  },
  {
   "cell_type": "code",
   "execution_count": 58,
   "id": "c9ff3415",
   "metadata": {},
   "outputs": [
    {
     "data": {
      "text/plain": [
       "Unit(\"5.82e+11 Msol\")"
      ]
     },
     "execution_count": 58,
     "metadata": {},
     "output_type": "execute_result"
    }
   ],
   "source": [
    "h[0]['mass'].sum()\n",
    "h[0].properties['GroupMass']"
   ]
  },
  {
   "cell_type": "code",
   "execution_count": 59,
   "id": "f223e033",
   "metadata": {},
   "outputs": [
    {
     "data": {
      "text/plain": [
       "SimArray([[16014.695, 18653.484, 17344.152],\n",
       "          [16015.287, 18653.76 , 17344.148],\n",
       "          [16014.757, 18653.559, 17344.63 ],\n",
       "          [16015.033, 18653.219, 17344.63 ],\n",
       "          [16014.662, 18653.436, 17344.777]], dtype=float32, 'kpc')"
      ]
     },
     "execution_count": 59,
     "metadata": {},
     "output_type": "execute_result"
    }
   ],
   "source": [
    "h[0]['pos'][:5]"
   ]
  },
  {
   "cell_type": "code",
   "execution_count": 60,
   "id": "d3a34a14",
   "metadata": {},
   "outputs": [
    {
     "data": {
      "text/plain": [
       "SimArray([[-76.89401 , 163.26326 ,  63.777664],\n",
       "          [-83.55451 , 161.6504  ,  74.341225],\n",
       "          [-87.5334  , 179.96936 ,  70.71324 ],\n",
       "          [-94.90368 , 183.4485  ,  61.012352],\n",
       "          [-69.53241 , 160.77155 ,  72.38382 ]], dtype=float32, 'km s**-1')"
      ]
     },
     "execution_count": 60,
     "metadata": {},
     "output_type": "execute_result"
    }
   ],
   "source": [
    "h[0].subhalos[0]['vel'][:5]"
   ]
  },
  {
   "cell_type": "markdown",
   "id": "7c2fa647",
   "metadata": {},
   "source": [
    "### Working with large numbers of halos"
   ]
  },
  {
   "cell_type": "code",
   "execution_count": 61,
   "id": "9a08031f",
   "metadata": {},
   "outputs": [],
   "source": [
    "h.load_all()\n",
    "h[0]['vel'].std() # for one\n",
    "v_std = [halo_i['vel'].std() for halo_i in h[:100]] # for the first 100"
   ]
  },
  {
   "cell_type": "code",
   "execution_count": 62,
   "id": "8d46eecd",
   "metadata": {},
   "outputs": [],
   "source": [
    "h.get_properties_one_halo(0)['GroupMass'] # for one, without touching any particles\n",
    "masses = h.get_properties_all_halos()['GroupMass'][:100] # for first 100, without touching any particles"
   ]
  },
  {
   "cell_type": "code",
   "execution_count": 63,
   "id": "89a0aa17",
   "metadata": {},
   "outputs": [
    {
     "data": {
      "text/plain": [
       "[]"
      ]
     },
     "execution_count": 63,
     "metadata": {},
     "output_type": "execute_result"
    },
    {
     "data": {
      "image/png": "[encoded data removed]",
      "text/plain": [
       "<Figure size 640x480 with 1 Axes>"
      ]
     },
     "metadata": {},
     "output_type": "display_data"
    }
   ],
   "source": [
    "plt.plot(masses, v_std, 'o')\n",
    "plt.xlabel(r'Mass / $M_{\\odot}$')\n",
    "plt.ylabel(r'rms velocity / $\\mathrm{km/s}$')\n",
    "plt.loglog()"
   ]
  },
  {
   "cell_type": "markdown",
   "id": "b64cef10",
   "metadata": {},
   "source": [
    "## Halo Mass Functions"
   ]
  },
  {
   "cell_type": "code",
   "execution_count": 65,
   "id": "5e2b9ef2",
   "metadata": {},
   "outputs": [
    {
     "name": "stdout",
     "output_type": "stream",
     "text": [
      "x tutorial_gadget/\n",
      "x tutorial_gadget/snapshot_020\n",
      "x tutorial_gadget/snapshot_019\n",
      "x tutorial_gadget/hsmldir_019/\n",
      "x tutorial_gadget/hsmldir_020/\n",
      "x tutorial_gadget/groups_019/\n",
      "x tutorial_gadget/groups_020/\n",
      "x tutorial_gadget/groups_020/subhalo_tab_020.0\n",
      "x tutorial_gadget/groups_020/subhalo_ids_020.0\n",
      "x tutorial_gadget/groups_020/group_tab_020.0\n",
      "x tutorial_gadget/groups_020/group_ids_020.0\n",
      "x tutorial_gadget/groups_019/subhalo_ids_019.0\n",
      "x tutorial_gadget/groups_019/subhalo_tab_019.0\n",
      "x tutorial_gadget/groups_019/group_ids_019.0\n",
      "x tutorial_gadget/groups_019/group_tab_019.0\n",
      "x tutorial_gadget/hsmldir_020/hsml_020.0\n",
      "x tutorial_gadget/hsmldir_019/hsml_019.0\n"
     ]
    }
   ],
   "source": [
    "# !wget https://zenodo.org/records/10825178/files/tutorial_gadget.tar.gz?download=1 -O tutorial_gadget4.tar.gz\n",
    "!tar -xvzf tutorial_gadget.tar"
   ]
  },
  {
   "cell_type": "markdown",
   "id": "3bdb70f1",
   "metadata": {},
   "source": [
    "### Calculating a theoretical halo mass function"
   ]
  },
  {
   "cell_type": "code",
   "execution_count": 66,
   "id": "dafd7e37",
   "metadata": {},
   "outputs": [],
   "source": [
    "import pynbody\n",
    "import matplotlib.pyplot as p\n",
    "s = pynbody.load('tutorial_gadget/snapshot_020')\n",
    "s.physical_units()"
   ]
  },
  {
   "cell_type": "code",
   "execution_count": 67,
   "id": "5239cd8d",
   "metadata": {},
   "outputs": [],
   "source": [
    "s.properties['omegaM0'], s.properties['omegaL0'], s.properties['h']\n",
    "s.properties['sigma8'] = 0.8288"
   ]
  },
  {
   "cell_type": "code",
   "execution_count": 68,
   "id": "83767ba9",
   "metadata": {},
   "outputs": [
    {
     "name": "stderr",
     "output_type": "stream",
     "text": [
      "/opt/homebrew/anaconda3/envs/grinnell/lib/python3.11/site-packages/pynbody/analysis/hmf.py:124: RuntimeWarning: Using the default power-spectrum spectrum which assumes Planck 2018 values: Omega_c h^2 = 0.120; Omega_b h^2 = 0.0224; h = 0.676; n_s = 0.9667. Sigma8 will be correctly scaled to the simulation value. \n",
      "  warnings.warn(\n",
      "/opt/homebrew/anaconda3/envs/grinnell/lib/python3.11/site-packages/pynbody/analysis/hmf.py:364: IntegrationWarning: The maximum number of subdivisions (50) has been achieved.\n",
      "  If increasing the limit yields no improvement it is advised to analyze \n",
      "  the integrand in order to determine the difficulties.  If the position of a \n",
      "  local difficulty can be determined (singularity, discontinuity) one will \n",
      "  probably gain from splitting up the interval and calling the integrator \n",
      "  on the subranges.  Perhaps a special-purpose integrator should be used.\n",
      "  v =  scipy.integrate.quad(integrand_ln_k, math.log(powspec.min_k), math.log(\n",
      "/opt/homebrew/anaconda3/envs/grinnell/lib/python3.11/site-packages/pynbody/analysis/hmf.py:364: IntegrationWarning: The occurrence of roundoff error is detected, which prevents \n",
      "  the requested tolerance from being achieved.  The error may be \n",
      "  underestimated.\n",
      "  v =  scipy.integrate.quad(integrand_ln_k, math.log(powspec.min_k), math.log(\n"
     ]
    }
   ],
   "source": [
    "m, sig, dn_dlogm = pynbody.analysis.hmf.halo_mass_function(s, log_M_min=10, log_M_max=15, delta_log_M=0.1,\n",
    "                                                           kern=\"REEDU\")"
   ]
  },
  {
   "cell_type": "code",
   "execution_count": 69,
   "id": "66a420f7",
   "metadata": {},
   "outputs": [
    {
     "data": {
      "text/plain": [
       "Text(0, 0.5, '$dn / d\\\\log M / \\\\mathrm{Mpc}^{-3}\\\\,\\\\mathrm{h}^{3}\\\\,\\\\mathrm{a}^{-3}$')"
      ]
     },
     "execution_count": 69,
     "metadata": {},
     "output_type": "execute_result"
    },
    {
     "data": {
      "image/png": "[encoded data removed]",
      "text/plain": [
       "<Figure size 640x480 with 1 Axes>"
      ]
     },
     "metadata": {},
     "output_type": "display_data"
    }
   ],
   "source": [
    "p.plot(m, dn_dlogm)\n",
    "p.loglog()\n",
    "p.xlabel(f\"$M / {m.units.latex()}$\")\n",
    "p.ylabel(f\"$dn / d\\\\log M / {dn_dlogm.units.latex()}$\")"
   ]
  },
  {
   "cell_type": "markdown",
   "id": "e68f6892",
   "metadata": {},
   "source": [
    "### Obtaining the binned halo mass function from the simulation"
   ]
  },
  {
   "cell_type": "code",
   "execution_count": 79,
   "id": "6f79c565",
   "metadata": {},
   "outputs": [],
   "source": [
    "bin_center, bin_counts, err = pynbody.analysis.hmf.simulation_halo_mass_function(s,\n",
    "                       log_M_min=10, log_M_max=15, delta_log_M=0.1, )"
   ]
  },
  {
   "cell_type": "code",
   "execution_count": 80,
   "id": "39e88676",
   "metadata": {},
   "outputs": [
    {
     "data": {
      "text/plain": [
       "(10000000000.0, 1000000000000000.0)"
      ]
     },
     "execution_count": 80,
     "metadata": {},
     "output_type": "execute_result"
    },
    {
     "data": {
      "image/png": "[encoded data removed]",
      "text/plain": [
       "<Figure size 640x480 with 1 Axes>"
      ]
     },
     "metadata": {},
     "output_type": "display_data"
    }
   ],
   "source": [
    "p.plot(m, dn_dlogm)\n",
    "p.loglog()\n",
    "p.xlabel(f\"$M / {m.units.latex()}$\")\n",
    "p.ylabel(f\"$dn / d\\\\log M / {dn_dlogm.units.latex()}$\")\n",
    "\n",
    "plt.errorbar(bin_center, bin_counts, yerr=err, fmt='o',\n",
    "             capthick=2, elinewidth=2, color='darkgoldenrod')\n",
    "\n",
    "plt.xlim(1e10, 1e15)"
   ]
  },
  {
   "cell_type": "code",
   "execution_count": 81,
   "id": "ce2537e1",
   "metadata": {},
   "outputs": [
    {
     "data": {
      "text/plain": [
       "dict_keys(['omegaM0', 'omegaL0', 'boxsize', 'a', 'h', 'time', 'sigma8', 'halo_number', 'mass', 'pos', 'mmean_200', 'rmean_200', 'mcrit_200', 'rcrit_200', 'mtop_200', 'rtop_200', 'contmass', 'group_len', 'group_off', 'first_sub', 'Nsubs', 'cont_count', 'mostboundID', 'children'])"
      ]
     },
     "execution_count": 81,
     "metadata": {},
     "output_type": "execute_result"
    }
   ],
   "source": [
    "s.halos()[0].properties.keys()"
   ]
  },
  {
   "cell_type": "code",
   "execution_count": 82,
   "id": "894eb6d5",
   "metadata": {},
   "outputs": [
    {
     "data": {
      "text/plain": [
       "(10000000000.0, 1000000000000000.0)"
      ]
     },
     "execution_count": 82,
     "metadata": {},
     "output_type": "execute_result"
    },
    {
     "data": {
      "image/png": "[encoded data removed]",
      "text/plain": [
       "<Figure size 640x480 with 1 Axes>"
      ]
     },
     "metadata": {},
     "output_type": "display_data"
    }
   ],
   "source": [
    "\n",
    "\n",
    "p.plot(m, dn_dlogm)\n",
    "p.loglog()\n",
    "p.xlabel(f\"$M / {m.units.latex()}$\")\n",
    "p.ylabel(f\"$dn / d\\\\log M / {dn_dlogm.units.latex()}$\")\n",
    "\n",
    "plt.errorbar(bin_center, bin_counts, yerr=err, fmt='o',\n",
    "             capthick=2, elinewidth=2, color='darkgoldenrod')\n",
    "\n",
    "bin_center, bin_counts, err = pynbody.analysis.hmf.simulation_halo_mass_function(s,\n",
    "                       log_M_min=10, log_M_max=15, delta_log_M=0.1,\n",
    "                       mass_property='mmean_200')\n",
    "\n",
    "plt.errorbar(bin_center, bin_counts, yerr=err, fmt='o',\n",
    "             capthick=2, elinewidth=2, color='k', alpha=0.5)\n",
    "\n",
    "plt.xlim(1e10, 1e15)"
   ]
  },
  {
   "cell_type": "markdown",
   "id": "79d17325",
   "metadata": {},
   "source": [
    "## Linking snapshots"
   ]
  },
  {
   "cell_type": "code",
   "execution_count": 84,
   "id": "f397a649",
   "metadata": {},
   "outputs": [
    {
     "name": "stdout",
     "output_type": "stream",
     "text": [
      "--2025-06-17 16:42:13--  https://zenodo.org/records/10825178/files/tutorial_gadget4.tar.gz?download=1\n",
      "Resolving zenodo.org (zenodo.org)... 188.185.45.92, 188.185.43.25, 188.185.48.194\n",
      "Connecting to zenodo.org (zenodo.org)|188.185.45.92|:443... connected.\n",
      "HTTP request sent, awaiting response... 200 OK\n",
      "Length: 353363838 (337M) [application/octet-stream]\n",
      "Saving to: ‘tutorial_gadget4.tar.gz’\n",
      "\n",
      "tutorial_gadget4.ta 100%[===================>] 336.99M  2.88MB/s    in 1m 44s  \n",
      "\n",
      "2025-06-17 16:43:58 (3.23 MB/s) - ‘tutorial_gadget4.tar.gz’ saved [353363838/353363838]\n",
      "\n",
      "x tutorial_gadget4/\n",
      "x tutorial_gadget4/subhalo_desc_035.hdf5\n",
      "x tutorial_gadget4/subhalo_prog_034.hdf5\n",
      "x tutorial_gadget4/subhalo_prog_035.hdf5\n",
      "x tutorial_gadget4/subhalo_desc_034.hdf5\n",
      "x tutorial_gadget4/subhalo_desc_033.hdf5\n",
      "x tutorial_gadget4/subhalo_prog_033.hdf5\n",
      "x tutorial_gadget4/snapshot_035.hdf5\n",
      "x tutorial_gadget4/fof_subhalo_tab_033.hdf5\n",
      "x tutorial_gadget4/snapshot_034.hdf5\n",
      "x tutorial_gadget4/fof_subhalo_tab_034.hdf5\n",
      "x tutorial_gadget4/snapshot_033.hdf5\n",
      "x tutorial_gadget4/fof_subhalo_tab_035.hdf5\n"
     ]
    }
   ],
   "source": [
    "!wget 'https://zenodo.org/records/10825178/files/tutorial_gadget4.tar.gz?download=1' -O tutorial_gadget4.tar.gz\n",
    "!tar -xvzf tutorial_gadget4.tar.gz"
   ]
  },
  {
   "cell_type": "markdown",
   "id": "e97c98dd",
   "metadata": {},
   "source": [
    "### Basic usage"
   ]
  },
  {
   "cell_type": "code",
   "execution_count": 85,
   "id": "17454255",
   "metadata": {},
   "outputs": [
    {
     "name": "stderr",
     "output_type": "stream",
     "text": [
      "/opt/homebrew/anaconda3/envs/grinnell/lib/python3.11/site-packages/pynbody/snapshot/gadgethdf.py:449: UserWarning: Masses are either stored in the header or have another dataset name; assuming the cosmological factor h**-1\n",
      "  warnings.warn(\"Masses are either stored in the header or have another dataset name; assuming the cosmological factor %s\" % units.h**-1)\n"
     ]
    }
   ],
   "source": [
    "import pynbody\n",
    "f1 = pynbody.load(\"tutorial_gadget4/snapshot_033.hdf5\")\n",
    "f2 = pynbody.load(\"tutorial_gadget4/snapshot_035.hdf5\")"
   ]
  },
  {
   "cell_type": "code",
   "execution_count": 86,
   "id": "b79c4c5c",
   "metadata": {},
   "outputs": [
    {
     "data": {
      "text/plain": [
       "'f1 redshift=1.35; f2 redshift=1.06'"
      ]
     },
     "execution_count": 86,
     "metadata": {},
     "output_type": "execute_result"
    }
   ],
   "source": [
    "f\"f1 redshift={f1.properties['z']:.2f}; f2 redshift={f2.properties['z']:.2f}\""
   ]
  },
  {
   "cell_type": "code",
   "execution_count": 87,
   "id": "b77d8f13",
   "metadata": {},
   "outputs": [],
   "source": [
    "h2 = f2.halos()"
   ]
  },
  {
   "cell_type": "code",
   "execution_count": 88,
   "id": "f5457152",
   "metadata": {},
   "outputs": [],
   "source": [
    "b = f2.bridge(f1)"
   ]
  },
  {
   "cell_type": "code",
   "execution_count": 89,
   "id": "be1b4df7",
   "metadata": {},
   "outputs": [
    {
     "name": "stderr",
     "output_type": "stream",
     "text": [
      "/opt/homebrew/anaconda3/envs/grinnell/lib/python3.11/site-packages/pynbody/snapshot/gadgethdf.py:469: UserWarning: Unable to infer units from HDF attributes\n",
      "  warnings.warn(\"Unable to infer units from HDF attributes\")\n"
     ]
    },
    {
     "data": {
      "text/plain": [
       "SimArray(2.6222444, dtype=float32, 'Mpc')"
      ]
     },
     "execution_count": 89,
     "metadata": {},
     "output_type": "execute_result"
    }
   ],
   "source": [
    "displacement = np.linalg.norm(f2['pos'] - f1['pos'], axis=1).in_units(\"Mpc\") # <-- wrong thing to do\n",
    "displacement.mean() # <-- will give wrong answer"
   ]
  },
  {
   "cell_type": "code",
   "execution_count": 90,
   "id": "ba36c6b8",
   "metadata": {},
   "outputs": [
    {
     "data": {
      "text/plain": [
       "SimArray(0.39596575, dtype=float32, 'Mpc')"
      ]
     },
     "execution_count": 90,
     "metadata": {},
     "output_type": "execute_result"
    }
   ],
   "source": [
    "f2_particles_reordered = b(f1)\n",
    "displacement = np.linalg.norm(f2_particles_reordered['pos'] - f1['pos'], axis=1).in_units(\"Mpc\")\n",
    "displacement.mean()"
   ]
  },
  {
   "cell_type": "markdown",
   "id": "e4834180",
   "metadata": {},
   "source": [
    "### Tracing subregions"
   ]
  },
  {
   "cell_type": "code",
   "execution_count": 91,
   "id": "88fd93ca",
   "metadata": {},
   "outputs": [],
   "source": [
    "progenitor_particles = b(h2[9])"
   ]
  },
  {
   "cell_type": "code",
   "execution_count": 92,
   "id": "94c3ae77",
   "metadata": {},
   "outputs": [
    {
     "data": {
      "text/plain": [
       "True"
      ]
     },
     "execution_count": 92,
     "metadata": {},
     "output_type": "execute_result"
    }
   ],
   "source": [
    "h2[9]['iord']\n",
    "progenitor_particles['iord']\n",
    "all(h2[9]['iord'] == progenitor_particles['iord'])"
   ]
  },
  {
   "cell_type": "code",
   "execution_count": 93,
   "id": "8ec18be3",
   "metadata": {},
   "outputs": [
    {
     "data": {
      "text/plain": [
       "SimArray([24.320396, 24.320671, 24.32054 , ..., 24.284363, 24.290815,\n",
       "          24.306082], shape=(6369,), dtype=float32, '3.09e+24 cm a h**-1')"
      ]
     },
     "execution_count": 93,
     "metadata": {},
     "output_type": "execute_result"
    }
   ],
   "source": [
    "progenitor_particles['x']\n",
    "h2[9]['x']"
   ]
  },
  {
   "cell_type": "code",
   "execution_count": 94,
   "id": "07848cc7",
   "metadata": {},
   "outputs": [
    {
     "data": {
      "text/plain": [
       "Text(0, 0.5, 'y / code units')"
      ]
     },
     "execution_count": 94,
     "metadata": {},
     "output_type": "execute_result"
    },
    {
     "data": {
      "image/png": "[encoded data removed]",
      "text/plain": [
       "<Figure size 640x480 with 1 Axes>"
      ]
     },
     "metadata": {},
     "output_type": "display_data"
    }
   ],
   "source": [
    "import matplotlib.pyplot as p\n",
    "p.plot(h2[7]['x'], h2[7]['y'], 'b.', label=f\"z={f2.properties['z']:.2f} halo 7\")\n",
    "p.plot(b(h2[7])['x'], b(h2[7])['y'], 'r.', label=f\"Tracked to z={f1.properties['z']:.2f}\")\n",
    "p.ylim(27.25, 27.75); p.xlim(24.6, 25.2); p.gca().set_aspect('equal')\n",
    "p.legend()\n",
    "p.xlabel('x / code units'); p.ylabel('y / code units')"
   ]
  },
  {
   "cell_type": "markdown",
   "id": "61f0c554",
   "metadata": {},
   "source": [
    "### Identifying halos between different outputs"
   ]
  },
  {
   "cell_type": "code",
   "execution_count": 95,
   "id": "96552a71",
   "metadata": {},
   "outputs": [
    {
     "data": {
      "text/plain": [
       "SimArray([24.903126, 27.381052, 24.72228 ], dtype=float32, '3.09e+24 cm a h**-1')"
      ]
     },
     "execution_count": 95,
     "metadata": {},
     "output_type": "execute_result"
    }
   ],
   "source": [
    "h1 = f1.halos()\n",
    "h1[7]['pos'].mean(axis=0)\n",
    "b(h2[7])['pos'].mean(axis=0)"
   ]
  },
  {
   "cell_type": "code",
   "execution_count": null,
   "id": "13b6447a",
   "metadata": {},
   "outputs": [
    {
     "data": {
      "text/plain": [
       "np.int64(8)"
      ]
     },
     "execution_count": 96,
     "metadata": {},
     "output_type": "execute_result"
    }
   ],
   "source": [
    "matching = b.match_halos(h2, h1)\n",
    "matching[7]"
   ]
  },
  {
   "cell_type": "code",
   "execution_count": 100,
   "id": "ed536f27",
   "metadata": {},
   "outputs": [
    {
     "data": {
      "text/plain": [
       "<matplotlib.legend.Legend at 0x157cd7010>"
      ]
     },
     "execution_count": 100,
     "metadata": {},
     "output_type": "execute_result"
    },
    {
     "data": {
      "image/png": "[encoded data removed]",
      "text/plain": [
       "<Figure size 640x480 with 1 Axes>"
      ]
     },
     "metadata": {},
     "output_type": "display_data"
    }
   ],
   "source": [
    "p.plot(h2[7]['x'], h2[7]['y'], 'b.', label=f\"z={f2.properties['z']:.2f} halo 7\")\n",
    "p.plot(b(h2[7])['x'], b(h2[7])['y'], 'r.', label=f\"Tracked to z={f1.properties['z']:.2f}\")\n",
    "p.ylim(27.25, 27.75); p.xlim(24.6, 25.2); p.gca().set_aspect('equal')\n",
    "p.legend()\n",
    "p.xlabel('x / code units'); p.ylabel('y / code units')\n",
    "\n",
    "p.plot(h1[8]['x'], h1[8]['y'], 'k.', label=f\"z={f1.properties['z']:.2f} halo 8\")\n",
    "p.legend()"
   ]
  },
  {
   "cell_type": "code",
   "execution_count": 98,
   "id": "281b3398",
   "metadata": {},
   "outputs": [
    {
     "data": {
      "text/plain": [
       "[(np.int64(8), np.float64(0.9741290100034494)),\n",
       " (np.int64(770), np.float64(0.018454639530872716))]"
      ]
     },
     "execution_count": 98,
     "metadata": {},
     "output_type": "execute_result"
    }
   ],
   "source": [
    "fuzzy_matching = b.fuzzy_match_halos(h2, h1)\n",
    "fuzzy_matching[7]"
   ]
  },
  {
   "cell_type": "code",
   "execution_count": 102,
   "id": "bdeaf10a",
   "metadata": {},
   "outputs": [
    {
     "data": {
      "text/plain": [
       "<matplotlib.legend.Legend at 0x15768db10>"
      ]
     },
     "execution_count": 102,
     "metadata": {},
     "output_type": "execute_result"
    },
    {
     "data": {
      "image/png": "[encoded data removed]",
      "text/plain": [
       "<Figure size 640x480 with 1 Axes>"
      ]
     },
     "metadata": {},
     "output_type": "display_data"
    }
   ],
   "source": [
    "p.plot(h2[7]['x'], h2[7]['y'], 'b.', label=f\"z={f2.properties['z']:.2f} halo 7\")\n",
    "p.plot(b(h2[7])['x'], b(h2[7])['y'], 'r.', label=f\"Tracked to z={f1.properties['z']:.2f}\")\n",
    "p.ylim(27.25, 27.75); p.xlim(24.6, 25.2); p.gca().set_aspect('equal')\n",
    "p.legend()\n",
    "p.xlabel('x / code units'); p.ylabel('y / code units')\n",
    "p.plot(h1[8]['x'], h1[8]['y'], 'k.', label=f\"z={f1.properties['z']:.2f} halo 8\")\n",
    "\n",
    "p.plot(h1[770]['x'], h1[770]['y'], 'y.', label=f\"z={f1.properties['z']:.2f} halo 770\")\n",
    "p.legend()"
   ]
  },
  {
   "cell_type": "code",
   "execution_count": null,
   "id": "dc9192d6",
   "metadata": {},
   "outputs": [],
   "source": []
  }
 ],
 "metadata": {
  "kernelspec": {
   "display_name": "grinnell",
   "language": "python",
   "name": "python3"
  },
  "language_info": {
   "codemirror_mode": {
    "name": "ipython",
    "version": 3
   },
   "file_extension": ".py",
   "mimetype": "text/x-python",
   "name": "python",
   "nbconvert_exporter": "python",
   "pygments_lexer": "ipython3",
   "version": "3.11.13"
  }
 },
 "nbformat": 4,
 "nbformat_minor": 5
}
