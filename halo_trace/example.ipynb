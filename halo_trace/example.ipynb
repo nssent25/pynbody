{
 "cells": [
  {
   "cell_type": "markdown",
   "metadata": {},
   "source": [
    "# Example usage of halo_trace \n",
    "\n",
    "First, to import the relevant packages"
   ]
  },
  {
   "cell_type": "code",
   "execution_count": null,
   "metadata": {},
   "outputs": [
    {
     "name": "stdout",
     "output_type": "stream",
     "text": [
      "Data  env.txt  pynbody\tSims\n"
     ]
    }
   ],
   "source": [
    "!ls"
   ]
  },
  {
   "cell_type": "code",
   "execution_count": 1,
   "metadata": {},
   "outputs": [],
   "source": [
    "import os\n",
    "os.chdir('/home/selvani/MAP/pynbody/halo_trace')\n",
    "# !pip install -e ."
   ]
  },
  {
   "cell_type": "code",
   "execution_count": 2,
   "metadata": {},
   "outputs": [],
   "source": [
    "import numpy as np\n",
    "import matplotlib.pyplot as plt\n",
    "import halo_trace as ht\n",
    "import pandas as pd \n",
    "\n",
    "%matplotlib inline"
   ]
  },
  {
   "cell_type": "markdown",
   "metadata": {},
   "source": [
    "A bit about the tracing code:\n",
    "\n",
    "The tracing code is fairly slow, but should be robust. By default it will cross check steps, meaning it calculates the main progenitor both 1 and 2 steps apart, to make sure they match. If it loses a main progenitor, it can also pick it up again in some cases. Because this process is so slow, usually what you want to do is run it once and save the output, then read in the output for all subsequent uses. Main progenitors are identified by maximizing a merit function (as in AHF's merger tree code), where the merit function of halo\n",
    "\n",
    "\\begin{equation}\n",
    "\\max_j\\left(M_{ij} = \\frac{N_{i \\cap j}}{N_i N_j}\\right),\n",
    "\\end{equation}\n",
    "\n",
    "where $N_i$ and $N_j$ are the number of particles in halos in steps $i$ and $j$, N$_{i \\cap j}$ is the number of shared particles. The merit function is maximized in both directions (step 1 to 2 and step 2 to 1), and a match is recorded only if the identified halos match."
   ]
  },
  {
   "cell_type": "markdown",
   "metadata": {},
   "source": [
    "Anyway...\n",
    "\n",
    "The code traces halos and returns a pandas dataframe identifying the main progenitor at each step.\n",
    "\n",
    "The only mandatory argument in the trace is `sim_base`, which is the path to the directory holding all your simulation time steps. You can specify a file name for the saved trace using `save_file`. You can trace specific halos by spcifying `grplist` (e.g., `grplist=[1, 3, 6]` will trace halos 1, 3, and 6 back), or you can trace all halos above some particle threshold. For all arguments, you can run `ht.tracing.trace_halos?`. So, if want to trace all halos with more than 1000 particles at z=0, no earlier than step 400, then this would run the trace (replacing `sim_base` with your own path):"
   ]
  },
  {
   "cell_type": "markdown",
   "metadata": {},
   "source": [
    "## Trace"
   ]
  },
  {
   "cell_type": "code",
   "execution_count": 3,
   "metadata": {
    "scrolled": true
   },
   "outputs": [],
   "source": [
    "sim_base = '/home/selvani/MAP/Sims/cptmarvel.cosmo25cmb/cptmarvel.cosmo25cmb.4096g5HbwK1BH/snapshots_200crit_cptmarvel'\n",
    "sim_base = '/home/selvani/MAP/Sims/cptmarvel.cosmo25cmb/cptmarvel.cosmo25cmb.4096g5HbwK1BH/'\n",
    "# ahf_dir = '.'\n",
    "ahf_dir = 'ahf_200'"
   ]
  },
  {
   "cell_type": "code",
   "execution_count": 4,
   "metadata": {},
   "outputs": [
    {
     "name": "stdout",
     "output_type": "stream",
     "text": [
      "cptmarvel.cosmo25cmb.4096g5HbwK1BH.001331 does not exist or has incorrect permissions\n",
      "cptmarvel.cosmo25cmb.4096g5HbwK1BH.000113 does not exist or has incorrect permissions\n",
      "Testing 44 snapshots for working simulation files AND halo catalogs...\n",
      "\n",
      "--- Testing snapshot 1/43: 004096 ---\n",
      "1. Loading simulation file...\n",
      "   SUCCESS - Loaded <TipsySnap \"/home/selvani/MAP/Sims/cptmarvel.cosmo25cmb/cptmarvel.cosmo25cmb.4096g5HbwK1BH/cptmarvel.cosmo25cmb.4096g5HbwK1BH.004096/cptmarvel.cosmo25cmb.4096g5HbwK1BH.004096\" len=89818099>\n",
      "2. Testing particle data access...\n",
      "   SUCCESS - 89818099 particles\n",
      "3. Testing particle order array...\n",
      "   SUCCESS - Order array accessible\n",
      "4. Testing halo catalog loading...\n",
      "   SUCCESS - Loaded 11448 halo groups\n",
      "\n",
      "--- Testing snapshot 2/43: 003968 ---\n",
      "1. Loading simulation file...\n",
      "   SUCCESS - Loaded <TipsySnap \"/home/selvani/MAP/Sims/cptmarvel.cosmo25cmb/cptmarvel.cosmo25cmb.4096g5HbwK1BH/cptmarvel.cosmo25cmb.4096g5HbwK1BH.003968/cptmarvel.cosmo25cmb.4096g5HbwK1BH.003968\" len=89811398>\n",
      "2. Testing particle data access...\n",
      "   SUCCESS - 89811398 particles\n",
      "3. Testing particle order array...\n",
      "   SUCCESS - Order array accessible\n",
      "4. Testing halo catalog loading...\n",
      "   SUCCESS - Loaded 11505 halo groups\n",
      "\n",
      "--- Testing snapshot 3/43: 003840 ---\n",
      "1. Loading simulation file...\n",
      "   SUCCESS - Loaded <TipsySnap \"/home/selvani/MAP/Sims/cptmarvel.cosmo25cmb/cptmarvel.cosmo25cmb.4096g5HbwK1BH/cptmarvel.cosmo25cmb.4096g5HbwK1BH.003840/cptmarvel.cosmo25cmb.4096g5HbwK1BH.003840\" len=89804724>\n",
      "2. Testing particle data access...\n",
      "   SUCCESS - 89804724 particles\n",
      "3. Testing particle order array...\n",
      "   FAILED - Order array error: unpack requires a buffer of 4 bytes\n",
      "\n",
      "--- Testing snapshot 4/43: 003712 ---\n",
      "1. Loading simulation file...\n",
      "   SUCCESS - Loaded <TipsySnap \"/home/selvani/MAP/Sims/cptmarvel.cosmo25cmb/cptmarvel.cosmo25cmb.4096g5HbwK1BH/cptmarvel.cosmo25cmb.4096g5HbwK1BH.003712/cptmarvel.cosmo25cmb.4096g5HbwK1BH.003712\" len=89797664>\n",
      "2. Testing particle data access...\n",
      "   SUCCESS - 89797664 particles\n",
      "3. Testing particle order array...\n",
      "   FAILED - Order array error: unpack requires a buffer of 4 bytes\n",
      "\n",
      "--- Testing snapshot 5/43: 003636 ---\n",
      "1. Loading simulation file...\n",
      "   SUCCESS - Loaded <TipsySnap \"/home/selvani/MAP/Sims/cptmarvel.cosmo25cmb/cptmarvel.cosmo25cmb.4096g5HbwK1BH/cptmarvel.cosmo25cmb.4096g5HbwK1BH.003636/cptmarvel.cosmo25cmb.4096g5HbwK1BH.003636\" len=89793661>\n",
      "2. Testing particle data access...\n",
      "   SUCCESS - 89793661 particles\n",
      "3. Testing particle order array...\n",
      "   FAILED - Order array error: unpack requires a buffer of 4 bytes\n",
      "\n",
      "--- Testing snapshot 6/43: 003584 ---\n",
      "1. Loading simulation file...\n",
      "   SUCCESS - Loaded <TipsySnap \"/home/selvani/MAP/Sims/cptmarvel.cosmo25cmb/cptmarvel.cosmo25cmb.4096g5HbwK1BH/cptmarvel.cosmo25cmb.4096g5HbwK1BH.003584/cptmarvel.cosmo25cmb.4096g5HbwK1BH.003584\" len=89791153>\n",
      "2. Testing particle data access...\n",
      "   SUCCESS - 89791153 particles\n",
      "3. Testing particle order array...\n",
      "   FAILED - Order array error: unpack requires a buffer of 4 bytes\n",
      "\n",
      "--- Testing snapshot 7/43: 003456 ---\n",
      "1. Loading simulation file...\n",
      "   SUCCESS - Loaded <TipsySnap \"/home/selvani/MAP/Sims/cptmarvel.cosmo25cmb/cptmarvel.cosmo25cmb.4096g5HbwK1BH/cptmarvel.cosmo25cmb.4096g5HbwK1BH.003456/cptmarvel.cosmo25cmb.4096g5HbwK1BH.003456\" len=89784233>\n",
      "2. Testing particle data access...\n",
      "   SUCCESS - 89784233 particles\n",
      "3. Testing particle order array...\n",
      "   FAILED - Order array error: unpack requires a buffer of 4 bytes\n",
      "\n",
      "--- Testing snapshot 8/43: 003328 ---\n",
      "1. Loading simulation file...\n",
      "   SUCCESS - Loaded <TipsySnap \"/home/selvani/MAP/Sims/cptmarvel.cosmo25cmb/cptmarvel.cosmo25cmb.4096g5HbwK1BH/cptmarvel.cosmo25cmb.4096g5HbwK1BH.003328/cptmarvel.cosmo25cmb.4096g5HbwK1BH.003328\" len=89777267>\n",
      "2. Testing particle data access...\n",
      "   SUCCESS - 89777267 particles\n",
      "3. Testing particle order array...\n",
      "   FAILED - Order array error: unpack requires a buffer of 4 bytes\n",
      "\n",
      "--- Testing snapshot 9/43: 003245 ---\n",
      "1. Loading simulation file...\n",
      "   SUCCESS - Loaded <TipsySnap \"/home/selvani/MAP/Sims/cptmarvel.cosmo25cmb/cptmarvel.cosmo25cmb.4096g5HbwK1BH/cptmarvel.cosmo25cmb.4096g5HbwK1BH.003245/cptmarvel.cosmo25cmb.4096g5HbwK1BH.003245\" len=89772601>\n",
      "2. Testing particle data access...\n",
      "   SUCCESS - 89772601 particles\n",
      "3. Testing particle order array...\n",
      "   SUCCESS - Order array accessible\n",
      "4. Testing halo catalog loading...\n",
      "   SUCCESS - Loaded 11929 halo groups\n",
      "\n",
      "--- Testing snapshot 10/43: 003200 ---\n",
      "1. Loading simulation file...\n",
      "   SUCCESS - Loaded <TipsySnap \"/home/selvani/MAP/Sims/cptmarvel.cosmo25cmb/cptmarvel.cosmo25cmb.4096g5HbwK1BH/cptmarvel.cosmo25cmb.4096g5HbwK1BH.003200/cptmarvel.cosmo25cmb.4096g5HbwK1BH.003200\" len=89770033>\n",
      "2. Testing particle data access...\n",
      "   SUCCESS - 89770033 particles\n",
      "3. Testing particle order array...\n",
      "   FAILED - Order array error: unpack requires a buffer of 4 bytes\n",
      "\n",
      "--- Testing snapshot 11/43: 003072 ---\n",
      "1. Loading simulation file...\n",
      "   SUCCESS - Loaded <TipsySnap \"/home/selvani/MAP/Sims/cptmarvel.cosmo25cmb/cptmarvel.cosmo25cmb.4096g5HbwK1BH/cptmarvel.cosmo25cmb.4096g5HbwK1BH.003072/cptmarvel.cosmo25cmb.4096g5HbwK1BH.003072\" len=89763396>\n",
      "2. Testing particle data access...\n",
      "   SUCCESS - 89763396 particles\n",
      "3. Testing particle order array...\n",
      "   FAILED - Order array error: unpack requires a buffer of 4 bytes\n",
      "\n",
      "--- Testing snapshot 12/43: 002944 ---\n",
      "1. Loading simulation file...\n",
      "   SUCCESS - Loaded <TipsySnap \"/home/selvani/MAP/Sims/cptmarvel.cosmo25cmb/cptmarvel.cosmo25cmb.4096g5HbwK1BH/cptmarvel.cosmo25cmb.4096g5HbwK1BH.002944/cptmarvel.cosmo25cmb.4096g5HbwK1BH.002944\" len=89757084>\n",
      "2. Testing particle data access...\n",
      "   SUCCESS - 89757084 particles\n",
      "3. Testing particle order array...\n",
      "   FAILED - Order array error: unpack requires a buffer of 4 bytes\n",
      "\n",
      "--- Testing snapshot 13/43: 002816 ---\n",
      "1. Loading simulation file...\n",
      "   SUCCESS - Loaded <TipsySnap \"/home/selvani/MAP/Sims/cptmarvel.cosmo25cmb/cptmarvel.cosmo25cmb.4096g5HbwK1BH/cptmarvel.cosmo25cmb.4096g5HbwK1BH.002816/cptmarvel.cosmo25cmb.4096g5HbwK1BH.002816\" len=89749314>\n",
      "2. Testing particle data access...\n",
      "   SUCCESS - 89749314 particles\n",
      "3. Testing particle order array...\n",
      "   FAILED - Order array error: unpack requires a buffer of 4 bytes\n",
      "\n",
      "--- Testing snapshot 14/43: 002688 ---\n",
      "1. Loading simulation file...\n",
      "   SUCCESS - Loaded <TipsySnap \"/home/selvani/MAP/Sims/cptmarvel.cosmo25cmb/cptmarvel.cosmo25cmb.4096g5HbwK1BH/cptmarvel.cosmo25cmb.4096g5HbwK1BH.002688/cptmarvel.cosmo25cmb.4096g5HbwK1BH.002688\" len=89742889>\n",
      "2. Testing particle data access...\n",
      "   SUCCESS - 89742889 particles\n",
      "3. Testing particle order array...\n",
      "   FAILED - Order array error: unpack requires a buffer of 4 bytes\n",
      "\n",
      "--- Testing snapshot 15/43: 002624 ---\n",
      "1. Loading simulation file...\n",
      "   SUCCESS - Loaded <TipsySnap \"/home/selvani/MAP/Sims/cptmarvel.cosmo25cmb/cptmarvel.cosmo25cmb.4096g5HbwK1BH/cptmarvel.cosmo25cmb.4096g5HbwK1BH.002624/cptmarvel.cosmo25cmb.4096g5HbwK1BH.002624\" len=89739890>\n",
      "2. Testing particle data access...\n",
      "   SUCCESS - 89739890 particles\n",
      "3. Testing particle order array...\n",
      "   SUCCESS - Order array accessible\n",
      "4. Testing halo catalog loading...\n",
      "   SUCCESS - Loaded 12151 halo groups\n",
      "\n",
      "--- Testing snapshot 16/43: 002560 ---\n",
      "1. Loading simulation file...\n",
      "   SUCCESS - Loaded <TipsySnap \"/home/selvani/MAP/Sims/cptmarvel.cosmo25cmb/cptmarvel.cosmo25cmb.4096g5HbwK1BH/cptmarvel.cosmo25cmb.4096g5HbwK1BH.002560/cptmarvel.cosmo25cmb.4096g5HbwK1BH.002560\" len=89736893>\n",
      "2. Testing particle data access...\n",
      "   SUCCESS - 89736893 particles\n",
      "3. Testing particle order array...\n",
      "   FAILED - Order array error: unpack requires a buffer of 4 bytes\n",
      "\n",
      "--- Testing snapshot 17/43: 002432 ---\n",
      "1. Loading simulation file...\n",
      "   SUCCESS - Loaded <TipsySnap \"/home/selvani/MAP/Sims/cptmarvel.cosmo25cmb/cptmarvel.cosmo25cmb.4096g5HbwK1BH/cptmarvel.cosmo25cmb.4096g5HbwK1BH.002432/cptmarvel.cosmo25cmb.4096g5HbwK1BH.002432\" len=89730108>\n",
      "2. Testing particle data access...\n",
      "   SUCCESS - 89730108 particles\n",
      "3. Testing particle order array...\n",
      "   FAILED - Order array error: unpack requires a buffer of 4 bytes\n",
      "\n",
      "--- Testing snapshot 18/43: 002304 ---\n",
      "1. Loading simulation file...\n",
      "   SUCCESS - Loaded <TipsySnap \"/home/selvani/MAP/Sims/cptmarvel.cosmo25cmb/cptmarvel.cosmo25cmb.4096g5HbwK1BH/cptmarvel.cosmo25cmb.4096g5HbwK1BH.002304/cptmarvel.cosmo25cmb.4096g5HbwK1BH.002304\" len=89724482>\n",
      "2. Testing particle data access...\n",
      "   SUCCESS - 89724482 particles\n",
      "3. Testing particle order array...\n",
      "   FAILED - Order array error: unpack requires a buffer of 4 bytes\n",
      "\n",
      "--- Testing snapshot 19/43: 002176 ---\n",
      "1. Loading simulation file...\n",
      "   SUCCESS - Loaded <TipsySnap \"/home/selvani/MAP/Sims/cptmarvel.cosmo25cmb/cptmarvel.cosmo25cmb.4096g5HbwK1BH/cptmarvel.cosmo25cmb.4096g5HbwK1BH.002176/cptmarvel.cosmo25cmb.4096g5HbwK1BH.002176\" len=89719673>\n",
      "2. Testing particle data access...\n",
      "   SUCCESS - 89719673 particles\n",
      "3. Testing particle order array...\n",
      "   SUCCESS - Order array accessible\n",
      "4. Testing halo catalog loading...\n",
      "   SUCCESS - Loaded 12240 halo groups\n",
      "\n",
      "--- Testing snapshot 20/43: 002162 ---\n",
      "1. Loading simulation file...\n",
      "   SUCCESS - Loaded <TipsySnap \"/home/selvani/MAP/Sims/cptmarvel.cosmo25cmb/cptmarvel.cosmo25cmb.4096g5HbwK1BH/cptmarvel.cosmo25cmb.4096g5HbwK1BH.002162/cptmarvel.cosmo25cmb.4096g5HbwK1BH.002162\" len=89719065>\n",
      "2. Testing particle data access...\n",
      "   SUCCESS - 89719065 particles\n",
      "3. Testing particle order array...\n",
      "   SUCCESS - Order array accessible\n",
      "4. Testing halo catalog loading...\n",
      "   SUCCESS - Loaded 12262 halo groups\n",
      "\n",
      "--- Testing snapshot 21/43: 002048 ---\n",
      "1. Loading simulation file...\n",
      "   SUCCESS - Loaded <TipsySnap \"/home/selvani/MAP/Sims/cptmarvel.cosmo25cmb/cptmarvel.cosmo25cmb.4096g5HbwK1BH/cptmarvel.cosmo25cmb.4096g5HbwK1BH.002048/cptmarvel.cosmo25cmb.4096g5HbwK1BH.002048\" len=89714493>\n",
      "2. Testing particle data access...\n",
      "   SUCCESS - 89714493 particles\n",
      "3. Testing particle order array...\n",
      "   SUCCESS - Order array accessible\n",
      "4. Testing halo catalog loading...\n",
      "   SUCCESS - Loaded 12252 halo groups\n",
      "\n",
      "--- Testing snapshot 22/43: 001920 ---\n",
      "1. Loading simulation file...\n",
      "   SUCCESS - Loaded <TipsySnap \"/home/selvani/MAP/Sims/cptmarvel.cosmo25cmb/cptmarvel.cosmo25cmb.4096g5HbwK1BH/cptmarvel.cosmo25cmb.4096g5HbwK1BH.001920/cptmarvel.cosmo25cmb.4096g5HbwK1BH.001920\" len=89710545>\n",
      "2. Testing particle data access...\n",
      "   SUCCESS - 89710545 particles\n",
      "3. Testing particle order array...\n",
      "   SUCCESS - Order array accessible\n",
      "4. Testing halo catalog loading...\n",
      "   SUCCESS - Loaded 12285 halo groups\n",
      "\n",
      "--- Testing snapshot 23/43: 001813 ---\n",
      "1. Loading simulation file...\n",
      "   SUCCESS - Loaded <TipsySnap \"/home/selvani/MAP/Sims/cptmarvel.cosmo25cmb/cptmarvel.cosmo25cmb.4096g5HbwK1BH/cptmarvel.cosmo25cmb.4096g5HbwK1BH.001813/cptmarvel.cosmo25cmb.4096g5HbwK1BH.001813\" len=89707634>\n",
      "2. Testing particle data access...\n",
      "   SUCCESS - 89707634 particles\n",
      "3. Testing particle order array...\n",
      "   SUCCESS - Order array accessible\n",
      "4. Testing halo catalog loading...\n",
      "   SUCCESS - Loaded 12249 halo groups\n",
      "\n",
      "--- Testing snapshot 24/43: 001792 ---\n",
      "1. Loading simulation file...\n",
      "   SUCCESS - Loaded <TipsySnap \"/home/selvani/MAP/Sims/cptmarvel.cosmo25cmb/cptmarvel.cosmo25cmb.4096g5HbwK1BH/cptmarvel.cosmo25cmb.4096g5HbwK1BH.001792/cptmarvel.cosmo25cmb.4096g5HbwK1BH.001792\" len=89706831>\n",
      "2. Testing particle data access...\n",
      "   SUCCESS - 89706831 particles\n",
      "3. Testing particle order array...\n",
      "   SUCCESS - Order array accessible\n",
      "4. Testing halo catalog loading...\n",
      "   SUCCESS - Loaded 12236 halo groups\n",
      "\n",
      "--- Testing snapshot 25/43: 001664 ---\n",
      "1. Loading simulation file...\n",
      "   SUCCESS - Loaded <TipsySnap \"/home/selvani/MAP/Sims/cptmarvel.cosmo25cmb/cptmarvel.cosmo25cmb.4096g5HbwK1BH/cptmarvel.cosmo25cmb.4096g5HbwK1BH.001664/cptmarvel.cosmo25cmb.4096g5HbwK1BH.001664\" len=89702942>\n",
      "2. Testing particle data access...\n",
      "   SUCCESS - 89702942 particles\n",
      "3. Testing particle order array...\n",
      "   SUCCESS - Order array accessible\n",
      "4. Testing halo catalog loading...\n",
      "   SUCCESS - Loaded 12256 halo groups\n",
      "\n",
      "--- Testing snapshot 26/43: 001543 ---\n",
      "1. Loading simulation file...\n",
      "   SUCCESS - Loaded <TipsySnap \"/home/selvani/MAP/Sims/cptmarvel.cosmo25cmb/cptmarvel.cosmo25cmb.4096g5HbwK1BH/cptmarvel.cosmo25cmb.4096g5HbwK1BH.001543/cptmarvel.cosmo25cmb.4096g5HbwK1BH.001543\" len=89698455>\n",
      "2. Testing particle data access...\n",
      "   SUCCESS - 89698455 particles\n",
      "3. Testing particle order array...\n",
      "   SUCCESS - Order array accessible\n",
      "4. Testing halo catalog loading...\n",
      "   SUCCESS - Loaded 12140 halo groups\n",
      "\n",
      "--- Testing snapshot 27/43: 001536 ---\n",
      "1. Loading simulation file...\n",
      "   SUCCESS - Loaded <TipsySnap \"/home/selvani/MAP/Sims/cptmarvel.cosmo25cmb/cptmarvel.cosmo25cmb.4096g5HbwK1BH/cptmarvel.cosmo25cmb.4096g5HbwK1BH.001536/cptmarvel.cosmo25cmb.4096g5HbwK1BH.001536\" len=89697932>\n",
      "2. Testing particle data access...\n",
      "   SUCCESS - 89697932 particles\n",
      "3. Testing particle order array...\n",
      "   SUCCESS - Order array accessible\n",
      "4. Testing halo catalog loading...\n",
      "   SUCCESS - Loaded 12109 halo groups\n",
      "\n",
      "--- Testing snapshot 28/43: 001408 ---\n",
      "1. Loading simulation file...\n",
      "   SUCCESS - Loaded <TipsySnap \"/home/selvani/MAP/Sims/cptmarvel.cosmo25cmb/cptmarvel.cosmo25cmb.4096g5HbwK1BH/cptmarvel.cosmo25cmb.4096g5HbwK1BH.001408/cptmarvel.cosmo25cmb.4096g5HbwK1BH.001408\" len=89690237>\n",
      "2. Testing particle data access...\n",
      "   SUCCESS - 89690237 particles\n",
      "3. Testing particle order array...\n",
      "   SUCCESS - Order array accessible\n",
      "4. Testing halo catalog loading...\n",
      "   SUCCESS - Loaded 12118 halo groups\n",
      "\n",
      "--- Testing snapshot 29/43: 001280 ---\n",
      "1. Loading simulation file...\n",
      "   SUCCESS - Loaded <TipsySnap \"/home/selvani/MAP/Sims/cptmarvel.cosmo25cmb/cptmarvel.cosmo25cmb.4096g5HbwK1BH/cptmarvel.cosmo25cmb.4096g5HbwK1BH.001280/cptmarvel.cosmo25cmb.4096g5HbwK1BH.001280\" len=89684688>\n",
      "2. Testing particle data access...\n",
      "   SUCCESS - 89684688 particles\n",
      "3. Testing particle order array...\n",
      "   SUCCESS - Order array accessible\n",
      "4. Testing halo catalog loading...\n",
      "   SUCCESS - Loaded 11947 halo groups\n",
      "\n",
      "--- Testing snapshot 30/43: 001162 ---\n",
      "1. Loading simulation file...\n",
      "   SUCCESS - Loaded <TipsySnap \"/home/selvani/MAP/Sims/cptmarvel.cosmo25cmb/cptmarvel.cosmo25cmb.4096g5HbwK1BH/cptmarvel.cosmo25cmb.4096g5HbwK1BH.001162/cptmarvel.cosmo25cmb.4096g5HbwK1BH.001162\" len=89676567>\n",
      "2. Testing particle data access...\n",
      "   SUCCESS - 89676567 particles\n",
      "3. Testing particle order array...\n",
      "   SUCCESS - Order array accessible\n",
      "4. Testing halo catalog loading...\n",
      "   SUCCESS - Loaded 11759 halo groups\n",
      "\n",
      "--- Testing snapshot 31/43: 001152 ---\n",
      "1. Loading simulation file...\n",
      "   SUCCESS - Loaded <TipsySnap \"/home/selvani/MAP/Sims/cptmarvel.cosmo25cmb/cptmarvel.cosmo25cmb.4096g5HbwK1BH/cptmarvel.cosmo25cmb.4096g5HbwK1BH.001152/cptmarvel.cosmo25cmb.4096g5HbwK1BH.001152\" len=89674935>\n",
      "2. Testing particle data access...\n",
      "   SUCCESS - 89674935 particles\n",
      "3. Testing particle order array...\n",
      "   SUCCESS - Order array accessible\n",
      "4. Testing halo catalog loading...\n",
      "   SUCCESS - Loaded 11743 halo groups\n",
      "\n",
      "--- Testing snapshot 32/43: 001025 ---\n",
      "1. Loading simulation file...\n",
      "   SUCCESS - Loaded <TipsySnap \"/home/selvani/MAP/Sims/cptmarvel.cosmo25cmb/cptmarvel.cosmo25cmb.4096g5HbwK1BH/cptmarvel.cosmo25cmb.4096g5HbwK1BH.001025/cptmarvel.cosmo25cmb.4096g5HbwK1BH.001025\" len=89665323>\n",
      "2. Testing particle data access...\n",
      "   SUCCESS - 89665323 particles\n",
      "3. Testing particle order array...\n"
     ]
    },
    {
     "name": "stderr",
     "output_type": "stream",
     "text": [
      "pynbody.halo : Unable to load AHF substructure file; continuing without. To expose the underlying problem as an exception, pass ignore_missing_substructure=False to the AHFCatalogue constructor\n"
     ]
    },
    {
     "name": "stdout",
     "output_type": "stream",
     "text": [
      "   SUCCESS - Order array accessible\n",
      "4. Testing halo catalog loading...\n",
      "   SUCCESS - Loaded 0 halo groups\n",
      "\n",
      "--- Testing snapshot 33/43: 000896 ---\n",
      "1. Loading simulation file...\n",
      "   SUCCESS - Loaded <TipsySnap \"/home/selvani/MAP/Sims/cptmarvel.cosmo25cmb/cptmarvel.cosmo25cmb.4096g5HbwK1BH/cptmarvel.cosmo25cmb.4096g5HbwK1BH.000896/cptmarvel.cosmo25cmb.4096g5HbwK1BH.000896\" len=89648326>\n",
      "2. Testing particle data access...\n",
      "   SUCCESS - 89648326 particles\n",
      "3. Testing particle order array...\n",
      "   SUCCESS - Order array accessible\n",
      "4. Testing halo catalog loading...\n",
      "   SUCCESS - Loaded 11176 halo groups\n",
      "\n",
      "--- Testing snapshot 34/43: 000818 ---\n",
      "1. Loading simulation file...\n",
      "   SUCCESS - Loaded <TipsySnap \"/home/selvani/MAP/Sims/cptmarvel.cosmo25cmb/cptmarvel.cosmo25cmb.4096g5HbwK1BH/cptmarvel.cosmo25cmb.4096g5HbwK1BH.000818/cptmarvel.cosmo25cmb.4096g5HbwK1BH.000818\" len=89637908>\n",
      "2. Testing particle data access...\n",
      "   SUCCESS - 89637908 particles\n",
      "3. Testing particle order array...\n",
      "   SUCCESS - Order array accessible\n",
      "4. Testing halo catalog loading...\n",
      "   SUCCESS - Loaded 10891 halo groups\n",
      "\n",
      "--- Testing snapshot 35/43: 000768 ---\n",
      "1. Loading simulation file...\n",
      "   SUCCESS - Loaded <TipsySnap \"/home/selvani/MAP/Sims/cptmarvel.cosmo25cmb/cptmarvel.cosmo25cmb.4096g5HbwK1BH/cptmarvel.cosmo25cmb.4096g5HbwK1BH.000768/cptmarvel.cosmo25cmb.4096g5HbwK1BH.000768\" len=89624963>\n",
      "2. Testing particle data access...\n",
      "   SUCCESS - 89624963 particles\n",
      "3. Testing particle order array...\n",
      "   SUCCESS - Order array accessible\n",
      "4. Testing halo catalog loading...\n",
      "   SUCCESS - Loaded 10734 halo groups\n",
      "\n",
      "--- Testing snapshot 36/43: 000672 ---\n",
      "1. Loading simulation file...\n",
      "   SUCCESS - Loaded <TipsySnap \"/home/selvani/MAP/Sims/cptmarvel.cosmo25cmb/cptmarvel.cosmo25cmb.4096g5HbwK1BH/cptmarvel.cosmo25cmb.4096g5HbwK1BH.000672/cptmarvel.cosmo25cmb.4096g5HbwK1BH.000672\" len=89599237>\n",
      "2. Testing particle data access...\n",
      "   SUCCESS - 89599237 particles\n",
      "3. Testing particle order array...\n",
      "   FAILED - Order array error: 'iord'\n",
      "\n",
      "--- Testing snapshot 37/43: 000640 ---\n",
      "1. Loading simulation file...\n",
      "   SUCCESS - Loaded <TipsySnap \"/home/selvani/MAP/Sims/cptmarvel.cosmo25cmb/cptmarvel.cosmo25cmb.4096g5HbwK1BH/cptmarvel.cosmo25cmb.4096g5HbwK1BH.000640/cptmarvel.cosmo25cmb.4096g5HbwK1BH.000640\" len=89590402>\n",
      "2. Testing particle data access...\n",
      "   SUCCESS - 89590402 particles\n",
      "3. Testing particle order array...\n",
      "   SUCCESS - Order array accessible\n",
      "4. Testing halo catalog loading...\n",
      "   SUCCESS - Loaded 10028 halo groups\n",
      "\n",
      "--- Testing snapshot 38/43: 000512 ---\n",
      "1. Loading simulation file...\n",
      "   SUCCESS - Loaded <TipsySnap \"/home/selvani/MAP/Sims/cptmarvel.cosmo25cmb/cptmarvel.cosmo25cmb.4096g5HbwK1BH/cptmarvel.cosmo25cmb.4096g5HbwK1BH.000512/cptmarvel.cosmo25cmb.4096g5HbwK1BH.000512\" len=89546122>\n",
      "2. Testing particle data access...\n",
      "   SUCCESS - 89546122 particles\n",
      "3. Testing particle order array...\n",
      "   SUCCESS - Order array accessible\n",
      "4. Testing halo catalog loading...\n",
      "   SUCCESS - Loaded 8988 halo groups\n",
      "\n",
      "--- Testing snapshot 39/43: 000482 ---\n",
      "1. Loading simulation file...\n",
      "   SUCCESS - Loaded <TipsySnap \"/home/selvani/MAP/Sims/cptmarvel.cosmo25cmb/cptmarvel.cosmo25cmb.4096g5HbwK1BH/cptmarvel.cosmo25cmb.4096g5HbwK1BH.000482/cptmarvel.cosmo25cmb.4096g5HbwK1BH.000482\" len=89534027>\n",
      "2. Testing particle data access...\n",
      "   SUCCESS - 89534027 particles\n",
      "3. Testing particle order array...\n",
      "   SUCCESS - Order array accessible\n",
      "4. Testing halo catalog loading...\n",
      "   SUCCESS - Loaded 8762 halo groups\n",
      "\n",
      "--- Testing snapshot 40/43: 000291 ---\n",
      "1. Loading simulation file...\n",
      "   SUCCESS - Loaded <TipsySnap \"/home/selvani/MAP/Sims/cptmarvel.cosmo25cmb/cptmarvel.cosmo25cmb.4096g5HbwK1BH/cptmarvel.cosmo25cmb.4096g5HbwK1BH.000291/cptmarvel.cosmo25cmb.4096g5HbwK1BH.000291\" len=89431194>\n",
      "2. Testing particle data access...\n",
      "   SUCCESS - 89431194 particles\n",
      "3. Testing particle order array...\n",
      "   SUCCESS - Order array accessible\n",
      "4. Testing halo catalog loading...\n",
      "   SUCCESS - Loaded 6070 halo groups\n",
      "\n",
      "--- Testing snapshot 41/43: 000199 ---\n",
      "1. Loading simulation file...\n",
      "   SUCCESS - Loaded <TipsySnap \"/home/selvani/MAP/Sims/cptmarvel.cosmo25cmb/cptmarvel.cosmo25cmb.4096g5HbwK1BH/cptmarvel.cosmo25cmb.4096g5HbwK1BH.000199/cptmarvel.cosmo25cmb.4096g5HbwK1BH.000199\" len=89428030>\n",
      "2. Testing particle data access...\n",
      "   SUCCESS - 89428030 particles\n",
      "3. Testing particle order array...\n",
      "   SUCCESS - Order array accessible\n",
      "4. Testing halo catalog loading...\n",
      "   SUCCESS - Loaded 3764 halo groups\n",
      "\n",
      "--- Testing snapshot 42/43: 000146 ---\n",
      "1. Loading simulation file...\n",
      "   SUCCESS - Loaded <TipsySnap \"/home/selvani/MAP/Sims/cptmarvel.cosmo25cmb/cptmarvel.cosmo25cmb.4096g5HbwK1BH/cptmarvel.cosmo25cmb.4096g5HbwK1BH.000146/cptmarvel.cosmo25cmb.4096g5HbwK1BH.000146\" len=89425480>\n",
      "2. Testing particle data access...\n",
      "   SUCCESS - 89425480 particles\n",
      "3. Testing particle order array...\n",
      "   SUCCESS - Order array accessible\n",
      "4. Testing halo catalog loading...\n",
      "   SUCCESS - Loaded 2158 halo groups\n",
      "\n",
      "--- Testing snapshot 43/43: 000128 ---\n",
      "1. Loading simulation file...\n",
      "   SUCCESS - Loaded <TipsySnap \"/home/selvani/MAP/Sims/cptmarvel.cosmo25cmb/cptmarvel.cosmo25cmb.4096g5HbwK1BH/cptmarvel.cosmo25cmb.4096g5HbwK1BH.000128/cptmarvel.cosmo25cmb.4096g5HbwK1BH.000128\" len=89424934>\n",
      "2. Testing particle data access...\n",
      "   SUCCESS - 89424934 particles\n",
      "3. Testing particle order array...\n",
      "   FAILED - Order array error: 'iord'\n",
      "\n",
      "=== COMPREHENSIVE TEST SUMMARY ===\n",
      "Total snapshots tested: 43\n",
      "Working snapshots (both sim + halos): 27\n",
      "Failed snapshots: 16\n",
      "\n",
      "Failed snapshots and reasons:\n",
      "  003840: Order array error: unpack requires a buffer of 4 bytes\n",
      "  003712: Order array error: unpack requires a buffer of 4 bytes\n",
      "  003636: Order array error: unpack requires a buffer of 4 bytes\n",
      "  003584: Order array error: unpack requires a buffer of 4 bytes\n",
      "  003456: Order array error: unpack requires a buffer of 4 bytes\n",
      "  003328: Order array error: unpack requires a buffer of 4 bytes\n",
      "  003200: Order array error: unpack requires a buffer of 4 bytes\n",
      "  003072: Order array error: unpack requires a buffer of 4 bytes\n",
      "  002944: Order array error: unpack requires a buffer of 4 bytes\n",
      "  002816: Order array error: unpack requires a buffer of 4 bytes\n",
      "  002688: Order array error: unpack requires a buffer of 4 bytes\n",
      "  002560: Order array error: unpack requires a buffer of 4 bytes\n",
      "  002432: Order array error: unpack requires a buffer of 4 bytes\n",
      "  002304: Order array error: unpack requires a buffer of 4 bytes\n",
      "  000672: Order array error: 'iord'\n",
      "  000128: Order array error: 'iord'\n",
      "\n",
      "Working snapshots can be used with:\n",
      "steplist = ['004096', '003968', '003245', '002624', '002176', '002162', '002048', '001920', '001813', '001792', '001664', '001543', '001536', '001408', '001280', '001162', '001152', '001025', '000896', '000818', '000768', '000640', '000512', '000482', '000291', '000199', '000146']\n"
     ]
    }
   ],
   "source": [
    "# Test both simulation files AND halo catalogs comprehensively\n",
    "working_steps = ht.tracing.test_halo_catalogs_comprehensive(sim_base=sim_base, ahf_dir=ahf_dir)"
   ]
  },
  {
   "cell_type": "code",
   "execution_count": 4,
   "metadata": {},
   "outputs": [],
   "source": [
    "# working_steps = ht.tracing.test_halo_catalogs(sim_base=sim_base, ahf_dir=ahf_dir)\n"
   ]
  },
  {
   "cell_type": "code",
   "execution_count": 9,
   "metadata": {},
   "outputs": [],
   "source": [
    "# sim_base = '/home/selvani/MAP/Sims/cptmarvel.cosmo25cmb/cptmarvel.cosmo25cmb.4096g5HbwK1BH/snapshots_200crit_cptmarvel'\n",
    "sim_base = '/home/selvani/MAP/Sims/cptmarvel.cosmo25cmb/cptmarvel.cosmo25cmb.4096g5HbwK1BH/'\n",
    "# ahf_dir = None\n",
    "ahf_dir = 'ahf_200'"
   ]
  },
  {
   "cell_type": "code",
   "execution_count": 10,
   "metadata": {},
   "outputs": [
    {
     "name": "stdout",
     "output_type": "stream",
     "text": [
      "cptmarvel.cosmo25cmb.4096g5HbwK1BH.001331 does not exist or has incorrect permissions\n",
      "cptmarvel.cosmo25cmb.4096g5HbwK1BH.000113 does not exist or has incorrect permissions\n",
      "44\n",
      "Using only the following steps which contain ahf_dir and AHF catalogs:\n",
      "['004096', '003968', '003840', '003712', '003636', '003584', '003456', '003328', '003245', '003200', '003072', '002944', '002816', '002688', '002624', '002560', '002432', '002304', '002176', '002162', '002048', '001920', '001813', '001792', '001664', '001543', '001536', '001408', '001280', '001162', '001152', '001025', '000896', '000818', '000768', '000672', '000640', '000512', '000482', '000291', '000199', '000146', '000128']\n",
      "File will be saved as /home/selvani/MAP/Sims/cptmarvel.cosmo25cmb/cptmarvel.cosmo25cmb.4096g5HbwK1BH/cptmarvel.cosmo25cmb.4096g5HbwK1BH.004096/cptmarvel.cosmo25cmb.4096g5HbwK1BH.004096.trace_back.hdf5\n",
      "grp list based on /home/selvani/MAP/Sims/cptmarvel.cosmo25cmb/cptmarvel.cosmo25cmb.4096g5HbwK1BH/cptmarvel.cosmo25cmb.4096g5HbwK1BH.004096/ahf_200/cptmarvel.cosmo25cmb.4096g5HbwK1BH.004096.M200.amiga.stat\n",
      "\n",
      "simlow= /home/selvani/MAP/Sims/cptmarvel.cosmo25cmb/cptmarvel.cosmo25cmb.4096g5HbwK1BH/cptmarvel.cosmo25cmb.4096g5HbwK1BH.004096/cptmarvel.cosmo25cmb.4096g5HbwK1BH.004096\n",
      "simlow= <TipsySnap \"/home/selvani/MAP/Sims/cptmarvel.cosmo25cmb/cptmarvel.cosmo25cmb.4096g5HbwK1BH/cptmarvel.cosmo25cmb.4096g5HbwK1BH.004096/cptmarvel.cosmo25cmb.4096g5HbwK1BH.004096\" len=89818099>\n",
      "pth= /home/selvani/MAP/Sims/cptmarvel.cosmo25cmb/cptmarvel.cosmo25cmb.4096g5HbwK1BH/cptmarvel.cosmo25cmb.4096g5HbwK1BH.004096/cptmarvel.cosmo25cmb.4096g5HbwK1BH.004096\n",
      "185ahfbasename= /home/selvani/MAP/Sims/cptmarvel.cosmo25cmb/cptmarvel.cosmo25cmb.4096g5HbwK1BH/cptmarvel.cosmo25cmb.4096g5HbwK1BH.004096/ahf_200/cptmarvel.cosmo25cmb.4096g5HbwK1BH.004096.0000.z0.000.AHF_\n",
      "Starting step 003968\n",
      "simhigh= <TipsySnap \"/home/selvani/MAP/Sims/cptmarvel.cosmo25cmb/cptmarvel.cosmo25cmb.4096g5HbwK1BH/cptmarvel.cosmo25cmb.4096g5HbwK1BH.003968/cptmarvel.cosmo25cmb.4096g5HbwK1BH.003968\" len=89811398>\n",
      "Advanced step 003840\n",
      "ahf_basename= /home/selvani/MAP/Sims/cptmarvel.cosmo25cmb/cptmarvel.cosmo25cmb.4096g5HbwK1BH/cptmarvel.cosmo25cmb.4096g5HbwK1BH.003968/ahf_200/cptmarvel.cosmo25cmb.4096g5HbwK1BH.003968.0000.z0.033.AHF_halos\n",
      "\tMatching halos by merit function\n",
      "2845\n",
      "[[2133181       0       0 ...       0       0       0]\n",
      " [      0 1252126       0 ...       0       0       0]\n",
      " [      0       0 1098898 ...       0       0       0]\n",
      " ...\n",
      " [      0       0       0 ...       0       0       0]\n",
      " [      0       0       0 ...       0       0       0]\n",
      " [      0       0       0 ...       0       0       0]]\n",
      "\tNi= [2136631 1255777 1110792 ...       0     320     327]\n",
      "\tNj= [2133471 1252709 1100203 ...     324     324     325]\n",
      "\tWarning: Some halos have zero particles - this may indicate corrupted data\n",
      "\tZeros in Ni: 29, Zeros in Nj: 14\n",
      "\tMatching halos by merit function\n",
      "2845\n"
     ]
    },
    {
     "ename": "error",
     "evalue": "unpack requires a buffer of 4 bytes",
     "output_type": "error",
     "traceback": [
      "\u001b[31m---------------------------------------------------------------------------\u001b[39m",
      "\u001b[31mValueError\u001b[39m                                Traceback (most recent call last)",
      "\u001b[36mFile \u001b[39m\u001b[32m~/anaconda3/envs/conda-env-py311/lib/python3.11/site-packages/pynbody/snapshot/tipsy.py:846\u001b[39m, in \u001b[36mTipsySnap.__read_array_from_disk\u001b[39m\u001b[34m(self, array_name, fam, filename, packed_vector)\u001b[39m\n\u001b[32m    845\u001b[39m f = util.open_(filename, \u001b[33m'\u001b[39m\u001b[33mr\u001b[39m\u001b[33m'\u001b[39m)\n\u001b[32m--> \u001b[39m\u001b[32m846\u001b[39m l = \u001b[38;5;28mint\u001b[39m(f.readline())\n\u001b[32m    847\u001b[39m binary = \u001b[38;5;28;01mFalse\u001b[39;00m\n",
      "\u001b[31mValueError\u001b[39m: invalid literal for int() with base 10: ''",
      "\nDuring handling of the above exception, another exception occurred:\n",
      "\u001b[31merror\u001b[39m                                     Traceback (most recent call last)",
      "\u001b[36mCell\u001b[39m\u001b[36m \u001b[39m\u001b[32mIn[10]\u001b[39m\u001b[32m, line 1\u001b[39m\n\u001b[32m----> \u001b[39m\u001b[32m1\u001b[39m trace = ht.tracing.trace_halos(sim_base=sim_base, ahf_dir=ahf_dir, min_ntot=\u001b[32m500\u001b[39m)\n",
      "\u001b[36mFile \u001b[39m\u001b[32m~/MAP/pynbody/halo_trace/halo_trace/tracing.py:253\u001b[39m, in \u001b[36mtrace_halos\u001b[39m\u001b[34m(sim_base, trace_sats, grplist, steplist, maxstep, save_file, min_ntot, cross_check, ahf_dir, **kwargs)\u001b[39m\n\u001b[32m    251\u001b[39m     \u001b[38;5;28;01melse\u001b[39;00m:\n\u001b[32m    252\u001b[39m         groups_2_2 = \u001b[38;5;28;01mNone\u001b[39;00m\n\u001b[32m--> \u001b[39m\u001b[32m253\u001b[39m     grplist2 = match_by_merit(b2, grplist2, sim_high2, ahf_dir=ahf_dir, groups_1=groups_1, groups_2=groups_2_2)\n\u001b[32m    254\u001b[39m     df2[steplist[i+\u001b[32m2\u001b[39m][-\u001b[32m6\u001b[39m:]] = grplist2\n\u001b[32m    255\u001b[39m \u001b[38;5;28;01mexcept\u001b[39;00m(\u001b[38;5;167;01mValueError\u001b[39;00m, \u001b[38;5;167;01mIndexError\u001b[39;00m):\n",
      "\u001b[36mFile \u001b[39m\u001b[32m~/MAP/pynbody/halo_trace/halo_trace/tracing.py:52\u001b[39m, in \u001b[36mmatch_by_merit\u001b[39m\u001b[34m(bridge_1_to_2, sim1_grp_list, sim, ahf_dir, groups_1, groups_2)\u001b[39m\n\u001b[32m     50\u001b[39m \u001b[38;5;28;01mif\u001b[39;00m max_ind < \u001b[32m100\u001b[39m:\n\u001b[32m     51\u001b[39m     max_ind = \u001b[32m100\u001b[39m\n\u001b[32m---> \u001b[39m\u001b[32m52\u001b[39m mat = bridge_1_to_2.catalog_transfer_matrix(max_index=max_ind, use_family=pb.family.dm, groups_1=groups_1, groups_2=groups_2)\n\u001b[32m     53\u001b[39m \u001b[38;5;66;03m# mat = bridge_1_to_2.count_particles_in_common(groups_1, groups_2, max_num_halos=max_ind, use_family=pb.family.dm)\u001b[39;00m\n\u001b[32m     54\u001b[39m \u001b[38;5;28mprint\u001b[39m(mat)\n",
      "\u001b[36mFile \u001b[39m\u001b[32m~/anaconda3/envs/conda-env-py311/lib/python3.11/site-packages/pynbody/util/__init__.py:516\u001b[39m, in \u001b[36mdeprecated.<locals>.new_func\u001b[39m\u001b[34m(*args, **kwargs)\u001b[39m\n\u001b[32m    513\u001b[39m \u001b[38;5;129m@functools\u001b[39m.wraps(func)\n\u001b[32m    514\u001b[39m \u001b[38;5;28;01mdef\u001b[39;00m\u001b[38;5;250m \u001b[39m\u001b[34mnew_func\u001b[39m(*args, **kwargs):\n\u001b[32m    515\u001b[39m     warnings.warn(message, category=\u001b[38;5;167;01mDeprecationWarning\u001b[39;00m)\n\u001b[32m--> \u001b[39m\u001b[32m516\u001b[39m     \u001b[38;5;28;01mreturn\u001b[39;00m func(*args, **kwargs)\n",
      "\u001b[36mFile \u001b[39m\u001b[32m~/anaconda3/envs/conda-env-py311/lib/python3.11/site-packages/pynbody/bridge/__init__.py:340\u001b[39m, in \u001b[36mAbstractBridge.catalog_transfer_matrix\u001b[39m\u001b[34m(***failed resolving arguments***)\u001b[39m\n\u001b[32m    336\u001b[39m indices_to_use_2 = groups_2.number_mapper.number_to_index(np.arange(min_number, max_number_2+\u001b[32m1\u001b[39m))\n\u001b[32m    338\u001b[39m max_index = \u001b[38;5;28mmax\u001b[39m(indices_to_use_1.max(), indices_to_use_2.max())\n\u001b[32m--> \u001b[39m\u001b[32m340\u001b[39m transfer_matrix = \u001b[38;5;28mself\u001b[39m.count_particles_in_common(groups_1, groups_2,\n\u001b[32m    341\u001b[39m                                                  max_num_halos=max_index, use_family=use_family)\n\u001b[32m    343\u001b[39m transfer_matrix_restricted = transfer_matrix[indices_to_use_1, :][:, indices_to_use_2]\n\u001b[32m    345\u001b[39m \u001b[38;5;28;01mreturn\u001b[39;00m transfer_matrix_restricted\n",
      "\u001b[36mFile \u001b[39m\u001b[32m~/anaconda3/envs/conda-env-py311/lib/python3.11/site-packages/pynbody/bridge/__init__.py:233\u001b[39m, in \u001b[36mAbstractBridge.count_particles_in_common\u001b[39m\u001b[34m(self, halos_1, halos_2, max_num_halos, use_family)\u001b[39m\n\u001b[32m    230\u001b[39m     end = end[use_family]\n\u001b[32m    231\u001b[39m     start = start[use_family]\n\u001b[32m--> \u001b[39m\u001b[32m233\u001b[39m restricted_start_particles = \u001b[38;5;28mself\u001b[39m(\u001b[38;5;28mself\u001b[39m(start)) \u001b[38;5;66;03m# map back and forth to get only particles that are held in common\u001b[39;00m\n\u001b[32m    234\u001b[39m restricted_end_particles = \u001b[38;5;28mself\u001b[39m(restricted_start_particles) \u001b[38;5;66;03m# map back to start in case a reordering is required\u001b[39;00m\n\u001b[32m    236\u001b[39m restriction_end_indices = restricted_end_particles.get_index_list(end.ancestor)\n",
      "\u001b[36mFile \u001b[39m\u001b[32m~/anaconda3/envs/conda-env-py311/lib/python3.11/site-packages/pynbody/bridge/__init__.py:419\u001b[39m, in \u001b[36mOrderBridge.__call__\u001b[39m\u001b[34m(self, s)\u001b[39m\n\u001b[32m    416\u001b[39m \u001b[38;5;28;01melse\u001b[39;00m:\n\u001b[32m    417\u001b[39m     \u001b[38;5;28;01mraise\u001b[39;00m \u001b[38;5;167;01mRuntimeError\u001b[39;00m(\u001b[33m\"\u001b[39m\u001b[33mNot a subview of either end of the bridge\u001b[39m\u001b[33m\"\u001b[39m)\n\u001b[32m--> \u001b[39m\u001b[32m419\u001b[39m iord_to = np.asarray(to_[\u001b[38;5;28mself\u001b[39m._order_array]).view(np.ndarray)\n\u001b[32m    420\u001b[39m iord_from = np.asarray(s[\u001b[38;5;28mself\u001b[39m._order_array]).view(np.ndarray)\n\u001b[32m    422\u001b[39m \u001b[38;5;28;01mif\u001b[39;00m \u001b[38;5;129;01mnot\u001b[39;00m \u001b[38;5;28mself\u001b[39m.monotonic:\n",
      "\u001b[36mFile \u001b[39m\u001b[32m~/anaconda3/envs/conda-env-py311/lib/python3.11/site-packages/pynbody/snapshot/simsnap.py:252\u001b[39m, in \u001b[36mSimSnap.__getitem__\u001b[39m\u001b[34m(self, i)\u001b[39m\n\u001b[32m    249\u001b[39m \u001b[38;5;28;01mfrom\u001b[39;00m\u001b[38;5;250m \u001b[39m\u001b[34;01m.\u001b[39;00m\u001b[38;5;250m \u001b[39m\u001b[38;5;28;01mimport\u001b[39;00m subsnap\n\u001b[32m    251\u001b[39m \u001b[38;5;28;01mif\u001b[39;00m \u001b[38;5;28misinstance\u001b[39m(i, \u001b[38;5;28mstr\u001b[39m):\n\u001b[32m--> \u001b[39m\u001b[32m252\u001b[39m     \u001b[38;5;28;01mreturn\u001b[39;00m \u001b[38;5;28mself\u001b[39m._get_array_with_lazy_actions(i)\n\u001b[32m    253\u001b[39m \u001b[38;5;28;01melif\u001b[39;00m \u001b[38;5;28misinstance\u001b[39m(i, \u001b[38;5;28mslice\u001b[39m):\n\u001b[32m    254\u001b[39m     \u001b[38;5;28;01mreturn\u001b[39;00m subsnap.SubSnap(\u001b[38;5;28mself\u001b[39m, i)\n",
      "\u001b[36mFile \u001b[39m\u001b[32m~/anaconda3/envs/conda-env-py311/lib/python3.11/site-packages/pynbody/snapshot/simsnap.py:358\u001b[39m, in \u001b[36mSimSnap._get_array_with_lazy_actions\u001b[39m\u001b[34m(self, name)\u001b[39m\n\u001b[32m    353\u001b[39m \u001b[38;5;66;03m# Now, we'll try to load the array...\u001b[39;00m\n\u001b[32m    354\u001b[39m \u001b[38;5;28;01mif\u001b[39;00m \u001b[38;5;129;01mnot\u001b[39;00m \u001b[38;5;28mself\u001b[39m.lazy_load_off:\n\u001b[32m    355\u001b[39m     \u001b[38;5;66;03m# Note that we don't want this to be inside _dependency_tracker.calculating(name), because there is a\u001b[39;00m\n\u001b[32m    356\u001b[39m     \u001b[38;5;66;03m# small possibility the load will be mapped into a derivation by the loader class. Specifically this\u001b[39;00m\n\u001b[32m    357\u001b[39m     \u001b[38;5;66;03m# happens in ramses snapshots for the mass array (which is derived from the density array for gas cells).\u001b[39;00m\n\u001b[32m--> \u001b[39m\u001b[32m358\u001b[39m     \u001b[38;5;28mself\u001b[39m.__load_if_required(name)\n\u001b[32m    360\u001b[39m \u001b[38;5;28;01mif\u001b[39;00m name \u001b[38;5;129;01min\u001b[39;00m \u001b[38;5;28mself\u001b[39m:\n\u001b[32m    361\u001b[39m     \u001b[38;5;66;03m# We managed to load it. Note the dependency.\u001b[39;00m\n\u001b[32m    362\u001b[39m     \u001b[38;5;28mself\u001b[39m._dependency_tracker.touching(name)\n",
      "\u001b[36mFile \u001b[39m\u001b[32m~/anaconda3/envs/conda-env-py311/lib/python3.11/site-packages/pynbody/snapshot/simsnap.py:377\u001b[39m, in \u001b[36mSimSnap.__load_if_required\u001b[39m\u001b[34m(self, name)\u001b[39m\n\u001b[32m    375\u001b[39m \u001b[38;5;28;01mif\u001b[39;00m name \u001b[38;5;129;01mnot\u001b[39;00m \u001b[38;5;129;01min\u001b[39;00m \u001b[38;5;28mlist\u001b[39m(\u001b[38;5;28mself\u001b[39m.keys()):\n\u001b[32m    376\u001b[39m     \u001b[38;5;28;01mtry\u001b[39;00m:\n\u001b[32m--> \u001b[39m\u001b[32m377\u001b[39m         \u001b[38;5;28mself\u001b[39m.__load_array_and_perform_postprocessing(name)\n\u001b[32m    378\u001b[39m     \u001b[38;5;28;01mexcept\u001b[39;00m \u001b[38;5;167;01mOSError\u001b[39;00m:\n\u001b[32m    379\u001b[39m         \u001b[38;5;28;01mpass\u001b[39;00m\n",
      "\u001b[36mFile \u001b[39m\u001b[32m~/anaconda3/envs/conda-env-py311/lib/python3.11/site-packages/pynbody/snapshot/simsnap.py:896\u001b[39m, in \u001b[36mSimSnap.__load_array_and_perform_postprocessing\u001b[39m\u001b[34m(self, array_name, fam)\u001b[39m\n\u001b[32m    894\u001b[39m \u001b[38;5;28;01melse\u001b[39;00m:\n\u001b[32m    895\u001b[39m     \u001b[38;5;28;01mtry\u001b[39;00m:\n\u001b[32m--> \u001b[39m\u001b[32m896\u001b[39m         \u001b[38;5;28mself\u001b[39m._load_array(array_name, fam)\n\u001b[32m    897\u001b[39m     \u001b[38;5;28;01mexcept\u001b[39;00m \u001b[38;5;167;01mOSError\u001b[39;00m:\n\u001b[32m    898\u001b[39m         \u001b[38;5;28;01mfor\u001b[39;00m fam_x \u001b[38;5;129;01min\u001b[39;00m \u001b[38;5;28mself\u001b[39m.families():\n",
      "\u001b[36mFile \u001b[39m\u001b[32m~/anaconda3/envs/conda-env-py311/lib/python3.11/site-packages/pynbody/snapshot/tipsy.py:783\u001b[39m, in \u001b[36mTipsySnap._load_array\u001b[39m\u001b[34m(self, array_name, fam, filename, packed_vector)\u001b[39m\n\u001b[32m    775\u001b[39m \u001b[38;5;28;01mif\u001b[39;00m (fam \u001b[38;5;129;01mis\u001b[39;00m \u001b[38;5;28;01mNone\u001b[39;00m \u001b[38;5;129;01mand\u001b[39;00m fams \u001b[38;5;129;01mis\u001b[39;00m \u001b[38;5;129;01mnot\u001b[39;00m \u001b[38;5;28;01mNone\u001b[39;00m \u001b[38;5;129;01mand\u001b[39;00m \u001b[38;5;28mlen\u001b[39m(fams) != \u001b[38;5;28mlen\u001b[39m(\u001b[38;5;28mself\u001b[39m.families())) \u001b[38;5;129;01mor\u001b[39;00m \\\n\u001b[32m    776\u001b[39m         (fam \u001b[38;5;129;01mis\u001b[39;00m \u001b[38;5;129;01mnot\u001b[39;00m \u001b[38;5;28;01mNone\u001b[39;00m \u001b[38;5;129;01mand\u001b[39;00m fam \u001b[38;5;129;01mnot\u001b[39;00m \u001b[38;5;129;01min\u001b[39;00m fams):\n\u001b[32m    777\u001b[39m     \u001b[38;5;66;03m# Top line says 'you requested all families but at least one isn't available'\u001b[39;00m\n\u001b[32m    778\u001b[39m     \u001b[38;5;66;03m# Bottom line says 'you requested one family, but that one's not\u001b[39;00m\n\u001b[32m    779\u001b[39m     \u001b[38;5;66;03m# available'\u001b[39;00m\n\u001b[32m    781\u001b[39m     \u001b[38;5;28;01mraise\u001b[39;00m \u001b[38;5;167;01mOSError\u001b[39;00m(\u001b[33m\"\u001b[39m\u001b[33mThis array is marked as available only for families \u001b[39m\u001b[38;5;132;01m%s\u001b[39;00m\u001b[33m\"\u001b[39m % fams)\n\u001b[32m--> \u001b[39m\u001b[32m783\u001b[39m data = \u001b[38;5;28mself\u001b[39m.__read_array_from_disk(array_name, fam=fam,\n\u001b[32m    784\u001b[39m                                    filename=filename,\n\u001b[32m    785\u001b[39m                                    packed_vector=packed_vector)\n\u001b[32m    787\u001b[39m \u001b[38;5;28;01mif\u001b[39;00m fam \u001b[38;5;129;01mis\u001b[39;00m \u001b[38;5;28;01mNone\u001b[39;00m:\n\u001b[32m    788\u001b[39m     \u001b[38;5;28mself\u001b[39m[array_name] = data\n",
      "\u001b[36mFile \u001b[39m\u001b[32m~/anaconda3/envs/conda-env-py311/lib/python3.11/site-packages/pynbody/snapshot/tipsy.py:875\u001b[39m, in \u001b[36mTipsySnap.__read_array_from_disk\u001b[39m\u001b[34m(self, array_name, fam, filename, packed_vector)\u001b[39m\n\u001b[32m    873\u001b[39m \u001b[38;5;66;03m# Read header and check endianness\u001b[39;00m\n\u001b[32m    874\u001b[39m \u001b[38;5;28;01mif\u001b[39;00m \u001b[38;5;28mself\u001b[39m._byteswap:\n\u001b[32m--> \u001b[39m\u001b[32m875\u001b[39m     l = struct.unpack(\u001b[33m\"\u001b[39m\u001b[33m>i\u001b[39m\u001b[33m\"\u001b[39m, f.read(\u001b[32m4\u001b[39m))[\u001b[32m0\u001b[39m]\n\u001b[32m    876\u001b[39m \u001b[38;5;28;01melse\u001b[39;00m:\n\u001b[32m    877\u001b[39m     l = struct.unpack(\u001b[33m\"\u001b[39m\u001b[33mi\u001b[39m\u001b[33m\"\u001b[39m, f.read(\u001b[32m4\u001b[39m))[\u001b[32m0\u001b[39m]\n",
      "\u001b[31merror\u001b[39m: unpack requires a buffer of 4 bytes"
     ]
    }
   ],
   "source": [
    "trace = ht.tracing.trace_halos(sim_base=sim_base, ahf_dir=ahf_dir, min_ntot=500)"
   ]
  },
  {
   "cell_type": "code",
   "execution_count": null,
   "metadata": {},
   "outputs": [],
   "source": []
  },
  {
   "cell_type": "code",
   "execution_count": 5,
   "metadata": {},
   "outputs": [
    {
     "data": {
      "text/plain": [
       "'# Debug: Check what paths are being constructed\\nfrom pathlib import Path\\nimport glob\\n\\nsim_high_path = \\'/home/selvani/MAP/Sims/cptmarvel.cosmo25cmb/cptmarvel.cosmo25cmb.4096g5HbwK1BH/cptmarvel.cosmo25cmb.4096g5HbwK1BH.003968/cptmarvel.cosmo25cmb.4096g5HbwK1BH.003968\\'\\npth = Path(sim_high_path)\\nahf_dir = \\'ahf_200\\'\\n\\nprint(f\"Simulation file path: {pth}\")\\nprint(f\"Parent directory: {pth.parent}\")\\nprint(f\"Looking for AHF files in: {pth.parent / ahf_dir}\")\\n\\n# Check what files actually exist\\nahf_files = list(pth.parent.glob(f\\'{ahf_dir}/*AHF_halos\\'))\\nprint(f\"Found AHF files: {ahf_files}\")\\n\\nif ahf_files:\\n    ahf_basename = str(ahf_files[0])[:-10]  # Remove \\'.AHF_halos\\'\\n    print(f\"ahf_basename would be: {ahf_basename}\")\\n\\n    # Check what related files exist\\n    print(f\"Checking for related files:\")\\n    print(f\"  {ahf_basename}.AHF_halos exists: {Path(ahf_basename + \\'.AHF_halos\\').exists()}\")\\n    print(f\"  {ahf_basename}.AHF_particles exists: {Path(ahf_basename + \\'.AHF_particles\\').exists()}\")\\n'"
      ]
     },
     "execution_count": 5,
     "metadata": {},
     "output_type": "execute_result"
    }
   ],
   "source": [
    "'''# Debug: Check what paths are being constructed\n",
    "from pathlib import Path\n",
    "import glob\n",
    "\n",
    "sim_high_path = '/home/selvani/MAP/Sims/cptmarvel.cosmo25cmb/cptmarvel.cosmo25cmb.4096g5HbwK1BH/cptmarvel.cosmo25cmb.4096g5HbwK1BH.003968/cptmarvel.cosmo25cmb.4096g5HbwK1BH.003968'\n",
    "pth = Path(sim_high_path)\n",
    "ahf_dir = 'ahf_200'\n",
    "\n",
    "print(f\"Simulation file path: {pth}\")\n",
    "print(f\"Parent directory: {pth.parent}\")\n",
    "print(f\"Looking for AHF files in: {pth.parent / ahf_dir}\")\n",
    "\n",
    "# Check what files actually exist\n",
    "ahf_files = list(pth.parent.glob(f'{ahf_dir}/*AHF_halos'))\n",
    "print(f\"Found AHF files: {ahf_files}\")\n",
    "\n",
    "if ahf_files:\n",
    "    ahf_basename = str(ahf_files[0])[:-10]  # Remove '.AHF_halos'\n",
    "    print(f\"ahf_basename would be: {ahf_basename}\")\n",
    "    \n",
    "    # Check what related files exist\n",
    "    print(f\"Checking for related files:\")\n",
    "    print(f\"  {ahf_basename}.AHF_halos exists: {Path(ahf_basename + '.AHF_halos').exists()}\")\n",
    "    print(f\"  {ahf_basename}.AHF_particles exists: {Path(ahf_basename + '.AHF_particles').exists()}\")\n",
    "'''"
   ]
  },
  {
   "cell_type": "code",
   "execution_count": 6,
   "metadata": {},
   "outputs": [
    {
     "data": {
      "text/plain": [
       "'import pynbody as pb\\ns = pb.load(sim_base + \\'cptmarvel.cosmo25cmb.4096g5HbwK1BH.004096/cptmarvel.cosmo25cmb.4096g5HbwK1BH.004096\\')\\ns.physical_units()\\n\\nahf_basename = sim_base + \\'/cptmarvel.cosmo25cmb.4096g5HbwK1BH.004096/ahf_200/cptmarvel.cosmo25cmb.4096g5HbwK1BH.004096.0000.z0.000.AHF_\\'\\n#check if file exists\\nif not os.path.exists(ahf_basename + \\'halos\\'):\\n    raise FileNotFoundError(f\"AHF halos file does not exist: {ahf_basename}.AHF_halos\")\\nelse:\\n    print(f\"AHF halos file found: {ahf_basename}halos\")\\nhalos = s.halos(halo_numbers=\\'v1\\', ahf_basename=ahf_basename)\\nprint(f\"Loaded halos: {halos}\")'"
      ]
     },
     "execution_count": 6,
     "metadata": {},
     "output_type": "execute_result"
    }
   ],
   "source": [
    "'''import pynbody as pb\n",
    "s = pb.load(sim_base + 'cptmarvel.cosmo25cmb.4096g5HbwK1BH.004096/cptmarvel.cosmo25cmb.4096g5HbwK1BH.004096')\n",
    "s.physical_units()\n",
    "\n",
    "ahf_basename = sim_base + '/cptmarvel.cosmo25cmb.4096g5HbwK1BH.004096/ahf_200/cptmarvel.cosmo25cmb.4096g5HbwK1BH.004096.0000.z0.000.AHF_'\n",
    "#check if file exists\n",
    "if not os.path.exists(ahf_basename + 'halos'):\n",
    "    raise FileNotFoundError(f\"AHF halos file does not exist: {ahf_basename}.AHF_halos\")\n",
    "else:\n",
    "    print(f\"AHF halos file found: {ahf_basename}halos\")\n",
    "halos = s.halos(halo_numbers='v1', ahf_basename=ahf_basename)\n",
    "print(f\"Loaded halos: {halos}\")'''"
   ]
  },
  {
   "cell_type": "code",
   "execution_count": 7,
   "metadata": {},
   "outputs": [
    {
     "data": {
      "text/plain": [
       "'import pynbody as pb\\nfile = sim_base + \\'/snapshots_200crit_cptmarvel/cptmarvel.cosmo25cmb.4096g5HbwK1BH.003968/\\'\\ns = pb.load(file)\\nh = s.halos(halo_numbers=\\'v1\\')\\n# Check if the halo catalog is loaded correctly\\nif h is None:\\n    raise ValueError(\"Halo catalog could not be loaded. Please check the file path and format.\")\\n# Check the number of halos\\nnum_halos = len(h)\\nprint(f\"Number of halos in the catalog: {num_halos}\")'"
      ]
     },
     "execution_count": 7,
     "metadata": {},
     "output_type": "execute_result"
    }
   ],
   "source": [
    "'''import pynbody as pb\n",
    "file = sim_base + '/snapshots_200crit_cptmarvel/cptmarvel.cosmo25cmb.4096g5HbwK1BH.003968/'\n",
    "s = pb.load(file)\n",
    "h = s.halos(halo_numbers='v1')\n",
    "# Check if the halo catalog is loaded correctly\n",
    "if h is None:\n",
    "    raise ValueError(\"Halo catalog could not be loaded. Please check the file path and format.\")\n",
    "# Check the number of halos\n",
    "num_halos = len(h)\n",
    "print(f\"Number of halos in the catalog: {num_halos}\")'''"
   ]
  },
  {
   "cell_type": "code",
   "execution_count": 8,
   "metadata": {},
   "outputs": [
    {
     "data": {
      "text/plain": [
       "'import pynbody as pb\\ns = pb.load(sim_base + \\'cptmarvel.cosmo25cmb.4096g5HbwK1BH.003968/cptmarvel.cosmo25cmb.4096g5HbwK1BH.003968\\')\\ns.physical_units()\\n\\nahf_basename = sim_base + \\'/cptmarvel.cosmo25cmb.4096g5HbwK1BH.003968/ahf_200/cptmarvel.cosmo25cmb.4096g5HbwK1BH.003968.0000.z0.033.AHF_\\'\\n#check if file exists\\nif not os.path.exists(ahf_basename + \\'halos\\'):\\n    raise FileNotFoundError(f\"AHF halos file does not exist: {ahf_basename}.AHF_halos\")\\nelse:\\n    print(f\"AHF halos file found: {ahf_basename}halos\")\\nhalos = s.halos(halo_numbers=\\'v1\\', ahf_basename=ahf_basename)'"
      ]
     },
     "execution_count": 8,
     "metadata": {},
     "output_type": "execute_result"
    }
   ],
   "source": [
    "'''import pynbody as pb\n",
    "s = pb.load(sim_base + 'cptmarvel.cosmo25cmb.4096g5HbwK1BH.003968/cptmarvel.cosmo25cmb.4096g5HbwK1BH.003968')\n",
    "s.physical_units()\n",
    "\n",
    "ahf_basename = sim_base + '/cptmarvel.cosmo25cmb.4096g5HbwK1BH.003968/ahf_200/cptmarvel.cosmo25cmb.4096g5HbwK1BH.003968.0000.z0.033.AHF_'\n",
    "#check if file exists\n",
    "if not os.path.exists(ahf_basename + 'halos'):\n",
    "    raise FileNotFoundError(f\"AHF halos file does not exist: {ahf_basename}.AHF_halos\")\n",
    "else:\n",
    "    print(f\"AHF halos file found: {ahf_basename}halos\")\n",
    "halos = s.halos(halo_numbers='v1', ahf_basename=ahf_basename)'''"
   ]
  },
  {
   "cell_type": "code",
   "execution_count": null,
   "metadata": {},
   "outputs": [],
   "source": []
  },
  {
   "cell_type": "markdown",
   "metadata": {},
   "source": [
    "## Analyze"
   ]
  },
  {
   "cell_type": "markdown",
   "metadata": {},
   "source": [
    "By default, it will save your trace. In my case I've already run this trace, so it will decline to overwrite it. In your case, you'll see information printed to screen as the trace goes on. Since I've already created the trace, I'll go ahead and load it now:"
   ]
  },
  {
   "cell_type": "code",
   "execution_count": 3,
   "metadata": {},
   "outputs": [],
   "source": [
    "trace = pd.read_hdf(sim_base +  \n",
    "                    'h148.cosmo50PLK.6144g3HbwK1BH.004096/h148.cosmo50PLK.6144g3HbwK1BH.004096.trace_back.hdf5')"
   ]
  },
  {
   "cell_type": "markdown",
   "metadata": {},
   "source": [
    "The index is the present day halo ID. Each column represents the main progenitor of a halo at that timestep:"
   ]
  },
  {
   "cell_type": "code",
   "execution_count": 4,
   "metadata": {},
   "outputs": [
    {
     "data": {
      "text/html": [
       "<div>\n",
       "<style scoped>\n",
       "    .dataframe tbody tr th:only-of-type {\n",
       "        vertical-align: middle;\n",
       "    }\n",
       "\n",
       "    .dataframe tbody tr th {\n",
       "        vertical-align: top;\n",
       "    }\n",
       "\n",
       "    .dataframe thead th {\n",
       "        text-align: right;\n",
       "    }\n",
       "</style>\n",
       "<table border=\"1\" class=\"dataframe\">\n",
       "  <thead>\n",
       "    <tr style=\"text-align: right;\">\n",
       "      <th></th>\n",
       "      <th>004032</th>\n",
       "      <th>003936</th>\n",
       "      <th>003840</th>\n",
       "      <th>003810</th>\n",
       "      <th>003760</th>\n",
       "      <th>003744</th>\n",
       "      <th>003671</th>\n",
       "      <th>003648</th>\n",
       "      <th>003606</th>\n",
       "      <th>003552</th>\n",
       "      <th>...</th>\n",
       "      <th>000512</th>\n",
       "      <th>000457</th>\n",
       "      <th>000384</th>\n",
       "      <th>000347</th>\n",
       "      <th>000275</th>\n",
       "      <th>000256</th>\n",
       "      <th>000225</th>\n",
       "      <th>000188</th>\n",
       "      <th>000139</th>\n",
       "      <th>000128</th>\n",
       "    </tr>\n",
       "    <tr>\n",
       "      <th>004096</th>\n",
       "      <th></th>\n",
       "      <th></th>\n",
       "      <th></th>\n",
       "      <th></th>\n",
       "      <th></th>\n",
       "      <th></th>\n",
       "      <th></th>\n",
       "      <th></th>\n",
       "      <th></th>\n",
       "      <th></th>\n",
       "      <th></th>\n",
       "      <th></th>\n",
       "      <th></th>\n",
       "      <th></th>\n",
       "      <th></th>\n",
       "      <th></th>\n",
       "      <th></th>\n",
       "      <th></th>\n",
       "      <th></th>\n",
       "      <th></th>\n",
       "      <th></th>\n",
       "    </tr>\n",
       "  </thead>\n",
       "  <tbody>\n",
       "    <tr>\n",
       "      <th>1</th>\n",
       "      <td>1.0</td>\n",
       "      <td>1.0</td>\n",
       "      <td>1.0</td>\n",
       "      <td>1.0</td>\n",
       "      <td>1.0</td>\n",
       "      <td>1.0</td>\n",
       "      <td>1.0</td>\n",
       "      <td>1.0</td>\n",
       "      <td>1.0</td>\n",
       "      <td>1.0</td>\n",
       "      <td>...</td>\n",
       "      <td>1.0</td>\n",
       "      <td>1.0</td>\n",
       "      <td>1.0</td>\n",
       "      <td>85.0</td>\n",
       "      <td>179.0</td>\n",
       "      <td>183.0</td>\n",
       "      <td>159.0</td>\n",
       "      <td>140.0</td>\n",
       "      <td>176.0</td>\n",
       "      <td>186</td>\n",
       "    </tr>\n",
       "    <tr>\n",
       "      <th>2</th>\n",
       "      <td>2.0</td>\n",
       "      <td>2.0</td>\n",
       "      <td>2.0</td>\n",
       "      <td>2.0</td>\n",
       "      <td>2.0</td>\n",
       "      <td>2.0</td>\n",
       "      <td>2.0</td>\n",
       "      <td>2.0</td>\n",
       "      <td>2.0</td>\n",
       "      <td>2.0</td>\n",
       "      <td>...</td>\n",
       "      <td>5.0</td>\n",
       "      <td>5.0</td>\n",
       "      <td>11.0</td>\n",
       "      <td>23.0</td>\n",
       "      <td>28.0</td>\n",
       "      <td>25.0</td>\n",
       "      <td>19.0</td>\n",
       "      <td>19.0</td>\n",
       "      <td>20.0</td>\n",
       "      <td>30</td>\n",
       "    </tr>\n",
       "    <tr>\n",
       "      <th>3</th>\n",
       "      <td>3.0</td>\n",
       "      <td>3.0</td>\n",
       "      <td>3.0</td>\n",
       "      <td>3.0</td>\n",
       "      <td>3.0</td>\n",
       "      <td>3.0</td>\n",
       "      <td>3.0</td>\n",
       "      <td>3.0</td>\n",
       "      <td>3.0</td>\n",
       "      <td>3.0</td>\n",
       "      <td>...</td>\n",
       "      <td>12.0</td>\n",
       "      <td>12.0</td>\n",
       "      <td>12.0</td>\n",
       "      <td>14.0</td>\n",
       "      <td>14.0</td>\n",
       "      <td>12.0</td>\n",
       "      <td>9.0</td>\n",
       "      <td>5.0</td>\n",
       "      <td>2.0</td>\n",
       "      <td>1</td>\n",
       "    </tr>\n",
       "    <tr>\n",
       "      <th>4</th>\n",
       "      <td>4.0</td>\n",
       "      <td>4.0</td>\n",
       "      <td>4.0</td>\n",
       "      <td>4.0</td>\n",
       "      <td>4.0</td>\n",
       "      <td>4.0</td>\n",
       "      <td>4.0</td>\n",
       "      <td>4.0</td>\n",
       "      <td>4.0</td>\n",
       "      <td>4.0</td>\n",
       "      <td>...</td>\n",
       "      <td>8.0</td>\n",
       "      <td>7.0</td>\n",
       "      <td>6.0</td>\n",
       "      <td>5.0</td>\n",
       "      <td>3.0</td>\n",
       "      <td>3.0</td>\n",
       "      <td>4.0</td>\n",
       "      <td>4.0</td>\n",
       "      <td>3.0</td>\n",
       "      <td>9</td>\n",
       "    </tr>\n",
       "    <tr>\n",
       "      <th>5</th>\n",
       "      <td>5.0</td>\n",
       "      <td>5.0</td>\n",
       "      <td>5.0</td>\n",
       "      <td>5.0</td>\n",
       "      <td>5.0</td>\n",
       "      <td>5.0</td>\n",
       "      <td>5.0</td>\n",
       "      <td>5.0</td>\n",
       "      <td>5.0</td>\n",
       "      <td>5.0</td>\n",
       "      <td>...</td>\n",
       "      <td>14.0</td>\n",
       "      <td>18.0</td>\n",
       "      <td>15.0</td>\n",
       "      <td>13.0</td>\n",
       "      <td>52.0</td>\n",
       "      <td>55.0</td>\n",
       "      <td>50.0</td>\n",
       "      <td>44.0</td>\n",
       "      <td>39.0</td>\n",
       "      <td>41</td>\n",
       "    </tr>\n",
       "  </tbody>\n",
       "</table>\n",
       "<p>5 rows × 53 columns</p>\n",
       "</div>"
      ],
      "text/plain": [
       "        004032  003936  003840  003810  003760  003744  003671  003648  \\\n",
       "004096                                                                   \n",
       "1          1.0     1.0     1.0     1.0     1.0     1.0     1.0     1.0   \n",
       "2          2.0     2.0     2.0     2.0     2.0     2.0     2.0     2.0   \n",
       "3          3.0     3.0     3.0     3.0     3.0     3.0     3.0     3.0   \n",
       "4          4.0     4.0     4.0     4.0     4.0     4.0     4.0     4.0   \n",
       "5          5.0     5.0     5.0     5.0     5.0     5.0     5.0     5.0   \n",
       "\n",
       "        003606  003552  ...  000512  000457  000384  000347  000275  000256  \\\n",
       "004096                  ...                                                   \n",
       "1          1.0     1.0  ...     1.0     1.0     1.0    85.0   179.0   183.0   \n",
       "2          2.0     2.0  ...     5.0     5.0    11.0    23.0    28.0    25.0   \n",
       "3          3.0     3.0  ...    12.0    12.0    12.0    14.0    14.0    12.0   \n",
       "4          4.0     4.0  ...     8.0     7.0     6.0     5.0     3.0     3.0   \n",
       "5          5.0     5.0  ...    14.0    18.0    15.0    13.0    52.0    55.0   \n",
       "\n",
       "        000225  000188  000139  000128  \n",
       "004096                                  \n",
       "1        159.0   140.0   176.0     186  \n",
       "2         19.0    19.0    20.0      30  \n",
       "3          9.0     5.0     2.0       1  \n",
       "4          4.0     4.0     3.0       9  \n",
       "5         50.0    44.0    39.0      41  \n",
       "\n",
       "[5 rows x 53 columns]"
      ]
     },
     "execution_count": 4,
     "metadata": {},
     "output_type": "execute_result"
    }
   ],
   "source": [
    "trace.head() "
   ]
  },
  {
   "cell_type": "markdown",
   "metadata": {},
   "source": [
    "If you don't know how to use pandas, this might take a bit to get used to. To see the main progenitor IDs of halo 7, for example, you do this:"
   ]
  },
  {
   "cell_type": "code",
   "execution_count": 5,
   "metadata": {},
   "outputs": [
    {
     "data": {
      "text/plain": [
       "004032     7.0\n",
       "003936     7.0\n",
       "003840     7.0\n",
       "003810     7.0\n",
       "003760     7.0\n",
       "003744     7.0\n",
       "003671     7.0\n",
       "003648     7.0\n",
       "003606     7.0\n",
       "003552     7.0\n",
       "003456     8.0\n",
       "003360     8.0\n",
       "003264     9.0\n",
       "003195     9.0\n",
       "003168     9.0\n",
       "003072     8.0\n",
       "002976     9.0\n",
       "002880     9.0\n",
       "002784     9.0\n",
       "002688     9.0\n",
       "002592     9.0\n",
       "002555     9.0\n",
       "002496     9.0\n",
       "002400     9.0\n",
       "002304     9.0\n",
       "002208     9.0\n",
       "002112     9.0\n",
       "002088     9.0\n",
       "002048     9.0\n",
       "001920     9.0\n",
       "001740     9.0\n",
       "001664     9.0\n",
       "001536    11.0\n",
       "001476    10.0\n",
       "001408    11.0\n",
       "001280    15.0\n",
       "001270    16.0\n",
       "001152    17.0\n",
       "001106    18.0\n",
       "001024    20.0\n",
       "000777    28.0\n",
       "000640    35.0\n",
       "000637    36.0\n",
       "000512    28.0\n",
       "000457    31.0\n",
       "000384    34.0\n",
       "000347    35.0\n",
       "000275    27.0\n",
       "000256    24.0\n",
       "000225    18.0\n",
       "000188    14.0\n",
       "000139    11.0\n",
       "000128      13\n",
       "Name: 7, dtype: object"
      ]
     },
     "execution_count": 5,
     "metadata": {},
     "output_type": "execute_result"
    }
   ],
   "source": [
    "trace.loc[7]"
   ]
  },
  {
   "cell_type": "markdown",
   "metadata": {},
   "source": [
    "To see the main progenitor ID just at step 000188, for example, you would do this:"
   ]
  },
  {
   "cell_type": "code",
   "execution_count": 6,
   "metadata": {},
   "outputs": [
    {
     "data": {
      "text/plain": [
       "14.0"
      ]
     },
     "execution_count": 6,
     "metadata": {},
     "output_type": "execute_result"
    }
   ],
   "source": [
    "trace.loc[7, '000188']"
   ]
  },
  {
   "cell_type": "markdown",
   "metadata": {},
   "source": [
    "or for several steps:"
   ]
  },
  {
   "cell_type": "code",
   "execution_count": 7,
   "metadata": {},
   "outputs": [
    {
     "data": {
      "text/plain": [
       "000139    11.0\n",
       "000188    14.0\n",
       "Name: 7, dtype: object"
      ]
     },
     "execution_count": 7,
     "metadata": {},
     "output_type": "execute_result"
    }
   ],
   "source": [
    "trace.loc[7, ['000139', '000188']]"
   ]
  },
  {
   "cell_type": "markdown",
   "metadata": {},
   "source": [
    "The -1s (and, in some cases, NaNs) represent steps where the main progenitor could not be idenified. Most larger halos are traced back pretty far. here is an example of a halo that wasn't:"
   ]
  },
  {
   "cell_type": "code",
   "execution_count": 8,
   "metadata": {},
   "outputs": [
    {
     "data": {
      "text/plain": [
       "004032    4843.0\n",
       "003936    4894.0\n",
       "003840    4945.0\n",
       "003810    4915.0\n",
       "003760    5101.0\n",
       "003744    4900.0\n",
       "003671    4871.0\n",
       "003648    4869.0\n",
       "003606    4843.0\n",
       "003552    4804.0\n",
       "003456    4652.0\n",
       "003360    4525.0\n",
       "003264    4403.0\n",
       "003195    3537.0\n",
       "003168    3448.0\n",
       "003072    3368.0\n",
       "002976    3388.0\n",
       "002880    3408.0\n",
       "002784    3436.0\n",
       "002688    3501.0\n",
       "002592    3544.0\n",
       "002555    3539.0\n",
       "002496    3518.0\n",
       "002400    3416.0\n",
       "002304    3372.0\n",
       "002208    3342.0\n",
       "002112    3198.0\n",
       "002088    3142.0\n",
       "002048    2818.0\n",
       "001920    2499.0\n",
       "001740    2511.0\n",
       "001664    2662.0\n",
       "001536    2518.0\n",
       "001476    2513.0\n",
       "001408    2533.0\n",
       "001280    2686.0\n",
       "001270    2675.0\n",
       "001152    2703.0\n",
       "001106    2749.0\n",
       "001024    2809.0\n",
       "000777    3444.0\n",
       "000640    3829.0\n",
       "000637    3888.0\n",
       "000512    3905.0\n",
       "000457    4209.0\n",
       "000384    4980.0\n",
       "000347    6181.0\n",
       "000275    7550.0\n",
       "000256    7360.0\n",
       "000225    7616.0\n",
       "000188    9724.0\n",
       "000139      -1.0\n",
       "000128        -1\n",
       "Name: 4890, dtype: object"
      ]
     },
     "execution_count": 8,
     "metadata": {},
     "output_type": "execute_result"
    }
   ],
   "source": [
    "trace.loc[4890]"
   ]
  },
  {
   "cell_type": "markdown",
   "metadata": {},
   "source": [
    "Using the identified halos from the trace, you can read in any value in the amiga.stat or AHF_halos files and put it in a DataFrame of its own. Every time you read in an amiga.stat file you'll get some output information; this mainly has to do with connecting AHF files to amiga files, and you should be able to ignore it."
   ]
  },
  {
   "cell_type": "code",
   "execution_count": 9,
   "metadata": {
    "scrolled": true
   },
   "outputs": [
    {
     "name": "stdout",
     "output_type": "stream",
     "text": [
      "/data/REPOSITORY/e12Gals/h148.cosmo50PLK.6144g3HbwK1BH///h148.cosmo50PLK.6144g3HbwK1BH.004096/h148.cosmo50PLK.6144g3HbwK1BH.004096 \n",
      "\n",
      "/data/REPOSITORY/e12Gals/h148.cosmo50PLK.6144g3HbwK1BH///h148.cosmo50PLK.6144g3HbwK1BH.004032/h148.cosmo50PLK.6144g3HbwK1BH.004032 \n",
      "\n",
      "/data/REPOSITORY/e12Gals/h148.cosmo50PLK.6144g3HbwK1BH///h148.cosmo50PLK.6144g3HbwK1BH.003936/h148.cosmo50PLK.6144g3HbwK1BH.003936 \n",
      "\n",
      "/data/REPOSITORY/e12Gals/h148.cosmo50PLK.6144g3HbwK1BH///h148.cosmo50PLK.6144g3HbwK1BH.003840/h148.cosmo50PLK.6144g3HbwK1BH.003840 \n",
      "\n",
      "/data/REPOSITORY/e12Gals/h148.cosmo50PLK.6144g3HbwK1BH///h148.cosmo50PLK.6144g3HbwK1BH.003810/h148.cosmo50PLK.6144g3HbwK1BH.003810 \n",
      "\n",
      "/data/REPOSITORY/e12Gals/h148.cosmo50PLK.6144g3HbwK1BH///h148.cosmo50PLK.6144g3HbwK1BH.003760/h148.cosmo50PLK.6144g3HbwK1BH.003760 \n",
      "\n",
      "/data/REPOSITORY/e12Gals/h148.cosmo50PLK.6144g3HbwK1BH///h148.cosmo50PLK.6144g3HbwK1BH.003744/h148.cosmo50PLK.6144g3HbwK1BH.003744 \n",
      "\n",
      "/data/REPOSITORY/e12Gals/h148.cosmo50PLK.6144g3HbwK1BH///h148.cosmo50PLK.6144g3HbwK1BH.003671/h148.cosmo50PLK.6144g3HbwK1BH.003671 \n",
      "\n",
      "/data/REPOSITORY/e12Gals/h148.cosmo50PLK.6144g3HbwK1BH///h148.cosmo50PLK.6144g3HbwK1BH.003648/h148.cosmo50PLK.6144g3HbwK1BH.003648 \n",
      "\n",
      "/data/REPOSITORY/e12Gals/h148.cosmo50PLK.6144g3HbwK1BH///h148.cosmo50PLK.6144g3HbwK1BH.003606/h148.cosmo50PLK.6144g3HbwK1BH.003606 \n",
      "\n",
      "/data/REPOSITORY/e12Gals/h148.cosmo50PLK.6144g3HbwK1BH///h148.cosmo50PLK.6144g3HbwK1BH.003552/h148.cosmo50PLK.6144g3HbwK1BH.003552 \n",
      "\n",
      "/data/REPOSITORY/e12Gals/h148.cosmo50PLK.6144g3HbwK1BH///h148.cosmo50PLK.6144g3HbwK1BH.003456/h148.cosmo50PLK.6144g3HbwK1BH.003456 \n",
      "\n",
      "/data/REPOSITORY/e12Gals/h148.cosmo50PLK.6144g3HbwK1BH///h148.cosmo50PLK.6144g3HbwK1BH.003360/h148.cosmo50PLK.6144g3HbwK1BH.003360 \n",
      "\n",
      "/data/REPOSITORY/e12Gals/h148.cosmo50PLK.6144g3HbwK1BH///h148.cosmo50PLK.6144g3HbwK1BH.003264/h148.cosmo50PLK.6144g3HbwK1BH.003264 \n",
      "\n",
      "/data/REPOSITORY/e12Gals/h148.cosmo50PLK.6144g3HbwK1BH///h148.cosmo50PLK.6144g3HbwK1BH.003195/h148.cosmo50PLK.6144g3HbwK1BH.003195 \n",
      "\n",
      "/data/REPOSITORY/e12Gals/h148.cosmo50PLK.6144g3HbwK1BH///h148.cosmo50PLK.6144g3HbwK1BH.003168/h148.cosmo50PLK.6144g3HbwK1BH.003168 \n",
      "\n",
      "/data/REPOSITORY/e12Gals/h148.cosmo50PLK.6144g3HbwK1BH///h148.cosmo50PLK.6144g3HbwK1BH.003072/h148.cosmo50PLK.6144g3HbwK1BH.003072 \n",
      "\n",
      "/data/REPOSITORY/e12Gals/h148.cosmo50PLK.6144g3HbwK1BH///h148.cosmo50PLK.6144g3HbwK1BH.002976/h148.cosmo50PLK.6144g3HbwK1BH.002976 \n",
      "\n",
      "/data/REPOSITORY/e12Gals/h148.cosmo50PLK.6144g3HbwK1BH///h148.cosmo50PLK.6144g3HbwK1BH.002880/h148.cosmo50PLK.6144g3HbwK1BH.002880 \n",
      "\n",
      "/data/REPOSITORY/e12Gals/h148.cosmo50PLK.6144g3HbwK1BH///h148.cosmo50PLK.6144g3HbwK1BH.002784/h148.cosmo50PLK.6144g3HbwK1BH.002784 \n",
      "\n",
      "/data/REPOSITORY/e12Gals/h148.cosmo50PLK.6144g3HbwK1BH///h148.cosmo50PLK.6144g3HbwK1BH.002688/h148.cosmo50PLK.6144g3HbwK1BH.002688 \n",
      "\n",
      "/data/REPOSITORY/e12Gals/h148.cosmo50PLK.6144g3HbwK1BH///h148.cosmo50PLK.6144g3HbwK1BH.002592/h148.cosmo50PLK.6144g3HbwK1BH.002592 \n",
      "\n",
      "/data/REPOSITORY/e12Gals/h148.cosmo50PLK.6144g3HbwK1BH///h148.cosmo50PLK.6144g3HbwK1BH.002555/h148.cosmo50PLK.6144g3HbwK1BH.002555 \n",
      "\n",
      "/data/REPOSITORY/e12Gals/h148.cosmo50PLK.6144g3HbwK1BH///h148.cosmo50PLK.6144g3HbwK1BH.002496/h148.cosmo50PLK.6144g3HbwK1BH.002496 \n",
      "\n",
      "/data/REPOSITORY/e12Gals/h148.cosmo50PLK.6144g3HbwK1BH///h148.cosmo50PLK.6144g3HbwK1BH.002400/h148.cosmo50PLK.6144g3HbwK1BH.002400 \n",
      "\n",
      "/data/REPOSITORY/e12Gals/h148.cosmo50PLK.6144g3HbwK1BH///h148.cosmo50PLK.6144g3HbwK1BH.002304/h148.cosmo50PLK.6144g3HbwK1BH.002304 \n",
      "\n",
      "/data/REPOSITORY/e12Gals/h148.cosmo50PLK.6144g3HbwK1BH///h148.cosmo50PLK.6144g3HbwK1BH.002208/h148.cosmo50PLK.6144g3HbwK1BH.002208 \n",
      "\n",
      "/data/REPOSITORY/e12Gals/h148.cosmo50PLK.6144g3HbwK1BH///h148.cosmo50PLK.6144g3HbwK1BH.002112/h148.cosmo50PLK.6144g3HbwK1BH.002112 \n",
      "\n",
      "/data/REPOSITORY/e12Gals/h148.cosmo50PLK.6144g3HbwK1BH///h148.cosmo50PLK.6144g3HbwK1BH.002088/h148.cosmo50PLK.6144g3HbwK1BH.002088 \n",
      "\n",
      "/data/REPOSITORY/e12Gals/h148.cosmo50PLK.6144g3HbwK1BH///h148.cosmo50PLK.6144g3HbwK1BH.002048/h148.cosmo50PLK.6144g3HbwK1BH.002048 \n",
      "\n",
      "/data/REPOSITORY/e12Gals/h148.cosmo50PLK.6144g3HbwK1BH///h148.cosmo50PLK.6144g3HbwK1BH.001920/h148.cosmo50PLK.6144g3HbwK1BH.001920 \n",
      "\n",
      "/data/REPOSITORY/e12Gals/h148.cosmo50PLK.6144g3HbwK1BH///h148.cosmo50PLK.6144g3HbwK1BH.001740/h148.cosmo50PLK.6144g3HbwK1BH.001740 \n",
      "\n",
      "/data/REPOSITORY/e12Gals/h148.cosmo50PLK.6144g3HbwK1BH///h148.cosmo50PLK.6144g3HbwK1BH.001664/h148.cosmo50PLK.6144g3HbwK1BH.001664 \n",
      "\n",
      "/data/REPOSITORY/e12Gals/h148.cosmo50PLK.6144g3HbwK1BH///h148.cosmo50PLK.6144g3HbwK1BH.001536/h148.cosmo50PLK.6144g3HbwK1BH.001536 \n",
      "\n",
      "/data/REPOSITORY/e12Gals/h148.cosmo50PLK.6144g3HbwK1BH///h148.cosmo50PLK.6144g3HbwK1BH.001476/h148.cosmo50PLK.6144g3HbwK1BH.001476 \n",
      "\n",
      "/data/REPOSITORY/e12Gals/h148.cosmo50PLK.6144g3HbwK1BH///h148.cosmo50PLK.6144g3HbwK1BH.001408/h148.cosmo50PLK.6144g3HbwK1BH.001408 \n",
      "\n",
      "/data/REPOSITORY/e12Gals/h148.cosmo50PLK.6144g3HbwK1BH///h148.cosmo50PLK.6144g3HbwK1BH.001280/h148.cosmo50PLK.6144g3HbwK1BH.001280 \n",
      "\n",
      "/data/REPOSITORY/e12Gals/h148.cosmo50PLK.6144g3HbwK1BH///h148.cosmo50PLK.6144g3HbwK1BH.001270/h148.cosmo50PLK.6144g3HbwK1BH.001270 \n",
      "\n",
      "/data/REPOSITORY/e12Gals/h148.cosmo50PLK.6144g3HbwK1BH///h148.cosmo50PLK.6144g3HbwK1BH.001152/h148.cosmo50PLK.6144g3HbwK1BH.001152 \n",
      "\n"
     ]
    },
    {
     "name": "stderr",
     "output_type": "stream",
     "text": [
      "/home/applebaum/anaconda3/envs/ufds/lib/python3.8/site-packages/IPython/core/interactiveshell.py:3437: DtypeWarning: Columns (22) have mixed types.Specify dtype option on import or set low_memory=False.\n",
      "  exec(code_obj, self.user_global_ns, self.user_ns)\n"
     ]
    },
    {
     "name": "stdout",
     "output_type": "stream",
     "text": [
      "/data/REPOSITORY/e12Gals/h148.cosmo50PLK.6144g3HbwK1BH///h148.cosmo50PLK.6144g3HbwK1BH.001106/h148.cosmo50PLK.6144g3HbwK1BH.001106 \n",
      "\n"
     ]
    },
    {
     "name": "stderr",
     "output_type": "stream",
     "text": [
      "/home/applebaum/anaconda3/envs/ufds/lib/python3.8/site-packages/IPython/core/interactiveshell.py:3437: DtypeWarning: Columns (22) have mixed types.Specify dtype option on import or set low_memory=False.\n",
      "  exec(code_obj, self.user_global_ns, self.user_ns)\n"
     ]
    },
    {
     "name": "stdout",
     "output_type": "stream",
     "text": [
      "/data/REPOSITORY/e12Gals/h148.cosmo50PLK.6144g3HbwK1BH///h148.cosmo50PLK.6144g3HbwK1BH.001024/h148.cosmo50PLK.6144g3HbwK1BH.001024 \n",
      "\n"
     ]
    },
    {
     "name": "stderr",
     "output_type": "stream",
     "text": [
      "/home/applebaum/anaconda3/envs/ufds/lib/python3.8/site-packages/IPython/core/interactiveshell.py:3437: DtypeWarning: Columns (22) have mixed types.Specify dtype option on import or set low_memory=False.\n",
      "  exec(code_obj, self.user_global_ns, self.user_ns)\n"
     ]
    },
    {
     "name": "stdout",
     "output_type": "stream",
     "text": [
      "/data/REPOSITORY/e12Gals/h148.cosmo50PLK.6144g3HbwK1BH///h148.cosmo50PLK.6144g3HbwK1BH.000777/h148.cosmo50PLK.6144g3HbwK1BH.000777 \n",
      "\n"
     ]
    },
    {
     "name": "stderr",
     "output_type": "stream",
     "text": [
      "/home/applebaum/anaconda3/envs/ufds/lib/python3.8/site-packages/IPython/core/interactiveshell.py:3437: DtypeWarning: Columns (22) have mixed types.Specify dtype option on import or set low_memory=False.\n",
      "  exec(code_obj, self.user_global_ns, self.user_ns)\n"
     ]
    },
    {
     "name": "stdout",
     "output_type": "stream",
     "text": [
      "/data/REPOSITORY/e12Gals/h148.cosmo50PLK.6144g3HbwK1BH///h148.cosmo50PLK.6144g3HbwK1BH.000640/h148.cosmo50PLK.6144g3HbwK1BH.000640 \n",
      "\n"
     ]
    },
    {
     "name": "stderr",
     "output_type": "stream",
     "text": [
      "/home/applebaum/anaconda3/envs/ufds/lib/python3.8/site-packages/IPython/core/interactiveshell.py:3437: DtypeWarning: Columns (22) have mixed types.Specify dtype option on import or set low_memory=False.\n",
      "  exec(code_obj, self.user_global_ns, self.user_ns)\n"
     ]
    },
    {
     "name": "stdout",
     "output_type": "stream",
     "text": [
      "/data/REPOSITORY/e12Gals/h148.cosmo50PLK.6144g3HbwK1BH///h148.cosmo50PLK.6144g3HbwK1BH.000637/h148.cosmo50PLK.6144g3HbwK1BH.000637 \n",
      "\n"
     ]
    },
    {
     "name": "stderr",
     "output_type": "stream",
     "text": [
      "/home/applebaum/anaconda3/envs/ufds/lib/python3.8/site-packages/IPython/core/interactiveshell.py:3437: DtypeWarning: Columns (22) have mixed types.Specify dtype option on import or set low_memory=False.\n",
      "  exec(code_obj, self.user_global_ns, self.user_ns)\n"
     ]
    },
    {
     "name": "stdout",
     "output_type": "stream",
     "text": [
      "/data/REPOSITORY/e12Gals/h148.cosmo50PLK.6144g3HbwK1BH///h148.cosmo50PLK.6144g3HbwK1BH.000512/h148.cosmo50PLK.6144g3HbwK1BH.000512 \n",
      "\n",
      "/data/REPOSITORY/e12Gals/h148.cosmo50PLK.6144g3HbwK1BH///h148.cosmo50PLK.6144g3HbwK1BH.000457/h148.cosmo50PLK.6144g3HbwK1BH.000457 \n",
      "\n",
      "/data/REPOSITORY/e12Gals/h148.cosmo50PLK.6144g3HbwK1BH///h148.cosmo50PLK.6144g3HbwK1BH.000384/h148.cosmo50PLK.6144g3HbwK1BH.000384 \n",
      "\n",
      "/data/REPOSITORY/e12Gals/h148.cosmo50PLK.6144g3HbwK1BH///h148.cosmo50PLK.6144g3HbwK1BH.000347/h148.cosmo50PLK.6144g3HbwK1BH.000347 \n",
      "\n",
      "/data/REPOSITORY/e12Gals/h148.cosmo50PLK.6144g3HbwK1BH///h148.cosmo50PLK.6144g3HbwK1BH.000275/h148.cosmo50PLK.6144g3HbwK1BH.000275 \n",
      "\n",
      "/data/REPOSITORY/e12Gals/h148.cosmo50PLK.6144g3HbwK1BH///h148.cosmo50PLK.6144g3HbwK1BH.000256/h148.cosmo50PLK.6144g3HbwK1BH.000256 \n",
      "\n",
      "/data/REPOSITORY/e12Gals/h148.cosmo50PLK.6144g3HbwK1BH///h148.cosmo50PLK.6144g3HbwK1BH.000225/h148.cosmo50PLK.6144g3HbwK1BH.000225 \n",
      "\n",
      "/data/REPOSITORY/e12Gals/h148.cosmo50PLK.6144g3HbwK1BH///h148.cosmo50PLK.6144g3HbwK1BH.000188/h148.cosmo50PLK.6144g3HbwK1BH.000188 \n",
      "\n",
      "/data/REPOSITORY/e12Gals/h148.cosmo50PLK.6144g3HbwK1BH///h148.cosmo50PLK.6144g3HbwK1BH.000139/h148.cosmo50PLK.6144g3HbwK1BH.000139 \n",
      "\n",
      "/data/REPOSITORY/e12Gals/h148.cosmo50PLK.6144g3HbwK1BH///h148.cosmo50PLK.6144g3HbwK1BH.000128/h148.cosmo50PLK.6144g3HbwK1BH.000128 \n",
      "\n"
     ]
    }
   ],
   "source": [
    "mvir_trace, rvir_trace, distance = ht.tracing.trace_quantity(sim_base, trace_df=trace, \n",
    "                                       quantity=['Mvir(M_sol)', 'Rvir(kpc)', 'Nearest'])"
   ]
  },
  {
   "cell_type": "markdown",
   "metadata": {},
   "source": [
    "Again, if you don't know pandas, this might take a bit to get used to. The maximum halo mass reached by every halo throughout its history (at least, its successfully traced history) can be found in one step:"
   ]
  },
  {
   "cell_type": "code",
   "execution_count": 10,
   "metadata": {},
   "outputs": [
    {
     "data": {
      "text/plain": [
       "Grp\n",
       "1        2.402080e+12\n",
       "2        1.327024e+11\n",
       "3        6.989641e+10\n",
       "4        3.851439e+10\n",
       "5        4.217958e+10\n",
       "             ...     \n",
       "15289    2.986070e+06\n",
       "15291    1.913236e+06\n",
       "15292    2.574561e+06\n",
       "15293    2.824864e+06\n",
       "15294    3.182441e+06\n",
       "Length: 11356, dtype: float64"
      ]
     },
     "execution_count": 10,
     "metadata": {},
     "output_type": "execute_result"
    }
   ],
   "source": [
    "mvir_trace.max(axis=1)"
   ]
  },
  {
   "cell_type": "code",
   "execution_count": 11,
   "metadata": {},
   "outputs": [
    {
     "data": {
      "text/plain": [
       "Grp\n",
       "1        004096\n",
       "2        003360\n",
       "3        002555\n",
       "4        002592\n",
       "5        002880\n",
       "          ...  \n",
       "15289    002400\n",
       "15291    003072\n",
       "15292    001024\n",
       "15293    001920\n",
       "15294    001664\n",
       "Length: 11356, dtype: object"
      ]
     },
     "execution_count": 11,
     "metadata": {},
     "output_type": "execute_result"
    }
   ],
   "source": [
    "mvir_trace.idxmax(axis=1)"
   ]
  },
  {
   "cell_type": "markdown",
   "metadata": {},
   "source": [
    "Or, the mass at z=6 (step 275 in this simulation):"
   ]
  },
  {
   "cell_type": "code",
   "execution_count": 12,
   "metadata": {},
   "outputs": [
    {
     "data": {
      "text/plain": [
       "Grp\n",
       "1        2.863878e+08\n",
       "2        2.216010e+09\n",
       "3        3.669721e+09\n",
       "4        7.197241e+09\n",
       "5        1.117208e+09\n",
       "             ...     \n",
       "15289             NaN\n",
       "15291             NaN\n",
       "15292             NaN\n",
       "15293             NaN\n",
       "15294             NaN\n",
       "Name: 000275, Length: 11356, dtype: float64"
      ]
     },
     "execution_count": 12,
     "metadata": {},
     "output_type": "execute_result"
    }
   ],
   "source": [
    "mvir_trace['000275']"
   ]
  },
  {
   "cell_type": "markdown",
   "metadata": {},
   "source": [
    "## Troubleshooting\n",
    "\n",
    "If you're encountering errors related to the AHF or amiga files, it's possible there are multiple versions of the AHF catalogs laying around in the directory. Make sure there is one set of AHF files, and that the amiga files correspond to that run of AHF."
   ]
  }
 ],
 "metadata": {
  "kernelspec": {
   "display_name": "Python 3 (ipykernel)",
   "language": "python",
   "name": "python3"
  },
  "toc": {
   "base_numbering": 1,
   "nav_menu": {},
   "number_sections": true,
   "sideBar": true,
   "skip_h1_title": false,
   "title_cell": "Table of Contents",
   "title_sidebar": "Contents",
   "toc_cell": false,
   "toc_position": {},
   "toc_section_display": true,
   "toc_window_display": false
  }
 },
 "nbformat": 4,
 "nbformat_minor": 2
}
