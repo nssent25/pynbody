{
 "cells": [
  {
   "cell_type": "markdown",
   "metadata": {},
   "source": [
    "# Example usage of halo_trace \n",
    "\n",
    "First, to import the relevant packages"
   ]
  },
  {
   "cell_type": "code",
   "execution_count": 1,
   "metadata": {},
   "outputs": [],
   "source": [
    "import numpy as np\n",
    "import matplotlib.pyplot as plt\n",
    "import halo_trace as ht\n",
    "import os\n",
    "import pandas as pd\n",
    "\n",
    "%matplotlib inline"
   ]
  },
  {
   "cell_type": "markdown",
   "metadata": {},
   "source": [
    "A bit about the tracing code:\n",
    "\n",
    "The tracing code is fairly slow, but should be robust. By default it will cross check steps, meaning it calculates the main progenitor both 1 and 2 steps apart, to make sure they match. If it loses a main progenitor, it can also pick it up again in some cases. Because this process is so slow, usually what you want to do is run it once and save the output, then read in the output for all subsequent uses. Main progenitors are identified by maximizing a merit function (as in AHF's merger tree code), where the merit function of halo\n",
    "\n",
    "\\begin{equation}\n",
    "\\max_j\\left(M_{ij} = \\frac{N_{i \\cap j}}{N_i N_j}\\right),\n",
    "\\end{equation}\n",
    "\n",
    "where $N_i$ and $N_j$ are the number of particles in halos in steps $i$ and $j$, N$_{i \\cap j}$ is the number of shared particles. The merit function is maximized in both directions (step 1 to 2 and step 2 to 1), and a match is recorded only if the identified halos match."
   ]
  },
  {
   "cell_type": "markdown",
   "metadata": {},
   "source": [
    "Anyway...\n",
    "\n",
    "The code traces halos and returns a pandas dataframe identifying the main progenitor at each step.\n",
    "\n",
    "The only mandatory argument in the trace is `sim_base`, which is the path to the directory holding all your simulation time steps. You can specify a file name for the saved trace using `save_file`. You can trace specific halos by spcifying `grplist` (e.g., `grplist=[1, 3, 6]` will trace halos 1, 3, and 6 back), or you can trace all halos above some particle threshold. For all arguments, you can run `ht.tracing.trace_halos?`. So, if want to trace all halos with more than 1000 particles at z=0, no earlier than step 400, then this would run the trace (replacing `sim_base` with your own path):"
   ]
  },
  {
   "cell_type": "code",
   "execution_count": 2,
   "metadata": {
    "scrolled": true
   },
   "outputs": [
    {
     "name": "stdout",
     "output_type": "stream",
     "text": [
      "h148.cosmo50PLK.6144g3HbwK1BH.000768 does not exist or has incorrect permissions\n",
      "File exists: /data/REPOSITORY/e12Gals/h148.cosmo50PLK.6144g3HbwK1BH///h148.cosmo50PLK.6144g3HbwK1BH.004096/h148.cosmo50PLK.6144g3HbwK1BH.004096.trace_back.hdf5\n",
      "Aborting\n"
     ]
    }
   ],
   "source": [
    "sim_base = '/data/REPOSITORY/e12Gals/h148.cosmo50PLK.6144g3HbwK1BH/'\n",
    "trace = ht.tracing.trace_halos(sim_base=sim_base, maxstep=400, min_ntot=500)"
   ]
  },
  {
   "cell_type": "markdown",
   "metadata": {},
   "source": [
    "By default, it will save your trace. In my case I've already run this trace, so it will decline to overwrite it. In your case, you'll see information printed to screen as the trace goes on. Since I've already created the trace, I'll go ahead and load it now:"
   ]
  },
  {
   "cell_type": "code",
   "execution_count": 3,
   "metadata": {},
   "outputs": [],
   "source": [
    "trace = pd.read_hdf(sim_base + \n",
    "                    'h148.cosmo50PLK.6144g3HbwK1BH.004096/h148.cosmo50PLK.6144g3HbwK1BH.004096.trace_back.hdf5')"
   ]
  },
  {
   "cell_type": "markdown",
   "metadata": {},
   "source": [
    "The index is the present day halo ID. Each column represents the main progenitor of a halo at that timestep:"
   ]
  },
  {
   "cell_type": "code",
   "execution_count": 4,
   "metadata": {},
   "outputs": [
    {
     "data": {
      "text/html": [
       "<div>\n",
       "<style scoped>\n",
       "    .dataframe tbody tr th:only-of-type {\n",
       "        vertical-align: middle;\n",
       "    }\n",
       "\n",
       "    .dataframe tbody tr th {\n",
       "        vertical-align: top;\n",
       "    }\n",
       "\n",
       "    .dataframe thead th {\n",
       "        text-align: right;\n",
       "    }\n",
       "</style>\n",
       "<table border=\"1\" class=\"dataframe\">\n",
       "  <thead>\n",
       "    <tr style=\"text-align: right;\">\n",
       "      <th></th>\n",
       "      <th>004032</th>\n",
       "      <th>003936</th>\n",
       "      <th>003840</th>\n",
       "      <th>003810</th>\n",
       "      <th>003760</th>\n",
       "      <th>003744</th>\n",
       "      <th>003671</th>\n",
       "      <th>003648</th>\n",
       "      <th>003606</th>\n",
       "      <th>003552</th>\n",
       "      <th>...</th>\n",
       "      <th>000512</th>\n",
       "      <th>000457</th>\n",
       "      <th>000384</th>\n",
       "      <th>000347</th>\n",
       "      <th>000275</th>\n",
       "      <th>000256</th>\n",
       "      <th>000225</th>\n",
       "      <th>000188</th>\n",
       "      <th>000139</th>\n",
       "      <th>000128</th>\n",
       "    </tr>\n",
       "    <tr>\n",
       "      <th>004096</th>\n",
       "      <th></th>\n",
       "      <th></th>\n",
       "      <th></th>\n",
       "      <th></th>\n",
       "      <th></th>\n",
       "      <th></th>\n",
       "      <th></th>\n",
       "      <th></th>\n",
       "      <th></th>\n",
       "      <th></th>\n",
       "      <th></th>\n",
       "      <th></th>\n",
       "      <th></th>\n",
       "      <th></th>\n",
       "      <th></th>\n",
       "      <th></th>\n",
       "      <th></th>\n",
       "      <th></th>\n",
       "      <th></th>\n",
       "      <th></th>\n",
       "      <th></th>\n",
       "    </tr>\n",
       "  </thead>\n",
       "  <tbody>\n",
       "    <tr>\n",
       "      <th>1</th>\n",
       "      <td>1.0</td>\n",
       "      <td>1.0</td>\n",
       "      <td>1.0</td>\n",
       "      <td>1.0</td>\n",
       "      <td>1.0</td>\n",
       "      <td>1.0</td>\n",
       "      <td>1.0</td>\n",
       "      <td>1.0</td>\n",
       "      <td>1.0</td>\n",
       "      <td>1.0</td>\n",
       "      <td>...</td>\n",
       "      <td>1.0</td>\n",
       "      <td>1.0</td>\n",
       "      <td>1.0</td>\n",
       "      <td>85.0</td>\n",
       "      <td>179.0</td>\n",
       "      <td>183.0</td>\n",
       "      <td>159.0</td>\n",
       "      <td>140.0</td>\n",
       "      <td>176.0</td>\n",
       "      <td>186</td>\n",
       "    </tr>\n",
       "    <tr>\n",
       "      <th>2</th>\n",
       "      <td>2.0</td>\n",
       "      <td>2.0</td>\n",
       "      <td>2.0</td>\n",
       "      <td>2.0</td>\n",
       "      <td>2.0</td>\n",
       "      <td>2.0</td>\n",
       "      <td>2.0</td>\n",
       "      <td>2.0</td>\n",
       "      <td>2.0</td>\n",
       "      <td>2.0</td>\n",
       "      <td>...</td>\n",
       "      <td>5.0</td>\n",
       "      <td>5.0</td>\n",
       "      <td>11.0</td>\n",
       "      <td>23.0</td>\n",
       "      <td>28.0</td>\n",
       "      <td>25.0</td>\n",
       "      <td>19.0</td>\n",
       "      <td>19.0</td>\n",
       "      <td>20.0</td>\n",
       "      <td>30</td>\n",
       "    </tr>\n",
       "    <tr>\n",
       "      <th>3</th>\n",
       "      <td>3.0</td>\n",
       "      <td>3.0</td>\n",
       "      <td>3.0</td>\n",
       "      <td>3.0</td>\n",
       "      <td>3.0</td>\n",
       "      <td>3.0</td>\n",
       "      <td>3.0</td>\n",
       "      <td>3.0</td>\n",
       "      <td>3.0</td>\n",
       "      <td>3.0</td>\n",
       "      <td>...</td>\n",
       "      <td>12.0</td>\n",
       "      <td>12.0</td>\n",
       "      <td>12.0</td>\n",
       "      <td>14.0</td>\n",
       "      <td>14.0</td>\n",
       "      <td>12.0</td>\n",
       "      <td>9.0</td>\n",
       "      <td>5.0</td>\n",
       "      <td>2.0</td>\n",
       "      <td>1</td>\n",
       "    </tr>\n",
       "    <tr>\n",
       "      <th>4</th>\n",
       "      <td>4.0</td>\n",
       "      <td>4.0</td>\n",
       "      <td>4.0</td>\n",
       "      <td>4.0</td>\n",
       "      <td>4.0</td>\n",
       "      <td>4.0</td>\n",
       "      <td>4.0</td>\n",
       "      <td>4.0</td>\n",
       "      <td>4.0</td>\n",
       "      <td>4.0</td>\n",
       "      <td>...</td>\n",
       "      <td>8.0</td>\n",
       "      <td>7.0</td>\n",
       "      <td>6.0</td>\n",
       "      <td>5.0</td>\n",
       "      <td>3.0</td>\n",
       "      <td>3.0</td>\n",
       "      <td>4.0</td>\n",
       "      <td>4.0</td>\n",
       "      <td>3.0</td>\n",
       "      <td>9</td>\n",
       "    </tr>\n",
       "    <tr>\n",
       "      <th>5</th>\n",
       "      <td>5.0</td>\n",
       "      <td>5.0</td>\n",
       "      <td>5.0</td>\n",
       "      <td>5.0</td>\n",
       "      <td>5.0</td>\n",
       "      <td>5.0</td>\n",
       "      <td>5.0</td>\n",
       "      <td>5.0</td>\n",
       "      <td>5.0</td>\n",
       "      <td>5.0</td>\n",
       "      <td>...</td>\n",
       "      <td>14.0</td>\n",
       "      <td>18.0</td>\n",
       "      <td>15.0</td>\n",
       "      <td>13.0</td>\n",
       "      <td>52.0</td>\n",
       "      <td>55.0</td>\n",
       "      <td>50.0</td>\n",
       "      <td>44.0</td>\n",
       "      <td>39.0</td>\n",
       "      <td>41</td>\n",
       "    </tr>\n",
       "  </tbody>\n",
       "</table>\n",
       "<p>5 rows × 53 columns</p>\n",
       "</div>"
      ],
      "text/plain": [
       "        004032  003936  003840  003810  003760  003744  003671  003648  \\\n",
       "004096                                                                   \n",
       "1          1.0     1.0     1.0     1.0     1.0     1.0     1.0     1.0   \n",
       "2          2.0     2.0     2.0     2.0     2.0     2.0     2.0     2.0   \n",
       "3          3.0     3.0     3.0     3.0     3.0     3.0     3.0     3.0   \n",
       "4          4.0     4.0     4.0     4.0     4.0     4.0     4.0     4.0   \n",
       "5          5.0     5.0     5.0     5.0     5.0     5.0     5.0     5.0   \n",
       "\n",
       "        003606  003552  ...  000512  000457  000384  000347  000275  000256  \\\n",
       "004096                  ...                                                   \n",
       "1          1.0     1.0  ...     1.0     1.0     1.0    85.0   179.0   183.0   \n",
       "2          2.0     2.0  ...     5.0     5.0    11.0    23.0    28.0    25.0   \n",
       "3          3.0     3.0  ...    12.0    12.0    12.0    14.0    14.0    12.0   \n",
       "4          4.0     4.0  ...     8.0     7.0     6.0     5.0     3.0     3.0   \n",
       "5          5.0     5.0  ...    14.0    18.0    15.0    13.0    52.0    55.0   \n",
       "\n",
       "        000225  000188  000139  000128  \n",
       "004096                                  \n",
       "1        159.0   140.0   176.0     186  \n",
       "2         19.0    19.0    20.0      30  \n",
       "3          9.0     5.0     2.0       1  \n",
       "4          4.0     4.0     3.0       9  \n",
       "5         50.0    44.0    39.0      41  \n",
       "\n",
       "[5 rows x 53 columns]"
      ]
     },
     "execution_count": 4,
     "metadata": {},
     "output_type": "execute_result"
    }
   ],
   "source": [
    "trace.head()"
   ]
  },
  {
   "cell_type": "markdown",
   "metadata": {},
   "source": [
    "If you don't know how to use pandas, this might take a bit to get used to. To see the main progenitor IDs of halo 7, for example, you do this:"
   ]
  },
  {
   "cell_type": "code",
   "execution_count": 5,
   "metadata": {},
   "outputs": [
    {
     "data": {
      "text/plain": [
       "004032     7.0\n",
       "003936     7.0\n",
       "003840     7.0\n",
       "003810     7.0\n",
       "003760     7.0\n",
       "003744     7.0\n",
       "003671     7.0\n",
       "003648     7.0\n",
       "003606     7.0\n",
       "003552     7.0\n",
       "003456     8.0\n",
       "003360     8.0\n",
       "003264     9.0\n",
       "003195     9.0\n",
       "003168     9.0\n",
       "003072     8.0\n",
       "002976     9.0\n",
       "002880     9.0\n",
       "002784     9.0\n",
       "002688     9.0\n",
       "002592     9.0\n",
       "002555     9.0\n",
       "002496     9.0\n",
       "002400     9.0\n",
       "002304     9.0\n",
       "002208     9.0\n",
       "002112     9.0\n",
       "002088     9.0\n",
       "002048     9.0\n",
       "001920     9.0\n",
       "001740     9.0\n",
       "001664     9.0\n",
       "001536    11.0\n",
       "001476    10.0\n",
       "001408    11.0\n",
       "001280    15.0\n",
       "001270    16.0\n",
       "001152    17.0\n",
       "001106    18.0\n",
       "001024    20.0\n",
       "000777    28.0\n",
       "000640    35.0\n",
       "000637    36.0\n",
       "000512    28.0\n",
       "000457    31.0\n",
       "000384    34.0\n",
       "000347    35.0\n",
       "000275    27.0\n",
       "000256    24.0\n",
       "000225    18.0\n",
       "000188    14.0\n",
       "000139    11.0\n",
       "000128      13\n",
       "Name: 7, dtype: object"
      ]
     },
     "execution_count": 5,
     "metadata": {},
     "output_type": "execute_result"
    }
   ],
   "source": [
    "trace.loc[7]"
   ]
  },
  {
   "cell_type": "markdown",
   "metadata": {},
   "source": [
    "To see the main progenitor ID just at step 000188, for example, you would do this:"
   ]
  },
  {
   "cell_type": "code",
   "execution_count": 6,
   "metadata": {},
   "outputs": [
    {
     "data": {
      "text/plain": [
       "14.0"
      ]
     },
     "execution_count": 6,
     "metadata": {},
     "output_type": "execute_result"
    }
   ],
   "source": [
    "trace.loc[7, '000188']"
   ]
  },
  {
   "cell_type": "markdown",
   "metadata": {},
   "source": [
    "or for several steps:"
   ]
  },
  {
   "cell_type": "code",
   "execution_count": 7,
   "metadata": {},
   "outputs": [
    {
     "data": {
      "text/plain": [
       "000139    11.0\n",
       "000188    14.0\n",
       "Name: 7, dtype: object"
      ]
     },
     "execution_count": 7,
     "metadata": {},
     "output_type": "execute_result"
    }
   ],
   "source": [
    "trace.loc[7, ['000139', '000188']]"
   ]
  },
  {
   "cell_type": "markdown",
   "metadata": {},
   "source": [
    "The -1s (and, in some cases, NaNs) represent steps where the main progenitor could not be idenified. Most larger halos are traced back pretty far. here is an example of a halo that wasn't:"
   ]
  },
  {
   "cell_type": "code",
   "execution_count": 8,
   "metadata": {},
   "outputs": [
    {
     "data": {
      "text/plain": [
       "004032    4843.0\n",
       "003936    4894.0\n",
       "003840    4945.0\n",
       "003810    4915.0\n",
       "003760    5101.0\n",
       "003744    4900.0\n",
       "003671    4871.0\n",
       "003648    4869.0\n",
       "003606    4843.0\n",
       "003552    4804.0\n",
       "003456    4652.0\n",
       "003360    4525.0\n",
       "003264    4403.0\n",
       "003195    3537.0\n",
       "003168    3448.0\n",
       "003072    3368.0\n",
       "002976    3388.0\n",
       "002880    3408.0\n",
       "002784    3436.0\n",
       "002688    3501.0\n",
       "002592    3544.0\n",
       "002555    3539.0\n",
       "002496    3518.0\n",
       "002400    3416.0\n",
       "002304    3372.0\n",
       "002208    3342.0\n",
       "002112    3198.0\n",
       "002088    3142.0\n",
       "002048    2818.0\n",
       "001920    2499.0\n",
       "001740    2511.0\n",
       "001664    2662.0\n",
       "001536    2518.0\n",
       "001476    2513.0\n",
       "001408    2533.0\n",
       "001280    2686.0\n",
       "001270    2675.0\n",
       "001152    2703.0\n",
       "001106    2749.0\n",
       "001024    2809.0\n",
       "000777    3444.0\n",
       "000640    3829.0\n",
       "000637    3888.0\n",
       "000512    3905.0\n",
       "000457    4209.0\n",
       "000384    4980.0\n",
       "000347    6181.0\n",
       "000275    7550.0\n",
       "000256    7360.0\n",
       "000225    7616.0\n",
       "000188    9724.0\n",
       "000139      -1.0\n",
       "000128        -1\n",
       "Name: 4890, dtype: object"
      ]
     },
     "execution_count": 8,
     "metadata": {},
     "output_type": "execute_result"
    }
   ],
   "source": [
    "trace.loc[4890]"
   ]
  },
  {
   "cell_type": "markdown",
   "metadata": {},
   "source": [
    "Using the identified halos from the trace, you can read in any value in the amiga.stat or AHF_halos files and put it in a DataFrame of its own. Every time you read in an amiga.stat file you'll get some output information; this mainly has to do with connecting AHF files to amiga files, and you should be able to ignore it."
   ]
  },
  {
   "cell_type": "code",
   "execution_count": 9,
   "metadata": {
    "scrolled": true
   },
   "outputs": [
    {
     "name": "stdout",
     "output_type": "stream",
     "text": [
      "/data/REPOSITORY/e12Gals/h148.cosmo50PLK.6144g3HbwK1BH///h148.cosmo50PLK.6144g3HbwK1BH.004096/h148.cosmo50PLK.6144g3HbwK1BH.004096 \n",
      "\n",
      "/data/REPOSITORY/e12Gals/h148.cosmo50PLK.6144g3HbwK1BH///h148.cosmo50PLK.6144g3HbwK1BH.004032/h148.cosmo50PLK.6144g3HbwK1BH.004032 \n",
      "\n",
      "/data/REPOSITORY/e12Gals/h148.cosmo50PLK.6144g3HbwK1BH///h148.cosmo50PLK.6144g3HbwK1BH.003936/h148.cosmo50PLK.6144g3HbwK1BH.003936 \n",
      "\n",
      "/data/REPOSITORY/e12Gals/h148.cosmo50PLK.6144g3HbwK1BH///h148.cosmo50PLK.6144g3HbwK1BH.003840/h148.cosmo50PLK.6144g3HbwK1BH.003840 \n",
      "\n",
      "/data/REPOSITORY/e12Gals/h148.cosmo50PLK.6144g3HbwK1BH///h148.cosmo50PLK.6144g3HbwK1BH.003810/h148.cosmo50PLK.6144g3HbwK1BH.003810 \n",
      "\n",
      "/data/REPOSITORY/e12Gals/h148.cosmo50PLK.6144g3HbwK1BH///h148.cosmo50PLK.6144g3HbwK1BH.003760/h148.cosmo50PLK.6144g3HbwK1BH.003760 \n",
      "\n",
      "/data/REPOSITORY/e12Gals/h148.cosmo50PLK.6144g3HbwK1BH///h148.cosmo50PLK.6144g3HbwK1BH.003744/h148.cosmo50PLK.6144g3HbwK1BH.003744 \n",
      "\n",
      "/data/REPOSITORY/e12Gals/h148.cosmo50PLK.6144g3HbwK1BH///h148.cosmo50PLK.6144g3HbwK1BH.003671/h148.cosmo50PLK.6144g3HbwK1BH.003671 \n",
      "\n",
      "/data/REPOSITORY/e12Gals/h148.cosmo50PLK.6144g3HbwK1BH///h148.cosmo50PLK.6144g3HbwK1BH.003648/h148.cosmo50PLK.6144g3HbwK1BH.003648 \n",
      "\n",
      "/data/REPOSITORY/e12Gals/h148.cosmo50PLK.6144g3HbwK1BH///h148.cosmo50PLK.6144g3HbwK1BH.003606/h148.cosmo50PLK.6144g3HbwK1BH.003606 \n",
      "\n",
      "/data/REPOSITORY/e12Gals/h148.cosmo50PLK.6144g3HbwK1BH///h148.cosmo50PLK.6144g3HbwK1BH.003552/h148.cosmo50PLK.6144g3HbwK1BH.003552 \n",
      "\n",
      "/data/REPOSITORY/e12Gals/h148.cosmo50PLK.6144g3HbwK1BH///h148.cosmo50PLK.6144g3HbwK1BH.003456/h148.cosmo50PLK.6144g3HbwK1BH.003456 \n",
      "\n",
      "/data/REPOSITORY/e12Gals/h148.cosmo50PLK.6144g3HbwK1BH///h148.cosmo50PLK.6144g3HbwK1BH.003360/h148.cosmo50PLK.6144g3HbwK1BH.003360 \n",
      "\n",
      "/data/REPOSITORY/e12Gals/h148.cosmo50PLK.6144g3HbwK1BH///h148.cosmo50PLK.6144g3HbwK1BH.003264/h148.cosmo50PLK.6144g3HbwK1BH.003264 \n",
      "\n",
      "/data/REPOSITORY/e12Gals/h148.cosmo50PLK.6144g3HbwK1BH///h148.cosmo50PLK.6144g3HbwK1BH.003195/h148.cosmo50PLK.6144g3HbwK1BH.003195 \n",
      "\n",
      "/data/REPOSITORY/e12Gals/h148.cosmo50PLK.6144g3HbwK1BH///h148.cosmo50PLK.6144g3HbwK1BH.003168/h148.cosmo50PLK.6144g3HbwK1BH.003168 \n",
      "\n",
      "/data/REPOSITORY/e12Gals/h148.cosmo50PLK.6144g3HbwK1BH///h148.cosmo50PLK.6144g3HbwK1BH.003072/h148.cosmo50PLK.6144g3HbwK1BH.003072 \n",
      "\n",
      "/data/REPOSITORY/e12Gals/h148.cosmo50PLK.6144g3HbwK1BH///h148.cosmo50PLK.6144g3HbwK1BH.002976/h148.cosmo50PLK.6144g3HbwK1BH.002976 \n",
      "\n",
      "/data/REPOSITORY/e12Gals/h148.cosmo50PLK.6144g3HbwK1BH///h148.cosmo50PLK.6144g3HbwK1BH.002880/h148.cosmo50PLK.6144g3HbwK1BH.002880 \n",
      "\n",
      "/data/REPOSITORY/e12Gals/h148.cosmo50PLK.6144g3HbwK1BH///h148.cosmo50PLK.6144g3HbwK1BH.002784/h148.cosmo50PLK.6144g3HbwK1BH.002784 \n",
      "\n",
      "/data/REPOSITORY/e12Gals/h148.cosmo50PLK.6144g3HbwK1BH///h148.cosmo50PLK.6144g3HbwK1BH.002688/h148.cosmo50PLK.6144g3HbwK1BH.002688 \n",
      "\n",
      "/data/REPOSITORY/e12Gals/h148.cosmo50PLK.6144g3HbwK1BH///h148.cosmo50PLK.6144g3HbwK1BH.002592/h148.cosmo50PLK.6144g3HbwK1BH.002592 \n",
      "\n",
      "/data/REPOSITORY/e12Gals/h148.cosmo50PLK.6144g3HbwK1BH///h148.cosmo50PLK.6144g3HbwK1BH.002555/h148.cosmo50PLK.6144g3HbwK1BH.002555 \n",
      "\n",
      "/data/REPOSITORY/e12Gals/h148.cosmo50PLK.6144g3HbwK1BH///h148.cosmo50PLK.6144g3HbwK1BH.002496/h148.cosmo50PLK.6144g3HbwK1BH.002496 \n",
      "\n",
      "/data/REPOSITORY/e12Gals/h148.cosmo50PLK.6144g3HbwK1BH///h148.cosmo50PLK.6144g3HbwK1BH.002400/h148.cosmo50PLK.6144g3HbwK1BH.002400 \n",
      "\n",
      "/data/REPOSITORY/e12Gals/h148.cosmo50PLK.6144g3HbwK1BH///h148.cosmo50PLK.6144g3HbwK1BH.002304/h148.cosmo50PLK.6144g3HbwK1BH.002304 \n",
      "\n",
      "/data/REPOSITORY/e12Gals/h148.cosmo50PLK.6144g3HbwK1BH///h148.cosmo50PLK.6144g3HbwK1BH.002208/h148.cosmo50PLK.6144g3HbwK1BH.002208 \n",
      "\n",
      "/data/REPOSITORY/e12Gals/h148.cosmo50PLK.6144g3HbwK1BH///h148.cosmo50PLK.6144g3HbwK1BH.002112/h148.cosmo50PLK.6144g3HbwK1BH.002112 \n",
      "\n",
      "/data/REPOSITORY/e12Gals/h148.cosmo50PLK.6144g3HbwK1BH///h148.cosmo50PLK.6144g3HbwK1BH.002088/h148.cosmo50PLK.6144g3HbwK1BH.002088 \n",
      "\n",
      "/data/REPOSITORY/e12Gals/h148.cosmo50PLK.6144g3HbwK1BH///h148.cosmo50PLK.6144g3HbwK1BH.002048/h148.cosmo50PLK.6144g3HbwK1BH.002048 \n",
      "\n",
      "/data/REPOSITORY/e12Gals/h148.cosmo50PLK.6144g3HbwK1BH///h148.cosmo50PLK.6144g3HbwK1BH.001920/h148.cosmo50PLK.6144g3HbwK1BH.001920 \n",
      "\n",
      "/data/REPOSITORY/e12Gals/h148.cosmo50PLK.6144g3HbwK1BH///h148.cosmo50PLK.6144g3HbwK1BH.001740/h148.cosmo50PLK.6144g3HbwK1BH.001740 \n",
      "\n",
      "/data/REPOSITORY/e12Gals/h148.cosmo50PLK.6144g3HbwK1BH///h148.cosmo50PLK.6144g3HbwK1BH.001664/h148.cosmo50PLK.6144g3HbwK1BH.001664 \n",
      "\n",
      "/data/REPOSITORY/e12Gals/h148.cosmo50PLK.6144g3HbwK1BH///h148.cosmo50PLK.6144g3HbwK1BH.001536/h148.cosmo50PLK.6144g3HbwK1BH.001536 \n",
      "\n",
      "/data/REPOSITORY/e12Gals/h148.cosmo50PLK.6144g3HbwK1BH///h148.cosmo50PLK.6144g3HbwK1BH.001476/h148.cosmo50PLK.6144g3HbwK1BH.001476 \n",
      "\n",
      "/data/REPOSITORY/e12Gals/h148.cosmo50PLK.6144g3HbwK1BH///h148.cosmo50PLK.6144g3HbwK1BH.001408/h148.cosmo50PLK.6144g3HbwK1BH.001408 \n",
      "\n",
      "/data/REPOSITORY/e12Gals/h148.cosmo50PLK.6144g3HbwK1BH///h148.cosmo50PLK.6144g3HbwK1BH.001280/h148.cosmo50PLK.6144g3HbwK1BH.001280 \n",
      "\n",
      "/data/REPOSITORY/e12Gals/h148.cosmo50PLK.6144g3HbwK1BH///h148.cosmo50PLK.6144g3HbwK1BH.001270/h148.cosmo50PLK.6144g3HbwK1BH.001270 \n",
      "\n",
      "/data/REPOSITORY/e12Gals/h148.cosmo50PLK.6144g3HbwK1BH///h148.cosmo50PLK.6144g3HbwK1BH.001152/h148.cosmo50PLK.6144g3HbwK1BH.001152 \n",
      "\n"
     ]
    },
    {
     "name": "stderr",
     "output_type": "stream",
     "text": [
      "/home/applebaum/anaconda3/envs/ufds/lib/python3.8/site-packages/IPython/core/interactiveshell.py:3437: DtypeWarning: Columns (22) have mixed types.Specify dtype option on import or set low_memory=False.\n",
      "  exec(code_obj, self.user_global_ns, self.user_ns)\n"
     ]
    },
    {
     "name": "stdout",
     "output_type": "stream",
     "text": [
      "/data/REPOSITORY/e12Gals/h148.cosmo50PLK.6144g3HbwK1BH///h148.cosmo50PLK.6144g3HbwK1BH.001106/h148.cosmo50PLK.6144g3HbwK1BH.001106 \n",
      "\n"
     ]
    },
    {
     "name": "stderr",
     "output_type": "stream",
     "text": [
      "/home/applebaum/anaconda3/envs/ufds/lib/python3.8/site-packages/IPython/core/interactiveshell.py:3437: DtypeWarning: Columns (22) have mixed types.Specify dtype option on import or set low_memory=False.\n",
      "  exec(code_obj, self.user_global_ns, self.user_ns)\n"
     ]
    },
    {
     "name": "stdout",
     "output_type": "stream",
     "text": [
      "/data/REPOSITORY/e12Gals/h148.cosmo50PLK.6144g3HbwK1BH///h148.cosmo50PLK.6144g3HbwK1BH.001024/h148.cosmo50PLK.6144g3HbwK1BH.001024 \n",
      "\n"
     ]
    },
    {
     "name": "stderr",
     "output_type": "stream",
     "text": [
      "/home/applebaum/anaconda3/envs/ufds/lib/python3.8/site-packages/IPython/core/interactiveshell.py:3437: DtypeWarning: Columns (22) have mixed types.Specify dtype option on import or set low_memory=False.\n",
      "  exec(code_obj, self.user_global_ns, self.user_ns)\n"
     ]
    },
    {
     "name": "stdout",
     "output_type": "stream",
     "text": [
      "/data/REPOSITORY/e12Gals/h148.cosmo50PLK.6144g3HbwK1BH///h148.cosmo50PLK.6144g3HbwK1BH.000777/h148.cosmo50PLK.6144g3HbwK1BH.000777 \n",
      "\n"
     ]
    },
    {
     "name": "stderr",
     "output_type": "stream",
     "text": [
      "/home/applebaum/anaconda3/envs/ufds/lib/python3.8/site-packages/IPython/core/interactiveshell.py:3437: DtypeWarning: Columns (22) have mixed types.Specify dtype option on import or set low_memory=False.\n",
      "  exec(code_obj, self.user_global_ns, self.user_ns)\n"
     ]
    },
    {
     "name": "stdout",
     "output_type": "stream",
     "text": [
      "/data/REPOSITORY/e12Gals/h148.cosmo50PLK.6144g3HbwK1BH///h148.cosmo50PLK.6144g3HbwK1BH.000640/h148.cosmo50PLK.6144g3HbwK1BH.000640 \n",
      "\n"
     ]
    },
    {
     "name": "stderr",
     "output_type": "stream",
     "text": [
      "/home/applebaum/anaconda3/envs/ufds/lib/python3.8/site-packages/IPython/core/interactiveshell.py:3437: DtypeWarning: Columns (22) have mixed types.Specify dtype option on import or set low_memory=False.\n",
      "  exec(code_obj, self.user_global_ns, self.user_ns)\n"
     ]
    },
    {
     "name": "stdout",
     "output_type": "stream",
     "text": [
      "/data/REPOSITORY/e12Gals/h148.cosmo50PLK.6144g3HbwK1BH///h148.cosmo50PLK.6144g3HbwK1BH.000637/h148.cosmo50PLK.6144g3HbwK1BH.000637 \n",
      "\n"
     ]
    },
    {
     "name": "stderr",
     "output_type": "stream",
     "text": [
      "/home/applebaum/anaconda3/envs/ufds/lib/python3.8/site-packages/IPython/core/interactiveshell.py:3437: DtypeWarning: Columns (22) have mixed types.Specify dtype option on import or set low_memory=False.\n",
      "  exec(code_obj, self.user_global_ns, self.user_ns)\n"
     ]
    },
    {
     "name": "stdout",
     "output_type": "stream",
     "text": [
      "/data/REPOSITORY/e12Gals/h148.cosmo50PLK.6144g3HbwK1BH///h148.cosmo50PLK.6144g3HbwK1BH.000512/h148.cosmo50PLK.6144g3HbwK1BH.000512 \n",
      "\n",
      "/data/REPOSITORY/e12Gals/h148.cosmo50PLK.6144g3HbwK1BH///h148.cosmo50PLK.6144g3HbwK1BH.000457/h148.cosmo50PLK.6144g3HbwK1BH.000457 \n",
      "\n",
      "/data/REPOSITORY/e12Gals/h148.cosmo50PLK.6144g3HbwK1BH///h148.cosmo50PLK.6144g3HbwK1BH.000384/h148.cosmo50PLK.6144g3HbwK1BH.000384 \n",
      "\n",
      "/data/REPOSITORY/e12Gals/h148.cosmo50PLK.6144g3HbwK1BH///h148.cosmo50PLK.6144g3HbwK1BH.000347/h148.cosmo50PLK.6144g3HbwK1BH.000347 \n",
      "\n",
      "/data/REPOSITORY/e12Gals/h148.cosmo50PLK.6144g3HbwK1BH///h148.cosmo50PLK.6144g3HbwK1BH.000275/h148.cosmo50PLK.6144g3HbwK1BH.000275 \n",
      "\n",
      "/data/REPOSITORY/e12Gals/h148.cosmo50PLK.6144g3HbwK1BH///h148.cosmo50PLK.6144g3HbwK1BH.000256/h148.cosmo50PLK.6144g3HbwK1BH.000256 \n",
      "\n",
      "/data/REPOSITORY/e12Gals/h148.cosmo50PLK.6144g3HbwK1BH///h148.cosmo50PLK.6144g3HbwK1BH.000225/h148.cosmo50PLK.6144g3HbwK1BH.000225 \n",
      "\n",
      "/data/REPOSITORY/e12Gals/h148.cosmo50PLK.6144g3HbwK1BH///h148.cosmo50PLK.6144g3HbwK1BH.000188/h148.cosmo50PLK.6144g3HbwK1BH.000188 \n",
      "\n",
      "/data/REPOSITORY/e12Gals/h148.cosmo50PLK.6144g3HbwK1BH///h148.cosmo50PLK.6144g3HbwK1BH.000139/h148.cosmo50PLK.6144g3HbwK1BH.000139 \n",
      "\n",
      "/data/REPOSITORY/e12Gals/h148.cosmo50PLK.6144g3HbwK1BH///h148.cosmo50PLK.6144g3HbwK1BH.000128/h148.cosmo50PLK.6144g3HbwK1BH.000128 \n",
      "\n"
     ]
    }
   ],
   "source": [
    "mvir_trace, rvir_trace, distance = ht.tracing.trace_quantity(sim_base, trace_df=trace, \n",
    "                                       quantity=['Mvir(M_sol)', 'Rvir(kpc)', 'Nearest'])"
   ]
  },
  {
   "cell_type": "markdown",
   "metadata": {},
   "source": [
    "Again, if you don't know pandas, this might take a bit to get used to. The maximum halo mass reached by every halo throughout its history (at least, its successfully traced history) can be found in one step:"
   ]
  },
  {
   "cell_type": "code",
   "execution_count": 10,
   "metadata": {},
   "outputs": [
    {
     "data": {
      "text/plain": [
       "Grp\n",
       "1        2.402080e+12\n",
       "2        1.327024e+11\n",
       "3        6.989641e+10\n",
       "4        3.851439e+10\n",
       "5        4.217958e+10\n",
       "             ...     \n",
       "15289    2.986070e+06\n",
       "15291    1.913236e+06\n",
       "15292    2.574561e+06\n",
       "15293    2.824864e+06\n",
       "15294    3.182441e+06\n",
       "Length: 11356, dtype: float64"
      ]
     },
     "execution_count": 10,
     "metadata": {},
     "output_type": "execute_result"
    }
   ],
   "source": [
    "mvir_trace.max(axis=1)"
   ]
  },
  {
   "cell_type": "code",
   "execution_count": 11,
   "metadata": {},
   "outputs": [
    {
     "data": {
      "text/plain": [
       "Grp\n",
       "1        004096\n",
       "2        003360\n",
       "3        002555\n",
       "4        002592\n",
       "5        002880\n",
       "          ...  \n",
       "15289    002400\n",
       "15291    003072\n",
       "15292    001024\n",
       "15293    001920\n",
       "15294    001664\n",
       "Length: 11356, dtype: object"
      ]
     },
     "execution_count": 11,
     "metadata": {},
     "output_type": "execute_result"
    }
   ],
   "source": [
    "mvir_trace.idxmax(axis=1)"
   ]
  },
  {
   "cell_type": "markdown",
   "metadata": {},
   "source": [
    "Or, the mass at z=6 (step 275 in this simulation):"
   ]
  },
  {
   "cell_type": "code",
   "execution_count": 12,
   "metadata": {},
   "outputs": [
    {
     "data": {
      "text/plain": [
       "Grp\n",
       "1        2.863878e+08\n",
       "2        2.216010e+09\n",
       "3        3.669721e+09\n",
       "4        7.197241e+09\n",
       "5        1.117208e+09\n",
       "             ...     \n",
       "15289             NaN\n",
       "15291             NaN\n",
       "15292             NaN\n",
       "15293             NaN\n",
       "15294             NaN\n",
       "Name: 000275, Length: 11356, dtype: float64"
      ]
     },
     "execution_count": 12,
     "metadata": {},
     "output_type": "execute_result"
    }
   ],
   "source": [
    "mvir_trace['000275']"
   ]
  },
  {
   "cell_type": "markdown",
   "metadata": {},
   "source": [
    "## Troubleshooting\n",
    "\n",
    "If you're encountering errors related to the AHF or amiga files, it's possible there are multiple versions of the AHF catalogs laying around in the directory. Make sure there is one set of AHF files, and that the amiga files correspond to that run of AHF."
   ]
  }
 ],
 "metadata": {
  "kernelspec": {
   "display_name": "Python 3 (ipykernel)",
   "language": "python",
   "name": "python3"
  },
  "toc": {
   "base_numbering": 1,
   "nav_menu": {},
   "number_sections": true,
   "sideBar": true,
   "skip_h1_title": false,
   "title_cell": "Table of Contents",
   "title_sidebar": "Contents",
   "toc_cell": false,
   "toc_position": {},
   "toc_section_display": true,
   "toc_window_display": false
  }
 },
 "nbformat": 4,
 "nbformat_minor": 2
}
