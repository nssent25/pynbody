{
 "cells": [
  {
   "cell_type": "markdown",
   "metadata": {},
   "source": [
    "# Investigating mass-to-light ratios and SAGA comparison stuff"
   ]
  },
  {
   "cell_type": "code",
   "execution_count": 2,
   "metadata": {},
   "outputs": [],
   "source": [
    "# first we import all relevant packages\n",
    "import matplotlib.pyplot as plt\n",
    "import numpy as np\n",
    "import matplotlib as mpl\n",
    "import pynbody\n",
    "from scipy import stats\n",
    "from scipy.stats import binned_statistic\n",
    "import pickle\n",
    "import pandas as pd\n",
    "\n",
    "pynbody.config['halo-class-priority'] =  [pynbody.halo.ahf.AHFCatalogue,\n",
    "                                          pynbody.halo.GrpCatalogue,\n",
    "                                          pynbody.halo.AmigaGrpCatalogue,\n",
    "                                          pynbody.halo.legacy.RockstarIntermediateCatalogue,\n",
    "                                          pynbody.halo.rockstar.RockstarCatalogue,\n",
    "                                          pynbody.halo.subfind.SubfindCatalogue, pynbody.halo.hop.HOPCatalogue]"
   ]
  },
  {
   "cell_type": "code",
   "execution_count": 3,
   "metadata": {},
   "outputs": [],
   "source": [
    "# we set the global matplotlib parameters so the fonts are all consistent and serif \n",
    "mpl.rc('font',**{'family':'serif','monospace':['Palatino']})\n",
    "mpl.rc('text', usetex=True)\n",
    "mpl.rcParams.update({'font.size': 9})\n",
    "mpl.rcParams['hatch.linewidth'] = 0.8"
   ]
  },
  {
   "cell_type": "code",
   "execution_count": 4,
   "metadata": {},
   "outputs": [],
   "source": [
    "def read_timescales():\n",
    "    '''Function to read in the resulting data file which contains quenching and infall times'''\n",
    "    data = []\n",
    "    with open('../../Data/QuenchingTimescales.data', 'rb') as f:\n",
    "        while True:\n",
    "            try:\n",
    "                data.append(pickle.load(f,encoding='latin1'))\n",
    "            except EOFError:\n",
    "                break\n",
    "\n",
    "    data = pd.DataFrame(data)\n",
    "    return data"
   ]
  },
  {
   "cell_type": "code",
   "execution_count": 121,
   "metadata": {},
   "outputs": [],
   "source": [
    "def read_z0(simname):\n",
    "    '''Function to read in the data file which contains z=0 information for the various halos'''\n",
    "    data = []\n",
    "    with open('../../Data/z0_data/'+ simname + '.data', 'rb') as f:\n",
    "        while True:\n",
    "            try:\n",
    "                data.append(pickle.load(f,encoding='latin1'))\n",
    "            except EOFError:\n",
    "                break\n",
    "    data1 = pd.DataFrame(data)\n",
    "    data1['sim'] = [simname]*len(data1)\n",
    "    return data1"
   ]
  },
  {
   "cell_type": "code",
   "execution_count": 24,
   "metadata": {},
   "outputs": [
    {
     "name": "stderr",
     "output_type": "stream",
     "text": [
      "/Users/hollis/anaconda3/lib/python3.7/site-packages/ipykernel_launcher.py:4: RuntimeWarning: invalid value encountered in greater\n",
      "  after removing the cwd from sys.path.\n"
     ]
    },
    {
     "data": {
      "text/plain": [
       "22"
      ]
     },
     "execution_count": 24,
     "metadata": {},
     "output_type": "execute_result"
    }
   ],
   "source": [
    "timescales = read_timescales()\n",
    "quenched = np.array(timescales.quenched, dtype=bool)\n",
    "tau = np.array(timescales.tinfall) - np.array(timescales.tquench)\n",
    "quench_after_infall = tau > 0\n",
    "\n",
    "resolved = np.array(timescales.n_star, dtype=int) > 100\n",
    "satellites = ~np.isnan(np.array(timescales.tinfall))\n",
    "\n",
    "timescales = timescales[quenched & quench_after_infall]\n",
    "\n",
    "len(timescales)"
   ]
  },
  {
   "cell_type": "code",
   "execution_count": 41,
   "metadata": {},
   "outputs": [
    {
     "name": "stderr",
     "output_type": "stream",
     "text": [
      "/Users/hollis/anaconda3/lib/python3.7/site-packages/ipykernel_launcher.py:4: RuntimeWarning: invalid value encountered in greater\n",
      "  after removing the cwd from sys.path.\n"
     ]
    },
    {
     "name": "stdout",
     "output_type": "stream",
     "text": [
      "There are 35 resolved satellites that are quenched at z=0.\n",
      "Of these 35, only 8 have gas at z=0.\n",
      "These are:\n",
      "h148-13 h148-28 h148-37 h148-68 h242-40 h242-80 h229-20 h229-23\n",
      "(With the caveat that our haloids might be different from what you are using, since we re-ran AHF a while back to use the background density to get Rvir)\n"
     ]
    }
   ],
   "source": [
    "timescales = read_timescales()\n",
    "quenched = np.array(timescales.quenched, dtype=bool)\n",
    "tau = np.array(timescales.tinfall) - np.array(timescales.tquench)\n",
    "quench_after_infall = tau > 0\n",
    "\n",
    "resolved = np.array(timescales.n_star, dtype=int) > 100\n",
    "satellites = ~np.isnan(np.array(timescales.tinfall))\n",
    "\n",
    "timescales = timescales[quenched & satellites & resolved]\n",
    "\n",
    "print(f'There are {len(timescales)} resolved satellites that are quenched at z=0.')\n",
    "\n",
    "gas_masses = np.array([])\n",
    "sims, haloids = np.array(timescales.sim), np.array(timescales.haloid)\n",
    "for sim, haloid in zip(sims,haloids):\n",
    "    d = read_z0(sim)\n",
    "    d = d[d.haloid==haloid]\n",
    "    Mgas = d.M_gas.tolist()[0]\n",
    "    gas_masses = np.append(gas_masses, Mgas)\n",
    "\n",
    "print(f'Of these {len(timescales)}, only {len(gas_masses[gas_masses != 0])} have gas at z=0.')\n",
    "print(fr\"These are:\")\n",
    "print(*[str(s)+'-'+str(h) for s,h in zip(sims[gas_masses != 0], haloids[gas_masses != 0])])\n",
    "print('(With the caveat that our haloids might be different from what you are using, since we re-ran AHF a while back to use the background density to get Rvir)')\n"
   ]
  },
  {
   "cell_type": "code",
   "execution_count": 11,
   "metadata": {},
   "outputs": [],
   "source": [
    "data = read_z0('h148')"
   ]
  },
  {
   "cell_type": "code",
   "execution_count": 12,
   "metadata": {},
   "outputs": [
    {
     "name": "stdout",
     "output_type": "stream",
     "text": [
      "1.93e+11\n"
     ]
    }
   ],
   "source": [
    "data = data[data.haloid == 1]\n",
    "Mstar = data.M_star.tolist()[0]\n",
    "print(f'{Mstar:.2e}')"
   ]
  },
  {
   "cell_type": "code",
   "execution_count": 16,
   "metadata": {},
   "outputs": [
    {
     "name": "stdout",
     "output_type": "stream",
     "text": [
      "2.66e+12\n"
     ]
    }
   ],
   "source": [
    "mass = data.mass.tolist()[0]\n",
    "print(f'{mass:.2e}')"
   ]
  },
  {
   "cell_type": "code",
   "execution_count": 17,
   "metadata": {},
   "outputs": [
    {
     "name": "stdout",
     "output_type": "stream",
     "text": [
      "[   1   11   31   33   40   64  103  133  137  146  185  447  729  996\n",
      " 1509]\n"
     ]
    }
   ],
   "source": [
    "data = read_z0('h329')\n",
    "print(np.unique(data.haloid))"
   ]
  },
  {
   "cell_type": "code",
   "execution_count": 164,
   "metadata": {},
   "outputs": [],
   "source": [
    "data = read_z0('h242')\n",
    "data = data.append(read_z0('h148'))\n",
    "data = data.append(read_z0('h229'))\n",
    "data = data.append(read_z0('h329'))"
   ]
  },
  {
   "cell_type": "code",
   "execution_count": 165,
   "metadata": {},
   "outputs": [
    {
     "name": "stdout",
     "output_type": "stream",
     "text": [
      "Mr = Mv * 1.03 + 0.39\n"
     ]
    },
    {
     "data": {
      "image/png": "[encoded data removed]",
      "text/plain": [
       "<Figure size 600x600 with 1 Axes>"
      ]
     },
     "metadata": {
      "needs_background": "light"
     },
     "output_type": "display_data"
    }
   ],
   "source": [
    "Mv = np.array(data.V_mag, dtype=float)\n",
    "Mr = np.array(data.r_mag, dtype=float)\n",
    "\n",
    "slope, intercept, r_value, p_value, std_err = stats.linregress(Mv,Mr)\n",
    "\n",
    "print(f'Mr = Mv * {slope:.2f} + {intercept:.2f}')\n",
    "\n",
    "\n",
    "\n",
    "plt.figure(dpi=150,figsize=(4,4))\n",
    "\n",
    "plt.scatter(Mv,Mr,s=4)\n",
    "\n",
    "# plt.plot(np.sort(Mv), slope*np.sort(Mv)+intercept)\n",
    "\n",
    "plt.xlabel('$M_V$')\n",
    "plt.ylabel('$M_r$')\n",
    "plt.title('h242')\n",
    "\n",
    "# plt.xlim(-22.5,-2.5)\n",
    "# # plt.ylim(-22.5,-2.5)\n",
    "# plt.ylim(-0.25,0.25)\n",
    "\n",
    "plt.show()"
   ]
  },
  {
   "cell_type": "code",
   "execution_count": 166,
   "metadata": {},
   "outputs": [
    {
     "name": "stdout",
     "output_type": "stream",
     "text": [
      "M* = Lr * 1.64 + 1.50e+08\n"
     ]
    }
   ],
   "source": [
    "Mstar = np.array(data.M_star,dtype=float)\n",
    "Lr = 10**((4.65 - Mr)/2.5) # Absolute magnitude (AB) of Sun in SDSS r-band\n",
    "slope, intercept, r_value, p_value, std_err = stats.linregress(Lr, Mstar)\n",
    "print(f'M* = Lr * {slope:.2f} + {intercept:.2e}')"
   ]
  },
  {
   "cell_type": "code",
   "execution_count": 167,
   "metadata": {},
   "outputs": [
    {
     "data": {
      "image/png": "[encoded data removed]",
      "text/plain": [
       "<Figure size 432x288 with 1 Axes>"
      ]
     },
     "metadata": {
      "needs_background": "light"
     },
     "output_type": "display_data"
    }
   ],
   "source": [
    "plt.scatter(Lr, Mstar)\n",
    "plt.loglog()\n",
    "plt.xlabel(r'$L_r$')\n",
    "plt.ylabel(r'$M_{*}$')\n",
    "plt.show()"
   ]
  },
  {
   "cell_type": "code",
   "execution_count": 168,
   "metadata": {},
   "outputs": [
    {
     "data": {
      "image/png": "[encoded data removed]",
      "text/plain": [
       "<Figure size 432x288 with 1 Axes>"
      ]
     },
     "metadata": {
      "needs_background": "light"
     },
     "output_type": "display_data"
    }
   ],
   "source": [
    "Lr = 10**((4.65 - Mr)/2.5)\n",
    "np.mean(Mstar/Lr)\n",
    "\n",
    "plt.scatter(Lr, Mstar/Lr)\n",
    "plt.loglog()\n",
    "plt.xlabel(r'$L_r$')\n",
    "plt.ylabel(r'$M_*/L_r$')\n",
    "plt.show()"
   ]
  },
  {
   "cell_type": "code",
   "execution_count": 169,
   "metadata": {},
   "outputs": [
    {
     "data": {
      "text/plain": [
       "1.587617461029179"
      ]
     },
     "execution_count": 169,
     "metadata": {},
     "output_type": "execute_result"
    }
   ],
   "source": [
    "Y = Mstar/Lr\n",
    "np.median(Y[Mr < -12.3])\n",
    "\n"
   ]
  },
  {
   "cell_type": "code",
   "execution_count": null,
   "metadata": {},
   "outputs": [],
   "source": []
  },
  {
   "cell_type": "code",
   "execution_count": 141,
   "metadata": {},
   "outputs": [
    {
     "name": "stdout",
     "output_type": "stream",
     "text": [
      "26.07910676126098\n"
     ]
    },
    {
     "data": {
      "text/plain": [
       "(array([96.,  9.,  4.,  8.,  2.,  1.,  0.,  0.,  0.,  5.]),\n",
       " SimArray([4.80072603e-05, 2.91176384e+02, 5.82352720e+02, 8.73529055e+02,\n",
       "           1.16470539e+03, 1.45588173e+03, 1.74705806e+03, 2.03823440e+03,\n",
       "           2.32941073e+03, 2.62058707e+03, 2.91176341e+03]),\n",
       " <a list of 10 Patch objects>)"
      ]
     },
     "execution_count": 141,
     "metadata": {},
     "output_type": "execute_result"
    },
    {
     "data": {
      "image/png": "[encoded data removed]",
      "text/plain": [
       "<Figure size 432x288 with 1 Axes>"
      ]
     },
     "metadata": {
      "needs_background": "light"
     },
     "output_type": "display_data"
    }
   ],
   "source": [
    "\n",
    "\n",
    "Y = Mstar/Lr\n",
    "print(np.median(Y))\n",
    "\n",
    "Y_clean = np.delete(Y,np.argmax(Y))\n",
    "Y_clean = np.delete(Y_clean,np.argmax(Y_clean))\n",
    "Y_clean = np.delete(Y_clean,np.argmax(Y_clean))\n",
    "\n",
    "plt.hist(Y_clean)"
   ]
  },
  {
   "cell_type": "code",
   "execution_count": 62,
   "metadata": {},
   "outputs": [],
   "source": [
    "def read_file(path):\n",
    "    data = []\n",
    "    with open(path,'rb') as f:\n",
    "        while True:\n",
    "            try: \n",
    "                data.append(pickle.load(f, encoding='latin1'))\n",
    "            except EOFError:\n",
    "                break\n",
    "    data = pd.DataFrame(data)\n",
    "\n",
    "    return data"
   ]
  },
  {
   "cell_type": "code",
   "execution_count": 63,
   "metadata": {},
   "outputs": [
    {
     "data": {
      "text/html": [
       "<div>\n",
       "<style scoped>\n",
       "    .dataframe tbody tr th:only-of-type {\n",
       "        vertical-align: middle;\n",
       "    }\n",
       "\n",
       "    .dataframe tbody tr th {\n",
       "        vertical-align: top;\n",
       "    }\n",
       "\n",
       "    .dataframe thead th {\n",
       "        text-align: right;\n",
       "    }\n",
       "</style>\n",
       "<table border=\"1\" class=\"dataframe\">\n",
       "  <thead>\n",
       "    <tr style=\"text-align: right;\">\n",
       "      <th></th>\n",
       "      <th>simulation</th>\n",
       "      <th>200 bgk dens ID</th>\n",
       "      <th>matched old id</th>\n",
       "      <th>id difference</th>\n",
       "      <th>do we have sunrise data?</th>\n",
       "      <th>key</th>\n",
       "      <th>sim</th>\n",
       "      <th>haloid</th>\n",
       "      <th>M_r</th>\n",
       "      <th>M_g</th>\n",
       "      <th>M_u</th>\n",
       "      <th>M_i</th>\n",
       "      <th>M_v</th>\n",
       "    </tr>\n",
       "  </thead>\n",
       "  <tbody>\n",
       "    <tr>\n",
       "      <th>0</th>\n",
       "      <td>h148</td>\n",
       "      <td>2</td>\n",
       "      <td>2</td>\n",
       "      <td>0</td>\n",
       "      <td>Yes</td>\n",
       "      <td>h148-2</td>\n",
       "      <td>h148</td>\n",
       "      <td>2</td>\n",
       "      <td>-19.380166</td>\n",
       "      <td>-19.006667</td>\n",
       "      <td>-18.051331</td>\n",
       "      <td>-19.526333</td>\n",
       "      <td>-19.213652</td>\n",
       "    </tr>\n",
       "    <tr>\n",
       "      <th>1</th>\n",
       "      <td>h148</td>\n",
       "      <td>3</td>\n",
       "      <td>3</td>\n",
       "      <td>0</td>\n",
       "      <td>Yes</td>\n",
       "      <td>h148-3</td>\n",
       "      <td>h148</td>\n",
       "      <td>3</td>\n",
       "      <td>-18.518809</td>\n",
       "      <td>-18.071981</td>\n",
       "      <td>-17.057268</td>\n",
       "      <td>-18.705120</td>\n",
       "      <td>-18.335558</td>\n",
       "    </tr>\n",
       "    <tr>\n",
       "      <th>2</th>\n",
       "      <td>h148</td>\n",
       "      <td>5</td>\n",
       "      <td>5</td>\n",
       "      <td>0</td>\n",
       "      <td>Yes</td>\n",
       "      <td>h148-5</td>\n",
       "      <td>h148</td>\n",
       "      <td>5</td>\n",
       "      <td>-17.139907</td>\n",
       "      <td>-16.723978</td>\n",
       "      <td>-15.746194</td>\n",
       "      <td>-17.307755</td>\n",
       "      <td>-16.968644</td>\n",
       "    </tr>\n",
       "    <tr>\n",
       "      <th>3</th>\n",
       "      <td>h148</td>\n",
       "      <td>6</td>\n",
       "      <td>6</td>\n",
       "      <td>0</td>\n",
       "      <td>Yes</td>\n",
       "      <td>h148-6</td>\n",
       "      <td>h148</td>\n",
       "      <td>6</td>\n",
       "      <td>-16.945385</td>\n",
       "      <td>-16.573120</td>\n",
       "      <td>-15.662628</td>\n",
       "      <td>-17.092861</td>\n",
       "      <td>-16.783981</td>\n",
       "    </tr>\n",
       "    <tr>\n",
       "      <th>4</th>\n",
       "      <td>h148</td>\n",
       "      <td>10</td>\n",
       "      <td>10</td>\n",
       "      <td>0</td>\n",
       "      <td>Yes</td>\n",
       "      <td>h148-10</td>\n",
       "      <td>h148</td>\n",
       "      <td>10</td>\n",
       "      <td>-13.887727</td>\n",
       "      <td>-13.435007</td>\n",
       "      <td>-12.402113</td>\n",
       "      <td>-14.069254</td>\n",
       "      <td>-13.713870</td>\n",
       "    </tr>\n",
       "    <tr>\n",
       "      <th>5</th>\n",
       "      <td>h148</td>\n",
       "      <td>11</td>\n",
       "      <td>11</td>\n",
       "      <td>0</td>\n",
       "      <td>Yes</td>\n",
       "      <td>h148-11</td>\n",
       "      <td>h148</td>\n",
       "      <td>11</td>\n",
       "      <td>-16.494629</td>\n",
       "      <td>-16.207684</td>\n",
       "      <td>-15.369102</td>\n",
       "      <td>-16.602673</td>\n",
       "      <td>-16.364633</td>\n",
       "    </tr>\n",
       "    <tr>\n",
       "      <th>6</th>\n",
       "      <td>h148</td>\n",
       "      <td>13</td>\n",
       "      <td>12</td>\n",
       "      <td>-1</td>\n",
       "      <td>Yes</td>\n",
       "      <td>h148-13</td>\n",
       "      <td>h148</td>\n",
       "      <td>12</td>\n",
       "      <td>-14.833878</td>\n",
       "      <td>-14.190606</td>\n",
       "      <td>-12.915137</td>\n",
       "      <td>-15.078250</td>\n",
       "      <td>-14.604174</td>\n",
       "    </tr>\n",
       "    <tr>\n",
       "      <th>7</th>\n",
       "      <td>h148</td>\n",
       "      <td>14</td>\n",
       "      <td>14</td>\n",
       "      <td>0</td>\n",
       "      <td>Yes</td>\n",
       "      <td>h148-14</td>\n",
       "      <td>h148</td>\n",
       "      <td>14</td>\n",
       "      <td>-13.477971</td>\n",
       "      <td>-13.068797</td>\n",
       "      <td>-12.019128</td>\n",
       "      <td>-13.656438</td>\n",
       "      <td>-13.328127</td>\n",
       "    </tr>\n",
       "    <tr>\n",
       "      <th>8</th>\n",
       "      <td>h148</td>\n",
       "      <td>21</td>\n",
       "      <td>18</td>\n",
       "      <td>-3</td>\n",
       "      <td>Yes</td>\n",
       "      <td>h148-21</td>\n",
       "      <td>h148</td>\n",
       "      <td>18</td>\n",
       "      <td>-12.261699</td>\n",
       "      <td>-11.843441</td>\n",
       "      <td>-10.733548</td>\n",
       "      <td>-12.436491</td>\n",
       "      <td>-12.112513</td>\n",
       "    </tr>\n",
       "    <tr>\n",
       "      <th>9</th>\n",
       "      <td>h148</td>\n",
       "      <td>27</td>\n",
       "      <td>26</td>\n",
       "      <td>-1</td>\n",
       "      <td>Yes</td>\n",
       "      <td>h148-27</td>\n",
       "      <td>h148</td>\n",
       "      <td>26</td>\n",
       "      <td>-15.430822</td>\n",
       "      <td>-14.928492</td>\n",
       "      <td>-13.840093</td>\n",
       "      <td>-15.633196</td>\n",
       "      <td>-15.240207</td>\n",
       "    </tr>\n",
       "    <tr>\n",
       "      <th>10</th>\n",
       "      <td>h148</td>\n",
       "      <td>28</td>\n",
       "      <td>28</td>\n",
       "      <td>0</td>\n",
       "      <td>Yes</td>\n",
       "      <td>h148-28</td>\n",
       "      <td>h148</td>\n",
       "      <td>28</td>\n",
       "      <td>-14.943050</td>\n",
       "      <td>-14.339104</td>\n",
       "      <td>-13.086850</td>\n",
       "      <td>-15.181759</td>\n",
       "      <td>-14.725268</td>\n",
       "    </tr>\n",
       "    <tr>\n",
       "      <th>11</th>\n",
       "      <td>h148</td>\n",
       "      <td>32</td>\n",
       "      <td>31</td>\n",
       "      <td>-1</td>\n",
       "      <td>Yes</td>\n",
       "      <td>h148-32</td>\n",
       "      <td>h148</td>\n",
       "      <td>31</td>\n",
       "      <td>-11.756362</td>\n",
       "      <td>-11.299136</td>\n",
       "      <td>-10.150122</td>\n",
       "      <td>-11.945976</td>\n",
       "      <td>-11.592566</td>\n",
       "    </tr>\n",
       "    <tr>\n",
       "      <th>12</th>\n",
       "      <td>h148</td>\n",
       "      <td>37</td>\n",
       "      <td>36</td>\n",
       "      <td>-1</td>\n",
       "      <td>Yes</td>\n",
       "      <td>h148-37</td>\n",
       "      <td>h148</td>\n",
       "      <td>36</td>\n",
       "      <td>-12.280753</td>\n",
       "      <td>-11.776911</td>\n",
       "      <td>-10.607670</td>\n",
       "      <td>-12.481026</td>\n",
       "      <td>-12.102147</td>\n",
       "    </tr>\n",
       "    <tr>\n",
       "      <th>13</th>\n",
       "      <td>h148</td>\n",
       "      <td>61</td>\n",
       "      <td>57</td>\n",
       "      <td>-4</td>\n",
       "      <td>Yes</td>\n",
       "      <td>h148-61</td>\n",
       "      <td>h148</td>\n",
       "      <td>57</td>\n",
       "      <td>-9.847259</td>\n",
       "      <td>-9.268603</td>\n",
       "      <td>-8.081348</td>\n",
       "      <td>-10.051195</td>\n",
       "      <td>-9.646749</td>\n",
       "    </tr>\n",
       "    <tr>\n",
       "      <th>14</th>\n",
       "      <td>h229</td>\n",
       "      <td>20</td>\n",
       "      <td>17</td>\n",
       "      <td>-3</td>\n",
       "      <td>Yes</td>\n",
       "      <td>h229-20</td>\n",
       "      <td>h229</td>\n",
       "      <td>17</td>\n",
       "      <td>-11.669357</td>\n",
       "      <td>-11.167674</td>\n",
       "      <td>-9.989131</td>\n",
       "      <td>-11.864456</td>\n",
       "      <td>-11.493022</td>\n",
       "    </tr>\n",
       "    <tr>\n",
       "      <th>15</th>\n",
       "      <td>h229</td>\n",
       "      <td>23</td>\n",
       "      <td>22</td>\n",
       "      <td>-1</td>\n",
       "      <td>Yes</td>\n",
       "      <td>h229-23</td>\n",
       "      <td>h229</td>\n",
       "      <td>22</td>\n",
       "      <td>-9.833276</td>\n",
       "      <td>-9.276305</td>\n",
       "      <td>-8.094215</td>\n",
       "      <td>-10.034642</td>\n",
       "      <td>-9.640207</td>\n",
       "    </tr>\n",
       "    <tr>\n",
       "      <th>16</th>\n",
       "      <td>h242</td>\n",
       "      <td>12</td>\n",
       "      <td>11</td>\n",
       "      <td>-1</td>\n",
       "      <td>Yes</td>\n",
       "      <td>h242-12</td>\n",
       "      <td>h242</td>\n",
       "      <td>11</td>\n",
       "      <td>-17.348893</td>\n",
       "      <td>-16.731284</td>\n",
       "      <td>-15.483629</td>\n",
       "      <td>-17.601911</td>\n",
       "      <td>-17.117606</td>\n",
       "    </tr>\n",
       "    <tr>\n",
       "      <th>17</th>\n",
       "      <td>h242</td>\n",
       "      <td>40</td>\n",
       "      <td>39</td>\n",
       "      <td>-1</td>\n",
       "      <td>Yes</td>\n",
       "      <td>h242-40</td>\n",
       "      <td>h242</td>\n",
       "      <td>39</td>\n",
       "      <td>-9.811302</td>\n",
       "      <td>-9.231061</td>\n",
       "      <td>-8.045257</td>\n",
       "      <td>-10.014079</td>\n",
       "      <td>-9.610709</td>\n",
       "    </tr>\n",
       "    <tr>\n",
       "      <th>18</th>\n",
       "      <td>h242</td>\n",
       "      <td>80</td>\n",
       "      <td>76</td>\n",
       "      <td>-4</td>\n",
       "      <td>Yes</td>\n",
       "      <td>h242-80</td>\n",
       "      <td>h242</td>\n",
       "      <td>76</td>\n",
       "      <td>-13.515338</td>\n",
       "      <td>-12.914443</td>\n",
       "      <td>-11.663573</td>\n",
       "      <td>-13.745466</td>\n",
       "      <td>-13.301604</td>\n",
       "    </tr>\n",
       "    <tr>\n",
       "      <th>19</th>\n",
       "      <td>h329</td>\n",
       "      <td>11</td>\n",
       "      <td>9</td>\n",
       "      <td>-2</td>\n",
       "      <td>Yes</td>\n",
       "      <td>h329-11</td>\n",
       "      <td>h329</td>\n",
       "      <td>9</td>\n",
       "      <td>-14.346393</td>\n",
       "      <td>-13.843124</td>\n",
       "      <td>-12.826983</td>\n",
       "      <td>-14.531184</td>\n",
       "      <td>-14.147276</td>\n",
       "    </tr>\n",
       "    <tr>\n",
       "      <th>20</th>\n",
       "      <td>h329</td>\n",
       "      <td>33</td>\n",
       "      <td>32</td>\n",
       "      <td>-1</td>\n",
       "      <td>Yes</td>\n",
       "      <td>h329-33</td>\n",
       "      <td>h329</td>\n",
       "      <td>32</td>\n",
       "      <td>-10.475250</td>\n",
       "      <td>-9.916128</td>\n",
       "      <td>-8.731997</td>\n",
       "      <td>-10.680508</td>\n",
       "      <td>-10.280956</td>\n",
       "    </tr>\n",
       "  </tbody>\n",
       "</table>\n",
       "</div>"
      ],
      "text/plain": [
       "   simulation  200 bgk dens ID  matched old id  id difference  \\\n",
       "0        h148                2               2              0   \n",
       "1        h148                3               3              0   \n",
       "2        h148                5               5              0   \n",
       "3        h148                6               6              0   \n",
       "4        h148               10              10              0   \n",
       "5        h148               11              11              0   \n",
       "6        h148               13              12             -1   \n",
       "7        h148               14              14              0   \n",
       "8        h148               21              18             -3   \n",
       "9        h148               27              26             -1   \n",
       "10       h148               28              28              0   \n",
       "11       h148               32              31             -1   \n",
       "12       h148               37              36             -1   \n",
       "13       h148               61              57             -4   \n",
       "14       h229               20              17             -3   \n",
       "15       h229               23              22             -1   \n",
       "16       h242               12              11             -1   \n",
       "17       h242               40              39             -1   \n",
       "18       h242               80              76             -4   \n",
       "19       h329               11               9             -2   \n",
       "20       h329               33              32             -1   \n",
       "\n",
       "   do we have sunrise data?      key   sim  haloid        M_r        M_g  \\\n",
       "0                       Yes   h148-2  h148       2 -19.380166 -19.006667   \n",
       "1                       Yes   h148-3  h148       3 -18.518809 -18.071981   \n",
       "2                       Yes   h148-5  h148       5 -17.139907 -16.723978   \n",
       "3                       Yes   h148-6  h148       6 -16.945385 -16.573120   \n",
       "4                       Yes  h148-10  h148      10 -13.887727 -13.435007   \n",
       "5                       Yes  h148-11  h148      11 -16.494629 -16.207684   \n",
       "6                       Yes  h148-13  h148      12 -14.833878 -14.190606   \n",
       "7                       Yes  h148-14  h148      14 -13.477971 -13.068797   \n",
       "8                       Yes  h148-21  h148      18 -12.261699 -11.843441   \n",
       "9                       Yes  h148-27  h148      26 -15.430822 -14.928492   \n",
       "10                      Yes  h148-28  h148      28 -14.943050 -14.339104   \n",
       "11                      Yes  h148-32  h148      31 -11.756362 -11.299136   \n",
       "12                      Yes  h148-37  h148      36 -12.280753 -11.776911   \n",
       "13                      Yes  h148-61  h148      57  -9.847259  -9.268603   \n",
       "14                      Yes  h229-20  h229      17 -11.669357 -11.167674   \n",
       "15                      Yes  h229-23  h229      22  -9.833276  -9.276305   \n",
       "16                      Yes  h242-12  h242      11 -17.348893 -16.731284   \n",
       "17                      Yes  h242-40  h242      39  -9.811302  -9.231061   \n",
       "18                      Yes  h242-80  h242      76 -13.515338 -12.914443   \n",
       "19                      Yes  h329-11  h329       9 -14.346393 -13.843124   \n",
       "20                      Yes  h329-33  h329      32 -10.475250  -9.916128   \n",
       "\n",
       "          M_u        M_i        M_v  \n",
       "0  -18.051331 -19.526333 -19.213652  \n",
       "1  -17.057268 -18.705120 -18.335558  \n",
       "2  -15.746194 -17.307755 -16.968644  \n",
       "3  -15.662628 -17.092861 -16.783981  \n",
       "4  -12.402113 -14.069254 -13.713870  \n",
       "5  -15.369102 -16.602673 -16.364633  \n",
       "6  -12.915137 -15.078250 -14.604174  \n",
       "7  -12.019128 -13.656438 -13.328127  \n",
       "8  -10.733548 -12.436491 -12.112513  \n",
       "9  -13.840093 -15.633196 -15.240207  \n",
       "10 -13.086850 -15.181759 -14.725268  \n",
       "11 -10.150122 -11.945976 -11.592566  \n",
       "12 -10.607670 -12.481026 -12.102147  \n",
       "13  -8.081348 -10.051195  -9.646749  \n",
       "14  -9.989131 -11.864456 -11.493022  \n",
       "15  -8.094215 -10.034642  -9.640207  \n",
       "16 -15.483629 -17.601911 -17.117606  \n",
       "17  -8.045257 -10.014079  -9.610709  \n",
       "18 -11.663573 -13.745466 -13.301604  \n",
       "19 -12.826983 -14.531184 -14.147276  \n",
       "20  -8.731997 -10.680508 -10.280956  "
      ]
     },
     "execution_count": 63,
     "metadata": {},
     "output_type": "execute_result"
    }
   ],
   "source": [
    "sunrise = read_file('../../F19/sunrise_mags.data')\n",
    "\n",
    "matched_ids = pd.read_csv('../../F19/sunrise_match.csv')\n",
    "matched_ids = matched_ids[matched_ids['do we have sunrise data?']=='Yes']\n",
    "\n",
    "matched_ids['key'] = [str(sim)+'-'+str(i) for sim,i in zip(matched_ids['simulation'], matched_ids['matched old id'])]\n",
    "\n",
    "sunrise['key'] = [str(sim)+'-'+str(i) for sim,i in zip(sunrise['sim'], sunrise['haloid'])]\n",
    "merged = pd.merge(matched_ids, sunrise, left_on='key', right_on='key')\n",
    "\n",
    "merged['key'] = [str(sim)+'-'+str(i) for sim,i in zip(merged['sim'], merged['200 bgk dens ID'])]\n",
    "merged"
   ]
  },
  {
   "cell_type": "code",
   "execution_count": 159,
   "metadata": {},
   "outputs": [
    {
     "name": "stdout",
     "output_type": "stream",
     "text": [
      "h242-12: Sunrise says M_r = -17.35, pynbody says M_r = -16.91, difference = -0.44\n",
      "h242-40: Sunrise says M_r = -9.81, pynbody says M_r = -9.50, difference = -0.31\n",
      "h242-80: Sunrise says M_r = -13.52, pynbody says M_r = -13.06, difference = -0.46\n",
      "h148-2: Sunrise says M_r = -19.38, pynbody says M_r = -19.15, difference = -0.23\n",
      "h148-3: Sunrise says M_r = -18.52, pynbody says M_r = -18.07, difference = -0.45\n",
      "h148-5: Sunrise says M_r = -17.14, pynbody says M_r = -16.71, difference = -0.43\n",
      "h148-6: Sunrise says M_r = -16.95, pynbody says M_r = -16.63, difference = -0.31\n",
      "h148-10: Sunrise says M_r = -13.89, pynbody says M_r = -17.19, difference = 3.30\n",
      "h148-11: Sunrise says M_r = -16.49, pynbody says M_r = -16.17, difference = -0.32\n",
      "h148-13: Sunrise says M_r = -14.83, pynbody says M_r = -14.45, difference = -0.38\n",
      "h148-14: Sunrise says M_r = -13.48, pynbody says M_r = -13.03, difference = -0.45\n",
      "h148-21: Sunrise says M_r = -12.26, pynbody says M_r = -11.80, difference = -0.46\n",
      "h148-27: Sunrise says M_r = -15.43, pynbody says M_r = -15.01, difference = -0.42\n",
      "h148-28: Sunrise says M_r = -14.94, pynbody says M_r = -14.52, difference = -0.42\n",
      "h148-32: Sunrise says M_r = -11.76, pynbody says M_r = -11.31, difference = -0.44\n",
      "h148-37: Sunrise says M_r = -12.28, pynbody says M_r = -11.84, difference = -0.44\n",
      "h148-61: Sunrise says M_r = -9.85, pynbody says M_r = -9.51, difference = -0.33\n",
      "h229-20: Sunrise says M_r = -11.67, pynbody says M_r = -11.23, difference = -0.44\n",
      "h229-23: Sunrise says M_r = -9.83, pynbody says M_r = -9.44, difference = -0.40\n",
      "h329-11: Sunrise says M_r = -14.35, pynbody says M_r = -16.17, difference = 1.82\n",
      "h329-33: Sunrise says M_r = -10.48, pynbody says M_r = -6.67, difference = -3.80\n"
     ]
    }
   ],
   "source": [
    "sunrise_MtoL, data_MtoL, Mstars = [], [], []\n",
    "for sim, haloid in zip(list(data.sim),list(data.haloid)):\n",
    "    s = merged[(merged['200 bgk dens ID']==haloid)&(merged.sim==sim)]\n",
    "    if len(s)!=0:\n",
    "        d = data[data.haloid==haloid]\n",
    "        Mr_s = s.M_r.tolist()[0]\n",
    "        Mr_d = d.r_mag.tolist()[0]\n",
    "        Lr_s = 10**((4.53 - Mr_s)/2.5)\n",
    "        Lr_d = 10**((4.65 - Mr_d)/2.5)\n",
    "        Mstar = d.M_star.tolist()[0]\n",
    "        print(f'{sim}-{haloid}: Sunrise says M_r = {Mr_s:.2f}, pynbody says M_r = {Mr_d:.2f}, difference = {Mr_s - Mr_d:.2f}')\n",
    "        sunrise_MtoL.append(Mstar/Lr_s)\n",
    "        data_MtoL.append(Mstar/Lr_d)\n",
    "        Mstars.append(Mstar)"
   ]
  },
  {
   "cell_type": "code",
   "execution_count": 160,
   "metadata": {},
   "outputs": [
    {
     "data": {
      "text/plain": [
       "1.1060614710622534"
      ]
     },
     "execution_count": 160,
     "metadata": {},
     "output_type": "execute_result"
    }
   ],
   "source": [
    "np.median(sunrise_MtoL)"
   ]
  },
  {
   "cell_type": "code",
   "execution_count": 161,
   "metadata": {},
   "outputs": [
    {
     "data": {
      "text/plain": [
       "1.4609406843570798"
      ]
     },
     "execution_count": 161,
     "metadata": {},
     "output_type": "execute_result"
    }
   ],
   "source": [
    "np.median(data_MtoL)"
   ]
  },
  {
   "cell_type": "code",
   "execution_count": null,
   "metadata": {},
   "outputs": [],
   "source": []
  },
  {
   "cell_type": "code",
   "execution_count": 137,
   "metadata": {},
   "outputs": [
    {
     "data": {
      "image/png": "[encoded data removed]",
      "text/plain": [
       "<Figure size 432x288 with 1 Axes>"
      ]
     },
     "metadata": {
      "needs_background": "light"
     },
     "output_type": "display_data"
    }
   ],
   "source": [
    "plt.scatter(Mstars, sunrise_MtoL, label='sunrise')\n",
    "plt.scatter(Mstars, data_MtoL, label='pynbody')\n",
    "plt.loglog()\n",
    "plt.xlabel(r'$L_r$')\n",
    "plt.ylabel(r'$M_*/L_r$')\n",
    "plt.legend()\n",
    "plt.show()"
   ]
  },
  {
   "cell_type": "code",
   "execution_count": 124,
   "metadata": {},
   "outputs": [
    {
     "data": {
      "text/plain": [
       "0.11977422673180733"
      ]
     },
     "execution_count": 124,
     "metadata": {},
     "output_type": "execute_result"
    }
   ],
   "source": [
    "np.mean(Mr-Mv)"
   ]
  },
  {
   "cell_type": "code",
   "execution_count": 75,
   "metadata": {},
   "outputs": [
    {
     "name": "stdout",
     "output_type": "stream",
     "text": [
      "1.9834642329718017\n"
     ]
    }
   ],
   "source": [
    "# r      =    V - 0.46*(B-V) + 0.11\n",
    "r_test = data.V_mag - 0.46 * (data.B_mag - data.V_mag) + 0.11\n",
    "Lr_test = 10**((Mr_sol - r_test)/2.5)\n",
    "print(np.mean(Mstar/Lr_test))"
   ]
  },
  {
   "cell_type": "code",
   "execution_count": 171,
   "metadata": {},
   "outputs": [
    {
     "name": "stdout",
     "output_type": "stream",
     "text": [
      "Using M/L of 1, SAGA completeness limit is M_* ~ 6.03e+06 Msol\n",
      "Using M/L of 1.588, SAGA completeness limit is M_* ~ 9.57e+06 Msol\n",
      "Using M/L of 2.3, SAGA completeness limit is M_* ~ 1.39e+07 Msol\n"
     ]
    }
   ],
   "source": [
    "Mr_sol = 4.65\n",
    "L_r = 10**((Mr_sol - (-12.3))/2.5)\n",
    "print(f'Using M/L of 1, SAGA completeness limit is M_* ~ {L_r:.2e} Msol')\n",
    "print(f'Using M/L of 1.588, SAGA completeness limit is M_* ~ {1.588*L_r:.2e} Msol')\n",
    "print(f'Using M/L of 2.3, SAGA completeness limit is M_* ~ {2.3*L_r:.2e} Msol')"
   ]
  },
  {
   "cell_type": "markdown",
   "metadata": {},
   "source": [
    "(Median M/L for only those satellites brighter than M_r of -12.3 is 1.588)"
   ]
  },
  {
   "cell_type": "code",
   "execution_count": 7,
   "metadata": {},
   "outputs": [
    {
     "name": "stdout",
     "output_type": "stream",
     "text": [
      "1.09e+08\n"
     ]
    }
   ],
   "source": [
    "\n",
    "\n",
    "Mr_sol = 4.65\n",
    "L_r = 10**((Mr_sol - (-13))/2.5)\n",
    "Mstar = 1.5*L_r\n",
    "print(f'{Mstar:.2e}')"
   ]
  },
  {
   "cell_type": "code",
   "execution_count": 6,
   "metadata": {},
   "outputs": [
    {
     "data": {
      "text/plain": [
       "14.909771852360796"
      ]
     },
     "execution_count": 6,
     "metadata": {},
     "output_type": "execute_result"
    }
   ],
   "source": [
    "import numpy as np\n",
    "np.log10(1e8/1.5)*2.5 - Mr_sol"
   ]
  },
  {
   "cell_type": "code",
   "execution_count": null,
   "metadata": {},
   "outputs": [],
   "source": []
  },
  {
   "cell_type": "code",
   "execution_count": null,
   "metadata": {},
   "outputs": [],
   "source": []
  },
  {
   "cell_type": "code",
   "execution_count": null,
   "metadata": {},
   "outputs": [],
   "source": []
  },
  {
   "cell_type": "code",
   "execution_count": 17,
   "metadata": {},
   "outputs": [
    {
     "data": {
      "text/plain": [
       "Index(['haloid', 'hostHalo', 'n_particles', 'n_star', 'n_gas', 'M_star',\n",
       "       'M_gas', 'mass', 'Rvir', 'G_outflow_2.5', 'G_outflow_1.5',\n",
       "       'G_inflow_2.5', 'G_inflow_1.5', 'G_inflow_0', 'G_outflow_0', 'Gout_T',\n",
       "       'Gin_T', 'Xc', 'Yc', 'Zc', 'feh_avg', 'zstar', 'zgas', 'g_temp',\n",
       "       'V_mag', 'B_mag', 'U_mag', 'R_mag', 'I_mag', 'r_mag', 'gasfrac', 'mHI',\n",
       "       'HIgasfrac', 'sfh', 'sfhbins', 'SFR', 'sSFR', 'tquench', 'age', 'B-V',\n",
       "       'h1dist', 'id2', 'Rmax', 'ovdens', 'fMhires', 'c_a', 'c', 'a',\n",
       "       'V90_Vdisp', 'hostVirialR', 'hostDist', 'sim'],\n",
       "      dtype='object')"
      ]
     },
     "execution_count": 17,
     "metadata": {},
     "output_type": "execute_result"
    }
   ],
   "source": [
    "import pickle\n",
    "import pandas as pd\n",
    "def read_z0(simname):\n",
    "    '''Function to read in the data file which contains z=0 information for the various halos.'''\n",
    "    data = []\n",
    "    with open('../../Data/z0_data/'+ simname + '.data', 'rb') as f:\n",
    "        while True:\n",
    "            try:\n",
    "                data.append(pickle.load(f,encoding='latin1'))\n",
    "            except EOFError:\n",
    "                break\n",
    "\n",
    "    data1 = pd.DataFrame(data)\n",
    "    data1['sim'] = simname\n",
    "    return data1\n",
    "\n",
    "data = read_z0('h148')\n",
    "data = data.append(read_z0('h229'))\n",
    "data = data.append(read_z0('h242'))\n",
    "data = data.append(read_z0('h329'))\n",
    "\n",
    "data.keys()"
   ]
  },
  {
   "cell_type": "code",
   "execution_count": 60,
   "metadata": {},
   "outputs": [],
   "source": [
    "sims = np.array(data.sim, dtype=str)\n",
    "haloids = np.array(data.haloid,dtype=int)\n",
    "M_star = np.array(data.M_star,dtype=float)\n",
    "M_halo = np.array(data.mass,dtype=float)-np.array(data.M_gas,dtype=float)-M_star\n",
    "M_r = np.array(data.r_mag,dtype=float)\n",
    "SFR = np.array(data.SFR,dtype=float)\n",
    "sSFR = np.array(data.sSFR,dtype=float)\n",
    "quenched = sSFR < 1e-11\n",
    "\n",
    "\n",
    "output = {\n",
    "    'sim':sims,\n",
    "    'haloid':haloids,\n",
    "    'M_star':M_star,\n",
    "    'M_halo':M_halo,\n",
    "    'M_r':M_r,\n",
    "    'SFR':SFR,\n",
    "    'sSFR':sSFR,\n",
    "    'quenched':quenched\n",
    "}\n",
    "output = pd.DataFrame(output)\n",
    "output.to_csv('satellites.csv',index=False)"
   ]
  },
  {
   "cell_type": "code",
   "execution_count": 66,
   "metadata": {},
   "outputs": [
    {
     "data": {
      "image/png": "[encoded data removed]",
      "text/plain": [
       "<Figure size 1200x800 with 1 Axes>"
      ]
     },
     "metadata": {
      "needs_background": "light"
     },
     "output_type": "display_data"
    }
   ],
   "source": [
    "import matplotlib.pyplot as plt\n",
    "\n",
    "plt.figure(dpi=200)\n",
    "plt.scatter(M_r, SFR, s=15)\n",
    "plt.scatter(M_r[SFR==0], [1e-6]*len(M_r[SFR==0]), s=15, marker=7)\n",
    "plt.semilogy()\n",
    "plt.ylim(1e-7,1e2)\n",
    "plt.gca().invert_xaxis()\n",
    "\n",
    "plt.plot([-12.3,-12.3],[1e-7,1e2],'k--',alpha=0.2)\n",
    "plt.xlabel(r'$M_r$')\n",
    "plt.ylabel(r'$SFR~[\\mathrm{M}_{\\odot}~\\mathrm{yr}^{-1}]$')\n",
    "\n",
    "plt.savefig('SFR_Mr.png',dpi=300)\n",
    "\n",
    "plt.show()"
   ]
  },
  {
   "cell_type": "code",
   "execution_count": 69,
   "metadata": {},
   "outputs": [
    {
     "name": "stderr",
     "output_type": "stream",
     "text": [
      "/Users/hollis/anaconda3/lib/python3.7/site-packages/ipykernel_launcher.py:14: RuntimeWarning: invalid value encountered in true_divide\n",
      "  \n",
      "/Users/hollis/anaconda3/lib/python3.7/site-packages/ipykernel_launcher.py:27: RuntimeWarning: invalid value encountered in true_divide\n"
     ]
    },
    {
     "name": "stdout",
     "output_type": "stream",
     "text": [
      "27\n"
     ]
    },
    {
     "data": {
      "image/png": "[encoded data removed]",
      "text/plain": [
       "<Figure size 1200x800 with 1 Axes>"
      ]
     },
     "metadata": {
      "needs_background": "light"
     },
     "output_type": "display_data"
    }
   ],
   "source": [
    "plt.figure(dpi=200)\n",
    "\n",
    "bin_edges = np.arange(-24,-2,3) \n",
    "\n",
    "for sim in np.unique(sims):\n",
    "    M_r_temp = M_r[sims==sim]\n",
    "    quenched_temp = quenched[sims==sim]\n",
    "    \n",
    "\n",
    "\n",
    "    y1, binEdges = np.histogram(M_r_temp, bin_edges)\n",
    "    bincenters = 0.5*(binEdges[1:]+binEdges[:-1])\n",
    "    y2, binEdges = np.histogram(M_r_temp[quenched_temp], bins = binEdges)\n",
    "    y = y2/y1\n",
    "    plt.plot(bincenters,y, linewidth=1.5, label=sim)\n",
    "\n",
    "# add Geha et al. (2017) data (SAGA)\n",
    "SAGA = pd.read_csv('../QuenchedFractions/SAGA_data_cleaned.csv')\n",
    "SAGA = SAGA[SAGA['complete'] == 'Y'] # remove those galaxies below the limit for full detection\n",
    "SAGA = SAGA[SAGA['M_r'] < -12.3] # remove those galaxies below the limit for full detection\n",
    "print(len(SAGA))\n",
    "SAGA_M_r = np.array(SAGA.M_r,dtype=float)\n",
    "\n",
    "y1, binEdges = np.histogram(SAGA_M_r, bin_edges)\n",
    "bincenters = 0.5*(binEdges[1:]+binEdges[:-1])\n",
    "y2, binEdges = np.histogram(SAGA_M_r[SAGA.halpha=='N'], bins = binEdges)\n",
    "y = y2/y1\n",
    "plt.plot(bincenters,y,linewidth=1.5, label='SAGA')\n",
    "\n",
    "plt.gca().invert_xaxis()\n",
    "plt.xlabel(r'$M_r$')\n",
    "plt.ylabel('Quenched Fraction')\n",
    "plt.plot([-12.3,-12.3],[0,1],'k--',alpha=0.2)\n",
    "\n",
    "plt.legend()\n",
    "\n",
    "plt.savefig('QF_Mr.png',dpi=300)\n",
    "plt.show()"
   ]
  },
  {
   "cell_type": "code",
   "execution_count": null,
   "metadata": {},
   "outputs": [],
   "source": [
    "\n",
    "\n"
   ]
  },
  {
   "cell_type": "code",
   "execution_count": null,
   "metadata": {},
   "outputs": [],
   "source": []
  }
 ],
 "metadata": {
  "kernelspec": {
   "display_name": "Python 3",
   "language": "python",
   "name": "python3"
  },
  "language_info": {
   "codemirror_mode": {
    "name": "ipython",
    "version": 3
   },
   "file_extension": ".py",
   "mimetype": "text/x-python",
   "name": "python",
   "nbconvert_exporter": "python",
   "pygments_lexer": "ipython3",
   "version": "3.7.3"
  }
 },
 "nbformat": 4,
 "nbformat_minor": 4
}
