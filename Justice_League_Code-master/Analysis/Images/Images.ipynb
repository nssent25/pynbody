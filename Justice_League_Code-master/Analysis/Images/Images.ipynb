{
 "cells": [
  {
   "cell_type": "code",
   "execution_count": 1,
   "metadata": {},
   "outputs": [],
   "source": [
    "import matplotlib.pyplot as plt\n",
    "import matplotlib.mlab as mlab\n",
    "import matplotlib.colors as colors\n",
    "from mpl_toolkits.axes_grid1 import make_axes_locatable\n",
    "from mpl_toolkits.axes_grid1.anchored_artists import AnchoredSizeBar\n",
    "\n",
    "import matplotlib.cm as cm\n",
    "import matplotlib as mpl\n",
    "import pynbody\n",
    "import math\n",
    "import numpy as np\n",
    "import socket\n",
    "from bulk import *\n",
    "import copy\n",
    "\n",
    "# we set the global matplotlib parameters so the fonts are all consistent and serif \n",
    "mpl.rc('font',**{'family':'serif','monospace':['Palatino']})\n",
    "mpl.rc('text', usetex=True)\n",
    "mpl.rcParams.update({'font.size': 9})"
   ]
  },
  {
   "cell_type": "code",
   "execution_count": 7,
   "metadata": {},
   "outputs": [],
   "source": [
    "def read_file(simname):\n",
    "    ### leave this section as is\n",
    "    data = []\n",
    "    with open('/home/akinshol/Data/DataFiles_Archive_20191129/'+ simname + '.data', 'rb') as f:\n",
    "        while True:\n",
    "            try:\n",
    "                data.append(pickle.load(f,encoding='latin1'))\n",
    "            except EOFError:\n",
    "                break\n",
    "\n",
    "        data1 = pd.DataFrame(data)\n",
    "        data1['sim'] = [simname]*len(data1)\n",
    "        data1['g-r'] = 1.646*(data1['V_mag'] - data1['R_mag']) - 0.139\n",
    "        return data1"
   ]
  },
  {
   "cell_type": "code",
   "execution_count": 2,
   "metadata": {},
   "outputs": [],
   "source": [
    "# from mpl_toolkits.axes_grid1 import make_axes_locatable\n",
    "from mpl_toolkits.axes_grid1.anchored_artists import AnchoredSizeBar\n",
    "\n",
    "def plt_halos_full(name,tfile,outfilebase,tfile_base,*halo_nums, width_wide=1500, width_narrow=800, circles_on_dm_only=False):\n",
    "\n",
    "    #min_mass = 1e9 #Minimum halo mass for analysis in solar masses\n",
    "    min_nstar =  100 #Minimum number of stars for\n",
    "    min_vmass = 1e8\n",
    "    min_noncontamFrac = 0.9 #Mass fraction in low mass DM particles\n",
    "\n",
    "    if halo_nums:\n",
    "        halo_nums = halo_nums[0]\n",
    "        \n",
    "    s = pynbody.load(tfile)\n",
    "    s.physical_units()\n",
    "    h = s.halos()\n",
    "    h_dummy = s.halos(dummy = True)\n",
    "    print('Loaded simulation')\n",
    "\n",
    "    fig1, ax1 = plt.subplots(2,3, figsize=(9.5,7),dpi=500)\n",
    "    \n",
    "    labels = []\n",
    "\n",
    "    i = 0\n",
    "    #Loop through all the halos, breaking when the virial mass is below min_mass\n",
    "    h1x = h_dummy[1].properties['Xc']\n",
    "    h1y = h_dummy[1].properties['Yc']\n",
    "    h1z = h_dummy[1].properties['Zc']\n",
    "    \n",
    "    width = width_wide\n",
    "    smin, smax = -width//2, width//2\n",
    "    print('Centering halo 1')\n",
    "    pynbody.analysis.halo.center(h[1])\n",
    "    \n",
    "    # h148\n",
    "#     dm_vmin, dm_vmax = 1e2, 1e8\n",
    "#     gas_vmin, gas_vmax = 1e2, 1e8\n",
    "#     star_vmin, star_vmax = 1e2, 1e9\n",
    "    \n",
    "\n",
    "    # h329 \n",
    "    dm_vmin, dm_vmax = 8e1, 8e7\n",
    "    gas_vmin, gas_vmax = 1e1, 3e7\n",
    "    star_vmin, star_vmax = 5e0, 1e8\n",
    "    \n",
    "    \n",
    "    print('Making DM image...')\n",
    "    im = pynbody.plot.sph.image(s.dm[pynbody.filt.Sphere('%s kpc' % str((smax-smin)))], width = '%s kpc' % str(smax-smin), cmap='Greys_r', \n",
    "                                av_z = 'rho', ret_im = True, show_cbar = False, noplot=True)\n",
    "    \n",
    "    im = ax1[0,0].imshow(im, norm=colors.LogNorm(), cmap='Greys_r', extent = [smin,smax,smin,smax], vmin=dm_vmin, vmax=dm_vmax,origin='lower')\n",
    "    \n",
    "    print('Making gas image...')\n",
    "    im = pynbody.plot.sph.image(s.gas[pynbody.filt.Sphere('%s kpc' % str((smax-smin)))], width = '%s kpc' % str(smax-smin), cmap='viridis', \n",
    "                                av_z = 'rho', ret_im = True, show_cbar = False, noplot=True)\n",
    "    \n",
    "    im = ax1[0,1].imshow(im, norm=colors.LogNorm(), cmap='viridis', extent = [smin,smax,smin,smax], vmin=gas_vmin, vmax=gas_vmax,origin='lower')\n",
    "\n",
    "    \n",
    "    print('Making star image...')\n",
    "    im = pynbody.plot.sph.image(s.s[pynbody.filt.Sphere('%s kpc' % str((smax-smin)))], width = '%s kpc' % str(smax-smin), cmap='cubehelix', \n",
    "                                av_z = 'rho', ret_im = True, show_cbar = False, noplot=True)\n",
    "    \n",
    "    my_cmap = copy.copy(mpl.cm.get_cmap('cubehelix')) # copy the default cmap\n",
    "    my_cmap.set_bad(my_cmap(0))\n",
    "    \n",
    "    im = ax1[0,2].imshow(im, norm=colors.LogNorm(), cmap=my_cmap, extent= [smin,smax,smin,smax], vmin=star_vmin, vmax=star_vmax,origin='lower')\n",
    "    \n",
    "    \n",
    "    width = width_narrow\n",
    "    smin, smax = -width//2, width//2\n",
    "    print('Centering halo 1')\n",
    "    pynbody.analysis.halo.center(h[1])\n",
    "    \n",
    "    print('Making zoomed DM image...')\n",
    "    im = pynbody.plot.sph.image(s.dm[pynbody.filt.Sphere('%s kpc' % str((smax-smin)))], width = '%s kpc' % str(smax-smin), cmap='Greys_r', \n",
    "                                av_z = 'rho', ret_im = True, show_cbar = False, noplot=True)\n",
    "    \n",
    "    im = ax1[1,0].imshow(im, norm=colors.LogNorm(), cmap='Greys_r', extent = [smin,smax,smin,smax], vmin=dm_vmin, vmax=dm_vmax,origin='lower')\n",
    "    \n",
    "    divider = make_axes_locatable(ax1[1,0])\n",
    "    cax = divider.new_vertical(size=\"5%\", pad=0.1, pack_start=True)\n",
    "    fig1.add_axes(cax)\n",
    "    cbar = fig1.colorbar(im, cax=cax, orientation=\"horizontal\")\n",
    "    cbar.set_label(r'Dark Matter Density [$\\mathrm{M}_{\\odot}\\ \\mathrm{kpc}^{-3}$]')\n",
    "    cbar.ax.minorticks_on()\n",
    "    \n",
    "    print('Making zoomed gas image...')\n",
    "    im = pynbody.plot.sph.image(s.gas[pynbody.filt.Sphere('%s kpc' % str((smax-smin)))], width = '%s kpc' % str(smax-smin), cmap='viridis', \n",
    "                                av_z = 'rho', ret_im = True, show_cbar = False, noplot=True)\n",
    "    \n",
    "    im = ax1[1,1].imshow(im, norm=colors.LogNorm(), cmap='viridis', extent = [smin,smax,smin,smax], vmin=gas_vmin, vmax=gas_vmax,origin='lower')\n",
    "    \n",
    "    divider = make_axes_locatable(ax1[1,1])\n",
    "    cax = divider.new_vertical(size=\"5%\", pad=0.1, pack_start=True)\n",
    "    fig1.add_axes(cax)\n",
    "    cbar = fig1.colorbar(im, cax=cax, orientation=\"horizontal\")\n",
    "    cbar.set_label(r'Gas Density [$\\mathrm{M}_{\\odot}\\ \\mathrm{kpc}^{-3}$]')\n",
    "    cbar.ax.minorticks_on()\n",
    "    \n",
    "    print('Making zoomed star image...')\n",
    "    im = pynbody.plot.sph.image(s.s[pynbody.filt.Sphere('%s kpc' % str((smax-smin)))], width = '%s kpc' % str(smax-smin), cmap='cubehelix', \n",
    "                                av_z = 'rho', ret_im = True, show_cbar = False, noplot=True)\n",
    "    \n",
    "    my_cmap = copy.copy(mpl.cm.get_cmap('cubehelix')) # copy the default cmap\n",
    "    my_cmap.set_bad(my_cmap(0))\n",
    "    \n",
    "    im = ax1[1,2].imshow(im, norm=colors.LogNorm(), cmap=my_cmap, extent= [smin,smax,smin,smax], vmin=star_vmin, vmax=star_vmax,origin='lower')\n",
    "    \n",
    "    divider = make_axes_locatable(ax1[1,2])\n",
    "    cax = divider.new_vertical(size=\"5%\", pad=0.1, pack_start=True)\n",
    "    fig1.add_axes(cax)\n",
    "    cbar = fig1.colorbar(im, cax=cax, orientation=\"horizontal\")\n",
    "    cbar.set_label(r'Stellar Density [$\\mathrm{M}_{\\odot}\\ \\mathrm{kpc}^{-3}$]')\n",
    "    cbar.ax.minorticks_on()\n",
    "    \n",
    "    data = read_file(name) \n",
    "    \n",
    "    h1rvir = 0\n",
    "    print('Adding circles...')\n",
    "    for ihalo in range(1,len(h)): #len(h)-1):\n",
    "        \n",
    "        if not halo_nums:\n",
    "            nstar = h_dummy[ihalo].properties['n_star']\n",
    "            fMhires = h_dummy[ihalo].properties['fMhires']\n",
    "            mass = h_dummy[ihalo].properties['mass']\n",
    "            valid_halo = (nstar >= min_nstar) and (fMhires >= min_noncontamFrac) and (mass >= min_vmass)\n",
    "        else:\n",
    "            valid_halo = str(h_dummy[ihalo].properties['halo_id']) in halo_nums\n",
    "\n",
    "            \n",
    "        if valid_halo:\n",
    "            labels.append(str(ihalo))\n",
    "            print(h_dummy[ihalo].properties['halo_id'])\n",
    "            \n",
    "            \n",
    "            x = (h_dummy[ihalo].properties['Xc']-h1x)/0.6776942783267969\n",
    "            y = (h_dummy[ihalo].properties['Yc']-h1y)/0.6776942783267969\n",
    "            z = (h_dummy[ihalo].properties['Zc']-h1z)/0.6776942783267969\n",
    "            rvir = h_dummy[ihalo].properties['Rvir']/0.6776942783267969\n",
    "            \n",
    "            \n",
    "            if float(data[data.haloid==ihalo].sSFR.tolist()[0]) < 1e-11:\n",
    "                colorVal = '#ff837a'\n",
    "            else:\n",
    "                colorVal = '#79aefc'\n",
    "            \n",
    "            if ihalo==1:\n",
    "                h1rvir = rvir\n",
    "                style = '-'\n",
    "                colorVal = 'w'\n",
    "                width=1.5\n",
    "            else:\n",
    "                width=1.\n",
    "                dist = math.sqrt(x*x + y*y + z*z)\n",
    "                if dist < h1rvir:\n",
    "                    style = '--'\n",
    "                else:\n",
    "                    style = '-'\n",
    "                    \n",
    "            \n",
    "                \n",
    "\n",
    "            \n",
    "            circlexy1 = plt.Circle((x,y),rvir,color = colorVal, linestyle=style, fill=False, linewidth=width)\n",
    "            circlexy2 = plt.Circle((x,y),rvir,color = colorVal, linestyle=style, fill=False, linewidth=width)\n",
    "            circlexy3 = plt.Circle((x,y),rvir,color = colorVal, linestyle=style, fill=False, linewidth=width)\n",
    "            circlexy4 = plt.Circle((x,y),rvir,color = colorVal, linestyle=style, fill=False, linewidth=width)\n",
    "            circlexy5 = plt.Circle((x,y),rvir,color = colorVal, linestyle=style, fill=False, linewidth=width)\n",
    "            circlexy6 = plt.Circle((x,y),rvir,color = colorVal, linestyle=style, fill=False, linewidth=width)\n",
    "            \n",
    "\n",
    "            ax1[0,0].add_artist(circlexy1)\n",
    "            ax1[1,0].add_artist(circlexy2)\n",
    "            \n",
    "            if ihalo==1:\n",
    "                ax1[0,1].add_artist(circlexy3)\n",
    "                ax1[1,1].add_artist(circlexy4)\n",
    "                ax1[0,2].add_artist(circlexy5)\n",
    "                ax1[1,2].add_artist(circlexy6)\n",
    "            \n",
    "            if not circles_on_dm_only:\n",
    "                ax1[0,1].add_artist(circlexy3)\n",
    "                ax1[1,1].add_artist(circlexy4)\n",
    "                ax1[0,2].add_artist(circlexy5)\n",
    "                ax1[1,2].add_artist(circlexy6)\n",
    "\n",
    "            fig1.show()\n",
    "            i += 1\n",
    "            \n",
    "            \n",
    "    #ax1.set_title(tfile_base)\n",
    "    #ax1.legend(labels,loc = 1)\n",
    "    \n",
    "    for j in [0,1]:\n",
    "        for i in [0,1,2]:\n",
    "            ax1[j,i].tick_params(axis='x',which='both',bottom=False,top=False,labelbottom=False)\n",
    "            ax1[j,i].tick_params(axis='y',which='both',left=False,right=False,labelleft=False)\n",
    "\n",
    "    \n",
    "\n",
    "    plt.subplots_adjust(wspace=0.05,hspace=0.02)\n",
    "    fig1.show()\n",
    "    fig1.savefig(outfilebase + '.halos_xy.png',dpi=300)\n",
    "\n",
    "    fig1.clear()"
   ]
  },
  {
   "cell_type": "code",
   "execution_count": 15,
   "metadata": {},
   "outputs": [],
   "source": [
    "# from mpl_toolkits.axes_grid1 import make_axes_locatable\n",
    "from mpl_toolkits.axes_grid1.anchored_artists import AnchoredSizeBar\n",
    "\n",
    "def plt_halos(name,tfile,outfilebase,tfile_base,*halo_nums, width=1000, circles_on_dm_only=True):\n",
    "\n",
    "    #min_mass = 1e9 #Minimum halo mass for analysis in solar masses\n",
    "    min_nstar =  100 #Minimum number of stars for\n",
    "    min_vmass = 1e8\n",
    "    min_noncontamFrac = 0.9 #Mass fraction in low mass DM particles\n",
    "\n",
    "    if halo_nums:\n",
    "        halo_nums = halo_nums[0]\n",
    "        \n",
    "    s = pynbody.load(tfile)\n",
    "    s.physical_units()\n",
    "    h = s.halos()\n",
    "    h_dummy = s.halos(dummy = True)\n",
    "    print('Loaded simulation')\n",
    "    \n",
    "    \n",
    "    plt.style.use('dark_background')\n",
    "    fig1, ax1 = plt.subplots(1,3, figsize=(9.5,3.7),dpi=500)\n",
    "    \n",
    "    labels = []\n",
    "\n",
    "    i = 0\n",
    "\n",
    "    h1x = h_dummy[1].properties['Xc']\n",
    "    h1y = h_dummy[1].properties['Yc']\n",
    "    h1z = h_dummy[1].properties['Zc']\n",
    "    \n",
    "#     #h148\n",
    "    dm_vmin, dm_vmax = 1e2, 9e7\n",
    "    gas_vmin, gas_vmax = 1e2, 9e7\n",
    "    star_vmin, star_vmax = 1e2, 1e9\n",
    "\n",
    "#     # h229\n",
    "#     dm_vmin, dm_vmax = 1e2, 9e7\n",
    "#     gas_vmin, gas_vmax = 1e2, 2e7\n",
    "#     star_vmin, star_vmax = 1e2, 4e8\n",
    "    \n",
    "#     # h329 \n",
    "#     dm_vmin, dm_vmax = 8e1, 8e7\n",
    "#     gas_vmin, gas_vmax = 1e1, 3e7\n",
    "#     star_vmin, star_vmax = 5e0, 1e8\n",
    "    \n",
    "    \n",
    "    smin, smax = -width//2, width//2\n",
    "    print('Centering halo 1')\n",
    "    pynbody.analysis.halo.center(h[1])\n",
    "    \n",
    "    print('Making DM image...')\n",
    "    im = pynbody.plot.sph.image(s.dm[pynbody.filt.Sphere('%s kpc' % str((smax-smin)))], width = '%s kpc' % str(smax-smin), cmap='Greys_r', \n",
    "                                av_z = 'rho', ret_im = True, show_cbar = False, noplot=True)\n",
    "    \n",
    "    im = ax1[0].imshow(im, norm=colors.LogNorm(), cmap='Greys_r', extent = [smin,smax,smin,smax], vmin=dm_vmin, vmax=dm_vmax,origin='lower')\n",
    "    \n",
    "    divider = make_axes_locatable(ax1[0])\n",
    "    cax = divider.new_vertical(size=\"5%\", pad=0.1, pack_start=True)\n",
    "    fig1.add_axes(cax)\n",
    "    cbar = fig1.colorbar(im, cax=cax, orientation=\"horizontal\")\n",
    "    cbar.set_label(r'Dark Matter Density [$\\mathrm{M}_{\\odot}\\ \\mathrm{kpc}^{-3}$]')\n",
    "    cbar.ax.minorticks_on()\n",
    "    \n",
    "    print('Making gas image...')\n",
    "    im = pynbody.plot.sph.image(s.gas[pynbody.filt.Sphere('%s kpc' % str((smax-smin)))], width = '%s kpc' % str(smax-smin), cmap='viridis', \n",
    "                                av_z = 'rho', ret_im = True, show_cbar = False, noplot=True)\n",
    "    \n",
    "    im = ax1[1].imshow(im, norm=colors.LogNorm(), cmap='viridis', extent = [smin,smax,smin,smax], vmin=gas_vmin, vmax=gas_vmax,origin='lower')\n",
    "    \n",
    "    divider = make_axes_locatable(ax1[1])\n",
    "    cax = divider.new_vertical(size=\"5%\", pad=0.1, pack_start=True)\n",
    "    fig1.add_axes(cax)\n",
    "    cbar = fig1.colorbar(im, cax=cax, orientation=\"horizontal\")\n",
    "    cbar.set_label(r'Gas Density [$\\mathrm{M}_{\\odot}\\ \\mathrm{kpc}^{-3}$]')\n",
    "    cbar.ax.minorticks_on()\n",
    "    \n",
    "    print('Making star image...')\n",
    "    im = pynbody.plot.sph.image(s.s[pynbody.filt.Sphere('%s kpc' % str((smax-smin)))], width = '%s kpc' % str(smax-smin), cmap='cubehelix', \n",
    "                                av_z = 'rho', ret_im = True, show_cbar = False, noplot=True)\n",
    "    \n",
    "    my_cmap = copy.copy(mpl.cm.get_cmap('cubehelix')) # copy the default cmap\n",
    "    my_cmap.set_bad(my_cmap(0))\n",
    "    \n",
    "    im = ax1[2].imshow(im, norm=colors.LogNorm(), cmap=my_cmap, extent= [smin,smax,smin,smax], vmin=star_vmin, vmax=star_vmax,origin='lower')\n",
    "    \n",
    "    divider = make_axes_locatable(ax1[2])\n",
    "    cax = divider.new_vertical(size=\"5%\", pad=0.1, pack_start=True)\n",
    "    fig1.add_axes(cax)\n",
    "    cbar = fig1.colorbar(im, cax=cax, orientation=\"horizontal\")\n",
    "    cbar.set_label(r'Stellar Density [$\\mathrm{M}_{\\odot}\\ \\mathrm{kpc}^{-3}$]')\n",
    "    cbar.ax.minorticks_on()\n",
    "    \n",
    "    data = read_file(name) \n",
    "    \n",
    "    h1rvir = 0\n",
    "    \n",
    "    print('Adding circles...')\n",
    "    for ihalo in range(1,len(h)): #len(h)-1):\n",
    "        \n",
    "        if not halo_nums:\n",
    "            nstar = h_dummy[ihalo].properties['n_star']\n",
    "            fMhires = h_dummy[ihalo].properties['fMhires']\n",
    "            mass = h_dummy[ihalo].properties['mass']\n",
    "            valid_halo = (nstar >= min_nstar) and (fMhires >= min_noncontamFrac) and (mass >= min_vmass)\n",
    "        else:\n",
    "            valid_halo = str(h_dummy[ihalo].properties['halo_id']) in halo_nums\n",
    "\n",
    "            \n",
    "        if valid_halo:\n",
    "            labels.append(str(ihalo))\n",
    "            print(h_dummy[ihalo].properties['halo_id'])\n",
    "            \n",
    "            \n",
    "            x = (h_dummy[ihalo].properties['Xc']-h1x)/0.6776942783267969\n",
    "            y = (h_dummy[ihalo].properties['Yc']-h1y)/0.6776942783267969\n",
    "            z = (h_dummy[ihalo].properties['Zc']-h1z)/0.6776942783267969\n",
    "            rvir = h_dummy[ihalo].properties['Rvir']/0.6776942783267969\n",
    "            \n",
    "            \n",
    "            if float(data[data.haloid==ihalo].sSFR.tolist()[0]) < 1e-11:\n",
    "                colorVal = '#ff837a'\n",
    "            else:\n",
    "                colorVal = '#79aefc'\n",
    "            \n",
    "            if ihalo==1:\n",
    "                h1rvir = rvir\n",
    "                style = '-'\n",
    "                colorVal = 'w'\n",
    "                width=1.5\n",
    "            else:\n",
    "                width=1.\n",
    "                dist = math.sqrt(x*x + y*y + z*z)\n",
    "                if dist < h1rvir:\n",
    "                    style = '--'\n",
    "                else:\n",
    "                    style = '-'\n",
    "                    \n",
    "            \n",
    "                \n",
    "\n",
    "            \n",
    "            circlexy1 = plt.Circle((x,y),rvir,color = colorVal, linestyle=style, fill=False, linewidth=width)\n",
    "\n",
    "            circlexy3 = plt.Circle((x,y),rvir,color = colorVal, linestyle=style, fill=False, linewidth=width)\n",
    "            circlexy4 = plt.Circle((x,y),rvir,color = colorVal, linestyle=style, fill=False, linewidth=width)\n",
    "            \n",
    "\n",
    "            ax1[0].add_artist(circlexy1)\n",
    "            \n",
    "            if ihalo==1:\n",
    "                ax1[1].add_artist(circlexy3)\n",
    "                ax1[2].add_artist(circlexy4)\n",
    "            \n",
    "            if not circles_on_dm_only:\n",
    "                ax1[1].add_artist(circlexy3)\n",
    "                ax1[2].add_artist(circlexy4)\n",
    "\n",
    "            fig1.show()\n",
    "            i += 1\n",
    "            \n",
    "            \n",
    "    #ax1.set_title(tfile_base)\n",
    "    #ax1.legend(labels,loc = 1)\n",
    "    \n",
    "    for i in [0,1,2]:\n",
    "        ax1[i].tick_params(axis='x',which='both',bottom=False,top=False,labelbottom=False)\n",
    "        ax1[i].tick_params(axis='y',which='both',left=False,right=False,labelleft=False)\n",
    "\n",
    "    \n",
    "\n",
    "    plt.subplots_adjust(wspace=0.05,hspace=0.01)\n",
    "    fig1.show()\n",
    "    fig1.savefig(outfilebase + '.halos_xy.png',dpi=300)\n",
    "\n",
    "    fig1.clear()"
   ]
  },
  {
   "cell_type": "markdown",
   "metadata": {},
   "source": [
    "# Sandra"
   ]
  },
  {
   "cell_type": "code",
   "execution_count": 17,
   "metadata": {},
   "outputs": [
    {
     "name": "stdout",
     "output_type": "stream",
     "text": [
      "Loaded simulation\n",
      "Centering halo 1\n",
      "Making DM image...\n",
      "Making gas image...\n",
      "Making star image...\n",
      "Adding circles...\n",
      "1\n"
     ]
    },
    {
     "name": "stderr",
     "output_type": "stream",
     "text": [
      "/home/akinshol/anaconda3/envs/py37/lib/python3.7/site-packages/ipykernel_launcher.py:159: UserWarning: Matplotlib is currently using module://ipykernel.pylab.backend_inline, which is a non-GUI backend, so cannot show the figure.\n"
     ]
    },
    {
     "name": "stdout",
     "output_type": "stream",
     "text": [
      "2\n",
      "3\n",
      "5\n",
      "6\n",
      "9\n",
      "10\n",
      "11\n",
      "13\n",
      "14\n",
      "21\n",
      "24\n",
      "27\n",
      "28\n",
      "32\n",
      "36\n",
      "37\n",
      "45\n",
      "61\n",
      "68\n",
      "80\n",
      "96\n",
      "128\n",
      "163\n",
      "265\n",
      "278\n",
      "283\n",
      "329\n"
     ]
    },
    {
     "name": "stderr",
     "output_type": "stream",
     "text": [
      "/home/akinshol/anaconda3/envs/py37/lib/python3.7/site-packages/ipykernel_launcher.py:173: UserWarning: Matplotlib is currently using module://ipykernel.pylab.backend_inline, which is a non-GUI backend, so cannot show the figure.\n"
     ]
    },
    {
     "data": {
      "text/plain": [
       "<Figure size 4750x1850 with 0 Axes>"
      ]
     },
     "metadata": {},
     "output_type": "display_data"
    }
   ],
   "source": [
    "prefix_outfile = '/home/akinshol/Data/S20/'\n",
    "\n",
    "tfile_base = 'h148.cosmo50PLK.3072g3HbwK1BH.004096'\n",
    "tfile = '/home/christenc/Data/Sims/h148.cosmo50PLK.3072g/h148.cosmo50PLK.3072g3HbwK1BH/snapshots_200bkgdens/h148.cosmo50PLK.3072g3HbwK1BH.004096'   \n",
    "\n",
    "outfile_base = prefix_outfile + 'h148_nocircles'\n",
    "plt_halos('h148',tfile,outfile_base,tfile_base, circles_on_dm_only=False)"
   ]
  },
  {
   "cell_type": "markdown",
   "metadata": {},
   "source": [
    "# Ruth"
   ]
  },
  {
   "cell_type": "code",
   "execution_count": 12,
   "metadata": {},
   "outputs": [
    {
     "name": "stdout",
     "output_type": "stream",
     "text": [
      "Loaded simulation\n",
      "Centering halo 1\n",
      "Making DM image...\n",
      "Making gas image...\n",
      "Making star image...\n"
     ]
    },
    {
     "name": "stderr",
     "output_type": "stream",
     "text": [
      "/home/akinshol/anaconda3/envs/py37/lib/python3.7/site-packages/pynbody/array.py:346: RuntimeWarning: divide by zero encountered in true_divide\n",
      "  return np.ndarray.__truediv__(self, rhs)\n",
      "/home/akinshol/anaconda3/envs/py37/lib/python3.7/site-packages/pynbody/array.py:346: RuntimeWarning: invalid value encountered in true_divide\n",
      "  return np.ndarray.__truediv__(self, rhs)\n",
      "/home/akinshol/anaconda3/envs/py37/lib/python3.7/site-packages/ipykernel_launcher.py:173: UserWarning: Matplotlib is currently using module://ipykernel.pylab.backend_inline, which is a non-GUI backend, so cannot show the figure.\n"
     ]
    },
    {
     "data": {
      "text/plain": [
       "<Figure size 4750x1850 with 0 Axes>"
      ]
     },
     "metadata": {},
     "output_type": "display_data"
    }
   ],
   "source": [
    "prefix_outfile = '/home/akinshol/Data/S20/'\n",
    "\n",
    "tfile_base = 'h229.cosmo50PLK.3072gst5HbwK1BH.004096'\n",
    "tfile = '/home/christenc/Data/Sims/h229.cosmo50PLK.3072g/h229.cosmo50PLK.3072gst5HbwK1BH/snapshots_200bkgdens/h229.cosmo50PLK.3072gst5HbwK1BH.004096'\n",
    "\n",
    "outfile_base = prefix_outfile + 'h229'\n",
    "plt_halos('h229',tfile,outfile_base,tfile_base)"
   ]
  },
  {
   "cell_type": "code",
   "execution_count": null,
   "metadata": {},
   "outputs": [],
   "source": []
  },
  {
   "cell_type": "markdown",
   "metadata": {},
   "source": [
    "# Sonia"
   ]
  },
  {
   "cell_type": "code",
   "execution_count": 13,
   "metadata": {},
   "outputs": [
    {
     "name": "stdout",
     "output_type": "stream",
     "text": [
      "Loaded simulation\n",
      "Centering halo 1\n",
      "Making DM image...\n",
      "Making gas image...\n",
      "Making star image...\n"
     ]
    },
    {
     "name": "stderr",
     "output_type": "stream",
     "text": [
      "/home/akinshol/anaconda3/envs/py37/lib/python3.7/site-packages/pynbody/array.py:346: RuntimeWarning: divide by zero encountered in true_divide\n",
      "  return np.ndarray.__truediv__(self, rhs)\n",
      "/home/akinshol/anaconda3/envs/py37/lib/python3.7/site-packages/pynbody/array.py:346: RuntimeWarning: invalid value encountered in true_divide\n",
      "  return np.ndarray.__truediv__(self, rhs)\n",
      "/home/akinshol/anaconda3/envs/py37/lib/python3.7/site-packages/ipykernel_launcher.py:173: UserWarning: Matplotlib is currently using module://ipykernel.pylab.backend_inline, which is a non-GUI backend, so cannot show the figure.\n"
     ]
    },
    {
     "data": {
      "text/plain": [
       "<Figure size 4750x1850 with 0 Axes>"
      ]
     },
     "metadata": {},
     "output_type": "display_data"
    }
   ],
   "source": [
    "prefix_outfile = '/home/akinshol/Data/S20/'\n",
    "\n",
    "tfile_base = 'h242.cosmo50PLK.3072gst5HbwK1BH.004096'\n",
    "tfile = '/home/christenc/Data/Sims/h242.cosmo50PLK.3072g/h242.cosmo50PLK.3072gst5HbwK1BH/snapshots_200bkgdens/h242.cosmo50PLK.3072gst5HbwK1BH.004096'\n",
    "\n",
    "outfile_base = prefix_outfile + 'h242'\n",
    "plt_halos('h242',tfile,outfile_base,tfile_base)"
   ]
  },
  {
   "cell_type": "markdown",
   "metadata": {},
   "source": [
    "# Elena"
   ]
  },
  {
   "cell_type": "code",
   "execution_count": 14,
   "metadata": {},
   "outputs": [
    {
     "name": "stdout",
     "output_type": "stream",
     "text": [
      "Loaded simulation\n",
      "Centering halo 1\n",
      "Making DM image...\n",
      "Making gas image...\n",
      "Making star image...\n"
     ]
    },
    {
     "name": "stderr",
     "output_type": "stream",
     "text": [
      "/home/akinshol/anaconda3/envs/py37/lib/python3.7/site-packages/pynbody/array.py:346: RuntimeWarning: divide by zero encountered in true_divide\n",
      "  return np.ndarray.__truediv__(self, rhs)\n",
      "/home/akinshol/anaconda3/envs/py37/lib/python3.7/site-packages/pynbody/array.py:346: RuntimeWarning: invalid value encountered in true_divide\n",
      "  return np.ndarray.__truediv__(self, rhs)\n",
      "/home/akinshol/anaconda3/envs/py37/lib/python3.7/site-packages/ipykernel_launcher.py:173: UserWarning: Matplotlib is currently using module://ipykernel.pylab.backend_inline, which is a non-GUI backend, so cannot show the figure.\n"
     ]
    },
    {
     "data": {
      "text/plain": [
       "<Figure size 4750x1850 with 0 Axes>"
      ]
     },
     "metadata": {},
     "output_type": "display_data"
    }
   ],
   "source": [
    "prefix_outfile = '/home/akinshol/Data/S20/'\n",
    "\n",
    "tfile_base = 'h329.cosmo50PLK.3072gst5HbwK1BH.004096'\n",
    "tfile = '/home/christenc/Data/Sims/h329.cosmo50PLK.3072g/h329.cosmo50PLK.3072gst5HbwK1BH/snapshots_200bkgdens/h329.cosmo50PLK.3072gst5HbwK1BH.004096'\n",
    "\n",
    "outfile_base = prefix_outfile + 'h329'\n",
    "plt_halos('h329',tfile,outfile_base,tfile_base)"
   ]
  },
  {
   "cell_type": "code",
   "execution_count": null,
   "metadata": {},
   "outputs": [],
   "source": []
  },
  {
   "cell_type": "code",
   "execution_count": null,
   "metadata": {},
   "outputs": [],
   "source": []
  },
  {
   "cell_type": "code",
   "execution_count": null,
   "metadata": {},
   "outputs": [],
   "source": []
  },
  {
   "cell_type": "code",
   "execution_count": null,
   "metadata": {},
   "outputs": [],
   "source": []
  },
  {
   "cell_type": "code",
   "execution_count": null,
   "metadata": {},
   "outputs": [],
   "source": []
  },
  {
   "cell_type": "code",
   "execution_count": null,
   "metadata": {},
   "outputs": [],
   "source": []
  },
  {
   "cell_type": "code",
   "execution_count": 26,
   "metadata": {},
   "outputs": [
    {
     "name": "stdout",
     "output_type": "stream",
     "text": [
      "Loaded simulation\n",
      "Centering halo 1\n",
      "Making DM image...\n",
      "Making gas image...\n",
      "Making star image...\n",
      "Centering halo 1\n",
      "Making zoomed DM image...\n",
      "Making zoomed gas image...\n",
      "Making zoomed star image...\n",
      "Adding circles...\n",
      "1\n"
     ]
    },
    {
     "name": "stderr",
     "output_type": "stream",
     "text": [
      "/home/akinshol/anaconda3/envs/py37/lib/python3.7/site-packages/ipykernel_launcher.py:181: UserWarning: Matplotlib is currently using module://ipykernel.pylab.backend_inline, which is a non-GUI backend, so cannot show the figure.\n"
     ]
    },
    {
     "name": "stdout",
     "output_type": "stream",
     "text": [
      "11\n",
      "33\n",
      "133\n",
      "137\n"
     ]
    },
    {
     "name": "stderr",
     "output_type": "stream",
     "text": [
      "/home/akinshol/anaconda3/envs/py37/lib/python3.7/site-packages/ipykernel_launcher.py:196: UserWarning: Matplotlib is currently using module://ipykernel.pylab.backend_inline, which is a non-GUI backend, so cannot show the figure.\n"
     ]
    },
    {
     "data": {
      "text/plain": [
       "<Figure size 4750x3500 with 0 Axes>"
      ]
     },
     "metadata": {},
     "output_type": "display_data"
    }
   ],
   "source": [
    "prefix_outfile = '/home/akinshol/Data/Final Notebooks/images/'\n",
    "\n",
    "tfile_base = 'h329.cosmo50PLK.3072gst5HbwK1BH.004096'\n",
    "tfile = '/home/christenc/Data/Sims/h329.cosmo50PLK.3072g/h329.cosmo50PLK.3072gst5HbwK1BH/snapshots_200bkgdens/h329.cosmo50PLK.3072gst5HbwK1BH.004096'   \n",
    "\n",
    "outfile_base = prefix_outfile + 'h329_full'\n",
    "plt_halos('h329',tfile,outfile_base,tfile_base, circles_on_dm_only=True)"
   ]
  },
  {
   "cell_type": "code",
   "execution_count": 69,
   "metadata": {},
   "outputs": [],
   "source": [
    "data = read_file('h329')"
   ]
  },
  {
   "cell_type": "code",
   "execution_count": 75,
   "metadata": {},
   "outputs": [
    {
     "data": {
      "text/plain": [
       "4.124049056743271e-11"
      ]
     },
     "execution_count": 75,
     "metadata": {},
     "output_type": "execute_result"
    }
   ],
   "source": [
    "data[data.haloid==11].sSFR.tolist()[0]"
   ]
  },
  {
   "cell_type": "code",
   "execution_count": 4,
   "metadata": {},
   "outputs": [
    {
     "name": "stderr",
     "output_type": "stream",
     "text": [
      "/home/akinshol/anaconda3/envs/py37/lib/python3.7/site-packages/ipykernel_launcher.py:3: UserWarning: Matplotlib is currently using module://ipykernel.pylab.backend_inline, which is a non-GUI backend, so cannot show the figure.\n",
      "  This is separate from the ipykernel package so we can avoid doing imports until\n"
     ]
    },
    {
     "data": {
      "image/png": "[encoded data removed]",
      "text/plain": [
       "<Figure size 432x288 with 6 Axes>"
      ]
     },
     "metadata": {
      "needs_background": "light"
     },
     "output_type": "display_data"
    }
   ],
   "source": [
    "fig, ax = plt.subplots(2,3)\n",
    "ax[1,2].plot([1,2],[3,4])\n",
    "fig.show()"
   ]
  },
  {
   "cell_type": "code",
   "execution_count": 12,
   "metadata": {},
   "outputs": [
    {
     "ename": "NameError",
     "evalue": "name 'im' is not defined",
     "output_type": "error",
     "traceback": [
      "\u001b[0;31m---------------------------------------------------------------------------\u001b[0m",
      "\u001b[0;31mNameError\u001b[0m                                 Traceback (most recent call last)",
      "\u001b[0;32m<ipython-input-12-a9282a591582>\u001b[0m in \u001b[0;36m<module>\u001b[0;34m\u001b[0m\n\u001b[0;32m----> 1\u001b[0;31m \u001b[0mplt\u001b[0m\u001b[0;34m.\u001b[0m\u001b[0mimshow\u001b[0m\u001b[0;34m(\u001b[0m\u001b[0mim\u001b[0m\u001b[0;34m)\u001b[0m\u001b[0;34m\u001b[0m\u001b[0;34m\u001b[0m\u001b[0m\n\u001b[0m",
      "\u001b[0;31mNameError\u001b[0m: name 'im' is not defined"
     ]
    }
   ],
   "source": []
  },
  {
   "cell_type": "code",
   "execution_count": 18,
   "metadata": {},
   "outputs": [
    {
     "ename": "AttributeError",
     "evalue": "'LinearSegmentedColormap' object has no attribute 'colors'",
     "output_type": "error",
     "traceback": [
      "\u001b[0;31m---------------------------------------------------------------------------\u001b[0m",
      "\u001b[0;31mAttributeError\u001b[0m                            Traceback (most recent call last)",
      "\u001b[0;32m<ipython-input-18-6f18121060da>\u001b[0m in \u001b[0;36m<module>\u001b[0;34m\u001b[0m\n\u001b[1;32m      1\u001b[0m \u001b[0mmy_cmap\u001b[0m \u001b[0;34m=\u001b[0m \u001b[0mcopy\u001b[0m\u001b[0;34m.\u001b[0m\u001b[0mcopy\u001b[0m\u001b[0;34m(\u001b[0m\u001b[0mmpl\u001b[0m\u001b[0;34m.\u001b[0m\u001b[0mcm\u001b[0m\u001b[0;34m.\u001b[0m\u001b[0mget_cmap\u001b[0m\u001b[0;34m(\u001b[0m\u001b[0;34m'cubehelix'\u001b[0m\u001b[0;34m)\u001b[0m\u001b[0;34m)\u001b[0m \u001b[0;31m# copy the default cmap\u001b[0m\u001b[0;34m\u001b[0m\u001b[0;34m\u001b[0m\u001b[0m\n\u001b[0;32m----> 2\u001b[0;31m \u001b[0mmy_cmap\u001b[0m\u001b[0;34m.\u001b[0m\u001b[0mset_bad\u001b[0m\u001b[0;34m(\u001b[0m\u001b[0mmy_cmap\u001b[0m\u001b[0;34m.\u001b[0m\u001b[0mcolors\u001b[0m\u001b[0;34m[\u001b[0m\u001b[0;36m0\u001b[0m\u001b[0;34m]\u001b[0m\u001b[0;34m)\u001b[0m\u001b[0;34m\u001b[0m\u001b[0;34m\u001b[0m\u001b[0m\n\u001b[0m",
      "\u001b[0;31mAttributeError\u001b[0m: 'LinearSegmentedColormap' object has no attribute 'colors'"
     ]
    }
   ],
   "source": [
    "my_cmap = copy.copy(mpl.cm.get_cmap('cubehelix')) # copy the default cmap\n",
    "my_cmap.set_bad(my_cmap.colors[0])"
   ]
  },
  {
   "cell_type": "code",
   "execution_count": 24,
   "metadata": {},
   "outputs": [
    {
     "data": {
      "text/plain": [
       "(0.0, 0.0, 0.0, 1.0)"
      ]
     },
     "execution_count": 24,
     "metadata": {},
     "output_type": "execute_result"
    }
   ],
   "source": [
    "my_cmap(0)"
   ]
  },
  {
   "cell_type": "code",
   "execution_count": null,
   "metadata": {},
   "outputs": [],
   "source": [
    "['h329','h329','h148','h148','h148','h148']\n",
    "[33,137,96,127,278,329]\n"
   ]
  },
  {
   "cell_type": "code",
   "execution_count": null,
   "metadata": {},
   "outputs": [],
   "source": [
    "for sim in ['h329','h242','h229','h148']:\n",
    "    if sim=='h148':\n",
    "        snapnums, haloids = snapnums_h148, haloids_h148\n",
    "    if sim=='h229':\n",
    "        snapnums, haloids = snapnums_h229, haloids_h229\n",
    "    if sim=='h242':\n",
    "        snapnums, haloids = snapnums_h242, haloids_h242\n",
    "    if sim=='h329':\n",
    "        snapnums, haloids = snapnums_h329, haloids_h329\n",
    "\n",
    "    f_base = f'/home/christenc/Data/Sims/{sim}.cosmo50PLK.3072g/{sim}.cosmo50PLK.3072gst5HbwK1BH/snapshots_200bkgdens/{sim}.cosmo50PLK.3072gst5HbwK1BH.'\n",
    "    if sim=='h148':\n",
    "        f_base = '/home/christenc/Data/Sims/h148.cosmo50PLK.3072g/h148.cosmo50PLK.3072g3HbwK1BH/snapshots_200bkgdens/h148.cosmo50PLK.3072g3HbwK1BH.'\n",
    "\n",
    "    lbts = np.array([])\n",
    "    for i, snapnum in enumerate(snapnums):\n",
    "        f = f_base + snapnums[i]\n",
    "        s = pynbody.load(f)\n",
    "        lbt = age - s.properties['time'].in_units('Gyr')\n",
    "        lbts = np.append(lbts,lbt)\n",
    "\n",
    "\n",
    "    print(f'Beginning sim {sim}')\n",
    "    for haloid in list(np.unique(data[data.sim==sim].haloid)):\n",
    "        d = data[(data.sim==sim)&(data.haloid==haloid)]\n",
    "        timesteps = read_timesteps(sim)\n",
    "        timesteps = timesteps[timesteps.z0haloid==haloid]\n",
    "\n",
    "        tinfall = d.tinfall.tolist()[0]\n",
    "        tinfall_lower = d.tinfall_lower.tolist()[0]\n",
    "        tinfall_upper = d.tinfall_upper.tolist()[0]\n",
    "\n",
    "        tquench = d.tquench.tolist()[0]\n",
    "        tquench_lower = d.tquench_lower.tolist()[0]\n",
    "        tquench_upper = d.tquench_upper.tolist()[0]\n",
    "\n",
    "        n_star = d.n_star.tolist()[0]\n",
    "        z0_M_star = d.M_star.tolist()[0]\n",
    "        is_quenched = np.array(d.quenched,dtype=bool)[0]\n",
    "\n",
    "        Pram = timesteps.Pram.tolist()[0]\n",
    "        Prest = timesteps.Prest.tolist()[0]\n",
    "\n",
    "\n",
    "        i = np.argmin(np.abs(lbts-tinfall)) # infall snapshot index\n",
    "        f = f_base + snapnums[i] # infall snapshot filepath\n",
    "        s = pynbody.load(f) # load in the snapshot at infall\n",
    "        s.physical_units()\n",
    "        h = s.halos()"
   ]
  }
 ],
 "metadata": {
  "kernelspec": {
   "display_name": "Python 3",
   "language": "python",
   "name": "python3"
  },
  "language_info": {
   "codemirror_mode": {
    "name": "ipython",
    "version": 3
   },
   "file_extension": ".py",
   "mimetype": "text/x-python",
   "name": "python",
   "nbconvert_exporter": "python",
   "pygments_lexer": "ipython3",
   "version": "3.7.3"
  }
 },
 "nbformat": 4,
 "nbformat_minor": 4
}
