{
 "cells": [
  {
   "cell_type": "markdown",
   "id": "0f312837",
   "metadata": {},
   "source": [
    "## Tangos"
   ]
  },
  {
   "cell_type": "code",
   "execution_count": null,
   "id": "a4aa4201",
   "metadata": {},
   "outputs": [],
   "source": [
    "import os\n",
    "os.environ['TANGOS_SIMULATION_FOLDER'] = '/home/selvani/MAP/Sims/cptmarvel.cosmo25cmb/cptmarvel.cosmo25cmb.4096g5HbwK1BH/'\n",
    "os.environ['TANGOS_DB_CONNECTION'] = '/home/selvani/MAP/Data/Marvel_r200.db'"
   ]
  },
  {
   "cell_type": "code",
   "execution_count": null,
   "id": "f7f7d50f",
   "metadata": {},
   "outputs": [],
   "source": [
    "import tangos\n",
    "tangos.init_db(\"data.db\")\n",
    "halo = tangos.get_halo(\"tutorial_gadget/snapshot_020/halo_10\")"
   ]
  },
  {
   "cell_type": "code",
   "execution_count": null,
   "id": "30b9fbd7",
   "metadata": {},
   "outputs": [],
   "source": [
    "# first, find all the things that merge into the major progenitor branch\n",
    "import tangos.examples.mergers as mergers\n",
    "redshift, ratio, progenitor_halos = mergers.get_mergers_of_major_progenitor(halo)\n",
    "# each item of progenitor_halos is a pair; the first is the major progenitor, the second is the thing merging into it\n",
    "merging_structures = [x[1] for x in progenitor_halos] \n"
   ]
  },
  {
   "cell_type": "code",
   "execution_count": null,
   "id": "3ce86116",
   "metadata": {},
   "outputs": [],
   "source": [
    "# now here are your properties:\n",
    "\n",
    "mass_max_tangos_object = [m.calculate('find_progenitor(mass, \"max\")') for m in merging_structures]\n"
   ]
  },
  {
   "cell_type": "code",
   "execution_count": null,
   "id": "51461ef2",
   "metadata": {},
   "outputs": [],
   "source": [
    "max_mass = [m['mass'] for m in mass_max_tangos_object]\n",
    "mass_at_infall = [m['mass'] for m in merging_structures]\n",
    "time_of_accretion = [m.timestep.time_gyr for m in merging_structures]\n",
    "time_max_mass = [m.timestep.time_gyr for m in mass_max_tangos_object]\n",
    "halo_numbers = [m.calculate_for_progenitors('halo_number()') for m in merging_structures]"
   ]
  },
  {
   "cell_type": "code",
   "execution_count": null,
   "id": "dac62a2c",
   "metadata": {},
   "outputs": [],
   "source": []
  }
 ],
 "metadata": {
  "kernelspec": {
   "display_name": "Python 3 (ipykernel)",
   "language": "python",
   "name": "python3"
  }
 },
 "nbformat": 4,
 "nbformat_minor": 5
}
