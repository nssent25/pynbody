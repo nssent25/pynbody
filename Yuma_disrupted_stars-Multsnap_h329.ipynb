{
 "cells": [
  {
   "cell_type": "code",
   "execution_count": 1,
   "id": "f2a308c8-24a1-4e7f-9f5a-b5d28be14baf",
   "metadata": {},
   "outputs": [],
   "source": [
    "import pynbody as pb\n",
    "import numpy as np\n",
    "import pandas as pd\n",
    "import glob\n",
    "import os\n",
    "import h5py\n",
    "import tables\n",
    "import matplotlib.pyplot as plt\n",
    "import matplotlib.animation as animation\n",
    "import imageio\n",
    "from natsort import natsorted\n",
    "import importlib.util\n",
    "import sys\n",
    "from pathlib import Path\n",
    "from mpl_toolkits.mplot3d import Axes3D\n",
    "import ast\n",
    "import matplotlib.patches as patches\n",
    "os.chdir('/home/takeichi/MAP/halo_trace')\n",
    "import halo_trace as ht\n",
    "from halo_trace import tracingCopy1 as tracing\n",
    "file_path = '/home/takeichi/MAP/Juan_startrace/methods/src/jstreams/star_traceCopy.py'\n",
    "module_name = 'star_trace'\n",
    "\n",
    "spec = importlib.util.spec_from_file_location(module_name, file_path)\n",
    "module = importlib.util.module_from_spec(spec)\n",
    "spec.loader.exec_module(module)\n",
    "\n",
    "pb.config['halo-class-priority'] = ['HaloNumberCatalogue', 'AHFCatalogue',\n",
    "  'AmigaGrpCatalogue',\n",
    "  'VelociraptorCatalogue',\n",
    "  'SubFindHDFHaloCatalogue',\n",
    "  'RockstarCatalogue', \n",
    "  'SubfindCatalogue',\n",
    "  'NewAdaptaHOPCatalogue',\n",
    "  'NewAdaptaHOPCatalogueFullyLongInts',\n",
    "  'AdaptaHOPCatalogue',\n",
    "  'HOPCatalogue',\n",
    "  'Gadget4SubfindHDFCatalogue',\n",
    "  'ArepoSubfindHDFCatalogue',\n",
    "  'TNGSubfindHDFCatalogue']"
   ]
  },
  {
   "cell_type": "code",
   "execution_count": 2,
   "id": "35806ffb-7da7-42ce-9296-22d45b8d2fbe",
   "metadata": {},
   "outputs": [],
   "source": [
    "file_path = '/home/takeichi/MAP/Code_Yuma_2025/Code/disrupted_traceCopy_mulsnapdebug.py'\n",
    "module_name = 'stdisrupt'\n",
    "spec = importlib.util.spec_from_file_location(module_name, file_path)\n",
    "\n",
    "stdisrupt = importlib.util.module_from_spec(spec)\n",
    "spec.loader.exec_module(stdisrupt)"
   ]
  },
  {
   "cell_type": "code",
   "execution_count": 4,
   "id": "745e036a-b2cb-4dc7-8879-3fb22895b441",
   "metadata": {},
   "outputs": [
    {
     "name": "stdout",
     "output_type": "stream",
     "text": [
      "Working on 4\n",
      "Starting full analysis for simulation 329, halo 4 from snapshot 776...\n",
      "Using only the following steps which contain ahf_dir and AHF catalogs:\n",
      "['000776', '000768', '000672', '000637', '000576', '000480', '000456', '000384', '000347', '000288', '000275', '000225', '000192', '000188', '000139', '000107', '000096', '000071']\n",
      "File will be saved as /data/Sims/h329.cosmo50PLK.3072g/h329.cosmo50PLK.3072gst5HbwK1BH/h329.cosmo50PLK.3072gst5HbwK1BH.000776/h329.cosmo50PLK.3072gst5HbwK1BH.000776.trace_back3_4.hdf5\n",
      "Starting step 000768\n",
      "Advanced step 000672\n"
     ]
    },
    {
     "name": "stderr",
     "output_type": "stream",
     "text": [
      "/home/takeichi/MAP/halo_trace/halo_trace/tracingCopy1.py:56: RuntimeWarning: invalid value encountered in divide\n",
      "  merit_f = mat**2/np.outer(Ni, Nj)\n"
     ]
    },
    {
     "name": "stdout",
     "output_type": "stream",
     "text": [
      "Finished\n",
      "\n",
      "Starting step 000672\n"
     ]
    },
    {
     "name": "stderr",
     "output_type": "stream",
     "text": [
      "/home/takeichi/MAP/halo_trace/halo_trace/tracingCopy1.py:56: RuntimeWarning: invalid value encountered in divide\n",
      "  merit_f = mat**2/np.outer(Ni, Nj)\n"
     ]
    },
    {
     "name": "stdout",
     "output_type": "stream",
     "text": [
      "Cross-checking step 000672\n",
      "\n",
      "Finished\n",
      "\n",
      "Starting step 000637\n",
      "Advanced step 000576\n"
     ]
    },
    {
     "name": "stderr",
     "output_type": "stream",
     "text": [
      "/home/takeichi/MAP/halo_trace/halo_trace/tracingCopy1.py:56: RuntimeWarning: invalid value encountered in divide\n",
      "  merit_f = mat**2/np.outer(Ni, Nj)\n"
     ]
    },
    {
     "name": "stdout",
     "output_type": "stream",
     "text": [
      "Finished\n",
      "\n",
      "Starting step 000576\n"
     ]
    },
    {
     "name": "stderr",
     "output_type": "stream",
     "text": [
      "/home/takeichi/MAP/halo_trace/halo_trace/tracingCopy1.py:56: RuntimeWarning: invalid value encountered in divide\n",
      "  merit_f = mat**2/np.outer(Ni, Nj)\n"
     ]
    },
    {
     "name": "stdout",
     "output_type": "stream",
     "text": [
      "Cross-checking step 000576\n",
      "\n",
      "Finished\n",
      "\n",
      "Starting step 000480\n",
      "Advanced step 000456\n"
     ]
    },
    {
     "name": "stderr",
     "output_type": "stream",
     "text": [
      "/home/takeichi/MAP/halo_trace/halo_trace/tracingCopy1.py:56: RuntimeWarning: invalid value encountered in divide\n",
      "  merit_f = mat**2/np.outer(Ni, Nj)\n"
     ]
    },
    {
     "name": "stdout",
     "output_type": "stream",
     "text": [
      "Finished\n",
      "\n",
      "Starting step 000456\n"
     ]
    },
    {
     "name": "stderr",
     "output_type": "stream",
     "text": [
      "/home/takeichi/MAP/halo_trace/halo_trace/tracingCopy1.py:56: RuntimeWarning: invalid value encountered in divide\n",
      "  merit_f = mat**2/np.outer(Ni, Nj)\n"
     ]
    },
    {
     "name": "stdout",
     "output_type": "stream",
     "text": [
      "Cross-checking step 000456\n",
      "\n",
      "Finished\n",
      "\n",
      "Starting step 000384\n",
      "Advanced step 000347\n"
     ]
    },
    {
     "name": "stderr",
     "output_type": "stream",
     "text": [
      "/home/takeichi/MAP/halo_trace/halo_trace/tracingCopy1.py:56: RuntimeWarning: invalid value encountered in divide\n",
      "  merit_f = mat**2/np.outer(Ni, Nj)\n"
     ]
    },
    {
     "name": "stdout",
     "output_type": "stream",
     "text": [
      "Finished\n",
      "\n",
      "Starting step 000347\n"
     ]
    },
    {
     "name": "stderr",
     "output_type": "stream",
     "text": [
      "/home/takeichi/MAP/halo_trace/halo_trace/tracingCopy1.py:56: RuntimeWarning: invalid value encountered in divide\n",
      "  merit_f = mat**2/np.outer(Ni, Nj)\n"
     ]
    },
    {
     "name": "stdout",
     "output_type": "stream",
     "text": [
      "Cross-checking step 000347\n",
      "\n",
      "Finished\n",
      "\n",
      "Starting step 000288\n",
      "Advanced step 000275\n"
     ]
    },
    {
     "name": "stderr",
     "output_type": "stream",
     "text": [
      "/home/takeichi/MAP/halo_trace/halo_trace/tracingCopy1.py:56: RuntimeWarning: invalid value encountered in divide\n",
      "  merit_f = mat**2/np.outer(Ni, Nj)\n"
     ]
    },
    {
     "name": "stdout",
     "output_type": "stream",
     "text": [
      "Finished\n",
      "\n",
      "Starting step 000275\n"
     ]
    },
    {
     "name": "stderr",
     "output_type": "stream",
     "text": [
      "/home/takeichi/MAP/halo_trace/halo_trace/tracingCopy1.py:56: RuntimeWarning: invalid value encountered in divide\n",
      "  merit_f = mat**2/np.outer(Ni, Nj)\n"
     ]
    },
    {
     "name": "stdout",
     "output_type": "stream",
     "text": [
      "Cross-checking step 000275\n",
      "\n",
      "Finished\n",
      "\n",
      "Starting step 000225\n",
      "Advanced step 000192\n"
     ]
    },
    {
     "name": "stderr",
     "output_type": "stream",
     "text": [
      "/home/takeichi/MAP/halo_trace/halo_trace/tracingCopy1.py:56: RuntimeWarning: invalid value encountered in divide\n",
      "  merit_f = mat**2/np.outer(Ni, Nj)\n"
     ]
    },
    {
     "name": "stdout",
     "output_type": "stream",
     "text": [
      "Finished\n",
      "\n",
      "Starting step 000192\n"
     ]
    },
    {
     "name": "stderr",
     "output_type": "stream",
     "text": [
      "/home/takeichi/MAP/halo_trace/halo_trace/tracingCopy1.py:56: RuntimeWarning: invalid value encountered in divide\n",
      "  merit_f = mat**2/np.outer(Ni, Nj)\n"
     ]
    },
    {
     "name": "stdout",
     "output_type": "stream",
     "text": [
      "Cross-checking step 000192\n",
      "\n",
      "Finished\n",
      "\n",
      "Starting step 000188\n",
      "Advanced step 000139\n"
     ]
    },
    {
     "name": "stderr",
     "output_type": "stream",
     "text": [
      "/home/takeichi/MAP/halo_trace/halo_trace/tracingCopy1.py:56: RuntimeWarning: invalid value encountered in divide\n",
      "  merit_f = mat**2/np.outer(Ni, Nj)\n"
     ]
    },
    {
     "name": "stdout",
     "output_type": "stream",
     "text": [
      "Finished\n",
      "\n",
      "Starting step 000139\n"
     ]
    },
    {
     "name": "stderr",
     "output_type": "stream",
     "text": [
      "/home/takeichi/MAP/halo_trace/halo_trace/tracingCopy1.py:56: RuntimeWarning: invalid value encountered in divide\n",
      "  merit_f = mat**2/np.outer(Ni, Nj)\n",
      "pynbody.halo : Unable to load AHF substructure file; continuing without. To expose the underlying problem as an exception, pass ignore_missing_substructure=False to the AHFCatalogue constructor\n"
     ]
    },
    {
     "name": "stdout",
     "output_type": "stream",
     "text": [
      "Cross-checking step 000139\n",
      "\n",
      "Finished\n",
      "\n",
      "Starting step 000107\n",
      "Advanced step 000096\n"
     ]
    },
    {
     "name": "stderr",
     "output_type": "stream",
     "text": [
      "/home/takeichi/MAP/halo_trace/halo_trace/tracingCopy1.py:56: RuntimeWarning: invalid value encountered in divide\n",
      "  merit_f = mat**2/np.outer(Ni, Nj)\n",
      "pynbody.halo : Unable to load AHF substructure file; continuing without. To expose the underlying problem as an exception, pass ignore_missing_substructure=False to the AHFCatalogue constructor\n",
      "pynbody.halo : Unable to load AHF substructure file; continuing without. To expose the underlying problem as an exception, pass ignore_missing_substructure=False to the AHFCatalogue constructor\n"
     ]
    },
    {
     "name": "stdout",
     "output_type": "stream",
     "text": [
      "Finished\n",
      "\n",
      "Starting step 000096\n"
     ]
    },
    {
     "name": "stderr",
     "output_type": "stream",
     "text": [
      "/home/takeichi/MAP/halo_trace/halo_trace/tracingCopy1.py:56: RuntimeWarning: invalid value encountered in divide\n",
      "  merit_f = mat**2/np.outer(Ni, Nj)\n",
      "pynbody.halo : Unable to load AHF substructure file; continuing without. To expose the underlying problem as an exception, pass ignore_missing_substructure=False to the AHFCatalogue constructor\n"
     ]
    },
    {
     "name": "stdout",
     "output_type": "stream",
     "text": [
      "Cross-checking step 000096\n",
      "\n",
      "Finished\n",
      "\n",
      "Starting step 000071\n"
     ]
    },
    {
     "name": "stderr",
     "output_type": "stream",
     "text": [
      "/home/takeichi/MAP/halo_trace/halo_trace/tracingCopy1.py:56: RuntimeWarning: invalid value encountered in divide\n",
      "  merit_f = mat**2/np.outer(Ni, Nj)\n",
      "/home/takeichi/MAP/halo_trace/halo_trace/tracingCopy1.py:234: FutureWarning: Setting an item of incompatible dtype is deprecated and will raise an error in a future version of pandas. Value '[nan]' has dtype incompatible with int64, please explicitly cast to a compatible dtype first.\n",
      "  df.loc[mask, step[-6:]] = df2.loc[mask, step[-6:]]\n",
      "/home/takeichi/MAP/halo_trace/halo_trace/tracingCopy1.py:248: PerformanceWarning: \n",
      "your performance may suffer as PyTables will pickle object types that it cannot\n",
      "map directly to c-types [inferred_type->floating,key->block1_values] [items->Index(['000071'], dtype='object')]\n",
      "\n",
      "  df.to_hdf(save_file, key='ids')\n",
      "/home/takeichi/MAP/Code_Yuma_2025/Code/disrupted_traceCopy_mulsnapdebug.py:75: PerformanceWarning: \n",
      "your performance may suffer as PyTables will pickle object types that it cannot\n",
      "map directly to c-types [inferred_type->floating,key->block1_values] [items->Index(['000071'], dtype='object')]\n",
      "\n",
      "  disruptedhaloid.to_hdf(disruptedhalo_trace_files, key='df', mode='w')\n"
     ]
    },
    {
     "name": "stdout",
     "output_type": "stream",
     "text": [
      "Cross-checking step 000071\n",
      "\n",
      "Finished\n",
      "\n",
      "--- finished tracing halo id of disrupted halo ---\n",
      "halos_grpNow=[4]\n",
      "looking to see if files exist for these halos\n",
      "no files found in /home/takeichi/MAP/Results/329/0007764/star_trace/00004/\n",
      "snapshots[0]='000347'\n",
      "working on halo:4\n",
      "halo index at current snapshot: 4\n",
      "data_sucessfully_saved\n",
      "wrote 5405 stars\n",
      "loading snapshot: 000384\n",
      "halo_indices[start+c+0]=np.int64(4)\n",
      "halo_indices[start+c+1]=np.int64(4)\n",
      "starting snapshot: 000347\n",
      "ending snapshot: 000384\n",
      "halo=4\n",
      "f.keys()=<KeysViewHDF5 ['000347']>\n",
      "last_iteration_key='000347' i.e particle data from last snapshot saved\n",
      "len(last_iord)=5405\n",
      "halo_index: 4\n",
      "len(h_i.s['iord'])=6954\n",
      "bridge succesfully made\n",
      "len(x_i)=5405\n",
      "len(h_ix)=1549\n",
      "stars being saved for halo 4 this snapshot: 6954\n",
      "data_sucessfully_saved\n",
      "moving on to next halo\n",
      "...\n",
      "loading snapshot: 000456\n",
      "halo_indices[start+c+0]=np.int64(4)\n",
      "halo_indices[start+c+1]=np.int64(7)\n",
      "starting snapshot: 000384\n",
      "ending snapshot: 000456\n",
      "halo=4\n",
      "f.keys()=<KeysViewHDF5 ['000347', '000384']>\n",
      "last_iteration_key='000384' i.e particle data from last snapshot saved\n",
      "len(last_iord)=6954\n",
      "halo_index: 7\n",
      "len(h_i.s['iord'])=8378\n",
      "bridge succesfully made\n",
      "len(x_i)=6954\n",
      "len(h_ix)=1424\n",
      "stars being saved for halo 7 this snapshot: 8378\n",
      "data_sucessfully_saved\n",
      "moving on to next halo\n",
      "...\n",
      "loading snapshot: 000480\n",
      "halo_indices[start+c+0]=np.int64(7)\n",
      "halo_indices[start+c+1]=np.int64(7)\n",
      "starting snapshot: 000456\n",
      "ending snapshot: 000480\n",
      "halo=4\n",
      "f.keys()=<KeysViewHDF5 ['000347', '000384', '000456']>\n",
      "last_iteration_key='000456' i.e particle data from last snapshot saved\n",
      "len(last_iord)=8378\n",
      "halo_index: 7\n",
      "len(h_i.s['iord'])=8946\n",
      "bridge succesfully made\n",
      "len(x_i)=8378\n",
      "len(h_ix)=568\n",
      "stars being saved for halo 7 this snapshot: 8946\n",
      "data_sucessfully_saved\n",
      "moving on to next halo\n",
      "...\n",
      "loading snapshot: 000576\n",
      "halo_indices[start+c+0]=np.int64(7)\n",
      "halo_indices[start+c+1]=np.int64(6)\n",
      "starting snapshot: 000480\n",
      "ending snapshot: 000576\n",
      "halo=4\n",
      "f.keys()=<KeysViewHDF5 ['000347', '000384', '000456', '000480']>\n",
      "last_iteration_key='000480' i.e particle data from last snapshot saved\n",
      "len(last_iord)=8946\n",
      "halo_index: 6\n",
      "len(h_i.s['iord'])=12549\n",
      "bridge succesfully made\n",
      "len(x_i)=8946\n",
      "len(h_ix)=3603\n",
      "stars being saved for halo 6 this snapshot: 12549\n",
      "data_sucessfully_saved\n",
      "moving on to next halo\n",
      "...\n",
      "loading snapshot: 000637\n",
      "halo_indices[start+c+0]=np.int64(6)\n",
      "halo_indices[start+c+1]=np.int64(5)\n",
      "starting snapshot: 000576\n",
      "ending snapshot: 000637\n",
      "halo=4\n",
      "f.keys()=<KeysViewHDF5 ['000347', '000384', '000456', '000480', '000576']>\n",
      "last_iteration_key='000576' i.e particle data from last snapshot saved\n",
      "len(last_iord)=12549\n",
      "halo_index: 5\n",
      "len(h_i.s['iord'])=13690\n",
      "bridge succesfully made\n",
      "len(x_i)=12549\n",
      "len(h_ix)=1141\n",
      "stars being saved for halo 5 this snapshot: 13690\n",
      "data_sucessfully_saved\n",
      "moving on to next halo\n",
      "...\n",
      "loading snapshot: 000672\n",
      "halo_indices[start+c+0]=np.int64(5)\n",
      "halo_indices[start+c+1]=np.int64(5)\n",
      "starting snapshot: 000637\n",
      "ending snapshot: 000672\n",
      "halo=4\n",
      "f.keys()=<KeysViewHDF5 ['000347', '000384', '000456', '000480', '000576', '000637']>\n",
      "last_iteration_key='000637' i.e particle data from last snapshot saved\n",
      "len(last_iord)=13690\n",
      "halo_index: 5\n",
      "len(h_i.s['iord'])=14520\n",
      "bridge succesfully made\n",
      "len(x_i)=13690\n",
      "len(h_ix)=830\n",
      "stars being saved for halo 5 this snapshot: 14520\n",
      "data_sucessfully_saved\n",
      "moving on to next halo\n",
      "...\n",
      "loading snapshot: 000768\n",
      "halo_indices[start+c+0]=np.int64(5)\n",
      "halo_indices[start+c+1]=np.int64(4)\n",
      "starting snapshot: 000672\n",
      "ending snapshot: 000768\n",
      "halo=4\n",
      "f.keys()=<KeysViewHDF5 ['000347', '000384', '000456', '000480', '000576', '000637', '000672']>\n",
      "last_iteration_key='000672' i.e particle data from last snapshot saved\n",
      "len(last_iord)=14520\n",
      "halo_index: 4\n",
      "len(h_i.s['iord'])=16661\n",
      "bridge succesfully made\n",
      "len(x_i)=14520\n",
      "len(h_ix)=2141\n",
      "stars being saved for halo 4 this snapshot: 16661\n",
      "data_sucessfully_saved\n",
      "moving on to next halo\n",
      "...\n",
      "loading snapshot: 000776\n",
      "halo_indices[start+c+0]=np.int64(4)\n",
      "halo_indices[start+c+1]=4\n",
      "starting snapshot: 000768\n",
      "ending snapshot: 000776\n",
      "halo=4\n",
      "f.keys()=<KeysViewHDF5 ['000347', '000384', '000456', '000480', '000576', '000637', '000672', '000768']>\n",
      "last_iteration_key='000768' i.e particle data from last snapshot saved\n",
      "len(last_iord)=16661\n",
      "halo_index: 4\n",
      "len(h_i.s['iord'])=17031\n",
      "bridge succesfully made\n",
      "len(x_i)=16661\n",
      "len(h_ix)=370\n",
      "stars being saved for halo 4 this snapshot: 17031\n",
      "data_sucessfully_saved\n",
      "moving on to next halo\n",
      "...\n",
      "saved for 000347\n",
      "saved for 000384\n",
      "saved for 000456\n",
      "saved for 000480\n",
      "saved for 000576\n",
      "saved for 000637\n",
      "saved for 000672\n",
      "saved for 000768\n",
      "saved for 000776\n",
      "Step 1 finished\n",
      "--- getting star particles form halo 4 in snapshot 776 ---\n",
      "In halo 4, we find 17031 star particles.\n",
      "\n",
      "--- start tracing stars through snapshots ---\n",
      "We look for snapshots ['000864', '000960', '000974', '001056', '001106', '001152', '001248', '001269', '001344', '001440', '001475', '001536', '001632', '001728', '001740', '001824', '001920', '002016', '002088', '002112', '002208', '002304', '002400', '002496', '002554', '002592', '002688', '002784', '002880', '002976', '003072', '003168', '003195', '003264', '003360', '003456', '003552', '003606', '003648', '003744', '003840', '003936', '004032', '004096']\n",
      "...processing: snapshot 864...\n",
      "--- Finished tracing in snapshot 000864 ---\n",
      "...processing: snapshot 960...\n",
      "--- Finished tracing in snapshot 000960 ---\n",
      "...processing: snapshot 974...\n",
      "--- Finished tracing in snapshot 000974 ---\n",
      "...processing: snapshot 1056...\n",
      "--- Finished tracing in snapshot 001056 ---\n",
      "...processing: snapshot 1106...\n",
      "--- Finished tracing in snapshot 001106 ---\n",
      "...processing: snapshot 1152...\n",
      "--- Finished tracing in snapshot 001152 ---\n",
      "...processing: snapshot 1248...\n",
      "--- Finished tracing in snapshot 001248 ---\n",
      "...processing: snapshot 1269...\n",
      "--- Finished tracing in snapshot 001269 ---\n",
      "...processing: snapshot 1344...\n",
      "--- Finished tracing in snapshot 001344 ---\n",
      "...processing: snapshot 1440...\n",
      "--- Finished tracing in snapshot 001440 ---\n",
      "...processing: snapshot 1475...\n",
      "--- Finished tracing in snapshot 001475 ---\n",
      "...processing: snapshot 1536...\n",
      "--- Finished tracing in snapshot 001536 ---\n",
      "...processing: snapshot 1632...\n",
      "--- Finished tracing in snapshot 001632 ---\n",
      "...processing: snapshot 1728...\n",
      "--- Finished tracing in snapshot 001728 ---\n",
      "...processing: snapshot 1740...\n",
      "--- Finished tracing in snapshot 001740 ---\n",
      "...processing: snapshot 1824...\n",
      "--- Finished tracing in snapshot 001824 ---\n",
      "...processing: snapshot 1920...\n",
      "--- Finished tracing in snapshot 001920 ---\n",
      "...processing: snapshot 2016...\n",
      "--- Finished tracing in snapshot 002016 ---\n",
      "...processing: snapshot 2088...\n",
      "--- Finished tracing in snapshot 002088 ---\n",
      "...processing: snapshot 2112...\n",
      "--- Finished tracing in snapshot 002112 ---\n",
      "...processing: snapshot 2208...\n",
      "--- Finished tracing in snapshot 002208 ---\n",
      "...processing: snapshot 2304...\n",
      "--- Finished tracing in snapshot 002304 ---\n",
      "...processing: snapshot 2400...\n",
      "--- Finished tracing in snapshot 002400 ---\n",
      "...processing: snapshot 2496...\n",
      "--- Finished tracing in snapshot 002496 ---\n",
      "...processing: snapshot 2554...\n",
      "--- Finished tracing in snapshot 002554 ---\n",
      "...processing: snapshot 2592...\n",
      "--- Finished tracing in snapshot 002592 ---\n",
      "...processing: snapshot 2688...\n",
      "--- Finished tracing in snapshot 002688 ---\n",
      "...processing: snapshot 2784...\n",
      "--- Finished tracing in snapshot 002784 ---\n",
      "...processing: snapshot 2880...\n",
      "--- Finished tracing in snapshot 002880 ---\n",
      "...processing: snapshot 2976...\n",
      "--- Finished tracing in snapshot 002976 ---\n",
      "...processing: snapshot 3072...\n",
      "--- Finished tracing in snapshot 003072 ---\n",
      "...processing: snapshot 3168...\n",
      "--- Finished tracing in snapshot 003168 ---\n",
      "...processing: snapshot 3195...\n",
      "--- Finished tracing in snapshot 003195 ---\n",
      "...processing: snapshot 3264...\n",
      "--- Finished tracing in snapshot 003264 ---\n",
      "...processing: snapshot 3360...\n",
      "--- Finished tracing in snapshot 003360 ---\n",
      "...processing: snapshot 3456...\n",
      "--- Finished tracing in snapshot 003456 ---\n",
      "...processing: snapshot 3552...\n",
      "--- Finished tracing in snapshot 003552 ---\n",
      "...processing: snapshot 3606...\n",
      "--- Finished tracing in snapshot 003606 ---\n",
      "...processing: snapshot 3648...\n",
      "--- Finished tracing in snapshot 003648 ---\n",
      "...processing: snapshot 3744...\n",
      "--- Finished tracing in snapshot 003744 ---\n",
      "...processing: snapshot 3840...\n",
      "--- Finished tracing in snapshot 003840 ---\n",
      "...processing: snapshot 3936...\n",
      "--- Finished tracing in snapshot 003936 ---\n",
      "...processing: snapshot 4032...\n",
      "--- Finished tracing in snapshot 004032 ---\n",
      "...processing: snapshot 4096...\n",
      "--- Finished tracing in snapshot 004096 ---\n",
      "\n",
      "--- Finished Tracing ---\n",
      "Success: Data is saved\n",
      "Step 2 finished\n",
      "Using only the following steps which contain ahf_dir and AHF catalogs:\n",
      "['004096', '004032', '003936', '003840', '003744', '003648', '003606', '003552', '003456', '003360', '003264', '003195', '003168', '003072', '002976', '002880', '002784', '002688', '002592', '002554', '002496', '002400', '002304', '002208', '002112', '002088', '002016', '001920', '001824', '001740', '001728', '001632', '001536', '001475', '001440', '001344', '001269', '001248', '001152', '001106', '001056', '000974', '000960', '000864', '000776', '000768', '000672', '000637', '000576', '000480', '000456', '000384', '000347', '000288', '000275', '000225', '000192', '000188', '000139', '000107', '000096', '000071']\n",
      "File exists: /data/Sims/h329.cosmo50PLK.3072g/h329.cosmo50PLK.3072gst5HbwK1BH/h329.cosmo50PLK.3072gst5HbwK1BH.004096/h329.cosmo50PLK.3072gst5HbwK1BH.004096.trace_back3_1.hdf5\n",
      "Aborting\n",
      "Using only the following steps which contain ahf_dir and AHF catalogs:\n",
      "['000776', '000768', '000672', '000637', '000576', '000480', '000456', '000384', '000347', '000288', '000275', '000225', '000192', '000188', '000139', '000107', '000096', '000071']\n",
      "File exists: /data/Sims/h329.cosmo50PLK.3072g/h329.cosmo50PLK.3072gst5HbwK1BH/h329.cosmo50PLK.3072gst5HbwK1BH.000776/h329.cosmo50PLK.3072gst5HbwK1BH.000776.trace_back3_4.hdf5\n",
      "Aborting\n"
     ]
    },
    {
     "name": "stderr",
     "output_type": "stream",
     "text": [
      "/home/takeichi/MAP/Code_Yuma_2025/Code/disrupted_traceCopy_mulsnapdebug.py:75: PerformanceWarning: \n",
      "your performance may suffer as PyTables will pickle object types that it cannot\n",
      "map directly to c-types [inferred_type->floating,key->block1_values] [items->Index(['000071'], dtype='object')]\n",
      "\n",
      "  disruptedhaloid.to_hdf(disruptedhalo_trace_files, key='df', mode='w')\n"
     ]
    },
    {
     "name": "stdout",
     "output_type": "stream",
     "text": [
      "Successfully loaded data from '/home/takeichi/MAP/Results/329/0007764/tracked_star_particles0007764.csv'.\n",
      "Successfully loaded data from '/home/takeichi/MAP/Results/329/0007764/halo_star_dist0007764.csv'.\n"
     ]
    },
    {
     "name": "stderr",
     "output_type": "stream",
     "text": [
      "pynbody.halo : Unable to load AHF substructure file; continuing without. To expose the underlying problem as an exception, pass ignore_missing_substructure=False to the AHFCatalogue constructor\n"
     ]
    },
    {
     "name": "stdout",
     "output_type": "stream",
     "text": [
      "\n",
      "limits determined:\n",
      "xlim: (-164.24163971373082, 116.18991512982278)\n",
      "ylim: (-148.77196391770713, 125.05288733509269)\n",
      "zlim: (-204.5150560680341, 186.40071395841082)\n",
      "save for 776\n",
      "save for 768\n",
      "save for 672\n",
      "save for 637\n",
      "save for 576\n",
      "save for 480\n",
      "save for 456\n",
      "save for 384\n",
      "save for 347\n",
      "...Processing snapshot 864...\n",
      "save for 864\n",
      "...Processing snapshot 960...\n",
      "save for 960\n",
      "...Processing snapshot 974...\n",
      "save for 974\n",
      "...Processing snapshot 1056...\n",
      "save for 1056\n",
      "...Processing snapshot 1106...\n",
      "save for 1106\n",
      "...Processing snapshot 1152...\n",
      "save for 1152\n",
      "...Processing snapshot 1248...\n",
      "save for 1248\n",
      "...Processing snapshot 1269...\n",
      "save for 1269\n",
      "...Processing snapshot 1344...\n",
      "save for 1344\n",
      "...Processing snapshot 1440...\n",
      "save for 1440\n",
      "...Processing snapshot 1475...\n",
      "save for 1475\n",
      "...Processing snapshot 1536...\n",
      "save for 1536\n",
      "...Processing snapshot 1632...\n",
      "save for 1632\n",
      "...Processing snapshot 1728...\n",
      "save for 1728\n",
      "...Processing snapshot 1740...\n",
      "save for 1740\n",
      "...Processing snapshot 1824...\n",
      "save for 1824\n",
      "...Processing snapshot 1920...\n",
      "save for 1920\n",
      "...Processing snapshot 2016...\n",
      "save for 2016\n",
      "...Processing snapshot 2088...\n",
      "save for 2088\n",
      "...Processing snapshot 2112...\n",
      "save for 2112\n",
      "...Processing snapshot 2208...\n",
      "save for 2208\n",
      "...Processing snapshot 2304...\n",
      "save for 2304\n",
      "...Processing snapshot 2400...\n",
      "save for 2400\n",
      "...Processing snapshot 2496...\n",
      "save for 2496\n",
      "...Processing snapshot 2554...\n",
      "save for 2554\n",
      "...Processing snapshot 2592...\n",
      "save for 2592\n",
      "...Processing snapshot 2688...\n",
      "save for 2688\n",
      "...Processing snapshot 2784...\n",
      "save for 2784\n",
      "...Processing snapshot 2880...\n",
      "save for 2880\n",
      "...Processing snapshot 2976...\n",
      "save for 2976\n",
      "...Processing snapshot 3072...\n",
      "save for 3072\n",
      "...Processing snapshot 3168...\n",
      "save for 3168\n",
      "...Processing snapshot 3195...\n",
      "save for 3195\n",
      "...Processing snapshot 3264...\n",
      "save for 3264\n",
      "...Processing snapshot 3360...\n",
      "save for 3360\n",
      "...Processing snapshot 3456...\n",
      "save for 3456\n",
      "...Processing snapshot 3552...\n",
      "save for 3552\n",
      "...Processing snapshot 3606...\n",
      "save for 3606\n",
      "...Processing snapshot 3648...\n",
      "save for 3648\n",
      "...Processing snapshot 3744...\n",
      "save for 3744\n",
      "...Processing snapshot 3840...\n",
      "save for 3840\n",
      "...Processing snapshot 3936...\n",
      "save for 3936\n",
      "...Processing snapshot 4032...\n",
      "save for 4032\n",
      "...Processing snapshot 4096...\n"
     ]
    },
    {
     "name": "stderr",
     "output_type": "stream",
     "text": [
      "pynbody.halo : Unable to load AHF substructure file; continuing without. To expose the underlying problem as an exception, pass ignore_missing_substructure=False to the AHFCatalogue constructor\n"
     ]
    },
    {
     "name": "stdout",
     "output_type": "stream",
     "text": [
      "save for 4096\n",
      "\n",
      "--- Plotting finished successfully! ---\n",
      "Step 3 finished\n"
     ]
    },
    {
     "name": "stderr",
     "output_type": "stream",
     "text": [
      "IMAGEIO FFMPEG_WRITER WARNING: input image is not divisible by macro_block_size=16, resizing from (1800, 900) to (1808, 912) to ensure video compatibility with most codecs and players. To prevent resizing, make your input image divisible by the macro_block_size or set the macro_block_size to 1 (risking incompatibility).\n"
     ]
    },
    {
     "name": "stdout",
     "output_type": "stream",
     "text": [
      "Found 53 image files. Starting video creation.\n",
      "Processing: Frame 53/53\n",
      "\n",
      "--- Video creation complete ---\n",
      "Video saved to '/home/takeichi/MAP/Results/329/0007764/star_distribution_movie0007764.mp4'.\n",
      "Step 4 finished\n",
      "\n",
      " Analysis complete for simulation 329, halo 4.\n",
      "Find your results in: /home/takeichi/MAP/Results/329/0007764\n"
     ]
    }
   ],
   "source": [
    "stdisrupt.run_star_trace_analysis(329, 776, [4])"
   ]
  },
  {
   "cell_type": "code",
   "execution_count": 6,
   "id": "2988b888-b825-43d8-82a1-6e020578fa44",
   "metadata": {},
   "outputs": [
    {
     "name": "stdout",
     "output_type": "stream",
     "text": [
      "Working on 2\n",
      "Starting full analysis for simulation 329, halo 2 from snapshot 3072...\n",
      "Using only the following steps which contain ahf_dir and AHF catalogs:\n",
      "['003072', '002976', '002880', '002784', '002688', '002592', '002554', '002496', '002400', '002304', '002208', '002112', '002088', '002016', '001920', '001824', '001740', '001728', '001632', '001536', '001475', '001440', '001344', '001269', '001248', '001152', '001106', '001056', '000974', '000960', '000864', '000776', '000768', '000672', '000637', '000576', '000480', '000456', '000384', '000347', '000288', '000275', '000225', '000192', '000188', '000139', '000107', '000096', '000071']\n",
      "File will be saved as /data/Sims/h329.cosmo50PLK.3072g/h329.cosmo50PLK.3072gst5HbwK1BH/h329.cosmo50PLK.3072gst5HbwK1BH.003072/h329.cosmo50PLK.3072gst5HbwK1BH.003072.trace_back3_2.hdf5\n",
      "Starting step 002976\n",
      "Advanced step 002880\n"
     ]
    },
    {
     "name": "stderr",
     "output_type": "stream",
     "text": [
      "/home/takeichi/MAP/halo_trace/halo_trace/tracingCopy1.py:56: RuntimeWarning: invalid value encountered in divide\n",
      "  merit_f = mat**2/np.outer(Ni, Nj)\n"
     ]
    },
    {
     "name": "stdout",
     "output_type": "stream",
     "text": [
      "Finished\n",
      "\n",
      "Starting step 002880\n"
     ]
    },
    {
     "name": "stderr",
     "output_type": "stream",
     "text": [
      "/home/takeichi/MAP/halo_trace/halo_trace/tracingCopy1.py:56: RuntimeWarning: invalid value encountered in divide\n",
      "  merit_f = mat**2/np.outer(Ni, Nj)\n"
     ]
    },
    {
     "name": "stdout",
     "output_type": "stream",
     "text": [
      "Cross-checking step 002880\n",
      "\n",
      "Finished\n",
      "\n",
      "Starting step 002784\n",
      "Advanced step 002688\n"
     ]
    },
    {
     "name": "stderr",
     "output_type": "stream",
     "text": [
      "/home/takeichi/MAP/halo_trace/halo_trace/tracingCopy1.py:56: RuntimeWarning: invalid value encountered in divide\n",
      "  merit_f = mat**2/np.outer(Ni, Nj)\n"
     ]
    },
    {
     "name": "stdout",
     "output_type": "stream",
     "text": [
      "Finished\n",
      "\n",
      "Starting step 002688\n"
     ]
    },
    {
     "name": "stderr",
     "output_type": "stream",
     "text": [
      "/home/takeichi/MAP/halo_trace/halo_trace/tracingCopy1.py:56: RuntimeWarning: invalid value encountered in divide\n",
      "  merit_f = mat**2/np.outer(Ni, Nj)\n"
     ]
    },
    {
     "name": "stdout",
     "output_type": "stream",
     "text": [
      "Cross-checking step 002688\n",
      "\n",
      "Finished\n",
      "\n",
      "Starting step 002592\n",
      "Advanced step 002554\n"
     ]
    },
    {
     "name": "stderr",
     "output_type": "stream",
     "text": [
      "/home/takeichi/MAP/halo_trace/halo_trace/tracingCopy1.py:56: RuntimeWarning: invalid value encountered in divide\n",
      "  merit_f = mat**2/np.outer(Ni, Nj)\n"
     ]
    },
    {
     "name": "stdout",
     "output_type": "stream",
     "text": [
      "Finished\n",
      "\n",
      "Starting step 002554\n",
      "Cross-checking step 002554\n",
      "\n",
      "Finished\n",
      "\n",
      "Starting step 002496\n",
      "Advanced step 002400\n"
     ]
    },
    {
     "name": "stderr",
     "output_type": "stream",
     "text": [
      "/home/takeichi/MAP/halo_trace/halo_trace/tracingCopy1.py:56: RuntimeWarning: invalid value encountered in divide\n",
      "  merit_f = mat**2/np.outer(Ni, Nj)\n"
     ]
    },
    {
     "name": "stdout",
     "output_type": "stream",
     "text": [
      "Finished\n",
      "\n",
      "Starting step 002400\n"
     ]
    },
    {
     "name": "stderr",
     "output_type": "stream",
     "text": [
      "/home/takeichi/MAP/halo_trace/halo_trace/tracingCopy1.py:56: RuntimeWarning: invalid value encountered in divide\n",
      "  merit_f = mat**2/np.outer(Ni, Nj)\n"
     ]
    },
    {
     "name": "stdout",
     "output_type": "stream",
     "text": [
      "Cross-checking step 002400\n",
      "\n",
      "Finished\n",
      "\n",
      "Starting step 002304\n",
      "Advanced step 002208\n"
     ]
    },
    {
     "name": "stderr",
     "output_type": "stream",
     "text": [
      "/home/takeichi/MAP/halo_trace/halo_trace/tracingCopy1.py:56: RuntimeWarning: invalid value encountered in divide\n",
      "  merit_f = mat**2/np.outer(Ni, Nj)\n"
     ]
    },
    {
     "name": "stdout",
     "output_type": "stream",
     "text": [
      "Finished\n",
      "\n",
      "Starting step 002208\n"
     ]
    },
    {
     "name": "stderr",
     "output_type": "stream",
     "text": [
      "/home/takeichi/MAP/halo_trace/halo_trace/tracingCopy1.py:56: RuntimeWarning: invalid value encountered in divide\n",
      "  merit_f = mat**2/np.outer(Ni, Nj)\n"
     ]
    },
    {
     "name": "stdout",
     "output_type": "stream",
     "text": [
      "Cross-checking step 002208\n",
      "\n",
      "Finished\n",
      "\n",
      "Starting step 002112\n",
      "Advanced step 002088\n"
     ]
    },
    {
     "name": "stderr",
     "output_type": "stream",
     "text": [
      "/home/takeichi/MAP/halo_trace/halo_trace/tracingCopy1.py:56: RuntimeWarning: invalid value encountered in divide\n",
      "  merit_f = mat**2/np.outer(Ni, Nj)\n"
     ]
    },
    {
     "name": "stdout",
     "output_type": "stream",
     "text": [
      "Finished\n",
      "\n",
      "Starting step 002088\n"
     ]
    },
    {
     "name": "stderr",
     "output_type": "stream",
     "text": [
      "/home/takeichi/MAP/halo_trace/halo_trace/tracingCopy1.py:56: RuntimeWarning: invalid value encountered in divide\n",
      "  merit_f = mat**2/np.outer(Ni, Nj)\n"
     ]
    },
    {
     "name": "stdout",
     "output_type": "stream",
     "text": [
      "Cross-checking step 002088\n",
      "\n",
      "Finished\n",
      "\n",
      "Starting step 002016\n",
      "Advanced step 001920\n"
     ]
    },
    {
     "name": "stderr",
     "output_type": "stream",
     "text": [
      "/home/takeichi/MAP/halo_trace/halo_trace/tracingCopy1.py:56: RuntimeWarning: invalid value encountered in divide\n",
      "  merit_f = mat**2/np.outer(Ni, Nj)\n"
     ]
    },
    {
     "name": "stdout",
     "output_type": "stream",
     "text": [
      "Finished\n",
      "\n",
      "Starting step 001920\n"
     ]
    },
    {
     "name": "stderr",
     "output_type": "stream",
     "text": [
      "/home/takeichi/MAP/halo_trace/halo_trace/tracingCopy1.py:56: RuntimeWarning: invalid value encountered in divide\n",
      "  merit_f = mat**2/np.outer(Ni, Nj)\n"
     ]
    },
    {
     "name": "stdout",
     "output_type": "stream",
     "text": [
      "Cross-checking step 001920\n",
      "\n",
      "Finished\n",
      "\n",
      "Starting step 001824\n",
      "Advanced step 001740\n"
     ]
    },
    {
     "name": "stderr",
     "output_type": "stream",
     "text": [
      "/home/takeichi/MAP/halo_trace/halo_trace/tracingCopy1.py:56: RuntimeWarning: invalid value encountered in divide\n",
      "  merit_f = mat**2/np.outer(Ni, Nj)\n"
     ]
    },
    {
     "name": "stdout",
     "output_type": "stream",
     "text": [
      "Finished\n",
      "\n",
      "Starting step 001740\n"
     ]
    },
    {
     "name": "stderr",
     "output_type": "stream",
     "text": [
      "/home/takeichi/MAP/halo_trace/halo_trace/tracingCopy1.py:56: RuntimeWarning: invalid value encountered in divide\n",
      "  merit_f = mat**2/np.outer(Ni, Nj)\n"
     ]
    },
    {
     "name": "stdout",
     "output_type": "stream",
     "text": [
      "Cross-checking step 001740\n",
      "\n",
      "Finished\n",
      "\n",
      "Starting step 001728\n",
      "Advanced step 001632\n"
     ]
    },
    {
     "name": "stderr",
     "output_type": "stream",
     "text": [
      "/home/takeichi/MAP/halo_trace/halo_trace/tracingCopy1.py:56: RuntimeWarning: invalid value encountered in divide\n",
      "  merit_f = mat**2/np.outer(Ni, Nj)\n"
     ]
    },
    {
     "name": "stdout",
     "output_type": "stream",
     "text": [
      "Finished\n",
      "\n",
      "Starting step 001632\n"
     ]
    },
    {
     "name": "stderr",
     "output_type": "stream",
     "text": [
      "/home/takeichi/MAP/halo_trace/halo_trace/tracingCopy1.py:56: RuntimeWarning: invalid value encountered in divide\n",
      "  merit_f = mat**2/np.outer(Ni, Nj)\n"
     ]
    },
    {
     "name": "stdout",
     "output_type": "stream",
     "text": [
      "Cross-checking step 001632\n",
      "\n",
      "Finished\n",
      "\n",
      "Starting step 001536\n",
      "Advanced step 001475\n"
     ]
    },
    {
     "name": "stderr",
     "output_type": "stream",
     "text": [
      "/home/takeichi/MAP/halo_trace/halo_trace/tracingCopy1.py:56: RuntimeWarning: invalid value encountered in divide\n",
      "  merit_f = mat**2/np.outer(Ni, Nj)\n"
     ]
    },
    {
     "name": "stdout",
     "output_type": "stream",
     "text": [
      "Finished\n",
      "\n",
      "Starting step 001475\n"
     ]
    },
    {
     "name": "stderr",
     "output_type": "stream",
     "text": [
      "/home/takeichi/MAP/halo_trace/halo_trace/tracingCopy1.py:56: RuntimeWarning: invalid value encountered in divide\n",
      "  merit_f = mat**2/np.outer(Ni, Nj)\n"
     ]
    },
    {
     "name": "stdout",
     "output_type": "stream",
     "text": [
      "Cross-checking step 001475\n",
      "\n",
      "Finished\n",
      "\n",
      "Starting step 001440\n",
      "Advanced step 001344\n"
     ]
    },
    {
     "name": "stderr",
     "output_type": "stream",
     "text": [
      "/home/takeichi/MAP/halo_trace/halo_trace/tracingCopy1.py:56: RuntimeWarning: invalid value encountered in divide\n",
      "  merit_f = mat**2/np.outer(Ni, Nj)\n"
     ]
    },
    {
     "name": "stdout",
     "output_type": "stream",
     "text": [
      "Finished\n",
      "\n",
      "Starting step 001344\n"
     ]
    },
    {
     "name": "stderr",
     "output_type": "stream",
     "text": [
      "/home/takeichi/MAP/halo_trace/halo_trace/tracingCopy1.py:56: RuntimeWarning: invalid value encountered in divide\n",
      "  merit_f = mat**2/np.outer(Ni, Nj)\n"
     ]
    },
    {
     "name": "stdout",
     "output_type": "stream",
     "text": [
      "Cross-checking step 001344\n",
      "\n",
      "Finished\n",
      "\n",
      "Starting step 001269\n",
      "Advanced step 001248\n"
     ]
    },
    {
     "name": "stderr",
     "output_type": "stream",
     "text": [
      "/home/takeichi/MAP/halo_trace/halo_trace/tracingCopy1.py:56: RuntimeWarning: invalid value encountered in divide\n",
      "  merit_f = mat**2/np.outer(Ni, Nj)\n"
     ]
    },
    {
     "name": "stdout",
     "output_type": "stream",
     "text": [
      "Finished\n",
      "\n",
      "Starting step 001248\n"
     ]
    },
    {
     "name": "stderr",
     "output_type": "stream",
     "text": [
      "/home/takeichi/MAP/halo_trace/halo_trace/tracingCopy1.py:56: RuntimeWarning: invalid value encountered in divide\n",
      "  merit_f = mat**2/np.outer(Ni, Nj)\n"
     ]
    },
    {
     "name": "stdout",
     "output_type": "stream",
     "text": [
      "Cross-checking step 001248\n",
      "\n",
      "Finished\n",
      "\n",
      "Starting step 001152\n",
      "Advanced step 001106\n"
     ]
    },
    {
     "name": "stderr",
     "output_type": "stream",
     "text": [
      "/home/takeichi/MAP/halo_trace/halo_trace/tracingCopy1.py:56: RuntimeWarning: invalid value encountered in divide\n",
      "  merit_f = mat**2/np.outer(Ni, Nj)\n"
     ]
    },
    {
     "name": "stdout",
     "output_type": "stream",
     "text": [
      "Finished\n",
      "\n",
      "Starting step 001106\n"
     ]
    },
    {
     "name": "stderr",
     "output_type": "stream",
     "text": [
      "/home/takeichi/MAP/halo_trace/halo_trace/tracingCopy1.py:56: RuntimeWarning: invalid value encountered in divide\n",
      "  merit_f = mat**2/np.outer(Ni, Nj)\n"
     ]
    },
    {
     "name": "stdout",
     "output_type": "stream",
     "text": [
      "Cross-checking step 001106\n",
      "\n",
      "Finished\n",
      "\n",
      "Starting step 001056\n",
      "Advanced step 000974\n"
     ]
    },
    {
     "name": "stderr",
     "output_type": "stream",
     "text": [
      "/home/takeichi/MAP/halo_trace/halo_trace/tracingCopy1.py:56: RuntimeWarning: invalid value encountered in divide\n",
      "  merit_f = mat**2/np.outer(Ni, Nj)\n"
     ]
    },
    {
     "name": "stdout",
     "output_type": "stream",
     "text": [
      "Finished\n",
      "\n",
      "Starting step 000974\n"
     ]
    },
    {
     "name": "stderr",
     "output_type": "stream",
     "text": [
      "/home/takeichi/MAP/halo_trace/halo_trace/tracingCopy1.py:56: RuntimeWarning: invalid value encountered in divide\n",
      "  merit_f = mat**2/np.outer(Ni, Nj)\n"
     ]
    },
    {
     "name": "stdout",
     "output_type": "stream",
     "text": [
      "Cross-checking step 000974\n",
      "\n",
      "Finished\n",
      "\n",
      "Starting step 000960\n",
      "Advanced step 000864\n"
     ]
    },
    {
     "name": "stderr",
     "output_type": "stream",
     "text": [
      "/home/takeichi/MAP/halo_trace/halo_trace/tracingCopy1.py:56: RuntimeWarning: invalid value encountered in divide\n",
      "  merit_f = mat**2/np.outer(Ni, Nj)\n"
     ]
    },
    {
     "name": "stdout",
     "output_type": "stream",
     "text": [
      "Finished\n",
      "\n",
      "Starting step 000864\n"
     ]
    },
    {
     "name": "stderr",
     "output_type": "stream",
     "text": [
      "/home/takeichi/MAP/halo_trace/halo_trace/tracingCopy1.py:56: RuntimeWarning: invalid value encountered in divide\n",
      "  merit_f = mat**2/np.outer(Ni, Nj)\n"
     ]
    },
    {
     "name": "stdout",
     "output_type": "stream",
     "text": [
      "Cross-checking step 000864\n",
      "\n",
      "Finished\n",
      "\n",
      "Starting step 000776\n",
      "Advanced step 000768\n"
     ]
    },
    {
     "name": "stderr",
     "output_type": "stream",
     "text": [
      "/home/takeichi/MAP/halo_trace/halo_trace/tracingCopy1.py:56: RuntimeWarning: invalid value encountered in divide\n",
      "  merit_f = mat**2/np.outer(Ni, Nj)\n"
     ]
    },
    {
     "name": "stdout",
     "output_type": "stream",
     "text": [
      "Finished\n",
      "\n",
      "Starting step 000768\n"
     ]
    },
    {
     "name": "stderr",
     "output_type": "stream",
     "text": [
      "/home/takeichi/MAP/halo_trace/halo_trace/tracingCopy1.py:56: RuntimeWarning: invalid value encountered in divide\n",
      "  merit_f = mat**2/np.outer(Ni, Nj)\n"
     ]
    },
    {
     "name": "stdout",
     "output_type": "stream",
     "text": [
      "Cross-checking step 000768\n",
      "\n",
      "Finished\n",
      "\n",
      "Starting step 000672\n",
      "Advanced step 000637\n"
     ]
    },
    {
     "name": "stderr",
     "output_type": "stream",
     "text": [
      "/home/takeichi/MAP/halo_trace/halo_trace/tracingCopy1.py:56: RuntimeWarning: invalid value encountered in divide\n",
      "  merit_f = mat**2/np.outer(Ni, Nj)\n"
     ]
    },
    {
     "name": "stdout",
     "output_type": "stream",
     "text": [
      "Finished\n",
      "\n",
      "Starting step 000637\n"
     ]
    },
    {
     "name": "stderr",
     "output_type": "stream",
     "text": [
      "/home/takeichi/MAP/halo_trace/halo_trace/tracingCopy1.py:56: RuntimeWarning: invalid value encountered in divide\n",
      "  merit_f = mat**2/np.outer(Ni, Nj)\n"
     ]
    },
    {
     "name": "stdout",
     "output_type": "stream",
     "text": [
      "Cross-checking step 000637\n",
      "\n",
      "Finished\n",
      "\n",
      "Starting step 000576\n",
      "Advanced step 000480\n"
     ]
    },
    {
     "name": "stderr",
     "output_type": "stream",
     "text": [
      "/home/takeichi/MAP/halo_trace/halo_trace/tracingCopy1.py:56: RuntimeWarning: invalid value encountered in divide\n",
      "  merit_f = mat**2/np.outer(Ni, Nj)\n"
     ]
    },
    {
     "name": "stdout",
     "output_type": "stream",
     "text": [
      "Finished\n",
      "\n",
      "Starting step 000480\n"
     ]
    },
    {
     "name": "stderr",
     "output_type": "stream",
     "text": [
      "/home/takeichi/MAP/halo_trace/halo_trace/tracingCopy1.py:56: RuntimeWarning: invalid value encountered in divide\n",
      "  merit_f = mat**2/np.outer(Ni, Nj)\n"
     ]
    },
    {
     "name": "stdout",
     "output_type": "stream",
     "text": [
      "Cross-checking step 000480\n",
      "\n",
      "Finished\n",
      "\n",
      "Starting step 000456\n",
      "Advanced step 000384\n"
     ]
    },
    {
     "name": "stderr",
     "output_type": "stream",
     "text": [
      "/home/takeichi/MAP/halo_trace/halo_trace/tracingCopy1.py:56: RuntimeWarning: invalid value encountered in divide\n",
      "  merit_f = mat**2/np.outer(Ni, Nj)\n"
     ]
    },
    {
     "name": "stdout",
     "output_type": "stream",
     "text": [
      "Finished\n",
      "\n",
      "Starting step 000384\n"
     ]
    },
    {
     "name": "stderr",
     "output_type": "stream",
     "text": [
      "/home/takeichi/MAP/halo_trace/halo_trace/tracingCopy1.py:56: RuntimeWarning: invalid value encountered in divide\n",
      "  merit_f = mat**2/np.outer(Ni, Nj)\n"
     ]
    },
    {
     "name": "stdout",
     "output_type": "stream",
     "text": [
      "Cross-checking step 000384\n",
      "\n",
      "Finished\n",
      "\n",
      "Starting step 000347\n",
      "Advanced step 000288\n"
     ]
    },
    {
     "name": "stderr",
     "output_type": "stream",
     "text": [
      "/home/takeichi/MAP/halo_trace/halo_trace/tracingCopy1.py:56: RuntimeWarning: invalid value encountered in divide\n",
      "  merit_f = mat**2/np.outer(Ni, Nj)\n"
     ]
    },
    {
     "name": "stdout",
     "output_type": "stream",
     "text": [
      "Finished\n",
      "\n",
      "Starting step 000288\n"
     ]
    },
    {
     "name": "stderr",
     "output_type": "stream",
     "text": [
      "/home/takeichi/MAP/halo_trace/halo_trace/tracingCopy1.py:56: RuntimeWarning: invalid value encountered in divide\n",
      "  merit_f = mat**2/np.outer(Ni, Nj)\n"
     ]
    },
    {
     "name": "stdout",
     "output_type": "stream",
     "text": [
      "Cross-checking step 000288\n",
      "\n",
      "Finished\n",
      "\n",
      "Starting step 000275\n",
      "Advanced step 000225\n"
     ]
    },
    {
     "name": "stderr",
     "output_type": "stream",
     "text": [
      "/home/takeichi/MAP/halo_trace/halo_trace/tracingCopy1.py:56: RuntimeWarning: invalid value encountered in divide\n",
      "  merit_f = mat**2/np.outer(Ni, Nj)\n"
     ]
    },
    {
     "name": "stdout",
     "output_type": "stream",
     "text": [
      "Finished\n",
      "\n",
      "Starting step 000225\n"
     ]
    },
    {
     "name": "stderr",
     "output_type": "stream",
     "text": [
      "/home/takeichi/MAP/halo_trace/halo_trace/tracingCopy1.py:56: RuntimeWarning: invalid value encountered in divide\n",
      "  merit_f = mat**2/np.outer(Ni, Nj)\n"
     ]
    },
    {
     "name": "stdout",
     "output_type": "stream",
     "text": [
      "Cross-checking step 000225\n",
      "\n",
      "Finished\n",
      "\n",
      "Starting step 000192\n",
      "Advanced step 000188\n"
     ]
    },
    {
     "name": "stderr",
     "output_type": "stream",
     "text": [
      "/home/takeichi/MAP/halo_trace/halo_trace/tracingCopy1.py:56: RuntimeWarning: invalid value encountered in divide\n",
      "  merit_f = mat**2/np.outer(Ni, Nj)\n"
     ]
    },
    {
     "name": "stdout",
     "output_type": "stream",
     "text": [
      "Finished\n",
      "\n",
      "Starting step 000188\n"
     ]
    },
    {
     "name": "stderr",
     "output_type": "stream",
     "text": [
      "/home/takeichi/MAP/halo_trace/halo_trace/tracingCopy1.py:56: RuntimeWarning: invalid value encountered in divide\n",
      "  merit_f = mat**2/np.outer(Ni, Nj)\n"
     ]
    },
    {
     "name": "stdout",
     "output_type": "stream",
     "text": [
      "Cross-checking step 000188\n",
      "\n",
      "Finished\n",
      "\n",
      "Starting step 000139\n",
      "Advanced step 000107\n"
     ]
    },
    {
     "name": "stderr",
     "output_type": "stream",
     "text": [
      "/home/takeichi/MAP/halo_trace/halo_trace/tracingCopy1.py:56: RuntimeWarning: invalid value encountered in divide\n",
      "  merit_f = mat**2/np.outer(Ni, Nj)\n",
      "pynbody.halo : Unable to load AHF substructure file; continuing without. To expose the underlying problem as an exception, pass ignore_missing_substructure=False to the AHFCatalogue constructor\n"
     ]
    },
    {
     "name": "stdout",
     "output_type": "stream",
     "text": [
      "Finished\n",
      "\n",
      "Starting step 000107\n"
     ]
    },
    {
     "name": "stderr",
     "output_type": "stream",
     "text": [
      "pynbody.halo : Unable to load AHF substructure file; continuing without. To expose the underlying problem as an exception, pass ignore_missing_substructure=False to the AHFCatalogue constructor\n",
      "/home/takeichi/MAP/halo_trace/halo_trace/tracingCopy1.py:56: RuntimeWarning: invalid value encountered in divide\n",
      "  merit_f = mat**2/np.outer(Ni, Nj)\n",
      "pynbody.halo : Unable to load AHF substructure file; continuing without. To expose the underlying problem as an exception, pass ignore_missing_substructure=False to the AHFCatalogue constructor\n"
     ]
    },
    {
     "name": "stdout",
     "output_type": "stream",
     "text": [
      "Cross-checking step 000107\n",
      "\n",
      "Finished\n",
      "\n",
      "Starting step 000096\n",
      "Advanced step 000071\n"
     ]
    },
    {
     "name": "stderr",
     "output_type": "stream",
     "text": [
      "/home/takeichi/MAP/halo_trace/halo_trace/tracingCopy1.py:56: RuntimeWarning: invalid value encountered in divide\n",
      "  merit_f = mat**2/np.outer(Ni, Nj)\n",
      "pynbody.halo : Unable to load AHF substructure file; continuing without. To expose the underlying problem as an exception, pass ignore_missing_substructure=False to the AHFCatalogue constructor\n",
      "pynbody.halo : Unable to load AHF substructure file; continuing without. To expose the underlying problem as an exception, pass ignore_missing_substructure=False to the AHFCatalogue constructor\n"
     ]
    },
    {
     "name": "stdout",
     "output_type": "stream",
     "text": [
      "Finished\n",
      "\n",
      "Starting step 000071\n"
     ]
    },
    {
     "name": "stderr",
     "output_type": "stream",
     "text": [
      "/home/takeichi/MAP/halo_trace/halo_trace/tracingCopy1.py:56: RuntimeWarning: invalid value encountered in divide\n",
      "  merit_f = mat**2/np.outer(Ni, Nj)\n"
     ]
    },
    {
     "name": "stdout",
     "output_type": "stream",
     "text": [
      "Cross-checking step 000071\n",
      "\n",
      "Finished\n",
      "\n",
      "--- finished tracing halo id of disrupted halo ---\n",
      "halos_grpNow=[2]\n",
      "looking to see if files exist for these halos\n",
      "no files found in /home/takeichi/MAP/Results/329/0030722/star_trace/00002/\n",
      "snapshots[0]='000347'\n",
      "working on halo:2\n",
      "halo index at current snapshot: 2\n",
      "data_sucessfully_saved\n",
      "wrote 7875 stars\n",
      "loading snapshot: 000384\n",
      "halo_indices[start+c+0]=np.int64(2)\n",
      "halo_indices[start+c+1]=np.int64(2)\n",
      "starting snapshot: 000347\n",
      "ending snapshot: 000384\n",
      "halo=2\n",
      "f.keys()=<KeysViewHDF5 ['000347']>\n",
      "last_iteration_key='000347' i.e particle data from last snapshot saved\n",
      "len(last_iord)=7875\n",
      "halo_index: 2\n",
      "len(h_i.s['iord'])=10490\n",
      "bridge succesfully made\n",
      "len(x_i)=7875\n",
      "len(h_ix)=2615\n",
      "stars being saved for halo 2 this snapshot: 10490\n",
      "data_sucessfully_saved\n",
      "moving on to next halo\n",
      "...\n",
      "loading snapshot: 000456\n",
      "halo_indices[start+c+0]=np.int64(2)\n",
      "halo_indices[start+c+1]=np.int64(2)\n",
      "starting snapshot: 000384\n",
      "ending snapshot: 000456\n",
      "halo=2\n",
      "f.keys()=<KeysViewHDF5 ['000347', '000384']>\n",
      "last_iteration_key='000384' i.e particle data from last snapshot saved\n",
      "len(last_iord)=10490\n",
      "halo_index: 2\n",
      "len(h_i.s['iord'])=25624\n",
      "bridge succesfully made\n",
      "len(x_i)=10490\n",
      "len(h_ix)=15134\n",
      "stars being saved for halo 2 this snapshot: 25624\n",
      "data_sucessfully_saved\n",
      "moving on to next halo\n",
      "...\n",
      "loading snapshot: 000480\n",
      "halo_indices[start+c+0]=np.int64(2)\n",
      "halo_indices[start+c+1]=np.int64(2)\n",
      "starting snapshot: 000456\n",
      "ending snapshot: 000480\n",
      "halo=2\n",
      "f.keys()=<KeysViewHDF5 ['000347', '000384', '000456']>\n",
      "last_iteration_key='000456' i.e particle data from last snapshot saved\n",
      "len(last_iord)=25624\n",
      "halo_index: 2\n",
      "len(h_i.s['iord'])=26737\n",
      "bridge succesfully made\n",
      "len(x_i)=25624\n",
      "len(h_ix)=1113\n",
      "stars being saved for halo 2 this snapshot: 26737\n",
      "data_sucessfully_saved\n",
      "moving on to next halo\n",
      "...\n",
      "loading snapshot: 000576\n",
      "halo_indices[start+c+0]=np.int64(2)\n",
      "halo_indices[start+c+1]=np.int64(2)\n",
      "starting snapshot: 000480\n",
      "ending snapshot: 000576\n",
      "halo=2\n",
      "f.keys()=<KeysViewHDF5 ['000347', '000384', '000456', '000480']>\n",
      "last_iteration_key='000480' i.e particle data from last snapshot saved\n",
      "len(last_iord)=26737\n",
      "halo_index: 2\n",
      "len(h_i.s['iord'])=48216\n",
      "bridge succesfully made\n",
      "len(x_i)=26737\n",
      "len(h_ix)=21479\n",
      "stars being saved for halo 2 this snapshot: 48216\n",
      "data_sucessfully_saved\n",
      "moving on to next halo\n",
      "...\n",
      "loading snapshot: 000637\n",
      "halo_indices[start+c+0]=np.int64(2)\n",
      "halo_indices[start+c+1]=np.int64(2)\n",
      "starting snapshot: 000576\n",
      "ending snapshot: 000637\n",
      "halo=2\n",
      "f.keys()=<KeysViewHDF5 ['000347', '000384', '000456', '000480', '000576']>\n",
      "last_iteration_key='000576' i.e particle data from last snapshot saved\n",
      "len(last_iord)=48216\n",
      "halo_index: 2\n",
      "len(h_i.s['iord'])=54306\n",
      "bridge succesfully made\n",
      "len(x_i)=48216\n",
      "len(h_ix)=6090\n",
      "stars being saved for halo 2 this snapshot: 54306\n",
      "data_sucessfully_saved\n",
      "moving on to next halo\n",
      "...\n",
      "loading snapshot: 000672\n",
      "halo_indices[start+c+0]=np.int64(2)\n",
      "halo_indices[start+c+1]=np.int64(2)\n",
      "starting snapshot: 000637\n",
      "ending snapshot: 000672\n",
      "halo=2\n",
      "f.keys()=<KeysViewHDF5 ['000347', '000384', '000456', '000480', '000576', '000637']>\n",
      "last_iteration_key='000637' i.e particle data from last snapshot saved\n",
      "len(last_iord)=54306\n",
      "halo_index: 2\n",
      "len(h_i.s['iord'])=58117\n",
      "bridge succesfully made\n",
      "len(x_i)=54306\n",
      "len(h_ix)=3811\n",
      "stars being saved for halo 2 this snapshot: 58117\n",
      "data_sucessfully_saved\n",
      "moving on to next halo\n",
      "...\n",
      "loading snapshot: 000768\n",
      "halo_indices[start+c+0]=np.int64(2)\n",
      "halo_indices[start+c+1]=np.int64(2)\n",
      "starting snapshot: 000672\n",
      "ending snapshot: 000768\n",
      "halo=2\n",
      "f.keys()=<KeysViewHDF5 ['000347', '000384', '000456', '000480', '000576', '000637', '000672']>\n",
      "last_iteration_key='000672' i.e particle data from last snapshot saved\n",
      "len(last_iord)=58117\n",
      "halo_index: 2\n",
      "len(h_i.s['iord'])=69498\n",
      "bridge succesfully made\n",
      "len(x_i)=58117\n",
      "len(h_ix)=11431\n",
      "stars being saved for halo 2 this snapshot: 69548\n",
      "data_sucessfully_saved\n",
      "moving on to next halo\n",
      "...\n",
      "loading snapshot: 000776\n",
      "halo_indices[start+c+0]=np.int64(2)\n",
      "halo_indices[start+c+1]=np.int64(2)\n",
      "starting snapshot: 000768\n",
      "ending snapshot: 000776\n",
      "halo=2\n",
      "f.keys()=<KeysViewHDF5 ['000347', '000384', '000456', '000480', '000576', '000637', '000672', '000768']>\n",
      "last_iteration_key='000768' i.e particle data from last snapshot saved\n",
      "len(last_iord)=69548\n",
      "halo_index: 2\n",
      "len(h_i.s['iord'])=71880\n",
      "bridge succesfully made\n",
      "len(x_i)=69548\n",
      "len(h_ix)=2382\n",
      "stars being saved for halo 2 this snapshot: 71930\n",
      "data_sucessfully_saved\n",
      "moving on to next halo\n",
      "...\n",
      "loading snapshot: 000864\n",
      "halo_indices[start+c+0]=np.int64(2)\n",
      "halo_indices[start+c+1]=np.int64(2)\n",
      "starting snapshot: 000776\n",
      "ending snapshot: 000864\n",
      "halo=2\n",
      "f.keys()=<KeysViewHDF5 ['000347', '000384', '000456', '000480', '000576', '000637', '000672', '000768', '000776']>\n",
      "last_iteration_key='000776' i.e particle data from last snapshot saved\n",
      "len(last_iord)=71930\n",
      "halo_index: 2\n",
      "len(h_i.s['iord'])=81552\n",
      "bridge succesfully made\n",
      "len(x_i)=71930\n",
      "len(h_ix)=9626\n",
      "stars being saved for halo 2 this snapshot: 81556\n",
      "data_sucessfully_saved\n",
      "moving on to next halo\n",
      "...\n",
      "loading snapshot: 000960\n",
      "halo_indices[start+c+0]=np.int64(2)\n",
      "halo_indices[start+c+1]=np.int64(2)\n",
      "starting snapshot: 000864\n",
      "ending snapshot: 000960\n",
      "halo=2\n",
      "f.keys()=<KeysViewHDF5 ['000347', '000384', '000456', '000480', '000576', '000637', '000672', '000768', '000776', '000864']>\n",
      "last_iteration_key='000864' i.e particle data from last snapshot saved\n",
      "len(last_iord)=81556\n",
      "halo_index: 2\n",
      "len(h_i.s['iord'])=89006\n",
      "bridge succesfully made\n",
      "len(x_i)=81556\n",
      "len(h_ix)=7450\n",
      "stars being saved for halo 2 this snapshot: 89006\n",
      "data_sucessfully_saved\n",
      "moving on to next halo\n",
      "...\n",
      "loading snapshot: 000974\n",
      "halo_indices[start+c+0]=np.int64(2)\n",
      "halo_indices[start+c+1]=np.int64(2)\n",
      "starting snapshot: 000960\n",
      "ending snapshot: 000974\n",
      "halo=2\n",
      "f.keys()=<KeysViewHDF5 ['000347', '000384', '000456', '000480', '000576', '000637', '000672', '000768', '000776', '000864', '000960']>\n",
      "last_iteration_key='000960' i.e particle data from last snapshot saved\n",
      "len(last_iord)=89006\n",
      "halo_index: 2\n",
      "len(h_i.s['iord'])=89505\n",
      "bridge succesfully made\n",
      "len(x_i)=89006\n",
      "len(h_ix)=499\n",
      "stars being saved for halo 2 this snapshot: 89505\n",
      "data_sucessfully_saved\n",
      "moving on to next halo\n",
      "...\n",
      "loading snapshot: 001056\n",
      "halo_indices[start+c+0]=np.int64(2)\n",
      "halo_indices[start+c+1]=np.int64(2)\n",
      "starting snapshot: 000974\n",
      "ending snapshot: 001056\n",
      "halo=2\n",
      "f.keys()=<KeysViewHDF5 ['000347', '000384', '000456', '000480', '000576', '000637', '000672', '000768', '000776', '000864', '000960', '000974']>\n",
      "last_iteration_key='000974' i.e particle data from last snapshot saved\n",
      "len(last_iord)=89505\n",
      "halo_index: 2\n",
      "len(h_i.s['iord'])=94423\n",
      "bridge succesfully made\n",
      "len(x_i)=89505\n",
      "len(h_ix)=4920\n",
      "stars being saved for halo 2 this snapshot: 94425\n",
      "data_sucessfully_saved\n",
      "moving on to next halo\n",
      "...\n",
      "loading snapshot: 001106\n",
      "halo_indices[start+c+0]=np.int64(2)\n",
      "halo_indices[start+c+1]=np.int64(2)\n",
      "starting snapshot: 001056\n",
      "ending snapshot: 001106\n",
      "halo=2\n",
      "f.keys()=<KeysViewHDF5 ['000347', '000384', '000456', '000480', '000576', '000637', '000672', '000768', '000776', '000864', '000960', '000974', '001056']>\n",
      "last_iteration_key='001056' i.e particle data from last snapshot saved\n",
      "len(last_iord)=94425\n",
      "halo_index: 2\n",
      "len(h_i.s['iord'])=96616\n",
      "bridge succesfully made\n",
      "len(x_i)=94425\n",
      "len(h_ix)=2194\n",
      "stars being saved for halo 2 this snapshot: 96619\n",
      "data_sucessfully_saved\n",
      "moving on to next halo\n",
      "...\n",
      "loading snapshot: 001152\n",
      "halo_indices[start+c+0]=np.int64(2)\n",
      "halo_indices[start+c+1]=np.int64(2)\n",
      "starting snapshot: 001106\n",
      "ending snapshot: 001152\n",
      "halo=2\n",
      "f.keys()=<KeysViewHDF5 ['000347', '000384', '000456', '000480', '000576', '000637', '000672', '000768', '000776', '000864', '000960', '000974', '001056', '001106']>\n",
      "last_iteration_key='001106' i.e particle data from last snapshot saved\n",
      "len(last_iord)=96619\n",
      "halo_index: 2\n",
      "len(h_i.s['iord'])=99642\n",
      "bridge succesfully made\n",
      "len(x_i)=96619\n",
      "len(h_ix)=3023\n",
      "stars being saved for halo 2 this snapshot: 99642\n",
      "data_sucessfully_saved\n",
      "moving on to next halo\n",
      "...\n",
      "loading snapshot: 001248\n",
      "halo_indices[start+c+0]=np.int64(2)\n",
      "halo_indices[start+c+1]=np.int64(2)\n",
      "starting snapshot: 001152\n",
      "ending snapshot: 001248\n",
      "halo=2\n",
      "f.keys()=<KeysViewHDF5 ['000347', '000384', '000456', '000480', '000576', '000637', '000672', '000768', '000776', '000864', '000960', '000974', '001056', '001106', '001152']>\n",
      "last_iteration_key='001152' i.e particle data from last snapshot saved\n",
      "len(last_iord)=99642\n",
      "halo_index: 2\n",
      "len(h_i.s['iord'])=107122\n",
      "bridge succesfully made\n",
      "len(x_i)=99642\n",
      "len(h_ix)=7507\n",
      "stars being saved for halo 2 this snapshot: 107149\n",
      "data_sucessfully_saved\n",
      "moving on to next halo\n",
      "...\n",
      "loading snapshot: 001269\n",
      "halo_indices[start+c+0]=np.int64(2)\n",
      "halo_indices[start+c+1]=np.int64(2)\n",
      "starting snapshot: 001248\n",
      "ending snapshot: 001269\n",
      "halo=2\n",
      "f.keys()=<KeysViewHDF5 ['000347', '000384', '000456', '000480', '000576', '000637', '000672', '000768', '000776', '000864', '000960', '000974', '001056', '001106', '001152', '001248']>\n",
      "last_iteration_key='001248' i.e particle data from last snapshot saved\n",
      "len(last_iord)=107149\n",
      "halo_index: 2\n",
      "len(h_i.s['iord'])=108935\n",
      "bridge succesfully made\n",
      "len(x_i)=107149\n",
      "len(h_ix)=1816\n",
      "stars being saved for halo 2 this snapshot: 108965\n",
      "data_sucessfully_saved\n",
      "moving on to next halo\n",
      "...\n",
      "loading snapshot: 001344\n",
      "halo_indices[start+c+0]=np.int64(2)\n",
      "halo_indices[start+c+1]=np.int64(2)\n",
      "starting snapshot: 001269\n",
      "ending snapshot: 001344\n",
      "halo=2\n",
      "f.keys()=<KeysViewHDF5 ['000347', '000384', '000456', '000480', '000576', '000637', '000672', '000768', '000776', '000864', '000960', '000974', '001056', '001106', '001152', '001248', '001269']>\n",
      "last_iteration_key='001269' i.e particle data from last snapshot saved\n",
      "len(last_iord)=108965\n",
      "halo_index: 2\n",
      "len(h_i.s['iord'])=111771\n",
      "bridge succesfully made\n",
      "len(x_i)=108965\n",
      "len(h_ix)=2838\n",
      "stars being saved for halo 2 this snapshot: 111803\n",
      "data_sucessfully_saved\n",
      "moving on to next halo\n",
      "...\n",
      "loading snapshot: 001440\n",
      "halo_indices[start+c+0]=np.int64(2)\n",
      "halo_indices[start+c+1]=np.int64(2)\n",
      "starting snapshot: 001344\n",
      "ending snapshot: 001440\n",
      "halo=2\n",
      "f.keys()=<KeysViewHDF5 ['000347', '000384', '000456', '000480', '000576', '000637', '000672', '000768', '000776', '000864', '000960', '000974', '001056', '001106', '001152', '001248', '001269', '001344']>\n",
      "last_iteration_key='001344' i.e particle data from last snapshot saved\n",
      "len(last_iord)=111803\n",
      "halo_index: 2\n",
      "len(h_i.s['iord'])=116762\n",
      "bridge succesfully made\n",
      "len(x_i)=111803\n",
      "len(h_ix)=4989\n",
      "stars being saved for halo 2 this snapshot: 116792\n",
      "data_sucessfully_saved\n",
      "moving on to next halo\n",
      "...\n",
      "loading snapshot: 001475\n",
      "halo_indices[start+c+0]=np.int64(2)\n",
      "halo_indices[start+c+1]=np.int64(2)\n",
      "starting snapshot: 001440\n",
      "ending snapshot: 001475\n",
      "halo=2\n",
      "f.keys()=<KeysViewHDF5 ['000347', '000384', '000456', '000480', '000576', '000637', '000672', '000768', '000776', '000864', '000960', '000974', '001056', '001106', '001152', '001248', '001269', '001344', '001440']>\n",
      "last_iteration_key='001440' i.e particle data from last snapshot saved\n",
      "len(last_iord)=116792\n",
      "halo_index: 2\n",
      "len(h_i.s['iord'])=118610\n",
      "bridge succesfully made\n",
      "len(x_i)=116792\n",
      "len(h_ix)=1852\n",
      "stars being saved for halo 2 this snapshot: 118644\n",
      "data_sucessfully_saved\n",
      "moving on to next halo\n",
      "...\n",
      "loading snapshot: 001536\n",
      "halo_indices[start+c+0]=np.int64(2)\n",
      "halo_indices[start+c+1]=np.int64(2)\n",
      "starting snapshot: 001475\n",
      "ending snapshot: 001536\n",
      "halo=2\n",
      "f.keys()=<KeysViewHDF5 ['000347', '000384', '000456', '000480', '000576', '000637', '000672', '000768', '000776', '000864', '000960', '000974', '001056', '001106', '001152', '001248', '001269', '001344', '001440', '001475']>\n",
      "last_iteration_key='001475' i.e particle data from last snapshot saved\n",
      "len(last_iord)=118644\n",
      "halo_index: 2\n",
      "len(h_i.s['iord'])=123243\n",
      "bridge succesfully made\n",
      "len(x_i)=118644\n",
      "len(h_ix)=4626\n",
      "stars being saved for halo 2 this snapshot: 123270\n",
      "data_sucessfully_saved\n",
      "moving on to next halo\n",
      "...\n",
      "loading snapshot: 001632\n",
      "halo_indices[start+c+0]=np.int64(2)\n",
      "halo_indices[start+c+1]=np.int64(2)\n",
      "starting snapshot: 001536\n",
      "ending snapshot: 001632\n",
      "halo=2\n",
      "f.keys()=<KeysViewHDF5 ['000347', '000384', '000456', '000480', '000576', '000637', '000672', '000768', '000776', '000864', '000960', '000974', '001056', '001106', '001152', '001248', '001269', '001344', '001440', '001475', '001536']>\n",
      "last_iteration_key='001536' i.e particle data from last snapshot saved\n",
      "len(last_iord)=123270\n",
      "halo_index: 2\n",
      "len(h_i.s['iord'])=131129\n",
      "bridge succesfully made\n",
      "len(x_i)=123270\n",
      "len(h_ix)=7886\n",
      "stars being saved for halo 2 this snapshot: 131156\n",
      "data_sucessfully_saved\n",
      "moving on to next halo\n",
      "...\n",
      "loading snapshot: 001728\n",
      "halo_indices[start+c+0]=np.int64(2)\n",
      "halo_indices[start+c+1]=np.int64(2)\n",
      "starting snapshot: 001632\n",
      "ending snapshot: 001728\n",
      "halo=2\n",
      "f.keys()=<KeysViewHDF5 ['000347', '000384', '000456', '000480', '000576', '000637', '000672', '000768', '000776', '000864', '000960', '000974', '001056', '001106', '001152', '001248', '001269', '001344', '001440', '001475', '001536', '001632']>\n",
      "last_iteration_key='001632' i.e particle data from last snapshot saved\n",
      "len(last_iord)=131156\n",
      "halo_index: 2\n",
      "len(h_i.s['iord'])=137811\n",
      "bridge succesfully made\n",
      "len(x_i)=131156\n",
      "len(h_ix)=6682\n",
      "stars being saved for halo 2 this snapshot: 137838\n",
      "data_sucessfully_saved\n",
      "moving on to next halo\n",
      "...\n",
      "loading snapshot: 001740\n",
      "halo_indices[start+c+0]=np.int64(2)\n",
      "halo_indices[start+c+1]=np.int64(2)\n",
      "starting snapshot: 001728\n",
      "ending snapshot: 001740\n",
      "halo=2\n",
      "f.keys()=<KeysViewHDF5 ['000347', '000384', '000456', '000480', '000576', '000637', '000672', '000768', '000776', '000864', '000960', '000974', '001056', '001106', '001152', '001248', '001269', '001344', '001440', '001475', '001536', '001632', '001728']>\n",
      "last_iteration_key='001728' i.e particle data from last snapshot saved\n",
      "len(last_iord)=137838\n",
      "halo_index: 2\n",
      "len(h_i.s['iord'])=138654\n",
      "bridge succesfully made\n",
      "len(x_i)=137838\n",
      "len(h_ix)=843\n",
      "stars being saved for halo 2 this snapshot: 138681\n",
      "data_sucessfully_saved\n",
      "moving on to next halo\n",
      "...\n",
      "loading snapshot: 001824\n",
      "halo_indices[start+c+0]=np.int64(2)\n",
      "halo_indices[start+c+1]=np.int64(2)\n",
      "starting snapshot: 001740\n",
      "ending snapshot: 001824\n",
      "halo=2\n",
      "f.keys()=<KeysViewHDF5 ['000347', '000384', '000456', '000480', '000576', '000637', '000672', '000768', '000776', '000864', '000960', '000974', '001056', '001106', '001152', '001248', '001269', '001344', '001440', '001475', '001536', '001632', '001728', '001740']>\n",
      "last_iteration_key='001740' i.e particle data from last snapshot saved\n",
      "len(last_iord)=138681\n",
      "halo_index: 2\n",
      "len(h_i.s['iord'])=143830\n",
      "bridge succesfully made\n",
      "len(x_i)=138681\n",
      "len(h_ix)=5176\n",
      "stars being saved for halo 2 this snapshot: 143857\n",
      "data_sucessfully_saved\n",
      "moving on to next halo\n",
      "...\n",
      "loading snapshot: 001920\n",
      "halo_indices[start+c+0]=np.int64(2)\n",
      "halo_indices[start+c+1]=np.int64(2)\n",
      "starting snapshot: 001824\n",
      "ending snapshot: 001920\n",
      "halo=2\n",
      "f.keys()=<KeysViewHDF5 ['000347', '000384', '000456', '000480', '000576', '000637', '000672', '000768', '000776', '000864', '000960', '000974', '001056', '001106', '001152', '001248', '001269', '001344', '001440', '001475', '001536', '001632', '001728', '001740', '001824']>\n",
      "last_iteration_key='001824' i.e particle data from last snapshot saved\n",
      "len(last_iord)=143857\n",
      "halo_index: 2\n",
      "len(h_i.s['iord'])=149449\n",
      "bridge succesfully made\n",
      "len(x_i)=143857\n",
      "len(h_ix)=5619\n",
      "stars being saved for halo 2 this snapshot: 149476\n",
      "data_sucessfully_saved\n",
      "moving on to next halo\n",
      "...\n",
      "loading snapshot: 002016\n",
      "halo_indices[start+c+0]=np.int64(2)\n",
      "halo_indices[start+c+1]=np.int64(2)\n",
      "starting snapshot: 001920\n",
      "ending snapshot: 002016\n",
      "halo=2\n",
      "f.keys()=<KeysViewHDF5 ['000347', '000384', '000456', '000480', '000576', '000637', '000672', '000768', '000776', '000864', '000960', '000974', '001056', '001106', '001152', '001248', '001269', '001344', '001440', '001475', '001536', '001632', '001728', '001740', '001824', '001920']>\n",
      "last_iteration_key='001920' i.e particle data from last snapshot saved\n",
      "len(last_iord)=149476\n",
      "halo_index: 2\n",
      "len(h_i.s['iord'])=155107\n",
      "bridge succesfully made\n",
      "len(x_i)=149476\n",
      "len(h_ix)=5660\n",
      "stars being saved for halo 2 this snapshot: 155136\n",
      "data_sucessfully_saved\n",
      "moving on to next halo\n",
      "...\n",
      "loading snapshot: 002088\n",
      "halo_indices[start+c+0]=np.int64(2)\n",
      "halo_indices[start+c+1]=np.int64(2)\n",
      "starting snapshot: 002016\n",
      "ending snapshot: 002088\n",
      "halo=2\n",
      "f.keys()=<KeysViewHDF5 ['000347', '000384', '000456', '000480', '000576', '000637', '000672', '000768', '000776', '000864', '000960', '000974', '001056', '001106', '001152', '001248', '001269', '001344', '001440', '001475', '001536', '001632', '001728', '001740', '001824', '001920', '002016']>\n",
      "last_iteration_key='002016' i.e particle data from last snapshot saved\n",
      "len(last_iord)=155136\n",
      "halo_index: 2\n",
      "len(h_i.s['iord'])=158572\n",
      "bridge succesfully made\n",
      "len(x_i)=155136\n",
      "len(h_ix)=3464\n",
      "stars being saved for halo 2 this snapshot: 158600\n",
      "data_sucessfully_saved\n",
      "moving on to next halo\n",
      "...\n",
      "loading snapshot: 002112\n",
      "halo_indices[start+c+0]=np.int64(2)\n",
      "halo_indices[start+c+1]=np.int64(2)\n",
      "starting snapshot: 002088\n",
      "ending snapshot: 002112\n",
      "halo=2\n",
      "f.keys()=<KeysViewHDF5 ['000347', '000384', '000456', '000480', '000576', '000637', '000672', '000768', '000776', '000864', '000960', '000974', '001056', '001106', '001152', '001248', '001269', '001344', '001440', '001475', '001536', '001632', '001728', '001740', '001824', '001920', '002016', '002088']>\n",
      "last_iteration_key='002088' i.e particle data from last snapshot saved\n",
      "len(last_iord)=158600\n",
      "halo_index: 2\n",
      "len(h_i.s['iord'])=159599\n",
      "bridge succesfully made\n",
      "len(x_i)=158600\n",
      "len(h_ix)=1031\n",
      "stars being saved for halo 2 this snapshot: 159631\n",
      "data_sucessfully_saved\n",
      "moving on to next halo\n",
      "...\n",
      "loading snapshot: 002208\n",
      "halo_indices[start+c+0]=np.int64(2)\n",
      "halo_indices[start+c+1]=np.int64(2)\n",
      "starting snapshot: 002112\n",
      "ending snapshot: 002208\n",
      "halo=2\n",
      "f.keys()=<KeysViewHDF5 ['000347', '000384', '000456', '000480', '000576', '000637', '000672', '000768', '000776', '000864', '000960', '000974', '001056', '001106', '001152', '001248', '001269', '001344', '001440', '001475', '001536', '001632', '001728', '001740', '001824', '001920', '002016', '002088', '002112']>\n",
      "last_iteration_key='002112' i.e particle data from last snapshot saved\n",
      "len(last_iord)=159631\n",
      "halo_index: 2\n",
      "len(h_i.s['iord'])=164415\n",
      "bridge succesfully made\n",
      "len(x_i)=159631\n",
      "len(h_ix)=4815\n",
      "stars being saved for halo 2 this snapshot: 164446\n",
      "data_sucessfully_saved\n",
      "moving on to next halo\n",
      "...\n",
      "loading snapshot: 002304\n",
      "halo_indices[start+c+0]=np.int64(2)\n",
      "halo_indices[start+c+1]=np.int64(2)\n",
      "starting snapshot: 002208\n",
      "ending snapshot: 002304\n",
      "halo=2\n",
      "f.keys()=<KeysViewHDF5 ['000347', '000384', '000456', '000480', '000576', '000637', '000672', '000768', '000776', '000864', '000960', '000974', '001056', '001106', '001152', '001248', '001269', '001344', '001440', '001475', '001536', '001632', '001728', '001740', '001824', '001920', '002016', '002088', '002112', '002208']>\n",
      "last_iteration_key='002208' i.e particle data from last snapshot saved\n",
      "len(last_iord)=164446\n",
      "halo_index: 2\n",
      "len(h_i.s['iord'])=169278\n",
      "bridge succesfully made\n",
      "len(x_i)=164446\n",
      "len(h_ix)=4863\n",
      "stars being saved for halo 2 this snapshot: 169309\n",
      "data_sucessfully_saved\n",
      "moving on to next halo\n",
      "...\n",
      "loading snapshot: 002400\n",
      "halo_indices[start+c+0]=np.int64(2)\n",
      "halo_indices[start+c+1]=np.int64(2)\n",
      "starting snapshot: 002304\n",
      "ending snapshot: 002400\n",
      "halo=2\n",
      "f.keys()=<KeysViewHDF5 ['000347', '000384', '000456', '000480', '000576', '000637', '000672', '000768', '000776', '000864', '000960', '000974', '001056', '001106', '001152', '001248', '001269', '001344', '001440', '001475', '001536', '001632', '001728', '001740', '001824', '001920', '002016', '002088', '002112', '002208', '002304']>\n",
      "last_iteration_key='002304' i.e particle data from last snapshot saved\n",
      "len(last_iord)=169309\n",
      "halo_index: 2\n",
      "len(h_i.s['iord'])=174369\n",
      "bridge succesfully made\n",
      "len(x_i)=169309\n",
      "len(h_ix)=5104\n",
      "stars being saved for halo 2 this snapshot: 174413\n",
      "data_sucessfully_saved\n",
      "moving on to next halo\n",
      "...\n",
      "loading snapshot: 002496\n",
      "halo_indices[start+c+0]=np.int64(2)\n",
      "halo_indices[start+c+1]=np.int64(2)\n",
      "starting snapshot: 002400\n",
      "ending snapshot: 002496\n",
      "halo=2\n",
      "f.keys()=<KeysViewHDF5 ['000347', '000384', '000456', '000480', '000576', '000637', '000672', '000768', '000776', '000864', '000960', '000974', '001056', '001106', '001152', '001248', '001269', '001344', '001440', '001475', '001536', '001632', '001728', '001740', '001824', '001920', '002016', '002088', '002112', '002208', '002304', '002400']>\n",
      "last_iteration_key='002400' i.e particle data from last snapshot saved\n",
      "len(last_iord)=174413\n",
      "halo_index: 2\n",
      "len(h_i.s['iord'])=179611\n",
      "bridge succesfully made\n",
      "len(x_i)=174413\n",
      "len(h_ix)=5306\n",
      "stars being saved for halo 2 this snapshot: 179719\n",
      "data_sucessfully_saved\n",
      "moving on to next halo\n",
      "...\n",
      "loading snapshot: 002554\n",
      "halo_indices[start+c+0]=np.int64(2)\n",
      "halo_indices[start+c+1]=np.int64(2)\n",
      "starting snapshot: 002496\n",
      "ending snapshot: 002554\n",
      "halo=2\n",
      "f.keys()=<KeysViewHDF5 ['000347', '000384', '000456', '000480', '000576', '000637', '000672', '000768', '000776', '000864', '000960', '000974', '001056', '001106', '001152', '001248', '001269', '001344', '001440', '001475', '001536', '001632', '001728', '001740', '001824', '001920', '002016', '002088', '002112', '002208', '002304', '002400', '002496']>\n",
      "last_iteration_key='002496' i.e particle data from last snapshot saved\n",
      "len(last_iord)=179719\n",
      "halo_index: 2\n",
      "len(h_i.s['iord'])=182606\n",
      "bridge succesfully made\n",
      "len(x_i)=179719\n",
      "len(h_ix)=5468\n",
      "stars being saved for halo 2 this snapshot: 185187\n",
      "data_sucessfully_saved\n",
      "moving on to next halo\n",
      "...\n",
      "loading snapshot: 002592\n",
      "halo_indices[start+c+0]=np.int64(2)\n",
      "halo_indices[start+c+1]=np.int64(2)\n",
      "starting snapshot: 002554\n",
      "ending snapshot: 002592\n",
      "halo=2\n",
      "f.keys()=<KeysViewHDF5 ['000347', '000384', '000456', '000480', '000576', '000637', '000672', '000768', '000776', '000864', '000960', '000974', '001056', '001106', '001152', '001248', '001269', '001344', '001440', '001475', '001536', '001632', '001728', '001740', '001824', '001920', '002016', '002088', '002112', '002208', '002304', '002400', '002496', '002554']>\n",
      "last_iteration_key='002554' i.e particle data from last snapshot saved\n",
      "len(last_iord)=185187\n",
      "halo_index: 2\n",
      "len(h_i.s['iord'])=186840\n",
      "bridge succesfully made\n",
      "len(x_i)=185187\n",
      "len(h_ix)=3620\n",
      "stars being saved for halo 2 this snapshot: 188807\n",
      "data_sucessfully_saved\n",
      "moving on to next halo\n",
      "...\n",
      "loading snapshot: 002688\n",
      "halo_indices[start+c+0]=np.int64(2)\n",
      "halo_indices[start+c+1]=np.int64(2)\n",
      "starting snapshot: 002592\n",
      "ending snapshot: 002688\n",
      "halo=2\n",
      "f.keys()=<KeysViewHDF5 ['000347', '000384', '000456', '000480', '000576', '000637', '000672', '000768', '000776', '000864', '000960', '000974', '001056', '001106', '001152', '001248', '001269', '001344', '001440', '001475', '001536', '001632', '001728', '001740', '001824', '001920', '002016', '002088', '002112', '002208', '002304', '002400', '002496', '002554', '002592']>\n",
      "last_iteration_key='002592' i.e particle data from last snapshot saved\n",
      "len(last_iord)=188807\n",
      "halo_index: 2\n",
      "len(h_i.s['iord'])=193825\n",
      "bridge succesfully made\n",
      "len(x_i)=188807\n",
      "len(h_ix)=7716\n",
      "stars being saved for halo 2 this snapshot: 196523\n",
      "data_sucessfully_saved\n",
      "moving on to next halo\n",
      "...\n",
      "loading snapshot: 002784\n",
      "halo_indices[start+c+0]=np.int64(2)\n",
      "halo_indices[start+c+1]=np.int64(2)\n",
      "starting snapshot: 002688\n",
      "ending snapshot: 002784\n",
      "halo=2\n",
      "f.keys()=<KeysViewHDF5 ['000347', '000384', '000456', '000480', '000576', '000637', '000672', '000768', '000776', '000864', '000960', '000974', '001056', '001106', '001152', '001248', '001269', '001344', '001440', '001475', '001536', '001632', '001728', '001740', '001824', '001920', '002016', '002088', '002112', '002208', '002304', '002400', '002496', '002554', '002592', '002688']>\n",
      "last_iteration_key='002688' i.e particle data from last snapshot saved\n",
      "len(last_iord)=196523\n",
      "halo_index: 2\n",
      "len(h_i.s['iord'])=198997\n",
      "bridge succesfully made\n",
      "len(x_i)=196523\n",
      "len(h_ix)=5687\n",
      "stars being saved for halo 2 this snapshot: 202210\n",
      "data_sucessfully_saved\n",
      "moving on to next halo\n",
      "...\n",
      "loading snapshot: 002880\n",
      "halo_indices[start+c+0]=np.int64(2)\n",
      "halo_indices[start+c+1]=np.int64(2)\n",
      "starting snapshot: 002784\n",
      "ending snapshot: 002880\n",
      "halo=2\n",
      "f.keys()=<KeysViewHDF5 ['000347', '000384', '000456', '000480', '000576', '000637', '000672', '000768', '000776', '000864', '000960', '000974', '001056', '001106', '001152', '001248', '001269', '001344', '001440', '001475', '001536', '001632', '001728', '001740', '001824', '001920', '002016', '002088', '002112', '002208', '002304', '002400', '002496', '002554', '002592', '002688', '002784']>\n",
      "last_iteration_key='002784' i.e particle data from last snapshot saved\n",
      "len(last_iord)=202210\n",
      "halo_index: 2\n",
      "len(h_i.s['iord'])=203834\n",
      "bridge succesfully made\n",
      "len(x_i)=202210\n",
      "len(h_ix)=5249\n",
      "stars being saved for halo 2 this snapshot: 207459\n",
      "data_sucessfully_saved\n",
      "moving on to next halo\n",
      "...\n",
      "loading snapshot: 002976\n",
      "halo_indices[start+c+0]=np.int64(2)\n",
      "halo_indices[start+c+1]=np.int64(2)\n",
      "starting snapshot: 002880\n",
      "ending snapshot: 002976\n",
      "halo=2\n",
      "f.keys()=<KeysViewHDF5 ['000347', '000384', '000456', '000480', '000576', '000637', '000672', '000768', '000776', '000864', '000960', '000974', '001056', '001106', '001152', '001248', '001269', '001344', '001440', '001475', '001536', '001632', '001728', '001740', '001824', '001920', '002016', '002088', '002112', '002208', '002304', '002400', '002496', '002554', '002592', '002688', '002784', '002880']>\n",
      "last_iteration_key='002880' i.e particle data from last snapshot saved\n",
      "len(last_iord)=207459\n",
      "halo_index: 2\n",
      "len(h_i.s['iord'])=208177\n",
      "bridge succesfully made\n",
      "len(x_i)=207459\n",
      "len(h_ix)=4718\n",
      "stars being saved for halo 2 this snapshot: 212177\n",
      "data_sucessfully_saved\n",
      "moving on to next halo\n",
      "...\n",
      "loading snapshot: 003072\n",
      "halo_indices[start+c+0]=np.int64(2)\n",
      "halo_indices[start+c+1]=np.int64(2)\n",
      "starting snapshot: 002976\n",
      "ending snapshot: 003072\n",
      "halo=2\n",
      "f.keys()=<KeysViewHDF5 ['000347', '000384', '000456', '000480', '000576', '000637', '000672', '000768', '000776', '000864', '000960', '000974', '001056', '001106', '001152', '001248', '001269', '001344', '001440', '001475', '001536', '001632', '001728', '001740', '001824', '001920', '002016', '002088', '002112', '002208', '002304', '002400', '002496', '002554', '002592', '002688', '002784', '002880', '002976']>\n",
      "last_iteration_key='002976' i.e particle data from last snapshot saved\n",
      "len(last_iord)=212177\n",
      "halo_index: 2\n",
      "len(h_i.s['iord'])=211194\n",
      "bridge succesfully made\n",
      "len(x_i)=212177\n",
      "len(h_ix)=3795\n",
      "stars being saved for halo 2 this snapshot: 215972\n",
      "data_sucessfully_saved\n",
      "moving on to next halo\n",
      "...\n",
      "saved for 000347\n",
      "saved for 000384\n",
      "saved for 000456\n",
      "saved for 000480\n",
      "saved for 000576\n",
      "saved for 000637\n",
      "saved for 000672\n",
      "saved for 000768\n",
      "saved for 000776\n",
      "saved for 000864\n",
      "saved for 000960\n",
      "saved for 000974\n",
      "saved for 001056\n",
      "saved for 001106\n",
      "saved for 001152\n",
      "saved for 001248\n",
      "saved for 001269\n",
      "saved for 001344\n",
      "saved for 001440\n",
      "saved for 001475\n",
      "saved for 001536\n",
      "saved for 001632\n",
      "saved for 001728\n",
      "saved for 001740\n",
      "saved for 001824\n",
      "saved for 001920\n",
      "saved for 002016\n",
      "saved for 002088\n",
      "saved for 002112\n",
      "saved for 002208\n",
      "saved for 002304\n",
      "saved for 002400\n",
      "saved for 002496\n",
      "saved for 002554\n",
      "saved for 002592\n",
      "saved for 002688\n",
      "saved for 002784\n",
      "saved for 002880\n",
      "saved for 002976\n",
      "saved for 003072\n",
      "Step 1 finished\n",
      "--- getting star particles form halo 2 in snapshot 3072 ---\n",
      "In halo 2, we find 211194 star particles.\n",
      "\n",
      "--- start tracing stars through snapshots ---\n",
      "We look for snapshots ['003168', '003195', '003264', '003360', '003456', '003552', '003606', '003648', '003744', '003840', '003936', '004032', '004096']\n",
      "...processing: snapshot 3168...\n",
      "--- Finished tracing in snapshot 003168 ---\n",
      "...processing: snapshot 3195...\n",
      "--- Finished tracing in snapshot 003195 ---\n",
      "...processing: snapshot 3264...\n",
      "--- Finished tracing in snapshot 003264 ---\n",
      "...processing: snapshot 3360...\n",
      "--- Finished tracing in snapshot 003360 ---\n",
      "...processing: snapshot 3456...\n",
      "--- Finished tracing in snapshot 003456 ---\n",
      "...processing: snapshot 3552...\n",
      "--- Finished tracing in snapshot 003552 ---\n",
      "...processing: snapshot 3606...\n",
      "--- Finished tracing in snapshot 003606 ---\n",
      "...processing: snapshot 3648...\n",
      "--- Finished tracing in snapshot 003648 ---\n",
      "...processing: snapshot 3744...\n",
      "--- Finished tracing in snapshot 003744 ---\n",
      "...processing: snapshot 3840...\n",
      "--- Finished tracing in snapshot 003840 ---\n",
      "...processing: snapshot 3936...\n",
      "--- Finished tracing in snapshot 003936 ---\n",
      "...processing: snapshot 4032...\n",
      "--- Finished tracing in snapshot 004032 ---\n",
      "...processing: snapshot 4096...\n",
      "--- Finished tracing in snapshot 004096 ---\n",
      "\n",
      "--- Finished Tracing ---\n",
      "Success: Data is saved\n",
      "Step 2 finished\n",
      "Using only the following steps which contain ahf_dir and AHF catalogs:\n",
      "['004096', '004032', '003936', '003840', '003744', '003648', '003606', '003552', '003456', '003360', '003264', '003195', '003168', '003072', '002976', '002880', '002784', '002688', '002592', '002554', '002496', '002400', '002304', '002208', '002112', '002088', '002016', '001920', '001824', '001740', '001728', '001632', '001536', '001475', '001440', '001344', '001269', '001248', '001152', '001106', '001056', '000974', '000960', '000864', '000776', '000768', '000672', '000637', '000576', '000480', '000456', '000384', '000347', '000288', '000275', '000225', '000192', '000188', '000139', '000107', '000096', '000071']\n",
      "File exists: /data/Sims/h329.cosmo50PLK.3072g/h329.cosmo50PLK.3072gst5HbwK1BH/h329.cosmo50PLK.3072gst5HbwK1BH.004096/h329.cosmo50PLK.3072gst5HbwK1BH.004096.trace_back3_1.hdf5\n",
      "Aborting\n",
      "Using only the following steps which contain ahf_dir and AHF catalogs:\n",
      "['003072', '002976', '002880', '002784', '002688', '002592', '002554', '002496', '002400', '002304', '002208', '002112', '002088', '002016', '001920', '001824', '001740', '001728', '001632', '001536', '001475', '001440', '001344', '001269', '001248', '001152', '001106', '001056', '000974', '000960', '000864', '000776', '000768', '000672', '000637', '000576', '000480', '000456', '000384', '000347', '000288', '000275', '000225', '000192', '000188', '000139', '000107', '000096', '000071']\n",
      "File exists: /data/Sims/h329.cosmo50PLK.3072g/h329.cosmo50PLK.3072gst5HbwK1BH/h329.cosmo50PLK.3072gst5HbwK1BH.003072/h329.cosmo50PLK.3072gst5HbwK1BH.003072.trace_back3_2.hdf5\n",
      "Aborting\n",
      "Successfully loaded data from '/home/takeichi/MAP/Results/329/0030722/tracked_star_particles0030722.csv'.\n",
      "Successfully loaded data from '/home/takeichi/MAP/Results/329/0030722/halo_star_dist0030722.csv'.\n"
     ]
    },
    {
     "name": "stderr",
     "output_type": "stream",
     "text": [
      "pynbody.halo : Unable to load AHF substructure file; continuing without. To expose the underlying problem as an exception, pass ignore_missing_substructure=False to the AHFCatalogue constructor\n"
     ]
    },
    {
     "name": "stdout",
     "output_type": "stream",
     "text": [
      "\n",
      "limits determined:\n",
      "xlim: (np.float64(-363.30627209062754), np.float64(603.0556185348509))\n",
      "ylim: (-191.6845569210364, 243.05569303366843)\n",
      "zlim: (np.float64(-512.2690064894255), np.float64(425.84404705094676))\n",
      "save for 3072\n",
      "save for 2976\n",
      "save for 2880\n",
      "save for 2784\n",
      "save for 2688\n",
      "save for 2592\n",
      "save for 2554\n",
      "save for 2496\n",
      "save for 2400\n",
      "save for 2304\n",
      "save for 2208\n",
      "save for 2112\n",
      "save for 2088\n",
      "save for 2016\n",
      "save for 1920\n",
      "save for 1824\n",
      "save for 1740\n",
      "save for 1728\n",
      "save for 1632\n",
      "save for 1536\n",
      "save for 1475\n",
      "save for 1440\n",
      "save for 1344\n",
      "save for 1269\n",
      "save for 1248\n",
      "save for 1152\n",
      "save for 1106\n",
      "save for 1056\n",
      "save for 974\n",
      "save for 960\n",
      "save for 864\n",
      "save for 776\n",
      "save for 768\n",
      "save for 672\n",
      "save for 637\n",
      "save for 576\n",
      "save for 480\n",
      "save for 456\n",
      "save for 384\n",
      "save for 347\n",
      "...Processing snapshot 3168...\n",
      "save for 3168\n",
      "...Processing snapshot 3195...\n",
      "save for 3195\n",
      "...Processing snapshot 3264...\n",
      "save for 3264\n",
      "...Processing snapshot 3360...\n",
      "save for 3360\n",
      "...Processing snapshot 3456...\n",
      "save for 3456\n",
      "...Processing snapshot 3552...\n",
      "save for 3552\n",
      "...Processing snapshot 3606...\n",
      "save for 3606\n",
      "...Processing snapshot 3648...\n",
      "save for 3648\n",
      "...Processing snapshot 3744...\n",
      "save for 3744\n",
      "...Processing snapshot 3840...\n",
      "save for 3840\n",
      "...Processing snapshot 3936...\n",
      "save for 3936\n",
      "...Processing snapshot 4032...\n",
      "save for 4032\n",
      "...Processing snapshot 4096...\n"
     ]
    },
    {
     "name": "stderr",
     "output_type": "stream",
     "text": [
      "pynbody.halo : Unable to load AHF substructure file; continuing without. To expose the underlying problem as an exception, pass ignore_missing_substructure=False to the AHFCatalogue constructor\n",
      "IMAGEIO FFMPEG_WRITER WARNING: input image is not divisible by macro_block_size=16, resizing from (1800, 900) to (1808, 912) to ensure video compatibility with most codecs and players. To prevent resizing, make your input image divisible by the macro_block_size or set the macro_block_size to 1 (risking incompatibility).\n"
     ]
    },
    {
     "name": "stdout",
     "output_type": "stream",
     "text": [
      "save for 4096\n",
      "\n",
      "--- Plotting finished successfully! ---\n",
      "Step 3 finished\n",
      "Found 53 image files. Starting video creation.\n",
      "Processing: Frame 53/53\n",
      "\n",
      "--- Video creation complete ---\n",
      "Video saved to '/home/takeichi/MAP/Results/329/0030722/star_distribution_movie0030722.mp4'.\n",
      "Step 4 finished\n",
      "\n",
      " Analysis complete for simulation 329, halo 2.\n",
      "Find your results in: /home/takeichi/MAP/Results/329/0030722\n"
     ]
    }
   ],
   "source": [
    "stdisrupt.run_star_trace_analysis(329, 3072, [2])"
   ]
  },
  {
   "cell_type": "code",
   "execution_count": null,
   "id": "3f32886d-63ce-4d7d-8543-561fa24f4752",
   "metadata": {},
   "outputs": [],
   "source": []
  }
 ],
 "metadata": {
  "kernelspec": {
   "display_name": "Python 3 (ipykernel)",
   "language": "python",
   "name": "python3"
  },
  "language_info": {
   "codemirror_mode": {
    "name": "ipython",
    "version": 3
   },
   "file_extension": ".py",
   "mimetype": "text/x-python",
   "name": "python",
   "nbconvert_exporter": "python",
   "pygments_lexer": "ipython3",
   "version": "3.11.13"
  }
 },
 "nbformat": 4,
 "nbformat_minor": 5
}
